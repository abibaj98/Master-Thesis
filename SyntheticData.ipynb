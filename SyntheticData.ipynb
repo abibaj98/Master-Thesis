{
 "cells": [
  {
   "cell_type": "code",
   "execution_count": 1,
   "outputs": [],
   "source": [
    "# import packages\n",
    "import numpy as np\n",
    "from numpy import random\n",
    "from scipy import stats\n",
    "import jsonpickle"
   ],
   "metadata": {
    "collapsed": false,
    "ExecuteTime": {
     "end_time": "2023-08-22T13:00:23.361066Z",
     "start_time": "2023-08-22T13:00:23.354768Z"
    }
   }
  },
  {
   "cell_type": "code",
   "execution_count": 2,
   "outputs": [],
   "source": [
    "# import r packages if needed\n",
    "import rpy2.robjects as robjects\n",
    "import rpy2.robjects.packages as rpackages\n",
    "\n",
    "rpackages.importr(\"mpower\")\n",
    "mpower = robjects.packages.importr(\"mpower\")\n",
    "\n",
    "# set seed from R\n",
    "r = robjects.r\n",
    "set_seed = r('set.seed')"
   ],
   "metadata": {
    "collapsed": false,
    "ExecuteTime": {
     "end_time": "2023-08-22T13:00:24.488161Z",
     "start_time": "2023-08-22T13:00:23.810345Z"
    }
   }
  },
  {
   "cell_type": "code",
   "execution_count": 3,
   "outputs": [],
   "source": [
    "# seeds for reproducibility --> NICE :-D\n",
    "set_seed(8953)  # R seed\n",
    "random.seed(8953)  # numpy seed"
   ],
   "metadata": {
    "collapsed": false,
    "ExecuteTime": {
     "end_time": "2023-08-22T13:00:24.491578Z",
     "start_time": "2023-08-22T13:00:24.488792Z"
    }
   }
  },
  {
   "cell_type": "code",
   "execution_count": 4,
   "outputs": [],
   "source": [
    "# SIMULATION SETUP: \"META-PARAMETERS\"\n",
    "sample_sizes = [500, 1000, 2000, 5000]  # TODO: change to [500, 1000, 2000, 5000]\n",
    "test_size = 1000\n",
    "n_runs = 10  # TODO: change to 10/30\n",
    "n_setups = 18  # TODO: change to 28 ???\n",
    "d = 20  # TODO: change to 20"
   ],
   "metadata": {
    "collapsed": false,
    "ExecuteTime": {
     "end_time": "2023-08-22T13:00:25.270704Z",
     "start_time": "2023-08-22T13:00:25.266003Z"
    }
   }
  },
  {
   "cell_type": "code",
   "execution_count": 5,
   "outputs": [],
   "source": [
    "# all settings of e_x\n",
    "exs = [0.5, 0.5, 0.5, 0.5, 0.5, 0.5,  # settings 1-6\n",
    "       0.1, 0.1, 0.1, 0.1, 0.1, 0.1,  # settings 7-12\n",
    "       'beta_balanced', 'beta_balanced', 'beta_balanced', 'beta_balanced', 'beta_balanced',\n",
    "       'beta_balanced']  # settings 13-18"
   ],
   "metadata": {
    "collapsed": false,
    "ExecuteTime": {
     "end_time": "2023-08-22T13:00:26.892601Z",
     "start_time": "2023-08-22T13:00:26.887238Z"
    }
   }
  },
  {
   "cell_type": "code",
   "execution_count": 6,
   "outputs": [],
   "source": [
    "# all settings of mu_0 / mu_1\n",
    "cates = ['linear_response', 'non_linear_response', 'indicator_cate', 'linear_cate', 'complex_linear_cate',\n",
    "         'complex_non_linear_cate'] * 3  # TODO: change to 3!!!"
   ],
   "metadata": {
    "collapsed": false,
    "ExecuteTime": {
     "end_time": "2023-08-22T13:00:27.950604Z",
     "start_time": "2023-08-22T13:00:27.944833Z"
    }
   }
  },
  {
   "cell_type": "code",
   "execution_count": 7,
   "outputs": [],
   "source": [
    "def linear_response(x, betas):\n",
    "    # train set\n",
    "    mu_0 = np.matmul(x, betas) + 5 * x[:, 0]\n",
    "    mu_1 = mu_0\n",
    "    tau = np.zeros(len(x))\n",
    "\n",
    "    return mu_0, mu_1, tau"
   ],
   "metadata": {
    "collapsed": false,
    "ExecuteTime": {
     "end_time": "2023-08-22T13:00:28.085Z",
     "start_time": "2023-08-22T13:00:28.080288Z"
    }
   }
  },
  {
   "cell_type": "code",
   "execution_count": 8,
   "outputs": [],
   "source": [
    "# TODO: multiple by 5/10!\n",
    "def non_linear_response(x):\n",
    "    # train set\n",
    "    mu_0 = 5 * np.arctan(x[:, 0]) * np.arctan(x[:, 1])\n",
    "    mu_1 = mu_0\n",
    "    tau = np.zeros(len(x))\n",
    "\n",
    "    return mu_0, mu_1, tau"
   ],
   "metadata": {
    "collapsed": false,
    "ExecuteTime": {
     "end_time": "2023-08-22T13:00:28.213851Z",
     "start_time": "2023-08-22T13:00:28.210357Z"
    }
   }
  },
  {
   "cell_type": "code",
   "execution_count": 9,
   "outputs": [],
   "source": [
    "def simple_indicator_cate(x, betas):\n",
    "    # train set\n",
    "    mu_0 = np.matmul(x, betas) + 5 * np.int8(x[:, 0] > 0.5)\n",
    "    mu_1 = mu_0 + 8 * np.int8(x[:, 1] > 0.1)\n",
    "    tau = mu_1 - mu_0\n",
    "\n",
    "    return mu_0, mu_1, tau\n"
   ],
   "metadata": {
    "collapsed": false,
    "ExecuteTime": {
     "end_time": "2023-08-22T13:00:28.663152Z",
     "start_time": "2023-08-22T13:00:28.660340Z"
    }
   }
  },
  {
   "cell_type": "code",
   "execution_count": 10,
   "outputs": [],
   "source": [
    "def simple_linear_cate(x, betas):\n",
    "    # train set\n",
    "    mu_0 = np.matmul(x, betas) + 5 * x[:, 0]\n",
    "    mu_1 = mu_0 + 4 * x[:, 1] + 2  # TODO: what to change?\n",
    "    tau = mu_1 - mu_0\n",
    "\n",
    "    return mu_0, mu_1, tau"
   ],
   "metadata": {
    "collapsed": false,
    "ExecuteTime": {
     "end_time": "2023-08-22T13:00:28.784115Z",
     "start_time": "2023-08-22T13:00:28.781114Z"
    }
   }
  },
  {
   "cell_type": "code",
   "execution_count": 11,
   "outputs": [],
   "source": [
    "def complex_linear_cate(x, betas_0, betas_1):\n",
    "    # train set\n",
    "    mu_0 = np.matmul(x, betas_0) + 5 * x[:, 0]\n",
    "    mu_1 = np.matmul(x, betas_1) + 5 * x[:, 0]\n",
    "    tau = mu_1 - mu_0\n",
    "\n",
    "    return mu_0, mu_1, tau"
   ],
   "metadata": {
    "collapsed": false,
    "ExecuteTime": {
     "end_time": "2023-08-22T13:00:28.959151Z",
     "start_time": "2023-08-22T13:00:28.956146Z"
    }
   }
  },
  {
   "cell_type": "code",
   "execution_count": 12,
   "outputs": [],
   "source": [
    "# TODO: also multiple to scale outcomes\n",
    "# helper function varsigma\n",
    "def varsigma_function(x):\n",
    "    return 2 / (1 + np.exp(-12 * x))  # TODO: before, it was (x - 0,5).\n",
    "\n",
    "\n",
    "def complex_non_linear_cate(x):\n",
    "    # train set\n",
    "    mu_0 = -4 / 2 * varsigma_function(x[:, 0]) * varsigma_function(x[:, 1])\n",
    "    mu_1 = 4 / 2 * varsigma_function(x[:, 0]) * varsigma_function(x[:, 1])\n",
    "    tau = mu_1 - mu_0\n",
    "\n",
    "    return mu_0, mu_1, tau\n"
   ],
   "metadata": {
    "collapsed": false,
    "ExecuteTime": {
     "end_time": "2023-08-22T13:00:29.112708Z",
     "start_time": "2023-08-22T13:00:29.109940Z"
    }
   }
  },
  {
   "cell_type": "code",
   "execution_count": 13,
   "outputs": [],
   "source": [
    "# helper function\n",
    "def beta_balanced(x):\n",
    "    beta_dist = stats.beta(a=2, b=4)  # set beta distribution\n",
    "\n",
    "    # train\n",
    "    cdf_values = stats.norm.cdf(x[:, 0])\n",
    "    beta_values = beta_dist.pdf(cdf_values)  # calculate pdf values for x1\n",
    "    e_x = 1 / 4 * (1 + beta_values)\n",
    "\n",
    "    return e_x\n"
   ],
   "metadata": {
    "collapsed": false,
    "ExecuteTime": {
     "end_time": "2023-08-22T13:00:29.562959Z",
     "start_time": "2023-08-22T13:00:29.560387Z"
    }
   }
  },
  {
   "cell_type": "code",
   "execution_count": 25,
   "outputs": [],
   "source": [
    "mean_X = np.zeros(d)\n",
    "cov_X = np.array(mpower.cvine(d=d, alpha=2, beta=5))\n",
    "X = random.multivariate_normal(mean=mean_X, cov=cov_X, size=1000, check_valid='warn')\n"
   ],
   "metadata": {
    "collapsed": false,
    "ExecuteTime": {
     "end_time": "2023-08-22T13:05:18.084537Z",
     "start_time": "2023-08-22T13:05:17.991531Z"
    }
   }
  },
  {
   "cell_type": "code",
   "execution_count": 26,
   "outputs": [
    {
     "data": {
      "text/plain": "array([[ 1.        , -0.17926742, -0.18057796, -0.25210279, -0.53958952,\n        -0.14421383, -0.66921598, -0.54357017, -0.24768811, -0.8346477 ,\n        -0.6539114 , -0.37117647, -0.46377518,  0.36780179, -0.61991742,\n        -0.26463648,  0.21988815, -0.33245588,  0.01431814, -0.73005548],\n       [-0.17926742,  1.        , -0.78102906, -0.70803124, -0.65190981,\n        -0.57152946, -0.33849812, -0.2791357 , -0.70146409,  0.07464598,\n        -0.18406538, -0.60382024,  0.14452151, -0.45208512, -0.21724958,\n        -0.1548258 , -0.18135583, -0.13330537, -0.7198524 ,  0.19315562],\n       [-0.18057796, -0.78102906,  1.        ,  0.76478082,  0.70131493,\n         0.34554073,  0.38110227,  0.12089723,  0.61575085,  0.05551625,\n         0.55532167,  0.44064418, -0.14670786,  0.10383955,  0.3145191 ,\n         0.15264743, -0.28783436, -0.03976055,  0.38970126, -0.22639847],\n       [-0.25210279, -0.70803124,  0.76478082,  1.        ,  0.68413864,\n         0.10593694,  0.32683538,  0.18119373,  0.32923891,  0.21844113,\n         0.51024587,  0.34305825, -0.20788774, -0.1272479 ,  0.17414659,\n        -0.15975374, -0.37907734, -0.17411642,  0.19088411, -0.01132287],\n       [-0.53958952, -0.65190981,  0.70131493,  0.68413864,  1.        ,\n         0.48319596,  0.60209475,  0.54370816,  0.67689439,  0.40664381,\n         0.47545957,  0.66616738,  0.15068798,  0.05521699,  0.45036837,\n         0.38094682,  0.04442548,  0.3521806 ,  0.56438296,  0.31436108],\n       [-0.14421383, -0.57152946,  0.34554073,  0.10593694,  0.48319596,\n         1.        ,  0.72761084,  0.67159954,  0.8782888 ,  0.3354472 ,\n         0.08828938,  0.85066804,  0.38967796,  0.61735627,  0.62994618,\n         0.53193118,  0.57512531,  0.60505615,  0.88263347,  0.34089756],\n       [-0.66921598, -0.33849812,  0.38110227,  0.32683538,  0.60209475,\n         0.72761084,  1.        ,  0.8484677 ,  0.74273047,  0.76555091,\n         0.53001616,  0.82261007,  0.51046082,  0.25553817,  0.90835317,\n         0.36185053,  0.23859252,  0.60634917,  0.6070933 ,  0.64239026],\n       [-0.54357017, -0.2791357 ,  0.12089723,  0.18119373,  0.54370816,\n         0.67159954,  0.8484677 ,  1.        ,  0.67475782,  0.72533492,\n         0.36497813,  0.85225894,  0.55874208,  0.29705993,  0.78833236,\n         0.3880876 ,  0.5183393 ,  0.77462305,  0.66997192,  0.77850209],\n       [-0.24768811, -0.70146409,  0.61575085,  0.32923891,  0.67689439,\n         0.8782888 ,  0.74273047,  0.67475782,  1.        ,  0.36512676,\n         0.39382855,  0.89617552,  0.36585019,  0.49164991,  0.71944405,\n         0.55283451,  0.44732736,  0.63168196,  0.87553186,  0.30761968],\n       [-0.8346477 ,  0.07464598,  0.05551625,  0.21844113,  0.40664381,\n         0.3354472 ,  0.76555091,  0.72533492,  0.36512676,  1.        ,\n         0.68032285,  0.60967758,  0.70933684, -0.04598231,  0.77212582,\n         0.33710743,  0.10672048,  0.58746432,  0.21585498,  0.89494471],\n       [-0.6539114 , -0.18406538,  0.55532167,  0.51024587,  0.47545957,\n         0.08828938,  0.53001616,  0.36497813,  0.39382855,  0.68032285,\n         1.        ,  0.48026711,  0.48865675, -0.0744054 ,  0.6723787 ,\n         0.33226667, -0.22992826,  0.32532445,  0.11588687,  0.43309108],\n       [-0.37117647, -0.60382024,  0.44064418,  0.34305825,  0.66616738,\n         0.85066804,  0.82261007,  0.85225894,  0.89617552,  0.60967758,\n         0.48026711,  1.        ,  0.60312103,  0.54894817,  0.81405949,\n         0.61478693,  0.54842733,  0.77206882,  0.87964167,  0.58070524],\n       [-0.46377518,  0.14452151, -0.14670786, -0.20788774,  0.15068798,\n         0.38967796,  0.51046082,  0.55874208,  0.36585019,  0.70933684,\n         0.48865675,  0.60312103,  1.        ,  0.38616189,  0.71354708,\n         0.71805629,  0.52369706,  0.78647389,  0.39190463,  0.7692784 ],\n       [ 0.36780179, -0.45208512,  0.10383955, -0.1272479 ,  0.05521699,\n         0.61735627,  0.25553817,  0.29705993,  0.49164991, -0.04598231,\n        -0.0744054 ,  0.54894817,  0.38616189,  1.        ,  0.35321363,\n         0.55912061,  0.7527363 ,  0.54468941,  0.7612901 ,  0.00414632],\n       [-0.61991742, -0.21724958,  0.3145191 ,  0.17414659,  0.45036837,\n         0.62994618,  0.90835317,  0.78833236,  0.71944405,  0.77212582,\n         0.6723787 ,  0.81405949,  0.71354708,  0.35321363,  1.        ,\n         0.5516186 ,  0.33476598,  0.73262459,  0.57504299,  0.67520241],\n       [-0.26463648, -0.1548258 ,  0.15264743, -0.15975374,  0.38094682,\n         0.53193118,  0.36185053,  0.3880876 ,  0.55283451,  0.33710743,\n         0.33226667,  0.61478693,  0.71805629,  0.55912061,  0.5516186 ,\n         1.        ,  0.57418072,  0.7400561 ,  0.58942908,  0.43083786],\n       [ 0.21988815, -0.18135583, -0.28783436, -0.37907734,  0.04442548,\n         0.57512531,  0.23859252,  0.5183393 ,  0.44732736,  0.10672048,\n        -0.22992826,  0.54842733,  0.52369706,  0.7527363 ,  0.33476598,\n         0.57418072,  1.        ,  0.78807005,  0.73258905,  0.36513289],\n       [-0.33245588, -0.13330537, -0.03976055, -0.17411642,  0.3521806 ,\n         0.60505615,  0.60634917,  0.77462305,  0.63168196,  0.58746432,\n         0.32532445,  0.77206882,  0.78647389,  0.54468941,  0.73262459,\n         0.7400561 ,  0.78807005,  1.        ,  0.71529827,  0.69602725],\n       [ 0.01431814, -0.7198524 ,  0.38970126,  0.19088411,  0.56438296,\n         0.88263347,  0.6070933 ,  0.66997192,  0.87553186,  0.21585498,\n         0.11588687,  0.87964167,  0.39190463,  0.7612901 ,  0.57504299,\n         0.58942908,  0.73258905,  0.71529827,  1.        ,  0.25888586],\n       [-0.73005548,  0.19315562, -0.22639847, -0.01132287,  0.31436108,\n         0.34089756,  0.64239026,  0.77850209,  0.30761968,  0.89494471,\n         0.43309108,  0.58070524,  0.7692784 ,  0.00414632,  0.67520241,\n         0.43083786,  0.36513289,  0.69602725,  0.25888586,  1.        ]])"
     },
     "execution_count": 26,
     "metadata": {},
     "output_type": "execute_result"
    }
   ],
   "source": [
    "cov_X"
   ],
   "metadata": {
    "collapsed": false,
    "ExecuteTime": {
     "end_time": "2023-08-22T13:05:19.537902Z",
     "start_time": "2023-08-22T13:05:19.532139Z"
    }
   }
  },
  {
   "cell_type": "code",
   "execution_count": null,
   "outputs": [],
   "source": [
    "#  TODO: TRIPLE CHECK THIS FUNCTION, IT IS VERY IMPORTANT\n",
    "\n",
    "def generate_data(mean, cov, ex, cate, sample_size, betas, betas_0, betas_1):\n",
    "    # 1: generated x_train & x_test\n",
    "    x_train = random.multivariate_normal(mean=mean, cov=cov, size=sample_size, check_valid='warn')\n",
    "\n",
    "    # 2: generate e_0 & e_0\n",
    "    e_0 = random.normal(loc=0.0, scale=1.0, size=sample_size)\n",
    "    e_1 = random.normal(loc=0.0, scale=1.0, size=sample_size)\n",
    "\n",
    "    # 3: compute mu_0 & mu_1 --> based on setting\n",
    "    if cate == 'linear_response':  # 'linear response' setting (no treatment effect)\n",
    "        mu_0, mu_1, tau = linear_response(x_train, betas)\n",
    "\n",
    "    elif cate == 'non_linear_response':  # 'non-linear response' setting (no treatment effect)\n",
    "        mu_0, mu_1, tau = non_linear_response(x_train)\n",
    "\n",
    "    elif cate == 'indicator_cate':  # 'simple indicator cate' setting\n",
    "        mu_0, mu_1, tau = simple_indicator_cate(x_train, betas)\n",
    "\n",
    "    elif cate == 'linear_cate':  # 'simple linear cate' setting\n",
    "        mu_0, mu_1, tau = simple_linear_cate(x_train, betas)\n",
    "\n",
    "    elif cate == 'complex_linear_cate':  # 'complex linear cate' setting\n",
    "        mu_0, mu_1, tau = complex_linear_cate(x_train, betas_0, betas_1)\n",
    "\n",
    "    elif cate == 'complex_non_linear_cate':  # 'complex non-linear cate' setting\n",
    "        mu_0, mu_1, tau = complex_non_linear_cate(x_train)\n",
    "\n",
    "    else:\n",
    "        raise NotImplementedError('No or incorrect setting specified.')\n",
    "\n",
    "    # 4: create potential outcomes y_0 & y_1\n",
    "    # train\n",
    "    y_0 = mu_0 + e_0\n",
    "    y_1 = mu_1 + e_1\n",
    "\n",
    "    # 5: Set propensity score e_x --> based on setting\n",
    "    if isinstance(ex, float or int):\n",
    "        e_x = ex\n",
    "\n",
    "    elif ex == 'beta_balanced':\n",
    "        e_x = beta_balanced(x_train)\n",
    "\n",
    "    else:\n",
    "        raise NotImplementedError('Propensity method not or incorrectly specified.')\n",
    "\n",
    "    # 6: Generate treatment assignment W\n",
    "    w = random.binomial(size=sample_size, n=1, p=e_x)\n",
    "\n",
    "    # 7: Create observed variables Y\n",
    "    y = np.multiply(w, y_1) + np.multiply(np.ones(sample_size) - w, y_0)\n",
    "\n",
    "    # 8: Create train & test sets\n",
    "    dataset = np.concatenate(\n",
    "        (np.reshape(y, (sample_size, 1)), x_train, np.reshape(w, (sample_size, 1)), np.reshape(tau, (sample_size, 1))),\n",
    "        axis=1)\n",
    "\n",
    "    # 9: Return both sets\n",
    "    return dataset\n"
   ],
   "metadata": {
    "collapsed": false
   }
  },
  {
   "cell_type": "code",
   "execution_count": null,
   "outputs": [],
   "source": [
    "# create empty list to save all datasets NEW\n",
    "data = []\n",
    "for i in range(n_setups):\n",
    "    data.append([])\n",
    "\n",
    "for i in range(n_setups):\n",
    "    for r in range(n_runs):\n",
    "        data[i].append([])\n",
    "\n",
    "for i in range(n_setups):\n",
    "    for r in range(n_runs):\n",
    "        for s in range(4):\n",
    "            data[i][r].append([])\n",
    "\n",
    "for i in range(n_setups):\n",
    "    for r in range(n_runs):\n",
    "        for s in range(4):\n",
    "            for t in range(2):\n",
    "                data[i][r][s].append([])"
   ],
   "metadata": {
    "collapsed": false
   }
  },
  {
   "cell_type": "code",
   "execution_count": null,
   "outputs": [],
   "source": [
    "# generate all datasets NEW\n",
    "\n",
    "# mean of X\n",
    "mean_X = np.zeros(d)\n",
    "\n",
    "for setup in range(n_setups):\n",
    "    print(f'Generating setup {setup + 1}')\n",
    "    for run in range(n_runs):\n",
    "        # cov, betas, beta_0 and betas_1 generated once per run\n",
    "        cov_X = np.array(mpower.cvine(d=d, alpha=0.5, beta=0.5))\n",
    "        betas_run = random.uniform(low=-1, high=1, size=d)\n",
    "        betas_0_run = random.uniform(low=-0.5, high=0.5, size=d)\n",
    "        betas_1_run = random.uniform(low=-0.5, high=0.5, size=d)\n",
    "        # start sample_size index\n",
    "        s = 0\n",
    "        for size in sample_sizes:\n",
    "            train_set = generate_data(mean=mean_X, cov=cov_X, ex=exs[setup], cate=cates[setup], sample_size=size,\n",
    "                                      betas=betas_run,\n",
    "                                      betas_0=betas_0_run, betas_1=betas_1_run)\n",
    "            test_set = generate_data(mean=mean_X, cov=cov_X, ex=exs[setup], cate=cates[setup], sample_size=test_size,\n",
    "                                     betas=betas_run,\n",
    "                                     betas_0=betas_0_run, betas_1=betas_1_run)\n",
    "            data[setup][run][s][0] = train_set  # add train-set\n",
    "            data[setup][run][s][1] = test_set  # add test-set\n",
    "            s += 1  # update index\n",
    "print('DONE')\n",
    "# it took 43 seconds # 4.4 GB of data!"
   ],
   "metadata": {
    "collapsed": false
   }
  },
  {
   "cell_type": "code",
   "execution_count": null,
   "outputs": [],
   "source": [
    "data[1][0][0][0]"
   ],
   "metadata": {
    "collapsed": false
   }
  },
  {
   "cell_type": "code",
   "execution_count": null,
   "outputs": [],
   "source": [
    "import pandas as pd\n"
   ],
   "metadata": {
    "collapsed": false
   }
  },
  {
   "cell_type": "code",
   "execution_count": null,
   "outputs": [],
   "source": [
    "# save as json\n",
    "file_name = \"/Users/arberimbibaj/Documents/Master Thesis ETH/DataSets /Generated/simulated_data.json\"\n",
    "f = open(file_name, 'w')\n",
    "json_obj = jsonpickle.encode(data)\n",
    "f.write(json_obj)\n",
    "f.close()"
   ],
   "metadata": {
    "collapsed": false
   }
  }
 ],
 "metadata": {
  "kernelspec": {
   "display_name": "Python 3 (ipykernel)",
   "language": "python",
   "name": "python3"
  },
  "language_info": {
   "codemirror_mode": {
    "name": "ipython",
    "version": 3
   },
   "file_extension": ".py",
   "mimetype": "text/x-python",
   "name": "python",
   "nbconvert_exporter": "python",
   "pygments_lexer": "ipython3",
   "version": "3.10.9"
  }
 },
 "nbformat": 4,
 "nbformat_minor": 1
}
