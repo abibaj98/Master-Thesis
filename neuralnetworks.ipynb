{
 "cells": [
  {
   "cell_type": "code",
   "execution_count": 21,
   "outputs": [],
   "source": [
    "import tensorflow as tf\n",
    "from tensorflow import keras\n",
    "from tensorflow.keras import layers\n",
    "from tensorflow.keras import regularizers\n",
    "from DefaultParameters import *"
   ],
   "metadata": {
    "collapsed": false,
    "ExecuteTime": {
     "end_time": "2023-07-11T19:51:54.263246Z",
     "start_time": "2023-07-11T19:51:54.242548Z"
    }
   }
  },
  {
   "cell_type": "code",
   "execution_count": 22,
   "outputs": [],
   "source": [
    "tf.keras.backend.set_floatx('float64')"
   ],
   "metadata": {
    "collapsed": false,
    "ExecuteTime": {
     "end_time": "2023-07-11T19:51:54.800371Z",
     "start_time": "2023-07-11T19:51:54.798152Z"
    }
   }
  },
  {
   "cell_type": "code",
   "execution_count": 23,
   "outputs": [],
   "source": [
    "# seed\n",
    "tf.keras.utils.set_random_seed(8953)"
   ],
   "metadata": {
    "collapsed": false,
    "ExecuteTime": {
     "end_time": "2023-07-11T19:51:54.943089Z",
     "start_time": "2023-07-11T19:51:54.938902Z"
    }
   }
  },
  {
   "cell_type": "code",
   "execution_count": 24,
   "outputs": [],
   "source": [
    "# 3 layers with 200 units (elu activation), 2 layers with 100 units (elu activations), 1 output layer (linear\n",
    "# activation)\n",
    "model_25 = keras.Sequential([\n",
    "    keras.Input(shape=(20,)),\n",
    "    layers.Dense(units=200, activation=\"relu\", name=\"layer1\", kernel_regularizer=regularizers.L2(1e-4)),\n",
    "    layers.Dense(units=200, activation=\"relu\", name=\"layer2\", kernel_regularizer=regularizers.L2(1e-4)),\n",
    "    layers.Dense(units=200, activation=\"relu\", name=\"layer3\", kernel_regularizer=regularizers.L2(1e-4)),\n",
    "    layers.Dense(units=100, activation=\"relu\", name=\"layer4\", kernel_regularizer=regularizers.L2(1e-4)),\n",
    "    layers.Dense(units=100, activation=\"relu\", name=\"layer5\", kernel_regularizer=regularizers.L2(1e-4)),\n",
    "    layers.Dense(units=1, activation=\"linear\", name=\"layer6\", kernel_regularizer=regularizers.L2(1e-4)),\n",
    "\n",
    "], name=\"model_25\")"
   ],
   "metadata": {
    "collapsed": false,
    "ExecuteTime": {
     "end_time": "2023-07-11T19:51:55.120917Z",
     "start_time": "2023-07-11T19:51:55.089257Z"
    }
   }
  },
  {
   "cell_type": "code",
   "execution_count": 25,
   "outputs": [],
   "source": [
    "# compile the model\n",
    "model_25.compile(\n",
    "    optimizer=keras.optimizers.legacy.Adam(learning_rate=LEARNING_RATE),  # Optimizer\n",
    "    # Loss function to minimize\n",
    "    loss=keras.losses.MeanSquaredError(),\n",
    "    # List of metrics to monitor\n",
    "    metrics=[keras.metrics.MeanSquaredError()],\n",
    "    # weighted metrics\n",
    "    weighted_metrics=[]\n",
    ")"
   ],
   "metadata": {
    "collapsed": false,
    "ExecuteTime": {
     "end_time": "2023-07-11T19:51:55.225980Z",
     "start_time": "2023-07-11T19:51:55.217390Z"
    }
   }
  },
  {
   "cell_type": "code",
   "execution_count": 26,
   "outputs": [
    {
     "name": "stdout",
     "output_type": "stream",
     "text": [
      "INFO:tensorflow:Assets written to: model_25/assets\n"
     ]
    },
    {
     "name": "stderr",
     "output_type": "stream",
     "text": [
      "INFO:tensorflow:Assets written to: model_25/assets\n"
     ]
    }
   ],
   "source": [
    "# save the model\n",
    "model_25.save('model_25')"
   ],
   "metadata": {
    "collapsed": false,
    "ExecuteTime": {
     "end_time": "2023-07-11T19:51:55.580082Z",
     "start_time": "2023-07-11T19:51:55.373159Z"
    }
   }
  },
  {
   "cell_type": "code",
   "execution_count": 27,
   "outputs": [],
   "source": [
    "tf.keras.utils.set_random_seed(8953)"
   ],
   "metadata": {
    "collapsed": false,
    "ExecuteTime": {
     "end_time": "2023-07-11T19:51:55.584650Z",
     "start_time": "2023-07-11T19:51:55.581410Z"
    }
   }
  },
  {
   "cell_type": "code",
   "execution_count": 28,
   "outputs": [],
   "source": [
    "''''''' For T Learner Only '''''''\n",
    "\n",
    "# 3 layers with 200 units (elu activation), 2 layers with 100 units (elu activations), 1 output layer (linear activation)\n",
    "model_26 = keras.Sequential([\n",
    "    keras.Input(shape=(21,)),\n",
    "    layers.Dense(units=200, activation=\"relu\", name=\"layer1\", kernel_regularizer=regularizers.L2(1e-4)),\n",
    "    layers.Dense(units=200, activation=\"relu\", name=\"layer2\", kernel_regularizer=regularizers.L2(1e-4)),\n",
    "    layers.Dense(units=200, activation=\"relu\", name=\"layer3\", kernel_regularizer=regularizers.L2(1e-4)),\n",
    "    layers.Dense(units=100, activation=\"relu\", name=\"layer4\", kernel_regularizer=regularizers.L2(1e-4)),\n",
    "    layers.Dense(units=100, activation=\"relu\", name=\"layer5\", kernel_regularizer=regularizers.L2(1e-4)),\n",
    "    layers.Dense(units=1, activation=\"linear\", name=\"layer6\", kernel_regularizer=regularizers.L2(1e-4)),\n",
    "\n",
    "], name=\"model_26\")"
   ],
   "metadata": {
    "collapsed": false,
    "ExecuteTime": {
     "end_time": "2023-07-11T19:51:55.678804Z",
     "start_time": "2023-07-11T19:51:55.653625Z"
    }
   }
  },
  {
   "cell_type": "code",
   "execution_count": 29,
   "outputs": [],
   "source": [
    "# compile the model\n",
    "model_26.compile(\n",
    "    optimizer=keras.optimizers.legacy.Adam(learning_rate=LEARNING_RATE),  # Optimizer\n",
    "    # Loss function to minimize\n",
    "    loss=keras.losses.MeanSquaredError(),\n",
    "    # List of metrics to monitor\n",
    "    metrics=[keras.metrics.MeanSquaredError()],\n",
    "    # weighted metrics\n",
    "    weighted_metrics=[]\n",
    ")"
   ],
   "metadata": {
    "collapsed": false,
    "ExecuteTime": {
     "end_time": "2023-07-11T19:51:55.812839Z",
     "start_time": "2023-07-11T19:51:55.807953Z"
    }
   }
  },
  {
   "cell_type": "code",
   "execution_count": 30,
   "outputs": [
    {
     "name": "stdout",
     "output_type": "stream",
     "text": [
      "INFO:tensorflow:Assets written to: model_26/assets\n"
     ]
    },
    {
     "name": "stderr",
     "output_type": "stream",
     "text": [
      "INFO:tensorflow:Assets written to: model_26/assets\n"
     ]
    }
   ],
   "source": [
    "# save the model\n",
    "model_26.save('model_26')"
   ],
   "metadata": {
    "collapsed": false,
    "ExecuteTime": {
     "end_time": "2023-07-11T19:51:56.165863Z",
     "start_time": "2023-07-11T19:51:55.957535Z"
    }
   }
  },
  {
   "cell_type": "code",
   "execution_count": 31,
   "outputs": [],
   "source": [
    "tf.keras.utils.set_random_seed(8953)"
   ],
   "metadata": {
    "collapsed": false,
    "ExecuteTime": {
     "end_time": "2023-07-11T19:51:56.171288Z",
     "start_time": "2023-07-11T19:51:56.167255Z"
    }
   }
  },
  {
   "cell_type": "code",
   "execution_count": 32,
   "outputs": [],
   "source": [
    "''''''' For propensity score '''''''\n",
    "\n",
    "model_ex = keras.Sequential([\n",
    "    keras.Input(shape=(20,)),\n",
    "    layers.Dense(units=200, activation=\"relu\", name=\"layer1\", kernel_regularizer=regularizers.L2(1e-5)),\n",
    "    layers.Dense(units=200, activation=\"relu\", name=\"layer2\", kernel_regularizer=regularizers.L2(1e-5)),\n",
    "    layers.Dense(units=200, activation=\"relu\", name=\"layer3\", kernel_regularizer=regularizers.L2(1e-5)),\n",
    "    layers.Dense(units=100, activation=\"relu\", name=\"layer4\", kernel_regularizer=regularizers.L2(1e-5)),\n",
    "    layers.Dense(units=100, activation=\"relu\", name=\"layer5\", kernel_regularizer=regularizers.L2(1e-5)),\n",
    "    layers.Dense(units=1, activation=\"linear\", name=\"layer6\", kernel_regularizer=regularizers.L2(1e-5)),\n",
    "\n",
    "], name=\"model_ex\")"
   ],
   "metadata": {
    "collapsed": false,
    "ExecuteTime": {
     "end_time": "2023-07-11T19:51:56.280955Z",
     "start_time": "2023-07-11T19:51:56.256666Z"
    }
   }
  },
  {
   "cell_type": "code",
   "execution_count": 33,
   "outputs": [],
   "source": [
    "# compile the model\n",
    "model_ex.compile(\n",
    "    optimizer=keras.optimizers.legacy.Adam(learning_rate=LEARNING_RATE),  # Optimizer\n",
    "    # Loss function to minimize\n",
    "    loss=keras.losses.BinaryCrossentropy(from_logits=True, label_smoothing=0.1),\n",
    "    # List of metrics to monitor\n",
    "    metrics=keras.metrics.BinaryAccuracy(),\n",
    "    # weighted metrics\n",
    "    weighted_metrics=[]\n",
    ")"
   ],
   "metadata": {
    "collapsed": false,
    "ExecuteTime": {
     "end_time": "2023-07-11T19:51:56.390143Z",
     "start_time": "2023-07-11T19:51:56.381200Z"
    }
   }
  },
  {
   "cell_type": "code",
   "execution_count": 34,
   "outputs": [
    {
     "name": "stdout",
     "output_type": "stream",
     "text": [
      "INFO:tensorflow:Assets written to: model_ex/assets\n"
     ]
    },
    {
     "name": "stderr",
     "output_type": "stream",
     "text": [
      "INFO:tensorflow:Assets written to: model_ex/assets\n"
     ]
    }
   ],
   "source": [
    "# save the model\n",
    "model_ex.save('model_ex')"
   ],
   "metadata": {
    "collapsed": false,
    "ExecuteTime": {
     "end_time": "2023-07-11T19:51:56.732994Z",
     "start_time": "2023-07-11T19:51:56.532881Z"
    }
   }
  },
  {
   "cell_type": "code",
   "execution_count": 35,
   "outputs": [],
   "source": [
    "''''''' Callbacks '''''''\n",
    "callback = tf.keras.callbacks.EarlyStopping(monitor='val_loss', patience=10, start_from_epoch=100)"
   ],
   "metadata": {
    "collapsed": false,
    "ExecuteTime": {
     "end_time": "2023-07-11T19:51:56.742482Z",
     "start_time": "2023-07-11T19:51:56.734019Z"
    }
   }
  }
 ],
 "metadata": {
  "kernelspec": {
   "display_name": "Python 3",
   "language": "python",
   "name": "python3"
  },
  "language_info": {
   "codemirror_mode": {
    "name": "ipython",
    "version": 2
   },
   "file_extension": ".py",
   "mimetype": "text/x-python",
   "name": "python",
   "nbconvert_exporter": "python",
   "pygments_lexer": "ipython2",
   "version": "2.7.6"
  }
 },
 "nbformat": 4,
 "nbformat_minor": 0
}
