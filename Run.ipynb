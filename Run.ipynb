{
 "cells": [
  {
   "cell_type": "code",
   "execution_count": null,
   "metadata": {
    "collapsed": true
   },
   "outputs": [],
   "source": [
    "import numpy as np\n",
    "from MetaLearner import *"
   ]
  },
  {
   "cell_type": "code",
   "execution_count": null,
   "outputs": [],
   "source": [
    "import pickle\n"
   ],
   "metadata": {
    "collapsed": false
   }
  },
  {
   "cell_type": "code",
   "execution_count": null,
   "outputs": [],
   "source": [
    "# todo: https://stackoverflow.com/questions/24168569/how-to-add-names-to-a-numpy-array-without-changing-its-dimension"
   ],
   "metadata": {
    "collapsed": false
   }
  },
  {
   "cell_type": "code",
   "execution_count": null,
   "outputs": [],
   "source": [
    "# This file runs the experiment"
   ],
   "metadata": {
    "collapsed": false
   }
  },
  {
   "cell_type": "code",
   "execution_count": null,
   "outputs": [],
   "source": [
    "tf.keras.backend.set_floatx('float64')"
   ],
   "metadata": {
    "collapsed": false
   }
  },
  {
   "cell_type": "code",
   "execution_count": null,
   "outputs": [],
   "source": [
    "tf.keras.utils.set_random_seed(8953)"
   ],
   "metadata": {
    "collapsed": false
   }
  },
  {
   "cell_type": "code",
   "execution_count": null,
   "outputs": [],
   "source": [
    "file_name = \"/Users/arberimbibaj/Documents/Master Thesis ETH/DataSets /Generated/data_synthetic_500_1000.pkl\"\n",
    "open_file = open(file_name, \"rb\")\n",
    "data = pickle.load(open_file)\n",
    "open_file.close()"
   ],
   "metadata": {
    "collapsed": false
   }
  },
  {
   "cell_type": "code",
   "execution_count": null,
   "outputs": [],
   "source": [
    "n_setups = 2\n",
    "sample_sizes = [500, 1000]\n",
    "n_runs = 2"
   ],
   "metadata": {
    "collapsed": false
   }
  },
  {
   "cell_type": "code",
   "execution_count": null,
   "outputs": [],
   "source": [
    "learners = [TLearner('rf'), SLearner('rf'), XLearner('rf'), RLearner('rf'), DRLearner('rf'), RALearner('rf'),\n",
    "            PWLearner('rf'), ULearner('rf'),\n",
    "            TLearner('lasso'), SLearner('lasso'), XLearner('lasso'), RLearner('lasso'), DRLearner('lasso'),\n",
    "            RALearner('lasso'), PWLearner('lasso'), ULearner('lasso'),\n",
    "            TLearner('nn'), SLearner('nn'), XLearner('nn'), RLearner('nn'), DRLearner('nn'), RALearner('nn'),\n",
    "            PWLearner('nn'), ULearner('nn')]"
   ],
   "metadata": {
    "collapsed": false
   }
  },
  {
   "cell_type": "code",
   "execution_count": null,
   "outputs": [],
   "source": [
    "learners = [TLearner('nn'), SLearner('nn'), XLearner('nn'), RLearner('nn'), DRLearner('nn'), RALearner('nn'),\n",
    "            PWLearner('nn'), ULearner('nn')]"
   ],
   "metadata": {
    "collapsed": false
   }
  },
  {
   "cell_type": "code",
   "execution_count": null,
   "outputs": [],
   "source": [
    "learners = [TLearner('nn')]"
   ],
   "metadata": {
    "collapsed": false
   }
  },
  {
   "cell_type": "code",
   "execution_count": null,
   "outputs": [],
   "source": [
    "# What we want: For each setting and base learner --> matrix which includes the MSE, columns: Metalearners + SampleSize, rows: Run(1-10)\n",
    "# --> So we can plot the mean and 1se of the MSE for each Metalearner, each samplesize; giving the setting and baselearner\n",
    "# --> number of plots: settings*baselearner."
   ],
   "metadata": {
    "collapsed": false
   }
  },
  {
   "cell_type": "code",
   "execution_count": null,
   "outputs": [],
   "source": [
    "results = []\n",
    "\n",
    "for i in range(n_setups):\n",
    "    results.append([])\n",
    "\n",
    "for i in range(n_setups):\n",
    "    for baselearner in range(1):\n",
    "        results[i].append([])\n",
    "\n",
    "results"
   ],
   "metadata": {
    "collapsed": false
   }
  },
  {
   "cell_type": "code",
   "execution_count": null,
   "outputs": [],
   "source": [
    "dim = data[0][0][0][0].shape[1]  # dimension of x\n",
    "\n",
    "\n",
    "# helper function to get y, x, w, tau, out of data[][][][]\n",
    "def get_variables(dataset, setup, samplesize, run, train_test):\n",
    "    y = dataset[setup][samplesize][run][train_test][:, 0]\n",
    "    x = dataset[setup][samplesize][run][train_test][:, 1:(dim - 2)]\n",
    "    w = dataset[setup][samplesize][run][train_test][:, (dim - 2)]\n",
    "    tau = dataset[setup][samplesize][run][train_test][:, (dim - 1)]\n",
    "    return y, x, w, tau"
   ],
   "metadata": {
    "collapsed": false
   }
  },
  {
   "cell_type": "code",
   "execution_count": null,
   "outputs": [],
   "source": [
    "b = 0\n",
    "m = 0\n",
    "s = 0\n",
    "\n",
    "for i in range(n_setups):\n",
    "    print(f'Setup: {i + 1}')\n",
    "    # array for all mses for one setup\n",
    "    setup_mse = np.empty(shape=(0, 24))\n",
    "    s = 0  # restart index for samplesize\n",
    "    for size in sample_sizes:\n",
    "        print(f'Sample Size: {s + 1}')\n",
    "        # array for all mses for one setup and samplesize.\n",
    "        size_mse = np.empty(shape=(0, 24))\n",
    "        for r in range(n_runs):\n",
    "            print(f'Run: {r + 1}')\n",
    "            # array for all mses in one setup, samplesize and run.\n",
    "            mses = np.empty(shape=(1, 24))\n",
    "            # get data for specific setup, samplesize and run.\n",
    "            temp_y_train, temp_x_train, temp_w_train, temp_tau_train = get_variables(dataset=data, setup=i,\n",
    "                                                                                     samplesize=s, run=r,\n",
    "                                                                                     train_test=0)\n",
    "            temp_y_test, temp_x_test, temp_w_test, temp_tau_test = get_variables(dataset=data, setup=i,\n",
    "                                                                                 samplesize=s, run=r,\n",
    "                                                                                 train_test=1)\n",
    "            # restart index for metalearner\n",
    "            m = 0\n",
    "            for l in learners:\n",
    "                if m % 8 == 0: print(f'BaseLearner {m / 8 + 1}')\n",
    "                # training and testing MetaLearner.\n",
    "                learner = l\n",
    "                learner.fit(temp_x_train, temp_y_train, temp_w_train)\n",
    "                predictions = learner.predict(temp_x_test)\n",
    "                temp_mse = ((predictions - temp_tau_test) ** 2).mean()\n",
    "                # append mse of specific metalearner to 'mses'.\n",
    "                mses[0, m] = temp_mse\n",
    "                # update index\n",
    "                m += 1\n",
    "            # append 'mses' to 'size_mse'.\n",
    "            size_mse = np.append(size_mse, mses, axis=0)\n",
    "        # append 'size_mse' to 'setup_mse'.\n",
    "        setup_mse = np.append(setup_mse, size_mse, axis=0)\n",
    "        # update index\n",
    "        s += 1\n",
    "    # append to results\n",
    "    results[i][0] = setup_mse[:, 0:1]  # random forest\n",
    "    # results[i][1] = setup_mse[:, 8:16]  # lasso\n",
    "    # results[i][2] = setup_mse[:, 16:24]  # neural network\n",
    "\n",
    "\n",
    "\n",
    "\n",
    "\n",
    "# this should make sense i guess! :)\n",
    "# TODO: CHECK IF IT MAKES IT FASTER IF EVERYTHING IS EITHER IN NP OR IN LIST/ARRAY BASE PYTHON.\n",
    "# TODO: DONE :)\n",
    "# TODO: DONE :)\n",
    "# TODO: DONE :)\n",
    "\n",
    "### IT TOOK 6M 40S FOR --> SAMPLE SIZES [200, 200], TEST SIZE = 50, 2 SETUPS, 2 RUNS LOL"
   ],
   "metadata": {
    "collapsed": false
   }
  },
  {
   "cell_type": "code",
   "execution_count": null,
   "outputs": [],
   "source": [
    "results[0][0]"
   ],
   "metadata": {
    "collapsed": false
   }
  },
  {
   "cell_type": "code",
   "execution_count": null,
   "outputs": [],
   "source": [
    "# results[0][0]\n",
    "# 0.979529, 0.189357, 0.691835, 1.264468, 4.794060, 1.272449, 318.679463,   1.081027\n",
    "# 0.559492, 0.203706, 0.927347, 2.416890, 0.204388, 1.450491, 74.110918,    2.526629\n",
    "# 0.287718, 0.104780, 0.418623, 1.607120, 1.155091, 0.693351, 101.837731,   1.359555\n",
    "# 0.755226, 0.150241, 0.535911, 1.144357, 0.051542, 0.984803, 489.825079,   1.069822\n",
    "\n",
    "\n",
    "# --> settings 0,1, size 500,1000, test size 500, only neural networks\n",
    "# --> look nice :)\n",
    "# --> only the PW Learner looks bad :("
   ],
   "metadata": {
    "collapsed": false
   }
  },
  {
   "cell_type": "code",
   "execution_count": null,
   "outputs": [],
   "source": [
    "# Results[1][0]\n",
    "# 2.541785,0.372843,3.078384,7.408911,0.083564,5.127290,97.172635,6.231679\n",
    "# 2.327750,0.157416,2.486625,5.897240,1.015858,4.196150,71.799654,5.595057\n",
    "# 2.553822,0.429779,2.908590,3.492300,0.148840,3.881968,28.495289,3.088685\n",
    "# 3.231855,0.775711,3.748154,4.025924,0.132979,5.174252,25.184674,4.476805\n"
   ],
   "metadata": {
    "collapsed": false
   }
  },
  {
   "cell_type": "code",
   "execution_count": null,
   "outputs": [],
   "source": [
    "data[0][0][0][0]"
   ],
   "metadata": {
    "collapsed": false
   }
  },
  {
   "cell_type": "code",
   "execution_count": null,
   "outputs": [],
   "source": [
    "# CHECK REPRODUCIBILITY -> it is now :)\n",
    "#\n",
    "#0.891410,0.126702,0.595713,1.052290,5.116204,1.166062,368.630686,1.092666\n",
    "#1.025235,0.187492,0.947451,2.343620,0.205569,1.683218,82.003896,2.445846\n",
    "#0.338627,0.138150,0.430977,1.490333,1.152007,0.658604,82.952196,1.338212\n",
    "#0.767233,0.170907,0.697125,1.732956,0.042666,1.091521,648.561056,1.740873\n",
    "\n"
   ],
   "metadata": {
    "collapsed": false
   }
  }
 ],
 "metadata": {
  "kernelspec": {
   "display_name": "Python 3",
   "language": "python",
   "name": "python3"
  },
  "language_info": {
   "codemirror_mode": {
    "name": "ipython",
    "version": 2
   },
   "file_extension": ".py",
   "mimetype": "text/x-python",
   "name": "python",
   "nbconvert_exporter": "python",
   "pygments_lexer": "ipython2",
   "version": "2.7.6"
  }
 },
 "nbformat": 4,
 "nbformat_minor": 0
}
