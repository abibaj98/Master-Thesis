{
 "cells": [
  {
   "cell_type": "code",
   "execution_count": null,
   "metadata": {
    "collapsed": true
   },
   "outputs": [],
   "source": [
    "# import packages\n",
    "\n",
    "import numpy as np\n",
    "from numpy import random\n",
    "from numpy import load\n",
    "\n",
    "from scipy import stats\n",
    "import pandas as pd\n",
    "import copy\n",
    "import matplotlib.pyplot as plt\n",
    "\n"
   ]
  },
  {
   "cell_type": "markdown",
   "source": [
    "# IHDP Dataset (from Fredjo.com)"
   ],
   "metadata": {
    "collapsed": false
   }
  },
  {
   "cell_type": "code",
   "execution_count": null,
   "outputs": [],
   "source": [
    "# IHDP-100 (train), IHDP-100 (test) are 100 realizations of the IHDP dataset as used in Shalit, J, Sontag, ICML, 2017.\n",
    "\n",
    "\n",
    "# Variables in the .npz x, t, yf, ycf, mu0, mu1 are:\n",
    "# covariates, treatment, factual outcome, counterfactual outcome, and noiseless potential outcomes respectively.\n",
    "ihdp_realisations = 100"
   ],
   "metadata": {
    "collapsed": false
   }
  },
  {
   "cell_type": "code",
   "execution_count": null,
   "outputs": [],
   "source": [
    "# 100 realisations of IHDP train set (672 units)\n",
    "ihdp_train = load('/Users/arberimbibaj/Downloads/ihdp_npci_1-100.train.npz')\n",
    "files_train = ihdp_train.files\n",
    "files_train"
   ],
   "metadata": {
    "collapsed": false
   }
  },
  {
   "cell_type": "code",
   "execution_count": null,
   "outputs": [],
   "source": [
    "# 100 realisations of IHDP test set (72 units)\n",
    "ihdp_test = load('/Users/arberimbibaj/Downloads/ihdp_npci_1-100.test.npz')\n",
    "files_test = ihdp_test.files\n",
    "files_test"
   ],
   "metadata": {
    "collapsed": false
   }
  },
  {
   "cell_type": "code",
   "execution_count": null,
   "outputs": [],
   "source": [
    "# for example\n",
    "ihdp_train['ate'] # 4 is the ATE (Average Treatment Effect)"
   ],
   "metadata": {
    "collapsed": false
   }
  },
  {
   "cell_type": "code",
   "execution_count": null,
   "outputs": [],
   "source": [
    "ihdp_train['mu1'] # 672 * 100 matrix,"
   ],
   "metadata": {
    "collapsed": false
   }
  },
  {
   "cell_type": "code",
   "execution_count": null,
   "outputs": [],
   "source": [
    "ihdp_train['mu0'] # 672 * 100 matrix"
   ],
   "metadata": {
    "collapsed": false
   }
  },
  {
   "cell_type": "code",
   "execution_count": null,
   "outputs": [],
   "source": [
    "ihdp_train['yadd'] # it is a 0, TODO: what does that mean ???"
   ],
   "metadata": {
    "collapsed": false
   }
  },
  {
   "cell_type": "code",
   "execution_count": null,
   "outputs": [],
   "source": [
    "ihdp_train['yf'] # 672 * 100, y_factuals"
   ],
   "metadata": {
    "collapsed": false
   }
  },
  {
   "cell_type": "code",
   "execution_count": null,
   "outputs": [],
   "source": [
    "ihdp_train['ycf']"
   ],
   "metadata": {
    "collapsed": false
   }
  },
  {
   "cell_type": "code",
   "execution_count": null,
   "outputs": [],
   "source": [
    "ihdp_train['t'] # 672 * 100, treatment assigment"
   ],
   "metadata": {
    "collapsed": false
   }
  },
  {
   "cell_type": "code",
   "execution_count": null,
   "outputs": [],
   "source": [
    "ihdp_train['ymul'] # it is = 1, TODO: what does that mean ???"
   ],
   "metadata": {
    "collapsed": false
   }
  },
  {
   "cell_type": "code",
   "execution_count": null,
   "outputs": [],
   "source": [
    "ihdp_train['x'][:,0][:,0] # X1 for all units, 100 realisations"
   ],
   "metadata": {
    "collapsed": false
   }
  },
  {
   "cell_type": "code",
   "execution_count": null,
   "outputs": [],
   "source": [
    "# cate per realisation\n",
    "ihdp_train['mu1'] - ihdp_train['mu0']"
   ],
   "metadata": {
    "collapsed": false
   }
  },
  {
   "cell_type": "code",
   "execution_count": null,
   "outputs": [],
   "source": [
    "len(ihdp_train['x']) # 672 units (observations) in train set"
   ],
   "metadata": {
    "collapsed": false
   }
  },
  {
   "cell_type": "code",
   "execution_count": null,
   "outputs": [],
   "source": [
    "ihdp_train['x'][671,24] # 25 rows --> the 25 features"
   ],
   "metadata": {
    "collapsed": false
   }
  },
  {
   "cell_type": "markdown",
   "source": [
    "make it the same as synthetic data"
   ],
   "metadata": {
    "collapsed": false
   }
  },
  {
   "cell_type": "code",
   "execution_count": null,
   "outputs": [],
   "source": [
    "# This will be all the \"datasets\", i.e. all simulation setups * simulation runs\n",
    "ihdp_train_processed = []\n",
    "ihdp_train_x = []\n",
    "for i in range(ihdp_realisations):\n",
    "    ihdp_train_processed.append([])\n",
    "    ihdp_train_x.append([])\n",
    "\n",
    "ihdp_train_processed\n",
    "ihdp_train_x"
   ],
   "metadata": {
    "collapsed": false
   }
  },
  {
   "cell_type": "code",
   "execution_count": null,
   "outputs": [],
   "source": [
    "# y_factual, x, treatment, tau\n",
    "ihdp_train_tau = ihdp_train['mu1'] - ihdp_train['mu0']\n",
    "ihdp_train_tau"
   ],
   "metadata": {
    "collapsed": false
   }
  },
  {
   "cell_type": "code",
   "execution_count": null,
   "outputs": [],
   "source": [
    "# pre-process x\n",
    "realisation = np.empty(shape=(672,25))\n",
    "\n",
    "for i in range(ihdp_realisations):\n",
    "    for n in range(672):\n",
    "        row_x = ihdp_train['x'][n][:,i][:,np.newaxis].T\n",
    "        realisation[n,:] = row_x\n",
    "    ihdp_train_x[i] = realisation"
   ],
   "metadata": {
    "collapsed": false
   }
  },
  {
   "cell_type": "code",
   "execution_count": null,
   "outputs": [],
   "source": [
    "ihdp_train_x[99] == ihdp_train_x[0] # made an error!!"
   ],
   "metadata": {
    "collapsed": false
   }
  },
  {
   "cell_type": "code",
   "execution_count": null,
   "outputs": [],
   "source": [
    "for i in range(ihdp_realisations):\n",
    "    temporary_set = np.concatenate((np.expand_dims(ihdp_train['yf'][:, i], axis=1)\n",
    ", np.ndarray(ihdp_train['x'][:,0][:,i]), np.expand_dims(ihdp_train['t'][:,i], axis=1), np.expand_dims(ihdp_train_tau[:,i], axis=1)))\n",
    "    ihdp_train_processed[i].append(temporary_set)\n",
    "\n",
    "ihdp_train_processed[0]"
   ],
   "metadata": {
    "collapsed": false
   }
  },
  {
   "cell_type": "code",
   "execution_count": null,
   "outputs": [],
   "source": [
    "ihdp_train['x'][671][:,99][:,np.newaxis].T"
   ],
   "metadata": {
    "collapsed": false
   }
  },
  {
   "cell_type": "markdown",
   "source": [
    "# NEWS Dataset (from Fredjo.com)"
   ],
   "metadata": {
    "collapsed": false
   }
  },
  {
   "cell_type": "code",
   "execution_count": null,
   "outputs": [],
   "source": [
    "# Description\n",
    "''''The first row of the .x file contains the number of rows and columns of\n",
    "the corresponding dense matrix. In this case n=5000 rows, d=3477 features.\n",
    "\n",
    "Each following row represent an element in the matrix on the form: i,j,v\n",
    "where i is the row index, j the column index and v the value.\n",
    "\n",
    "The data represents word counts in documents, so 1,16,1 means that word 16\n",
    "occurred 1 time in document 1. '''''\n",
    "\n",
    "news_x = np.loadtxt('/Users/arberimbibaj/Documents/Master Thesis ETH/DataSets /News/csv/topic_doc_mean_n5000_k3477_seed_1.csv.x', delimiter=',')\n",
    "news_x"
   ],
   "metadata": {
    "collapsed": false
   }
  },
  {
   "cell_type": "code",
   "execution_count": null,
   "outputs": [],
   "source": [
    "news_y = np.loadtxt('/Users/arberimbibaj/Documents/Master Thesis ETH/DataSets /News/csv/topic_doc_mean_n5000_k3477_seed_1.csv.y', delimiter=',')\n",
    "news_y\n",
    "# treatment, y_factual, y_counterfactual, mu0, mu1"
   ],
   "metadata": {
    "collapsed": false
   }
  },
  {
   "cell_type": "code",
   "execution_count": null,
   "outputs": [],
   "source": [
    "# W * factual + (1-W) counter_factual = y_1\n",
    "# (1-W) * factual + w * counter_factual = y_0\n",
    "\n",
    "treatment = y[:,0]\n",
    "y_factual = y[:,1]\n",
    "y_counterfactual = y[:,2]\n",
    "mu0 = y[:,3]\n",
    "mu1 = y[:,4]"
   ],
   "metadata": {
    "collapsed": false
   }
  },
  {
   "cell_type": "code",
   "execution_count": null,
   "outputs": [],
   "source": [
    "y_1 = treatment * y_factual + (1-treatment)*y_counterfactual\n",
    "y_0 = (1-treatment) * y_factual + treatment*y_counterfactual"
   ],
   "metadata": {
    "collapsed": false
   }
  },
  {
   "cell_type": "code",
   "execution_count": null,
   "outputs": [],
   "source": [
    "ite = y_1 - y_0\n",
    "ite"
   ],
   "metadata": {
    "collapsed": false
   }
  },
  {
   "cell_type": "code",
   "execution_count": null,
   "outputs": [],
   "source": [
    "cate = mu1 - mu0\n",
    "cate"
   ],
   "metadata": {
    "collapsed": false
   }
  },
  {
   "cell_type": "markdown",
   "source": [
    "# JOBS Dataset (from Fredjo.com)"
   ],
   "metadata": {
    "collapsed": false
   }
  },
  {
   "cell_type": "code",
   "execution_count": null,
   "outputs": [],
   "source": [
    "# These files contain the treated and control units from the male sub-sample from the National Supported Work Demonstration as used by Lalonde in his paper.\n",
    "\n",
    "#\n",
    "\n",
    "# The order of the variables from left to right is:\n",
    "# treatment indicator (1 if treated, 0 if not treated), age, education,\n",
    "# Black (1 if black, 0 otherwise), Hispanic (1 if Hispanic, 0 otherwise),\n",
    "# married (1 if married, 0 otherwise), nodegree (1 if no degree, 0 otherwise),\n",
    "# RE75 (earnings in 1975), and RE78 (earnings in 1978).\n",
    "# The last variable is the outcome; other variables are pre-treatment."
   ],
   "metadata": {
    "collapsed": false
   }
  },
  {
   "cell_type": "code",
   "execution_count": null,
   "outputs": [],
   "source": [
    "jobs_test = load('/Users/arberimbibaj/Documents/Master Thesis ETH/DataSets /Jobs/jobs_DW_bin.new.10.test.npz')"
   ],
   "metadata": {
    "collapsed": false
   }
  },
  {
   "cell_type": "code",
   "execution_count": null,
   "outputs": [],
   "source": [
    "jobs_test.files"
   ],
   "metadata": {
    "collapsed": false
   }
  },
  {
   "cell_type": "code",
   "execution_count": null,
   "outputs": [],
   "source": [
    "jobs_test['x'][:,1]"
   ],
   "metadata": {
    "collapsed": false
   }
  },
  {
   "cell_type": "code",
   "execution_count": null,
   "outputs": [],
   "source": [
    "jobs_train = load('/Users/arberimbibaj/Documents/Master Thesis ETH/DataSets /Jobs/jobs_DW_bin.new.10.train.npz')"
   ],
   "metadata": {
    "collapsed": false
   }
  },
  {
   "cell_type": "code",
   "execution_count": null,
   "outputs": [],
   "source": [
    "jobs_train.files"
   ],
   "metadata": {
    "collapsed": false
   }
  },
  {
   "cell_type": "code",
   "execution_count": null,
   "outputs": [],
   "source": [
    "jobs_train['t']"
   ],
   "metadata": {
    "collapsed": false
   }
  }
 ],
 "metadata": {
  "kernelspec": {
   "display_name": "Python 3",
   "language": "python",
   "name": "python3"
  },
  "language_info": {
   "codemirror_mode": {
    "name": "ipython",
    "version": 2
   },
   "file_extension": ".py",
   "mimetype": "text/x-python",
   "name": "python",
   "nbconvert_exporter": "python",
   "pygments_lexer": "ipython2",
   "version": "2.7.6"
  }
 },
 "nbformat": 4,
 "nbformat_minor": 0
}
