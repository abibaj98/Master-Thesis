{
 "cells": [
  {
   "cell_type": "code",
   "execution_count": 1,
   "metadata": {
    "collapsed": true,
    "ExecuteTime": {
     "end_time": "2023-07-22T15:57:17.104363Z",
     "start_time": "2023-07-22T15:57:16.987838Z"
    }
   },
   "outputs": [],
   "source": [
    "import pickle\n",
    "import numpy as np\n",
    "import time\n",
    "import jsonpickle"
   ]
  },
  {
   "cell_type": "code",
   "execution_count": 2,
   "outputs": [],
   "source": [
    "# open\n",
    "# LOAD JSON FILE\n",
    "file_name = \"/Users/arberimbibaj/results.json\"\n",
    "f = open(file_name, 'r')\n",
    "json_str = f.read()\n",
    "results_all = jsonpickle.decode(json_str)"
   ],
   "metadata": {
    "collapsed": false,
    "ExecuteTime": {
     "end_time": "2023-07-22T15:57:28.301230Z",
     "start_time": "2023-07-22T15:57:28.290247Z"
    }
   }
  },
  {
   "cell_type": "code",
   "execution_count": 4,
   "outputs": [
    {
     "data": {
      "text/plain": "array([[2.15843062e+00, 4.23486732e-03, 9.12256899e-01, 3.82930080e+00,\n        1.55773393e+00, 1.52209897e+00, 4.20588765e+00, 5.10845825e+00],\n       [3.01195279e+00, 4.07471251e-03, 7.77992065e-01, 3.32768072e+00,\n        1.64190360e+00, 1.63797110e+00, 2.31859653e+01, 3.05694243e+00],\n       [2.53376466e+00, 3.32508947e-03, 4.62593781e-01, 3.35204240e+00,\n        1.23842963e+00, 1.12570007e+00, 3.38781323e+01, 3.53586239e+00],\n       [1.86600335e+00, 2.80073798e-03, 3.57082510e-01, 4.16762374e+00,\n        1.43539220e+00, 1.42727610e+00, 8.80139502e+01, 4.95621233e+00]])"
     },
     "execution_count": 4,
     "metadata": {},
     "output_type": "execute_result"
    }
   ],
   "source": [
    "results_all[0][0]"
   ],
   "metadata": {
    "collapsed": false,
    "ExecuteTime": {
     "end_time": "2023-07-22T15:57:35.959953Z",
     "start_time": "2023-07-22T15:57:35.952284Z"
    }
   }
  },
  {
   "cell_type": "code",
   "execution_count": 5,
   "outputs": [],
   "source": [
    "# S-Learner best, X_learner good, T, DR, RA, also good, only PW-bad\n",
    "# almost same as one, PW also good?\n",
    "# X-learner best, S-learner worst (PW actually worst, but extreme)\n",
    "# X-learner best, DR/PW also good, rest oke (PW very bad)\n",
    "# T-learner best?, R/RA very good\n",
    "# X-learner best, but S/T/DR/RA all very good\n",
    "# S-learner best, then X-learner\n",
    "# S-learner best,\n",
    "# X-learner best, (especially for RF)\n",
    "# X-learner best,\n",
    "# T-learner best\n",
    "# S-learner best?, T/X/DR/RA all very good\n",
    "# S-learner best, X also very good\n",
    "# S-learner best, X also very good, R bad\n",
    "# X-learner best, DR-learner also very good\n",
    "# X-learner best, DR/RA good but then at siz=5000 bad?\n",
    "# DR/RA best, X also very good\n",
    "# S-learner best ??? probably because the cates are not scaled enough\n",
    "# S-learner best\n",
    "# S-learner best\n",
    "# X best, DR/RA very good\n",
    "# X best, DR/RA very good,\n",
    "# X best, but all perform a bit bad\n",
    "# T, S, X R DR all good, probably because of not scalling"
   ],
   "metadata": {
    "collapsed": false,
    "ExecuteTime": {
     "end_time": "2023-07-22T15:58:02.836235Z",
     "start_time": "2023-07-22T15:58:02.827259Z"
    }
   }
  },
  {
   "cell_type": "code",
   "execution_count": 6,
   "outputs": [],
   "source": [
    "# CONCLUSIONS\n",
    "# -----------\n",
    "\n",
    "# 1: If zero cate --> S-learner is the best, X-learner also performs good\n",
    "# 2: If simple cate --> X-learner is the best, often DR/RA/R learner also perform good\n",
    "# 3: if complex cate --> T very good, somehow S-learner also good (probably to bad scalling of outcomes), DR/RA/R learner also good\n",
    "# 4: PW learner very bad mostly, U-learner also not good\n",
    "\n",
    "# Base learners\n",
    "# -------------\n",
    "# RF and Linear model seem to be more stable than Neural Network, at least with these hyperparameters.\n",
    "# All \"pseudo-outome\" metalearners very bad with Neural Network??? --> probably the classification task is bad"
   ],
   "metadata": {
    "collapsed": false,
    "ExecuteTime": {
     "end_time": "2023-07-22T15:58:03.013986Z",
     "start_time": "2023-07-22T15:58:03.008521Z"
    }
   }
  },
  {
   "cell_type": "code",
   "execution_count": null,
   "outputs": [],
   "source": [],
   "metadata": {
    "collapsed": false
   }
  }
 ],
 "metadata": {
  "kernelspec": {
   "display_name": "Python 3",
   "language": "python",
   "name": "python3"
  },
  "language_info": {
   "codemirror_mode": {
    "name": "ipython",
    "version": 2
   },
   "file_extension": ".py",
   "mimetype": "text/x-python",
   "name": "python",
   "nbconvert_exporter": "python",
   "pygments_lexer": "ipython2",
   "version": "2.7.6"
  }
 },
 "nbformat": 4,
 "nbformat_minor": 0
}
