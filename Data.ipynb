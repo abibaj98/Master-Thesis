{
 "cells": [
  {
   "cell_type": "code",
   "execution_count": 1,
   "metadata": {
    "collapsed": true,
    "ExecuteTime": {
     "end_time": "2023-05-15T15:09:17.932104500Z",
     "start_time": "2023-05-15T15:09:15.241398500Z"
    }
   },
   "outputs": [],
   "source": [
    "# import packages\n",
    "\n",
    "import numpy as np\n",
    "# import matplotlib.pyplot as\n",
    "from numpy import random"
   ]
  },
  {
   "cell_type": "code",
   "execution_count": 2,
   "outputs": [],
   "source": [
    "# Fully Synthetic Data Sets (Set up from Künzel et al.)\n",
    "\n",
    "# 1: Simulate the d-dimensional X.\n",
    "# 2: Create Potential Outcomes Y(1) and Y(0).\n",
    "# 3: Simulate Treatment Assignments trough W."
   ],
   "metadata": {
    "collapsed": false,
    "ExecuteTime": {
     "end_time": "2023-05-15T15:09:20.067423100Z",
     "start_time": "2023-05-15T15:09:20.021422300Z"
    }
   }
  },
  {
   "cell_type": "code",
   "execution_count": 42,
   "outputs": [],
   "source": [
    "# 1: Simulate the d-dimensional X. #\n",
    "\n",
    "\n",
    "# Parameters\n",
    "mean = [0,0,0,0] # TODO: set mean according to setup\n",
    "cov = [[1,0,0,0],[0,1,0,0],[0,0,1,0],[0,0,0,1]] # TODO: set cov according to setup\n",
    "N = 10 # TODO: set sample size according to setup\n",
    "\n",
    "# Simulate X\n",
    "X = random.multivariate_normal(mean=mean, cov=cov, size=N, check_valid='warn')\n"
   ],
   "metadata": {
    "collapsed": false,
    "ExecuteTime": {
     "end_time": "2023-05-15T15:52:59.506723400Z",
     "start_time": "2023-05-15T15:52:59.441725Z"
    }
   }
  },
  {
   "cell_type": "code",
   "execution_count": 43,
   "outputs": [],
   "source": [
    "# 2: Create Potential Outcomes Y(1) and Y(0).\n",
    "\n",
    "# Simulate errors, FIX\n",
    "e_0 = random.normal(loc=0.0,scale=1.0,size=N)\n",
    "e_1 = random.normal(loc=0.0,scale=1.0,size=N)\n",
    "\n",
    "# Just to make it work, create betas\n",
    "beta_0 = [2,3,-3,1] # TODO: delete or change\n",
    "beta_1 = [1,1,0,-5] # TODO: delete or change\n",
    "\n",
    "# Create Response Functions\n",
    "mu_0 = np.matmul(X,beta_0) # TODO: change according to setup\n",
    "mu_1 = np.matmul(X,beta_1) # TODO: change according to setup\n",
    "\n",
    "# Creat Potential Outcomes, FIX\n",
    "Y_0 = mu_0 + e_0\n",
    "Y_1 = mu_1 + e_1"
   ],
   "metadata": {
    "collapsed": false,
    "ExecuteTime": {
     "end_time": "2023-05-15T15:53:02.156837500Z",
     "start_time": "2023-05-15T15:53:02.087932600Z"
    }
   }
  },
  {
   "cell_type": "code",
   "execution_count": 44,
   "outputs": [
    {
     "name": "stdout",
     "output_type": "stream",
     "text": [
      "[ 0.16973602 -6.26542297 10.50013515 -5.81419038 -9.32967197  4.3472045\n",
      " -5.2778077  -2.34710649  3.76852902 -4.53798372]\n",
      "[-11.39365257   1.38908457  -1.46411388  -2.69584334   5.12949902\n",
      "  -3.0283072    3.73752433   2.63397041  -2.71470968   0.89220746]\n"
     ]
    }
   ],
   "source": [
    "# quick check\n",
    "print(Y_0)\n",
    "print(Y_1)"
   ],
   "metadata": {
    "collapsed": false,
    "ExecuteTime": {
     "end_time": "2023-05-15T15:53:04.223939900Z",
     "start_time": "2023-05-15T15:53:04.198995700Z"
    }
   }
  },
  {
   "cell_type": "code",
   "execution_count": 45,
   "outputs": [],
   "source": [
    "# 3: Simulate Treatment Assignments trough W.\n",
    "\n",
    "# Set propensity score\n",
    "e_x = 0.5 # TODO: change from setup\n",
    "\n",
    "# Simulate Treatment Assignment, FIX\n",
    "W = random.binomial(size=N, n=1, p=e_x)\n",
    "\n",
    "# Create Observed Outcome, FIX\n",
    "ones = np.ones(N)\n",
    "Y = np.multiply(W,Y_1) + np.multiply(ones-W,Y_0)"
   ],
   "metadata": {
    "collapsed": false,
    "ExecuteTime": {
     "end_time": "2023-05-15T15:53:09.608892900Z",
     "start_time": "2023-05-15T15:53:09.584868300Z"
    }
   }
  },
  {
   "cell_type": "code",
   "execution_count": 46,
   "outputs": [
    {
     "data": {
      "text/plain": "array([-11.39365257,   1.38908457,  -1.46411388,  -2.69584334,\n        -9.32967197,  -3.0283072 ,   3.73752433,   2.63397041,\n        -2.71470968,  -4.53798372])"
     },
     "execution_count": 46,
     "metadata": {},
     "output_type": "execute_result"
    }
   ],
   "source": [
    "# check out observed outcomes\n",
    "Y"
   ],
   "metadata": {
    "collapsed": false,
    "ExecuteTime": {
     "end_time": "2023-05-15T15:53:11.340063700Z",
     "start_time": "2023-05-15T15:53:11.250993900Z"
    }
   }
  },
  {
   "cell_type": "code",
   "execution_count": null,
   "outputs": [],
   "source": [],
   "metadata": {
    "collapsed": false
   }
  }
 ],
 "metadata": {
  "kernelspec": {
   "display_name": "Python 3",
   "language": "python",
   "name": "python3"
  },
  "language_info": {
   "codemirror_mode": {
    "name": "ipython",
    "version": 2
   },
   "file_extension": ".py",
   "mimetype": "text/x-python",
   "name": "python",
   "nbconvert_exporter": "python",
   "pygments_lexer": "ipython2",
   "version": "2.7.6"
  }
 },
 "nbformat": 4,
 "nbformat_minor": 0
}
