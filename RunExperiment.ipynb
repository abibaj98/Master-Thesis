{
 "cells": [
  {
   "cell_type": "code",
   "execution_count": null,
   "outputs": [],
   "source": [
    "import numpy as np\n",
    "from MetaLearner import *\n",
    "import pickle"
   ],
   "metadata": {
    "collapsed": false
   }
  },
  {
   "cell_type": "code",
   "execution_count": null,
   "outputs": [],
   "source": [
    "# todo: https://stackoverflow.com/questions/24168569/how-to-add-names-to-a-numpy-array-without-changing-its-dimension"
   ],
   "metadata": {
    "collapsed": false
   }
  },
  {
   "cell_type": "code",
   "execution_count": null,
   "metadata": {
    "collapsed": true
   },
   "outputs": [],
   "source": [
    "# This file runs the experiment"
   ]
  },
  {
   "cell_type": "code",
   "execution_count": null,
   "outputs": [],
   "source": [
    "file_name = \"/Users/arberimbibaj/Documents/Master Thesis ETH/DataSets /Generated/data_synthetic.pkl\"\n",
    "open_file = open(file_name, \"rb\")\n",
    "data = pickle.load(open_file)\n",
    "open_file.close()"
   ],
   "metadata": {
    "collapsed": false
   }
  },
  {
   "cell_type": "code",
   "execution_count": null,
   "outputs": [],
   "source": [
    "n_setups = 2\n",
    "sample_sizes = [200, 200]\n",
    "n_runs = 2\n",
    "learners = [TLearner('rf'), SLearner('rf'), XLearner('rf'), RLearner('rf'), DRLearner('rf'), RALearner('rf'),\n",
    "            PWLearner('rf'), ULearner('rf'),\n",
    "            TLearner('lasso'), SLearner('lasso'), XLearner('lasso'), RLearner('lasso'), DRLearner('lasso'),\n",
    "            RALearner('lasso'), PWLearner('lasso'), ULearner('lasso'),\n",
    "            TLearner('nn'), SLearner('nn'), XLearner('nn'), RLearner('nn'), DRLearner('nn'), RALearner('nn'),\n",
    "            PWLearner('nn'), ULearner('nn')]\n"
   ],
   "metadata": {
    "collapsed": false
   }
  },
  {
   "cell_type": "code",
   "execution_count": null,
   "outputs": [],
   "source": [
    "# What we want: For each setting and base learner --> matrix which includes the MSE, columns: Metalearners + SampleSize, rows: Run(1-10)\n",
    "# --> So we can plot the mean and 1se of the MSE for each Metalearner, each samplesize; giving the setting and baselearner\n",
    "# --> number of plots: settings*baselearner."
   ],
   "metadata": {
    "collapsed": false
   }
  },
  {
   "cell_type": "code",
   "execution_count": null,
   "outputs": [],
   "source": [
    "results = []\n",
    "\n",
    "for i in range(n_setups):\n",
    "    results.append([])\n",
    "\n",
    "for i in range(n_setups):\n",
    "    for baselearner in range(3):\n",
    "        results[i].append([])\n",
    "\n",
    "results"
   ],
   "metadata": {
    "collapsed": false
   }
  },
  {
   "cell_type": "code",
   "execution_count": null,
   "outputs": [],
   "source": [
    "dim = data[0][0][0][0].shape[1]  # dimension of x\n",
    "\n",
    "\n",
    "# helper function to get y, x, w, tau, out of data[][][][]\n",
    "def get_variables(dataset, setup, samplesize, run, train_test):\n",
    "    y = dataset[setup][samplesize][run][train_test][:, 0]\n",
    "    x = dataset[setup][samplesize][run][train_test][:, 1:(dim - 2)]\n",
    "    w = dataset[setup][samplesize][run][train_test][:, (dim - 2)]\n",
    "    tau = dataset[setup][samplesize][run][train_test][:, (dim - 1)]\n",
    "    return y, x, w, tau"
   ],
   "metadata": {
    "collapsed": false
   }
  },
  {
   "cell_type": "code",
   "execution_count": null,
   "outputs": [],
   "source": [
    "b = 0\n",
    "m = 0\n",
    "s = 0\n",
    "\n",
    "for i in range(n_setups):\n",
    "    print(f'Setup: {i + 1}')\n",
    "    # array for all mses for one setup\n",
    "    setup_mse = np.empty(shape=(0, 24))\n",
    "    s = 0  # restart index for samplesize\n",
    "    for size in sample_sizes:\n",
    "        print(f'Sample Size: {s + 1}')\n",
    "        # array for all mses for one setup and samplesize.\n",
    "        size_mse = np.empty(shape=(0, 24))\n",
    "        for r in range(n_runs):\n",
    "            print(f'Run: {r + 1}')\n",
    "            # array for all mses in one setup, samplesize and run.\n",
    "            mses = np.empty(shape=(1, 24))\n",
    "            # get data for specific setup, samplesize and run.\n",
    "            temp_y_train, temp_x_train, temp_w_train, temp_tau_train = get_variables(dataset=data, setup=i,\n",
    "                                                                                     samplesize=s, run=r,\n",
    "                                                                                     train_test=0)\n",
    "            temp_y_test, temp_x_test, temp_w_test, temp_tau_test = get_variables(dataset=data, setup=i,\n",
    "                                                                                 samplesize=s, run=r,\n",
    "                                                                                 train_test=1)\n",
    "            # restart index for metalearner\n",
    "            m = 0\n",
    "            for l in learners:\n",
    "                if m % 8 == 0: print(f'BaseLearner {m / 8 + 1}')\n",
    "                # training and testing MetaLearner.\n",
    "                learner = l\n",
    "                learner.fit(temp_x_train, temp_y_train, temp_w_train)\n",
    "                predictions = learner.predict(temp_x_test)\n",
    "                temp_mse = ((predictions - temp_tau_test) ** 2).mean()\n",
    "                # append mse of specific metalearner to 'mses'.\n",
    "                mses[0, m] = temp_mse\n",
    "                # update index\n",
    "                m += 1\n",
    "            # append 'mses' to 'size_mse'.\n",
    "            size_mse = np.append(size_mse, mses, axis=0)\n",
    "        # append 'size_mse' to 'setup_mse'.\n",
    "        setup_mse = np.append(setup_mse, size_mse, axis=0)\n",
    "        # update index\n",
    "        s += 1\n",
    "    # append to results\n",
    "    results[i][0] = setup_mse[:, 0:8]\n",
    "    results[i][1] = setup_mse[:, 8:16]\n",
    "    results[i][2] = setup_mse[:, 16:24]\n",
    "\n",
    "\n",
    "\n",
    "\n",
    "\n",
    "# this should make sense i guess! :)\n",
    "# TODO: CHECK IF IT MAKES IT FASTER IF EVERYTHING IS EITHER IN NP OR IN LIST/ARRAY BASE PYTHON.\n",
    "# TODO: DONE :)\n",
    "# TODO: DONE :)\n",
    "# TODO: DONE :)\n",
    "\n",
    "### IT TOOK 6M 40S FOR --> SAMPLE SIZES [200, 200], TEST SIZE = 50, 2 SETUPS, 2 RUNS LOL"
   ],
   "metadata": {
    "collapsed": false
   }
  },
  {
   "cell_type": "code",
   "execution_count": null,
   "outputs": [],
   "source": [
    "results[1][2]  # NICE :) (results probably bad, cuz sample size = 200 lol)"
   ],
   "metadata": {
    "collapsed": false
   }
  },
  {
   "cell_type": "markdown",
   "source": [
    "small check"
   ],
   "metadata": {
    "collapsed": false
   }
  },
  {
   "cell_type": "code",
   "execution_count": null,
   "outputs": [],
   "source": [
    "mses"
   ],
   "metadata": {
    "collapsed": false
   }
  },
  {
   "cell_type": "code",
   "execution_count": null,
   "outputs": [],
   "source": [
    "size_mse"
   ],
   "metadata": {
    "collapsed": false
   }
  },
  {
   "cell_type": "code",
   "execution_count": null,
   "outputs": [],
   "source": [
    "setup_mse"
   ],
   "metadata": {
    "collapsed": false
   }
  },
  {
   "cell_type": "code",
   "execution_count": null,
   "outputs": [],
   "source": [
    "# NICE :)))"
   ],
   "metadata": {
    "collapsed": false
   }
  }
 ],
 "metadata": {
  "kernelspec": {
   "display_name": "Python 3",
   "language": "python",
   "name": "python3"
  },
  "language_info": {
   "codemirror_mode": {
    "name": "ipython",
    "version": 2
   },
   "file_extension": ".py",
   "mimetype": "text/x-python",
   "name": "python",
   "nbconvert_exporter": "python",
   "pygments_lexer": "ipython2",
   "version": "2.7.6"
  }
 },
 "nbformat": 4,
 "nbformat_minor": 0
}
