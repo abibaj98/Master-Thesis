{
 "cells": [
  {
   "cell_type": "code",
   "execution_count": 1,
   "metadata": {
    "collapsed": true,
    "ExecuteTime": {
     "end_time": "2023-07-17T23:38:09.354204Z",
     "start_time": "2023-07-17T23:38:07.397526Z"
    }
   },
   "outputs": [],
   "source": [
    "from MetaLearner import *"
   ]
  },
  {
   "cell_type": "code",
   "execution_count": 2,
   "outputs": [],
   "source": [
    "import pickle\n",
    "import numpy as np\n",
    "import time"
   ],
   "metadata": {
    "collapsed": false,
    "ExecuteTime": {
     "end_time": "2023-07-17T23:38:12.291843Z",
     "start_time": "2023-07-17T23:38:12.280072Z"
    }
   }
  },
  {
   "cell_type": "code",
   "execution_count": null,
   "outputs": [],
   "source": [
    "# todo: https://stackoverflow.com/questions/24168569/how-to-add-names-to-a-numpy-array-without-changing-its-dimension"
   ],
   "metadata": {
    "collapsed": false
   }
  },
  {
   "cell_type": "code",
   "execution_count": null,
   "outputs": [],
   "source": [
    "# This file runs the experiment"
   ],
   "metadata": {
    "collapsed": false
   }
  },
  {
   "cell_type": "code",
   "execution_count": 3,
   "outputs": [],
   "source": [
    "tf.keras.backend.set_floatx('float64')"
   ],
   "metadata": {
    "collapsed": false,
    "ExecuteTime": {
     "end_time": "2023-07-17T23:38:14.269574Z",
     "start_time": "2023-07-17T23:38:14.235929Z"
    }
   }
  },
  {
   "cell_type": "code",
   "execution_count": 4,
   "outputs": [],
   "source": [
    "tf.keras.utils.set_random_seed(8953)"
   ],
   "metadata": {
    "collapsed": false,
    "ExecuteTime": {
     "end_time": "2023-07-17T23:38:14.406622Z",
     "start_time": "2023-07-17T23:38:14.404442Z"
    }
   }
  },
  {
   "cell_type": "code",
   "execution_count": 5,
   "outputs": [],
   "source": [
    "file_name = \"/Users/arberimbibaj/Documents/Master Thesis ETH/DataSets /Generated/data_synthetic_one_run.pkl\"\n",
    "open_file = open(file_name, \"rb\")\n",
    "data = pickle.load(open_file)\n",
    "open_file.close()"
   ],
   "metadata": {
    "collapsed": false,
    "ExecuteTime": {
     "end_time": "2023-07-17T23:38:15.301772Z",
     "start_time": "2023-07-17T23:38:15.255644Z"
    }
   }
  },
  {
   "cell_type": "code",
   "execution_count": 6,
   "outputs": [],
   "source": [
    "n_setups = 1\n",
    "sample_sizes = [500, 1000, 2000, 5000]\n",
    "n_runs = 1"
   ],
   "metadata": {
    "collapsed": false,
    "ExecuteTime": {
     "end_time": "2023-07-17T23:38:15.726491Z",
     "start_time": "2023-07-17T23:38:15.724373Z"
    }
   }
  },
  {
   "cell_type": "code",
   "execution_count": null,
   "outputs": [],
   "source": [
    "learners = [TLearner('rf'), SLearner('rf'), XLearner('rf'), RLearner('rf'), DRLearner('rf'), RALearner('rf'),\n",
    "            PWLearner('rf'), ULearner('rf'),\n",
    "            TLearner('lasso'), SLearner('lasso'), XLearner('lasso'), RLearner('lasso'), DRLearner('lasso'),\n",
    "            RALearner('lasso'), PWLearner('lasso'), ULearner('lasso'),\n",
    "            TLearner('nn'), SLearner('nn'), XLearner('nn'), RLearner('nn'), DRLearner('nn'), RALearner('nn'),\n",
    "            PWLearner('nn'), ULearner('nn')]"
   ],
   "metadata": {
    "collapsed": false
   }
  },
  {
   "cell_type": "code",
   "execution_count": 7,
   "outputs": [],
   "source": [
    "learners = [TLearner('nn'), SLearner('nn'), XLearner('nn'), RLearner('nn'), DRLearner('nn'), RALearner('nn'),\n",
    "            PWLearner('nn'), ULearner('nn')]"
   ],
   "metadata": {
    "collapsed": false,
    "ExecuteTime": {
     "end_time": "2023-07-17T23:38:18.772305Z",
     "start_time": "2023-07-17T23:38:18.321959Z"
    }
   }
  },
  {
   "cell_type": "code",
   "execution_count": null,
   "outputs": [],
   "source": [
    "learners = [RLearner('nn')]"
   ],
   "metadata": {
    "collapsed": false
   }
  },
  {
   "cell_type": "code",
   "execution_count": null,
   "outputs": [],
   "source": [
    "# What we want: For each setting and base learner --> matrix which includes the MSE, columns: Metalearners + SampleSize, rows: Run(1-10)\n",
    "# --> So we can plot the mean and 1se of the MSE for each Metalearner, each samplesize; giving the setting and baselearner\n",
    "# --> number of plots: settings*baselearner."
   ],
   "metadata": {
    "collapsed": false
   }
  },
  {
   "cell_type": "code",
   "execution_count": 8,
   "outputs": [
    {
     "data": {
      "text/plain": "[[[]]]"
     },
     "execution_count": 8,
     "metadata": {},
     "output_type": "execute_result"
    }
   ],
   "source": [
    "results = []\n",
    "\n",
    "for i in range(n_setups):\n",
    "    results.append([])\n",
    "\n",
    "for i in range(n_setups):\n",
    "    for baselearner in range(1):\n",
    "        results[i].append([])\n",
    "\n",
    "results"
   ],
   "metadata": {
    "collapsed": false,
    "ExecuteTime": {
     "end_time": "2023-07-17T23:38:21.555494Z",
     "start_time": "2023-07-17T23:38:21.553500Z"
    }
   }
  },
  {
   "cell_type": "code",
   "execution_count": 9,
   "outputs": [],
   "source": [
    "dim = data[0][0][0][0].shape[1]  # dimension of x\n",
    "\n",
    "\n",
    "# helper function to get y, x, w, tau, out of data[][][][]\n",
    "def get_variables(dataset, setup, samplesize, run, train_test):\n",
    "    y = dataset[setup][samplesize][run][train_test][:, 0]\n",
    "    x = dataset[setup][samplesize][run][train_test][:, 1:(dim - 2)]\n",
    "    w = dataset[setup][samplesize][run][train_test][:, (dim - 2)]\n",
    "    tau = dataset[setup][samplesize][run][train_test][:, (dim - 1)]\n",
    "    return y, x, w, tau"
   ],
   "metadata": {
    "collapsed": false,
    "ExecuteTime": {
     "end_time": "2023-07-17T23:38:22.796039Z",
     "start_time": "2023-07-17T23:38:22.784837Z"
    }
   }
  },
  {
   "cell_type": "code",
   "execution_count": 10,
   "outputs": [
    {
     "name": "stdout",
     "output_type": "stream",
     "text": [
      "Setup: 1\n",
      "Sample Size: 1\n",
      "Run: 1\n",
      "BaseLearner\n",
      "Learner 1: <MetaLearner.TLearner object at 0x288ca54e0>\n",
      "Time: 3.8948 seconds.\n",
      "Learner 2: <MetaLearner.SLearner object at 0x288cf3b80>\n",
      "Time: 1.7718 seconds.\n",
      "Learner 3: <MetaLearner.XLearner object at 0x288d73b20>\n",
      "Time: 7.1268 seconds.\n",
      "Learner 4: <MetaLearner.RLearner object at 0x288d86d70>\n",
      "Time: 4.6949 seconds.\n",
      "Learner 5: <MetaLearner.DRLearner object at 0x28909f2e0>\n",
      "Time: 47.815 seconds.\n",
      "Learner 6: <MetaLearner.RALearner object at 0x28912d9f0>\n",
      "Time: 6.1021 seconds.\n",
      "Learner 7: <MetaLearner.PWLearner object at 0x28919d3c0>\n",
      "Time: 3.2073 seconds.\n",
      "Learner 8: <MetaLearner.ULearner object at 0x2891d39d0>\n",
      "Time: 4.9505 seconds.\n",
      "Sample Size: 2\n",
      "Run: 1\n",
      "BaseLearner\n",
      "Learner 1: <MetaLearner.TLearner object at 0x288ca54e0>\n",
      "Time: 5.6017 seconds.\n",
      "Learner 2: <MetaLearner.SLearner object at 0x288cf3b80>\n",
      "Time: 3.4026 seconds.\n",
      "Learner 3: <MetaLearner.XLearner object at 0x288d73b20>\n",
      "Time: 10.8922 seconds.\n",
      "Learner 4: <MetaLearner.RLearner object at 0x288d86d70>\n",
      "Time: 6.5616 seconds.\n",
      "Learner 5: <MetaLearner.DRLearner object at 0x28909f2e0>\n",
      "Time: 16.9676 seconds.\n",
      "Learner 6: <MetaLearner.RALearner object at 0x28912d9f0>\n",
      "Time: 7.0549 seconds.\n",
      "Learner 7: <MetaLearner.PWLearner object at 0x28919d3c0>\n",
      "Time: 4.12 seconds.\n",
      "Learner 8: <MetaLearner.ULearner object at 0x2891d39d0>\n",
      "Time: 6.7536 seconds.\n",
      "Sample Size: 3\n",
      "Run: 1\n",
      "BaseLearner\n",
      "Learner 1: <MetaLearner.TLearner object at 0x288ca54e0>\n",
      "Time: 8.6127 seconds.\n",
      "Learner 2: <MetaLearner.SLearner object at 0x288cf3b80>\n",
      "Time: 5.6063 seconds.\n",
      "Learner 3: <MetaLearner.XLearner object at 0x288d73b20>\n",
      "Time: 21.0629 seconds.\n",
      "Learner 4: <MetaLearner.RLearner object at 0x288d86d70>\n",
      "Time: 17.7133 seconds.\n",
      "Learner 5: <MetaLearner.DRLearner object at 0x28909f2e0>\n",
      "Time: 35.8989 seconds.\n",
      "Learner 6: <MetaLearner.RALearner object at 0x28912d9f0>\n",
      "Time: 16.4544 seconds.\n",
      "Learner 7: <MetaLearner.PWLearner object at 0x28919d3c0>\n",
      "Time: 8.1674 seconds.\n",
      "Learner 8: <MetaLearner.ULearner object at 0x2891d39d0>\n",
      "Time: 18.646 seconds.\n",
      "Sample Size: 4\n",
      "Run: 1\n",
      "BaseLearner\n",
      "Learner 1: <MetaLearner.TLearner object at 0x288ca54e0>\n",
      "Time: 15.4622 seconds.\n",
      "Learner 2: <MetaLearner.SLearner object at 0x288cf3b80>\n",
      "Time: 7.837 seconds.\n",
      "Learner 3: <MetaLearner.XLearner object at 0x288d73b20>\n",
      "Time: 33.1263 seconds.\n",
      "Learner 4: <MetaLearner.RLearner object at 0x288d86d70>\n",
      "Time: 24.3287 seconds.\n",
      "Learner 5: <MetaLearner.DRLearner object at 0x28909f2e0>\n",
      "Time: 122.7955 seconds.\n",
      "Learner 6: <MetaLearner.RALearner object at 0x28912d9f0>\n",
      "Time: 28.819 seconds.\n",
      "Learner 7: <MetaLearner.PWLearner object at 0x28919d3c0>\n",
      "Time: 24.0269 seconds.\n",
      "Learner 8: <MetaLearner.ULearner object at 0x2891d39d0>\n",
      "Time: 37.6433 seconds.\n"
     ]
    }
   ],
   "source": [
    "b = 0\n",
    "m = 0\n",
    "s = 0\n",
    "\n",
    "for i in range(n_setups):\n",
    "    print(f'Setup: {i + 1}')\n",
    "    # array for all mses for one setup\n",
    "    setup_mse = np.empty(shape=(0, 24))\n",
    "    s = 0  # restart index for samplesize\n",
    "    for size in sample_sizes:\n",
    "        print(f'Sample Size: {s + 1}')\n",
    "        # array for all mses for one setup and samplesize.\n",
    "        size_mse = np.empty(shape=(0, 24))\n",
    "        for r in range(n_runs):\n",
    "            print(f'Run: {r + 1}')\n",
    "            # array for all mses in one setup, samplesize and run.\n",
    "            mses = np.empty(shape=(1, 24))\n",
    "            # get data for specific setup, samplesize and run.\n",
    "            temp_y_train, temp_x_train, temp_w_train, temp_tau_train = get_variables(dataset=data, setup=i,\n",
    "                                                                                     samplesize=s, run=r,\n",
    "                                                                                     train_test=0)\n",
    "            temp_y_test, temp_x_test, temp_w_test, temp_tau_test = get_variables(dataset=data, setup=i,\n",
    "                                                                                 samplesize=s, run=r,\n",
    "                                                                                 train_test=1)\n",
    "            # restart index for metalearner\n",
    "            m = 0\n",
    "            for l in learners:\n",
    "                if m % 8 == 0: print(f'BaseLearner')\n",
    "                print(f'Learner {m + 1}: {l}')\n",
    "                tic = time.time()\n",
    "                # training and testing MetaLearner.\n",
    "                learner = l\n",
    "                learner.fit(temp_x_train, temp_y_train, temp_w_train)\n",
    "                predictions = learner.predict(temp_x_test)\n",
    "                temp_mse = ((predictions - temp_tau_test) ** 2).mean()\n",
    "                # append mse of specific metalearner to 'mses'.\n",
    "                mses[0, m] = temp_mse\n",
    "                # print time\n",
    "                toc = time.time()\n",
    "                print(f'Time: {round(toc - tic, 4)} seconds.')\n",
    "                # update index\n",
    "                m += 1\n",
    "            # append 'mses' to 'size_mse'.\n",
    "            size_mse = np.append(size_mse, mses, axis=0)\n",
    "        # append 'size_mse' to 'setup_mse'.\n",
    "        setup_mse = np.append(setup_mse, size_mse, axis=0)\n",
    "        # update index\n",
    "        s += 1\n",
    "    # append to results\n",
    "    results[i][0] = setup_mse[:, 0:8]  # random forest\n",
    "    #results[i][1] = setup_mse[:, 8:16]  # lasso\n",
    "    #results[i][2] = setup_mse[:, 16:24]  # neural network\n",
    "\n",
    "\n",
    "\n",
    "\n",
    "\n",
    "# this should make sense i guess! :)\n",
    "# TODO: CHECK IF IT MAKES IT FASTER IF EVERYTHING IS EITHER IN NP OR IN LIST/ARRAY BASE PYTHON.\n",
    "# TODO: DONE :)\n",
    "# TODO: DONE :)\n",
    "# TODO: DONE :)\n",
    "\n",
    "### IT TOOK 6M 40S FOR --> SAMPLE SIZES [200, 200], TEST SIZE = 50, 2 SETUPS, 2 RUNS LOL\n",
    "\n",
    "### 35min for all Baselearners, 1 Setup, 1 Run, 4 Sample Sizes  ()"
   ],
   "metadata": {
    "collapsed": false,
    "ExecuteTime": {
     "end_time": "2023-07-17T23:47:50.071322Z",
     "start_time": "2023-07-17T23:38:22.945023Z"
    }
   }
  },
  {
   "cell_type": "code",
   "execution_count": null,
   "outputs": [],
   "source": [
    "### Training tau0 and tau1 takes extremely long!! compared to mu0 and mu1 in lasso!!! probably because of the max_iter"
   ],
   "metadata": {
    "collapsed": false
   }
  },
  {
   "cell_type": "code",
   "execution_count": null,
   "outputs": [],
   "source": [
    "setup_mse"
   ],
   "metadata": {
    "collapsed": false
   }
  },
  {
   "cell_type": "code",
   "execution_count": null,
   "outputs": [],
   "source": [
    "# set n_trees to 1000 to gain time or maybe even 500"
   ],
   "metadata": {
    "collapsed": false
   }
  },
  {
   "cell_type": "code",
   "execution_count": 11,
   "outputs": [
    {
     "data": {
      "text/plain": "array([[8.82242677e-01, 1.34512945e-01, 4.13139923e-01, 3.48320041e-01,\n        1.30060889e-01, 5.51353617e-01, 6.02475083e+00, 1.04965039e+00],\n       [8.21603347e-01, 2.02012140e-01, 4.50496680e-01, 1.74621963e+00,\n        1.04222708e+01, 7.24155584e-01, 2.98105190e+01, 9.95188563e+00],\n       [6.90702094e-01, 1.56491740e-01, 4.91725492e-01, 1.80013899e+00,\n        2.46925936e+00, 6.09572286e-01, 3.56520118e+01, 1.90493953e+00],\n       [3.35695025e-01, 4.81432903e-02, 2.13545315e-01, 7.92501269e-01,\n        6.45091965e+00, 3.46110284e-01, 9.55532026e+01, 1.94123052e+00]])"
     },
     "execution_count": 11,
     "metadata": {},
     "output_type": "execute_result"
    }
   ],
   "source": [
    "results[0][0]"
   ],
   "metadata": {
    "collapsed": false,
    "ExecuteTime": {
     "end_time": "2023-07-17T23:47:50.071880Z",
     "start_time": "2023-07-17T23:47:50.068345Z"
    }
   }
  },
  {
   "cell_type": "code",
   "execution_count": null,
   "outputs": [],
   "source": [
    "# 0.885576,0.134742,0.411388,0.344136,0.128143,0.588750,5.880639,1.026057\n",
    "# 0.815042,0.201147,0.439917,1.577994,10.549566,0.710207,29.923138,10.357554\n",
    "# 0.679716,0.154199,0.399313,1.942728,0.317815,0.607700,37.089789,1.663813\n",
    "# 0.285524,0.053260,0.222201,0.769516,6.082601,0.306323,92.644239,2.648658\n",
    "\n"
   ],
   "metadata": {
    "collapsed": false
   }
  },
  {
   "cell_type": "markdown",
   "source": [],
   "metadata": {
    "collapsed": false
   }
  },
  {
   "cell_type": "code",
   "execution_count": null,
   "outputs": [],
   "source": [
    "# results[0][2]\n",
    "# 0.694569,0.167760,0.567150,2.997832,0.467543,0.944197,16.717111,12.709246\n",
    "# 0.610678,0.187881,0.759497,22.874956,6.021213,1.137736,58.716848,1734.143168\n",
    "# 0.864565,0.183118,0.793892,7.919859,10.800849,1.035885,72.427161,343.769983\n",
    "# 0.233476,0.074466,0.366872,3.135558,34.819663,0.473895,124.064119,1850.331233\n",
    "\n",
    "# --> PW and U-learner are bad here (why?)\n",
    "# --> looks nice otherwise :)"
   ],
   "metadata": {
    "collapsed": false
   }
  },
  {
   "cell_type": "code",
   "execution_count": null,
   "outputs": [],
   "source": [
    "# Results[0][1]\n",
    "# 2.308568,1.004442,1.526483,0.028155,2.156328,2.115060,0.036090,0.033795\n",
    "# 1.791405,1.193947,1.260019,0.044737,0.323602,1.588854,5.308641,0.042311\n",
    "# 0.315428,0.336822,0.348231,0.023158,0.071988,0.244252,0.000031,0.017461\n",
    "# 0.023137,0.060074,0.034748,0.000366,0.000355,0.008674,0.225957,0.000360\n",
    "\n",
    "# --> nice :)"
   ],
   "metadata": {
    "collapsed": false
   }
  },
  {
   "cell_type": "code",
   "execution_count": null,
   "outputs": [],
   "source": [
    "# Results[0][0]\n",
    "# 2.164445,0.004278,0.921012,3.660252,1.532306,1.524151,4.093397,4.733766\n",
    "# 3.453443,0.004395,0.898049,4.667126,1.998041,2.072289,11.121975,5.068848\n",
    "# 2.233662,0.006844,0.710762,4.107797,1.644121,1.576521,14.268573,4.718986\n",
    "# 0.385062,0.001257,0.100568,0.423951,0.210232,0.208753,16.626195,0.465520\n",
    "\n",
    "\n",
    "# --> nice :)"
   ],
   "metadata": {
    "collapsed": false
   }
  },
  {
   "cell_type": "code",
   "execution_count": null,
   "outputs": [],
   "source": [
    "data[0][0][0][0]"
   ],
   "metadata": {
    "collapsed": false
   }
  },
  {
   "cell_type": "code",
   "execution_count": null,
   "outputs": [],
   "source": [],
   "metadata": {
    "collapsed": false
   }
  }
 ],
 "metadata": {
  "kernelspec": {
   "display_name": "Python 3",
   "language": "python",
   "name": "python3"
  },
  "language_info": {
   "codemirror_mode": {
    "name": "ipython",
    "version": 2
   },
   "file_extension": ".py",
   "mimetype": "text/x-python",
   "name": "python",
   "nbconvert_exporter": "python",
   "pygments_lexer": "ipython2",
   "version": "2.7.6"
  }
 },
 "nbformat": 4,
 "nbformat_minor": 0
}
