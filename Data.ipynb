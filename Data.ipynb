{
 "cells": [
  {
   "cell_type": "code",
   "execution_count": null,
   "metadata": {
    "collapsed": true
   },
   "outputs": [],
   "source": [
    "# import packages\n",
    "\n",
    "import numpy as np\n",
    "from numpy import random\n",
    "from scipy import stats\n",
    "import pandas as pd\n",
    "\n",
    "# import r packages (and functions) if needed\n",
    "\n",
    "import rpy2.robjects as robjects\n",
    "import rpy2.robjects.packages as rpackages\n",
    "#rpackages.importr(\"clusterGeneration\")\n",
    "#rpackages.importr(\"mpower\")\n",
    "#cluster_generation = robjects.packages.importr(\"clusterGeneration\")\n",
    "mpower = robjects.packages.importr(\"mpower\")"
   ]
  },
  {
   "cell_type": "code",
   "execution_count": null,
   "outputs": [],
   "source": [
    "# Fully Synthetic Data Sets (Set up from Künzel et al.)\n",
    "\n",
    "# 1: Simulate the d-dimensional X.\n",
    "# 2: Create Potential Outcomes Y(1) and Y(0).\n",
    "# 3: Simulate Treatment Assignments trough W."
   ],
   "metadata": {
    "collapsed": false
   }
  },
  {
   "cell_type": "code",
   "execution_count": null,
   "outputs": [],
   "source": [
    "# 1: Simulate the d-dimensional X\n",
    "\n",
    "\n",
    "# Setup parameters\n",
    "d = 25 # TODO: set dimension according to setup\n",
    "N = 100 # TODO: set sample size according to setup\n",
    "\n",
    "# X Correlation matrix and mean\n",
    "mean = np.zeros(d) # TODO: set mean according to setup\n",
    "cov = np.array(mpower.cvine(d=d, alpha = 0.5, beta = 0.5)) # TODO: set cov according to setup\n",
    "\n",
    "# Simulate X\n",
    "X = random.multivariate_normal(mean=mean, cov=cov, size=N, check_valid='warn')"
   ],
   "metadata": {
    "collapsed": false
   }
  },
  {
   "cell_type": "code",
   "execution_count": null,
   "outputs": [],
   "source": [
    "# Check X\n",
    "X"
   ],
   "metadata": {
    "collapsed": false
   }
  },
  {
   "cell_type": "code",
   "execution_count": null,
   "outputs": [],
   "source": [
    "# Check cov\n",
    "cov"
   ],
   "metadata": {
    "collapsed": false
   }
  },
  {
   "cell_type": "code",
   "execution_count": null,
   "outputs": [],
   "source": [
    "# 2: Create Potential Outcomes Y(1) and Y(0).\n",
    "\n",
    "# 2.1 Simulate errors, FIX\n",
    "e_0 = random.normal(loc=0.0,scale=1.0,size=N)\n",
    "e_1 = random.normal(loc=0.0,scale=1.0,size=N)"
   ],
   "metadata": {
    "collapsed": false
   }
  },
  {
   "cell_type": "code",
   "execution_count": null,
   "outputs": [],
   "source": [
    "# Just to make it work, create betas\n",
    "beta_0 = [2,3,-3,1,4] # TODO: delete or change\n",
    "beta_1 = [1,1,0,-5,3] # TODO: delete or change\n",
    "\n",
    "# Create Response Functions\n",
    "mu_0 = np.matmul(X,beta_0) # TODO: change according to setup\n",
    "mu_1 = np.matmul(X,beta_1) # TODO: change according to setup"
   ],
   "metadata": {
    "collapsed": false
   }
  },
  {
   "cell_type": "code",
   "execution_count": null,
   "outputs": [],
   "source": [
    "# 2.2 Create Response Functions\n",
    "\n",
    "# complex linear cate SI2\n",
    "betas_0 = random.uniform(low=-15, high=15, size=d)\n",
    "betas_1 = random.uniform(low=-15, high=15, size=d)\n",
    "mu_0 = np.matmul(X,betas_0)\n",
    "mu_1 = np.matmul(X,betas_1)\n",
    "tau = mu_1 - mu_0\n"
   ],
   "metadata": {
    "collapsed": false
   }
  },
  {
   "cell_type": "code",
   "execution_count": null,
   "outputs": [],
   "source": [
    "# complex non-linear cate\n"
   ],
   "metadata": {
    "collapsed": false
   }
  },
  {
   "cell_type": "code",
   "execution_count": null,
   "outputs": [],
   "source": [
    "# no treatment effect, global linear"
   ],
   "metadata": {
    "collapsed": false
   }
  },
  {
   "cell_type": "code",
   "execution_count": null,
   "outputs": [],
   "source": [
    "# no treatment effect, piecewise linear"
   ],
   "metadata": {
    "collapsed": false
   }
  },
  {
   "cell_type": "code",
   "execution_count": null,
   "outputs": [],
   "source": [
    "# simple linear cate SI1\n",
    "betas_0 = random.uniform(low=-5, high=5, size=d)\n",
    "mu_0 = np.matmul(X,betas_0) + 5*np.int8(X[:,0]>0.5)\n",
    "mu_1 = mu_0 + 8*np.int8(X[:,1]>0.1)\n",
    "tau = mu_1 - mu_0"
   ],
   "metadata": {
    "collapsed": false
   }
  },
  {
   "cell_type": "code",
   "execution_count": null,
   "outputs": [],
   "source": [
    "# beta confouned, no treatment effect SI6\n",
    "X = random.uniform(low=0, high=1, size=(N,d)) # ACHTUNG: nöd wiederhole!\n",
    "mu_0 = 2*X[:,0] - 1\n",
    "mu_1 = mu_0\n",
    "tau = np.zeros(N)"
   ],
   "metadata": {
    "collapsed": false
   }
  },
  {
   "cell_type": "code",
   "execution_count": null,
   "outputs": [],
   "source": [
    "# beta confounded, simple cate?\n"
   ],
   "metadata": {
    "collapsed": false
   }
  },
  {
   "cell_type": "code",
   "execution_count": null,
   "outputs": [],
   "source": [
    "# 2.3 Creat Potential Outcomes, FIX\n",
    "Y_0 = mu_0 + e_0\n",
    "Y_1 = mu_1 + e_1"
   ],
   "metadata": {
    "collapsed": false
   }
  },
  {
   "cell_type": "code",
   "execution_count": null,
   "outputs": [],
   "source": [
    "# quick check Y_0\n",
    "Y_0"
   ],
   "metadata": {
    "collapsed": false
   }
  },
  {
   "cell_type": "code",
   "execution_count": null,
   "outputs": [],
   "source": [
    "# Quick Check Y_1\n",
    "Y_1"
   ],
   "metadata": {
    "collapsed": false
   }
  },
  {
   "cell_type": "code",
   "execution_count": null,
   "outputs": [],
   "source": [
    "# 3.1 Propensity score setups # TODO: change for setup\n",
    "\n",
    "# i) constant, balanced\n",
    "e_x = 0.5\n",
    "\n",
    "# ii) constant, unbalanced\n",
    "e_x = 0.01\n",
    "\n",
    "# iii) beta confounded SI6\n",
    "X = random.uniform(low=0, high=1, size=(N,d))\n",
    "beta_dist = stats.beta(a=2, b=4) # set beta distribution\n",
    "beta_values = beta_dist.pdf(X[:,0]) # calculate pdf values for x1\n",
    "e_x = 1/4*(1+beta_values)\n",
    "\n",
    "pd.DataFrame(e_x).describe() # summary stats of e_x"
   ],
   "metadata": {
    "collapsed": false
   }
  },
  {
   "cell_type": "code",
   "execution_count": null,
   "outputs": [],
   "source": [
    "X"
   ],
   "metadata": {
    "collapsed": false
   }
  },
  {
   "cell_type": "code",
   "execution_count": null,
   "outputs": [],
   "source": [
    "# 3.2 Simulate Treatment Assignments trough W\n",
    "\n",
    "# Simulate Treatment Assignment, FIX\n",
    "W = random.binomial(size=N, n=1, p=e_x)\n",
    "\n",
    "# Create Observed Outcome, FIX\n",
    "ones = np.ones(N)\n",
    "Y = np.multiply(W,Y_1) + np.multiply(ones-W,Y_0)"
   ],
   "metadata": {
    "collapsed": false
   }
  },
  {
   "cell_type": "code",
   "execution_count": null,
   "outputs": [],
   "source": [
    "# check out observed outcomes\n",
    "Y"
   ],
   "metadata": {
    "collapsed": false
   }
  }
 ],
 "metadata": {
  "kernelspec": {
   "display_name": "Python 3",
   "language": "python",
   "name": "python3"
  },
  "language_info": {
   "codemirror_mode": {
    "name": "ipython",
    "version": 2
   },
   "file_extension": ".py",
   "mimetype": "text/x-python",
   "name": "python",
   "nbconvert_exporter": "python",
   "pygments_lexer": "ipython2",
   "version": "2.7.6"
  }
 },
 "nbformat": 4,
 "nbformat_minor": 0
}
