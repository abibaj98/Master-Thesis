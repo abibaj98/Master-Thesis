{
 "cells": [
  {
   "cell_type": "code",
   "execution_count": 1,
   "metadata": {
    "collapsed": true,
    "ExecuteTime": {
     "end_time": "2023-07-11T23:30:37.440269Z",
     "start_time": "2023-07-11T23:30:34.916386Z"
    }
   },
   "outputs": [],
   "source": [
    "from MetaLearner import *"
   ]
  },
  {
   "cell_type": "code",
   "execution_count": 2,
   "outputs": [],
   "source": [
    "import pickle\n",
    "import numpy as np\n",
    "import time"
   ],
   "metadata": {
    "collapsed": false,
    "ExecuteTime": {
     "end_time": "2023-07-11T23:30:37.442345Z",
     "start_time": "2023-07-11T23:30:37.440879Z"
    }
   }
  },
  {
   "cell_type": "code",
   "execution_count": 3,
   "outputs": [],
   "source": [
    "# todo: https://stackoverflow.com/questions/24168569/how-to-add-names-to-a-numpy-array-without-changing-its-dimension"
   ],
   "metadata": {
    "collapsed": false,
    "ExecuteTime": {
     "end_time": "2023-07-11T23:30:37.444649Z",
     "start_time": "2023-07-11T23:30:37.443155Z"
    }
   }
  },
  {
   "cell_type": "code",
   "execution_count": 4,
   "outputs": [],
   "source": [
    "# This file runs the experiment"
   ],
   "metadata": {
    "collapsed": false,
    "ExecuteTime": {
     "end_time": "2023-07-11T23:30:37.446506Z",
     "start_time": "2023-07-11T23:30:37.445418Z"
    }
   }
  },
  {
   "cell_type": "code",
   "execution_count": 5,
   "outputs": [],
   "source": [
    "tf.keras.backend.set_floatx('float64')"
   ],
   "metadata": {
    "collapsed": false,
    "ExecuteTime": {
     "end_time": "2023-07-11T23:30:38.868590Z",
     "start_time": "2023-07-11T23:30:38.854363Z"
    }
   }
  },
  {
   "cell_type": "code",
   "execution_count": 6,
   "outputs": [],
   "source": [
    "tf.keras.utils.set_random_seed(8953)"
   ],
   "metadata": {
    "collapsed": false,
    "ExecuteTime": {
     "end_time": "2023-07-11T23:30:39.162927Z",
     "start_time": "2023-07-11T23:30:39.158628Z"
    }
   }
  },
  {
   "cell_type": "code",
   "execution_count": 7,
   "outputs": [],
   "source": [
    "file_name = \"/Users/arberimbibaj/Documents/Master Thesis ETH/DataSets /Generated/data_synthetic_one_run.pkl\"\n",
    "open_file = open(file_name, \"rb\")\n",
    "data = pickle.load(open_file)\n",
    "open_file.close()"
   ],
   "metadata": {
    "collapsed": false,
    "ExecuteTime": {
     "end_time": "2023-07-11T23:30:39.807036Z",
     "start_time": "2023-07-11T23:30:39.793159Z"
    }
   }
  },
  {
   "cell_type": "code",
   "execution_count": 8,
   "outputs": [],
   "source": [
    "n_setups = 1\n",
    "# sample_sizes = [500, 1000, 2000, 5000]\n",
    "sample_sizes = [500, 1000, 2000, 5000]\n",
    "n_runs = 1"
   ],
   "metadata": {
    "collapsed": false,
    "ExecuteTime": {
     "end_time": "2023-07-11T23:30:42.322522Z",
     "start_time": "2023-07-11T23:30:42.318092Z"
    }
   }
  },
  {
   "cell_type": "code",
   "execution_count": 9,
   "outputs": [],
   "source": [
    "learners = [TLearner('rf'), SLearner('rf'), XLearner('rf'), RLearner('rf'), DRLearner('rf'), RALearner('rf'),\n",
    "            PWLearner('rf'), ULearner('rf'),\n",
    "            TLearner('lasso'), SLearner('lasso'), XLearner('lasso'), RLearner('lasso'), DRLearner('lasso'),\n",
    "            RALearner('lasso'), PWLearner('lasso'), ULearner('lasso'),\n",
    "            TLearner('nn'), SLearner('nn'), XLearner('nn'), RLearner('nn'), DRLearner('nn'), RALearner('nn'),\n",
    "            PWLearner('nn'), ULearner('nn')]"
   ],
   "metadata": {
    "collapsed": false,
    "ExecuteTime": {
     "end_time": "2023-07-11T23:30:45.497085Z",
     "start_time": "2023-07-11T23:30:43.254996Z"
    }
   }
  },
  {
   "cell_type": "code",
   "execution_count": null,
   "outputs": [],
   "source": [
    "learners = [TLearner('nn'), SLearner('nn'), XLearner('nn'), RLearner('nn'), DRLearner('nn'), RALearner('nn'),\n",
    "            PWLearner('nn'), ULearner('nn')]"
   ],
   "metadata": {
    "collapsed": false
   }
  },
  {
   "cell_type": "code",
   "execution_count": null,
   "outputs": [],
   "source": [
    "learners = [TLearner('nn')]"
   ],
   "metadata": {
    "collapsed": false
   }
  },
  {
   "cell_type": "code",
   "execution_count": null,
   "outputs": [],
   "source": [
    "# What we want: For each setting and base learner --> matrix which includes the MSE, columns: Metalearners + SampleSize, rows: Run(1-10)\n",
    "# --> So we can plot the mean and 1se of the MSE for each Metalearner, each samplesize; giving the setting and baselearner\n",
    "# --> number of plots: settings*baselearner."
   ],
   "metadata": {
    "collapsed": false
   }
  },
  {
   "cell_type": "code",
   "execution_count": 10,
   "outputs": [
    {
     "data": {
      "text/plain": "[[[], [], []]]"
     },
     "execution_count": 10,
     "metadata": {},
     "output_type": "execute_result"
    }
   ],
   "source": [
    "results = []\n",
    "\n",
    "for i in range(n_setups):\n",
    "    results.append([])\n",
    "\n",
    "for i in range(n_setups):\n",
    "    for baselearner in range(3):\n",
    "        results[i].append([])\n",
    "\n",
    "results"
   ],
   "metadata": {
    "collapsed": false,
    "ExecuteTime": {
     "end_time": "2023-07-11T23:30:47.053234Z",
     "start_time": "2023-07-11T23:30:47.042105Z"
    }
   }
  },
  {
   "cell_type": "code",
   "execution_count": 11,
   "outputs": [],
   "source": [
    "dim = data[0][0][0][0].shape[1]  # dimension of x\n",
    "\n",
    "\n",
    "# helper function to get y, x, w, tau, out of data[][][][]\n",
    "def get_variables(dataset, setup, samplesize, run, train_test):\n",
    "    y = dataset[setup][samplesize][run][train_test][:, 0]\n",
    "    x = dataset[setup][samplesize][run][train_test][:, 1:(dim - 2)]\n",
    "    w = dataset[setup][samplesize][run][train_test][:, (dim - 2)]\n",
    "    tau = dataset[setup][samplesize][run][train_test][:, (dim - 1)]\n",
    "    return y, x, w, tau"
   ],
   "metadata": {
    "collapsed": false,
    "ExecuteTime": {
     "end_time": "2023-07-11T23:30:48.628323Z",
     "start_time": "2023-07-11T23:30:48.617339Z"
    }
   }
  },
  {
   "cell_type": "code",
   "execution_count": 12,
   "outputs": [
    {
     "name": "stdout",
     "output_type": "stream",
     "text": [
      "Setup: 1\n",
      "Sample Size: 1\n",
      "Run: 1\n",
      "BaseLearner\n",
      "Learner 1: <MetaLearner.TLearner object at 0x290501960>\n",
      "Time: 1.6043 seconds.\n",
      "Learner 2: <MetaLearner.SLearner object at 0x290559360>\n",
      "Time: 2.9222 seconds.\n",
      "Learner 3: <MetaLearner.XLearner object at 0x290558c10>\n",
      "Time: 6.9985 seconds.\n",
      "Learner 4: <MetaLearner.RLearner object at 0x290559fc0>\n",
      "Time: 8.6622 seconds.\n",
      "Learner 5: <MetaLearner.DRLearner object at 0x29055a650>\n",
      "Time: 8.0751 seconds.\n",
      "Learner 6: <MetaLearner.RALearner object at 0x290559840>\n",
      "Time: 6.7964 seconds.\n",
      "Learner 7: <MetaLearner.PWLearner object at 0x290559ba0>\n",
      "Time: 5.53 seconds.\n",
      "Learner 8: <MetaLearner.ULearner object at 0x290559a80>\n",
      "Time: 8.84 seconds.\n",
      "BaseLearner\n",
      "Learner 9: <MetaLearner.TLearner object at 0x29055a4a0>\n",
      "Time: 1.759 seconds.\n",
      "Learner 10: <MetaLearner.SLearner object at 0x29055a050>\n",
      "Time: 1.8999 seconds.\n",
      "Learner 11: <MetaLearner.XLearner object at 0x290559e70>\n",
      "Time: 3.7884 seconds.\n",
      "Learner 12: <MetaLearner.RLearner object at 0x290559f90>\n",
      "Time: 4.5362 seconds.\n",
      "Learner 13: <MetaLearner.DRLearner object at 0x290559de0>\n",
      "Time: 5.6802 seconds.\n",
      "Learner 14: <MetaLearner.RALearner object at 0x290559e10>\n",
      "Time: 4.1753 seconds.\n",
      "Learner 15: <MetaLearner.PWLearner object at 0x29055ad70>\n",
      "Time: 3.2553 seconds.\n",
      "Learner 16: <MetaLearner.ULearner object at 0x29055aef0>\n",
      "Time: 4.5337 seconds.\n",
      "BaseLearner\n",
      "Learner 17: <MetaLearner.TLearner object at 0x29055b0a0>\n",
      "Time: 4.4972 seconds.\n",
      "Learner 18: <MetaLearner.SLearner object at 0x29055b1c0>\n",
      "Time: 2.5572 seconds.\n",
      "Learner 19: <MetaLearner.XLearner object at 0x29055b430>\n",
      "Time: 10.7631 seconds.\n",
      "Learner 20: <MetaLearner.RLearner object at 0x29055b1f0>\n",
      "Time: 7.6431 seconds.\n",
      "Learner 21: <MetaLearner.DRLearner object at 0x29055b220>\n",
      "Time: 15.9381 seconds.\n",
      "Learner 22: <MetaLearner.RALearner object at 0x291670f40>\n",
      "Time: 6.7797 seconds.\n",
      "Learner 23: <MetaLearner.PWLearner object at 0x2916708b0>\n",
      "Time: 4.8988 seconds.\n",
      "Learner 24: <MetaLearner.ULearner object at 0x29386c400>\n",
      "Time: 7.1602 seconds.\n",
      "Sample Size: 2\n",
      "Run: 1\n",
      "BaseLearner\n",
      "Learner 1: <MetaLearner.TLearner object at 0x290501960>\n",
      "Time: 2.4868 seconds.\n",
      "Learner 2: <MetaLearner.SLearner object at 0x290559360>\n",
      "Time: 6.1189 seconds.\n",
      "Learner 3: <MetaLearner.XLearner object at 0x290558c10>\n",
      "Time: 14.2136 seconds.\n",
      "Learner 4: <MetaLearner.RLearner object at 0x290559fc0>\n",
      "Time: 22.0248 seconds.\n",
      "Learner 5: <MetaLearner.DRLearner object at 0x29055a650>\n",
      "Time: 18.7571 seconds.\n",
      "Learner 6: <MetaLearner.RALearner object at 0x290559840>\n",
      "Time: 15.7463 seconds.\n",
      "Learner 7: <MetaLearner.PWLearner object at 0x290559ba0>\n",
      "Time: 16.9936 seconds.\n",
      "Learner 8: <MetaLearner.ULearner object at 0x290559a80>\n",
      "Time: 21.1303 seconds.\n",
      "BaseLearner\n",
      "Learner 9: <MetaLearner.TLearner object at 0x29055a4a0>\n",
      "Time: 3.1556 seconds.\n",
      "Learner 10: <MetaLearner.SLearner object at 0x29055a050>\n",
      "Time: 3.2617 seconds.\n",
      "Learner 11: <MetaLearner.XLearner object at 0x290559e70>\n",
      "Time: 7.5468 seconds.\n",
      "Learner 12: <MetaLearner.RLearner object at 0x290559f90>\n",
      "Time: 6.9577 seconds.\n",
      "Learner 13: <MetaLearner.DRLearner object at 0x290559de0>\n",
      "Time: 7.2431 seconds.\n",
      "Learner 14: <MetaLearner.RALearner object at 0x290559e10>\n",
      "Time: 5.8449 seconds.\n",
      "Learner 15: <MetaLearner.PWLearner object at 0x29055ad70>\n",
      "Time: 4.1332 seconds.\n",
      "Learner 16: <MetaLearner.ULearner object at 0x29055aef0>\n",
      "Time: 7.1571 seconds.\n",
      "BaseLearner\n",
      "Learner 17: <MetaLearner.TLearner object at 0x29055b0a0>\n",
      "Time: 5.2392 seconds.\n",
      "Learner 18: <MetaLearner.SLearner object at 0x29055b1c0>\n",
      "Time: 3.3127 seconds.\n",
      "Learner 19: <MetaLearner.XLearner object at 0x29055b430>\n",
      "Time: 12.2773 seconds.\n",
      "Learner 20: <MetaLearner.RLearner object at 0x29055b1f0>\n",
      "Time: 8.9738 seconds.\n",
      "Learner 21: <MetaLearner.DRLearner object at 0x29055b220>\n",
      "Time: 15.7346 seconds.\n",
      "Learner 22: <MetaLearner.RALearner object at 0x291670f40>\n",
      "Time: 8.1454 seconds.\n",
      "Learner 23: <MetaLearner.PWLearner object at 0x2916708b0>\n",
      "Time: 5.9333 seconds.\n",
      "Learner 24: <MetaLearner.ULearner object at 0x29386c400>\n",
      "Time: 9.0184 seconds.\n",
      "Sample Size: 3\n",
      "Run: 1\n",
      "BaseLearner\n",
      "Learner 1: <MetaLearner.TLearner object at 0x290501960>\n",
      "Time: 4.5336 seconds.\n",
      "Learner 2: <MetaLearner.SLearner object at 0x290559360>\n",
      "Time: 13.5463 seconds.\n",
      "Learner 3: <MetaLearner.XLearner object at 0x290558c10>\n",
      "Time: 30.9682 seconds.\n",
      "Learner 4: <MetaLearner.RLearner object at 0x290559fc0>\n",
      "Time: 55.4077 seconds.\n",
      "Learner 5: <MetaLearner.DRLearner object at 0x29055a650>\n",
      "Time: 45.8861 seconds.\n",
      "Learner 6: <MetaLearner.RALearner object at 0x290559840>\n",
      "Time: 38.5142 seconds.\n",
      "Learner 7: <MetaLearner.PWLearner object at 0x290559ba0>\n",
      "Time: 46.3839 seconds.\n",
      "Learner 8: <MetaLearner.ULearner object at 0x290559a80>\n",
      "Time: 51.8783 seconds.\n",
      "BaseLearner\n",
      "Learner 9: <MetaLearner.TLearner object at 0x29055a4a0>\n",
      "Time: 6.5361 seconds.\n",
      "Learner 10: <MetaLearner.SLearner object at 0x29055a050>\n",
      "Time: 10.8355 seconds.\n",
      "Learner 11: <MetaLearner.XLearner object at 0x290559e70>\n",
      "Time: 20.7224 seconds.\n",
      "Learner 12: <MetaLearner.RLearner object at 0x290559f90>\n",
      "Time: 11.492 seconds.\n",
      "Learner 13: <MetaLearner.DRLearner object at 0x290559de0>\n",
      "Time: 15.0754 seconds.\n",
      "Learner 14: <MetaLearner.RALearner object at 0x290559e10>\n",
      "Time: 13.2973 seconds.\n",
      "Learner 15: <MetaLearner.PWLearner object at 0x29055ad70>\n",
      "Time: 6.7934 seconds.\n",
      "Learner 16: <MetaLearner.ULearner object at 0x29055aef0>\n",
      "Time: 10.1654 seconds.\n",
      "BaseLearner\n",
      "Learner 17: <MetaLearner.TLearner object at 0x29055b0a0>\n",
      "Time: 7.8934 seconds.\n",
      "Learner 18: <MetaLearner.SLearner object at 0x29055b1c0>\n",
      "Time: 6.8896 seconds.\n",
      "Learner 19: <MetaLearner.XLearner object at 0x29055b430>\n",
      "Time: 18.5429 seconds.\n",
      "Learner 20: <MetaLearner.RLearner object at 0x29055b1f0>\n",
      "Time: 14.4569 seconds.\n",
      "Learner 21: <MetaLearner.DRLearner object at 0x29055b220>\n",
      "Time: 29.6084 seconds.\n",
      "Learner 22: <MetaLearner.RALearner object at 0x291670f40>\n",
      "Time: 12.2093 seconds.\n",
      "Learner 23: <MetaLearner.PWLearner object at 0x2916708b0>\n",
      "Time: 9.1517 seconds.\n",
      "Learner 24: <MetaLearner.ULearner object at 0x29386c400>\n",
      "Time: 14.879 seconds.\n",
      "Sample Size: 4\n",
      "Run: 1\n",
      "BaseLearner\n",
      "Learner 1: <MetaLearner.TLearner object at 0x290501960>\n",
      "Time: 11.8037 seconds.\n",
      "Learner 2: <MetaLearner.SLearner object at 0x290559360>\n",
      "Time: 38.2406 seconds.\n",
      "Learner 3: <MetaLearner.XLearner object at 0x290558c10>\n",
      "Time: 95.9554 seconds.\n",
      "Learner 4: <MetaLearner.RLearner object at 0x290559fc0>\n",
      "Time: 158.5155 seconds.\n",
      "Learner 5: <MetaLearner.DRLearner object at 0x29055a650>\n",
      "Time: 137.5809 seconds.\n",
      "Learner 6: <MetaLearner.RALearner object at 0x290559840>\n",
      "Time: 119.0376 seconds.\n",
      "Learner 7: <MetaLearner.PWLearner object at 0x290559ba0>\n",
      "Time: 218.3997 seconds.\n",
      "Learner 8: <MetaLearner.ULearner object at 0x290559a80>\n",
      "Time: 153.5709 seconds.\n",
      "BaseLearner\n",
      "Learner 9: <MetaLearner.TLearner object at 0x29055a4a0>\n",
      "Time: 5.6623 seconds.\n",
      "Learner 10: <MetaLearner.SLearner object at 0x29055a050>\n",
      "Time: 5.713 seconds.\n",
      "Learner 11: <MetaLearner.XLearner object at 0x290559e70>\n",
      "Time: 17.4468 seconds.\n",
      "Learner 12: <MetaLearner.RLearner object at 0x290559f90>\n",
      "Time: 14.4138 seconds.\n",
      "Learner 13: <MetaLearner.DRLearner object at 0x290559de0>\n",
      "Time: 14.8471 seconds.\n",
      "Learner 14: <MetaLearner.RALearner object at 0x290559e10>\n",
      "Time: 10.0728 seconds.\n",
      "Learner 15: <MetaLearner.PWLearner object at 0x29055ad70>\n",
      "Time: 10.1844 seconds.\n",
      "Learner 16: <MetaLearner.ULearner object at 0x29055aef0>\n",
      "Time: 14.7596 seconds.\n",
      "BaseLearner\n",
      "Learner 17: <MetaLearner.TLearner object at 0x29055b0a0>\n",
      "Time: 12.3178 seconds.\n",
      "Learner 18: <MetaLearner.SLearner object at 0x29055b1c0>\n",
      "Time: 11.1268 seconds.\n",
      "Learner 19: <MetaLearner.XLearner object at 0x29055b430>\n",
      "Time: 34.6597 seconds.\n",
      "Learner 20: <MetaLearner.RLearner object at 0x29055b1f0>\n",
      "Time: 32.2447 seconds.\n",
      "Learner 21: <MetaLearner.DRLearner object at 0x29055b220>\n",
      "Time: 74.1801 seconds.\n",
      "Learner 22: <MetaLearner.RALearner object at 0x291670f40>\n",
      "Time: 22.4153 seconds.\n",
      "Learner 23: <MetaLearner.PWLearner object at 0x2916708b0>\n",
      "Time: 22.6565 seconds.\n",
      "Learner 24: <MetaLearner.ULearner object at 0x29386c400>\n",
      "Time: 32.4192 seconds.\n"
     ]
    }
   ],
   "source": [
    "b = 0\n",
    "m = 0\n",
    "s = 0\n",
    "\n",
    "for i in range(n_setups):\n",
    "    print(f'Setup: {i + 1}')\n",
    "    # array for all mses for one setup\n",
    "    setup_mse = np.empty(shape=(0, 24))\n",
    "    s = 0  # restart index for samplesize\n",
    "    for size in sample_sizes:\n",
    "        print(f'Sample Size: {s + 1}')\n",
    "        # array for all mses for one setup and samplesize.\n",
    "        size_mse = np.empty(shape=(0, 24))\n",
    "        for r in range(n_runs):\n",
    "            print(f'Run: {r + 1}')\n",
    "            # array for all mses in one setup, samplesize and run.\n",
    "            mses = np.empty(shape=(1, 24))\n",
    "            # get data for specific setup, samplesize and run.\n",
    "            temp_y_train, temp_x_train, temp_w_train, temp_tau_train = get_variables(dataset=data, setup=i,\n",
    "                                                                                     samplesize=s, run=r,\n",
    "                                                                                     train_test=0)\n",
    "            temp_y_test, temp_x_test, temp_w_test, temp_tau_test = get_variables(dataset=data, setup=i,\n",
    "                                                                                 samplesize=s, run=r,\n",
    "                                                                                 train_test=1)\n",
    "            # restart index for metalearner\n",
    "            m = 0\n",
    "            for l in learners:\n",
    "                if m % 8 == 0: print(f'BaseLearner')\n",
    "                print(f'Learner {m + 1}: {l}')\n",
    "                tic = time.time()\n",
    "                # training and testing MetaLearner.\n",
    "                learner = l\n",
    "                learner.fit(temp_x_train, temp_y_train, temp_w_train)\n",
    "                predictions = learner.predict(temp_x_test)\n",
    "                temp_mse = ((predictions - temp_tau_test) ** 2).mean()\n",
    "                # append mse of specific metalearner to 'mses'.\n",
    "                mses[0, m] = temp_mse\n",
    "                # print time\n",
    "                toc = time.time()\n",
    "                print(f'Time: {round(toc - tic, 4)} seconds.')\n",
    "                # update index\n",
    "                m += 1\n",
    "            # append 'mses' to 'size_mse'.\n",
    "            size_mse = np.append(size_mse, mses, axis=0)\n",
    "        # append 'size_mse' to 'setup_mse'.\n",
    "        setup_mse = np.append(setup_mse, size_mse, axis=0)\n",
    "        # update index\n",
    "        s += 1\n",
    "    # append to results\n",
    "    results[i][0] = setup_mse[:, 0:8]  # random forest\n",
    "    results[i][1] = setup_mse[:, 8:16]  # lasso\n",
    "    results[i][2] = setup_mse[:, 16:24]  # neural network\n",
    "\n",
    "\n",
    "\n",
    "\n",
    "\n",
    "# this should make sense i guess! :)\n",
    "# TODO: CHECK IF IT MAKES IT FASTER IF EVERYTHING IS EITHER IN NP OR IN LIST/ARRAY BASE PYTHON.\n",
    "# TODO: DONE :)\n",
    "# TODO: DONE :)\n",
    "# TODO: DONE :)\n",
    "\n",
    "### IT TOOK 6M 40S FOR --> SAMPLE SIZES [200, 200], TEST SIZE = 50, 2 SETUPS, 2 RUNS LOL\n",
    "\n",
    "### 35min for all Baselearners, 1 Setup, 1 Run, 4 Sample Sizes  ()"
   ],
   "metadata": {
    "collapsed": false,
    "ExecuteTime": {
     "end_time": "2023-07-12T00:06:23.858556Z",
     "start_time": "2023-07-11T23:30:49.237123Z"
    }
   }
  },
  {
   "cell_type": "code",
   "execution_count": null,
   "outputs": [],
   "source": [
    "### Training tau0 and tau1 takes extemely long!! compared to mu0 and mu1 in lasso!!! probably because of the max_iter"
   ],
   "metadata": {
    "collapsed": false
   }
  },
  {
   "cell_type": "code",
   "execution_count": 16,
   "outputs": [
    {
     "data": {
      "text/plain": "array([[2.16444470e+00, 4.27842608e-03, 9.21012022e-01, 3.66025159e+00,\n        1.53230589e+00, 1.52415069e+00, 4.09339720e+00, 4.73376558e+00,\n        2.30856836e+00, 1.00444203e+00, 1.52648324e+00, 2.81551860e-02,\n        2.15632829e+00, 2.11505993e+00, 3.60900826e-02, 3.37949930e-02,\n        6.94569409e-01, 1.67760106e-01, 5.67150213e-01, 2.99783242e+00,\n        4.67543002e-01, 9.44197332e-01, 1.67171112e+01, 1.27092459e+01],\n       [3.45344301e+00, 4.39522035e-03, 8.98048803e-01, 4.66712618e+00,\n        1.99804106e+00, 2.07228875e+00, 1.11219752e+01, 5.06884773e+00,\n        1.79140523e+00, 1.19394656e+00, 1.26001859e+00, 4.47374476e-02,\n        3.23602393e-01, 1.58885352e+00, 5.30864073e+00, 4.23107428e-02,\n        6.10677966e-01, 1.87881437e-01, 7.59496834e-01, 2.28749562e+01,\n        6.02121307e+00, 1.13773604e+00, 5.87168478e+01, 1.73414317e+03],\n       [2.23366163e+00, 6.84383109e-03, 7.10761628e-01, 4.10779691e+00,\n        1.64412098e+00, 1.57652122e+00, 1.42685732e+01, 4.71898587e+00,\n        3.15427696e-01, 3.36821545e-01, 3.48230849e-01, 2.31584217e-02,\n        7.19878920e-02, 2.44251654e-01, 3.06347754e-05, 1.74613902e-02,\n        8.64564998e-01, 1.83118181e-01, 7.93892399e-01, 7.91985926e+00,\n        1.08008490e+01, 1.03588484e+00, 7.24271615e+01, 3.43769983e+02],\n       [3.85061571e-01, 1.25660177e-03, 1.00567797e-01, 4.23950726e-01,\n        2.10232460e-01, 2.08753299e-01, 1.66261951e+01, 4.65519739e-01,\n        2.31373813e-02, 6.00739676e-02, 3.47483211e-02, 3.66153638e-04,\n        3.55227215e-04, 8.67381890e-03, 2.25956798e-01, 3.59603133e-04,\n        2.33476356e-01, 7.44663407e-02, 3.66871969e-01, 3.13555839e+00,\n        3.48196634e+01, 4.73894650e-01, 1.24064119e+02, 1.85033123e+03]])"
     },
     "execution_count": 16,
     "metadata": {},
     "output_type": "execute_result"
    }
   ],
   "source": [
    "setup_mse"
   ],
   "metadata": {
    "collapsed": false,
    "ExecuteTime": {
     "end_time": "2023-07-12T00:08:41.019521Z",
     "start_time": "2023-07-12T00:08:41.006285Z"
    }
   }
  },
  {
   "cell_type": "code",
   "execution_count": null,
   "outputs": [],
   "source": [
    "# set n_trees to 1000 to gain time or maybe even 500"
   ],
   "metadata": {
    "collapsed": false
   }
  },
  {
   "cell_type": "code",
   "execution_count": 25,
   "outputs": [
    {
     "data": {
      "text/plain": "array([[6.94569409e-01, 1.67760106e-01, 5.67150213e-01, 2.99783242e+00,\n        4.67543002e-01, 9.44197332e-01, 1.67171112e+01, 1.27092459e+01],\n       [6.10677966e-01, 1.87881437e-01, 7.59496834e-01, 2.28749562e+01,\n        6.02121307e+00, 1.13773604e+00, 5.87168478e+01, 1.73414317e+03],\n       [8.64564998e-01, 1.83118181e-01, 7.93892399e-01, 7.91985926e+00,\n        1.08008490e+01, 1.03588484e+00, 7.24271615e+01, 3.43769983e+02],\n       [2.33476356e-01, 7.44663407e-02, 3.66871969e-01, 3.13555839e+00,\n        3.48196634e+01, 4.73894650e-01, 1.24064119e+02, 1.85033123e+03]])"
     },
     "execution_count": 25,
     "metadata": {},
     "output_type": "execute_result"
    }
   ],
   "source": [
    "results[0][2]"
   ],
   "metadata": {
    "collapsed": false,
    "ExecuteTime": {
     "end_time": "2023-07-12T00:18:04.599456Z",
     "start_time": "2023-07-12T00:18:04.593455Z"
    }
   }
  },
  {
   "cell_type": "code",
   "execution_count": null,
   "outputs": [],
   "source": [
    "# Look oke, NN looks a bit unstable!"
   ],
   "metadata": {
    "collapsed": false
   }
  },
  {
   "cell_type": "markdown",
   "source": [],
   "metadata": {
    "collapsed": false
   }
  },
  {
   "cell_type": "code",
   "execution_count": null,
   "outputs": [],
   "source": [
    "# results[0][2]\n",
    "# 0.694569,0.167760,0.567150,2.997832,0.467543,0.944197,16.717111,12.709246\n",
    "# 0.610678,0.187881,0.759497,22.874956,6.021213,1.137736,58.716848,1734.143168\n",
    "# 0.864565,0.183118,0.793892,7.919859,10.800849,1.035885,72.427161,343.769983\n",
    "# 0.233476,0.074466,0.366872,3.135558,34.819663,0.473895,124.064119,1850.331233\n",
    "\n",
    "# --> PW and U-learner are bad here (why?)\n",
    "# --> looks nice otherwise :)"
   ],
   "metadata": {
    "collapsed": false
   }
  },
  {
   "cell_type": "code",
   "execution_count": null,
   "outputs": [],
   "source": [
    "# Results[0][1]\n",
    "# 2.308568,1.004442,1.526483,0.028155,2.156328,2.115060,0.036090,0.033795\n",
    "# 1.791405,1.193947,1.260019,0.044737,0.323602,1.588854,5.308641,0.042311\n",
    "# 0.315428,0.336822,0.348231,0.023158,0.071988,0.244252,0.000031,0.017461\n",
    "# 0.023137,0.060074,0.034748,0.000366,0.000355,0.008674,0.225957,0.000360\n",
    "\n",
    "# --> nice :)"
   ],
   "metadata": {
    "collapsed": false
   }
  },
  {
   "cell_type": "code",
   "execution_count": null,
   "outputs": [],
   "source": [
    "# Results[0][0]\n",
    "# 2.164445,0.004278,0.921012,3.660252,1.532306,1.524151,4.093397,4.733766\n",
    "# 3.453443,0.004395,0.898049,4.667126,1.998041,2.072289,11.121975,5.068848\n",
    "# 2.233662,0.006844,0.710762,4.107797,1.644121,1.576521,14.268573,4.718986\n",
    "# 0.385062,0.001257,0.100568,0.423951,0.210232,0.208753,16.626195,0.465520\n",
    "\n",
    "\n",
    "# --> nice :)"
   ],
   "metadata": {
    "collapsed": false
   }
  },
  {
   "cell_type": "code",
   "execution_count": 24,
   "outputs": [
    {
     "data": {
      "text/plain": "array([[ 0.01167139,  1.13035656, -0.24136053, ..., -0.01064836,\n         1.        ,  0.        ],\n       [ 3.17020969,  0.22015068,  0.04529537, ...,  0.29755877,\n         1.        ,  0.        ],\n       [ 2.61769972,  0.37887061, -0.14322619, ...,  0.01384532,\n         0.        ,  0.        ],\n       ...,\n       [ 9.13235505, -0.28882811, -0.20802326, ...,  0.01642092,\n         1.        ,  0.        ],\n       [-9.11141269, -1.15419441,  1.81805704, ...,  1.56209178,\n         1.        ,  0.        ],\n       [ 0.80415229,  0.12075425, -0.41938106, ..., -0.27756771,\n         0.        ,  0.        ]])"
     },
     "execution_count": 24,
     "metadata": {},
     "output_type": "execute_result"
    }
   ],
   "source": [
    "data[0][0][0][0]"
   ],
   "metadata": {
    "collapsed": false,
    "ExecuteTime": {
     "end_time": "2023-07-12T00:17:41.937391Z",
     "start_time": "2023-07-12T00:17:41.920317Z"
    }
   }
  },
  {
   "cell_type": "code",
   "execution_count": null,
   "outputs": [],
   "source": [],
   "metadata": {
    "collapsed": false
   }
  }
 ],
 "metadata": {
  "kernelspec": {
   "display_name": "Python 3",
   "language": "python",
   "name": "python3"
  },
  "language_info": {
   "codemirror_mode": {
    "name": "ipython",
    "version": 2
   },
   "file_extension": ".py",
   "mimetype": "text/x-python",
   "name": "python",
   "nbconvert_exporter": "python",
   "pygments_lexer": "ipython2",
   "version": "2.7.6"
  }
 },
 "nbformat": 4,
 "nbformat_minor": 0
}
