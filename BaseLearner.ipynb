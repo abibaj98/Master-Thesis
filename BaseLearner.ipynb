{
 "cells": [
  {
   "cell_type": "code",
   "execution_count": 2,
   "metadata": {
    "collapsed": true,
    "ExecuteTime": {
     "end_time": "2023-05-29T15:07:46.010010Z",
     "start_time": "2023-05-29T15:07:21.349949Z"
    }
   },
   "outputs": [],
   "source": [
    "# import packages\n",
    "import numpy as np\n",
    "import pandas as pd\n",
    "from sklearn.linear_model import Lasso, LassoCV\n",
    "from sklearn.datasets import make_regression\n",
    "from sklearn.preprocessing import PolynomialFeatures\n",
    "from sklearn.ensemble import RandomForestRegressor\n",
    "from sklearn.model_selection import train_test_split\n"
   ]
  },
  {
   "cell_type": "code",
   "execution_count": null,
   "outputs": [],
   "source": [
    "######################################"
   ],
   "metadata": {
    "collapsed": false
   }
  },
  {
   "cell_type": "code",
   "execution_count": 3,
   "outputs": [],
   "source": [
    "# toy data\n",
    "X, Y = make_regression(n_samples=1000, n_features=25, noise=10, random_state=0)"
   ],
   "metadata": {
    "collapsed": false,
    "ExecuteTime": {
     "end_time": "2023-05-29T15:08:37.362948Z",
     "start_time": "2023-05-29T15:08:37.159037Z"
    }
   }
  },
  {
   "cell_type": "code",
   "execution_count": 4,
   "outputs": [],
   "source": [
    "#######################################"
   ],
   "metadata": {
    "collapsed": false,
    "ExecuteTime": {
     "end_time": "2023-05-29T15:08:38.500231Z",
     "start_time": "2023-05-29T15:08:38.403165Z"
    }
   }
  },
  {
   "cell_type": "code",
   "execution_count": 5,
   "outputs": [],
   "source": [
    "# RANDOM FOREST"
   ],
   "metadata": {
    "collapsed": false,
    "ExecuteTime": {
     "end_time": "2023-05-29T15:08:38.868839Z",
     "start_time": "2023-05-29T15:08:38.862438Z"
    }
   }
  },
  {
   "cell_type": "code",
   "execution_count": 6,
   "outputs": [
    {
     "data": {
      "text/plain": "RandomForestRegressor(max_depth=100, random_state=0)",
      "text/html": "<style>#sk-container-id-1 {color: black;background-color: white;}#sk-container-id-1 pre{padding: 0;}#sk-container-id-1 div.sk-toggleable {background-color: white;}#sk-container-id-1 label.sk-toggleable__label {cursor: pointer;display: block;width: 100%;margin-bottom: 0;padding: 0.3em;box-sizing: border-box;text-align: center;}#sk-container-id-1 label.sk-toggleable__label-arrow:before {content: \"▸\";float: left;margin-right: 0.25em;color: #696969;}#sk-container-id-1 label.sk-toggleable__label-arrow:hover:before {color: black;}#sk-container-id-1 div.sk-estimator:hover label.sk-toggleable__label-arrow:before {color: black;}#sk-container-id-1 div.sk-toggleable__content {max-height: 0;max-width: 0;overflow: hidden;text-align: left;background-color: #f0f8ff;}#sk-container-id-1 div.sk-toggleable__content pre {margin: 0.2em;color: black;border-radius: 0.25em;background-color: #f0f8ff;}#sk-container-id-1 input.sk-toggleable__control:checked~div.sk-toggleable__content {max-height: 200px;max-width: 100%;overflow: auto;}#sk-container-id-1 input.sk-toggleable__control:checked~label.sk-toggleable__label-arrow:before {content: \"▾\";}#sk-container-id-1 div.sk-estimator input.sk-toggleable__control:checked~label.sk-toggleable__label {background-color: #d4ebff;}#sk-container-id-1 div.sk-label input.sk-toggleable__control:checked~label.sk-toggleable__label {background-color: #d4ebff;}#sk-container-id-1 input.sk-hidden--visually {border: 0;clip: rect(1px 1px 1px 1px);clip: rect(1px, 1px, 1px, 1px);height: 1px;margin: -1px;overflow: hidden;padding: 0;position: absolute;width: 1px;}#sk-container-id-1 div.sk-estimator {font-family: monospace;background-color: #f0f8ff;border: 1px dotted black;border-radius: 0.25em;box-sizing: border-box;margin-bottom: 0.5em;}#sk-container-id-1 div.sk-estimator:hover {background-color: #d4ebff;}#sk-container-id-1 div.sk-parallel-item::after {content: \"\";width: 100%;border-bottom: 1px solid gray;flex-grow: 1;}#sk-container-id-1 div.sk-label:hover label.sk-toggleable__label {background-color: #d4ebff;}#sk-container-id-1 div.sk-serial::before {content: \"\";position: absolute;border-left: 1px solid gray;box-sizing: border-box;top: 0;bottom: 0;left: 50%;z-index: 0;}#sk-container-id-1 div.sk-serial {display: flex;flex-direction: column;align-items: center;background-color: white;padding-right: 0.2em;padding-left: 0.2em;position: relative;}#sk-container-id-1 div.sk-item {position: relative;z-index: 1;}#sk-container-id-1 div.sk-parallel {display: flex;align-items: stretch;justify-content: center;background-color: white;position: relative;}#sk-container-id-1 div.sk-item::before, #sk-container-id-1 div.sk-parallel-item::before {content: \"\";position: absolute;border-left: 1px solid gray;box-sizing: border-box;top: 0;bottom: 0;left: 50%;z-index: -1;}#sk-container-id-1 div.sk-parallel-item {display: flex;flex-direction: column;z-index: 1;position: relative;background-color: white;}#sk-container-id-1 div.sk-parallel-item:first-child::after {align-self: flex-end;width: 50%;}#sk-container-id-1 div.sk-parallel-item:last-child::after {align-self: flex-start;width: 50%;}#sk-container-id-1 div.sk-parallel-item:only-child::after {width: 0;}#sk-container-id-1 div.sk-dashed-wrapped {border: 1px dashed gray;margin: 0 0.4em 0.5em 0.4em;box-sizing: border-box;padding-bottom: 0.4em;background-color: white;}#sk-container-id-1 div.sk-label label {font-family: monospace;font-weight: bold;display: inline-block;line-height: 1.2em;}#sk-container-id-1 div.sk-label-container {text-align: center;}#sk-container-id-1 div.sk-container {/* jupyter's `normalize.less` sets `[hidden] { display: none; }` but bootstrap.min.css set `[hidden] { display: none !important; }` so we also need the `!important` here to be able to override the default hidden behavior on the sphinx rendered scikit-learn.org. See: https://github.com/scikit-learn/scikit-learn/issues/21755 */display: inline-block !important;position: relative;}#sk-container-id-1 div.sk-text-repr-fallback {display: none;}</style><div id=\"sk-container-id-1\" class=\"sk-top-container\"><div class=\"sk-text-repr-fallback\"><pre>RandomForestRegressor(max_depth=100, random_state=0)</pre><b>In a Jupyter environment, please rerun this cell to show the HTML representation or trust the notebook. <br />On GitHub, the HTML representation is unable to render, please try loading this page with nbviewer.org.</b></div><div class=\"sk-container\" hidden><div class=\"sk-item\"><div class=\"sk-estimator sk-toggleable\"><input class=\"sk-toggleable__control sk-hidden--visually\" id=\"sk-estimator-id-1\" type=\"checkbox\" checked><label for=\"sk-estimator-id-1\" class=\"sk-toggleable__label sk-toggleable__label-arrow\">RandomForestRegressor</label><div class=\"sk-toggleable__content\"><pre>RandomForestRegressor(max_depth=100, random_state=0)</pre></div></div></div></div></div>"
     },
     "execution_count": 6,
     "metadata": {},
     "output_type": "execute_result"
    }
   ],
   "source": [
    "# instantiate and fit\n",
    "r_forest = RandomForestRegressor(max_depth=100, random_state=0)\n",
    "r_forest.fit(X,Y)"
   ],
   "metadata": {
    "collapsed": false,
    "ExecuteTime": {
     "end_time": "2023-05-29T15:08:40.093389Z",
     "start_time": "2023-05-29T15:08:39.274443Z"
    }
   }
  },
  {
   "cell_type": "code",
   "execution_count": 7,
   "outputs": [
    {
     "data": {
      "text/plain": "array([-5.80986841e+02, -2.50922502e+02,  1.55564412e+02, -5.68192955e+02,\n        3.52103728e+01, -1.89196058e+02, -7.83583959e+01,  3.72196633e+01,\n        2.11662139e+02,  1.23268289e+01, -1.52461964e+02,  2.60568040e+02,\n       -1.91670861e+02, -1.91916881e+02,  2.33067916e+02,  4.10139766e+02,\n       -2.57395639e+01, -6.00767095e+01, -1.18320265e+02,  6.70578108e+01,\n       -1.21296264e+02,  8.29813051e+01,  6.40053707e+01, -1.39503097e+02,\n        1.37038139e+02, -1.74308950e+02,  3.30784141e+02, -3.79542624e+02,\n        2.18734258e+02,  3.00257247e+02,  1.30533056e+02, -1.89169610e+02,\n        3.75937272e+01, -1.33711157e+02, -4.89504150e+01,  1.52501781e+02,\n       -4.29761178e+01,  8.08107063e+01,  2.07291797e+02,  3.87505584e+01,\n        2.17066174e+02, -1.00551696e+02, -1.73121248e+02, -7.75210660e+00,\n        9.23868977e+01, -2.46532317e+02,  1.49217417e+02, -9.79263461e+01,\n       -2.59329920e+01, -2.85576969e+02,  1.01838016e+02,  1.59943555e+02,\n        1.79311943e+01,  7.79068446e+01, -2.98387157e+02,  1.57668245e+02,\n        2.13038261e+02, -3.19763437e+01,  5.44519452e+01, -3.25990531e+01,\n        2.70520049e+01,  6.41981317e+01, -3.02033476e+02,  7.19543127e+01,\n        1.80158300e+02, -5.83576550e+00,  4.29403648e+02,  5.80618006e+01,\n        7.40978035e+00, -2.36466169e+02,  7.20968597e+01, -1.59232650e+02,\n       -3.63647501e+01, -8.43867486e+01,  4.86102499e+01,  3.63201905e+02,\n       -8.35834060e-01,  2.02431798e+01,  2.95673042e+02, -1.67382012e+02,\n       -1.75577543e+02, -1.17304621e+02,  4.29606123e+02,  2.34070073e+02,\n       -1.22686349e+01,  2.43834471e+02, -2.72813428e+02,  1.70465905e+02,\n       -1.49151530e+02, -5.15984997e+01, -6.91267679e+01,  7.85741320e+01,\n        9.86136173e+01, -1.75654011e+02, -2.38317412e+02,  1.51616619e+02,\n       -4.87490776e+02,  4.94000023e+01,  9.99492252e+00,  2.26576622e+02,\n        1.50658757e+01, -1.45715314e+02, -8.12919345e+01, -8.91243147e+01,\n        1.48211270e+01, -9.07244100e+00,  2.77063283e+01,  2.37853730e+02,\n        1.28790892e+02,  6.24187107e+01,  1.63515528e+01,  2.14417795e+02,\n       -2.72395033e+02, -2.95647599e+01, -1.18378331e+02, -2.01065852e+02,\n        4.23406040e+01,  4.32578920e+01, -3.46034794e+01, -4.77744868e+02,\n        4.31648719e+01,  1.19271622e+02, -5.16218609e+00, -1.39688915e+02,\n       -8.41059815e+01, -4.98589350e+01,  2.65202010e+01,  8.44886560e+01,\n       -1.34372474e+02,  1.53168330e+02,  8.37623047e+01, -1.89728001e+01,\n        2.82048273e+02,  7.26506208e+01, -2.24274366e+02, -4.95007264e+01,\n       -7.31028384e+00,  3.04393844e+01, -1.99233296e+02, -1.63369595e+02,\n       -1.12825744e+02,  2.73569200e+02,  3.14312912e+02,  5.54637545e+01,\n       -2.34014723e+02, -3.12153881e+01, -1.95779179e+02, -4.77239237e+01,\n        2.18311304e+02,  2.75229938e+01,  3.51713061e+02, -1.11830547e+02,\n       -3.24456564e+01,  1.57223373e+02, -6.92573688e+01, -9.97654199e+01,\n       -1.93930134e+02, -8.98734521e+01, -2.95491367e+02, -2.13745720e+02,\n       -8.87422310e+01,  1.16105566e+02,  2.10406765e+02, -4.42365726e+01,\n        3.68180797e+01,  1.00435187e+02,  1.23004968e+02, -1.05019062e+02,\n       -1.21758115e+02, -1.75125487e+02,  1.51129719e+02, -7.29321921e+01,\n       -1.61256562e+02, -7.35732885e+01, -3.58761291e+01,  6.06920574e+01,\n        2.06647804e+02,  3.42728037e+02, -8.09443599e+01,  5.45451627e+01,\n       -1.70368862e+02, -5.30201276e+01, -2.17946200e+02,  2.73303929e+02,\n        5.81745632e+01,  1.87714529e+02,  8.80586959e+01, -9.76966810e+01,\n        2.93636469e+01,  4.69429612e+01, -3.32095440e+02,  1.67025651e+02,\n        5.50060479e+01,  2.29511288e+02,  2.98178104e+01,  5.58395391e+01,\n       -1.25190691e+02, -1.86317510e+02,  1.02349707e+02, -1.59150163e+02,\n        1.98872040e+02, -8.53756996e+01,  1.75001125e+02, -9.20255852e+01,\n        2.60692327e+02, -3.69854551e+01, -2.75605934e+00,  1.22418471e+02,\n        1.20016090e+02,  2.91502620e+02, -1.29847428e+02, -2.14034442e+02,\n        1.65247578e+02,  1.64324207e+02,  2.55868589e+02,  1.68012871e+02,\n       -1.40245937e+02, -8.78006886e+01, -2.15826697e+02,  1.55737744e+01,\n        5.44634199e+01,  1.62460022e+02, -4.19202407e+01, -2.90676357e+02,\n       -2.65230977e+02,  2.41481504e+02, -2.00699836e+02,  4.82964287e+00,\n       -2.30730346e+02,  9.16452943e+01, -1.51214248e+02, -6.31365843e+01,\n        3.22000269e+02, -3.94879202e+02, -4.09509224e+01, -4.96401411e+01,\n        1.79830507e+01, -2.05676719e+02,  1.09098725e+02, -3.03175534e+02,\n       -1.12851725e+02, -1.46531052e+02,  3.15361425e+02,  1.84776624e+02,\n        7.70531918e-01,  1.55589015e+02, -5.09574166e+01,  1.22787463e+01,\n        1.59827961e+02,  3.81274687e+02,  2.07001753e+02, -9.25643644e+01,\n        1.67184624e+02, -1.54083080e+01,  9.84750661e+01, -9.02021486e+01,\n       -3.45822600e+02, -6.87514779e+01, -1.79571721e+02, -8.59841164e+01,\n        5.83618819e+01,  3.03871241e+02,  8.38762201e+01,  3.48939925e+02,\n        3.97743170e+01, -6.21553146e+01,  2.52399286e+02, -2.36971058e+01,\n        3.15665844e+02, -1.26250527e+02, -1.09577846e+02,  1.20379391e+02,\n        1.93332403e+02, -1.42527811e+02,  2.01288680e+00, -2.76502861e+02,\n        9.59124848e+01, -2.56800834e+02, -4.71814495e+01, -1.47636348e+02,\n        1.59385086e+02, -4.50078128e+01,  5.83812010e+01,  2.84951485e+01,\n       -1.95927788e+02, -3.89209246e+01, -1.64609183e+02,  4.05074635e+01,\n       -3.22377061e+00,  1.35677221e+01, -1.03215261e+02, -4.73622441e+01,\n        1.05987761e+02, -2.14623095e+02, -2.70668440e+02, -8.96172782e+01,\n       -3.52915757e+02,  1.69355618e+02, -1.28542120e+02,  5.12494787e+01,\n       -3.09716066e+02,  2.81497829e+02, -2.25534952e+02, -3.63689044e+02,\n        6.32344584e+00, -1.15871488e+02, -1.40569270e+02, -1.17936241e+02,\n       -1.76791431e+02,  9.82483982e+01, -7.90569909e+01, -6.46565589e+01,\n       -2.69529558e+02,  1.80011909e+02, -2.94787925e+02, -1.45788523e+02,\n       -9.42259535e+01, -2.67530628e+02,  1.66626372e+01, -1.26109674e+02,\n       -3.67037232e+02, -6.54659243e+01,  3.42925327e+02,  5.06105321e+01,\n        3.10881968e+01,  3.74275602e+02, -4.39758161e+02, -4.43483564e+02,\n        9.60846140e+01,  2.63103020e+02,  1.43279607e+01, -2.65205491e+02,\n       -1.23646363e+02, -6.11610633e+01, -4.84543287e+01, -1.88380738e+02,\n       -3.04574886e+02, -1.10402691e+02,  2.75318835e+02, -7.43820066e+01,\n        2.37173133e+02, -1.83718440e+02,  3.40425562e+02, -3.89221589e+01,\n        1.00759535e+00,  2.64212236e+02, -1.51112460e+02,  2.69665806e+01,\n        1.28013134e+02,  7.28912461e+01, -1.75161452e+02, -3.21475332e+01,\n        2.21818573e+02,  2.63832551e+02, -9.57479195e+00, -2.89819597e+02,\n       -1.94448450e+02, -1.89015458e+00, -5.45481766e+01, -1.75351423e+01,\n        2.45209864e+02, -1.64494029e+02,  2.54425170e+02,  4.19033892e+01,\n        5.31697433e+01,  1.50852097e+02, -2.62473953e+00,  1.11784088e+02,\n        1.93396766e+01,  1.11865899e+01,  1.86143538e+01, -9.21196700e+01,\n       -3.24711312e+01, -2.94990337e+02, -2.02747504e+01, -3.91473349e+02,\n       -1.77630970e+02,  2.23208104e+02,  1.46114756e+02,  4.96134967e+01,\n        7.54710485e+01,  8.69002323e+01, -1.33672945e+02, -2.01110475e+02,\n       -5.21104943e+01, -4.02163965e+02, -1.23774328e+02,  2.11150149e+02,\n        1.82155532e+02, -7.05282309e+01,  3.60835326e+01, -1.60121688e+02,\n        4.31773928e+02, -1.80225804e+02,  1.09934300e+02,  4.93798815e+01,\n        4.28265555e+00,  1.44790438e+02, -1.64461000e+02, -2.43497554e+02,\n       -2.50294787e+02, -2.96945600e+01, -2.70755850e+01,  1.31702208e+01,\n        8.49123322e+01,  1.24003779e+01, -1.59518031e+02, -9.10425458e+01,\n       -2.43655799e+02,  3.61471733e+01,  5.94611285e+00, -3.30291414e+02,\n        1.47089069e+02, -2.09814072e+02,  2.13292647e+02,  1.04580680e+02,\n       -2.38120513e+02, -2.40176309e+02,  1.38473878e+02,  1.43050291e+02,\n        1.49437016e+02,  2.61942105e+02, -2.04714513e+02,  9.49484539e+01,\n        2.73475047e+02,  3.06432200e+01,  1.62897237e+02,  8.31042854e+01,\n       -9.14994038e+01,  2.05351159e+02,  2.74745465e+02,  5.77943878e+01,\n        7.70847439e+01, -3.86120218e+01, -1.93695346e+02,  2.55697609e+02,\n        2.58299404e+02, -9.68181335e+01, -1.16453181e+02,  3.74637304e+02,\n       -1.83661318e+01, -7.18646139e+01, -1.24967501e+01, -2.36853359e+02,\n       -1.41475377e+02,  4.38719687e+01,  4.58818506e+02,  5.71962448e+01,\n       -8.32292659e+00,  1.38266312e+02,  2.23099433e+02,  1.10452212e+02,\n       -2.34175475e+02, -4.87771386e+01,  3.16599887e+02,  1.21624125e+02,\n        3.34239705e+01, -4.14611887e+01,  1.98330186e+01,  1.19770526e+02,\n        9.41997865e+01,  7.53625282e-01, -1.14202493e+02,  1.40221791e+02,\n        3.54040224e+02, -1.36822853e+02,  1.02672978e+02,  2.23525307e+02,\n       -1.72952646e+02,  1.32832303e+02, -7.87188535e+00, -3.66769076e+01,\n       -2.13766587e+02, -5.77754945e+01,  2.74444265e+01,  1.17597837e+02,\n        9.92365612e+01, -1.03383537e+02, -2.06533519e+02,  1.60405428e+02,\n       -1.73499817e+00, -2.23419799e+02,  9.42168857e+01, -2.09722811e+02,\n       -2.00170298e+02,  1.88530276e+02,  1.48282918e+00,  2.43310043e+02,\n       -3.65766134e+01,  1.48055113e+01, -2.54359106e+01, -1.29576289e+02,\n       -3.05659668e+02,  1.16905831e+01,  4.75792742e+01, -7.12913952e+01,\n       -1.93965496e+02,  1.88329477e+02,  9.37016313e+01,  1.17154374e+02,\n       -7.08221954e+01,  2.54053251e+02, -1.95718787e+02,  9.20485700e+01,\n        1.73885056e+02,  1.31974169e+02, -2.32045612e+02, -6.09422910e+02,\n       -5.95137747e+01,  1.00637842e+02,  1.65913114e+01,  7.01118836e+00,\n        1.09101603e+02, -2.78282539e+01,  8.82340219e+01, -1.03602833e+02,\n        4.46102802e+01,  2.03086554e+01,  4.93443598e+01,  3.46713287e+01,\n       -9.22821385e+01, -1.10270574e+02,  8.60089653e+01,  1.84478294e+02,\n       -1.49212481e+02,  1.18547765e+01, -1.24231709e+02,  8.81726905e+00,\n        5.25088331e+01, -2.03043017e+02,  1.84465005e+02,  9.75603019e+00,\n       -1.77643313e+02, -1.16337694e+02,  9.93244706e+01,  3.96780536e+00,\n        3.76416104e+02, -1.30491535e+02, -8.06782961e+01,  2.40488671e+02,\n       -3.05696088e+02,  2.83766316e+01, -3.43171669e+02,  6.61093348e+00,\n       -3.28299329e+01,  2.24547793e+02, -1.44336786e+02, -2.10809378e+02,\n       -2.33766316e+02, -8.07416350e+01,  1.35016545e+02, -3.87009451e+02,\n       -8.35889202e+00, -1.26307408e+02,  3.01191529e+01,  1.54673681e+02,\n       -1.22060234e+02,  8.48816613e+01, -1.73698081e+02, -1.44326386e+02,\n       -1.71703727e+02, -4.00301135e+02,  1.27851637e+02, -1.56090653e+02,\n       -6.76529979e+01, -2.29489627e+02, -2.06878522e+02,  7.18444986e+01,\n        2.27959831e+02,  1.25116658e+02,  5.27992109e+00,  2.34853971e+02,\n       -3.88287110e+01,  6.02871787e+01, -1.93553148e+02,  6.46653394e+01,\n        1.01838953e+02, -3.94353414e+02,  6.64706272e+01, -4.16780345e+02,\n        1.96046234e+01, -1.97996970e+02,  1.95033990e+01, -2.65280636e+02,\n        8.81574097e+01,  2.51494046e+02, -1.34083533e+02, -2.65828856e+02,\n        8.57541592e+01,  1.22059338e+01, -2.88650391e+01, -5.57731042e+02,\n        3.23981196e+02,  1.04511916e+02, -8.92127424e+00, -2.00190400e+02,\n        4.43595902e+02,  2.58262258e+02,  1.57468876e+01, -4.60070191e+01,\n       -1.86312629e+01,  9.86282117e+01,  3.39460624e+02,  1.52458760e+02,\n       -1.16222755e+02, -1.39392715e+02,  2.98395686e+02, -2.10551413e+02,\n       -2.27111158e+02, -6.22597049e+01,  1.17713888e+01, -1.07382437e+02,\n        1.31622541e+02,  2.85114258e+01, -7.65133058e+01,  4.05443972e+02,\n       -6.76395339e+01,  1.48138231e+02, -9.34244219e+01, -5.93814302e+01,\n        1.04462002e+02,  1.69983271e+02, -2.74110880e+02, -2.03163910e+02,\n       -2.09695362e+02, -1.25617738e+02,  3.63886658e+02, -9.51818255e+01,\n        4.90027785e+02, -1.37993795e+02,  4.08393451e+01,  3.13639177e+02,\n       -1.64722470e+02,  2.97666542e+02,  5.33213552e+01,  4.80128979e+01,\n        3.09847865e+02, -1.82075027e+02,  3.24536489e+02, -1.54109917e+02,\n       -2.14372836e+02, -6.27535979e+01,  1.75261269e+02,  1.91134849e+02,\n        7.02465886e+01, -1.31975612e+01,  2.88210372e+02,  3.14938260e+01,\n       -1.60052010e+02,  1.70714557e+02,  1.06669265e+02,  2.93304065e+02,\n        1.05455771e+02, -3.88023214e+00,  6.32214303e+01,  1.39199249e+02,\n        1.72972911e+02,  2.33160626e+02, -7.91121730e+01,  2.18115194e+02,\n        2.53085526e+02, -1.88024355e+02, -2.94356381e+02, -1.61249669e+02,\n        6.00228356e+00,  3.61122059e+01, -1.16404607e+02,  1.20980911e+02,\n        3.97225586e+01, -3.64240794e+01, -5.57492941e+01, -1.82737275e+01,\n       -5.55162943e+02, -8.83022353e+00, -6.40180785e+01, -2.17344078e+02,\n        4.47944677e+02, -1.53950103e+02,  1.06694605e+01,  1.76948603e+02,\n       -2.14181160e+02,  4.87350888e+01, -9.46389950e+01, -1.74029413e+02,\n       -8.12943646e+01, -1.28280311e+02, -2.14082898e+02,  1.90651886e+02,\n        4.00693151e+02,  2.77513004e+02,  2.33264678e+02, -9.61270250e+01,\n        1.00997943e+02,  1.80693063e+01, -2.76387797e+01, -2.72560910e+02,\n       -1.93125932e+02,  2.52924690e+02,  2.07460371e+02, -7.25851606e+01,\n        1.53081382e+02,  5.86612038e+01, -5.52012834e+01, -3.32450417e+01,\n        2.79349012e+01, -3.62744885e+02,  1.60796860e+02, -4.36068873e+02,\n        7.70247226e+00, -9.12462222e+01, -5.96195512e+01, -1.77342391e+02,\n        1.65578074e+02,  1.49919128e+02,  2.62898483e+02,  1.71864570e+02,\n        2.05019896e+02,  4.80527443e+01,  2.20078055e+02, -3.83282905e+02,\n       -3.63466631e+02, -6.69919136e+01,  9.39963935e+01,  1.36692574e+02,\n       -1.87712301e+02,  2.82876833e+02, -1.16171281e+02,  1.79960021e+01,\n        1.26375353e+02,  1.86069827e+02, -2.21148697e+02, -1.62852177e+02,\n       -1.31006113e+01, -1.03224660e+02, -1.62593628e+02,  2.85154612e+01,\n        2.60772843e+02, -9.67033540e+01,  2.27262734e+01, -1.24905547e+02,\n       -1.64068765e+02, -4.51961902e+02,  9.25830565e+01,  3.56583848e+01,\n        1.60728071e+02, -2.17670371e+02, -3.48616273e+02, -3.29262117e+01,\n        2.86080833e+01,  6.33362771e+01, -2.03237181e+02,  5.70267161e+01,\n       -2.00630619e+01,  2.05602902e+02,  1.38452263e+02,  2.45303931e+02,\n       -4.72304564e+01, -1.22185963e+02, -2.00261139e+02, -2.32589519e+02,\n        4.61394945e+01,  1.88477172e+02,  2.26790891e+02, -1.35439962e+02,\n        2.80591464e+02,  1.45951720e+01,  1.49040062e+02, -1.63926818e+02,\n       -3.32646854e+02, -1.53494385e+02, -1.71602184e+02, -1.72073417e+02,\n       -9.43386730e+01,  1.40145597e+02, -1.43167983e+02, -5.47914977e+01,\n       -1.01370427e+02,  1.43318877e+02, -1.19076777e+02,  1.47483149e+02,\n       -2.84880407e+02,  1.37018870e+02, -1.73201380e+02, -1.80914467e+02,\n        1.84664226e+01,  1.02882922e+02,  5.18423112e+01, -8.34011550e+01,\n        2.93656924e+02, -1.25820560e+02, -3.70532848e+02, -2.97036869e+01,\n       -1.97685110e+02,  1.41275143e+02, -1.42181845e+02, -3.12638395e+01,\n        6.52814382e+01, -3.61837711e+02, -2.83579064e+01, -3.17135660e+01,\n       -3.71820225e+02,  3.01082290e+01, -4.12690857e+02, -3.38483670e+01,\n        2.40131861e+02, -3.12837418e+02, -1.95470039e+02, -9.24878346e+01,\n        1.09203337e+02, -1.88175407e+02, -3.23251104e+01, -2.00926337e+02,\n        6.34684891e+01, -7.43357678e+01,  1.07450414e+02, -2.94615495e+02,\n        1.01573516e+02,  2.34641509e+02, -9.31217330e+01,  2.03139386e+02,\n       -1.17754450e+01, -2.58059813e+02, -1.92958878e+02,  2.61589716e+02,\n       -1.41151960e+01,  1.19505677e+02,  7.66202844e+01,  1.86749442e+02,\n       -2.08967999e+02, -7.72538557e+01, -3.44628823e+02, -1.86666337e+02,\n       -1.00085557e+02,  1.21700710e+02,  6.26734632e+01, -3.00873017e+01,\n       -7.16042978e+01, -5.90302611e+01,  3.46511082e+02, -1.92903504e+02,\n       -1.24837128e+02,  5.06535953e+01, -2.27504625e+02,  7.43264346e+01,\n       -2.58786901e+01, -1.47291969e+02,  1.91499896e+02,  5.68750670e+01,\n       -3.12760651e+02, -1.84552385e+02,  1.50960576e+02,  1.70458344e+02,\n        2.59803915e+02, -1.86590910e+02, -2.03645934e+01, -3.69435566e+01,\n        1.42612839e+02,  2.25732080e+02, -5.00251340e+01, -1.23150237e+02,\n       -2.70346553e+02,  8.02753489e+01, -2.09756127e+02,  1.57519964e+02,\n       -3.47715229e+02, -2.31706342e+02, -1.76531780e+01, -7.07494096e+01,\n        2.39407590e+01, -1.49218099e+02, -1.15476617e+02,  1.05376166e+02,\n       -2.59178650e+02,  5.72927475e+01, -6.94639006e+01,  1.45222667e+02,\n        2.36190743e+02, -2.73370364e+02,  2.55941506e+02,  6.53314250e+01,\n       -1.62423366e+02, -1.80894203e+02,  1.09603160e+01, -7.97529384e+01,\n        1.42866493e+02,  7.13089017e+01,  1.44314576e+02,  1.61119496e+02,\n       -1.42457065e+01,  1.15423470e+02, -1.79168880e+02, -3.35709827e+02,\n        1.64267983e+02,  5.74930281e+01, -8.97785283e+00,  6.45915309e+01,\n       -2.37067999e+02,  1.03621811e-01, -2.94576607e+01,  3.80428146e+02,\n        2.10202520e+02, -7.02745360e+01, -3.83017018e+02,  1.33552571e+02,\n        3.62798060e+02,  1.14429418e+02,  9.29323088e+01, -4.83426671e+01,\n       -1.97296458e+02,  3.70468985e+01,  9.66916577e+01, -2.01017966e+01,\n        1.73027554e+01, -5.86981172e+01,  2.16014041e+02,  3.28857548e+01,\n        1.36571299e+02,  1.10573393e+01,  5.70682428e+01, -2.20993292e+02,\n        1.98574660e+02,  1.68339578e+02,  3.32828127e+02, -3.09676199e+01,\n       -2.86001934e+01,  7.09880840e+01,  6.10935125e+01, -8.31061682e+01,\n        8.07260782e+01, -9.59924571e+01, -1.69026463e+02,  3.72012378e+01,\n        1.00369632e+02,  2.57643760e+02, -8.93789864e+01,  2.23350767e+02,\n        3.27695954e+02, -6.44609783e+01,  3.45354410e+02,  2.82571621e+02,\n        5.16370509e+02, -5.01293136e+00, -1.58116381e+02, -4.20402723e+01,\n       -1.87441119e+02,  3.06079112e+02, -6.12274114e+01,  2.17686380e+02,\n        1.04004934e+02, -9.10504621e+01, -7.52802001e+01, -3.44784308e+01,\n        1.12480609e+01, -5.56647106e+01, -1.19117073e+02, -3.00061759e+02,\n        2.25766961e+02, -1.75073703e+02,  1.89366462e+02,  1.22621440e+02,\n       -2.64103223e+01,  4.14701526e+01,  8.74664915e+01, -1.11139366e+02,\n        2.94088321e+02,  1.34361916e+02, -9.19781850e+00, -2.44750975e+01,\n       -2.79143652e+02,  2.53238644e+02, -2.35576847e+02,  1.03037838e+02,\n       -4.67086418e+02,  9.04145476e+01,  1.19156715e+02, -3.21203282e+02,\n        2.29779889e+02,  3.30335105e+02,  1.07958357e+02, -1.91825103e+01,\n       -8.38405122e+01, -2.75670396e+01,  3.35063709e+01,  1.40664844e+02,\n       -2.09104526e+02,  7.36488678e+01,  1.82776378e+02, -3.55767622e+01,\n        6.20133250e+01,  1.23832386e+02, -3.49440706e+01, -2.07226359e+02,\n       -1.60699123e+02,  7.59790915e+01, -1.75135028e+02,  2.28052284e+02,\n        2.57947323e+01, -1.34354108e+02, -3.39359954e+01,  1.05066479e+02])"
     },
     "execution_count": 7,
     "metadata": {},
     "output_type": "execute_result"
    }
   ],
   "source": [
    "# predict\n",
    "r_forest.predict(X[:,])"
   ],
   "metadata": {
    "collapsed": false,
    "ExecuteTime": {
     "end_time": "2023-05-29T15:08:53.218971Z",
     "start_time": "2023-05-29T15:08:53.155882Z"
    }
   }
  },
  {
   "cell_type": "code",
   "execution_count": 8,
   "outputs": [],
   "source": [
    "####################################"
   ],
   "metadata": {
    "collapsed": false,
    "ExecuteTime": {
     "end_time": "2023-05-29T15:09:09.078940Z",
     "start_time": "2023-05-29T15:09:09.053146Z"
    }
   }
  },
  {
   "cell_type": "code",
   "execution_count": 9,
   "outputs": [],
   "source": [
    "# LASSO"
   ],
   "metadata": {
    "collapsed": false,
    "ExecuteTime": {
     "end_time": "2023-05-29T15:09:09.468554Z",
     "start_time": "2023-05-29T15:09:09.438365Z"
    }
   }
  },
  {
   "cell_type": "code",
   "execution_count": 10,
   "outputs": [],
   "source": [
    "# instantiate lasso with 10-fold cross-validation\n",
    "lasso = LassoCV(cv=10,random_state=0) # random_state for reproducible results\n",
    "lasso_poly = LassoCV(cv=10, random_state=0)"
   ],
   "metadata": {
    "collapsed": false,
    "ExecuteTime": {
     "end_time": "2023-05-29T15:09:10.258033Z",
     "start_time": "2023-05-29T15:09:10.076838Z"
    }
   }
  },
  {
   "cell_type": "code",
   "execution_count": 11,
   "outputs": [
    {
     "data": {
      "text/plain": "LassoCV(cv=10, random_state=0)",
      "text/html": "<style>#sk-container-id-2 {color: black;background-color: white;}#sk-container-id-2 pre{padding: 0;}#sk-container-id-2 div.sk-toggleable {background-color: white;}#sk-container-id-2 label.sk-toggleable__label {cursor: pointer;display: block;width: 100%;margin-bottom: 0;padding: 0.3em;box-sizing: border-box;text-align: center;}#sk-container-id-2 label.sk-toggleable__label-arrow:before {content: \"▸\";float: left;margin-right: 0.25em;color: #696969;}#sk-container-id-2 label.sk-toggleable__label-arrow:hover:before {color: black;}#sk-container-id-2 div.sk-estimator:hover label.sk-toggleable__label-arrow:before {color: black;}#sk-container-id-2 div.sk-toggleable__content {max-height: 0;max-width: 0;overflow: hidden;text-align: left;background-color: #f0f8ff;}#sk-container-id-2 div.sk-toggleable__content pre {margin: 0.2em;color: black;border-radius: 0.25em;background-color: #f0f8ff;}#sk-container-id-2 input.sk-toggleable__control:checked~div.sk-toggleable__content {max-height: 200px;max-width: 100%;overflow: auto;}#sk-container-id-2 input.sk-toggleable__control:checked~label.sk-toggleable__label-arrow:before {content: \"▾\";}#sk-container-id-2 div.sk-estimator input.sk-toggleable__control:checked~label.sk-toggleable__label {background-color: #d4ebff;}#sk-container-id-2 div.sk-label input.sk-toggleable__control:checked~label.sk-toggleable__label {background-color: #d4ebff;}#sk-container-id-2 input.sk-hidden--visually {border: 0;clip: rect(1px 1px 1px 1px);clip: rect(1px, 1px, 1px, 1px);height: 1px;margin: -1px;overflow: hidden;padding: 0;position: absolute;width: 1px;}#sk-container-id-2 div.sk-estimator {font-family: monospace;background-color: #f0f8ff;border: 1px dotted black;border-radius: 0.25em;box-sizing: border-box;margin-bottom: 0.5em;}#sk-container-id-2 div.sk-estimator:hover {background-color: #d4ebff;}#sk-container-id-2 div.sk-parallel-item::after {content: \"\";width: 100%;border-bottom: 1px solid gray;flex-grow: 1;}#sk-container-id-2 div.sk-label:hover label.sk-toggleable__label {background-color: #d4ebff;}#sk-container-id-2 div.sk-serial::before {content: \"\";position: absolute;border-left: 1px solid gray;box-sizing: border-box;top: 0;bottom: 0;left: 50%;z-index: 0;}#sk-container-id-2 div.sk-serial {display: flex;flex-direction: column;align-items: center;background-color: white;padding-right: 0.2em;padding-left: 0.2em;position: relative;}#sk-container-id-2 div.sk-item {position: relative;z-index: 1;}#sk-container-id-2 div.sk-parallel {display: flex;align-items: stretch;justify-content: center;background-color: white;position: relative;}#sk-container-id-2 div.sk-item::before, #sk-container-id-2 div.sk-parallel-item::before {content: \"\";position: absolute;border-left: 1px solid gray;box-sizing: border-box;top: 0;bottom: 0;left: 50%;z-index: -1;}#sk-container-id-2 div.sk-parallel-item {display: flex;flex-direction: column;z-index: 1;position: relative;background-color: white;}#sk-container-id-2 div.sk-parallel-item:first-child::after {align-self: flex-end;width: 50%;}#sk-container-id-2 div.sk-parallel-item:last-child::after {align-self: flex-start;width: 50%;}#sk-container-id-2 div.sk-parallel-item:only-child::after {width: 0;}#sk-container-id-2 div.sk-dashed-wrapped {border: 1px dashed gray;margin: 0 0.4em 0.5em 0.4em;box-sizing: border-box;padding-bottom: 0.4em;background-color: white;}#sk-container-id-2 div.sk-label label {font-family: monospace;font-weight: bold;display: inline-block;line-height: 1.2em;}#sk-container-id-2 div.sk-label-container {text-align: center;}#sk-container-id-2 div.sk-container {/* jupyter's `normalize.less` sets `[hidden] { display: none; }` but bootstrap.min.css set `[hidden] { display: none !important; }` so we also need the `!important` here to be able to override the default hidden behavior on the sphinx rendered scikit-learn.org. See: https://github.com/scikit-learn/scikit-learn/issues/21755 */display: inline-block !important;position: relative;}#sk-container-id-2 div.sk-text-repr-fallback {display: none;}</style><div id=\"sk-container-id-2\" class=\"sk-top-container\"><div class=\"sk-text-repr-fallback\"><pre>LassoCV(cv=10, random_state=0)</pre><b>In a Jupyter environment, please rerun this cell to show the HTML representation or trust the notebook. <br />On GitHub, the HTML representation is unable to render, please try loading this page with nbviewer.org.</b></div><div class=\"sk-container\" hidden><div class=\"sk-item\"><div class=\"sk-estimator sk-toggleable\"><input class=\"sk-toggleable__control sk-hidden--visually\" id=\"sk-estimator-id-2\" type=\"checkbox\" checked><label for=\"sk-estimator-id-2\" class=\"sk-toggleable__label sk-toggleable__label-arrow\">LassoCV</label><div class=\"sk-toggleable__content\"><pre>LassoCV(cv=10, random_state=0)</pre></div></div></div></div></div>"
     },
     "execution_count": 11,
     "metadata": {},
     "output_type": "execute_result"
    }
   ],
   "source": [
    "# fit\n",
    "lasso.fit(X,Y)"
   ],
   "metadata": {
    "collapsed": false,
    "ExecuteTime": {
     "end_time": "2023-05-29T15:09:11.593287Z",
     "start_time": "2023-05-29T15:09:11.407542Z"
    }
   }
  },
  {
   "cell_type": "code",
   "execution_count": 12,
   "outputs": [],
   "source": [
    "# compute polynomial features for lasso\n",
    "poly = PolynomialFeatures(degree=2, interaction_only=False, include_bias=False)\n",
    "X_poly = poly.fit_transform(X)"
   ],
   "metadata": {
    "collapsed": false,
    "ExecuteTime": {
     "end_time": "2023-05-29T15:09:15.106433Z",
     "start_time": "2023-05-29T15:09:15.057296Z"
    }
   }
  },
  {
   "cell_type": "code",
   "execution_count": 13,
   "outputs": [
    {
     "data": {
      "text/plain": "array([-6.65174001e+02, -2.54809599e+02,  1.50734005e+02, -6.62219140e+02,\n        3.32561199e+01, -1.88279852e+02, -8.89277364e+01,  4.76642742e+01,\n        2.48712396e+02,  7.65499464e+00, -1.57603138e+02,  2.93919113e+02,\n       -2.08902777e+02, -1.77142896e+02,  2.45923594e+02,  5.26951200e+02,\n       -1.65266676e+01, -8.83149350e+01, -1.61503579e+02,  1.01365201e+02,\n       -1.16889316e+02,  3.53673756e+01,  5.39532198e+01, -1.25722261e+02,\n        1.21225213e+02, -2.30072191e+02,  4.00994157e+02, -3.65675922e+02,\n        2.49200135e+02,  3.67072940e+02,  2.04662976e+02, -2.15757081e+02,\n        2.88682301e+01, -1.87417843e+02, -3.63048801e+01,  1.90459441e+02,\n       -2.16909030e+01,  7.69948242e+01,  2.56746971e+02,  4.11656862e+01,\n        3.04006066e+02, -9.55333255e+01, -2.12246982e+02,  2.64016223e+01,\n        7.41012000e+01, -2.65496040e+02,  1.66110273e+02, -6.87096969e+01,\n       -5.60718249e+01, -3.58525411e+02,  1.10071498e+02,  1.92607283e+02,\n       -1.76708529e+01,  9.39088534e+01, -2.87000591e+02,  1.69997134e+02,\n        2.16935673e+02, -1.65467100e+01,  8.30609979e+01, -4.21137826e+01,\n        4.90773406e+01,  1.01013898e+02, -3.46043225e+02,  8.13938128e+01,\n        1.37820119e+02, -8.83067090e+00,  4.53935940e+02,  3.05782362e+01,\n       -2.83252133e+01, -2.81016255e+02,  6.98231159e+01, -1.48729490e+02,\n       -6.52450486e+00, -6.69451600e+01,  7.07999111e+01,  4.70695178e+02,\n       -3.49763584e+00,  5.79517777e+01,  3.46971197e+02, -1.87730961e+02,\n       -1.73723587e+02, -1.43133326e+02,  5.27811202e+02,  2.99956794e+02,\n        1.10934061e+01,  2.53369256e+02, -2.52285988e+02,  1.78125342e+02,\n       -1.66707317e+02, -4.53823048e+01, -6.33529897e+01,  8.89489108e+01,\n        9.98387404e+01, -2.22049185e+02, -2.49768954e+02,  1.83708182e+02,\n       -6.20367481e+02,  8.96080201e+01,  3.17438083e+01,  2.43804644e+02,\n        3.48604772e+01, -1.36943286e+02, -9.32994849e+01, -1.04132490e+02,\n        8.99684060e+00,  7.69104981e+00,  6.74763014e+01,  2.78344908e+02,\n        1.68972984e+02,  6.60337269e+01,  7.31402190e+00,  2.10015432e+02,\n       -2.67292887e+02, -5.78076546e+01, -1.03852627e+02, -2.80758405e+02,\n        6.10904391e+01,  4.51261421e+01, -4.68668271e+01, -4.98401782e+02,\n        1.14073069e+01,  8.58801701e+01, -4.07592218e+01, -1.74406121e+02,\n       -5.15707648e+01, -1.34071430e+01,  2.21097592e+01,  7.91815401e+01,\n       -1.96410847e+02,  1.78579805e+02,  1.14792837e+02,  1.45281014e+00,\n        3.22906254e+02,  1.18728942e+02, -2.66615921e+02, -5.54074973e+01,\n       -1.74462141e+01,  3.02705777e+01, -2.38726199e+02, -1.87979856e+02,\n       -1.13217782e+02,  3.48438742e+02,  4.54463452e+02,  6.97101573e+01,\n       -2.79484172e+02, -4.91093817e+01, -2.74350660e+02, -7.31569393e+01,\n        2.49600557e+02,  2.73804281e+01,  3.91619480e+02, -1.05215059e+02,\n       -4.15274774e+01,  1.24813564e+02, -8.29856796e+01, -1.64691044e+02,\n       -2.30945164e+02, -6.87286417e+01, -3.59284395e+02, -2.38997734e+02,\n       -1.02929268e+02,  1.36644510e+02,  2.69360931e+02, -5.63152037e+01,\n        2.55743504e+01,  1.22492730e+02,  1.79047688e+02, -1.07954861e+02,\n       -1.01294834e+02, -1.84612989e+02,  1.97820431e+02, -6.45550863e+01,\n       -1.66615005e+02, -9.56316870e+01, -5.14976575e+01,  7.31900215e+01,\n        2.41144680e+02,  3.75697230e+02, -8.58827936e+01,  6.50306044e+01,\n       -2.21220053e+02, -5.67801473e+01, -2.82268835e+02,  2.66701251e+02,\n        3.40070477e+00,  1.87552880e+02,  1.02501384e+02, -1.13633487e+02,\n        7.70207230e+00,  2.00106354e+01, -3.72703709e+02,  2.09108224e+02,\n        8.87001529e+01,  2.55246938e+02,  8.71979661e+00,  1.10256688e+02,\n       -1.10819290e+02, -1.98630631e+02,  9.70105708e+01, -2.05021786e+02,\n        2.73950936e+02, -1.18900656e+02,  2.16149400e+02, -1.23800315e+02,\n        3.21437662e+02,  1.27577498e+01,  7.98664006e+00,  1.55717296e+02,\n        1.67073327e+02,  3.76386921e+02, -1.79530246e+02, -2.83686475e+02,\n        1.83917109e+02,  1.43743318e+02,  3.23710192e+02,  1.89432964e+02,\n       -1.51065154e+02, -7.85270053e+01, -2.47607759e+02,  4.76998433e+01,\n        5.01261960e+01,  2.07071835e+02, -8.25395547e+01, -3.68662354e+02,\n       -2.91705573e+02,  2.03136436e+02, -1.91938945e+02, -1.49632994e+01,\n       -2.51590080e+02,  6.44196720e+01, -2.16006186e+02, -9.65702878e+01,\n        3.32656955e+02, -3.60044266e+02, -1.59963620e+01, -8.49125595e+01,\n        3.06115733e+01, -2.77780186e+02,  1.29854487e+02, -3.37295756e+02,\n       -1.13846618e+02, -1.69730406e+02,  3.59519905e+02,  2.09576232e+02,\n        3.88320325e+01,  1.57046373e+02, -1.72621617e+01,  1.85444508e+01,\n        1.89204324e+02,  4.66570159e+02,  1.82933880e+02, -1.78519367e+02,\n        1.85609581e+02, -1.45976763e+01,  1.26732501e+02, -8.44143717e+01,\n       -3.54647011e+02, -1.05976077e+02, -1.93227944e+02, -7.09243539e+01,\n        6.56909970e+01,  3.72120892e+02,  1.07334774e+02,  4.08923309e+02,\n        1.34890733e-01, -7.78507414e+01,  2.74116087e+02, -6.11587438e+01,\n        3.77856641e+02, -1.46928783e+02, -1.28280744e+02,  8.61365673e+01,\n        2.72102991e+02, -1.59712651e+02, -2.55920233e+01, -3.50252848e+02,\n        1.72404170e+02, -2.80069974e+02, -2.50358440e+01, -2.10973730e+02,\n        1.80239068e+02, -9.76458438e+01,  3.15183585e+01,  3.52930543e+01,\n       -2.28633756e+02, -4.33306005e+01, -1.51383287e+02,  1.63091384e+01,\n       -4.17410380e+01,  4.32992356e+01, -8.60680993e+01, -1.10623272e+00,\n        1.08751624e+02, -2.20309357e+02, -2.72997594e+02, -1.08409955e+02,\n       -3.77285957e+02,  1.66516202e+02, -1.65413782e+02,  8.17168715e+01,\n       -3.90133708e+02,  3.01507970e+02, -3.00400523e+02, -4.05502294e+02,\n       -6.93882957e+00, -1.11503857e+02, -1.47288176e+02, -1.36342062e+02,\n       -1.95105783e+02,  1.15698507e+02, -9.12996485e+01, -4.07296304e+01,\n       -2.95711928e+02,  1.64983590e+02, -3.68996338e+02, -1.65723537e+02,\n       -1.07502208e+02, -3.28718359e+02,  5.01150509e+01, -1.17791884e+02,\n       -3.85042882e+02, -7.73523152e+01,  4.19905893e+02,  8.48924596e+01,\n        2.18924999e+01,  4.29418698e+02, -5.39135269e+02, -4.93986166e+02,\n        1.56206291e+02,  3.14202970e+02,  2.00706086e+01, -3.00292572e+02,\n       -1.04704844e+02, -6.27049571e+01, -6.68588373e+01, -2.03955373e+02,\n       -3.34162827e+02, -1.39264986e+02,  3.45145994e+02, -5.04100410e+01,\n        2.79237183e+02, -2.23614588e+02,  4.12044519e+02, -1.70349499e+01,\n       -1.24430105e+01,  3.53353932e+02, -1.46705600e+02,  1.66477037e+00,\n        1.74844061e+02,  9.17191052e+01, -1.88319002e+02, -2.90362191e+01,\n        2.54818985e+02,  3.20797814e+02, -2.77590193e+01, -3.32233646e+02,\n       -2.12213128e+02, -1.92605478e+01, -8.03598579e+01, -6.38418023e+00,\n        2.66089219e+02, -2.06434733e+02,  2.78906144e+02,  1.04152211e+02,\n        6.34594797e+01,  1.53145063e+02, -2.94570250e-01,  8.73038368e+01,\n        3.96935075e+01,  2.20051755e+01, -1.35291772e+01, -1.34473483e+02,\n       -1.81788322e+01, -3.68835827e+02, -2.22970243e+01, -4.15220555e+02,\n       -1.59983931e+02,  2.41194835e+02,  1.34017741e+02,  3.79699150e+01,\n        9.50467539e+01,  1.14080261e+02, -1.00974692e+02, -2.90187920e+02,\n       -8.52072131e+01, -4.17046525e+02, -1.43133395e+02,  2.61174240e+02,\n        2.13487201e+02, -6.21543036e+01,  4.47089456e+01, -1.97071791e+02,\n        4.65317936e+02, -1.91795290e+02,  1.05829164e+02,  7.66494571e+01,\n        5.18349479e+01,  2.11976621e+02, -1.77502434e+02, -2.77003868e+02,\n       -3.47881022e+02, -5.73188549e+01, -1.07725240e+01,  2.08887451e+01,\n        8.68488665e+01,  2.98010822e+01, -1.96024024e+02, -1.15522622e+02,\n       -2.62778824e+02,  3.23153693e+01, -1.34529412e+01, -3.93723459e+02,\n        1.67089861e+02, -2.47539099e+02,  2.29864045e+02,  1.36201029e+02,\n       -2.66858044e+02, -2.78033658e+02,  1.24160149e+02,  2.05130157e+02,\n        1.59369691e+02,  3.26386627e+02, -2.75789382e+02,  1.16954029e+02,\n        3.87391427e+02,  4.24526974e+01,  1.97642076e+02,  9.92338145e+01,\n       -8.74910736e+01,  2.49049438e+02,  3.27282096e+02,  6.94114926e+01,\n        1.17094549e+02, -3.08726804e+01, -1.81283077e+02,  2.76945325e+02,\n        3.17274655e+02, -1.02736346e+02, -1.02713256e+02,  4.45344274e+02,\n       -6.13483921e+01, -7.00981119e+01, -2.57251672e+01, -2.58453318e+02,\n       -1.42805764e+02,  6.61516583e+01,  5.75265992e+02,  7.99309368e+01,\n       -1.99123423e+01,  1.06087455e+02,  2.81833694e+02,  9.78149401e+01,\n       -2.80659882e+02, -6.06724342e+01,  3.60398791e+02,  1.34752901e+02,\n        2.34114986e+01, -3.54756857e+01,  7.72355275e+01,  1.32701229e+02,\n        1.05732480e+02, -3.08170398e+01, -7.78979452e+01,  1.30870589e+02,\n        4.13672513e+02, -1.63845481e+02,  1.49300793e+02,  2.71669771e+02,\n       -2.22307631e+02,  9.38256419e+01, -3.01129858e+01, -1.72623431e+01,\n       -2.52198845e+02, -5.10305445e+01,  9.14913974e+00,  1.08702970e+02,\n        1.45017108e+02, -1.78488314e+02, -2.78496653e+02,  1.51126896e+02,\n       -1.84445463e+01, -3.12006584e+02,  9.21760061e+01, -1.93908163e+02,\n       -2.74469871e+02,  2.23479108e+02,  1.37594191e+01,  2.63384653e+02,\n       -3.88838471e+01,  1.03404419e+01, -2.41020661e+01, -1.67337194e+02,\n       -3.62957384e+02,  2.18133560e+01, -3.92159732e+00, -2.66211623e+01,\n       -2.22582086e+02,  2.23254805e+02,  1.31891610e+02,  1.32967106e+02,\n       -6.68965121e+01,  2.69822281e+02, -2.17206544e+02,  8.89054660e+01,\n        1.73684881e+02,  1.34490736e+02, -2.64836235e+02, -7.08215503e+02,\n       -5.82484903e+01,  9.00534697e+01,  1.59592324e+01,  3.01992387e+00,\n        1.12060681e+02, -5.31475030e+00,  1.61884411e+02, -1.17310308e+02,\n        3.21987805e+01,  4.94515967e+01,  5.26458588e+01,  2.54150528e+01,\n       -1.19769144e+02, -6.44562753e+01,  1.01440127e+02,  2.14597358e+02,\n       -1.14721283e+02,  1.42314824e+00, -1.75505906e+02, -1.10799380e+00,\n        3.07676565e+01, -2.22409492e+02,  2.23489113e+02,  2.50607502e+01,\n       -2.04339881e+02, -8.32083266e+01,  8.78165628e+01, -5.16756616e+00,\n        4.51128136e+02, -9.86266664e+01, -9.79835871e+01,  2.43065965e+02,\n       -3.01683787e+02,  6.67826079e+00, -3.72615826e+02,  1.04272861e+01,\n       -3.19212314e+01,  3.06602609e+02, -1.61518059e+02, -2.80689461e+02,\n       -2.50650892e+02, -8.20327421e+01,  1.14301126e+02, -4.55309249e+02,\n       -3.95730767e+01, -1.74173756e+02,  6.45892135e+01,  1.68668417e+02,\n       -1.00144683e+02,  1.32866599e+02, -2.13200767e+02, -1.40297007e+02,\n       -1.84904950e+02, -4.35772737e+02,  2.55292996e+02, -1.38598991e+02,\n       -1.01002334e+02, -2.35308498e+02, -2.32135670e+02,  1.08243504e+02,\n        2.46175690e+02,  1.41689277e+02,  1.82944795e+01,  2.80079852e+02,\n       -6.34143688e+01,  8.82347975e+01, -1.75398387e+02,  4.55152582e+01,\n        1.22724971e+02, -4.43085212e+02,  1.06862925e+01, -4.77760296e+02,\n        8.24002390e+00, -2.60104784e+02, -5.09055268e+00, -3.02699479e+02,\n        1.28379020e+02,  3.09475751e+02, -1.51228577e+02, -2.70285917e+02,\n        9.22321515e+01,  5.32378406e+01, -5.07891715e+01, -6.07131615e+02,\n        3.93284378e+02,  7.24177604e+01, -6.34217231e+00, -2.43044920e+02,\n        5.25736751e+02,  3.05622092e+02,  5.83616525e+01, -5.20845800e+01,\n       -1.42393430e+01,  9.96837890e+01,  3.86310176e+02,  1.99890308e+02,\n       -1.70662192e+02, -2.16381262e+02,  3.89016451e+02, -2.72395091e+02,\n       -3.06713940e+02, -1.38634021e+02,  3.92887047e+01, -1.16131967e+02,\n        1.46506057e+02,  9.68280643e+00, -1.11864742e+02,  4.40372540e+02,\n       -6.86633731e+01,  1.97152025e+02, -1.01538579e+02, -6.32412553e+01,\n        1.43324948e+02,  2.07362061e+02, -2.69998791e+02, -2.23069134e+02,\n       -3.00237344e+02, -1.45135530e+02,  4.21227536e+02, -1.52790235e+02,\n        5.70902201e+02, -1.56513697e+02,  3.19614976e+01,  3.52084818e+02,\n       -1.73431139e+02,  3.47334923e+02,  8.36486682e+01,  3.48406040e+01,\n        4.22578458e+02, -1.93384425e+02,  4.19229161e+02, -1.81731186e+02,\n       -2.15759078e+02, -6.78926455e+01,  2.12986110e+02,  2.48311071e+02,\n        8.86147101e+01, -1.77439673e+01,  3.98081060e+02,  2.35209298e+01,\n       -1.69572881e+02,  2.26278497e+02,  1.53837741e+02,  3.38332580e+02,\n        1.12508916e+02, -6.69110374e+01,  7.55335579e+01,  1.84948805e+02,\n        1.98916385e+02,  3.18282129e+02, -7.46803186e+01,  2.31313784e+02,\n        2.47533654e+02, -2.21329972e+02, -3.47602317e+02, -1.47341339e+02,\n       -4.47785371e+00, -3.97167160e+00, -1.56558922e+02,  1.40862966e+02,\n        4.71592016e+01,  3.34001946e+01, -5.70195169e+01, -2.98223961e+01,\n       -5.90632224e+02, -2.70494227e+01, -4.43703188e+01, -2.05568076e+02,\n        4.98748497e+02, -1.51134079e+02,  3.38177674e-01,  1.70003440e+02,\n       -2.55411744e+02,  6.84202895e+01, -7.06905140e+01, -1.54020499e+02,\n       -9.86167297e+01, -1.64902039e+02, -2.11433033e+02,  2.01500751e+02,\n        4.82959234e+02,  3.04153734e+02,  2.96040189e+02, -9.96277794e+01,\n        1.02897468e+02,  4.00517699e+01, -2.38272410e+01, -3.25476320e+02,\n       -2.20399682e+02,  2.63492657e+02,  2.64956583e+02, -1.27469141e+02,\n        1.94105701e+02,  4.88581888e+01, -5.92393211e+01, -1.32992896e+01,\n        4.99420475e+01, -4.24965559e+02,  1.89747097e+02, -5.04041386e+02,\n        9.99611837e+00, -1.24390923e+02, -9.41314719e+01, -2.04556875e+02,\n        1.64358319e+02,  2.36184298e+02,  2.77609985e+02,  2.05652507e+02,\n        2.81683514e+02,  6.79930138e+01,  2.49199560e+02, -3.89516843e+02,\n       -4.36074324e+02, -8.37149389e+01,  1.31599441e+02,  1.59668022e+02,\n       -2.05585695e+02,  3.59137149e+02, -1.33697924e+02,  3.54232999e+01,\n        1.34005732e+02,  2.28756033e+02, -2.38682410e+02, -2.02577444e+02,\n       -5.43822486e+01, -1.26392033e+02, -2.17493143e+02,  5.76317013e+01,\n        2.86166636e+02, -1.23825197e+02,  2.93989651e+01, -1.21887791e+02,\n       -1.42562791e+02, -4.45508767e+02,  6.92485527e+01,  7.43980442e+01,\n        2.03204546e+02, -2.84368614e+02, -4.21220249e+02, -6.13618823e+01,\n        4.44948024e+01,  3.72654190e+01, -1.74147788e+02,  8.39466299e+01,\n       -5.15718670e+01,  2.43834115e+02,  1.44199553e+02,  2.45697939e+02,\n       -4.63502075e+01, -1.81342703e+02, -2.25341976e+02, -2.83810663e+02,\n        2.51810328e+01,  2.01826450e+02,  2.46198930e+02, -2.25153825e+02,\n        2.89197560e+02,  2.76445678e+00,  1.51730869e+02, -1.75946303e+02,\n       -3.72100688e+02, -1.83172221e+02, -1.66257098e+02, -2.48218335e+02,\n       -5.60849770e+01,  2.00586530e+02, -1.47224813e+02, -2.26510799e+01,\n       -1.34329772e+02,  1.50411580e+02, -1.58541659e+02,  1.72580359e+02,\n       -2.94218544e+02,  1.67319129e+02, -1.97703618e+02, -2.19270468e+02,\n        3.56506481e+01,  1.15802068e+02,  6.76049040e+01, -1.19400647e+02,\n        3.15920897e+02, -1.31226436e+02, -4.67636999e+02, -5.01539133e+01,\n       -2.08255925e+02,  1.62643266e+02, -1.68493647e+02, -4.00527334e+01,\n        3.07496377e+01, -4.12725389e+02,  5.56864377e-01, -1.79649298e+01,\n       -4.26617017e+02,  4.04455777e+01, -4.28871806e+02, -7.60966739e+01,\n        3.13117993e+02, -3.55977196e+02, -2.47848101e+02, -1.40885035e+02,\n        1.28001971e+02, -1.95693986e+02, -1.57131405e+01, -2.85019672e+02,\n        7.40970220e+01, -6.34531705e+01,  1.58492156e+02, -3.87061565e+02,\n        9.55376739e+01,  2.60130070e+02, -9.81917368e+01,  2.35012594e+02,\n       -9.69824264e+00, -2.69864234e+02, -1.75987770e+02,  2.98679429e+02,\n        2.22488947e+01,  1.70476511e+02,  3.45437684e+00,  2.31343067e+02,\n       -1.99100272e+02, -1.29718759e+02, -3.14688082e+02, -2.29812425e+02,\n       -1.25945337e+02,  1.34152133e+02,  8.42963475e+01, -3.89726482e+01,\n       -5.32683740e+01, -8.99741789e+01,  4.60186418e+02, -2.30778326e+02,\n       -2.06569387e+02,  5.93889767e+01, -2.40557496e+02,  3.18074426e+01,\n       -8.75778962e+01, -1.55912709e+02,  2.44997300e+02,  8.32402424e+01,\n       -3.47815909e+02, -2.26653573e+02,  1.77712187e+02,  1.73198641e+02,\n        3.12201062e+02, -2.56088886e+02,  3.87926452e+00,  6.99308452e+00,\n        1.92176273e+02,  2.64222957e+02, -5.07731419e+01, -1.45398635e+02,\n       -3.70755357e+02,  7.42065679e+01, -2.16361092e+02,  1.82752388e+02,\n       -3.73326161e+02, -2.21206982e+02, -4.02931667e+01, -7.63034798e+01,\n        2.98123402e+01, -2.03207841e+02, -1.29821486e+02,  9.56327018e+01,\n       -3.17199592e+02,  4.40699453e+01, -9.70483124e+01,  1.51216612e+02,\n        2.65272062e+02, -3.25417403e+02,  2.41869588e+02,  1.00991105e+02,\n       -2.14301759e+02, -2.02992577e+02, -2.92687927e+00, -9.73004906e+01,\n        1.35350270e+02,  4.58087652e+01,  1.58438899e+02,  1.71144905e+02,\n       -2.26876150e+01,  1.04773301e+02, -1.64241365e+02, -4.15125725e+02,\n        2.15162734e+02,  1.32415566e+02,  4.21838515e+01,  8.68330594e+01,\n       -2.68141724e+02, -3.65308388e+01, -4.67840393e+01,  4.17243006e+02,\n        2.34296776e+02, -3.55961616e+01, -5.21581057e+02,  1.90381513e+02,\n        4.13653534e+02,  1.32869872e+02,  7.11093003e+01, -3.18486486e+01,\n       -2.26953786e+02,  1.17358901e+02,  1.17543512e+02, -1.49996587e+01,\n        4.37488103e+01, -6.23202552e+01,  2.52041703e+02, -2.08469004e+00,\n        1.36481671e+02, -2.27068072e+00,  7.35244854e+01, -2.68848181e+02,\n        2.21920419e+02,  2.15994678e+02,  3.78481342e+02, -2.13047665e+01,\n       -3.38332690e+00,  5.57531899e+01,  7.17704689e+01, -9.34596449e+01,\n        8.34348146e+01, -1.13275525e+02, -1.93896626e+02,  5.54895147e+01,\n        8.71197043e+01,  3.23943782e+02, -1.18063521e+02,  2.47139091e+02,\n        3.45829244e+02, -7.27285016e+01,  3.78140345e+02,  2.65313782e+02,\n        6.78812000e+02,  4.34892144e+00, -1.78932582e+02, -6.43181267e+01,\n       -1.95038199e+02,  3.39793852e+02, -6.86613029e+01,  2.71579908e+02,\n        1.31870213e+02, -1.14128459e+02, -1.09380096e+02, -1.25478671e+02,\n       -3.11816083e+01, -2.78250287e+01, -1.07923415e+02, -3.49331538e+02,\n        2.74965908e+02, -1.91735433e+02,  2.18818410e+02,  1.09499007e+02,\n       -3.36206408e+00,  8.07472652e+01,  7.54508347e+01, -1.29961312e+02,\n        3.21769981e+02,  1.47847373e+02,  4.56811970e+01, -2.02150602e+01,\n       -2.69279704e+02,  3.13076392e+02, -2.99799658e+02,  1.05268995e+02,\n       -5.34675356e+02,  1.25436951e+02,  1.42196238e+02, -4.00878141e+02,\n        2.59584670e+02,  3.63008146e+02,  9.79145730e+01,  2.70785097e+01,\n       -1.52494890e+02, -3.88321995e+01,  1.89414059e+01,  1.78713208e+02,\n       -2.36633401e+02,  8.05917914e+01,  2.05940219e+02, -6.16885387e+01,\n        7.06068802e+01,  1.47500221e+02, -3.15356031e+01, -2.34207218e+02,\n       -1.81075906e+02,  1.31898869e+02, -2.08479517e+02,  2.01286808e+02,\n        3.24989832e+01, -1.49639086e+02, -8.80674345e+01,  1.55116873e+02])"
     },
     "execution_count": 13,
     "metadata": {},
     "output_type": "execute_result"
    }
   ],
   "source": [
    "# predict values\n",
    "lasso.predict(X[:,]) # TODO: INPUT TEST SET HERE? OR APPROPRIATE DATA"
   ],
   "metadata": {
    "collapsed": false,
    "ExecuteTime": {
     "end_time": "2023-05-29T15:09:17.244334Z",
     "start_time": "2023-05-29T15:09:17.142971Z"
    }
   }
  },
  {
   "cell_type": "code",
   "execution_count": 14,
   "outputs": [
    {
     "data": {
      "text/plain": "LassoCV(cv=10, random_state=0)",
      "text/html": "<style>#sk-container-id-3 {color: black;background-color: white;}#sk-container-id-3 pre{padding: 0;}#sk-container-id-3 div.sk-toggleable {background-color: white;}#sk-container-id-3 label.sk-toggleable__label {cursor: pointer;display: block;width: 100%;margin-bottom: 0;padding: 0.3em;box-sizing: border-box;text-align: center;}#sk-container-id-3 label.sk-toggleable__label-arrow:before {content: \"▸\";float: left;margin-right: 0.25em;color: #696969;}#sk-container-id-3 label.sk-toggleable__label-arrow:hover:before {color: black;}#sk-container-id-3 div.sk-estimator:hover label.sk-toggleable__label-arrow:before {color: black;}#sk-container-id-3 div.sk-toggleable__content {max-height: 0;max-width: 0;overflow: hidden;text-align: left;background-color: #f0f8ff;}#sk-container-id-3 div.sk-toggleable__content pre {margin: 0.2em;color: black;border-radius: 0.25em;background-color: #f0f8ff;}#sk-container-id-3 input.sk-toggleable__control:checked~div.sk-toggleable__content {max-height: 200px;max-width: 100%;overflow: auto;}#sk-container-id-3 input.sk-toggleable__control:checked~label.sk-toggleable__label-arrow:before {content: \"▾\";}#sk-container-id-3 div.sk-estimator input.sk-toggleable__control:checked~label.sk-toggleable__label {background-color: #d4ebff;}#sk-container-id-3 div.sk-label input.sk-toggleable__control:checked~label.sk-toggleable__label {background-color: #d4ebff;}#sk-container-id-3 input.sk-hidden--visually {border: 0;clip: rect(1px 1px 1px 1px);clip: rect(1px, 1px, 1px, 1px);height: 1px;margin: -1px;overflow: hidden;padding: 0;position: absolute;width: 1px;}#sk-container-id-3 div.sk-estimator {font-family: monospace;background-color: #f0f8ff;border: 1px dotted black;border-radius: 0.25em;box-sizing: border-box;margin-bottom: 0.5em;}#sk-container-id-3 div.sk-estimator:hover {background-color: #d4ebff;}#sk-container-id-3 div.sk-parallel-item::after {content: \"\";width: 100%;border-bottom: 1px solid gray;flex-grow: 1;}#sk-container-id-3 div.sk-label:hover label.sk-toggleable__label {background-color: #d4ebff;}#sk-container-id-3 div.sk-serial::before {content: \"\";position: absolute;border-left: 1px solid gray;box-sizing: border-box;top: 0;bottom: 0;left: 50%;z-index: 0;}#sk-container-id-3 div.sk-serial {display: flex;flex-direction: column;align-items: center;background-color: white;padding-right: 0.2em;padding-left: 0.2em;position: relative;}#sk-container-id-3 div.sk-item {position: relative;z-index: 1;}#sk-container-id-3 div.sk-parallel {display: flex;align-items: stretch;justify-content: center;background-color: white;position: relative;}#sk-container-id-3 div.sk-item::before, #sk-container-id-3 div.sk-parallel-item::before {content: \"\";position: absolute;border-left: 1px solid gray;box-sizing: border-box;top: 0;bottom: 0;left: 50%;z-index: -1;}#sk-container-id-3 div.sk-parallel-item {display: flex;flex-direction: column;z-index: 1;position: relative;background-color: white;}#sk-container-id-3 div.sk-parallel-item:first-child::after {align-self: flex-end;width: 50%;}#sk-container-id-3 div.sk-parallel-item:last-child::after {align-self: flex-start;width: 50%;}#sk-container-id-3 div.sk-parallel-item:only-child::after {width: 0;}#sk-container-id-3 div.sk-dashed-wrapped {border: 1px dashed gray;margin: 0 0.4em 0.5em 0.4em;box-sizing: border-box;padding-bottom: 0.4em;background-color: white;}#sk-container-id-3 div.sk-label label {font-family: monospace;font-weight: bold;display: inline-block;line-height: 1.2em;}#sk-container-id-3 div.sk-label-container {text-align: center;}#sk-container-id-3 div.sk-container {/* jupyter's `normalize.less` sets `[hidden] { display: none; }` but bootstrap.min.css set `[hidden] { display: none !important; }` so we also need the `!important` here to be able to override the default hidden behavior on the sphinx rendered scikit-learn.org. See: https://github.com/scikit-learn/scikit-learn/issues/21755 */display: inline-block !important;position: relative;}#sk-container-id-3 div.sk-text-repr-fallback {display: none;}</style><div id=\"sk-container-id-3\" class=\"sk-top-container\"><div class=\"sk-text-repr-fallback\"><pre>LassoCV(cv=10, random_state=0)</pre><b>In a Jupyter environment, please rerun this cell to show the HTML representation or trust the notebook. <br />On GitHub, the HTML representation is unable to render, please try loading this page with nbviewer.org.</b></div><div class=\"sk-container\" hidden><div class=\"sk-item\"><div class=\"sk-estimator sk-toggleable\"><input class=\"sk-toggleable__control sk-hidden--visually\" id=\"sk-estimator-id-3\" type=\"checkbox\" checked><label for=\"sk-estimator-id-3\" class=\"sk-toggleable__label sk-toggleable__label-arrow\">LassoCV</label><div class=\"sk-toggleable__content\"><pre>LassoCV(cv=10, random_state=0)</pre></div></div></div></div></div>"
     },
     "execution_count": 14,
     "metadata": {},
     "output_type": "execute_result"
    }
   ],
   "source": [
    "lasso_poly.fit(X_poly,Y) # here it takes 1m 25s for 25 original features with degree 3 poly transformation"
   ],
   "metadata": {
    "collapsed": false,
    "ExecuteTime": {
     "end_time": "2023-05-29T15:09:19.326047Z",
     "start_time": "2023-05-29T15:09:18.798399Z"
    }
   }
  },
  {
   "cell_type": "code",
   "execution_count": 15,
   "outputs": [
    {
     "data": {
      "text/plain": "array([-6.61843942e+02, -2.53838688e+02,  1.51234474e+02, -6.60761687e+02,\n        3.32002921e+01, -1.88065871e+02, -8.83498184e+01,  4.73100579e+01,\n        2.46973087e+02,  7.60191561e+00, -1.56362379e+02,  2.94245348e+02,\n       -2.07103086e+02, -1.75454574e+02,  2.44709008e+02,  5.23594404e+02,\n       -1.72773865e+01, -8.77270368e+01, -1.60015186e+02,  1.00781189e+02,\n       -1.16964386e+02,  3.75261738e+01,  5.32869416e+01, -1.27145437e+02,\n        1.19721069e+02, -2.29050152e+02,  3.96721615e+02, -3.66057650e+02,\n        2.48905351e+02,  3.67269826e+02,  2.03406696e+02, -2.13955550e+02,\n        2.90811867e+01, -1.85567699e+02, -3.49789741e+01,  1.89488671e+02,\n       -2.22089262e+01,  7.66726819e+01,  2.51908260e+02,  4.14946374e+01,\n        3.02605410e+02, -9.41750176e+01, -2.10576148e+02,  2.66324922e+01,\n        7.52572663e+01, -2.63244300e+02,  1.65325700e+02, -6.72357950e+01,\n       -5.56967803e+01, -3.56340222e+02,  1.08341498e+02,  1.92508529e+02,\n       -1.65404430e+01,  9.49554603e+01, -2.84109932e+02,  1.67689595e+02,\n        2.17718351e+02, -1.56921987e+01,  8.17171563e+01, -4.41043772e+01,\n        4.77531063e+01,  1.00790242e+02, -3.44038097e+02,  8.06792756e+01,\n        1.38056221e+02, -9.97869069e+00,  4.52492364e+02,  3.05093301e+01,\n       -2.54553646e+01, -2.75853723e+02,  7.00182800e+01, -1.45712198e+02,\n       -6.82192810e+00, -6.57338141e+01,  7.08561160e+01,  4.67498929e+02,\n       -4.24191741e+00,  5.66384576e+01,  3.43793577e+02, -1.87158850e+02,\n       -1.71988161e+02, -1.38861726e+02,  5.24920289e+02,  2.98134375e+02,\n        7.54236312e+00,  2.52272947e+02, -2.51011024e+02,  1.75885898e+02,\n       -1.65662740e+02, -4.54934568e+01, -6.13912888e+01,  8.98150432e+01,\n        1.00466325e+02, -2.19267023e+02, -2.48351176e+02,  1.81441351e+02,\n       -6.19483902e+02,  8.67141606e+01,  3.29824081e+01,  2.43595191e+02,\n        3.64094466e+01, -1.36415270e+02, -9.21746065e+01, -1.03721881e+02,\n        9.56639161e+00,  8.57279244e+00,  6.54316616e+01,  2.75865634e+02,\n        1.67435357e+02,  6.49759211e+01,  7.34093400e+00,  2.10924948e+02,\n       -2.65172935e+02, -5.87253163e+01, -1.03794153e+02, -2.79951330e+02,\n        5.96484059e+01,  4.51457347e+01, -4.79513831e+01, -4.96496755e+02,\n        1.22803089e+01,  8.60655702e+01, -4.09220356e+01, -1.71408327e+02,\n       -5.22449940e+01, -1.50507099e+01,  2.09416374e+01,  7.77488822e+01,\n       -1.96057734e+02,  1.79390516e+02,  1.13688644e+02,  5.78641885e-01,\n        3.22487537e+02,  1.20628928e+02, -2.65684918e+02, -5.36805598e+01,\n       -1.44330887e+01,  2.93184810e+01, -2.39620124e+02, -1.88011653e+02,\n       -1.13813143e+02,  3.45760675e+02,  4.52477790e+02,  6.98540765e+01,\n       -2.78240664e+02, -4.68574020e+01, -2.72683098e+02, -7.17777194e+01,\n        2.49553846e+02,  2.95913814e+01,  3.90350672e+02, -1.05293843e+02,\n       -4.05027168e+01,  1.26429432e+02, -8.45444239e+01, -1.62319812e+02,\n       -2.29922013e+02, -6.94316895e+01, -3.57162090e+02, -2.38179717e+02,\n       -1.02391575e+02,  1.35124005e+02,  2.70416527e+02, -5.60286366e+01,\n        2.72019156e+01,  1.21889766e+02,  1.78599779e+02, -1.06825574e+02,\n       -9.87463838e+01, -1.83121067e+02,  1.96848217e+02, -6.45576242e+01,\n       -1.66302670e+02, -9.49521244e+01, -5.10586901e+01,  7.02179016e+01,\n        2.39757250e+02,  3.75173094e+02, -8.68247784e+01,  6.47716679e+01,\n       -2.20282526e+02, -5.69624368e+01, -2.81324997e+02,  2.66284964e+02,\n        4.63834656e+00,  1.87582025e+02,  1.02013712e+02, -1.13723787e+02,\n        7.02886677e+00,  2.01767607e+01, -3.70581836e+02,  2.07488330e+02,\n        8.81475730e+01,  2.56535255e+02,  9.34688984e+00,  1.08143535e+02,\n       -1.09491334e+02, -1.97945321e+02,  9.83838676e+01, -2.03129031e+02,\n        2.72536597e+02, -1.17176811e+02,  2.15887698e+02, -1.22938057e+02,\n        3.20475574e+02,  1.06186872e+01,  8.80397885e+00,  1.54818072e+02,\n        1.66527570e+02,  3.73924786e+02, -1.78196284e+02, -2.82464873e+02,\n        1.82061761e+02,  1.46193722e+02,  3.22452989e+02,  1.87535689e+02,\n       -1.52219009e+02, -7.96610680e+01, -2.46474459e+02,  4.74019531e+01,\n        4.92640204e+01,  2.05813328e+02, -8.16399309e+01, -3.67720211e+02,\n       -2.90398679e+02,  2.01317144e+02, -1.91780627e+02, -1.48402976e+01,\n       -2.49903224e+02,  6.37094090e+01, -2.12191678e+02, -9.48306095e+01,\n        3.30530204e+02, -3.59466700e+02, -1.37585696e+01, -8.23960064e+01,\n        3.14247683e+01, -2.72697310e+02,  1.29254693e+02, -3.35951582e+02,\n       -1.14925722e+02, -1.69654896e+02,  3.58836533e+02,  2.08640542e+02,\n        3.96814116e+01,  1.56650653e+02, -1.93859524e+01,  1.78566705e+01,\n        1.88803823e+02,  4.64876700e+02,  1.81421616e+02, -1.75731266e+02,\n        1.83271852e+02, -1.26698420e+01,  1.27616868e+02, -8.48523135e+01,\n       -3.54671790e+02, -1.05074638e+02, -1.93137654e+02, -6.92931031e+01,\n        6.36419473e+01,  3.68038848e+02,  1.05629227e+02,  4.06803910e+02,\n        7.56992112e-01, -7.60259397e+01,  2.73035975e+02, -6.35254549e+01,\n        3.74896751e+02, -1.44882305e+02, -1.28828400e+02,  8.61626928e+01,\n        2.70493455e+02, -1.59741141e+02, -2.41316810e+01, -3.48191261e+02,\n        1.69729909e+02, -2.78066353e+02, -2.34009903e+01, -2.05783400e+02,\n        1.80388076e+02, -9.58362887e+01,  3.20733965e+01,  3.45590859e+01,\n       -2.27367092e+02, -4.23739679e+01, -1.50527192e+02,  1.78572935e+01,\n       -4.22512271e+01,  4.01268954e+01, -8.52504306e+01, -1.99406945e+00,\n        1.07598632e+02, -2.21080913e+02, -2.71789842e+02, -1.07186034e+02,\n       -3.76152962e+02,  1.65552719e+02, -1.62618522e+02,  8.17425643e+01,\n       -3.90015970e+02,  3.01100644e+02, -2.99289836e+02, -4.04754303e+02,\n       -7.57273783e+00, -1.11474413e+02, -1.46487506e+02, -1.33871131e+02,\n       -1.94459018e+02,  1.15553452e+02, -9.02162490e+01, -4.07551271e+01,\n       -2.94740406e+02,  1.66251145e+02, -3.67146781e+02, -1.65458915e+02,\n       -1.07176197e+02, -3.26441051e+02,  4.79661662e+01, -1.16300021e+02,\n       -3.86321350e+02, -7.56512021e+01,  4.18132382e+02,  8.54128783e+01,\n        2.10111819e+01,  4.27349811e+02, -5.36496445e+02, -4.86842928e+02,\n        1.55728470e+02,  3.12411851e+02,  2.09584134e+01, -2.99658380e+02,\n       -1.05511932e+02, -6.21008245e+01, -6.56912468e+01, -2.03577911e+02,\n       -3.33185832e+02, -1.38013115e+02,  3.40844778e+02, -5.04860281e+01,\n        2.78384199e+02, -2.22369440e+02,  4.09631931e+02, -1.87330946e+01,\n       -1.25385850e+01,  3.48984331e+02, -1.45989194e+02,  1.07788260e+00,\n        1.73917634e+02,  9.00894413e+01, -1.88821900e+02, -2.68419783e+01,\n        2.53706083e+02,  3.19282482e+02, -2.75547493e+01, -3.30422376e+02,\n       -2.12268741e+02, -1.90785899e+01, -7.92530428e+01, -7.70690577e+00,\n        2.67114734e+02, -2.05290262e+02,  2.76300636e+02,  1.03570670e+02,\n        6.26609793e+01,  1.52248437e+02,  6.45642248e-01,  8.87103987e+01,\n        3.91796558e+01,  1.98014215e+01, -1.12828085e+01, -1.33316953e+02,\n       -1.58224096e+01, -3.66449921e+02, -2.08827712e+01, -4.14884931e+02,\n       -1.60644381e+02,  2.42348168e+02,  1.34443307e+02,  3.89716021e+01,\n        9.45530478e+01,  1.12788646e+02, -1.02721106e+02, -2.88084567e+02,\n       -8.18239453e+01, -4.13703194e+02, -1.41283287e+02,  2.59455975e+02,\n        2.11429792e+02, -6.13869214e+01,  4.27149343e+01, -1.95810718e+02,\n        4.63194985e+02, -1.89129316e+02,  1.05926501e+02,  7.57448806e+01,\n        5.12684384e+01,  2.11305316e+02, -1.74087923e+02, -2.74843182e+02,\n       -3.48230895e+02, -5.74712406e+01, -1.22461382e+01,  2.00144762e+01,\n        8.72437603e+01,  2.87617807e+01, -1.94984589e+02, -1.15286410e+02,\n       -2.62243063e+02,  3.14436804e+01, -1.65288991e+01, -3.92366102e+02,\n        1.65142500e+02, -2.47716478e+02,  2.28429970e+02,  1.35655284e+02,\n       -2.68052126e+02, -2.75750923e+02,  1.23277336e+02,  2.06378497e+02,\n        1.59423937e+02,  3.27664561e+02, -2.70990722e+02,  1.15075039e+02,\n        3.85521473e+02,  4.38654050e+01,  1.96421564e+02,  9.94609229e+01,\n       -8.73490084e+01,  2.48318869e+02,  3.27118224e+02,  6.85936222e+01,\n        1.15703262e+02, -3.16511645e+01, -1.81209402e+02,  2.76132022e+02,\n        3.16239888e+02, -1.02648492e+02, -1.02351990e+02,  4.41927939e+02,\n       -6.04898705e+01, -6.96073332e+01, -2.69583535e+01, -2.58893182e+02,\n       -1.40574706e+02,  6.55527813e+01,  5.72450198e+02,  7.78403683e+01,\n       -2.03807445e+01,  1.09066749e+02,  2.78532567e+02,  9.84734262e+01,\n       -2.79017332e+02, -5.94559473e+01,  3.57233685e+02,  1.31720989e+02,\n        2.36642205e+01, -3.67976161e+01,  7.52383943e+01,  1.31467032e+02,\n        1.06455278e+02, -2.71033099e+01, -7.83779374e+01,  1.29566046e+02,\n        4.11678038e+02, -1.64181338e+02,  1.46659730e+02,  2.69501771e+02,\n       -2.20074625e+02,  9.54902672e+01, -2.95491976e+01, -1.69700167e+01,\n       -2.53357038e+02, -5.18855264e+01,  7.98714685e+00,  1.07123044e+02,\n        1.42389003e+02, -1.78004393e+02, -2.78576512e+02,  1.50129902e+02,\n       -1.76055293e+01, -3.09368856e+02,  9.53679482e+01, -1.93874736e+02,\n       -2.73534528e+02,  2.23078734e+02,  1.53699355e+01,  2.61937769e+02,\n       -3.87996439e+01,  1.07575892e+01, -2.37718995e+01, -1.67217233e+02,\n       -3.62180606e+02,  2.14690438e+01, -1.51791672e+00, -2.46562745e+01,\n       -2.20862746e+02,  2.24116288e+02,  1.32194847e+02,  1.32975549e+02,\n       -6.61352588e+01,  2.69888956e+02, -2.15931970e+02,  8.69055794e+01,\n        1.75109439e+02,  1.34003266e+02, -2.61769213e+02, -7.03839819e+02,\n       -5.90492080e+01,  8.93802138e+01,  1.45892684e+01,  1.73679691e+00,\n        1.10847917e+02, -5.90885017e+00,  1.59789703e+02, -1.14809953e+02,\n        3.30379552e+01,  5.09350811e+01,  5.18814571e+01,  2.44077443e+01,\n       -1.19304192e+02, -6.38288498e+01,  9.82374722e+01,  2.13379667e+02,\n       -1.15248266e+02,  2.05311775e+00, -1.74245067e+02,  1.40286458e-01,\n        3.04179928e+01, -2.22496833e+02,  2.22635843e+02,  2.82864652e+01,\n       -2.03964342e+02, -8.39095331e+01,  8.70690859e+01, -4.88525573e+00,\n        4.50046859e+02, -9.89619268e+01, -9.59237627e+01,  2.42095128e+02,\n       -3.00634721e+02,  5.84530033e+00, -3.69411554e+02,  9.30670742e+00,\n       -3.22549527e+01,  3.04492607e+02, -1.60272093e+02, -2.80477978e+02,\n       -2.50889234e+02, -8.30558819e+01,  1.13231425e+02, -4.52562079e+02,\n       -3.91476690e+01, -1.71286752e+02,  6.18613618e+01,  1.70012475e+02,\n       -9.99685416e+01,  1.31447798e+02, -2.13565852e+02, -1.38151829e+02,\n       -1.85681212e+02, -4.32312430e+02,  2.49819954e+02, -1.37971595e+02,\n       -9.96212389e+01, -2.35028664e+02, -2.31645875e+02,  1.05792068e+02,\n        2.44521064e+02,  1.42189709e+02,  2.02920815e+01,  2.75397449e+02,\n       -6.55701609e+01,  8.73341389e+01, -1.74587965e+02,  4.60667774e+01,\n        1.22416808e+02, -4.41164965e+02,  1.07469332e+01, -4.74763206e+02,\n        8.39100937e+00, -2.57866303e+02, -4.13442954e+00, -3.04798856e+02,\n        1.25714868e+02,  3.08191181e+02, -1.52492843e+02, -2.69052586e+02,\n        9.29358120e+01,  5.26277260e+01, -5.20739355e+01, -6.06421815e+02,\n        3.90492362e+02,  7.43163129e+01, -4.36915979e+00, -2.42051745e+02,\n        5.22474770e+02,  3.02616122e+02,  5.80138002e+01, -5.22178076e+01,\n       -1.41620697e+01,  9.95775225e+01,  3.84182348e+02,  1.97641130e+02,\n       -1.69801816e+02, -2.17322488e+02,  3.87668140e+02, -2.69434367e+02,\n       -3.06949983e+02, -1.37310337e+02,  3.75807671e+01, -1.16081928e+02,\n        1.43075162e+02,  8.11771005e+00, -1.11084699e+02,  4.37653230e+02,\n       -6.92546544e+01,  1.94541742e+02, -9.93274080e+01, -6.51708874e+01,\n        1.43216290e+02,  2.07595618e+02, -2.68241827e+02, -2.20528534e+02,\n       -2.99361524e+02, -1.44614500e+02,  4.17649870e+02, -1.52786193e+02,\n        5.66350346e+02, -1.55116445e+02,  2.96620809e+01,  3.49504529e+02,\n       -1.72394805e+02,  3.48378021e+02,  8.17306914e+01,  3.41288007e+01,\n        4.19876698e+02, -1.93739287e+02,  4.16235944e+02, -1.79760995e+02,\n       -2.14497669e+02, -6.85996958e+01,  2.11345434e+02,  2.47199240e+02,\n        8.85392735e+01, -1.86206780e+01,  3.96112307e+02,  2.20491632e+01,\n       -1.70541439e+02,  2.26519083e+02,  1.54625290e+02,  3.36389735e+02,\n        1.12086772e+02, -6.52651484e+01,  7.59811777e+01,  1.82207296e+02,\n        2.00306036e+02,  3.15492491e+02, -7.25634071e+01,  2.33190390e+02,\n        2.43413301e+02, -2.21317192e+02, -3.44651293e+02, -1.47492816e+02,\n       -4.25915544e+00, -4.37286338e+00, -1.54449439e+02,  1.39455903e+02,\n        4.74356839e+01,  3.03177871e+01, -5.61872492e+01, -2.87777093e+01,\n       -5.89675804e+02, -2.78805802e+01, -4.34235422e+01, -2.04825805e+02,\n        4.95652844e+02, -1.50047676e+02, -2.80482430e+00,  1.71067676e+02,\n       -2.56640891e+02,  6.66953351e+01, -7.19692840e+01, -1.55386168e+02,\n       -9.79341045e+01, -1.63895600e+02, -2.11263631e+02,  1.99926970e+02,\n        4.81430891e+02,  3.02844905e+02,  2.93401662e+02, -9.80871985e+01,\n        1.03041096e+02,  4.00635072e+01, -2.39346314e+01, -3.24458339e+02,\n       -2.21588026e+02,  2.62141494e+02,  2.62506371e+02, -1.26500159e+02,\n        1.93746862e+02,  4.74661070e+01, -5.92972022e+01, -1.47932225e+01,\n        5.02339910e+01, -4.22794043e+02,  1.89400113e+02, -5.01270092e+02,\n        1.03502459e+01, -1.21108006e+02, -9.26591605e+01, -2.06120378e+02,\n        1.63982582e+02,  2.31472605e+02,  2.76946097e+02,  2.02598150e+02,\n        2.77346393e+02,  6.66831868e+01,  2.48196213e+02, -3.85950159e+02,\n       -4.33001200e+02, -8.21742585e+01,  1.31439108e+02,  1.58606334e+02,\n       -2.05211294e+02,  3.56252675e+02, -1.32205236e+02,  3.31354542e+01,\n        1.36901536e+02,  2.28279804e+02, -2.39178612e+02, -2.02856086e+02,\n       -5.23890572e+01, -1.22575086e+02, -2.14845884e+02,  5.69602743e+01,\n        2.83485102e+02, -1.24722154e+02,  2.89919463e+01, -1.19959581e+02,\n       -1.41621354e+02, -4.42381383e+02,  6.93283068e+01,  7.72317816e+01,\n        2.01461883e+02, -2.81649338e+02, -4.20608655e+02, -6.09006531e+01,\n        4.49167421e+01,  3.79569298e+01, -1.74005960e+02,  8.09237001e+01,\n       -5.26288424e+01,  2.40634558e+02,  1.43439216e+02,  2.43865279e+02,\n       -4.71889462e+01, -1.81652659e+02, -2.24749463e+02, -2.82556234e+02,\n        2.56603184e+01,  1.99496779e+02,  2.45529279e+02, -2.23623408e+02,\n        2.87574265e+02,  3.12602041e+00,  1.49979092e+02, -1.74735482e+02,\n       -3.70517360e+02, -1.81130164e+02, -1.65266997e+02, -2.46847314e+02,\n       -5.53168984e+01,  1.97745140e+02, -1.48235210e+02, -2.16701732e+01,\n       -1.31142879e+02,  1.49730101e+02, -1.56008466e+02,  1.73996235e+02,\n       -2.92788808e+02,  1.65392008e+02, -1.97639743e+02, -2.17802504e+02,\n        3.49182834e+01,  1.14442205e+02,  6.74278436e+01, -1.18073077e+02,\n        3.13862049e+02, -1.28885289e+02, -4.65641382e+02, -5.07768986e+01,\n       -2.06255556e+02,  1.62760088e+02, -1.68134817e+02, -3.97014022e+01,\n        3.00956857e+01, -4.09847710e+02, -5.32291971e-02, -1.92526659e+01,\n       -4.25370176e+02,  3.94871970e+01, -4.27295394e+02, -7.62910586e+01,\n        3.10125682e+02, -3.54378112e+02, -2.43456049e+02, -1.41295475e+02,\n        1.27417502e+02, -1.95541281e+02, -1.72008651e+01, -2.82826396e+02,\n        7.53459004e+01, -6.30490158e+01,  1.56399120e+02, -3.85581939e+02,\n        9.24047577e+01,  2.59959029e+02, -9.78604150e+01,  2.34108043e+02,\n       -1.00535090e+01, -2.67775477e+02, -1.76239620e+02,  2.98827402e+02,\n        2.26250130e+01,  1.68264169e+02,  2.50005800e+00,  2.31945129e+02,\n       -1.98905955e+02, -1.28445770e+02, -3.14581194e+02, -2.29738923e+02,\n       -1.24896967e+02,  1.34175776e+02,  8.25570402e+01, -3.92299398e+01,\n       -5.17141686e+01, -8.83091221e+01,  4.57749391e+02, -2.29464192e+02,\n       -2.06463441e+02,  5.88728501e+01, -2.39145687e+02,  3.15799077e+01,\n       -8.57938305e+01, -1.54404706e+02,  2.44380474e+02,  8.23815173e+01,\n       -3.45044271e+02, -2.27250772e+02,  1.75677509e+02,  1.69872157e+02,\n        3.10352592e+02, -2.54940734e+02,  2.24521232e+00,  6.61834522e+00,\n        1.92471027e+02,  2.62019977e+02, -5.15183528e+01, -1.44450536e+02,\n       -3.67686247e+02,  7.39087774e+01, -2.15731074e+02,  1.80844679e+02,\n       -3.70282312e+02, -2.19664809e+02, -4.00955796e+01, -7.62948533e+01,\n        2.93751532e+01, -2.02668672e+02, -1.29941981e+02,  9.65781770e+01,\n       -3.14778011e+02,  4.35478511e+01, -9.49873424e+01,  1.51030811e+02,\n        2.63712052e+02, -3.24403491e+02,  2.43198477e+02,  1.00566365e+02,\n       -2.14536971e+02, -2.02683397e+02, -2.32040251e+00, -9.73657594e+01,\n        1.34850146e+02,  4.59371527e+01,  1.55901626e+02,  1.69604056e+02,\n       -2.20626476e+01,  1.05312853e+02, -1.63060358e+02, -4.12328470e+02,\n        2.13431744e+02,  1.31254595e+02,  4.30608503e+01,  8.46206005e+01,\n       -2.67065496e+02, -3.44868191e+01, -4.83100949e+01,  4.19178879e+02,\n        2.31245984e+02, -3.54939802e+01, -5.19267554e+02,  1.89657267e+02,\n        4.10198633e+02,  1.30644047e+02,  7.10504505e+01, -3.15721825e+01,\n       -2.23092485e+02,  1.15813897e+02,  1.18069444e+02, -1.34259884e+01,\n        4.43576659e+01, -6.02443487e+01,  2.53786514e+02, -1.09648562e+00,\n        1.37781171e+02, -2.51207040e+00,  7.31682212e+01, -2.66715785e+02,\n        2.20848889e+02,  2.13702793e+02,  3.77693570e+02, -2.35582339e+01,\n       -1.47541986e+00,  5.55690248e+01,  7.17126271e+01, -9.53465495e+01,\n        8.44623521e+01, -1.12793158e+02, -1.91099901e+02,  5.29395413e+01,\n        8.74527443e+01,  3.22006520e+02, -1.17955949e+02,  2.47494389e+02,\n        3.44842947e+02, -7.31921497e+01,  3.75756776e+02,  2.63693744e+02,\n        6.74322406e+02,  2.69585944e+00, -1.78477098e+02, -6.35113509e+01,\n       -1.94408047e+02,  3.36260427e+02, -7.00457791e+01,  2.70159619e+02,\n        1.30536695e+02, -1.12614681e+02, -1.06170354e+02, -1.25205134e+02,\n       -3.21966931e+01, -2.98438829e+01, -1.08026320e+02, -3.46484690e+02,\n        2.72155326e+02, -1.91062719e+02,  2.16682907e+02,  1.09708448e+02,\n       -3.80468828e+00,  8.11319404e+01,  7.59287001e+01, -1.28075835e+02,\n        3.21370399e+02,  1.45721401e+02,  4.41968000e+01, -2.07079622e+01,\n       -2.67124884e+02,  3.11089795e+02, -2.96581733e+02,  1.05638727e+02,\n       -5.33112386e+02,  1.22858363e+02,  1.41715727e+02, -3.98481187e+02,\n        2.58596718e+02,  3.59838038e+02,  9.79939338e+01,  2.81596945e+01,\n       -1.52634974e+02, -3.81501937e+01,  2.04315177e+01,  1.74682313e+02,\n       -2.35985733e+02,  7.87048474e+01,  2.07700172e+02, -6.35061757e+01,\n        7.13605680e+01,  1.47405123e+02, -2.98305728e+01, -2.32923484e+02,\n       -1.81098238e+02,  1.30207289e+02, -2.07588066e+02,  2.01648903e+02,\n        3.24292022e+01, -1.49058577e+02, -8.86373977e+01,  1.53967800e+02])"
     },
     "execution_count": 15,
     "metadata": {},
     "output_type": "execute_result"
    }
   ],
   "source": [
    "lasso_poly.predict(X_poly[:,]) # prediction is fast"
   ],
   "metadata": {
    "collapsed": false,
    "ExecuteTime": {
     "end_time": "2023-05-29T15:09:20.901211Z",
     "start_time": "2023-05-29T15:09:20.781939Z"
    }
   }
  },
  {
   "cell_type": "code",
   "execution_count": 16,
   "outputs": [],
   "source": [
    "# Define the LASSO base-learner # TODO: CHANGE THIS!!!, PROBABLY MAKE A CHILDCLASS OF LASSOCV!!!\n",
    "# DONT KNOW IF NEEDED LIKE THAT!\n",
    "class Base_Lasso(LassoCV):\n",
    "    pass\n",
    "    \"\"\"\"\"   X: features.\n",
    "            Y: labels.\n",
    "            poly_degree: number of degrees for polynomial transformation.\n",
    "            poly_reg: whether to fit the model to the polynomial transformed X or not. \"\"\"\"\"\n",
    "    \"\"\"def __init__(self, x, y, poly_degree=1, poly_reg=False):\n",
    "        super().__init__(cv=10,random_state=0)\n",
    "        self.x = x\n",
    "        self.y = y\n",
    "        self.poly_degree = poly_degree\n",
    "        self.poly_reg = poly_reg\n",
    "        self.x_poly = PolynomialFeatures(degree=self.poly_degree, interaction_only=False, include_bias=False).fit_transform(self.x) # TODO: OR SEPARATE FUNCTION? \"\"\"\n",
    "\n",
    "    #def X_poly(self): # TODO: MAYBE DELETE?\n",
    "        #poly = PolynomialFeatures(degree=self.poly_degree, interaction_only=False, include_bias=False)\n",
    "        #return poly.fit_transform(self.X)\n",
    "\n",
    "    \"Comment on this function\"\n",
    "\n",
    "    \"\"\"def fit(self,cv=10,random_stat=0):\n",
    "        self.lasso = LassoCV(cv=cv, random_state=random_stat)\n",
    "        if self.poly_reg:\n",
    "            self.lasso.fit(self.x_poly, self.y)\n",
    "        else:\n",
    "            self.lasso.fit(self.x, self.y)\"\"\"\n",
    "\n",
    "\n",
    "    \"Comment on this function\"\n",
    "    #def predict(self,x):\n",
    "        #return lasso_reg.predict(x)"
   ],
   "metadata": {
    "collapsed": false,
    "ExecuteTime": {
     "end_time": "2023-05-29T15:09:28.236290Z",
     "start_time": "2023-05-29T15:09:28.138596Z"
    }
   }
  },
  {
   "cell_type": "code",
   "execution_count": 17,
   "outputs": [],
   "source": [
    "lol = Base_Lasso(cv=10, random_state=0)"
   ],
   "metadata": {
    "collapsed": false,
    "ExecuteTime": {
     "end_time": "2023-05-29T15:09:29.361963Z",
     "start_time": "2023-05-29T15:09:29.353949Z"
    }
   }
  },
  {
   "cell_type": "code",
   "execution_count": 18,
   "outputs": [
    {
     "data": {
      "text/plain": "Base_Lasso(cv=10, random_state=0)",
      "text/html": "<style>#sk-container-id-4 {color: black;background-color: white;}#sk-container-id-4 pre{padding: 0;}#sk-container-id-4 div.sk-toggleable {background-color: white;}#sk-container-id-4 label.sk-toggleable__label {cursor: pointer;display: block;width: 100%;margin-bottom: 0;padding: 0.3em;box-sizing: border-box;text-align: center;}#sk-container-id-4 label.sk-toggleable__label-arrow:before {content: \"▸\";float: left;margin-right: 0.25em;color: #696969;}#sk-container-id-4 label.sk-toggleable__label-arrow:hover:before {color: black;}#sk-container-id-4 div.sk-estimator:hover label.sk-toggleable__label-arrow:before {color: black;}#sk-container-id-4 div.sk-toggleable__content {max-height: 0;max-width: 0;overflow: hidden;text-align: left;background-color: #f0f8ff;}#sk-container-id-4 div.sk-toggleable__content pre {margin: 0.2em;color: black;border-radius: 0.25em;background-color: #f0f8ff;}#sk-container-id-4 input.sk-toggleable__control:checked~div.sk-toggleable__content {max-height: 200px;max-width: 100%;overflow: auto;}#sk-container-id-4 input.sk-toggleable__control:checked~label.sk-toggleable__label-arrow:before {content: \"▾\";}#sk-container-id-4 div.sk-estimator input.sk-toggleable__control:checked~label.sk-toggleable__label {background-color: #d4ebff;}#sk-container-id-4 div.sk-label input.sk-toggleable__control:checked~label.sk-toggleable__label {background-color: #d4ebff;}#sk-container-id-4 input.sk-hidden--visually {border: 0;clip: rect(1px 1px 1px 1px);clip: rect(1px, 1px, 1px, 1px);height: 1px;margin: -1px;overflow: hidden;padding: 0;position: absolute;width: 1px;}#sk-container-id-4 div.sk-estimator {font-family: monospace;background-color: #f0f8ff;border: 1px dotted black;border-radius: 0.25em;box-sizing: border-box;margin-bottom: 0.5em;}#sk-container-id-4 div.sk-estimator:hover {background-color: #d4ebff;}#sk-container-id-4 div.sk-parallel-item::after {content: \"\";width: 100%;border-bottom: 1px solid gray;flex-grow: 1;}#sk-container-id-4 div.sk-label:hover label.sk-toggleable__label {background-color: #d4ebff;}#sk-container-id-4 div.sk-serial::before {content: \"\";position: absolute;border-left: 1px solid gray;box-sizing: border-box;top: 0;bottom: 0;left: 50%;z-index: 0;}#sk-container-id-4 div.sk-serial {display: flex;flex-direction: column;align-items: center;background-color: white;padding-right: 0.2em;padding-left: 0.2em;position: relative;}#sk-container-id-4 div.sk-item {position: relative;z-index: 1;}#sk-container-id-4 div.sk-parallel {display: flex;align-items: stretch;justify-content: center;background-color: white;position: relative;}#sk-container-id-4 div.sk-item::before, #sk-container-id-4 div.sk-parallel-item::before {content: \"\";position: absolute;border-left: 1px solid gray;box-sizing: border-box;top: 0;bottom: 0;left: 50%;z-index: -1;}#sk-container-id-4 div.sk-parallel-item {display: flex;flex-direction: column;z-index: 1;position: relative;background-color: white;}#sk-container-id-4 div.sk-parallel-item:first-child::after {align-self: flex-end;width: 50%;}#sk-container-id-4 div.sk-parallel-item:last-child::after {align-self: flex-start;width: 50%;}#sk-container-id-4 div.sk-parallel-item:only-child::after {width: 0;}#sk-container-id-4 div.sk-dashed-wrapped {border: 1px dashed gray;margin: 0 0.4em 0.5em 0.4em;box-sizing: border-box;padding-bottom: 0.4em;background-color: white;}#sk-container-id-4 div.sk-label label {font-family: monospace;font-weight: bold;display: inline-block;line-height: 1.2em;}#sk-container-id-4 div.sk-label-container {text-align: center;}#sk-container-id-4 div.sk-container {/* jupyter's `normalize.less` sets `[hidden] { display: none; }` but bootstrap.min.css set `[hidden] { display: none !important; }` so we also need the `!important` here to be able to override the default hidden behavior on the sphinx rendered scikit-learn.org. See: https://github.com/scikit-learn/scikit-learn/issues/21755 */display: inline-block !important;position: relative;}#sk-container-id-4 div.sk-text-repr-fallback {display: none;}</style><div id=\"sk-container-id-4\" class=\"sk-top-container\"><div class=\"sk-text-repr-fallback\"><pre>Base_Lasso(cv=10, random_state=0)</pre><b>In a Jupyter environment, please rerun this cell to show the HTML representation or trust the notebook. <br />On GitHub, the HTML representation is unable to render, please try loading this page with nbviewer.org.</b></div><div class=\"sk-container\" hidden><div class=\"sk-item\"><div class=\"sk-estimator sk-toggleable\"><input class=\"sk-toggleable__control sk-hidden--visually\" id=\"sk-estimator-id-4\" type=\"checkbox\" checked><label for=\"sk-estimator-id-4\" class=\"sk-toggleable__label sk-toggleable__label-arrow\">Base_Lasso</label><div class=\"sk-toggleable__content\"><pre>Base_Lasso(cv=10, random_state=0)</pre></div></div></div></div></div>"
     },
     "execution_count": 18,
     "metadata": {},
     "output_type": "execute_result"
    }
   ],
   "source": [
    "lol.fit(X,Y)"
   ],
   "metadata": {
    "collapsed": false,
    "ExecuteTime": {
     "end_time": "2023-05-29T15:09:30.248235Z",
     "start_time": "2023-05-29T15:09:30.077983Z"
    }
   }
  },
  {
   "cell_type": "code",
   "execution_count": 19,
   "outputs": [
    {
     "data": {
      "text/plain": "array([-6.65174001e+02, -2.54809599e+02,  1.50734005e+02, -6.62219140e+02,\n        3.32561199e+01, -1.88279852e+02, -8.89277364e+01,  4.76642742e+01,\n        2.48712396e+02,  7.65499464e+00, -1.57603138e+02,  2.93919113e+02,\n       -2.08902777e+02, -1.77142896e+02,  2.45923594e+02,  5.26951200e+02,\n       -1.65266676e+01, -8.83149350e+01, -1.61503579e+02,  1.01365201e+02,\n       -1.16889316e+02,  3.53673756e+01,  5.39532198e+01, -1.25722261e+02,\n        1.21225213e+02, -2.30072191e+02,  4.00994157e+02, -3.65675922e+02,\n        2.49200135e+02,  3.67072940e+02,  2.04662976e+02, -2.15757081e+02,\n        2.88682301e+01, -1.87417843e+02, -3.63048801e+01,  1.90459441e+02,\n       -2.16909030e+01,  7.69948242e+01,  2.56746971e+02,  4.11656862e+01,\n        3.04006066e+02, -9.55333255e+01, -2.12246982e+02,  2.64016223e+01,\n        7.41012000e+01, -2.65496040e+02,  1.66110273e+02, -6.87096969e+01,\n       -5.60718249e+01, -3.58525411e+02,  1.10071498e+02,  1.92607283e+02,\n       -1.76708529e+01,  9.39088534e+01, -2.87000591e+02,  1.69997134e+02,\n        2.16935673e+02, -1.65467100e+01,  8.30609979e+01, -4.21137826e+01,\n        4.90773406e+01,  1.01013898e+02, -3.46043225e+02,  8.13938128e+01,\n        1.37820119e+02, -8.83067090e+00,  4.53935940e+02,  3.05782362e+01,\n       -2.83252133e+01, -2.81016255e+02,  6.98231159e+01, -1.48729490e+02,\n       -6.52450486e+00, -6.69451600e+01,  7.07999111e+01,  4.70695178e+02,\n       -3.49763584e+00,  5.79517777e+01,  3.46971197e+02, -1.87730961e+02,\n       -1.73723587e+02, -1.43133326e+02,  5.27811202e+02,  2.99956794e+02,\n        1.10934061e+01,  2.53369256e+02, -2.52285988e+02,  1.78125342e+02,\n       -1.66707317e+02, -4.53823048e+01, -6.33529897e+01,  8.89489108e+01,\n        9.98387404e+01, -2.22049185e+02, -2.49768954e+02,  1.83708182e+02,\n       -6.20367481e+02,  8.96080201e+01,  3.17438083e+01,  2.43804644e+02,\n        3.48604772e+01, -1.36943286e+02, -9.32994849e+01, -1.04132490e+02,\n        8.99684060e+00,  7.69104981e+00,  6.74763014e+01,  2.78344908e+02,\n        1.68972984e+02,  6.60337269e+01,  7.31402190e+00,  2.10015432e+02,\n       -2.67292887e+02, -5.78076546e+01, -1.03852627e+02, -2.80758405e+02,\n        6.10904391e+01,  4.51261421e+01, -4.68668271e+01, -4.98401782e+02,\n        1.14073069e+01,  8.58801701e+01, -4.07592218e+01, -1.74406121e+02,\n       -5.15707648e+01, -1.34071430e+01,  2.21097592e+01,  7.91815401e+01,\n       -1.96410847e+02,  1.78579805e+02,  1.14792837e+02,  1.45281014e+00,\n        3.22906254e+02,  1.18728942e+02, -2.66615921e+02, -5.54074973e+01,\n       -1.74462141e+01,  3.02705777e+01, -2.38726199e+02, -1.87979856e+02,\n       -1.13217782e+02,  3.48438742e+02,  4.54463452e+02,  6.97101573e+01,\n       -2.79484172e+02, -4.91093817e+01, -2.74350660e+02, -7.31569393e+01,\n        2.49600557e+02,  2.73804281e+01,  3.91619480e+02, -1.05215059e+02,\n       -4.15274774e+01,  1.24813564e+02, -8.29856796e+01, -1.64691044e+02,\n       -2.30945164e+02, -6.87286417e+01, -3.59284395e+02, -2.38997734e+02,\n       -1.02929268e+02,  1.36644510e+02,  2.69360931e+02, -5.63152037e+01,\n        2.55743504e+01,  1.22492730e+02,  1.79047688e+02, -1.07954861e+02,\n       -1.01294834e+02, -1.84612989e+02,  1.97820431e+02, -6.45550863e+01,\n       -1.66615005e+02, -9.56316870e+01, -5.14976575e+01,  7.31900215e+01,\n        2.41144680e+02,  3.75697230e+02, -8.58827936e+01,  6.50306044e+01,\n       -2.21220053e+02, -5.67801473e+01, -2.82268835e+02,  2.66701251e+02,\n        3.40070477e+00,  1.87552880e+02,  1.02501384e+02, -1.13633487e+02,\n        7.70207230e+00,  2.00106354e+01, -3.72703709e+02,  2.09108224e+02,\n        8.87001529e+01,  2.55246938e+02,  8.71979661e+00,  1.10256688e+02,\n       -1.10819290e+02, -1.98630631e+02,  9.70105708e+01, -2.05021786e+02,\n        2.73950936e+02, -1.18900656e+02,  2.16149400e+02, -1.23800315e+02,\n        3.21437662e+02,  1.27577498e+01,  7.98664006e+00,  1.55717296e+02,\n        1.67073327e+02,  3.76386921e+02, -1.79530246e+02, -2.83686475e+02,\n        1.83917109e+02,  1.43743318e+02,  3.23710192e+02,  1.89432964e+02,\n       -1.51065154e+02, -7.85270053e+01, -2.47607759e+02,  4.76998433e+01,\n        5.01261960e+01,  2.07071835e+02, -8.25395547e+01, -3.68662354e+02,\n       -2.91705573e+02,  2.03136436e+02, -1.91938945e+02, -1.49632994e+01,\n       -2.51590080e+02,  6.44196720e+01, -2.16006186e+02, -9.65702878e+01,\n        3.32656955e+02, -3.60044266e+02, -1.59963620e+01, -8.49125595e+01,\n        3.06115733e+01, -2.77780186e+02,  1.29854487e+02, -3.37295756e+02,\n       -1.13846618e+02, -1.69730406e+02,  3.59519905e+02,  2.09576232e+02,\n        3.88320325e+01,  1.57046373e+02, -1.72621617e+01,  1.85444508e+01,\n        1.89204324e+02,  4.66570159e+02,  1.82933880e+02, -1.78519367e+02,\n        1.85609581e+02, -1.45976763e+01,  1.26732501e+02, -8.44143717e+01,\n       -3.54647011e+02, -1.05976077e+02, -1.93227944e+02, -7.09243539e+01,\n        6.56909970e+01,  3.72120892e+02,  1.07334774e+02,  4.08923309e+02,\n        1.34890733e-01, -7.78507414e+01,  2.74116087e+02, -6.11587438e+01,\n        3.77856641e+02, -1.46928783e+02, -1.28280744e+02,  8.61365673e+01,\n        2.72102991e+02, -1.59712651e+02, -2.55920233e+01, -3.50252848e+02,\n        1.72404170e+02, -2.80069974e+02, -2.50358440e+01, -2.10973730e+02,\n        1.80239068e+02, -9.76458438e+01,  3.15183585e+01,  3.52930543e+01,\n       -2.28633756e+02, -4.33306005e+01, -1.51383287e+02,  1.63091384e+01,\n       -4.17410380e+01,  4.32992356e+01, -8.60680993e+01, -1.10623272e+00,\n        1.08751624e+02, -2.20309357e+02, -2.72997594e+02, -1.08409955e+02,\n       -3.77285957e+02,  1.66516202e+02, -1.65413782e+02,  8.17168715e+01,\n       -3.90133708e+02,  3.01507970e+02, -3.00400523e+02, -4.05502294e+02,\n       -6.93882957e+00, -1.11503857e+02, -1.47288176e+02, -1.36342062e+02,\n       -1.95105783e+02,  1.15698507e+02, -9.12996485e+01, -4.07296304e+01,\n       -2.95711928e+02,  1.64983590e+02, -3.68996338e+02, -1.65723537e+02,\n       -1.07502208e+02, -3.28718359e+02,  5.01150509e+01, -1.17791884e+02,\n       -3.85042882e+02, -7.73523152e+01,  4.19905893e+02,  8.48924596e+01,\n        2.18924999e+01,  4.29418698e+02, -5.39135269e+02, -4.93986166e+02,\n        1.56206291e+02,  3.14202970e+02,  2.00706086e+01, -3.00292572e+02,\n       -1.04704844e+02, -6.27049571e+01, -6.68588373e+01, -2.03955373e+02,\n       -3.34162827e+02, -1.39264986e+02,  3.45145994e+02, -5.04100410e+01,\n        2.79237183e+02, -2.23614588e+02,  4.12044519e+02, -1.70349499e+01,\n       -1.24430105e+01,  3.53353932e+02, -1.46705600e+02,  1.66477037e+00,\n        1.74844061e+02,  9.17191052e+01, -1.88319002e+02, -2.90362191e+01,\n        2.54818985e+02,  3.20797814e+02, -2.77590193e+01, -3.32233646e+02,\n       -2.12213128e+02, -1.92605478e+01, -8.03598579e+01, -6.38418023e+00,\n        2.66089219e+02, -2.06434733e+02,  2.78906144e+02,  1.04152211e+02,\n        6.34594797e+01,  1.53145063e+02, -2.94570250e-01,  8.73038368e+01,\n        3.96935075e+01,  2.20051755e+01, -1.35291772e+01, -1.34473483e+02,\n       -1.81788322e+01, -3.68835827e+02, -2.22970243e+01, -4.15220555e+02,\n       -1.59983931e+02,  2.41194835e+02,  1.34017741e+02,  3.79699150e+01,\n        9.50467539e+01,  1.14080261e+02, -1.00974692e+02, -2.90187920e+02,\n       -8.52072131e+01, -4.17046525e+02, -1.43133395e+02,  2.61174240e+02,\n        2.13487201e+02, -6.21543036e+01,  4.47089456e+01, -1.97071791e+02,\n        4.65317936e+02, -1.91795290e+02,  1.05829164e+02,  7.66494571e+01,\n        5.18349479e+01,  2.11976621e+02, -1.77502434e+02, -2.77003868e+02,\n       -3.47881022e+02, -5.73188549e+01, -1.07725240e+01,  2.08887451e+01,\n        8.68488665e+01,  2.98010822e+01, -1.96024024e+02, -1.15522622e+02,\n       -2.62778824e+02,  3.23153693e+01, -1.34529412e+01, -3.93723459e+02,\n        1.67089861e+02, -2.47539099e+02,  2.29864045e+02,  1.36201029e+02,\n       -2.66858044e+02, -2.78033658e+02,  1.24160149e+02,  2.05130157e+02,\n        1.59369691e+02,  3.26386627e+02, -2.75789382e+02,  1.16954029e+02,\n        3.87391427e+02,  4.24526974e+01,  1.97642076e+02,  9.92338145e+01,\n       -8.74910736e+01,  2.49049438e+02,  3.27282096e+02,  6.94114926e+01,\n        1.17094549e+02, -3.08726804e+01, -1.81283077e+02,  2.76945325e+02,\n        3.17274655e+02, -1.02736346e+02, -1.02713256e+02,  4.45344274e+02,\n       -6.13483921e+01, -7.00981119e+01, -2.57251672e+01, -2.58453318e+02,\n       -1.42805764e+02,  6.61516583e+01,  5.75265992e+02,  7.99309368e+01,\n       -1.99123423e+01,  1.06087455e+02,  2.81833694e+02,  9.78149401e+01,\n       -2.80659882e+02, -6.06724342e+01,  3.60398791e+02,  1.34752901e+02,\n        2.34114986e+01, -3.54756857e+01,  7.72355275e+01,  1.32701229e+02,\n        1.05732480e+02, -3.08170398e+01, -7.78979452e+01,  1.30870589e+02,\n        4.13672513e+02, -1.63845481e+02,  1.49300793e+02,  2.71669771e+02,\n       -2.22307631e+02,  9.38256419e+01, -3.01129858e+01, -1.72623431e+01,\n       -2.52198845e+02, -5.10305445e+01,  9.14913974e+00,  1.08702970e+02,\n        1.45017108e+02, -1.78488314e+02, -2.78496653e+02,  1.51126896e+02,\n       -1.84445463e+01, -3.12006584e+02,  9.21760061e+01, -1.93908163e+02,\n       -2.74469871e+02,  2.23479108e+02,  1.37594191e+01,  2.63384653e+02,\n       -3.88838471e+01,  1.03404419e+01, -2.41020661e+01, -1.67337194e+02,\n       -3.62957384e+02,  2.18133560e+01, -3.92159732e+00, -2.66211623e+01,\n       -2.22582086e+02,  2.23254805e+02,  1.31891610e+02,  1.32967106e+02,\n       -6.68965121e+01,  2.69822281e+02, -2.17206544e+02,  8.89054660e+01,\n        1.73684881e+02,  1.34490736e+02, -2.64836235e+02, -7.08215503e+02,\n       -5.82484903e+01,  9.00534697e+01,  1.59592324e+01,  3.01992387e+00,\n        1.12060681e+02, -5.31475030e+00,  1.61884411e+02, -1.17310308e+02,\n        3.21987805e+01,  4.94515967e+01,  5.26458588e+01,  2.54150528e+01,\n       -1.19769144e+02, -6.44562753e+01,  1.01440127e+02,  2.14597358e+02,\n       -1.14721283e+02,  1.42314824e+00, -1.75505906e+02, -1.10799380e+00,\n        3.07676565e+01, -2.22409492e+02,  2.23489113e+02,  2.50607502e+01,\n       -2.04339881e+02, -8.32083266e+01,  8.78165628e+01, -5.16756616e+00,\n        4.51128136e+02, -9.86266664e+01, -9.79835871e+01,  2.43065965e+02,\n       -3.01683787e+02,  6.67826079e+00, -3.72615826e+02,  1.04272861e+01,\n       -3.19212314e+01,  3.06602609e+02, -1.61518059e+02, -2.80689461e+02,\n       -2.50650892e+02, -8.20327421e+01,  1.14301126e+02, -4.55309249e+02,\n       -3.95730767e+01, -1.74173756e+02,  6.45892135e+01,  1.68668417e+02,\n       -1.00144683e+02,  1.32866599e+02, -2.13200767e+02, -1.40297007e+02,\n       -1.84904950e+02, -4.35772737e+02,  2.55292996e+02, -1.38598991e+02,\n       -1.01002334e+02, -2.35308498e+02, -2.32135670e+02,  1.08243504e+02,\n        2.46175690e+02,  1.41689277e+02,  1.82944795e+01,  2.80079852e+02,\n       -6.34143688e+01,  8.82347975e+01, -1.75398387e+02,  4.55152582e+01,\n        1.22724971e+02, -4.43085212e+02,  1.06862925e+01, -4.77760296e+02,\n        8.24002390e+00, -2.60104784e+02, -5.09055268e+00, -3.02699479e+02,\n        1.28379020e+02,  3.09475751e+02, -1.51228577e+02, -2.70285917e+02,\n        9.22321515e+01,  5.32378406e+01, -5.07891715e+01, -6.07131615e+02,\n        3.93284378e+02,  7.24177604e+01, -6.34217231e+00, -2.43044920e+02,\n        5.25736751e+02,  3.05622092e+02,  5.83616525e+01, -5.20845800e+01,\n       -1.42393430e+01,  9.96837890e+01,  3.86310176e+02,  1.99890308e+02,\n       -1.70662192e+02, -2.16381262e+02,  3.89016451e+02, -2.72395091e+02,\n       -3.06713940e+02, -1.38634021e+02,  3.92887047e+01, -1.16131967e+02,\n        1.46506057e+02,  9.68280643e+00, -1.11864742e+02,  4.40372540e+02,\n       -6.86633731e+01,  1.97152025e+02, -1.01538579e+02, -6.32412553e+01,\n        1.43324948e+02,  2.07362061e+02, -2.69998791e+02, -2.23069134e+02,\n       -3.00237344e+02, -1.45135530e+02,  4.21227536e+02, -1.52790235e+02,\n        5.70902201e+02, -1.56513697e+02,  3.19614976e+01,  3.52084818e+02,\n       -1.73431139e+02,  3.47334923e+02,  8.36486682e+01,  3.48406040e+01,\n        4.22578458e+02, -1.93384425e+02,  4.19229161e+02, -1.81731186e+02,\n       -2.15759078e+02, -6.78926455e+01,  2.12986110e+02,  2.48311071e+02,\n        8.86147101e+01, -1.77439673e+01,  3.98081060e+02,  2.35209298e+01,\n       -1.69572881e+02,  2.26278497e+02,  1.53837741e+02,  3.38332580e+02,\n        1.12508916e+02, -6.69110374e+01,  7.55335579e+01,  1.84948805e+02,\n        1.98916385e+02,  3.18282129e+02, -7.46803186e+01,  2.31313784e+02,\n        2.47533654e+02, -2.21329972e+02, -3.47602317e+02, -1.47341339e+02,\n       -4.47785371e+00, -3.97167160e+00, -1.56558922e+02,  1.40862966e+02,\n        4.71592016e+01,  3.34001946e+01, -5.70195169e+01, -2.98223961e+01,\n       -5.90632224e+02, -2.70494227e+01, -4.43703188e+01, -2.05568076e+02,\n        4.98748497e+02, -1.51134079e+02,  3.38177674e-01,  1.70003440e+02,\n       -2.55411744e+02,  6.84202895e+01, -7.06905140e+01, -1.54020499e+02,\n       -9.86167297e+01, -1.64902039e+02, -2.11433033e+02,  2.01500751e+02,\n        4.82959234e+02,  3.04153734e+02,  2.96040189e+02, -9.96277794e+01,\n        1.02897468e+02,  4.00517699e+01, -2.38272410e+01, -3.25476320e+02,\n       -2.20399682e+02,  2.63492657e+02,  2.64956583e+02, -1.27469141e+02,\n        1.94105701e+02,  4.88581888e+01, -5.92393211e+01, -1.32992896e+01,\n        4.99420475e+01, -4.24965559e+02,  1.89747097e+02, -5.04041386e+02,\n        9.99611837e+00, -1.24390923e+02, -9.41314719e+01, -2.04556875e+02,\n        1.64358319e+02,  2.36184298e+02,  2.77609985e+02,  2.05652507e+02,\n        2.81683514e+02,  6.79930138e+01,  2.49199560e+02, -3.89516843e+02,\n       -4.36074324e+02, -8.37149389e+01,  1.31599441e+02,  1.59668022e+02,\n       -2.05585695e+02,  3.59137149e+02, -1.33697924e+02,  3.54232999e+01,\n        1.34005732e+02,  2.28756033e+02, -2.38682410e+02, -2.02577444e+02,\n       -5.43822486e+01, -1.26392033e+02, -2.17493143e+02,  5.76317013e+01,\n        2.86166636e+02, -1.23825197e+02,  2.93989651e+01, -1.21887791e+02,\n       -1.42562791e+02, -4.45508767e+02,  6.92485527e+01,  7.43980442e+01,\n        2.03204546e+02, -2.84368614e+02, -4.21220249e+02, -6.13618823e+01,\n        4.44948024e+01,  3.72654190e+01, -1.74147788e+02,  8.39466299e+01,\n       -5.15718670e+01,  2.43834115e+02,  1.44199553e+02,  2.45697939e+02,\n       -4.63502075e+01, -1.81342703e+02, -2.25341976e+02, -2.83810663e+02,\n        2.51810328e+01,  2.01826450e+02,  2.46198930e+02, -2.25153825e+02,\n        2.89197560e+02,  2.76445678e+00,  1.51730869e+02, -1.75946303e+02,\n       -3.72100688e+02, -1.83172221e+02, -1.66257098e+02, -2.48218335e+02,\n       -5.60849770e+01,  2.00586530e+02, -1.47224813e+02, -2.26510799e+01,\n       -1.34329772e+02,  1.50411580e+02, -1.58541659e+02,  1.72580359e+02,\n       -2.94218544e+02,  1.67319129e+02, -1.97703618e+02, -2.19270468e+02,\n        3.56506481e+01,  1.15802068e+02,  6.76049040e+01, -1.19400647e+02,\n        3.15920897e+02, -1.31226436e+02, -4.67636999e+02, -5.01539133e+01,\n       -2.08255925e+02,  1.62643266e+02, -1.68493647e+02, -4.00527334e+01,\n        3.07496377e+01, -4.12725389e+02,  5.56864377e-01, -1.79649298e+01,\n       -4.26617017e+02,  4.04455777e+01, -4.28871806e+02, -7.60966739e+01,\n        3.13117993e+02, -3.55977196e+02, -2.47848101e+02, -1.40885035e+02,\n        1.28001971e+02, -1.95693986e+02, -1.57131405e+01, -2.85019672e+02,\n        7.40970220e+01, -6.34531705e+01,  1.58492156e+02, -3.87061565e+02,\n        9.55376739e+01,  2.60130070e+02, -9.81917368e+01,  2.35012594e+02,\n       -9.69824264e+00, -2.69864234e+02, -1.75987770e+02,  2.98679429e+02,\n        2.22488947e+01,  1.70476511e+02,  3.45437684e+00,  2.31343067e+02,\n       -1.99100272e+02, -1.29718759e+02, -3.14688082e+02, -2.29812425e+02,\n       -1.25945337e+02,  1.34152133e+02,  8.42963475e+01, -3.89726482e+01,\n       -5.32683740e+01, -8.99741789e+01,  4.60186418e+02, -2.30778326e+02,\n       -2.06569387e+02,  5.93889767e+01, -2.40557496e+02,  3.18074426e+01,\n       -8.75778962e+01, -1.55912709e+02,  2.44997300e+02,  8.32402424e+01,\n       -3.47815909e+02, -2.26653573e+02,  1.77712187e+02,  1.73198641e+02,\n        3.12201062e+02, -2.56088886e+02,  3.87926452e+00,  6.99308452e+00,\n        1.92176273e+02,  2.64222957e+02, -5.07731419e+01, -1.45398635e+02,\n       -3.70755357e+02,  7.42065679e+01, -2.16361092e+02,  1.82752388e+02,\n       -3.73326161e+02, -2.21206982e+02, -4.02931667e+01, -7.63034798e+01,\n        2.98123402e+01, -2.03207841e+02, -1.29821486e+02,  9.56327018e+01,\n       -3.17199592e+02,  4.40699453e+01, -9.70483124e+01,  1.51216612e+02,\n        2.65272062e+02, -3.25417403e+02,  2.41869588e+02,  1.00991105e+02,\n       -2.14301759e+02, -2.02992577e+02, -2.92687927e+00, -9.73004906e+01,\n        1.35350270e+02,  4.58087652e+01,  1.58438899e+02,  1.71144905e+02,\n       -2.26876150e+01,  1.04773301e+02, -1.64241365e+02, -4.15125725e+02,\n        2.15162734e+02,  1.32415566e+02,  4.21838515e+01,  8.68330594e+01,\n       -2.68141724e+02, -3.65308388e+01, -4.67840393e+01,  4.17243006e+02,\n        2.34296776e+02, -3.55961616e+01, -5.21581057e+02,  1.90381513e+02,\n        4.13653534e+02,  1.32869872e+02,  7.11093003e+01, -3.18486486e+01,\n       -2.26953786e+02,  1.17358901e+02,  1.17543512e+02, -1.49996587e+01,\n        4.37488103e+01, -6.23202552e+01,  2.52041703e+02, -2.08469004e+00,\n        1.36481671e+02, -2.27068072e+00,  7.35244854e+01, -2.68848181e+02,\n        2.21920419e+02,  2.15994678e+02,  3.78481342e+02, -2.13047665e+01,\n       -3.38332690e+00,  5.57531899e+01,  7.17704689e+01, -9.34596449e+01,\n        8.34348146e+01, -1.13275525e+02, -1.93896626e+02,  5.54895147e+01,\n        8.71197043e+01,  3.23943782e+02, -1.18063521e+02,  2.47139091e+02,\n        3.45829244e+02, -7.27285016e+01,  3.78140345e+02,  2.65313782e+02,\n        6.78812000e+02,  4.34892144e+00, -1.78932582e+02, -6.43181267e+01,\n       -1.95038199e+02,  3.39793852e+02, -6.86613029e+01,  2.71579908e+02,\n        1.31870213e+02, -1.14128459e+02, -1.09380096e+02, -1.25478671e+02,\n       -3.11816083e+01, -2.78250287e+01, -1.07923415e+02, -3.49331538e+02,\n        2.74965908e+02, -1.91735433e+02,  2.18818410e+02,  1.09499007e+02,\n       -3.36206408e+00,  8.07472652e+01,  7.54508347e+01, -1.29961312e+02,\n        3.21769981e+02,  1.47847373e+02,  4.56811970e+01, -2.02150602e+01,\n       -2.69279704e+02,  3.13076392e+02, -2.99799658e+02,  1.05268995e+02,\n       -5.34675356e+02,  1.25436951e+02,  1.42196238e+02, -4.00878141e+02,\n        2.59584670e+02,  3.63008146e+02,  9.79145730e+01,  2.70785097e+01,\n       -1.52494890e+02, -3.88321995e+01,  1.89414059e+01,  1.78713208e+02,\n       -2.36633401e+02,  8.05917914e+01,  2.05940219e+02, -6.16885387e+01,\n        7.06068802e+01,  1.47500221e+02, -3.15356031e+01, -2.34207218e+02,\n       -1.81075906e+02,  1.31898869e+02, -2.08479517e+02,  2.01286808e+02,\n        3.24989832e+01, -1.49639086e+02, -8.80674345e+01,  1.55116873e+02])"
     },
     "execution_count": 19,
     "metadata": {},
     "output_type": "execute_result"
    }
   ],
   "source": [
    "lol.predict(X[:,]) # oder so"
   ],
   "metadata": {
    "collapsed": false,
    "ExecuteTime": {
     "end_time": "2023-05-29T15:09:31.987608Z",
     "start_time": "2023-05-29T15:09:31.861750Z"
    }
   }
  },
  {
   "cell_type": "code",
   "execution_count": null,
   "outputs": [],
   "source": [
    "#####################################"
   ],
   "metadata": {
    "collapsed": false
   }
  },
  {
   "cell_type": "markdown",
   "source": [
    "# Neural Network"
   ],
   "metadata": {
    "collapsed": false
   }
  },
  {
   "cell_type": "code",
   "execution_count": 20,
   "outputs": [],
   "source": [
    "import tensorflow as tf\n",
    "from tensorflow import keras\n",
    "from tensorflow.keras import layers\n"
   ],
   "metadata": {
    "collapsed": false,
    "ExecuteTime": {
     "end_time": "2023-05-29T15:43:59.922469Z",
     "start_time": "2023-05-29T15:43:59.784005Z"
    }
   }
  },
  {
   "cell_type": "code",
   "execution_count": 57,
   "outputs": [],
   "source": [
    "# set some parameters\n",
    "d = 25 #dimensions\n",
    "N = 10000 #Number of observations"
   ],
   "metadata": {
    "collapsed": false,
    "ExecuteTime": {
     "end_time": "2023-05-29T18:48:41.787635Z",
     "start_time": "2023-05-29T18:48:41.784347Z"
    }
   }
  },
  {
   "cell_type": "code",
   "execution_count": null,
   "outputs": [],
   "source": [
    "x, y = make_regression(n_samples=N, n_features=d, noise=1, random_state=0)\n",
    "# train test split (just as an example)\n",
    "X_train, X_test, y_train, y_test = train_test_split(x, y, test_size=0.2, random_state=42)"
   ],
   "metadata": {
    "collapsed": false
   }
  },
  {
   "cell_type": "markdown",
   "source": [
    "Set up Model"
   ],
   "metadata": {
    "collapsed": false
   }
  },
  {
   "cell_type": "code",
   "execution_count": 58,
   "outputs": [
    {
     "name": "stdout",
     "output_type": "stream",
     "text": [
      "Model: \"Dense_Neural_Network\"\n",
      "_________________________________________________________________\n",
      " Layer (type)                Output Shape              Param #   \n",
      "=================================================================\n",
      " layer1 (Dense)              (None, 200)               5200      \n",
      "                                                                 \n",
      " layer2 (Dense)              (None, 200)               40200     \n",
      "                                                                 \n",
      " layer3 (Dense)              (None, 200)               40200     \n",
      "                                                                 \n",
      " layer4 (Dense)              (None, 100)               20100     \n",
      "                                                                 \n",
      " layer5 (Dense)              (None, 100)               10100     \n",
      "                                                                 \n",
      " layer6 (Dense)              (None, 1)                 101       \n",
      "                                                                 \n",
      "=================================================================\n",
      "Total params: 115901 (452.74 KB)\n",
      "Trainable params: 115901 (452.74 KB)\n",
      "Non-trainable params: 0 (0.00 Byte)\n",
      "_________________________________________________________________\n"
     ]
    }
   ],
   "source": [
    "# make model\n",
    "# 3 layers with 200 units (elu activation), 2 layers with 100 units (elu activations), 1 output layer (linear activation)\n",
    "model = keras.Sequential([\n",
    "    keras.Input(shape=(d,)),\n",
    "    layers.Dense(units=200, activation=\"elu\", name=\"layer1\"),\n",
    "    layers.Dense(units=200, activation=\"elu\", name=\"layer2\"),\n",
    "    layers.Dense(units=200, activation=\"elu\", name=\"layer3\"),\n",
    "    layers.Dense(units=100, activation=\"elu\", name=\"layer4\"),\n",
    "    layers.Dense(units=100, activation=\"elu\", name=\"layer5\"),\n",
    "    layers.Dense(units=1, activation=\"linear\", name=\"layer6\"),\n",
    "\n",
    "], name=\"Dense_Neural_Network\")\n",
    "model.summary()"
   ],
   "metadata": {
    "collapsed": false,
    "ExecuteTime": {
     "end_time": "2023-05-29T18:48:42.924606Z",
     "start_time": "2023-05-29T18:48:42.874918Z"
    }
   }
  },
  {
   "cell_type": "code",
   "execution_count": 59,
   "outputs": [],
   "source": [
    "x, y = make_regression(n_samples=N, n_features=d, noise=1, random_state=0)"
   ],
   "metadata": {
    "collapsed": false,
    "ExecuteTime": {
     "end_time": "2023-05-29T18:48:45.147516Z",
     "start_time": "2023-05-29T18:48:44.998693Z"
    }
   }
  },
  {
   "cell_type": "code",
   "execution_count": 60,
   "outputs": [],
   "source": [
    "# train test split (just as an example)\n",
    "X_train, X_test, y_train, y_test = train_test_split(x, y, test_size=0.3, random_state=42)"
   ],
   "metadata": {
    "collapsed": false,
    "ExecuteTime": {
     "end_time": "2023-05-29T18:48:46.125888Z",
     "start_time": "2023-05-29T18:48:46.121801Z"
    }
   }
  },
  {
   "cell_type": "markdown",
   "source": [
    "Compile Model"
   ],
   "metadata": {
    "collapsed": false
   }
  },
  {
   "cell_type": "code",
   "execution_count": 61,
   "outputs": [],
   "source": [
    "model.compile(\n",
    "    optimizer=keras.optimizers.Adam(),  # Optimizer\n",
    "    # Loss function to minimize\n",
    "    loss=keras.losses.MeanSquaredError(),\n",
    "    # List of metrics to monitor\n",
    "    metrics=[keras.metrics.MeanSquaredError()],\n",
    ")"
   ],
   "metadata": {
    "collapsed": false,
    "ExecuteTime": {
     "end_time": "2023-05-29T18:48:47.291211Z",
     "start_time": "2023-05-29T18:48:47.278584Z"
    }
   }
  },
  {
   "cell_type": "markdown",
   "source": [
    "Training"
   ],
   "metadata": {
    "collapsed": false
   }
  },
  {
   "cell_type": "code",
   "execution_count": null,
   "outputs": [],
   "source": [
    "# Add early stopping\n",
    "callback = tf.keras.callbacks.EarlyStopping(monitor='val_loss', patience=0, start_from_epoch=0)"
   ],
   "metadata": {
    "collapsed": false
   }
  },
  {
   "cell_type": "code",
   "execution_count": 69,
   "outputs": [
    {
     "name": "stdout",
     "output_type": "stream",
     "text": [
      "Training Model\n",
      "Epoch 1/100\n",
      "80/80 [==============================] - 0s 2ms/step - loss: 3.7852 - mean_squared_error: 3.7852 - val_loss: 5.9248 - val_mean_squared_error: 5.9248\n",
      "Epoch 2/100\n",
      "80/80 [==============================] - 0s 2ms/step - loss: 7.5535 - mean_squared_error: 7.5535 - val_loss: 5.6271 - val_mean_squared_error: 5.6271\n",
      "Epoch 3/100\n",
      "80/80 [==============================] - 0s 2ms/step - loss: 2.5440 - mean_squared_error: 2.5440 - val_loss: 3.0472 - val_mean_squared_error: 3.0472\n",
      "Epoch 4/100\n",
      "80/80 [==============================] - 0s 2ms/step - loss: 6.3138 - mean_squared_error: 6.3138 - val_loss: 4.5167 - val_mean_squared_error: 4.5167\n"
     ]
    }
   ],
   "source": [
    "print(\"Training Model\")\n",
    "training = model.fit(\n",
    "    X_train,\n",
    "    y_train,\n",
    "    batch_size=100,\n",
    "    epochs=100,\n",
    "    validation_data=(X_test, y_test),\n",
    "    callbacks=[callback] # include early stopping\n",
    ")"
   ],
   "metadata": {
    "collapsed": false,
    "ExecuteTime": {
     "end_time": "2023-05-29T19:21:52.108817Z",
     "start_time": "2023-05-29T19:21:51.382972Z"
    }
   }
  },
  {
   "cell_type": "code",
   "execution_count": 70,
   "outputs": [
    {
     "data": {
      "text/plain": "{'loss': [3.7852022647857666,\n  7.553530693054199,\n  2.543985366821289,\n  6.313776969909668],\n 'mean_squared_error': [3.7852022647857666,\n  7.553530693054199,\n  2.543985366821289,\n  6.313776969909668],\n 'val_loss': [5.924784183502197,\n  5.627142429351807,\n  3.047239065170288,\n  4.516695499420166],\n 'val_mean_squared_error': [5.924784183502197,\n  5.627142429351807,\n  3.047239065170288,\n  4.516695499420166]}"
     },
     "execution_count": 70,
     "metadata": {},
     "output_type": "execute_result"
    }
   ],
   "source": [
    "training.history # to see training history"
   ],
   "metadata": {
    "collapsed": false,
    "ExecuteTime": {
     "end_time": "2023-05-29T19:21:59.637256Z",
     "start_time": "2023-05-29T19:21:59.562113Z"
    }
   }
  },
  {
   "cell_type": "markdown",
   "source": [
    "Evaluate"
   ],
   "metadata": {
    "collapsed": false
   }
  },
  {
   "cell_type": "code",
   "execution_count": 71,
   "outputs": [
    {
     "name": "stdout",
     "output_type": "stream",
     "text": [
      "Evaluate on test data\n",
      "20/20 [==============================] - 0s 1ms/step - loss: 4.5167 - mean_squared_error: 4.5167\n",
      "test loss, test acc: [4.516695499420166, 4.516695499420166]\n"
     ]
    }
   ],
   "source": [
    "print(\"Evaluate on test data\")\n",
    "results = model.evaluate(X_test, y_test, batch_size=100)\n",
    "print(\"test loss, test acc:\", results)"
   ],
   "metadata": {
    "collapsed": false,
    "ExecuteTime": {
     "end_time": "2023-05-29T19:22:04.793282Z",
     "start_time": "2023-05-29T19:22:04.746888Z"
    }
   }
  },
  {
   "cell_type": "markdown",
   "source": [
    "Predictions"
   ],
   "metadata": {
    "collapsed": false
   }
  },
  {
   "cell_type": "code",
   "execution_count": 72,
   "outputs": [
    {
     "name": "stdout",
     "output_type": "stream",
     "text": [
      "Generate predictions for test samples\n",
      "63/63 [==============================] - 0s 527us/step\n",
      "predictions shape: (2000, 1)\n"
     ]
    },
    {
     "data": {
      "text/plain": "array([[  54.92495],\n       [ 174.6089 ],\n       [-218.62843],\n       ...,\n       [-206.69032],\n       [-181.65187],\n       [ 161.73146]], dtype=float32)"
     },
     "execution_count": 72,
     "metadata": {},
     "output_type": "execute_result"
    }
   ],
   "source": [
    "print(\"Generate predictions for test samples\")\n",
    "predictions = model.predict(X_test)\n",
    "print(\"predictions shape:\", predictions.shape)\n",
    "predictions"
   ],
   "metadata": {
    "collapsed": false,
    "ExecuteTime": {
     "end_time": "2023-05-29T19:22:09.187854Z",
     "start_time": "2023-05-29T19:22:09.102972Z"
    }
   }
  }
 ],
 "metadata": {
  "kernelspec": {
   "display_name": "Python 3",
   "language": "python",
   "name": "python3"
  },
  "language_info": {
   "codemirror_mode": {
    "name": "ipython",
    "version": 2
   },
   "file_extension": ".py",
   "mimetype": "text/x-python",
   "name": "python",
   "nbconvert_exporter": "python",
   "pygments_lexer": "ipython2",
   "version": "2.7.6"
  }
 },
 "nbformat": 4,
 "nbformat_minor": 0
}
