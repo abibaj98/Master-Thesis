{
 "cells": [
  {
   "cell_type": "code",
   "execution_count": 4,
   "outputs": [
    {
     "data": {
      "text/plain": "array([[0.5603774 , 0.41438161, 0.62029801, ..., 0.12356473, 0.08953473,\n        0.1978213 ],\n       [0.77930215, 0.67239823, 0.46538473, ..., 0.18458571, 0.19734308,\n        0.29047713],\n       [0.12534431, 0.1251756 , 0.3502355 , ..., 0.02888801, 0.66967862,\n        0.55591174],\n       ...,\n       [0.18354226, 0.23242449, 0.54991868, ..., 0.9619648 , 0.745528  ,\n        0.39109054],\n       [0.89194518, 0.79198071, 0.51678359, ..., 0.21357919, 0.86692599,\n        0.17819559],\n       [0.38866436, 0.65317603, 0.87180814, ..., 0.034806  , 0.00715177,\n        0.35743693]])"
     },
     "execution_count": 4,
     "metadata": {},
     "output_type": "execute_result"
    }
   ],
   "source": [
    "import numpy as np\n",
    "\n",
    "a = np.random.rand(100,20)\n",
    "a"
   ],
   "metadata": {
    "collapsed": false,
    "ExecuteTime": {
     "end_time": "2023-07-16T18:19:24.067398Z",
     "start_time": "2023-07-16T18:19:23.972760Z"
    }
   }
  },
  {
   "cell_type": "code",
   "execution_count": null,
   "outputs": [],
   "source": [
    "# https://www.tomstesco.com/euler-hpc-cluster/ --> HOW TO RUN ON CLUSTER!!"
   ],
   "metadata": {
    "collapsed": false
   }
  },
  {
   "cell_type": "code",
   "execution_count": 17,
   "outputs": [],
   "source": [
    "np.savetxt(\"try.csv\", a, delimiter=',')"
   ],
   "metadata": {
    "collapsed": false,
    "ExecuteTime": {
     "end_time": "2023-07-13T18:59:38.085864Z",
     "start_time": "2023-07-13T18:59:38.075668Z"
    }
   }
  },
  {
   "cell_type": "code",
   "execution_count": 19,
   "outputs": [
    {
     "data": {
      "text/plain": "array([[0.61369386, 0.08354892, 0.58938069, ..., 0.81958122, 0.14306726,\n        0.71899902],\n       [0.94482668, 0.65343841, 0.26234572, ..., 0.62185733, 0.78818786,\n        0.21034116],\n       [0.69389205, 0.47378654, 0.89966069, ..., 0.46198304, 0.28976076,\n        0.06063857],\n       ...,\n       [0.42917833, 0.84910995, 0.38047632, ..., 0.15181142, 0.62156104,\n        0.09193815],\n       [0.05276337, 0.31210915, 0.92997643, ..., 0.0167727 , 0.30304912,\n        0.31030275],\n       [0.8463322 , 0.41837009, 0.60964907, ..., 0.25303421, 0.14439907,\n        0.75660583]])"
     },
     "execution_count": 19,
     "metadata": {},
     "output_type": "execute_result"
    }
   ],
   "source": [
    "b = np.loadtxt(\"try.csv\", delimiter=',')\n",
    "b"
   ],
   "metadata": {
    "collapsed": false,
    "ExecuteTime": {
     "end_time": "2023-07-13T19:00:02.217290Z",
     "start_time": "2023-07-13T19:00:02.208525Z"
    }
   }
  },
  {
   "cell_type": "code",
   "execution_count": 20,
   "outputs": [
    {
     "data": {
      "text/plain": "array([[ True,  True,  True, ...,  True,  True,  True],\n       [ True,  True,  True, ...,  True,  True,  True],\n       [ True,  True,  True, ...,  True,  True,  True],\n       ...,\n       [ True,  True,  True, ...,  True,  True,  True],\n       [ True,  True,  True, ...,  True,  True,  True],\n       [ True,  True,  True, ...,  True,  True,  True]])"
     },
     "execution_count": 20,
     "metadata": {},
     "output_type": "execute_result"
    }
   ],
   "source": [
    "a == b"
   ],
   "metadata": {
    "collapsed": false,
    "ExecuteTime": {
     "end_time": "2023-07-13T19:00:06.031769Z",
     "start_time": "2023-07-13T19:00:06.026541Z"
    }
   }
  },
  {
   "cell_type": "code",
   "execution_count": 21,
   "outputs": [
    {
     "data": {
      "text/plain": "True"
     },
     "execution_count": 21,
     "metadata": {},
     "output_type": "execute_result"
    }
   ],
   "source": [
    "np.array_equal(a, b)"
   ],
   "metadata": {
    "collapsed": false,
    "ExecuteTime": {
     "end_time": "2023-07-13T19:00:40.775385Z",
     "start_time": "2023-07-13T19:00:40.763740Z"
    }
   }
  },
  {
   "cell_type": "code",
   "execution_count": 5,
   "outputs": [],
   "source": [
    "import pickle"
   ],
   "metadata": {
    "collapsed": false,
    "ExecuteTime": {
     "end_time": "2023-07-16T18:19:32.663052Z",
     "start_time": "2023-07-16T18:19:32.654975Z"
    }
   }
  },
  {
   "cell_type": "code",
   "execution_count": 6,
   "outputs": [],
   "source": [
    "file_name = \"/Users/arberimbibaj/Documents/Master Thesis ETH/DataSets /Generated/data_synthetic.pkl\"\n",
    "open_file = open(file_name, \"rb\")\n",
    "data = pickle.load(open_file)\n",
    "open_file.close()"
   ],
   "metadata": {
    "collapsed": false,
    "ExecuteTime": {
     "end_time": "2023-07-16T18:19:35.528912Z",
     "start_time": "2023-07-16T18:19:35.497934Z"
    }
   }
  },
  {
   "cell_type": "code",
   "execution_count": 7,
   "outputs": [
    {
     "data": {
      "text/plain": "array([[-9.40191676e+00, -3.09807076e+00,  1.95281073e+00, ...,\n        -2.11360664e+00,  0.00000000e+00,  0.00000000e+00],\n       [-1.12325776e+00,  4.84823869e-01,  4.85246889e-01, ...,\n         5.60131822e-01,  0.00000000e+00,  4.14461471e-01],\n       [ 1.00145978e+00,  9.53999288e-01,  2.08223387e+00, ...,\n         1.57723647e+00,  0.00000000e+00,  1.99142701e+00],\n       ...,\n       [-3.56914230e-01,  7.65487969e-02, -1.13239270e+00, ...,\n         2.64481656e-02,  0.00000000e+00,  3.83920673e-11],\n       [-4.88461922e+00, -1.50630822e+00,  2.10757262e-01, ...,\n        -1.00177510e+00,  0.00000000e+00,  2.11031193e-12],\n       [-3.75432969e+00, -1.12508111e+00,  2.82869238e-01, ...,\n        -9.01363700e-01,  0.00000000e+00,  4.67016648e-10]])"
     },
     "execution_count": 7,
     "metadata": {},
     "output_type": "execute_result"
    }
   ],
   "source": [
    "data[27][3][4][1]"
   ],
   "metadata": {
    "collapsed": false,
    "ExecuteTime": {
     "end_time": "2023-07-16T18:19:35.817389Z",
     "start_time": "2023-07-16T18:19:35.807314Z"
    }
   }
  },
  {
   "cell_type": "code",
   "execution_count": 33,
   "outputs": [],
   "source": [
    "import jsonpickle"
   ],
   "metadata": {
    "collapsed": false,
    "ExecuteTime": {
     "end_time": "2023-07-16T18:54:55.670620Z",
     "start_time": "2023-07-16T18:54:55.658824Z"
    }
   }
  },
  {
   "cell_type": "code",
   "execution_count": 34,
   "outputs": [],
   "source": [
    "json_data = jsonpickle.encode(data)"
   ],
   "metadata": {
    "collapsed": false,
    "ExecuteTime": {
     "end_time": "2023-07-16T18:54:57.031426Z",
     "start_time": "2023-07-16T18:54:56.474984Z"
    }
   }
  },
  {
   "cell_type": "code",
   "execution_count": null,
   "outputs": [],
   "source": [
    "json_data"
   ],
   "metadata": {
    "collapsed": false
   }
  },
  {
   "cell_type": "code",
   "execution_count": 36,
   "outputs": [],
   "source": [
    "copy_data = jsonpickle.decode(json_data)"
   ],
   "metadata": {
    "collapsed": false,
    "ExecuteTime": {
     "end_time": "2023-07-16T18:55:08.515767Z",
     "start_time": "2023-07-16T18:55:08.440132Z"
    }
   }
  },
  {
   "cell_type": "code",
   "execution_count": 37,
   "outputs": [
    {
     "data": {
      "text/plain": "array([[ True,  True,  True, ...,  True,  True,  True],\n       [ True,  True,  True, ...,  True,  True,  True],\n       [ True,  True,  True, ...,  True,  True,  True],\n       ...,\n       [ True,  True,  True, ...,  True,  True,  True],\n       [ True,  True,  True, ...,  True,  True,  True],\n       [ True,  True,  True, ...,  True,  True,  True]])"
     },
     "execution_count": 37,
     "metadata": {},
     "output_type": "execute_result"
    }
   ],
   "source": [
    "copy_data[27][3][4][1] == data[27][3][4][1]"
   ],
   "metadata": {
    "collapsed": false,
    "ExecuteTime": {
     "end_time": "2023-07-16T18:55:09.076183Z",
     "start_time": "2023-07-16T18:55:09.069816Z"
    }
   }
  },
  {
   "cell_type": "code",
   "execution_count": 38,
   "outputs": [],
   "source": [
    "# save to json.file\n",
    "with open(\"try.json\", \"w\") as outfile:\n",
    "    json.dump(json_data, outfile)"
   ],
   "metadata": {
    "collapsed": false,
    "ExecuteTime": {
     "end_time": "2023-07-16T18:55:15.373186Z",
     "start_time": "2023-07-16T18:55:15.359320Z"
    }
   }
  },
  {
   "cell_type": "code",
   "execution_count": 39,
   "outputs": [],
   "source": [
    "# open a json file\n",
    "with open('try.json', 'r') as openfile:\n",
    "    # Reading from json file\n",
    "    json_object = json.load(openfile)"
   ],
   "metadata": {
    "collapsed": false,
    "ExecuteTime": {
     "end_time": "2023-07-16T18:55:17.886249Z",
     "start_time": "2023-07-16T18:55:17.764762Z"
    }
   }
  },
  {
   "cell_type": "code",
   "execution_count": null,
   "outputs": [],
   "source": [
    "json_object"
   ],
   "metadata": {
    "collapsed": false
   }
  },
  {
   "cell_type": "code",
   "execution_count": 40,
   "outputs": [],
   "source": [
    "copy_data = jsonpickle.decode(json_object)"
   ],
   "metadata": {
    "collapsed": false,
    "ExecuteTime": {
     "end_time": "2023-07-16T18:55:25.119449Z",
     "start_time": "2023-07-16T18:55:25.087508Z"
    }
   }
  },
  {
   "cell_type": "code",
   "execution_count": 41,
   "outputs": [
    {
     "data": {
      "text/plain": "array([[-9.40191676e+00, -3.09807076e+00,  1.95281073e+00, ...,\n        -2.11360664e+00,  0.00000000e+00,  0.00000000e+00],\n       [-1.12325776e+00,  4.84823869e-01,  4.85246889e-01, ...,\n         5.60131822e-01,  0.00000000e+00,  4.14461471e-01],\n       [ 1.00145978e+00,  9.53999288e-01,  2.08223387e+00, ...,\n         1.57723647e+00,  0.00000000e+00,  1.99142701e+00],\n       ...,\n       [-3.56914230e-01,  7.65487969e-02, -1.13239270e+00, ...,\n         2.64481656e-02,  0.00000000e+00,  3.83920673e-11],\n       [-4.88461922e+00, -1.50630822e+00,  2.10757262e-01, ...,\n        -1.00177510e+00,  0.00000000e+00,  2.11031193e-12],\n       [-3.75432969e+00, -1.12508111e+00,  2.82869238e-01, ...,\n        -9.01363700e-01,  0.00000000e+00,  4.67016648e-10]])"
     },
     "execution_count": 41,
     "metadata": {},
     "output_type": "execute_result"
    }
   ],
   "source": [
    "copy_data[27][3][4][1]"
   ],
   "metadata": {
    "collapsed": false,
    "ExecuteTime": {
     "end_time": "2023-07-16T18:55:25.352296Z",
     "start_time": "2023-07-16T18:55:25.342478Z"
    }
   }
  },
  {
   "cell_type": "code",
   "execution_count": 44,
   "outputs": [],
   "source": [
    "# to open object\n",
    "with open('try.json', 'r') as f:\n",
    "    json_str = f.read()\n",
    "    obj = jsonpickle.decode(json_str)"
   ],
   "metadata": {
    "collapsed": false,
    "ExecuteTime": {
     "end_time": "2023-07-16T19:02:43.706735Z",
     "start_time": "2023-07-16T19:02:43.157033Z"
    }
   }
  },
  {
   "cell_type": "code",
   "execution_count": 46,
   "outputs": [],
   "source": [
    "copied_data = jsonpickle.decode(obj)"
   ],
   "metadata": {
    "collapsed": false,
    "ExecuteTime": {
     "end_time": "2023-07-16T19:03:35.745826Z",
     "start_time": "2023-07-16T19:03:35.704113Z"
    }
   }
  },
  {
   "cell_type": "code",
   "execution_count": 52,
   "outputs": [
    {
     "data": {
      "text/plain": "True"
     },
     "execution_count": 52,
     "metadata": {},
     "output_type": "execute_result"
    }
   ],
   "source": [
    "np.array_equal(copied_data[27][3][4][1],data[27][3][4][1])"
   ],
   "metadata": {
    "collapsed": false,
    "ExecuteTime": {
     "end_time": "2023-07-16T19:04:26.912133Z",
     "start_time": "2023-07-16T19:04:26.910439Z"
    }
   }
  },
  {
   "cell_type": "markdown",
   "source": [
    "# THIS IS IT!"
   ],
   "metadata": {
    "collapsed": false
   }
  },
  {
   "cell_type": "code",
   "execution_count": 56,
   "outputs": [],
   "source": [
    "# SAVE LIST AS JSON FILE\n",
    "f = open('tryjsonpickle.json', 'w')\n",
    "json_obj = jsonpickle.encode(data)\n",
    "f.write(json_obj)\n",
    "f.close()"
   ],
   "metadata": {
    "collapsed": false,
    "ExecuteTime": {
     "end_time": "2023-07-16T19:08:18.585266Z",
     "start_time": "2023-07-16T19:08:18.262009Z"
    }
   }
  },
  {
   "cell_type": "code",
   "execution_count": 57,
   "outputs": [],
   "source": [
    "# LOAD JSON FILE\n",
    "f = open('tryjsonpickle.json', 'r')\n",
    "json_str = f.read()\n",
    "obj = jsonpickle.decode(json_str)"
   ],
   "metadata": {
    "collapsed": false,
    "ExecuteTime": {
     "end_time": "2023-07-16T19:10:15.266645Z",
     "start_time": "2023-07-16T19:10:14.944680Z"
    }
   }
  },
  {
   "cell_type": "code",
   "execution_count": 60,
   "outputs": [
    {
     "data": {
      "text/plain": "True"
     },
     "execution_count": 60,
     "metadata": {},
     "output_type": "execute_result"
    }
   ],
   "source": [
    "np.array_equal(obj[27][3][4][1],data[27][3][4][1])"
   ],
   "metadata": {
    "collapsed": false,
    "ExecuteTime": {
     "end_time": "2023-07-16T19:10:48.480397Z",
     "start_time": "2023-07-16T19:10:48.474851Z"
    }
   }
  }
 ],
 "metadata": {
  "kernelspec": {
   "display_name": "Python 3",
   "language": "python",
   "name": "python3"
  },
  "language_info": {
   "codemirror_mode": {
    "name": "ipython",
    "version": 2
   },
   "file_extension": ".py",
   "mimetype": "text/x-python",
   "name": "python",
   "nbconvert_exporter": "python",
   "pygments_lexer": "ipython2",
   "version": "2.7.6"
  }
 },
 "nbformat": 4,
 "nbformat_minor": 0
}
