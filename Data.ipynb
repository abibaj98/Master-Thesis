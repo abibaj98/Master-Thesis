{
 "cells": [
  {
   "cell_type": "code",
   "execution_count": 1,
   "metadata": {
    "collapsed": true,
    "ExecuteTime": {
     "end_time": "2023-05-16T21:42:45.453767900Z",
     "start_time": "2023-05-16T21:42:42.502802800Z"
    }
   },
   "outputs": [],
   "source": [
    "# import packages\n",
    "\n",
    "import numpy as np\n",
    "from numpy import random\n",
    "\n",
    "# import r packages (and functions) if needed\n",
    "\n",
    "import rpy2.robjects as robjects\n",
    "import rpy2.robjects.packages as rpackages\n",
    "#rpackages.importr(\"clusterGeneration\")\n",
    "cluster_generation = robjects.packages.importr(\"clusterGeneration\")"
   ]
  },
  {
   "cell_type": "code",
   "execution_count": 2,
   "outputs": [],
   "source": [
    "# Fully Synthetic Data Sets (Set up from Künzel et al.)\n",
    "\n",
    "# 1: Simulate the d-dimensional X.\n",
    "# 2: Create Potential Outcomes Y(1) and Y(0).\n",
    "# 3: Simulate Treatment Assignments trough W."
   ],
   "metadata": {
    "collapsed": false,
    "ExecuteTime": {
     "end_time": "2023-05-16T21:42:46.727927400Z",
     "start_time": "2023-05-16T21:42:46.696685Z"
    }
   }
  },
  {
   "cell_type": "code",
   "execution_count": 3,
   "outputs": [],
   "source": [
    "# 1: Simulate the d-dimensional X. #\n",
    "\n",
    "\n",
    "# Setup parameters\n",
    "d = 5 # TODO: set dimension according to setup\n",
    "N = 10 # TODO: set sample size according to setup\n",
    "\n",
    "# X Correlation matrix and mean\n",
    "mean = np.zeros(d) # TODO: set mean according to setup\n",
    "cov = np.array(cluster_generation.rcorrmatrix(d=d, alphad=1)) # TODO: set cov according to setup\n",
    "\n",
    "# Simulate X\n",
    "X = random.multivariate_normal(mean=mean, cov=cov, size=N, check_valid='warn')"
   ],
   "metadata": {
    "collapsed": false,
    "ExecuteTime": {
     "end_time": "2023-05-16T21:42:48.627853800Z",
     "start_time": "2023-05-16T21:42:48.380053100Z"
    }
   }
  },
  {
   "cell_type": "code",
   "execution_count": 4,
   "outputs": [
    {
     "data": {
      "text/plain": "array([[-0.74074749,  2.02534779, -1.3427202 , -1.38239011, -0.70674977],\n       [ 1.74599589, -0.3362886 ,  0.01406306,  1.15977944,  1.26825329],\n       [-0.27696109,  0.09354568,  0.16309368,  1.133011  , -0.87553288],\n       [-0.33942106,  0.45251646, -1.07492971,  0.82394602, -1.04003852],\n       [ 0.22650272, -0.84417041,  0.28114598,  1.60968487, -0.39546411],\n       [-0.01879224, -0.18838488,  0.18671471,  0.01497986,  0.32320393],\n       [ 0.68867154, -0.91963236,  0.94998602,  0.83312917,  0.65690116],\n       [-1.25665577, -0.91166074, -2.52912866, -0.68294234,  0.06212349],\n       [ 0.8212063 ,  0.162733  ,  1.50835823,  0.89149651,  0.01749534],\n       [ 1.07359488,  2.07309962,  0.17607447, -0.39552487,  1.04422349]])"
     },
     "execution_count": 4,
     "metadata": {},
     "output_type": "execute_result"
    }
   ],
   "source": [
    "# Check X\n",
    "X"
   ],
   "metadata": {
    "collapsed": false,
    "ExecuteTime": {
     "end_time": "2023-05-16T21:42:50.094815400Z",
     "start_time": "2023-05-16T21:42:50.015027200Z"
    }
   }
  },
  {
   "cell_type": "code",
   "execution_count": 5,
   "outputs": [
    {
     "data": {
      "text/plain": "array([[ 1.        ,  0.13453029,  0.59174486,  0.21975374,  0.79353494],\n       [ 0.13453029,  1.        ,  0.38195245, -0.30190798,  0.05945414],\n       [ 0.59174486,  0.38195245,  1.        ,  0.0390454 ,  0.50391292],\n       [ 0.21975374, -0.30190798,  0.0390454 ,  1.        , -0.25437378],\n       [ 0.79353494,  0.05945414,  0.50391292, -0.25437378,  1.        ]])"
     },
     "execution_count": 5,
     "metadata": {},
     "output_type": "execute_result"
    }
   ],
   "source": [
    "# Check cov\n",
    "cov"
   ],
   "metadata": {
    "collapsed": false,
    "ExecuteTime": {
     "end_time": "2023-05-16T21:42:53.331776Z",
     "start_time": "2023-05-16T21:42:53.284888Z"
    }
   }
  },
  {
   "cell_type": "code",
   "execution_count": 6,
   "outputs": [],
   "source": [
    "# 2: Create Potential Outcomes Y(1) and Y(0).\n",
    "\n",
    "# Simulate errors, FIX\n",
    "e_0 = random.normal(loc=0.0,scale=1.0,size=N)\n",
    "e_1 = random.normal(loc=0.0,scale=1.0,size=N)\n",
    "\n",
    "# Just to make it work, create betas\n",
    "beta_0 = [2,3,-3,1,4] # TODO: delete or change\n",
    "beta_1 = [1,1,0,-5,3] # TODO: delete or change\n",
    "\n",
    "# Create Response Functions\n",
    "mu_0 = np.matmul(X,beta_0) # TODO: change according to setup\n",
    "mu_1 = np.matmul(X,beta_1) # TODO: change according to setup\n",
    "\n",
    "# Creat Potential Outcomes, FIX\n",
    "Y_0 = mu_0 + e_0\n",
    "Y_1 = mu_1 + e_1"
   ],
   "metadata": {
    "collapsed": false,
    "ExecuteTime": {
     "end_time": "2023-05-16T21:42:54.549272700Z",
     "start_time": "2023-05-16T21:42:54.533643400Z"
    }
   }
  },
  {
   "cell_type": "code",
   "execution_count": 7,
   "outputs": [
    {
     "data": {
      "text/plain": "array([ 4.49608621,  8.61238199, -2.98324265, -0.48431983, -4.38208087,\n       -0.13709586, -0.90000517,  0.907871  , -0.06180514, 11.36094141])"
     },
     "execution_count": 7,
     "metadata": {},
     "output_type": "execute_result"
    }
   ],
   "source": [
    "# quick check Y_0\n",
    "Y_0"
   ],
   "metadata": {
    "collapsed": false,
    "ExecuteTime": {
     "end_time": "2023-05-16T21:42:57.317011Z",
     "start_time": "2023-05-16T21:42:57.293745Z"
    }
   }
  },
  {
   "cell_type": "code",
   "execution_count": 8,
   "outputs": [
    {
     "data": {
      "text/plain": "array([ 5.65223941, -0.08773472, -9.0712955 , -5.5314685 , -9.61160292,\n        1.20314993, -2.48175218,  1.45797223, -3.16483773,  8.85525703])"
     },
     "execution_count": 8,
     "metadata": {},
     "output_type": "execute_result"
    }
   ],
   "source": [
    "# Quick Check Y_1\n",
    "Y_1"
   ],
   "metadata": {
    "collapsed": false,
    "ExecuteTime": {
     "end_time": "2023-05-16T21:42:58.364700900Z",
     "start_time": "2023-05-16T21:42:58.284281900Z"
    }
   }
  },
  {
   "cell_type": "code",
   "execution_count": 9,
   "outputs": [],
   "source": [
    "# 3: Simulate Treatment Assignments trough W.\n",
    "\n",
    "# Set propensity score\n",
    "e_x = 0.5 # TODO: change from setup\n",
    "\n",
    "# Simulate Treatment Assignment, FIX\n",
    "W = random.binomial(size=N, n=1, p=e_x)\n",
    "\n",
    "# Create Observed Outcome, FIX\n",
    "ones = np.ones(N)\n",
    "Y = np.multiply(W,Y_1) + np.multiply(ones-W,Y_0)"
   ],
   "metadata": {
    "collapsed": false,
    "ExecuteTime": {
     "end_time": "2023-05-16T21:43:00.178154200Z",
     "start_time": "2023-05-16T21:43:00.162479700Z"
    }
   }
  },
  {
   "cell_type": "code",
   "execution_count": 10,
   "outputs": [
    {
     "data": {
      "text/plain": "array([ 5.65223941,  8.61238199, -2.98324265, -0.48431983, -4.38208087,\n        1.20314993, -0.90000517,  0.907871  , -3.16483773,  8.85525703])"
     },
     "execution_count": 10,
     "metadata": {},
     "output_type": "execute_result"
    }
   ],
   "source": [
    "# check out observed outcomes\n",
    "Y"
   ],
   "metadata": {
    "collapsed": false,
    "ExecuteTime": {
     "end_time": "2023-05-16T21:43:02.251162600Z",
     "start_time": "2023-05-16T21:43:02.204294500Z"
    }
   }
  },
  {
   "cell_type": "code",
   "execution_count": null,
   "outputs": [],
   "source": [
    "# Random Generation matrix based on vines r package\n",
    "# vine_matrix <- RVineMatrix(n = 5, type = \"regular\")\n",
    "# vine_structure <- RVineStructure(vine_matrix)\n",
    "# u <- rCopula(n = 1000, vine_structure)\n",
    "# maybe use inverse CDF\n",
    "# simulated_cor_matrix <- cor(u)"
   ],
   "metadata": {
    "collapsed": false
   }
  }
 ],
 "metadata": {
  "kernelspec": {
   "display_name": "Python 3",
   "language": "python",
   "name": "python3"
  },
  "language_info": {
   "codemirror_mode": {
    "name": "ipython",
    "version": 2
   },
   "file_extension": ".py",
   "mimetype": "text/x-python",
   "name": "python",
   "nbconvert_exporter": "python",
   "pygments_lexer": "ipython2",
   "version": "2.7.6"
  }
 },
 "nbformat": 4,
 "nbformat_minor": 0
}
