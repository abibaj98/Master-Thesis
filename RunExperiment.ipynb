{
 "cells": [
  {
   "cell_type": "code",
   "execution_count": null,
   "outputs": [],
   "source": [
    "import numpy as np\n",
    "from MetaLearner import *\n",
    "import pickle"
   ],
   "metadata": {
    "collapsed": false
   }
  },
  {
   "cell_type": "code",
   "execution_count": null,
   "outputs": [],
   "source": [
    "# todo: https://stackoverflow.com/questions/24168569/how-to-add-names-to-a-numpy-array-without-changing-its-dimension"
   ],
   "metadata": {
    "collapsed": false
   }
  },
  {
   "cell_type": "code",
   "execution_count": null,
   "metadata": {
    "collapsed": true
   },
   "outputs": [],
   "source": [
    "# This file runs the experiment"
   ]
  },
  {
   "cell_type": "code",
   "execution_count": null,
   "outputs": [],
   "source": [
    "file_name = \"/Users/arberimbibaj/Documents/Master Thesis ETH/DataSets /Generated/data_synthetic.pkl\"\n",
    "open_file = open(file_name, \"rb\")\n",
    "data = pickle.load(open_file)\n",
    "open_file.close()"
   ],
   "metadata": {
    "collapsed": false
   }
  },
  {
   "cell_type": "code",
   "execution_count": null,
   "outputs": [],
   "source": [
    "n_setups = 2\n",
    "sample_sizes = [200, 200]\n",
    "n_runs = 2\n",
    "learners = [TLearner('rf'), SLearner('rf'), XLearner('rf'), RLearner('rf'), DRLearner('rf'), RALearner('rf'),\n",
    "            PWLearner('rf'), ULearner('rf'),\n",
    "            TLearner('lasso'), SLearner('lasso'), XLearner('lasso'), RLearner('lasso'), DRLearner('lasso'),\n",
    "            RALearner('lasso'), PWLearner('lasso'), ULearner('lasso'),\n",
    "            TLearner('nn'), SLearner('nn'), XLearner('nn'), RLearner('nn'), DRLearner('nn'), RALearner('nn'),\n",
    "            PWLearner('nn'), ULearner('nn')]\n",
    "\n",
    "base_learners = ['rf', 'lasso', 'nn']\n"
   ],
   "metadata": {
    "collapsed": false
   }
  },
  {
   "cell_type": "code",
   "execution_count": null,
   "outputs": [],
   "source": [],
   "metadata": {
    "collapsed": false
   }
  },
  {
   "cell_type": "code",
   "execution_count": null,
   "outputs": [],
   "source": [
    "# What we want: For each setting and base learner --> matrix which includes the MSE, columns: Metalearners + SampleSize, rows: Run(1-10)\n",
    "# --> So we can plot the mean and 1se of the MSE for each Metalearer, each samplesize; giving the setting and baselearner\n",
    "# --> number of plots: settings*baselearner."
   ],
   "metadata": {
    "collapsed": false
   }
  },
  {
   "cell_type": "code",
   "execution_count": null,
   "outputs": [],
   "source": [
    "results = []\n",
    "\n",
    "for i in range(n_setups):\n",
    "    results.append([])\n",
    "\n",
    "for i in range(n_setups):\n",
    "    for baselearner in range(3):\n",
    "        results[i].append([])\n"
   ],
   "metadata": {
    "collapsed": false
   }
  },
  {
   "cell_type": "code",
   "execution_count": null,
   "outputs": [],
   "source": [
    "results[27][2]  # first number indicates the setup, second number indicates the base learner."
   ],
   "metadata": {
    "collapsed": false
   }
  },
  {
   "cell_type": "code",
   "execution_count": null,
   "outputs": [],
   "source": [
    "mses = []"
   ],
   "metadata": {
    "collapsed": false
   }
  },
  {
   "cell_type": "code",
   "execution_count": null,
   "outputs": [],
   "source": [
    "# helper function to get y, x, w, tau, out of data[][][][]\n",
    "def get_variables(data, setup, samplesize, run, train_test):\n",
    "    y = data[setup][samplesize][run][train_test][:, 0]\n",
    "    x = data[setup][samplesize][run][train_test][:, 1:21]\n",
    "    w = data[setup][samplesize][run][train_test][:, 21]\n",
    "    tau = data[setup][samplesize][run][train_test][:, 22]\n",
    "    return y, x, w, tau"
   ],
   "metadata": {
    "collapsed": false
   }
  },
  {
   "cell_type": "code",
   "execution_count": null,
   "outputs": [],
   "source": [
    "# helper function to get y, x, w, tau, out of data[][][][]\n",
    "def get_variables(data, setup, samplesize, run, train_test):\n",
    "    y = data[setup][samplesize][run][train_test][:, 0]\n",
    "    x = data[setup][samplesize][run][train_test][:, 1:26]\n",
    "    w = data[setup][samplesize][run][train_test][:, 26]\n",
    "    tau = data[setup][samplesize][run][train_test][:, 27]\n",
    "    return y, x, w, tau"
   ],
   "metadata": {
    "collapsed": false
   }
  },
  {
   "cell_type": "code",
   "execution_count": null,
   "outputs": [],
   "source": [
    "b = 0\n",
    "m = 0\n",
    "s = 0\n",
    "r = 0\n",
    "\n",
    "for i in range(n_setups):\n",
    "    b = 0  # restart index\n",
    "    for base in range(3):  # change to baselearner\n",
    "        plot_mse = np.empty(shape=(0, 8))  #\n",
    "        s = 0\n",
    "        for size in sample_sizes:  # change to sample_sizes\n",
    "            size_mse = np.empty(shape=(n_runs, 8))  # 10 = number of runs\n",
    "            for r in range(n_runs):  # run\n",
    "                mses = np.empty(shape=(1, 8))  # reset\n",
    "                # set data TODO: make helper function to make y, x, w, tau, out of data[][][][]\n",
    "                temp_y_train, temp_x_train, temp_w_train, temp_tau_train = get_variables(data=data, setup=i,\n",
    "                                                                                         samplesize=s, run=r,\n",
    "                                                                                         train_test=0)\n",
    "                temp_y_test, temp_x_test, temp_w_test, temp_tau_test = get_variables(data=data, setup=i, samplesize=s,\n",
    "                                                                                     run=r, train_test=1)\n",
    "                s += 1\n",
    "                m = 0\n",
    "            for l in learners:  # change to metalearner\n",
    "                # train and test\n",
    "                learner = l  # TODO: just abstract, change to metalearner with baselearner here.\n",
    "                learner.fit(temp_x_train, temp_y_train, temp_w_train)\n",
    "                predictions = learner.predict(temp_x_test)\n",
    "                temp_mse = ((predictions - tau_test) ** 2).mean()\n",
    "                mses[0, m] = temp_mse\n",
    "                m += 1\n",
    "            size_mse[r, :] = mses\n",
    "        b += 1\n",
    "        np.append(plot_mse, mses)\n",
    "    results[i][b] = plot_mse\n",
    "\n",
    "\n",
    "\n",
    "\n",
    "\n",
    "\n",
    "\n",
    "# this should make sense i guess! :)\n",
    "# TODO: TRY IT OUT TOMORROW!!!!!!, ALSO CHECK IF IT MAKES IT FASTER IF EVERYTHING IS EITHER IN NP OR IN LIST/ARRAY BASE PYTHON.\n",
    "\n",
    "\n",
    "\n"
   ],
   "metadata": {
    "collapsed": false
   }
  },
  {
   "cell_type": "code",
   "execution_count": null,
   "outputs": [],
   "source": [
    "#TODO: TRY THIS ONE FIRST!!!\n",
    "\n",
    "b = 0\n",
    "m = 0\n",
    "s = 0\n",
    "r = 0\n",
    "\n",
    "for i in range(n_setups):\n",
    "    plot_mse = np.empty(shape=(0, 24))  # baselearner * metalearner\n",
    "    s = 0\n",
    "    for size in sample_sizes:  # change to sample_sizes\n",
    "        size_mse = np.empty(shape=(n_runs, 24))  # 10 = number of runs\n",
    "        for r in range(n_runs):  # run\n",
    "            mses = np.empty(shape=(1, 24))  # reset\n",
    "            # set data TODO: make helper function to make y, x, w, tau, out of data[][][][]\n",
    "            temp_y_train, temp_x_train, temp_w_train, temp_tau_train = get_variables(data=data, setup=i,\n",
    "                                                                                     samplesize=s, run=r,\n",
    "                                                                                     train_test=0)\n",
    "            temp_y_test, temp_x_test, temp_w_test, temp_tau_test = get_variables(data=data, setup=i, samplesize=s,\n",
    "                                                                                 run=r, train_test=1)\n",
    "\n",
    "            m = 0\n",
    "            for l in learners:  # change to metalearner\n",
    "                # train and test\n",
    "                learner = l  # TODO: just abstract, change to metalearner with baselearner here.\n",
    "                learner.fit(temp_x_train, temp_y_train, temp_w_train)\n",
    "                predictions = learner.predict(temp_x_test)\n",
    "                temp_mse = ((predictions - temp_tau_test) ** 2).mean()\n",
    "                mses[0, m] = temp_mse\n",
    "                m += 1\n",
    "            size_mse[r, :] = mses\n",
    "        s += 1\n",
    "        np.append(plot_mse, mses)\n",
    "    results[i][0] = plot_mse[0:n_runs, :]\n",
    "    results[i][1] = plot_mse[n_runs:(2 * n_runs), :]  # change\n",
    "    results[i][2] = plot_mse[(2 * n_runs):(3 * n_runs), :]  # change\n",
    "\n",
    "\n",
    "\n",
    "\n",
    "############# TODO: TODO: lueg nomal, überleg logisch.\n",
    "\n",
    "# TODO: IT WORKED SOMEHOW, BUT ONLY GET 'MSES' (ONE ROW) VECTOR AND 'SIZE_MSE' (TWO ROWS)\n",
    "# this should make sense i guess! :)\n",
    "# TODO: TRY IT OUT TOMORROW!!!!!!, ALSO CHECK IF IT MAKES IT FASTER IF EVERYTHING IS EITHER IN NP OR IN LIST/ARRAY BASE PYTHON.\n",
    "# TODO: WHILE TRAINING: ConvergenceWarning: Try increasing tol.\n",
    "# TODO: WHAT DOES PLOT.MSE ???\n",
    "\n",
    "\n",
    "### TODO: solve : \"Input y contains infinity or a value too large for dtype('float64').\"\n",
    "### for: pseudo_outcomes = (y - self.mux_model.predict(x)) / (w - probs)\n",
    "\n",
    "### IT TOOOK 5M 40S FOR --> SAMPLE SIZES [200, 200], TEST SIZE =50, 2 SETUPS, 2 RUNS LOL"
   ],
   "metadata": {
    "collapsed": false
   }
  },
  {
   "cell_type": "markdown",
   "source": [],
   "metadata": {
    "collapsed": false
   }
  },
  {
   "cell_type": "code",
   "execution_count": null,
   "outputs": [],
   "source": [
    "results[1][2]"
   ],
   "metadata": {
    "collapsed": false
   }
  },
  {
   "cell_type": "code",
   "execution_count": null,
   "outputs": [],
   "source": [
    "mses"
   ],
   "metadata": {
    "collapsed": false
   }
  },
  {
   "cell_type": "code",
   "execution_count": null,
   "outputs": [],
   "source": [
    "size_mse[0:2, :]\n",
    "# they do not look good lol, a lot ot zeros, few Nans --> LOL just my fault its the empty matrix :)"
   ],
   "metadata": {
    "collapsed": false
   }
  },
  {
   "cell_type": "code",
   "execution_count": null,
   "outputs": [],
   "source": [
    "plot_mse"
   ],
   "metadata": {
    "collapsed": false
   }
  },
  {
   "cell_type": "code",
   "execution_count": null,
   "outputs": [],
   "source": [
    "eone_line = np.concatenate((np.empty(shape=(1, 8)), np.array([[1000]])), axis=1)\n",
    "np.concatenate((one_line, one_line, one_line), axis=0)"
   ],
   "metadata": {
    "collapsed": false
   }
  },
  {
   "cell_type": "code",
   "execution_count": null,
   "outputs": [],
   "source": [
    "np.repeat([1000], 10)"
   ],
   "metadata": {
    "collapsed": false
   }
  },
  {
   "cell_type": "code",
   "execution_count": null,
   "outputs": [],
   "source": [
    "one_line[0, 0] = 2"
   ],
   "metadata": {
    "collapsed": false
   }
  },
  {
   "cell_type": "code",
   "execution_count": null,
   "outputs": [],
   "source": [
    "one_line"
   ],
   "metadata": {
    "collapsed": false
   }
  },
  {
   "cell_type": "code",
   "execution_count": null,
   "outputs": [],
   "source": [
    "a = ..."
   ],
   "metadata": {
    "collapsed": false
   }
  },
  {
   "cell_type": "code",
   "execution_count": null,
   "outputs": [],
   "source": [
    "emp = np.empty(shape=(40, 8))"
   ],
   "metadata": {
    "collapsed": false
   }
  },
  {
   "cell_type": "code",
   "execution_count": null,
   "outputs": [],
   "source": [
    "np.append(emp, one_line[:, -9], axis=0)"
   ],
   "metadata": {
    "collapsed": false
   }
  },
  {
   "cell_type": "code",
   "execution_count": null,
   "outputs": [],
   "source": [
    "emp"
   ],
   "metadata": {
    "collapsed": false
   }
  },
  {
   "cell_type": "code",
   "execution_count": null,
   "outputs": [],
   "source": [
    "np.append(arr=, values=one_line)"
   ],
   "metadata": {
    "collapsed": false
   }
  },
  {
   "cell_type": "code",
   "execution_count": null,
   "outputs": [],
   "source": [],
   "metadata": {
    "collapsed": false
   }
  }
 ],
 "metadata": {
  "kernelspec": {
   "display_name": "Python 3",
   "language": "python",
   "name": "python3"
  },
  "language_info": {
   "codemirror_mode": {
    "name": "ipython",
    "version": 2
   },
   "file_extension": ".py",
   "mimetype": "text/x-python",
   "name": "python",
   "nbconvert_exporter": "python",
   "pygments_lexer": "ipython2",
   "version": "2.7.6"
  }
 },
 "nbformat": 4,
 "nbformat_minor": 0
}
