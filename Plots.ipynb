{
 "cells": [
  {
   "cell_type": "code",
   "execution_count": null,
   "metadata": {
    "collapsed": true
   },
   "outputs": [],
   "source": [
    "import jsonpickle\n",
    "import pandas as pd\n",
    "import seaborn as sns\n",
    "import numpy as np\n",
    "from scipy.stats import rankdata"
   ]
  },
  {
   "cell_type": "code",
   "execution_count": null,
   "outputs": [],
   "source": [
    "# TODO: decide for which LINEWIDTH, 0.5 OR 1"
   ],
   "metadata": {
    "collapsed": false
   }
  },
  {
   "cell_type": "markdown",
   "source": [
    "HELPER FUNCTIONS"
   ],
   "metadata": {
    "collapsed": false
   }
  },
  {
   "cell_type": "code",
   "execution_count": null,
   "outputs": [],
   "source": [
    "# helper function to read json file\n",
    "def open_json(name):\n",
    "    f = open(name, 'r')\n",
    "    json_str = f.read()\n",
    "    file = jsonpickle.decode(json_str)\n",
    "    return file\n"
   ],
   "metadata": {
    "collapsed": false
   }
  },
  {
   "cell_type": "code",
   "execution_count": null,
   "outputs": [],
   "source": [
    "def make_plot_ready(data_set, setting):\n",
    "    # make them dataframes\n",
    "    df1 = pd.DataFrame(data_set[0])\n",
    "    df2 = pd.DataFrame(data_set[1])\n",
    "    df3 = pd.DataFrame(data_set[2])\n",
    "    # add metalearner names\n",
    "    column_names = ['T-Learner', 'S-Learner', 'X-Learner', 'R-Learner', 'DR-Learner', 'RA-Learner', 'PW-Learner',\n",
    "                    'U-Learner',\n",
    "                    'SampleSize']\n",
    "    df1.columns = column_names\n",
    "    df2.columns = column_names\n",
    "    df3.columns = column_names\n",
    "    # wide format -> long format\n",
    "    df1 = df1.melt('SampleSize', var_name='MetaLearner', value_name='MSE')\n",
    "    df2 = df2.melt('SampleSize', var_name='MetaLearner', value_name='MSE')\n",
    "    df3 = df3.melt('SampleSize', var_name='MetaLearner', value_name='MSE')\n",
    "    # add new column indicating baselearner\n",
    "    df1['BaseLearner'] = 'RandomForest'\n",
    "    df2['BaseLearner'] = 'LinearModel'\n",
    "    df3['BaseLearner'] = 'NeuralNetwork'\n",
    "    # concatenate\n",
    "    df_1 = pd.concat([df1, df2, df3], ignore_index=True)\n",
    "    # column setting\n",
    "    df_1['Setting'] = setting\n",
    "    # using dictionary to convert specific columns\n",
    "    dictionary = {'SampleSize': int,\n",
    "                  'MetaLearner': 'category',\n",
    "                  'Setting': 'category'\n",
    "                  }\n",
    "    df_1 = df_1.astype(dictionary)\n",
    "    return df_1"
   ],
   "metadata": {
    "collapsed": false
   }
  },
  {
   "cell_type": "code",
   "execution_count": null,
   "outputs": [],
   "source": [
    "\"\"\"\n",
    "# all settings\n",
    "d1 = {}\n",
    "d2 = {}\n",
    "for i in range(1, 19):\n",
    "    file_name = f'/Users/arberimbibaj/final_results/results_simulated_setting{i}_10run(s).json'\n",
    "    d1[\"data{0}\".format(i)] = open_json(file_name)\n",
    "    d2[\"df_{0}\".format(i)] = make_plot_ready(d1[\"data{0}\".format(i)], i)\n",
    "    \"\"\""
   ],
   "metadata": {
    "collapsed": false
   }
  },
  {
   "cell_type": "code",
   "execution_count": null,
   "outputs": [],
   "source": [
    "# all settings (new)\n",
    "d1 = {}\n",
    "d2 = {}\n",
    "for i in range(1, 25):\n",
    "    file_name = f'/Users/arberimbibaj/final_results_lelel/results_simulated_setting{i}_10run(s)_lelel.json'\n",
    "    d1[\"data{0}\".format(i)] = open_json(file_name)\n",
    "    d2[\"df_{0}\".format(i)] = make_plot_ready(d1[\"data{0}\".format(i)], i)"
   ],
   "metadata": {
    "collapsed": false
   }
  },
  {
   "cell_type": "code",
   "execution_count": null,
   "outputs": [],
   "source": [
    "\"\"\"\n",
    "# concat setting 1-6, 7-12, 13-18\n",
    "df_1_6 = pd.concat([d2['df_1'], d2['df_2'], d2['df_3'], d2['df_4'], d2['df_5'], d2['df_6']])\n",
    "df_7_12 = pd.concat([d2['df_7'], d2['df_8'], d2['df_9'], d2['df_10'], d2['df_11'], d2['df_12']])\n",
    "df_13_18 = pd.concat([d2['df_13'], d2['df_14'], d2['df_15'], d2['df_16'], d2['df_17'], d2['df_18']])\n",
    "\"\"\""
   ],
   "metadata": {
    "collapsed": false
   }
  },
  {
   "cell_type": "code",
   "execution_count": null,
   "outputs": [],
   "source": [
    "# concat setting 1-6, 7-12, 13-18 (new)\n",
    "df_1_6 = pd.concat([d2['df_1'], d2['df_2'], d2['df_3'], d2['df_4'], d2['df_5'], d2['df_6']])\n",
    "df_7_12 = pd.concat([d2['df_7'], d2['df_8'], d2['df_9'], d2['df_10'], d2['df_11'], d2['df_12']])\n",
    "df_13_18 = pd.concat([d2['df_13'], d2['df_14'], d2['df_15'], d2['df_16'], d2['df_17'], d2['df_18']])\n",
    "df_19_24 = pd.concat([d2['df_19'], d2['df_20'], d2['df_21'], d2['df_22'], d2['df_23'], d2['df_24']])"
   ],
   "metadata": {
    "collapsed": false
   }
  },
  {
   "cell_type": "markdown",
   "source": [
    "RANKS"
   ],
   "metadata": {
    "collapsed": false
   }
  },
  {
   "cell_type": "code",
   "execution_count": null,
   "outputs": [],
   "source": [
    "# rank data per sample size and run"
   ],
   "metadata": {
    "collapsed": false
   }
  },
  {
   "cell_type": "code",
   "execution_count": null,
   "outputs": [],
   "source": [
    "rf = np.zeros((0, 9))\n",
    "lasso = np.zeros((0, 9))\n",
    "nn = np.zeros((0, 9))"
   ],
   "metadata": {
    "collapsed": false
   }
  },
  {
   "cell_type": "code",
   "execution_count": null,
   "outputs": [],
   "source": [
    "# for random forest (=0)\n",
    "for i in range(1, 25):\n",
    "    rf = np.vstack((rf, d1[\"data{0}\".format(i)][0][:, 0:9]))"
   ],
   "metadata": {
    "collapsed": false
   }
  },
  {
   "cell_type": "code",
   "execution_count": null,
   "outputs": [],
   "source": [
    "# for lasso (=1)\n",
    "for i in range(1, 25):\n",
    "    lasso = np.vstack((lasso, d1[\"data{0}\".format(i)][1][:, 0:9]))"
   ],
   "metadata": {
    "collapsed": false
   }
  },
  {
   "cell_type": "code",
   "execution_count": null,
   "outputs": [],
   "source": [
    "# for lasso (=1)\n",
    "for i in range(1, 25):\n",
    "    nn = np.vstack((nn, d1[\"data{0}\".format(i)][2][:, 0:9]))"
   ],
   "metadata": {
    "collapsed": false
   }
  },
  {
   "cell_type": "code",
   "execution_count": null,
   "outputs": [],
   "source": [
    "# random forest\n",
    "rf_500 = rf[rf[:, 8] == 500][:, 0:8]\n",
    "rf_1000 = rf[rf[:, 8] == 1000][:, 0:8]\n",
    "rf_2000 = rf[rf[:, 8] == 2000][:, 0:8]\n",
    "rf_5000 = rf[rf[:, 8] == 5000][:, 0:8]"
   ],
   "metadata": {
    "collapsed": false
   }
  },
  {
   "cell_type": "code",
   "execution_count": null,
   "outputs": [],
   "source": [
    "# random forest\n",
    "lasso_500 = lasso[lasso[:, 8] == 500][:, 0:8]\n",
    "lasso_1000 = lasso[lasso[:, 8] == 1000][:, 0:8]\n",
    "lasso_2000 = lasso[lasso[:, 8] == 2000][:, 0:8]\n",
    "lasso_5000 = lasso[lasso[:, 8] == 5000][:, 0:8]"
   ],
   "metadata": {
    "collapsed": false
   }
  },
  {
   "cell_type": "code",
   "execution_count": null,
   "outputs": [],
   "source": [
    "# random forest\n",
    "nn_500 = nn[nn[:, 8] == 500][:, 0:8]\n",
    "nn_1000 = nn[nn[:, 8] == 1000][:, 0:8]\n",
    "nn_2000 = nn[nn[:, 8] == 2000][:, 0:8]\n",
    "nn_5000 = nn[nn[:, 8] == 5000][:, 0:8]"
   ],
   "metadata": {
    "collapsed": false
   }
  },
  {
   "cell_type": "code",
   "execution_count": null,
   "outputs": [],
   "source": [
    "ranks_rf_500 = rankdata(rf_500, axis=1)\n",
    "ranks_rf_1000 = rankdata(rf_1000, axis=1)\n",
    "ranks_rf_2000 = rankdata(rf_2000, axis=1)\n",
    "ranks_rf_5000 = rankdata(rf_5000, axis=1)"
   ],
   "metadata": {
    "collapsed": false
   }
  },
  {
   "cell_type": "code",
   "execution_count": null,
   "outputs": [],
   "source": [
    "ranks_lasso_500 = rankdata(lasso_500, axis=1)\n",
    "ranks_lasso_1000 = rankdata(lasso_1000, axis=1)\n",
    "ranks_lasso_2000 = rankdata(lasso_2000, axis=1)\n",
    "ranks_lasso_5000 = rankdata(lasso_5000, axis=1)"
   ],
   "metadata": {
    "collapsed": false
   }
  },
  {
   "cell_type": "code",
   "execution_count": null,
   "outputs": [],
   "source": [
    "ranks_nn_500 = rankdata(nn_500, axis=1)\n",
    "ranks_nn_1000 = rankdata(nn_1000, axis=1)\n",
    "ranks_nn_2000 = rankdata(nn_2000, axis=1)\n",
    "ranks_nn_5000 = rankdata(nn_5000, axis=1)"
   ],
   "metadata": {
    "collapsed": false
   }
  },
  {
   "cell_type": "code",
   "execution_count": null,
   "outputs": [],
   "source": [
    "# median rank random forest\n",
    "rf_rankmed_500 = np.mean(ranks_rf_500, axis=0)\n",
    "rf_rankmed_1000 = np.mean(ranks_rf_1000, axis=0)\n",
    "rf_rankmed_2000 = np.mean(ranks_rf_2000, axis=0)\n",
    "rf_rankmed_5000 = np.mean(ranks_rf_5000, axis=0)"
   ],
   "metadata": {
    "collapsed": false
   }
  },
  {
   "cell_type": "code",
   "execution_count": null,
   "outputs": [],
   "source": [
    "lasso_rankmed_500 = np.mean(ranks_lasso_500, axis=0)\n",
    "lasso_rankmed_1000 = np.mean(ranks_lasso_1000, axis=0)\n",
    "lasso_rankmed_2000 = np.mean(ranks_lasso_2000, axis=0)\n",
    "lasso_rankmed_5000 = np.mean(ranks_lasso_5000, axis=0)"
   ],
   "metadata": {
    "collapsed": false
   }
  },
  {
   "cell_type": "code",
   "execution_count": null,
   "outputs": [],
   "source": [
    "nn_rankmed_500 = np.mean(ranks_nn_500, axis=0)\n",
    "nn_rankmed_1000 = np.mean(ranks_nn_1000, axis=0)\n",
    "nn_rankmed_2000 = np.mean(ranks_nn_2000, axis=0)\n",
    "nn_rankmed_5000 = np.mean(ranks_nn_5000, axis=0)"
   ],
   "metadata": {
    "collapsed": false
   }
  },
  {
   "cell_type": "code",
   "execution_count": null,
   "outputs": [],
   "source": [
    "learner_names = ['T-Learner', 'S-Learner', 'X-Learner', 'R-Learner', 'DR-Learner', 'RA-Learner', 'PW-Learner',\n",
    "                 'U-Learner']"
   ],
   "metadata": {
    "collapsed": false
   }
  },
  {
   "cell_type": "code",
   "execution_count": null,
   "outputs": [],
   "source": [
    "learner_colors = {\n",
    "    'T-Learner': 'blue',\n",
    "    'S-Learner': 'orange',\n",
    "    'X-Learner': 'green',\n",
    "    'R-Learner': 'red',\n",
    "    'DR-Learner': 'purple',\n",
    "    'RA-Learner': 'brown',\n",
    "    'PW-Learner': 'pink',\n",
    "    'U-Learner': 'gray'\n",
    "}"
   ],
   "metadata": {
    "collapsed": false
   }
  },
  {
   "cell_type": "code",
   "execution_count": null,
   "outputs": [],
   "source": [
    "rf_rankmed_500.reshape(1,8)\n",
    "rf_rankmed_1000.reshape(1,8)\n",
    "rf_rankmed_2000.reshape(1,8)\n",
    "rf_rankmed_5000.reshape(1,8)\n",
    "\n",
    "lasso_rankmed_500.reshape(1,8)\n",
    "lasso_rankmed_1000.reshape(1,8)\n",
    "lasso_rankmed_2000.reshape(1,8)\n",
    "lasso_rankmed_5000.reshape(1,8)\n",
    "\n",
    "nn_rankmed_500.reshape(1,8)\n",
    "nn_rankmed_1000.reshape(1,8)\n",
    "nn_rankmed_2000.reshape(1,8)\n",
    "nn_rankmed_5000.reshape(1,8)"
   ],
   "metadata": {
    "collapsed": false
   }
  },
  {
   "cell_type": "code",
   "execution_count": null,
   "outputs": [],
   "source": [
    "rf_rankmed = np.vstack((rf_rankmed_500.reshape(1,8), rf_rankmed_1000.reshape(1,8), rf_rankmed_2000.reshape(1,8), rf_rankmed_5000.reshape(1,8)))"
   ],
   "metadata": {
    "collapsed": false
   }
  },
  {
   "cell_type": "code",
   "execution_count": null,
   "outputs": [],
   "source": [
    "lasso_rankmed = np.vstack((lasso_rankmed_500.reshape(1,8), lasso_rankmed_1000.reshape(1,8), lasso_rankmed_2000.reshape(1,8), lasso_rankmed_5000.reshape(1,8)))"
   ],
   "metadata": {
    "collapsed": false
   }
  },
  {
   "cell_type": "code",
   "execution_count": null,
   "outputs": [],
   "source": [
    "nn_rankmed = np.vstack((nn_rankmed_500.reshape(1,8), nn_rankmed_1000.reshape(1,8), nn_rankmed_2000.reshape(1,8), nn_rankmed_5000.reshape(1,8)))"
   ],
   "metadata": {
    "collapsed": false
   }
  },
  {
   "cell_type": "code",
   "execution_count": null,
   "outputs": [],
   "source": [
    "rf_rankmed = pd.DataFrame(rf_rankmed)\n",
    "rf_rankmed['SampleSize'] = [500, 1000, 2000, 5000]"
   ],
   "metadata": {
    "collapsed": false
   }
  },
  {
   "cell_type": "code",
   "execution_count": null,
   "outputs": [],
   "source": [
    "lasso_rankmed = pd.DataFrame(lasso_rankmed)\n",
    "lasso_rankmed['SampleSize'] = [500, 1000, 2000, 5000]"
   ],
   "metadata": {
    "collapsed": false
   }
  },
  {
   "cell_type": "code",
   "execution_count": null,
   "outputs": [],
   "source": [
    "nn_rankmed = pd.DataFrame(nn_rankmed)\n",
    "nn_rankmed['SampleSize'] = [500, 1000, 2000, 5000]"
   ],
   "metadata": {
    "collapsed": false
   }
  },
  {
   "cell_type": "code",
   "execution_count": null,
   "outputs": [],
   "source": [
    "rf_rankmed.columns = column_names = ['T-Learner', 'S-Learner', 'X-Learner', 'R-Learner', 'DR-Learner', 'RA-Learner', 'PW-Learner',\n",
    "                    'U-Learner',\n",
    "                    'SampleSize']"
   ],
   "metadata": {
    "collapsed": false
   }
  },
  {
   "cell_type": "code",
   "execution_count": null,
   "outputs": [],
   "source": [
    "lasso_rankmed.columns = column_names = ['T-Learner', 'S-Learner', 'X-Learner', 'R-Learner', 'DR-Learner', 'RA-Learner', 'PW-Learner',\n",
    "                    'U-Learner',\n",
    "                    'SampleSize']"
   ],
   "metadata": {
    "collapsed": false
   }
  },
  {
   "cell_type": "code",
   "execution_count": null,
   "outputs": [],
   "source": [
    "nn_rankmed.columns = column_names = ['T-Learner', 'S-Learner', 'X-Learner', 'R-Learner', 'DR-Learner', 'RA-Learner', 'PW-Learner',\n",
    "                    'U-Learner',\n",
    "                    'SampleSize']"
   ],
   "metadata": {
    "collapsed": false
   }
  },
  {
   "cell_type": "code",
   "execution_count": null,
   "outputs": [],
   "source": [
    "melted_rf = rf_rankmed.melt('SampleSize', var_name='MetaLearner', value_name='MeanRank')\n",
    "melted_rf['SampleSize'] =  melted_rf['SampleSize'].astype('category')"
   ],
   "metadata": {
    "collapsed": false
   }
  },
  {
   "cell_type": "code",
   "execution_count": null,
   "outputs": [],
   "source": [
    "melted_lasso = lasso_rankmed.melt('SampleSize', var_name='MetaLearner', value_name='MeanRank')\n",
    "melted_lasso['SampleSize'] =  melted_lasso['SampleSize'].astype('category')"
   ],
   "metadata": {
    "collapsed": false
   }
  },
  {
   "cell_type": "code",
   "execution_count": null,
   "outputs": [],
   "source": [
    "melted_nn = nn_rankmed.melt('SampleSize', var_name='MetaLearner', value_name='MeanRank')\n",
    "melted_nn['SampleSize'] =  melted_nn['SampleSize'].astype('category')"
   ],
   "metadata": {
    "collapsed": false
   }
  },
  {
   "cell_type": "code",
   "execution_count": null,
   "outputs": [],
   "source": [
    "ax1 = sns.stripplot(data=melted_rf, x='SampleSize', y='MeanRank', hue='MetaLearner', jitter=False)\n",
    "sns.move_legend(ax1, \"upper left\", bbox_to_anchor=(1, 1))"
   ],
   "metadata": {
    "collapsed": false
   }
  },
  {
   "cell_type": "code",
   "execution_count": null,
   "outputs": [],
   "source": [
    "fig1 = ax1.get_figure()\n",
    "fig1.savefig(\"rf_ranks.eps\", format='eps', bbox_inches='tight')"
   ],
   "metadata": {
    "collapsed": false
   }
  },
  {
   "cell_type": "code",
   "execution_count": null,
   "outputs": [],
   "source": [
    "ax2 = sns.stripplot(data=melted_lasso, x='SampleSize', y='MeanRank', hue='MetaLearner', jitter=False)\n",
    "sns.move_legend(ax2, \"upper left\", bbox_to_anchor=(1, 1))"
   ],
   "metadata": {
    "collapsed": false
   }
  },
  {
   "cell_type": "code",
   "execution_count": null,
   "outputs": [],
   "source": [
    "fig2 = ax2.get_figure()\n",
    "fig2.savefig(\"lasso_ranks.eps\", format='eps', bbox_inches='tight')"
   ],
   "metadata": {
    "collapsed": false
   }
  },
  {
   "cell_type": "code",
   "execution_count": null,
   "outputs": [],
   "source": [
    "ax3 = sns.stripplot(data=melted_nn, x='SampleSize', y='MeanRank', hue='MetaLearner', jitter=False)\n",
    "sns.move_legend(ax3, \"upper left\", bbox_to_anchor=(1, 1))"
   ],
   "metadata": {
    "collapsed": false
   }
  },
  {
   "cell_type": "code",
   "execution_count": null,
   "outputs": [],
   "source": [
    "fig3 = ax3.get_figure()\n",
    "fig3.savefig(\"nn_ranks.eps\", format='eps', bbox_inches='tight')"
   ],
   "metadata": {
    "collapsed": false
   }
  },
  {
   "cell_type": "code",
   "execution_count": null,
   "outputs": [],
   "source": [
    "# ALL\n",
    "all = pd.concat([melted_rf, melted_lasso, melted_nn])"
   ],
   "metadata": {
    "collapsed": false
   }
  },
  {
   "cell_type": "code",
   "execution_count": null,
   "outputs": [],
   "source": [
    "ax4 = sns.pointplot(data=all, x='SampleSize', y='MeanRank', hue='MetaLearner', linestyles='', errorbar=None, markers='.')\n",
    "sns.move_legend(ax4, \"upper left\", bbox_to_anchor=(1, 1))"
   ],
   "metadata": {
    "collapsed": false
   }
  },
  {
   "cell_type": "code",
   "execution_count": null,
   "outputs": [],
   "source": [
    "fig4 = ax4.get_figure()\n",
    "fig4.savefig(\"all_ranks.eps\", format='eps', bbox_inches='tight')"
   ],
   "metadata": {
    "collapsed": false
   }
  },
  {
   "cell_type": "markdown",
   "source": [
    "PLOT"
   ],
   "metadata": {
    "collapsed": false
   }
  },
  {
   "cell_type": "code",
   "execution_count": null,
   "outputs": [],
   "source": [
    "col_names = ['T-Learner', 'S-Learner', 'X-Learner', 'R-Learner', 'DR-Learner', 'RA-Learner', 'PW-Learner', 'U-Learner']"
   ],
   "metadata": {
    "collapsed": false
   }
  },
  {
   "cell_type": "code",
   "execution_count": null,
   "outputs": [],
   "source": [
    "metalearner_colors = {\n",
    "    'T-Learner': 'blue',\n",
    "    'S-Learner': 'orange',\n",
    "    'X-Learner': 'green',\n",
    "    'R-Learner': 'red',\n",
    "    'DR-Learner': 'purple',\n",
    "    'RA-Learner': 'brown',\n",
    "    'PW-Learner': 'pink',\n",
    "    'U-Learner': 'gray'\n",
    "}"
   ],
   "metadata": {
    "collapsed": false
   }
  },
  {
   "cell_type": "code",
   "execution_count": null,
   "outputs": [],
   "source": [
    "sns.set_style('darkgrid')"
   ],
   "metadata": {
    "collapsed": false
   }
  },
  {
   "cell_type": "code",
   "execution_count": null,
   "outputs": [],
   "source": [
    "sns.set(font_scale=0.75)"
   ],
   "metadata": {
    "collapsed": false
   }
  },
  {
   "cell_type": "markdown",
   "source": [
    "Comparing propensity scores"
   ],
   "metadata": {
    "collapsed": false
   }
  },
  {
   "cell_type": "code",
   "execution_count": null,
   "outputs": [],
   "source": [
    "face1 = sns.FacetGrid(data=df_1_6, col='BaseLearner', sharey=\"row\", height=4, aspect=1,\n",
    "                      margin_titles=True)\n",
    "face1.map(sns.lineplot, 'SampleSize', 'MSE', 'MetaLearner', errorbar=None, marker='o', estimator=np.median, linewidth=1,\n",
    "          hue_order=col_names, palette=metalearner_colors)\n",
    "face1.add_legend()\n",
    "face1.set(yscale='log')"
   ],
   "metadata": {
    "collapsed": false
   }
  },
  {
   "cell_type": "code",
   "execution_count": null,
   "outputs": [],
   "source": [
    "face1 = sns.FacetGrid(data=df_7_12, col='BaseLearner', sharey=\"row\", height=4, aspect=1,\n",
    "                      margin_titles=True)\n",
    "face1.map(sns.lineplot, 'SampleSize', 'MSE', 'MetaLearner', errorbar=None, marker='o', estimator=np.median, linewidth=1,\n",
    "          hue_order=col_names, palette=metalearner_colors)\n",
    "face1.add_legend()\n",
    "face1.set(yscale='log')"
   ],
   "metadata": {
    "collapsed": false
   }
  },
  {
   "cell_type": "code",
   "execution_count": null,
   "outputs": [],
   "source": [
    "face1 = sns.FacetGrid(data=df_13_18, col='BaseLearner', sharey=\"row\", height=4, aspect=1,\n",
    "                      margin_titles=True)\n",
    "face1.map(sns.lineplot, 'SampleSize', 'MSE', 'MetaLearner', errorbar=None, marker='o', estimator=np.median, linewidth=1,\n",
    "          hue_order=col_names, palette=metalearner_colors)\n",
    "face1.add_legend()\n",
    "face1.set(yscale='log')"
   ],
   "metadata": {
    "collapsed": false
   }
  },
  {
   "cell_type": "code",
   "execution_count": null,
   "outputs": [],
   "source": [
    "face1 = sns.FacetGrid(data=df_19_24, col='BaseLearner', sharey=\"row\", height=4, aspect=1,\n",
    "                      margin_titles=True)\n",
    "face1.map(sns.lineplot, 'SampleSize', 'MSE', 'MetaLearner', errorbar=None, marker='o', estimator=np.median, linewidth=1,\n",
    "          hue_order=col_names, palette=metalearner_colors)\n",
    "face1.add_legend()\n",
    "face1.set(yscale='log')"
   ],
   "metadata": {
    "collapsed": false
   }
  },
  {
   "cell_type": "markdown",
   "source": [
    "Plotting Settings 1-6"
   ],
   "metadata": {
    "collapsed": false
   }
  },
  {
   "cell_type": "code",
   "execution_count": null,
   "outputs": [],
   "source": [
    "face1 = sns.FacetGrid(data=df_1_6, row='Setting', col='BaseLearner', sharey=\"row\", height=4, aspect=1,\n",
    "                      margin_titles=True)\n",
    "face1.map(sns.lineplot, 'SampleSize', 'MSE', 'MetaLearner', errorbar=None, marker='o', estimator=\"mean\", linewidth=1,\n",
    "          hue_order=col_names, palette=metalearner_colors)\n",
    "face1.add_legend()\n",
    "face1.set_titles('HAI')\n",
    "face1.set(yscale='log')\n",
    "face1.fig.subplots_adjust(top=0.95) # adjust the Figure in rp\n",
    "face1.fig.suptitle('Performance of the Metalearners in Simulation Settings 1-6')"
   ],
   "metadata": {
    "collapsed": false
   }
  },
  {
   "cell_type": "code",
   "execution_count": null,
   "outputs": [],
   "source": [
    "face1.savefig('setting_1_6_new.eps', format=\"eps\")"
   ],
   "metadata": {
    "collapsed": false
   }
  },
  {
   "cell_type": "markdown",
   "source": [
    "Plotting Settings 7-12"
   ],
   "metadata": {
    "collapsed": false
   }
  },
  {
   "cell_type": "code",
   "execution_count": null,
   "outputs": [],
   "source": [
    "face2 = sns.FacetGrid(data=df_7_12, row='Setting', col='BaseLearner', sharey=\"row\", height=4, aspect=1,\n",
    "                      margin_titles=True)\n",
    "face2.map(sns.lineplot, 'SampleSize', 'MSE', 'MetaLearner', errorbar=None, marker='o', estimator=\"mean\", linewidth=1,\n",
    "          hue_order=col_names, palette=metalearner_colors)\n",
    "face2.add_legend()\n",
    "face2.set(yscale='log')  #symlog\n",
    "face2.fig.subplots_adjust(top=0.95) # adjust the Figure in rp\n",
    "face2.fig.suptitle('Performance of the Metalearners in Simulation Settings 7-12')"
   ],
   "metadata": {
    "collapsed": false
   }
  },
  {
   "cell_type": "code",
   "execution_count": null,
   "outputs": [],
   "source": [
    "face2.savefig('setting_7_12_new.eps', format=\"eps\")"
   ],
   "metadata": {
    "collapsed": false
   }
  },
  {
   "cell_type": "markdown",
   "source": [
    "Plotting Settings 13-18"
   ],
   "metadata": {
    "collapsed": false
   }
  },
  {
   "cell_type": "code",
   "execution_count": null,
   "outputs": [],
   "source": [
    "face3 = sns.FacetGrid(data=df_13_18, row='Setting', col='BaseLearner', sharey=\"row\", height=4, aspect=1,\n",
    "                      margin_titles=True)\n",
    "face3.map(sns.lineplot, 'SampleSize', 'MSE', 'MetaLearner', errorbar=None, marker='o', estimator=\"mean\", linewidth=1,\n",
    "          hue_order=col_names, palette=metalearner_colors)\n",
    "face3.add_legend()\n",
    "face3.set(yscale='log')\n",
    "face3.fig.subplots_adjust(top=0.95) # adjust the Figure in rp\n",
    "face3.fig.suptitle('Performance of the Metalearners in Simulation Settings 13-18')"
   ],
   "metadata": {
    "collapsed": false
   }
  },
  {
   "cell_type": "code",
   "execution_count": null,
   "outputs": [],
   "source": [
    "face3.savefig('setting_13_18_new.eps', format=\"eps\")"
   ],
   "metadata": {
    "collapsed": false
   }
  },
  {
   "cell_type": "code",
   "execution_count": null,
   "outputs": [],
   "source": [
    "face4 = sns.FacetGrid(data=df_19_24, row='Setting', col='BaseLearner', sharey=\"row\", height=4, aspect=1,\n",
    "                      margin_titles=True)\n",
    "face4.map(sns.lineplot, 'SampleSize', 'MSE', 'MetaLearner', errorbar=None, marker='o', estimator=\"mean\", linewidth=1,\n",
    "          hue_order=col_names, palette=metalearner_colors)\n",
    "face4.add_legend()\n",
    "face4.set(yscale='log')\n",
    "face4.fig.subplots_adjust(top=0.95) # adjust the Figure in rp\n",
    "face4.fig.suptitle('Performance of the Metalearners in Simulation Settings 19-24')"
   ],
   "metadata": {
    "collapsed": false
   }
  },
  {
   "cell_type": "code",
   "execution_count": null,
   "outputs": [],
   "source": [
    "face4.savefig('setting_19_24_new.eps', format=\"eps\")"
   ],
   "metadata": {
    "collapsed": false
   }
  },
  {
   "cell_type": "markdown",
   "source": [
    "ALL SETTINGS BY BASELEARNER"
   ],
   "metadata": {
    "collapsed": false
   }
  },
  {
   "cell_type": "code",
   "execution_count": null,
   "outputs": [],
   "source": [
    "\"\"\"\n",
    "# concat ALL SETTINGS ALL BASELEARNER\n",
    "df_1_18 = pd.concat([df_1_6, df_7_12, df_13_18])\n",
    "\"\"\""
   ],
   "metadata": {
    "collapsed": false
   }
  },
  {
   "cell_type": "code",
   "execution_count": null,
   "outputs": [],
   "source": [
    "# concat ALL SETTINGS ALL BASELEARNER (new)\n",
    "df_1_24 = pd.concat([df_1_6, df_7_12, df_13_18, df_19_24])"
   ],
   "metadata": {
    "collapsed": false
   }
  },
  {
   "cell_type": "code",
   "execution_count": null,
   "outputs": [],
   "source": [
    "face_all = sns.FacetGrid(data=df_1_24, sharey=\"row\", col='BaseLearner', height=3, aspect=1,\n",
    "                         margin_titles=True)\n",
    "face_all.map(sns.lineplot, 'SampleSize', 'MSE', 'MetaLearner', errorbar=None, marker='.', estimator=np.mean,\n",
    "             linewidth=0.5,\n",
    "             hue_order=col_names, palette=metalearner_colors)\n",
    "face_all.add_legend()\n",
    "face_all.set(yscale='log')"
   ],
   "metadata": {
    "collapsed": false
   }
  },
  {
   "cell_type": "code",
   "execution_count": null,
   "outputs": [],
   "source": [
    "face_all.savefig('all_settings_by_base.eps', format='eps')"
   ],
   "metadata": {
    "collapsed": false
   }
  },
  {
   "cell_type": "code",
   "execution_count": null,
   "outputs": [],
   "source": [
    "import numpy as np"
   ],
   "metadata": {
    "collapsed": false
   }
  },
  {
   "cell_type": "code",
   "execution_count": null,
   "outputs": [],
   "source": [
    "# (median)\n",
    "face_all = sns.FacetGrid(data=df_1_24, sharey=\"row\", col='BaseLearner', height=3, aspect=1,\n",
    "                         margin_titles=True)\n",
    "face_all.map(sns.lineplot, 'SampleSize', 'MSE', 'MetaLearner', errorbar=None, marker='.', estimator=np.median,\n",
    "             linewidth=0.5,\n",
    "             hue_order=col_names, palette=metalearner_colors)\n",
    "face_all.add_legend()\n",
    "face_all.set(yscale='log')"
   ],
   "metadata": {
    "collapsed": false
   }
  },
  {
   "cell_type": "markdown",
   "source": [
    "ALL SETTINGS ALL BASELEARNER"
   ],
   "metadata": {
    "collapsed": false
   }
  },
  {
   "cell_type": "code",
   "execution_count": null,
   "outputs": [],
   "source": [
    "face_all = sns.FacetGrid(data=df_1_24, sharey=\"row\", height=3, aspect=1,\n",
    "                         margin_titles=True)\n",
    "face_all.map(sns.lineplot, 'SampleSize', 'MSE', 'MetaLearner', errorbar=None, marker='.', estimator=\"mean\",\n",
    "             linewidth=0.5,\n",
    "             hue_order=col_names, palette=metalearner_colors)\n",
    "face_all.add_legend()\n",
    "face_all.set(yscale='log')"
   ],
   "metadata": {
    "collapsed": false
   }
  },
  {
   "cell_type": "code",
   "execution_count": null,
   "outputs": [],
   "source": [
    "face_all.savefig('all_settings_.eps', format='eps')"
   ],
   "metadata": {
    "collapsed": false
   }
  },
  {
   "cell_type": "code",
   "execution_count": null,
   "outputs": [],
   "source": [
    "# (new)\n",
    "face_all = sns.FacetGrid(data=df_1_24, sharey=\"row\", height=3, aspect=1,\n",
    "                         margin_titles=True)\n",
    "face_all.map(sns.lineplot, 'SampleSize', 'MSE', 'MetaLearner', errorbar=None, marker='.', estimator=np.median,\n",
    "             linewidth=0.5,\n",
    "             hue_order=col_names, palette=metalearner_colors)\n",
    "face_all.add_legend()\n",
    "face_all.set(yscale='log')"
   ],
   "metadata": {
    "collapsed": false
   }
  },
  {
   "cell_type": "markdown",
   "source": [
    "IHDP"
   ],
   "metadata": {
    "collapsed": false
   }
  },
  {
   "cell_type": "code",
   "execution_count": null,
   "outputs": [],
   "source": [
    "sns.set_style(\"darkgrid\")"
   ],
   "metadata": {
    "collapsed": false
   }
  },
  {
   "cell_type": "code",
   "execution_count": null,
   "outputs": [],
   "source": [
    "ihdp = open_json(\"/Users/arberimbibaj/final_results_lelel/results_ihdp_100run(s)_lelel.json\")"
   ],
   "metadata": {
    "collapsed": false
   }
  },
  {
   "cell_type": "code",
   "execution_count": null,
   "outputs": [],
   "source": [
    "ihdp_rf = ihdp[0]\n",
    "ihdp_lm = ihdp[1]\n",
    "ihdp_nn = ihdp[2]"
   ],
   "metadata": {
    "collapsed": false
   }
  },
  {
   "cell_type": "code",
   "execution_count": null,
   "outputs": [],
   "source": [
    "ihdp_rf = pd.DataFrame(ihdp_rf)\n",
    "ihdp_lm = pd.DataFrame(ihdp_lm)\n",
    "ihdp_nn = pd.DataFrame(ihdp_nn)"
   ],
   "metadata": {
    "collapsed": false
   }
  },
  {
   "cell_type": "code",
   "execution_count": null,
   "outputs": [],
   "source": [
    "\"\"\"\n",
    "column_names = ['T-Learner', 'S-Learner', 'X-Learner', 'R-Learner', 'DR-Learner', 'RA-Learner', 'PW-Learner',\n",
    "                'U-Learner']\n",
    "\"\"\"\n",
    "columns = ['T', 'S', 'X', 'R', 'DR', 'RA', 'PW',\n",
    "           'U']\n",
    "ihdp_rf.columns = columns\n",
    "ihdp_lm.columns = columns\n",
    "ihdp_nn.columns = columns"
   ],
   "metadata": {
    "collapsed": false
   }
  },
  {
   "cell_type": "code",
   "execution_count": null,
   "outputs": [],
   "source": [
    "ihdp_rf = ihdp_rf.melt(var_name='MetaLearner', value_name='MSE')\n",
    "ihdp_lm = ihdp_lm.melt(var_name='MetaLearner', value_name='MSE')\n",
    "ihdp_nn = ihdp_nn.melt(var_name='MetaLearner', value_name='MSE')"
   ],
   "metadata": {
    "collapsed": false
   }
  },
  {
   "cell_type": "code",
   "execution_count": null,
   "outputs": [],
   "source": [
    "ihdp_rf['BaseLearner'] = 'RandomForest'\n",
    "ihdp_lm['BaseLearner'] = 'LinearModel'\n",
    "ihdp_nn['BaseLearner'] = 'NeuralNetwork'"
   ],
   "metadata": {
    "collapsed": false
   }
  },
  {
   "cell_type": "code",
   "execution_count": null,
   "outputs": [],
   "source": [
    "# concatenate\n",
    "ihdp_all = pd.concat([ihdp_rf, ihdp_lm, ihdp_nn])"
   ],
   "metadata": {
    "collapsed": false
   }
  },
  {
   "cell_type": "code",
   "execution_count": null,
   "outputs": [],
   "source": [
    "\"\"\"\n",
    "metalearner_colors = {\n",
    "    'T-Learner': 'blue',\n",
    "    'S-Learner': 'orange',\n",
    "    'X-Learner': 'green',\n",
    "    'R-Learner': 'red',\n",
    "    'DR-Learner': 'purple',\n",
    "    'RA-Learner': 'brown',\n",
    "    'PW-Learner': 'pink',\n",
    "    'U-Learner': 'gray'\n",
    "}\n",
    "\"\"\""
   ],
   "metadata": {
    "collapsed": false
   }
  },
  {
   "cell_type": "code",
   "execution_count": null,
   "outputs": [],
   "source": [
    "metalearner_colors = {\n",
    "    'T': 'blue',\n",
    "    'S': 'orange',\n",
    "    'X': 'green',\n",
    "    'R': 'red',\n",
    "    'DR': 'purple',\n",
    "    'RA': 'brown',\n",
    "    'PW': 'pink',\n",
    "    'U': 'gray',\n",
    "    # Add more MetaLearner-color mappings as needed\n",
    "}"
   ],
   "metadata": {
    "collapsed": false
   }
  },
  {
   "cell_type": "code",
   "execution_count": null,
   "outputs": [],
   "source": [
    "sns.set(font_scale=0.75)\n",
    "face_ihdp = sns.FacetGrid(data=ihdp_all, col='BaseLearner', sharey=True, height=3, aspect=1,\n",
    "                          margin_titles=True)\n",
    "face_ihdp.map(sns.boxplot, 'MetaLearner', 'MSE', orient='v', order=columns, palette=metalearner_colors,\n",
    "              fliersize=0.5, linewidth=1, flierprops={\"marker\": \".\"}, )\n",
    "face_ihdp.set(yscale='log')"
   ],
   "metadata": {
    "collapsed": false
   }
  },
  {
   "cell_type": "code",
   "execution_count": null,
   "outputs": [],
   "source": [
    "sns.set(font_scale=0.75)\n",
    "face_ihdp = sns.FacetGrid(data=ihdp_all, col='BaseLearner', sharey=True, height=3, aspect=1,\n",
    "                          margin_titles=True)\n",
    "face_ihdp.map(sns.boxplot, 'MetaLearner', 'MSE', orient='v', order=columns, palette=metalearner_colors,\n",
    "              fliersize=0.5, linewidth=1, flierprops={\"marker\": \".\"}, )\n",
    "face_ihdp.set(yscale='log')"
   ],
   "metadata": {
    "collapsed": false
   }
  },
  {
   "cell_type": "code",
   "execution_count": null,
   "outputs": [],
   "source": [
    "face_ihdp.savefig('ihdp.eps', format='eps')"
   ],
   "metadata": {
    "collapsed": false
   }
  },
  {
   "cell_type": "code",
   "execution_count": null,
   "outputs": [],
   "source": [
    "ihdp_all"
   ],
   "metadata": {
    "collapsed": false
   }
  },
  {
   "cell_type": "code",
   "execution_count": null,
   "outputs": [],
   "source": [
    "ihdp[2]"
   ],
   "metadata": {
    "collapsed": false
   }
  },
  {
   "cell_type": "code",
   "execution_count": null,
   "outputs": [],
   "source": [
    "ihdp_rank_rf = rankdata(ihdp[0], axis=1)\n",
    "ihdp_rank_lasso = rankdata(ihdp[1], axis=1)\n",
    "ihdp_rank_nn = rankdata(ihdp[2], axis=1)"
   ],
   "metadata": {
    "collapsed": false
   }
  },
  {
   "cell_type": "code",
   "execution_count": null,
   "outputs": [],
   "source": [
    "ihdp_rank_rf"
   ],
   "metadata": {
    "collapsed": false
   }
  },
  {
   "cell_type": "code",
   "execution_count": null,
   "outputs": [],
   "source": [
    "ihdp_rank_lasso"
   ],
   "metadata": {
    "collapsed": false
   }
  },
  {
   "cell_type": "code",
   "execution_count": null,
   "outputs": [],
   "source": [
    "ihdp_rank_nn"
   ],
   "metadata": {
    "collapsed": false
   }
  },
  {
   "cell_type": "code",
   "execution_count": null,
   "outputs": [],
   "source": [
    "ihdp_meanranks_rf = np.mean(ihdp_rank_nn, axis=0).reshape(1,8)\n",
    "ihdp_meanranks_lasso = np.mean(ihdp_rank_lasso, axis=0).reshape(1,8)\n",
    "ihdp_meanranks_nn = np.mean(ihdp_rank_nn, axis=0).reshape(1,8)"
   ],
   "metadata": {
    "collapsed": false
   }
  },
  {
   "cell_type": "code",
   "execution_count": null,
   "outputs": [],
   "source": [
    "ihdp_meanranks_rf"
   ],
   "metadata": {
    "collapsed": false
   }
  },
  {
   "cell_type": "code",
   "execution_count": null,
   "outputs": [],
   "source": [
    "ihdp_meanranks_lasso"
   ],
   "metadata": {
    "collapsed": false
   }
  },
  {
   "cell_type": "code",
   "execution_count": null,
   "outputs": [],
   "source": [
    "ihdp_meanranks_nn"
   ],
   "metadata": {
    "collapsed": false
   }
  },
  {
   "cell_type": "code",
   "execution_count": null,
   "outputs": [],
   "source": [
    "meanranks_rf = pd.DataFrame(ihdp_meanranks_rf)\n",
    "meanranks_lasso = pd.DataFrame(ihdp_meanranks_lasso)\n",
    "meanranks_nn = pd.DataFrame(ihdp_meanranks_nn)"
   ],
   "metadata": {
    "collapsed": false
   }
  },
  {
   "cell_type": "code",
   "execution_count": null,
   "outputs": [],
   "source": [
    "meanranks_rf.columns = learner_names\n",
    "meanranks_lasso.columns = learner_names\n",
    "meanranks_nn.columns = learner_names"
   ],
   "metadata": {
    "collapsed": false
   }
  },
  {
   "cell_type": "code",
   "execution_count": null,
   "outputs": [],
   "source": [
    "meanranks_ihdp = pd.concat([meanranks_rf, meanranks_lasso, meanranks_nn], axis=0)"
   ],
   "metadata": {
    "collapsed": false
   }
  },
  {
   "cell_type": "code",
   "execution_count": null,
   "outputs": [],
   "source": [
    "meanranks_ihdp"
   ],
   "metadata": {
    "collapsed": false
   }
  },
  {
   "cell_type": "code",
   "execution_count": null,
   "outputs": [],
   "source": [
    "meanranks_ihdp['BaseLearner'] = ['RandomForest', 'Lasso', 'NeuralNetwork']\n"
   ],
   "metadata": {
    "collapsed": false
   }
  },
  {
   "cell_type": "code",
   "execution_count": null,
   "outputs": [],
   "source": [
    "meanranks_ihdp['BaseLearner'] = meanranks_ihdp['BaseLearner'].astype('category')"
   ],
   "metadata": {
    "collapsed": false
   }
  },
  {
   "cell_type": "code",
   "execution_count": null,
   "outputs": [],
   "source": [
    "meanranks_ihdp = meanranks_ihdp.melt('BaseLearner', var_name='MetaLearner', value_name='MeanRank')"
   ],
   "metadata": {
    "collapsed": false
   }
  },
  {
   "cell_type": "code",
   "execution_count": null,
   "outputs": [],
   "source": [
    "meanranks_ihdp['MeanRank']"
   ],
   "metadata": {
    "collapsed": false
   }
  },
  {
   "cell_type": "code",
   "execution_count": null,
   "outputs": [],
   "source": [
    "order_x = ['RandomForest', 'Lasso', 'NeuralNetwork']"
   ],
   "metadata": {
    "collapsed": false
   }
  },
  {
   "cell_type": "code",
   "execution_count": null,
   "outputs": [],
   "source": [
    "ax5 = sns.stripplot(meanranks_ihdp, x='BaseLearner', y='MeanRank', jitter=False, hue='MetaLearner', order=order_x)\n",
    "ax5.set_title('Mean Ranks of Metalearners in the IHDP Experiment')\n",
    "sns.move_legend(ax5, \"upper left\", bbox_to_anchor=(1, 1))"
   ],
   "metadata": {
    "collapsed": false
   }
  },
  {
   "cell_type": "code",
   "execution_count": null,
   "outputs": [],
   "source": [
    "fig5 = ax5.get_figure()\n",
    "fig5.savefig(\"ranks_ihdp.eps\", format='eps', bbox_inches='tight')"
   ],
   "metadata": {
    "collapsed": false
   }
  },
  {
   "cell_type": "code",
   "execution_count": null,
   "outputs": [],
   "source": [],
   "metadata": {
    "collapsed": false
   }
  }
 ],
 "metadata": {
  "kernelspec": {
   "display_name": "Python 3",
   "language": "python",
   "name": "python3"
  },
  "language_info": {
   "codemirror_mode": {
    "name": "ipython",
    "version": 2
   },
   "file_extension": ".py",
   "mimetype": "text/x-python",
   "name": "python",
   "nbconvert_exporter": "python",
   "pygments_lexer": "ipython2",
   "version": "2.7.6"
  }
 },
 "nbformat": 4,
 "nbformat_minor": 0
}
