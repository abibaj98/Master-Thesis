{
 "cells": [
  {
   "cell_type": "code",
   "execution_count": 1,
   "metadata": {
    "collapsed": true,
    "ExecuteTime": {
     "end_time": "2023-08-01T21:24:52.633776Z",
     "start_time": "2023-08-01T21:24:52.627099Z"
    }
   },
   "outputs": [],
   "source": [
    "import numpy as np\n",
    "import jsonpickle\n",
    "import seaborn as sns\n",
    "import pandas as pd"
   ]
  },
  {
   "cell_type": "code",
   "execution_count": 4,
   "outputs": [],
   "source": [
    "def open_json(file_name):\n",
    "    f = open(file_name, 'r')\n",
    "    json_str =f.read()\n",
    "    file = jsonpickle.decode(json_str)\n",
    "    return file\n"
   ],
   "metadata": {
    "collapsed": false,
    "ExecuteTime": {
     "end_time": "2023-08-01T21:27:12.992557Z",
     "start_time": "2023-08-01T21:27:12.988595Z"
    }
   }
  },
  {
   "cell_type": "code",
   "execution_count": 17,
   "outputs": [
    {
     "data": {
      "text/plain": "array([[1.91420779e-01, 1.94469960e-02, 1.94350904e-01, 1.10410404e+03,\n        1.87133219e-01, 1.84476011e-01, 1.10355854e-01, 3.47640137e+04],\n       [4.21495760e-01, 1.41175229e+00, 1.04331432e+00, 3.49327398e+02,\n        4.59807370e-01, 4.58598492e-01, 5.86746323e-01, 9.64299545e+03],\n       [3.53130519e-01, 1.84869952e-01, 4.20593556e-01, 2.86513368e+02,\n        3.71464544e-01, 3.73274726e-01, 1.64980995e-01, 6.97978561e+04],\n       [1.69484118e-01, 1.19301257e-01, 2.26812348e-01, 3.69318065e+02,\n        1.65059822e-01, 1.66206162e-01, 7.44889481e-01, 1.86449892e+04]])"
     },
     "execution_count": 17,
     "metadata": {},
     "output_type": "execute_result"
    }
   ],
   "source": [
    "name = \"/Users/arberimbibaj/results.json\"\n",
    "data = open_json(name)\n",
    "data[23][0]"
   ],
   "metadata": {
    "collapsed": false,
    "ExecuteTime": {
     "end_time": "2023-08-01T21:27:57.974302Z",
     "start_time": "2023-08-01T21:27:57.972041Z"
    }
   }
  },
  {
   "cell_type": "code",
   "execution_count": null,
   "outputs": [],
   "source": [
    "# open\n",
    "# LOAD JSON FILE\n",
    "file_name = \"/Users/arberimbibaj/results.json\"\n",
    "f = open(file_name, 'r')\n",
    "json_str = f.read()\n",
    "results_all = jsonpickle.decode(json_str)"
   ],
   "metadata": {
    "collapsed": false
   }
  }
 ],
 "metadata": {
  "kernelspec": {
   "display_name": "Python 3",
   "language": "python",
   "name": "python3"
  },
  "language_info": {
   "codemirror_mode": {
    "name": "ipython",
    "version": 2
   },
   "file_extension": ".py",
   "mimetype": "text/x-python",
   "name": "python",
   "nbconvert_exporter": "python",
   "pygments_lexer": "ipython2",
   "version": "2.7.6"
  }
 },
 "nbformat": 4,
 "nbformat_minor": 0
}
