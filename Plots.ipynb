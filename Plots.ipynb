{
 "cells": [
  {
   "cell_type": "code",
   "execution_count": null,
   "metadata": {
    "collapsed": true
   },
   "outputs": [],
   "source": [
    "import jsonpickle\n",
    "import pandas as pd\n",
    "import seaborn as sns\n",
    "import numpy as np\n",
    "from scipy.stats import rankdata"
   ]
  },
  {
   "cell_type": "markdown",
   "source": [
    "Helper Functions"
   ],
   "metadata": {
    "collapsed": false
   }
  },
  {
   "cell_type": "code",
   "execution_count": null,
   "outputs": [],
   "source": [
    "# helper function to read json file\n",
    "def open_json(name):\n",
    "    f = open(name, 'r')\n",
    "    json_str = f.read()\n",
    "    file = jsonpickle.decode(json_str)\n",
    "    return file\n"
   ],
   "metadata": {
    "collapsed": false
   }
  },
  {
   "cell_type": "code",
   "execution_count": null,
   "outputs": [],
   "source": [
    "# helper function to make data plot ready\n",
    "def make_plot_ready(data_set, setting):\n",
    "    # make them dataframes\n",
    "    df1 = pd.DataFrame(data_set[0])\n",
    "    df2 = pd.DataFrame(data_set[1])\n",
    "    df3 = pd.DataFrame(data_set[2])\n",
    "    # add metalearner names\n",
    "    column_names = ['T-Learner', 'S-Learner', 'X-Learner', 'R-Learner', 'DR-Learner', 'RA-Learner', 'PW-Learner',\n",
    "                    'U-Learner',\n",
    "                    'SampleSize']\n",
    "    df1.columns = column_names\n",
    "    df2.columns = column_names\n",
    "    df3.columns = column_names\n",
    "    # wide format -> long format\n",
    "    df1 = df1.melt('SampleSize', var_name='MetaLearner', value_name='MSE')\n",
    "    df2 = df2.melt('SampleSize', var_name='MetaLearner', value_name='MSE')\n",
    "    df3 = df3.melt('SampleSize', var_name='MetaLearner', value_name='MSE')\n",
    "    # add new column indicating baselearner\n",
    "    df1['BaseLearner'] = 'Random Forest'\n",
    "    df2['BaseLearner'] = 'Lasso-Based'\n",
    "    df3['BaseLearner'] = 'Neural Network'\n",
    "    # concatenate\n",
    "    df_1 = pd.concat([df1, df2, df3], ignore_index=True)\n",
    "    # column setting\n",
    "    df_1['Setting'] = setting\n",
    "    # using dictionary to convert specific columns\n",
    "    dictionary = {'SampleSize': int,\n",
    "                  'MetaLearner': 'category',\n",
    "                  'Setting': 'category'\n",
    "                  }\n",
    "    df_1 = df_1.astype(dictionary)\n",
    "    return df_1"
   ],
   "metadata": {
    "collapsed": false
   }
  },
  {
   "cell_type": "code",
   "execution_count": null,
   "outputs": [],
   "source": [
    "# helper function to make data plot ready (rankings)\n",
    "def make_rank_ready():\n",
    "    rf = np.zeros((0, 9))\n",
    "    lasso = np.zeros((0, 9))\n",
    "    nn = np.zeros((0, 9))\n",
    "    # for random forest (=0)\n",
    "    for i in range(1, 25):\n",
    "        rf = np.vstack((rf, d1[\"data{0}\".format(i)][0][:, 0:9]))\n",
    "    # for lasso (=1)\n",
    "    for i in range(1, 25):\n",
    "        lasso = np.vstack((lasso, d1[\"data{0}\".format(i)][1][:, 0:9]))\n",
    "    # for lasso (=1)\n",
    "    for i in range(1, 25):\n",
    "        nn = np.vstack((nn, d1[\"data{0}\".format(i)][2][:, 0:9]))\n",
    "    # random forest\n",
    "    rf_500 = rf[rf[:, 8] == 500][:, 0:8]\n",
    "    rf_1000 = rf[rf[:, 8] == 1000][:, 0:8]\n",
    "    rf_2000 = rf[rf[:, 8] == 2000][:, 0:8]\n",
    "    rf_5000 = rf[rf[:, 8] == 5000][:, 0:8]\n",
    "    # random forest\n",
    "    lasso_500 = lasso[lasso[:, 8] == 500][:, 0:8]\n",
    "    lasso_1000 = lasso[lasso[:, 8] == 1000][:, 0:8]\n",
    "    lasso_2000 = lasso[lasso[:, 8] == 2000][:, 0:8]\n",
    "    lasso_5000 = lasso[lasso[:, 8] == 5000][:, 0:8]\n",
    "    # random forest\n",
    "    nn_500 = nn[nn[:, 8] == 500][:, 0:8]\n",
    "    nn_1000 = nn[nn[:, 8] == 1000][:, 0:8]\n",
    "    nn_2000 = nn[nn[:, 8] == 2000][:, 0:8]\n",
    "    nn_5000 = nn[nn[:, 8] == 5000][:, 0:8]\n",
    "    # ranks\n",
    "    ranks_rf_500 = rankdata(rf_500, axis=1)\n",
    "    ranks_rf_1000 = rankdata(rf_1000, axis=1)\n",
    "    ranks_rf_2000 = rankdata(rf_2000, axis=1)\n",
    "    ranks_rf_5000 = rankdata(rf_5000, axis=1)\n",
    "    ranks_lasso_500 = rankdata(lasso_500, axis=1)\n",
    "    ranks_lasso_1000 = rankdata(lasso_1000, axis=1)\n",
    "    ranks_lasso_2000 = rankdata(lasso_2000, axis=1)\n",
    "    ranks_lasso_5000 = rankdata(lasso_5000, axis=1)\n",
    "    ranks_nn_500 = rankdata(nn_500, axis=1)\n",
    "    ranks_nn_1000 = rankdata(nn_1000, axis=1)\n",
    "    ranks_nn_2000 = rankdata(nn_2000, axis=1)\n",
    "    ranks_nn_5000 = rankdata(nn_5000, axis=1)\n",
    "    # mean ranks\n",
    "    rf_rankmed_500 = np.mean(ranks_rf_500, axis=0)\n",
    "    rf_rankmed_1000 = np.mean(ranks_rf_1000, axis=0)\n",
    "    rf_rankmed_2000 = np.mean(ranks_rf_2000, axis=0)\n",
    "    rf_rankmed_5000 = np.mean(ranks_rf_5000, axis=0)\n",
    "    lasso_rankmed_500 = np.mean(ranks_lasso_500, axis=0)\n",
    "    lasso_rankmed_1000 = np.mean(ranks_lasso_1000, axis=0)\n",
    "    lasso_rankmed_2000 = np.mean(ranks_lasso_2000, axis=0)\n",
    "    lasso_rankmed_5000 = np.mean(ranks_lasso_5000, axis=0)\n",
    "    nn_rankmed_500 = np.mean(ranks_nn_500, axis=0)\n",
    "    nn_rankmed_1000 = np.mean(ranks_nn_1000, axis=0)\n",
    "    nn_rankmed_2000 = np.mean(ranks_nn_2000, axis=0)\n",
    "    nn_rankmed_5000 = np.mean(ranks_nn_5000, axis=0)\n",
    "    # stack\n",
    "    rf_rankmed = np.vstack((rf_rankmed_500.reshape(1, 8), rf_rankmed_1000.reshape(1, 8), rf_rankmed_2000.reshape(1, 8),\n",
    "                            rf_rankmed_5000.reshape(1, 8)))\n",
    "    lasso_rankmed = np.vstack((lasso_rankmed_500.reshape(1, 8), lasso_rankmed_1000.reshape(1, 8),\n",
    "                               lasso_rankmed_2000.reshape(1, 8), lasso_rankmed_5000.reshape(1, 8)))\n",
    "    nn_rankmed = np.vstack((nn_rankmed_500.reshape(1, 8), nn_rankmed_1000.reshape(1, 8), nn_rankmed_2000.reshape(1, 8),\n",
    "                            nn_rankmed_5000.reshape(1, 8)))\n",
    "    # to pandas\n",
    "    rf_rankmed = pd.DataFrame(rf_rankmed)\n",
    "    rf_rankmed['SampleSize'] = [500, 1000, 2000, 5000]\n",
    "    lasso_rankmed = pd.DataFrame(lasso_rankmed)\n",
    "    lasso_rankmed['SampleSize'] = [500, 1000, 2000, 5000]\n",
    "    nn_rankmed = pd.DataFrame(nn_rankmed)\n",
    "    nn_rankmed['SampleSize'] = [500, 1000, 2000, 5000]\n",
    "    # column names\n",
    "    column_names = ['T-Learner', 'S-Learner', 'X-Learner', 'R-Learner', 'DR-Learner', 'RA-Learner',\n",
    "                    'PW-Learner',\n",
    "                    'U-Learner',\n",
    "                    'SampleSize']\n",
    "    rf_rankmed.columns = column_names\n",
    "    lasso_rankmed.columns = column_names\n",
    "    nn_rankmed.columns = column_names\n",
    "    # finally melt\n",
    "    melted_rf = rf_rankmed.melt('SampleSize', var_name='MetaLearner', value_name='MeanRank')\n",
    "    melted_rf['SampleSize'] = melted_rf['SampleSize'].astype('category')\n",
    "    melted_lasso = lasso_rankmed.melt('SampleSize', var_name='MetaLearner', value_name='MeanRank')\n",
    "    melted_lasso['SampleSize'] = melted_lasso['SampleSize'].astype('category')\n",
    "    melted_nn = nn_rankmed.melt('SampleSize', var_name='MetaLearner', value_name='MeanRank')\n",
    "    melted_nn['SampleSize'] = melted_nn['SampleSize'].astype('category')\n",
    "\n",
    "    return melted_rf, melted_lasso, melted_nn\n"
   ],
   "metadata": {
    "collapsed": false
   }
  },
  {
   "cell_type": "code",
   "execution_count": null,
   "outputs": [],
   "source": [
    "def ihdp_make_plot_ready():\n",
    "    ihdp = open_json(\"final_results_final/results_ihdp_100run(s)_final.json\")\n",
    "    ihdp_rf = ihdp[0]  # RF\n",
    "    ihdp_lm = ihdp[1]  # lasso-based\n",
    "    ihdp_nn = ihdp[2]  # NN\n",
    "    # make df\n",
    "    ihdp_rf = pd.DataFrame(ihdp_rf)\n",
    "    ihdp_lm = pd.DataFrame(ihdp_lm)\n",
    "    ihdp_nn = pd.DataFrame(ihdp_nn)\n",
    "    # column names\n",
    "    columns = ['T', 'S', 'X', 'R', 'DR', 'RA', 'PW',\n",
    "               'U']\n",
    "    ihdp_rf.columns = columns\n",
    "    ihdp_lm.columns = columns\n",
    "    ihdp_nn.columns = columns\n",
    "    # melt\n",
    "    ihdp_rf = ihdp_rf.melt(var_name='MetaLearner', value_name='MSE')\n",
    "    ihdp_lm = ihdp_lm.melt(var_name='MetaLearner', value_name='MSE')\n",
    "    ihdp_nn = ihdp_nn.melt(var_name='MetaLearner', value_name='MSE')\n",
    "    # names base-learner\n",
    "    ihdp_rf['BaseLearner'] = 'RandomForest'\n",
    "    ihdp_lm['BaseLearner'] = 'Lasso-Based'\n",
    "    ihdp_nn['BaseLearner'] = 'NeuralNetwork'\n",
    "    # concatenate\n",
    "    ihdp_all = pd.concat([ihdp_rf, ihdp_lm, ihdp_nn])\n",
    "\n",
    "    return ihdp_all\n"
   ],
   "metadata": {
    "collapsed": false
   }
  },
  {
   "cell_type": "code",
   "execution_count": null,
   "outputs": [],
   "source": [
    "def ihdp_make_rank_ready():\n",
    "    ihdp = open_json(\"final_results_final/results_ihdp_100run(s)_final.json\")\n",
    "    # rank\n",
    "    ihdp_rank_rf = rankdata(ihdp[0], axis=1)\n",
    "    ihdp_rank_lasso = rankdata(ihdp[1], axis=1)\n",
    "    ihdp_rank_nn = rankdata(ihdp[2], axis=1)\n",
    "    # meanranks\n",
    "    ihdp_meanranks_rf = np.mean(ihdp_rank_rf, axis=0).reshape(1, 8)\n",
    "    ihdp_meanranks_lasso = np.mean(ihdp_rank_lasso, axis=0).reshape(1, 8)\n",
    "    ihdp_meanranks_nn = np.mean(ihdp_rank_nn, axis=0).reshape(1, 8)\n",
    "    # to df\n",
    "    meanranks_rf = pd.DataFrame(ihdp_meanranks_rf)\n",
    "    meanranks_lasso = pd.DataFrame(ihdp_meanranks_lasso)\n",
    "    meanranks_nn = pd.DataFrame(ihdp_meanranks_nn)\n",
    "    # column names\n",
    "    meanranks_rf.columns = learner_names\n",
    "    meanranks_lasso.columns = learner_names\n",
    "    meanranks_nn.columns = learner_names\n",
    "    # concat\n",
    "    meanranks_ihdp = pd.concat([meanranks_rf, meanranks_lasso, meanranks_nn], axis=0)\n",
    "    meanranks_ihdp['BaseLearner'] = ['RandomForest', 'Lasso-Based', 'NeuralNetwork']\n",
    "    meanranks_ihdp['BaseLearner'] = meanranks_ihdp['BaseLearner'].astype('category')\n",
    "    # melt\n",
    "    meanranks_ihdp = meanranks_ihdp.melt('BaseLearner', var_name='MetaLearner', value_name='MeanRank')\n",
    "\n",
    "    return meanranks_ihdp\n"
   ],
   "metadata": {
    "collapsed": false
   }
  },
  {
   "cell_type": "code",
   "execution_count": null,
   "outputs": [],
   "source": [
    "# names and colors for the plots\n",
    "learner_names = ['T-Learner', 'S-Learner', 'X-Learner', 'R-Learner', 'DR-Learner', 'RA-Learner', 'PW-Learner',\n",
    "                 'U-Learner']\n",
    "learner_colors = {\n",
    "    'T-Learner': 'blue',\n",
    "    'S-Learner': 'orange',\n",
    "    'X-Learner': 'green',\n",
    "    'R-Learner': 'red',\n",
    "    'DR-Learner': 'purple',\n",
    "    'RA-Learner': 'brown',\n",
    "    'PW-Learner': 'pink',\n",
    "    'U-Learner': 'gray'\n",
    "}"
   ],
   "metadata": {
    "collapsed": false
   }
  },
  {
   "cell_type": "code",
   "execution_count": null,
   "outputs": [],
   "source": [
    "col_names = ['T-Learner', 'S-Learner', 'X-Learner', 'R-Learner', 'DR-Learner', 'RA-Learner', 'PW-Learner', 'U-Learner']\n",
    "metalearner_colors = {\n",
    "    'T-Learner': 'blue',\n",
    "    'S-Learner': 'orange',\n",
    "    'X-Learner': 'green',\n",
    "    'R-Learner': 'red',\n",
    "    'DR-Learner': 'purple',\n",
    "    'RA-Learner': 'brown',\n",
    "    'PW-Learner': 'pink',\n",
    "    'U-Learner': 'gray'\n",
    "}"
   ],
   "metadata": {
    "collapsed": false
   }
  },
  {
   "cell_type": "code",
   "execution_count": null,
   "outputs": [],
   "source": [
    "metalearners_colors = {\n",
    "    'T': 'blue',\n",
    "    'S': 'orange',\n",
    "    'X': 'green',\n",
    "    'R': 'red',\n",
    "    'DR': 'purple',\n",
    "    'RA': 'brown',\n",
    "    'PW': 'pink',\n",
    "    'U': 'gray'\n",
    "}\n",
    "columns = ['T', 'S', 'X', 'R', 'DR', 'RA', 'PW',\n",
    "               'U']"
   ],
   "metadata": {
    "collapsed": false
   }
  },
  {
   "cell_type": "code",
   "execution_count": null,
   "outputs": [],
   "source": [
    "order_x = ['RandomForest', 'Lasso-Based', 'NeuralNetwork']"
   ],
   "metadata": {
    "collapsed": false
   }
  },
  {
   "cell_type": "markdown",
   "source": [
    "Process Data"
   ],
   "metadata": {
    "collapsed": false
   }
  },
  {
   "cell_type": "code",
   "execution_count": null,
   "outputs": [],
   "source": [
    "# load all settings\n",
    "d1 = {}\n",
    "d2 = {}\n",
    "for i in range(1, 25):\n",
    "    file_name = f'final_results_final/results_simulated_setting{i}_10run(s)_final.json'\n",
    "    d1[\"data{0}\".format(i)] = open_json(file_name)\n",
    "    d2[\"df_{0}\".format(i)] = make_plot_ready(d1[\"data{0}\".format(i)], i)"
   ],
   "metadata": {
    "collapsed": false
   }
  },
  {
   "cell_type": "code",
   "execution_count": null,
   "outputs": [],
   "source": [
    "# concat setting 1-6, 7-12, 13-18, 19-24\n",
    "df_1_6 = pd.concat([d2['df_1'], d2['df_2'], d2['df_3'], d2['df_4'], d2['df_5'], d2['df_6']])\n",
    "df_7_12 = pd.concat([d2['df_7'], d2['df_8'], d2['df_9'], d2['df_10'], d2['df_11'], d2['df_12']])\n",
    "df_13_18 = pd.concat([d2['df_13'], d2['df_14'], d2['df_15'], d2['df_16'], d2['df_17'], d2['df_18']])\n",
    "df_19_24 = pd.concat([d2['df_19'], d2['df_20'], d2['df_21'], d2['df_22'], d2['df_23'], d2['df_24']])"
   ],
   "metadata": {
    "collapsed": false
   }
  },
  {
   "cell_type": "code",
   "execution_count": null,
   "outputs": [],
   "source": [
    "# sns options\n",
    "sns.set_style('darkgrid')\n",
    "sns.set(font_scale=1.0)"
   ],
   "metadata": {
    "collapsed": false
   }
  },
  {
   "cell_type": "markdown",
   "source": [
    "# Plotting Results (fully-synthetic data)"
   ],
   "metadata": {
    "collapsed": false
   }
  },
  {
   "cell_type": "markdown",
   "source": [
    "Settings 1-6"
   ],
   "metadata": {
    "collapsed": false
   }
  },
  {
   "cell_type": "code",
   "execution_count": null,
   "outputs": [],
   "source": [
    "face1 = sns.FacetGrid(data=df_1_6, row='Setting', col='BaseLearner', sharey=\"row\", height=4, aspect=1,\n",
    "                      margin_titles=True)\n",
    "face1.map(sns.lineplot, 'SampleSize', 'MSE', 'MetaLearner', errorbar=None, marker='o', estimator=\"mean\", linewidth=1,\n",
    "          hue_order=col_names, palette=metalearner_colors)\n",
    "face1.add_legend()\n",
    "face1.set(yscale='log')\n",
    "face1.fig.subplots_adjust(top=0.95)  # adjust the Figure in rp\n",
    "face1.fig.suptitle('Performances of the Metalearners in Simulation Settings 1-6', fontsize=22)\n",
    "face1.set_xlabels(\"sample size\")\n",
    "face1.set_ylabels(\"MSE\")"
   ],
   "metadata": {
    "collapsed": false
   }
  },
  {
   "cell_type": "code",
   "execution_count": null,
   "outputs": [],
   "source": [
    "# save\n",
    "face1.savefig('plots_final/setting_1_6_final.eps', format=\"eps\")"
   ],
   "metadata": {
    "collapsed": false
   }
  },
  {
   "cell_type": "markdown",
   "source": [
    "Settings 7-12"
   ],
   "metadata": {
    "collapsed": false
   }
  },
  {
   "cell_type": "code",
   "execution_count": null,
   "outputs": [],
   "source": [
    "face2 = sns.FacetGrid(data=df_7_12, row='Setting', col='BaseLearner', sharey=\"row\", height=4, aspect=1,\n",
    "                      margin_titles=True)\n",
    "face2.map(sns.lineplot, 'SampleSize', 'MSE', 'MetaLearner', errorbar=None, marker='o', estimator=\"mean\", linewidth=1,\n",
    "          hue_order=col_names, palette=metalearner_colors)\n",
    "face2.add_legend()\n",
    "face2.set(yscale='log')  #symlog\n",
    "face2.fig.subplots_adjust(top=0.95)  # adjust the Figure in rp\n",
    "face2.fig.suptitle('Performances of the Metalearners in Simulation Settings 7-12', fontsize=22)\n",
    "face2.set_xlabels(\"sample size\")\n",
    "face2.set_ylabels(\"MSE\")"
   ],
   "metadata": {
    "collapsed": false
   }
  },
  {
   "cell_type": "code",
   "execution_count": null,
   "outputs": [],
   "source": [
    "# save\n",
    "face2.savefig('plots_final/setting_7_12_final.eps', format=\"eps\")"
   ],
   "metadata": {
    "collapsed": false
   }
  },
  {
   "cell_type": "markdown",
   "source": [
    "Settings 13-18"
   ],
   "metadata": {
    "collapsed": false
   }
  },
  {
   "cell_type": "code",
   "execution_count": null,
   "outputs": [],
   "source": [
    "face3 = sns.FacetGrid(data=df_13_18, row='Setting', col='BaseLearner', sharey=\"row\", height=4, aspect=1,\n",
    "                      margin_titles=True)\n",
    "face3.map(sns.lineplot, 'SampleSize', 'MSE', 'MetaLearner', errorbar=None, marker='o', estimator=\"mean\", linewidth=1,\n",
    "          hue_order=col_names, palette=metalearner_colors)\n",
    "face3.add_legend()\n",
    "face3.set(yscale='log')\n",
    "face3.fig.subplots_adjust(top=0.95)  # adjust the Figure in rp\n",
    "face3.fig.suptitle('Performances of the Metalearners in Simulation Settings 13-18', fontsize=22)\n",
    "face3.set_xlabels(\"sample size\")\n",
    "face3.set_ylabels(\"MSE\")"
   ],
   "metadata": {
    "collapsed": false
   }
  },
  {
   "cell_type": "code",
   "execution_count": null,
   "outputs": [],
   "source": [
    "# save\n",
    "face3.savefig('plots_final/setting_13_18_final.eps', format=\"eps\")"
   ],
   "metadata": {
    "collapsed": false
   }
  },
  {
   "cell_type": "markdown",
   "source": [
    "Settings 19-24"
   ],
   "metadata": {
    "collapsed": false
   }
  },
  {
   "cell_type": "code",
   "execution_count": null,
   "outputs": [],
   "source": [
    "face4 = sns.FacetGrid(data=df_19_24, row='Setting', col='BaseLearner', sharey=\"row\", height=4, aspect=1,\n",
    "                      margin_titles=True)\n",
    "face4.map(sns.lineplot, 'SampleSize', 'MSE', 'MetaLearner', errorbar=None, marker='o', estimator=\"mean\", linewidth=1,\n",
    "          hue_order=col_names, palette=metalearner_colors)\n",
    "face4.add_legend()\n",
    "face4.set(yscale='log')\n",
    "face4.fig.subplots_adjust(top=0.95)  # adjust the Figure in rp\n",
    "face4.fig.suptitle('Performances of the Metalearners in Simulation Settings 19-24', fontsize=22)\n",
    "face4.set_xlabels(\"sample size\")\n",
    "face4.set_ylabels(\"MSE\")"
   ],
   "metadata": {
    "collapsed": false
   }
  },
  {
   "cell_type": "code",
   "execution_count": null,
   "outputs": [],
   "source": [
    "# save\n",
    "face4.savefig('plots_final/setting_19_24_final.eps', format=\"eps\")"
   ],
   "metadata": {
    "collapsed": false
   }
  },
  {
   "cell_type": "markdown",
   "source": [
    "# Plotting Mean Rankings"
   ],
   "metadata": {
    "collapsed": false
   }
  },
  {
   "cell_type": "code",
   "execution_count": null,
   "outputs": [],
   "source": [
    "# get data\n",
    "melted_rf, melted_lasso, melted_nn = make_rank_ready()"
   ],
   "metadata": {
    "collapsed": false
   }
  },
  {
   "cell_type": "markdown",
   "source": [
    "For Random Forests"
   ],
   "metadata": {
    "collapsed": false
   }
  },
  {
   "cell_type": "code",
   "execution_count": null,
   "outputs": [],
   "source": [
    "ax1 = sns.stripplot(data=melted_rf, x='SampleSize', y='MeanRank', hue='MetaLearner', jitter=False)\n",
    "sns.move_legend(ax1, \"upper left\", bbox_to_anchor=(1, 1))\n",
    "ax1.set_title('Mean Ranking of the Metalearners with Random Forests', fontsize=14)\n",
    "ax1.set_ylabel(\"mean ranking\")\n",
    "ax1.set_xlabel(\"sample size\")"
   ],
   "metadata": {
    "collapsed": false
   }
  },
  {
   "cell_type": "code",
   "execution_count": null,
   "outputs": [],
   "source": [
    "# save\n",
    "fig1 = ax1.get_figure()\n",
    "fig1.savefig(\"plots_final/rf_ranks_final.eps\", format='eps', bbox_inches='tight')"
   ],
   "metadata": {
    "collapsed": false
   }
  },
  {
   "cell_type": "markdown",
   "source": [
    "For Lasso-Based Regression"
   ],
   "metadata": {
    "collapsed": false
   }
  },
  {
   "cell_type": "code",
   "execution_count": null,
   "outputs": [],
   "source": [
    "ax2 = sns.stripplot(data=melted_lasso, x='SampleSize', y='MeanRank', hue='MetaLearner', jitter=False)\n",
    "sns.move_legend(ax2, \"upper left\", bbox_to_anchor=(1, 1))\n",
    "ax2.set_title('Mean Ranking of the Metalearners with Lasso-Based Regression', fontsize=14)\n",
    "ax2.set_ylabel(\"mean ranking\")\n",
    "ax2.set_xlabel(\"sample size\")"
   ],
   "metadata": {
    "collapsed": false
   }
  },
  {
   "cell_type": "code",
   "execution_count": null,
   "outputs": [],
   "source": [
    "# save\n",
    "fig2 = ax2.get_figure()\n",
    "fig2.savefig(\"plots_final/lasso_ranks_final.eps\", format='eps', bbox_inches='tight')"
   ],
   "metadata": {
    "collapsed": false
   }
  },
  {
   "cell_type": "markdown",
   "source": [
    "For Neural Networks"
   ],
   "metadata": {
    "collapsed": false
   }
  },
  {
   "cell_type": "code",
   "execution_count": null,
   "outputs": [],
   "source": [
    "ax3 = sns.stripplot(data=melted_nn, x='SampleSize', y='MeanRank', hue='MetaLearner', jitter=False)\n",
    "sns.move_legend(ax3, \"upper left\", bbox_to_anchor=(1, 1))\n",
    "ax3.set_title('Mean Ranking of the Metalearners with Neural Networks', fontsize=14)\n",
    "ax3.set_ylabel(\"mean ranking\")\n",
    "ax3.set_xlabel(\"sample size\")"
   ],
   "metadata": {
    "collapsed": false
   }
  },
  {
   "cell_type": "code",
   "execution_count": null,
   "outputs": [],
   "source": [
    "# save\n",
    "fig3 = ax3.get_figure()\n",
    "fig3.savefig(\"plots_final/nn_ranks_final.eps\", format='eps', bbox_inches='tight')"
   ],
   "metadata": {
    "collapsed": false
   }
  },
  {
   "cell_type": "markdown",
   "source": [],
   "metadata": {
    "collapsed": false
   }
  },
  {
   "cell_type": "markdown",
   "source": [
    "# Plots results for semi-synthetic data (IHDP)"
   ],
   "metadata": {
    "collapsed": false
   }
  },
  {
   "cell_type": "markdown",
   "source": [
    "Boxplots of MSEs"
   ],
   "metadata": {
    "collapsed": false
   }
  },
  {
   "cell_type": "code",
   "execution_count": null,
   "outputs": [],
   "source": [
    "ihdp_all = ihdp_make_plot_ready()"
   ],
   "metadata": {
    "collapsed": false
   }
  },
  {
   "cell_type": "code",
   "execution_count": null,
   "outputs": [],
   "source": [
    "sns.set(font_scale=1.0)\n",
    "face_ihdp = sns.FacetGrid(data=ihdp_all, col='BaseLearner', sharey=True, height=4, aspect=1,\n",
    "                          margin_titles=True)\n",
    "face_ihdp.map(sns.boxplot, 'MetaLearner', 'MSE', orient='v', order=columns, palette=metalearners_colors,\n",
    "              fliersize=0.5, linewidth=1, flierprops={\"marker\": \".\"}, )\n",
    "face_ihdp.set(yscale='log')\n",
    "face_ihdp.fig.subplots_adjust(top=0.8)  # adjust the Figure in rp\n",
    "face_ihdp.fig.suptitle('Boxplots of the MSEs for the Semi-Synthetic Experiment', fontsize=16)\n"
   ],
   "metadata": {
    "collapsed": false
   }
  },
  {
   "cell_type": "code",
   "execution_count": null,
   "outputs": [],
   "source": [
    "face_ihdp.savefig('plots_final/ihdp_final.eps', format='eps')"
   ],
   "metadata": {
    "collapsed": false
   }
  },
  {
   "cell_type": "markdown",
   "source": [
    "Mean Rankings"
   ],
   "metadata": {
    "collapsed": false
   }
  },
  {
   "cell_type": "code",
   "execution_count": null,
   "outputs": [],
   "source": [
    "meanranks_ihdp = ihdp_make_rank_ready()"
   ],
   "metadata": {
    "collapsed": false
   }
  },
  {
   "cell_type": "code",
   "execution_count": null,
   "outputs": [],
   "source": [
    "ax5 = sns.stripplot(meanranks_ihdp, x='BaseLearner', y='MeanRank', jitter=False, hue='MetaLearner', order=order_x)\n",
    "ax5.set_title('Mean Rankings of the Metalearners in the Semi-Synthetic Experiment', fontsize=13)\n",
    "ax5.set_ylabel(\"mean ranking\")\n",
    "sns.move_legend(ax5, \"upper left\", bbox_to_anchor=(1, 1))"
   ],
   "metadata": {
    "collapsed": false
   }
  },
  {
   "cell_type": "code",
   "execution_count": null,
   "outputs": [],
   "source": [
    "fig5 = ax5.get_figure()\n",
    "fig5.savefig(\"plots_final/ranks_ihdp_final.eps\", format='eps', bbox_inches='tight')"
   ],
   "metadata": {
    "collapsed": false
   }
  },
  {
   "cell_type": "code",
   "execution_count": null,
   "outputs": [],
   "source": [],
   "metadata": {
    "collapsed": false
   }
  }
 ],
 "metadata": {
  "kernelspec": {
   "display_name": "Python 3",
   "language": "python",
   "name": "python3"
  },
  "language_info": {
   "codemirror_mode": {
    "name": "ipython",
    "version": 2
   },
   "file_extension": ".py",
   "mimetype": "text/x-python",
   "name": "python",
   "nbconvert_exporter": "python",
   "pygments_lexer": "ipython2",
   "version": "2.7.6"
  }
 },
 "nbformat": 4,
 "nbformat_minor": 0
}
