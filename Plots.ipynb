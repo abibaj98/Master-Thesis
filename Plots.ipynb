{
 "cells": [
  {
   "cell_type": "code",
   "execution_count": null,
   "metadata": {
    "collapsed": true
   },
   "outputs": [],
   "source": [
    "import jsonpickle\n",
    "import pandas as pd\n",
    "import seaborn as sns\n",
    "import numpy as np"
   ]
  },
  {
   "cell_type": "markdown",
   "source": [
    "HELPER FUNCTIONS"
   ],
   "metadata": {
    "collapsed": false
   }
  },
  {
   "cell_type": "code",
   "execution_count": null,
   "outputs": [],
   "source": [
    "# helper function to read json file\n",
    "def open_json(name):\n",
    "    f = open(name, 'r')\n",
    "    json_str = f.read()\n",
    "    file = jsonpickle.decode(json_str)\n",
    "    return file\n"
   ],
   "metadata": {
    "collapsed": false
   }
  },
  {
   "cell_type": "code",
   "execution_count": null,
   "outputs": [],
   "source": [
    "def make_plot_ready(data_set, setting):\n",
    "    # make them dataframes\n",
    "    df1 = pd.DataFrame(data_set[0])\n",
    "    df2 = pd.DataFrame(data_set[1])\n",
    "    df3 = pd.DataFrame(data_set[2])\n",
    "    # add metalearner names\n",
    "    column_names = ['T-Learner', 'S-Learner', 'X-Learner', 'R-Learner', 'DR-Learner', 'RA-Learner', 'PW-Learner',\n",
    "                    'U-Learner',\n",
    "                    'SampleSize']\n",
    "    df1.columns = column_names\n",
    "    df2.columns = column_names\n",
    "    df3.columns = column_names\n",
    "    # wide format -> long format\n",
    "    df1 = df1.melt('SampleSize', var_name='MetaLearner', value_name='MSE')\n",
    "    df2 = df2.melt('SampleSize', var_name='MetaLearner', value_name='MSE')\n",
    "    df3 = df3.melt('SampleSize', var_name='MetaLearner', value_name='MSE')\n",
    "    # add new column indicating baselearner\n",
    "    df1['BaseLearner'] = 'RandomForest'\n",
    "    df2['BaseLearner'] = 'LinearModel'\n",
    "    df3['BaseLearner'] = 'NeuralNetwork'\n",
    "    # concatenate\n",
    "    df_1 = pd.concat([df1, df2, df3], ignore_index=True)\n",
    "    # column setting\n",
    "    df_1['Setting'] = setting\n",
    "    # using dictionary to convert specific columns\n",
    "    dictionary = {'SampleSize': int,\n",
    "                  'MetaLearner': 'category',\n",
    "                  'Setting': 'category'\n",
    "                  }\n",
    "    df_1 = df_1.astype(dictionary)\n",
    "    return df_1"
   ],
   "metadata": {
    "collapsed": false
   }
  },
  {
   "cell_type": "code",
   "execution_count": null,
   "outputs": [],
   "source": [
    "# all settings\n",
    "d1 = {}\n",
    "d2 = {}\n",
    "for i in range(1, 19):\n",
    "    file_name = f'/Users/arberimbibaj/final_results/results_simulated_setting{i}_10run(s).json'\n",
    "    d1[\"data{0}\".format(i)] = open_json(file_name)\n",
    "    d2[\"df_{0}\".format(i)] = make_plot_ready(d1[\"data{0}\".format(i)], i)"
   ],
   "metadata": {
    "collapsed": false
   }
  },
  {
   "cell_type": "code",
   "execution_count": null,
   "outputs": [],
   "source": [
    "# concat setting 1-6, 7-12, 13-18\n",
    "df_1_6 = pd.concat([d2['df_1'], d2['df_2'], d2['df_3'], d2['df_4'], d2['df_5'], d2['df_6']])\n",
    "df_7_12 = pd.concat([d2['df_7'], d2['df_8'], d2['df_9'], d2['df_10'], d2['df_11'], d2['df_12']])\n",
    "df_13_18 = pd.concat([d2['df_13'], d2['df_14'], d2['df_15'], d2['df_16'], d2['df_17'], d2['df_18']])"
   ],
   "metadata": {
    "collapsed": false
   }
  },
  {
   "cell_type": "markdown",
   "source": [
    "PLOT"
   ],
   "metadata": {
    "collapsed": false
   }
  },
  {
   "cell_type": "code",
   "execution_count": null,
   "outputs": [],
   "source": [
    "col_names = ['T-Learner', 'S-Learner', 'X-Learner', 'R-Learner', 'DR-Learner', 'RA-Learner', 'PW-Learner', 'U-Learner']"
   ],
   "metadata": {
    "collapsed": false
   }
  },
  {
   "cell_type": "code",
   "execution_count": null,
   "outputs": [],
   "source": [
    "sns.set_style('whitegrid')"
   ],
   "metadata": {
    "collapsed": false
   }
  },
  {
   "cell_type": "markdown",
   "source": [
    "Plotting Settings 1-6"
   ],
   "metadata": {
    "collapsed": false
   }
  },
  {
   "cell_type": "code",
   "execution_count": null,
   "outputs": [],
   "source": [
    "face1 = sns.FacetGrid(data=df_1_6, row='Setting', col='BaseLearner', sharey=\"row\", height=3, aspect=1,\n",
    "                      margin_titles=True)\n",
    "face1.map(sns.lineplot, 'SampleSize', 'MSE', 'MetaLearner', errorbar=None, marker='o', estimator='mean', linewidth=1,\n",
    "          hue_order=col_names)\n",
    "face1.add_legend()\n",
    "face1.set(yscale='log')"
   ],
   "metadata": {
    "collapsed": false
   }
  },
  {
   "cell_type": "code",
   "execution_count": null,
   "outputs": [],
   "source": [
    "face1.savefig('setting_1_6.eps', format=\"eps\")"
   ],
   "metadata": {
    "collapsed": false
   }
  },
  {
   "cell_type": "markdown",
   "source": [
    "Plotting Settings 7-12"
   ],
   "metadata": {
    "collapsed": false
   }
  },
  {
   "cell_type": "code",
   "execution_count": null,
   "outputs": [],
   "source": [
    "face2 = sns.FacetGrid(data=df_7_12, row='Setting', col='BaseLearner', sharey=\"row\", height=3, aspect=1,\n",
    "                      margin_titles=True)\n",
    "face2.map(sns.lineplot, 'SampleSize', 'MSE', 'MetaLearner', errorbar=None, marker='o', estimator='mean', linewidth=1,\n",
    "          hue_order=col_names)\n",
    "face2.add_legend()\n",
    "face2.set(yscale='log')"
   ],
   "metadata": {
    "collapsed": false
   }
  },
  {
   "cell_type": "code",
   "execution_count": null,
   "outputs": [],
   "source": [
    "face2.savefig('setting_7_12.eps', format=\"eps\")"
   ],
   "metadata": {
    "collapsed": false
   }
  },
  {
   "cell_type": "markdown",
   "source": [
    "Plotting Settings 13-18"
   ],
   "metadata": {
    "collapsed": false
   }
  },
  {
   "cell_type": "code",
   "execution_count": null,
   "outputs": [],
   "source": [
    "face3 = sns.FacetGrid(data=df_13_18, row='Setting', col='BaseLearner', sharey=\"row\", height=3, aspect=1,\n",
    "                      margin_titles=True)\n",
    "face3.map(sns.lineplot, 'SampleSize', 'MSE', 'MetaLearner', errorbar=None, marker='o', estimator='mean', linewidth=1,\n",
    "          hue_order=col_names)\n",
    "face3.add_legend()\n",
    "face3.set(yscale='log')"
   ],
   "metadata": {
    "collapsed": false
   }
  },
  {
   "cell_type": "code",
   "execution_count": null,
   "outputs": [],
   "source": [
    "face3.savefig('setting_13_18.eps', format=\"eps\")"
   ],
   "metadata": {
    "collapsed": false
   }
  },
  {
   "cell_type": "markdown",
   "source": [
    "IHDP"
   ],
   "metadata": {
    "collapsed": false
   }
  },
  {
   "cell_type": "code",
   "execution_count": null,
   "outputs": [],
   "source": [
    "ihdp = open_json(\"/Users/arberimbibaj/final_results/results_ihdp_100run(s).json\")"
   ],
   "metadata": {
    "collapsed": false
   }
  },
  {
   "cell_type": "code",
   "execution_count": null,
   "outputs": [],
   "source": [
    "ihdp_rf = ihdp[0]\n",
    "ihdp_lm = ihdp[1]\n",
    "ihdp_nn = ihdp[2]"
   ],
   "metadata": {
    "collapsed": false
   }
  },
  {
   "cell_type": "code",
   "execution_count": null,
   "outputs": [],
   "source": [
    "ihdp_rf = pd.DataFrame(ihdp_rf)\n",
    "ihdp_lm = pd.DataFrame(ihdp_lm)\n",
    "ihdp_nn = pd.DataFrame(ihdp_nn)"
   ],
   "metadata": {
    "collapsed": false
   }
  },
  {
   "cell_type": "code",
   "execution_count": null,
   "outputs": [],
   "source": [
    "column_names = ['T-Learner', 'S-Learner', 'X-Learner', 'R-Learner', 'DR-Learner', 'RA-Learner', 'PW-Learner',\n",
    "                'U-Learner']\n",
    "ihdp_rf.columns = column_names\n",
    "ihdp_lm.columns = column_names\n",
    "ihdp_nn.columns = column_names"
   ],
   "metadata": {
    "collapsed": false
   }
  },
  {
   "cell_type": "code",
   "execution_count": null,
   "outputs": [],
   "source": [
    "ihdp_rf = ihdp_rf.melt(var_name='MetaLearner', value_name='MSE')\n",
    "ihdp_lm = ihdp_lm.melt(var_name='MetaLearner', value_name='MSE')\n",
    "ihdp_nn = ihdp_nn.melt(var_name='MetaLearner', value_name='MSE')"
   ],
   "metadata": {
    "collapsed": false
   }
  },
  {
   "cell_type": "code",
   "execution_count": null,
   "outputs": [],
   "source": [
    "ihdp_rf['BaseLearner'] = 'RandomForest'\n",
    "ihdp_lm['BaseLearner'] = 'LinearModel'\n",
    "ihdp_nn['BaseLearner'] = 'NeuralNetwork'"
   ],
   "metadata": {
    "collapsed": false
   }
  },
  {
   "cell_type": "code",
   "execution_count": null,
   "outputs": [],
   "source": [
    "# concatenate\n",
    "ihdp_all = pd.concat([ihdp_rf, ihdp_lm, ihdp_nn])"
   ],
   "metadata": {
    "collapsed": false
   }
  },
  {
   "cell_type": "code",
   "execution_count": null,
   "outputs": [],
   "source": [
    "metalearner_colors = {\n",
    "    'T-Learner': 'red',\n",
    "    'S-Learner': 'orange',\n",
    "    'X-Learner': 'green',\n",
    "    'R-Learner': 'pink',\n",
    "    'DR-Learner': 'aqua',\n",
    "    'RA-Learner': 'gold',\n",
    "    'PW-Learner': 'gray',\n",
    "    'U-Learner': 'black',\n",
    "    # Add more MetaLearner-color mappings as needed\n",
    "}"
   ],
   "metadata": {
    "collapsed": false
   }
  },
  {
   "cell_type": "code",
   "execution_count": null,
   "outputs": [],
   "source": [
    "face_ihdp = sns.FacetGrid(data=ihdp_all, col='BaseLearner', sharey=\"col\", height=3, aspect=1,\n",
    "                          margin_titles=True)\n",
    "face_ihdp.map(sns.boxplot, 'MetaLearner', 'MSE', orient='v', order=column_names, palette=metalearner_colors)\n",
    "face_ihdp.set(yscale='log')"
   ],
   "metadata": {
    "collapsed": false
   }
  },
  {
   "cell_type": "code",
   "execution_count": null,
   "outputs": [],
   "source": [
    "face_ihdp.savefig('ihdp.eps', format='eps')"
   ],
   "metadata": {
    "collapsed": false
   }
  }
 ],
 "metadata": {
  "kernelspec": {
   "display_name": "Python 3",
   "language": "python",
   "name": "python3"
  },
  "language_info": {
   "codemirror_mode": {
    "name": "ipython",
    "version": 2
   },
   "file_extension": ".py",
   "mimetype": "text/x-python",
   "name": "python",
   "nbconvert_exporter": "python",
   "pygments_lexer": "ipython2",
   "version": "2.7.6"
  }
 },
 "nbformat": 4,
 "nbformat_minor": 0
}
