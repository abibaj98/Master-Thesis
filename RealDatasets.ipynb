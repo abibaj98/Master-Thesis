{
 "cells": [
  {
   "cell_type": "code",
   "execution_count": 1,
   "metadata": {
    "collapsed": true,
    "ExecuteTime": {
     "end_time": "2023-09-10T23:30:44.094449Z",
     "start_time": "2023-09-10T23:30:44.066973Z"
    }
   },
   "outputs": [],
   "source": [
    "# import packages\n",
    "import numpy as np\n",
    "from numpy import load\n",
    "import pandas as pd"
   ]
  },
  {
   "cell_type": "markdown",
   "source": [
    "# IHDP Dataset (from Fredjo.com)"
   ],
   "metadata": {
    "collapsed": false
   }
  },
  {
   "cell_type": "code",
   "execution_count": 2,
   "outputs": [
    {
     "ename": "FileNotFoundError",
     "evalue": "[Errno 2] No such file or directory: '/Users/arberimbibaj/Documents/Master Thesis ETH/DataSets /IHDP/ihdp_npci_1-100.train.npz'",
     "output_type": "error",
     "traceback": [
      "\u001B[0;31m---------------------------------------------------------------------------\u001B[0m",
      "\u001B[0;31mFileNotFoundError\u001B[0m                         Traceback (most recent call last)",
      "Cell \u001B[0;32mIn[2], line 2\u001B[0m\n\u001B[1;32m      1\u001B[0m \u001B[38;5;66;03m# 100 realisations of IHDP train set (672 units)\u001B[39;00m\n\u001B[0;32m----> 2\u001B[0m ihdp_train \u001B[38;5;241m=\u001B[39m \u001B[43mload\u001B[49m\u001B[43m(\u001B[49m\u001B[38;5;124;43m\"\u001B[39;49m\u001B[38;5;124;43m/Users/arberimbibaj/Documents/Master Thesis ETH/DataSets /IHDP/ihdp_npci_1-100.train.npz\u001B[39;49m\u001B[38;5;124;43m\"\u001B[39;49m\u001B[43m)\u001B[49m\n\u001B[1;32m      3\u001B[0m files_train \u001B[38;5;241m=\u001B[39m ihdp_train\u001B[38;5;241m.\u001B[39mfiles\n\u001B[1;32m      4\u001B[0m files_train\n",
      "File \u001B[0;32m~/anaconda3/lib/python3.10/site-packages/numpy/lib/npyio.py:405\u001B[0m, in \u001B[0;36mload\u001B[0;34m(file, mmap_mode, allow_pickle, fix_imports, encoding, max_header_size)\u001B[0m\n\u001B[1;32m    403\u001B[0m     own_fid \u001B[38;5;241m=\u001B[39m \u001B[38;5;28;01mFalse\u001B[39;00m\n\u001B[1;32m    404\u001B[0m \u001B[38;5;28;01melse\u001B[39;00m:\n\u001B[0;32m--> 405\u001B[0m     fid \u001B[38;5;241m=\u001B[39m stack\u001B[38;5;241m.\u001B[39menter_context(\u001B[38;5;28;43mopen\u001B[39;49m\u001B[43m(\u001B[49m\u001B[43mos_fspath\u001B[49m\u001B[43m(\u001B[49m\u001B[43mfile\u001B[49m\u001B[43m)\u001B[49m\u001B[43m,\u001B[49m\u001B[43m \u001B[49m\u001B[38;5;124;43m\"\u001B[39;49m\u001B[38;5;124;43mrb\u001B[39;49m\u001B[38;5;124;43m\"\u001B[39;49m\u001B[43m)\u001B[49m)\n\u001B[1;32m    406\u001B[0m     own_fid \u001B[38;5;241m=\u001B[39m \u001B[38;5;28;01mTrue\u001B[39;00m\n\u001B[1;32m    408\u001B[0m \u001B[38;5;66;03m# Code to distinguish from NumPy binary files and pickles.\u001B[39;00m\n",
      "\u001B[0;31mFileNotFoundError\u001B[0m: [Errno 2] No such file or directory: '/Users/arberimbibaj/Documents/Master Thesis ETH/DataSets /IHDP/ihdp_npci_1-100.train.npz'"
     ]
    }
   ],
   "source": [
    "# 100 realisations of IHDP train set (672 units)\n",
    "ihdp_train = load(\"/Users/arberimbibaj/Documents/Master Thesis ETH/DataSets /IHDP/ihdp_npci_1-100.train.npz\")\n",
    "files_train = ihdp_train.files\n",
    "files_train"
   ],
   "metadata": {
    "collapsed": false,
    "ExecuteTime": {
     "end_time": "2023-09-10T23:30:46.144193Z",
     "start_time": "2023-09-10T23:30:45.825124Z"
    }
   }
  },
  {
   "cell_type": "code",
   "execution_count": null,
   "outputs": [],
   "source": [
    "# 100 realisations of IHDP test set (72 units)\n",
    "ihdp_test = load('/Users/arberimbibaj/Downloads/ihdp_npci_1-100.test.npz')\n",
    "files_test = ihdp_test.files\n",
    "files_test"
   ],
   "metadata": {
    "collapsed": false
   }
  },
  {
   "cell_type": "markdown",
   "source": [
    "make it the same as synthetic data"
   ],
   "metadata": {
    "collapsed": false
   }
  },
  {
   "cell_type": "code",
   "execution_count": null,
   "outputs": [],
   "source": [
    "# This will be all the \"datasets\", i.e. all simulation setups * simulation runs\n",
    "ihdp_train_processed = [[] for _ in range(100)]\n",
    "ihdp_train_x = [[] for _ in range(100)]"
   ],
   "metadata": {
    "collapsed": false
   }
  },
  {
   "cell_type": "code",
   "execution_count": null,
   "outputs": [],
   "source": [
    "# y_factual, x, treatment, tau\n",
    "ihdp_train_tau = ihdp_train['mu1'] - ihdp_train['mu0']\n",
    "ihdp_train_tau"
   ],
   "metadata": {
    "collapsed": false
   }
  },
  {
   "cell_type": "code",
   "execution_count": null,
   "outputs": [],
   "source": [
    "# pre-process x --> make it a list, each entry being one realisation, containing all features\n",
    "for i in range(100):\n",
    "    realisation = np.zeros(shape=(672,25))\n",
    "    for n in range(672):\n",
    "        realisation[n,:] = ihdp_train['x'][n][:,i][:,np.newaxis].T\n",
    "    ihdp_train_x[i] = realisation"
   ],
   "metadata": {
    "collapsed": false
   }
  },
  {
   "cell_type": "code",
   "execution_count": null,
   "outputs": [],
   "source": [
    "ihdp_train_x[0]"
   ],
   "metadata": {
    "collapsed": false
   }
  },
  {
   "cell_type": "code",
   "execution_count": null,
   "outputs": [],
   "source": [
    "# concatenate [y, x, t, tau]\n",
    "for i in range(100):\n",
    "    temporary_set = np.concatenate((np.expand_dims(ihdp_train['yf'][:, i], axis=1)\n",
    ", ihdp_train_x[i], np.expand_dims(ihdp_train['t'][:,i], axis=1), np.expand_dims(ihdp_train_tau[:,i], axis=1)), axis=1)\n",
    "    ihdp_train_processed[i] = temporary_set\n",
    "\n",
    "ihdp_train_processed"
   ],
   "metadata": {
    "collapsed": false
   }
  },
  {
   "cell_type": "code",
   "execution_count": null,
   "outputs": [],
   "source": [
    "ihdp_train_processed[0]"
   ],
   "metadata": {
    "collapsed": false
   }
  },
  {
   "cell_type": "code",
   "execution_count": null,
   "outputs": [],
   "source": [
    "# save the proscessed training data\n",
    "np.save('/Users/arberimbibaj/Documents/Master Thesis ETH/DataSets /IHDP',ihdp_train_processed)"
   ],
   "metadata": {
    "collapsed": false
   }
  },
  {
   "cell_type": "code",
   "execution_count": null,
   "outputs": [],
   "source": [
    "# load check\n",
    "train = load('/Users/arberimbibaj/Documents/Master Thesis ETH/DataSets /IHDP/ihdp_train_processed.npy')\n",
    "train[0]"
   ],
   "metadata": {
    "collapsed": false
   }
  },
  {
   "cell_type": "code",
   "execution_count": null,
   "outputs": [],
   "source": [
    "np.corrcoef(np.transpose(train[0]))"
   ],
   "metadata": {
    "collapsed": false
   }
  },
  {
   "cell_type": "code",
   "execution_count": null,
   "outputs": [],
   "source": [
    "train[2]"
   ],
   "metadata": {
    "collapsed": false
   }
  },
  {
   "cell_type": "markdown",
   "source": [
    "# same with test set"
   ],
   "metadata": {
    "collapsed": false
   }
  },
  {
   "cell_type": "code",
   "execution_count": null,
   "outputs": [],
   "source": [
    "# This will be all the \"datasets\", i.e. all simulation setups * simulation runs\n",
    "ihdp_test_processed = [[] for _ in range(100)]\n",
    "ihdp_test_x = [[] for _ in range(100)]"
   ],
   "metadata": {
    "collapsed": false
   }
  },
  {
   "cell_type": "code",
   "execution_count": null,
   "outputs": [],
   "source": [
    "# y_factual, x, treatment, tau\n",
    "ihdp_test_tau = ihdp_test['mu1'] - ihdp_test['mu0']\n",
    "ihdp_test_tau"
   ],
   "metadata": {
    "collapsed": false
   }
  },
  {
   "cell_type": "code",
   "execution_count": null,
   "outputs": [],
   "source": [
    "# pre-process x --> make it a list, each entry beeing one realisation, containing all features\n",
    "for i in range(100):\n",
    "    realisation = np.zeros(shape=(75,25))\n",
    "    for n in range(75):\n",
    "        realisation[n,:] = ihdp_test['x'][n][:,i][:,np.newaxis].T\n",
    "    ihdp_test_x[i] = realisation"
   ],
   "metadata": {
    "collapsed": false
   }
  },
  {
   "cell_type": "code",
   "execution_count": null,
   "outputs": [],
   "source": [
    "# concatenate [y, x, t, tau]\n",
    "for i in range(100):\n",
    "    temporary_set = np.concatenate((np.expand_dims(ihdp_test['yf'][:, i], axis=1)\n",
    ", ihdp_test_x[i], np.expand_dims(ihdp_test['t'][:,i], axis=1), np.expand_dims(ihdp_test_tau[:,i], axis=1)), axis=1)\n",
    "    ihdp_test_processed[i] = temporary_set\n",
    "\n",
    "ihdp_test_processed[0]"
   ],
   "metadata": {
    "collapsed": false
   }
  },
  {
   "cell_type": "code",
   "execution_count": null,
   "outputs": [],
   "source": [
    "check_2 = np.load(\"/Users/arberimbibaj/PycharmProjects/Master-Thesis/ihdp_test_processed.npy\")"
   ],
   "metadata": {
    "collapsed": false
   }
  },
  {
   "cell_type": "code",
   "execution_count": null,
   "outputs": [],
   "source": [
    "# save the processed testing data\n",
    "np.save('/Users/arberimbibaj/Documents/Master Thesis ETH/DataSets /IHDP/ihdp_test_processed',ihdp_test_processed)"
   ],
   "metadata": {
    "collapsed": false
   }
  },
  {
   "cell_type": "code",
   "execution_count": null,
   "outputs": [],
   "source": [
    "# load check\n",
    "test = load('/Users/arberimbibaj/Documents/Master Thesis ETH/DataSets /IHDP/ihdp_test_processed.npy')\n",
    "pd.DataFrame(test[0][:,27]).describe() # the taus are very differently distributed over the realisations"
   ],
   "metadata": {
    "collapsed": false
   }
  },
  {
   "cell_type": "code",
   "execution_count": null,
   "outputs": [],
   "source": [
    "test[0]"
   ],
   "metadata": {
    "collapsed": false
   }
  },
  {
   "cell_type": "code",
   "execution_count": 6,
   "outputs": [],
   "source": [
    "real_1 = load(\"ihdp_test_processed.npy\")\n",
    "check_1 = load(\"check_2.npy\")"
   ],
   "metadata": {
    "collapsed": false,
    "ExecuteTime": {
     "end_time": "2023-09-10T23:32:44.889744Z",
     "start_time": "2023-09-10T23:32:44.881044Z"
    }
   }
  },
  {
   "cell_type": "code",
   "execution_count": null,
   "outputs": [],
   "source": [],
   "metadata": {
    "collapsed": false
   }
  }
 ],
 "metadata": {
  "kernelspec": {
   "display_name": "Python 3",
   "language": "python",
   "name": "python3"
  },
  "language_info": {
   "codemirror_mode": {
    "name": "ipython",
    "version": 2
   },
   "file_extension": ".py",
   "mimetype": "text/x-python",
   "name": "python",
   "nbconvert_exporter": "python",
   "pygments_lexer": "ipython2",
   "version": "2.7.6"
  }
 },
 "nbformat": 4,
 "nbformat_minor": 0
}
