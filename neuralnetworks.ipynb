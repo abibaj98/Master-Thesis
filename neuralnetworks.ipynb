{
 "cells": [
  {
   "cell_type": "code",
   "execution_count": 1,
   "outputs": [],
   "source": [
    "import tensorflow as tf\n",
    "from tensorflow import keras\n",
    "from tensorflow.keras import layers\n",
    "from tensorflow.keras import regularizers\n",
    "from DefaultParameters import *"
   ],
   "metadata": {
    "collapsed": false,
    "ExecuteTime": {
     "end_time": "2023-07-17T15:27:59.047363Z",
     "start_time": "2023-07-17T15:27:57.336681Z"
    }
   }
  },
  {
   "cell_type": "code",
   "execution_count": 2,
   "outputs": [],
   "source": [
    "tf.keras.backend.set_floatx('float64')"
   ],
   "metadata": {
    "collapsed": false,
    "ExecuteTime": {
     "end_time": "2023-07-17T15:27:59.050043Z",
     "start_time": "2023-07-17T15:27:59.048509Z"
    }
   }
  },
  {
   "cell_type": "code",
   "execution_count": 3,
   "outputs": [],
   "source": [
    "# seed\n",
    "tf.keras.utils.set_random_seed(8953)"
   ],
   "metadata": {
    "collapsed": false,
    "ExecuteTime": {
     "end_time": "2023-07-17T15:27:59.052735Z",
     "start_time": "2023-07-17T15:27:59.050799Z"
    }
   }
  },
  {
   "cell_type": "code",
   "execution_count": 4,
   "outputs": [],
   "source": [
    "# 3 layers with 200 units (elu activation), 2 layers with 100 units (elu activations), 1 output layer (linear\n",
    "# activation)\n",
    "model_25 = keras.Sequential([\n",
    "    keras.Input(shape=(25,)),\n",
    "    layers.Dense(units=200, activation=\"relu\", name=\"layer1\", kernel_regularizer=regularizers.L2(1e-4)),\n",
    "    layers.Dense(units=200, activation=\"relu\", name=\"layer2\", kernel_regularizer=regularizers.L2(1e-4)),\n",
    "    layers.Dense(units=200, activation=\"relu\", name=\"layer3\", kernel_regularizer=regularizers.L2(1e-4)),\n",
    "    layers.Dense(units=100, activation=\"relu\", name=\"layer4\", kernel_regularizer=regularizers.L2(1e-4)),\n",
    "    layers.Dense(units=100, activation=\"relu\", name=\"layer5\", kernel_regularizer=regularizers.L2(1e-4)),\n",
    "    layers.Dense(units=1, activation=\"linear\", name=\"layer6\", kernel_regularizer=regularizers.L2(1e-4)),\n",
    "\n",
    "], name=\"model_25\")"
   ],
   "metadata": {
    "collapsed": false,
    "ExecuteTime": {
     "end_time": "2023-07-17T15:27:59.088147Z",
     "start_time": "2023-07-17T15:27:59.054019Z"
    }
   }
  },
  {
   "cell_type": "code",
   "execution_count": 5,
   "outputs": [],
   "source": [
    "# compile the model\n",
    "model_25.compile(\n",
    "    optimizer=keras.optimizers.legacy.Adam(learning_rate=LEARNING_RATE),  # Optimizer\n",
    "    # Loss function to minimize\n",
    "    loss=keras.losses.MeanSquaredError(),\n",
    "    # List of metrics to monitor\n",
    "    metrics=[keras.metrics.MeanSquaredError()],\n",
    "    # weighted metrics\n",
    "    weighted_metrics=[]\n",
    ")"
   ],
   "metadata": {
    "collapsed": false,
    "ExecuteTime": {
     "end_time": "2023-07-17T15:27:59.095587Z",
     "start_time": "2023-07-17T15:27:59.090911Z"
    }
   }
  },
  {
   "cell_type": "code",
   "execution_count": 6,
   "outputs": [
    {
     "name": "stdout",
     "output_type": "stream",
     "text": [
      "INFO:tensorflow:Assets written to: model_25/assets\n"
     ]
    },
    {
     "name": "stderr",
     "output_type": "stream",
     "text": [
      "INFO:tensorflow:Assets written to: model_25/assets\n"
     ]
    }
   ],
   "source": [
    "# save the model\n",
    "model_25.save('model_25')"
   ],
   "metadata": {
    "collapsed": false,
    "ExecuteTime": {
     "end_time": "2023-07-17T15:27:59.343449Z",
     "start_time": "2023-07-17T15:27:59.099514Z"
    }
   }
  },
  {
   "cell_type": "code",
   "execution_count": 7,
   "outputs": [],
   "source": [
    "tf.keras.utils.set_random_seed(8953)"
   ],
   "metadata": {
    "collapsed": false,
    "ExecuteTime": {
     "end_time": "2023-07-17T15:27:59.346497Z",
     "start_time": "2023-07-17T15:27:59.345122Z"
    }
   }
  },
  {
   "cell_type": "code",
   "execution_count": 8,
   "outputs": [],
   "source": [
    "''''''' For T Learner Only '''''''\n",
    "\n",
    "# 3 layers with 200 units (elu activation), 2 layers with 100 units (elu activations), 1 output layer (linear activation)\n",
    "model_26 = keras.Sequential([\n",
    "    keras.Input(shape=(26,)),\n",
    "    layers.Dense(units=200, activation=\"relu\", name=\"layer1\", kernel_regularizer=regularizers.L2(1e-4)),\n",
    "    layers.Dense(units=200, activation=\"relu\", name=\"layer2\", kernel_regularizer=regularizers.L2(1e-4)),\n",
    "    layers.Dense(units=200, activation=\"relu\", name=\"layer3\", kernel_regularizer=regularizers.L2(1e-4)),\n",
    "    layers.Dense(units=100, activation=\"relu\", name=\"layer4\", kernel_regularizer=regularizers.L2(1e-4)),\n",
    "    layers.Dense(units=100, activation=\"relu\", name=\"layer5\", kernel_regularizer=regularizers.L2(1e-4)),\n",
    "    layers.Dense(units=1, activation=\"linear\", name=\"layer6\", kernel_regularizer=regularizers.L2(1e-4)),\n",
    "\n",
    "], name=\"model_26\")"
   ],
   "metadata": {
    "collapsed": false,
    "ExecuteTime": {
     "end_time": "2023-07-17T15:27:59.375191Z",
     "start_time": "2023-07-17T15:27:59.350517Z"
    }
   }
  },
  {
   "cell_type": "code",
   "execution_count": 9,
   "outputs": [],
   "source": [
    "# compile the model\n",
    "model_26.compile(\n",
    "    optimizer=keras.optimizers.legacy.Adam(learning_rate=LEARNING_RATE),  # Optimizer\n",
    "    # Loss function to minimize\n",
    "    loss=keras.losses.MeanSquaredError(),\n",
    "    # List of metrics to monitor\n",
    "    metrics=[keras.metrics.MeanSquaredError()],\n",
    "    # weighted metrics\n",
    "    weighted_metrics=[]\n",
    ")"
   ],
   "metadata": {
    "collapsed": false,
    "ExecuteTime": {
     "end_time": "2023-07-17T15:27:59.377459Z",
     "start_time": "2023-07-17T15:27:59.373578Z"
    }
   }
  },
  {
   "cell_type": "code",
   "execution_count": 10,
   "outputs": [
    {
     "name": "stdout",
     "output_type": "stream",
     "text": [
      "INFO:tensorflow:Assets written to: model_26/assets\n"
     ]
    },
    {
     "name": "stderr",
     "output_type": "stream",
     "text": [
      "INFO:tensorflow:Assets written to: model_26/assets\n"
     ]
    }
   ],
   "source": [
    "# save the model\n",
    "model_26.save('model_26')"
   ],
   "metadata": {
    "collapsed": false,
    "ExecuteTime": {
     "end_time": "2023-07-17T15:27:59.568517Z",
     "start_time": "2023-07-17T15:27:59.379021Z"
    }
   }
  },
  {
   "cell_type": "code",
   "execution_count": 26,
   "outputs": [],
   "source": [
    "tf.keras.utils.set_random_seed(8953)"
   ],
   "metadata": {
    "collapsed": false,
    "ExecuteTime": {
     "end_time": "2023-07-17T15:54:55.043095Z",
     "start_time": "2023-07-17T15:54:55.036861Z"
    }
   }
  },
  {
   "cell_type": "code",
   "execution_count": 27,
   "outputs": [],
   "source": [
    "''''''' For propensity score '''''''\n",
    "\n",
    "model_ex = keras.Sequential([\n",
    "    keras.Input(shape=(25,)),\n",
    "    layers.Dense(units=200, activation=\"relu\", name=\"layer1\", kernel_regularizer=regularizers.L2(0)),\n",
    "    layers.Dense(units=200, activation=\"relu\", name=\"layer2\", kernel_regularizer=regularizers.L2(0)),\n",
    "    layers.Dense(units=200, activation=\"relu\", name=\"layer3\", kernel_regularizer=regularizers.L2(0)),\n",
    "    layers.Dense(units=100, activation=\"relu\", name=\"layer4\", kernel_regularizer=regularizers.L2(0)),\n",
    "    layers.Dense(units=100, activation=\"relu\", name=\"layer5\", kernel_regularizer=regularizers.L2(0)),\n",
    "    layers.Dense(units=1, activation=\"linear\", name=\"layer6\", kernel_regularizer=regularizers.L2(0)),\n",
    "\n",
    "], name=\"model_ex\")"
   ],
   "metadata": {
    "collapsed": false,
    "ExecuteTime": {
     "end_time": "2023-07-17T15:54:55.261426Z",
     "start_time": "2023-07-17T15:54:55.231951Z"
    }
   }
  },
  {
   "cell_type": "code",
   "execution_count": 28,
   "outputs": [],
   "source": [
    "# compile the model\n",
    "model_ex.compile(\n",
    "    optimizer=keras.optimizers.legacy.Adam(learning_rate=LEARNING_RATE),  # Optimizer\n",
    "    # Loss function to minimize\n",
    "    loss=keras.losses.BinaryCrossentropy(from_logits=True, label_smoothing=0.1),\n",
    "    # List of metrics to monitor\n",
    "    metrics=keras.metrics.BinaryAccuracy(),\n",
    "    # weighted metrics\n",
    "    weighted_metrics=[]\n",
    ")"
   ],
   "metadata": {
    "collapsed": false,
    "ExecuteTime": {
     "end_time": "2023-07-17T15:54:55.372397Z",
     "start_time": "2023-07-17T15:54:55.367064Z"
    }
   }
  },
  {
   "cell_type": "code",
   "execution_count": 29,
   "outputs": [
    {
     "name": "stdout",
     "output_type": "stream",
     "text": [
      "INFO:tensorflow:Assets written to: model_ex/assets\n"
     ]
    },
    {
     "name": "stderr",
     "output_type": "stream",
     "text": [
      "INFO:tensorflow:Assets written to: model_ex/assets\n"
     ]
    }
   ],
   "source": [
    "# save the model\n",
    "model_ex.save('model_ex')"
   ],
   "metadata": {
    "collapsed": false,
    "ExecuteTime": {
     "end_time": "2023-07-17T15:54:55.729792Z",
     "start_time": "2023-07-17T15:54:55.524111Z"
    }
   }
  },
  {
   "cell_type": "code",
   "execution_count": 30,
   "outputs": [],
   "source": [
    "''''''' Callbacks '''''''\n",
    "callback = tf.keras.callbacks.EarlyStopping(monitor='val_loss', patience=10, start_from_epoch=50)"
   ],
   "metadata": {
    "collapsed": false,
    "ExecuteTime": {
     "end_time": "2023-07-17T15:54:55.937410Z",
     "start_time": "2023-07-17T15:54:55.934899Z"
    }
   }
  },
  {
   "cell_type": "code",
   "execution_count": null,
   "outputs": [],
   "source": [],
   "metadata": {
    "collapsed": false
   }
  }
 ],
 "metadata": {
  "kernelspec": {
   "display_name": "Python 3",
   "language": "python",
   "name": "python3"
  },
  "language_info": {
   "codemirror_mode": {
    "name": "ipython",
    "version": 2
   },
   "file_extension": ".py",
   "mimetype": "text/x-python",
   "name": "python",
   "nbconvert_exporter": "python",
   "pygments_lexer": "ipython2",
   "version": "2.7.6"
  }
 },
 "nbformat": 4,
 "nbformat_minor": 0
}
