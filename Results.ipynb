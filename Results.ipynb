{
 "cells": [
  {
   "cell_type": "code",
   "execution_count": null,
   "metadata": {
    "collapsed": true
   },
   "outputs": [],
   "source": [
    "import numpy as np\n",
    "import jsonpickle\n",
    "import seaborn as sns"
   ]
  },
  {
   "cell_type": "code",
   "execution_count": null,
   "outputs": [],
   "source": [
    "# open\n",
    "# LOAD JSON FILE\n",
    "file_name = \"/Users/arberimbibaj/results.json\"\n",
    "f = open(file_name, 'r')\n",
    "json_str = f.read()\n",
    "results_all = jsonpickle.decode(json_str)"
   ],
   "metadata": {
    "collapsed": false
   }
  },
  {
   "cell_type": "code",
   "execution_count": null,
   "outputs": [],
   "source": [
    "# S-Learner best, X_learner good, T, DR, RA, also good, only PW-bad\n",
    "# almost same as one, PW also good?\n",
    "# X-learner best, S-learner worst (PW actually worst, but extreme)\n",
    "# X-learner best, DR/PW also good, rest oke (PW very bad)\n",
    "# T-learner best?, R/RA very good\n",
    "# X-learner best, but S/T/DR/RA all very good\n",
    "# S-learner best, then X-learner\n",
    "# S-learner best,\n",
    "# X-learner best, (especially for RF)\n",
    "# X-learner best,\n",
    "# T-learner best\n",
    "# S-learner best?, T/X/DR/RA all very good\n",
    "# S-learner best, X also very good\n",
    "# S-learner best, X also very good, R bad\n",
    "# X-learner best, DR-learner also very good\n",
    "# X-learner best, DR/RA good but then at siz=5000 bad?\n",
    "# DR/RA best, X also very good\n",
    "# S-learner best ??? probably because the cates are not scaled enough\n",
    "# S-learner best\n",
    "# S-learner best\n",
    "# X best, DR/RA very good\n",
    "# X best, DR/RA very good,\n",
    "# X best, but all perform a bit bad\n",
    "# T, S, X R DR all good, probably because of not scalling"
   ],
   "metadata": {
    "collapsed": false
   }
  },
  {
   "cell_type": "code",
   "execution_count": null,
   "outputs": [],
   "source": [
    "# CONCLUSIONS\n",
    "# -----------\n",
    "\n",
    "# 1: If zero cate --> S-learner is the best, X-learner also performs good\n",
    "# 2: If simple cate --> X-learner is the best, often DR/RA/R learner also perform good\n",
    "# 3: if complex cate --> T very good, somehow S-learner also good (probably to bad scalling of outcomes), DR/RA/R learner also good\n",
    "# 4: PW learner very bad mostly, U-learner also not good\n",
    "\n",
    "# Base learners\n",
    "# -------------\n",
    "# RF and Linear model seem to be more stable than Neural Network, at least with these hyperparameters.\n",
    "# All \"pseudo-outome\" metalearners very bad with Neural Network??? --> probably the classification task is bad"
   ],
   "metadata": {
    "collapsed": false
   }
  },
  {
   "cell_type": "markdown",
   "source": [
    "12 setups"
   ],
   "metadata": {
    "collapsed": false
   }
  },
  {
   "cell_type": "code",
   "execution_count": null,
   "outputs": [],
   "source": [
    "# open\n",
    "# LOAD JSON FILE\n",
    "file_name = \"/Users/arberimbibaj/results_12_setups_no_cv.json\"\n",
    "f = open(file_name, 'r')\n",
    "json_str = f.read()\n",
    "results_12 = jsonpickle.decode(json_str)"
   ],
   "metadata": {
    "collapsed": false
   }
  },
  {
   "cell_type": "code",
   "execution_count": null,
   "outputs": [],
   "source": [
    "results_12[11][0]"
   ],
   "metadata": {
    "collapsed": false
   }
  },
  {
   "cell_type": "code",
   "execution_count": null,
   "outputs": [],
   "source": [
    "# S-learner best\n",
    "# S learner best\n",
    "# X-learner best, DR/RA very good\n",
    "# X-learner best, DR/RA very good, S bad\n",
    "# R learner best\n",
    "# S-learner best--> because most Ys are near zero!!!, else, DR/RA very good and also X/T learner\n",
    "\n",
    "\n",
    "# CONCLUSION\n",
    "# looks to make sense, PW is bad\n",
    "\n"
   ],
   "metadata": {
    "collapsed": false
   }
  },
  {
   "cell_type": "code",
   "execution_count": null,
   "outputs": [],
   "source": [
    "# open\n",
    "# LOAD JSON FILE\n",
    "file_name = \"check_repro.json\"\n",
    "f = open(file_name, 'r')\n",
    "json_str = f.read()\n",
    "check = jsonpickle.decode(json_str)"
   ],
   "metadata": {
    "collapsed": false
   }
  },
  {
   "cell_type": "code",
   "execution_count": null,
   "outputs": [],
   "source": [
    "check[1][0]"
   ],
   "metadata": {
    "collapsed": false
   }
  },
  {
   "cell_type": "markdown",
   "source": [
    "with cross-fitting"
   ],
   "metadata": {
    "collapsed": false
   }
  },
  {
   "cell_type": "code",
   "execution_count": null,
   "outputs": [],
   "source": [
    "# open\n",
    "# LOAD JSON FILE\n",
    "file_name = \"/Users/arberimbibaj/results_12_setups.json\"\n",
    "f = open(file_name, 'r')\n",
    "json_str = f.read()\n",
    "results_cf = jsonpickle.decode(json_str)"
   ],
   "metadata": {
    "collapsed": false
   }
  },
  {
   "cell_type": "code",
   "execution_count": null,
   "outputs": [],
   "source": [
    "results_cf[11][2]"
   ],
   "metadata": {
    "collapsed": false
   }
  },
  {
   "cell_type": "code",
   "execution_count": null,
   "outputs": [],
   "source": [
    "# OK nice\n",
    "\n",
    "# much better with cross-fitting now!!"
   ],
   "metadata": {
    "collapsed": false
   }
  },
  {
   "cell_type": "markdown",
   "source": [
    "IHDP"
   ],
   "metadata": {
    "collapsed": false
   }
  },
  {
   "cell_type": "code",
   "execution_count": null,
   "outputs": [],
   "source": [
    "# open\n",
    "# LOAD JSON FILE\n",
    "file_name = \"results_ihdp.json\"\n",
    "f = open(file_name, 'r')\n",
    "json_str = f.read()\n",
    "ihdp_results = jsonpickle.decode(json_str)"
   ],
   "metadata": {
    "collapsed": false
   }
  },
  {
   "cell_type": "code",
   "execution_count": null,
   "outputs": [],
   "source": [
    "ihdp_results[2]"
   ],
   "metadata": {
    "collapsed": false
   }
  },
  {
   "cell_type": "code",
   "execution_count": null,
   "outputs": [],
   "source": [
    "# open\n",
    "# LOAD JSON FILE\n",
    "file_name = \"results_ihdp_no_cross.json\"\n",
    "f = open(file_name, 'r')\n",
    "json_str = f.read()\n",
    "ihdp_results_no_cross = jsonpickle.decode(json_str)"
   ],
   "metadata": {
    "collapsed": false
   }
  },
  {
   "cell_type": "code",
   "execution_count": null,
   "outputs": [],
   "source": [
    "ihdp_results_no_cross[2]"
   ],
   "metadata": {
    "collapsed": false
   }
  },
  {
   "cell_type": "code",
   "execution_count": null,
   "outputs": [],
   "source": [
    "# better than cross-fitting"
   ],
   "metadata": {
    "collapsed": false
   }
  },
  {
   "cell_type": "code",
   "execution_count": null,
   "outputs": [],
   "source": [
    "# open\n",
    "# LOAD JSON FILE\n",
    "file_name = \"results_ihdp_no_cross_.json\"\n",
    "f = open(file_name, 'r')\n",
    "json_str = f.read()\n",
    "ihdp_results_no_cross_ = jsonpickle.decode(json_str)"
   ],
   "metadata": {
    "collapsed": false
   }
  },
  {
   "cell_type": "code",
   "execution_count": null,
   "outputs": [],
   "source": [
    "ihdp_results_no_cross_[2]"
   ],
   "metadata": {
    "collapsed": false
   }
  },
  {
   "cell_type": "code",
   "execution_count": null,
   "outputs": [],
   "source": [
    "# open\n",
    "# LOAD JSON FILE\n",
    "file_name = \"results_ihdp_no_cross_.json\"\n",
    "f = open(file_name, 'r')\n",
    "json_str = f.read()\n",
    "ihdp_results_no_cross_ = jsonpickle.decode(json_str)"
   ],
   "metadata": {
    "collapsed": false
   }
  },
  {
   "cell_type": "code",
   "execution_count": null,
   "outputs": [],
   "source": [
    "ihdp_results_no_cross_[0]"
   ],
   "metadata": {
    "collapsed": false
   }
  },
  {
   "cell_type": "code",
   "execution_count": null,
   "outputs": [],
   "source": [
    "# open\n",
    "# LOAD JSON FILE\n",
    "file_name = \"/Users/arberimbibaj/results_ihdp_1e-0.json\"\n",
    "f = open(file_name, 'r')\n",
    "json_str = f.read()\n",
    "ihdp_results_1 = jsonpickle.decode(json_str)"
   ],
   "metadata": {
    "collapsed": false
   }
  },
  {
   "cell_type": "code",
   "execution_count": null,
   "outputs": [],
   "source": [
    "ihdp_results_1[2]"
   ],
   "metadata": {
    "collapsed": false
   }
  },
  {
   "cell_type": "code",
   "execution_count": null,
   "outputs": [],
   "source": [
    "# open\n",
    "# LOAD JSON FILE\n",
    "file_name = \"/Users/arberimbibaj/results_ihdp_1e-4.json\"\n",
    "f = open(file_name, 'r')\n",
    "json_str = f.read()\n",
    "ihdp_results_4 = jsonpickle.decode(json_str)"
   ],
   "metadata": {
    "collapsed": false
   }
  },
  {
   "cell_type": "code",
   "execution_count": null,
   "outputs": [],
   "source": [
    "ihdp_results_4[2]"
   ],
   "metadata": {
    "collapsed": false
   }
  },
  {
   "cell_type": "code",
   "execution_count": null,
   "outputs": [],
   "source": [
    "# open\n",
    "# LOAD JSON FILE\n",
    "file_name = \"/Users/arberimbibaj/results_ihdp_1e-2.json\"\n",
    "f = open(file_name, 'r')\n",
    "json_str = f.read()\n",
    "ihdp_results_2 = jsonpickle.decode(json_str)"
   ],
   "metadata": {
    "collapsed": false
   }
  },
  {
   "cell_type": "code",
   "execution_count": null,
   "outputs": [],
   "source": [
    "ihdp_results_2[2]"
   ],
   "metadata": {
    "collapsed": false
   }
  },
  {
   "cell_type": "code",
   "execution_count": null,
   "outputs": [],
   "source": [
    "# open\n",
    "# LOAD JSON FILE\n",
    "file_name = \"/Users/arberimbibaj/results_ihdp_1e-3.json\"\n",
    "f = open(file_name, 'r')\n",
    "json_str = f.read()\n",
    "ihdp_results_3 = jsonpickle.decode(json_str)"
   ],
   "metadata": {
    "collapsed": false
   }
  },
  {
   "cell_type": "code",
   "execution_count": null,
   "outputs": [],
   "source": [
    "ihdp_results_3[2]"
   ],
   "metadata": {
    "collapsed": false
   }
  },
  {
   "cell_type": "code",
   "execution_count": null,
   "outputs": [],
   "source": [
    "# open\n",
    "# LOAD JSON FILE\n",
    "file_name = \"/Users/arberimbibaj/results_setup_2_old.json\"\n",
    "f = open(file_name, 'r')\n",
    "json_str = f.read()\n",
    "data = jsonpickle.decode(json_str)"
   ],
   "metadata": {
    "collapsed": false
   }
  },
  {
   "cell_type": "code",
   "execution_count": null,
   "outputs": [],
   "source": [
    "metalearner_names = ['T-Learner', 'S-Learner', 'X-Learner', 'R-Leaner', 'DR-Learner', 'RA-Leaner', 'PW-Leaner',\n",
    "                     'U-Learner']\n",
    "metalearner_names = np.repeat(metalearner_names, 40)\n",
    "metalearner_names = np.tile(metalearner_names, 3)\n",
    "metalearner_names = np.array(metalearner_names)[:, np.newaxis]"
   ],
   "metadata": {
    "collapsed": false
   }
  },
  {
   "cell_type": "code",
   "execution_count": null,
   "outputs": [],
   "source": [
    "baselearner_names = [\"random forest\", \"linear models\", \"neural network\"]\n",
    "baselearner_names = np.repeat(baselearner_names, 320)\n",
    "baselearner_names = np.array(baselearner_names)[:, np.newaxis]\n",
    "baselearner_names"
   ],
   "metadata": {
    "collapsed": false
   }
  },
  {
   "cell_type": "code",
   "execution_count": null,
   "outputs": [],
   "source": [
    "sample_sizes = np.tile([500, 1000, 2000, 5000], 240)[:, np.newaxis]\n",
    "sample_sizes"
   ],
   "metadata": {
    "collapsed": false
   }
  },
  {
   "cell_type": "code",
   "execution_count": null,
   "outputs": [],
   "source": [
    "# using dictionary to convert specific columns\n",
    "convert_dict = {'mse': float,\n",
    "                'size': int,\n",
    "                'metalearner': 'category',\n",
    "                'baselearner': 'category'\n",
    "                }\n",
    "data = data.astype(convert_dict)"
   ],
   "metadata": {
    "collapsed": false
   }
  },
  {
   "cell_type": "markdown",
   "source": [
    "HERE!!!"
   ],
   "metadata": {
    "collapsed": false
   }
  },
  {
   "cell_type": "code",
   "execution_count": null,
   "outputs": [],
   "source": [
    "def process_data_plot(results):\n",
    "    # flatten and concatenate results\n",
    "    rf_results = np.sqrt(results[0].flatten('F')[:, np.newaxis])\n",
    "    lm_results = np.sqrt(results[1].flatten('F')[:, np.newaxis])\n",
    "    nn_results = np.sqrt(results[2].flatten('F')[:, np.newaxis])\n",
    "    all_results = np.concatenate((rf_results, lm_results, nn_results))\n",
    "    # add names\n",
    "    metalearner_names = ['T-Learner', 'S-Learner', 'X-Learner', 'R-Leaner', 'DR-Learner', 'RA-Leaner', 'PW-Leaner',\n",
    "                         'U-Learner']\n",
    "    metalearner_names = np.repeat(metalearner_names, 40)\n",
    "    metalearner_names = np.tile(metalearner_names, 3)\n",
    "    metalearner_names = np.array(metalearner_names)[:, np.newaxis]\n",
    "    baselearner_names = [\"random forest\", \"linear models\", \"neural network\"]\n",
    "    baselearner_names = np.repeat(baselearner_names, 320)\n",
    "    baselearner_names = np.array(baselearner_names)[:, np.newaxis]\n",
    "    # sample sizes\n",
    "    sample_sizes = np.tile([500, 1000, 2000, 5000], 240)[:, np.newaxis]\n",
    "    # concatenate all\n",
    "    data = np.concatenate((all_results, sample_sizes, metalearner_names, baselearner_names), axis=1)\n",
    "    data = pd.DataFrame(data)\n",
    "    # add column name and specify data type\n",
    "    data.columns = ['mse', 'size', 'metalearner', 'baselearner']\n",
    "    convert_dict = {'mse': float,\n",
    "                    'size': int,\n",
    "                    'metalearner': 'category',\n",
    "                    'baselearner': 'category'\n",
    "                    }\n",
    "    data = data.astype(convert_dict)\n",
    "    return data\n"
   ],
   "metadata": {
    "collapsed": false
   }
  },
  {
   "cell_type": "code",
   "execution_count": null,
   "outputs": [],
   "source": [],
   "metadata": {
    "collapsed": false
   }
  },
  {
   "cell_type": "code",
   "execution_count": null,
   "outputs": [],
   "source": [
    "import pandas as pd\n",
    "import matplotlib.pyplot as plt"
   ],
   "metadata": {
    "collapsed": false
   }
  },
  {
   "cell_type": "code",
   "execution_count": null,
   "outputs": [],
   "source": [
    "# open\n",
    "# LOAD JSON FILE\n",
    "file_name = \"/Users/arberimbibaj/results_simulated_setting1_10run(s).json\"\n",
    "f = open(file_name, 'r')\n",
    "json_str = f.read()\n",
    "data = jsonpickle.decode(json_str)"
   ],
   "metadata": {
    "collapsed": false
   }
  },
  {
   "cell_type": "code",
   "execution_count": null,
   "outputs": [],
   "source": [
    "df1 = pd.DataFrame(data[0])\n",
    "df2 = pd.DataFrame(data[1])\n",
    "df3 = pd.DataFrame(data[2])\n",
    "\n",
    "df1.columns = ['T-Learner', 'S-Learner', 'X-Learner', 'R-Learner', 'DR-Learner', 'RA-Learner', 'PW-Learner', 'U-Learner', 'SampleSize']\n",
    "df2.columns = ['T-Learner', 'S-Learner', 'X-Learner', 'R-Learner', 'DR-Learner', 'RA-Learner', 'PW-Learner', 'U-Learner', 'SampleSize']\n",
    "df3.columns = ['T-Learner', 'S-Learner', 'X-Learner', 'R-Learner', 'DR-Learner', 'RA-Learner', 'PW-Learner', 'U-Learner', 'SampleSize']\n",
    "df1[['T-Learner', 'S-Learner', 'X-Learner', 'R-Learner', 'DR-Learner', 'RA-Learner', 'PW-Learner', 'U-Learner']] = np.sqrt(df1[['T-Learner', 'S-Learner', 'X-Learner', 'R-Learner', 'DR-Learner', 'RA-Learner', 'PW-Learner', 'U-Learner']])\n",
    "df2[['T-Learner', 'S-Learner', 'X-Learner', 'R-Learner', 'DR-Learner', 'RA-Learner', 'PW-Learner', 'U-Learner']] = np.sqrt(df2[['T-Learner', 'S-Learner', 'X-Learner', 'R-Learner', 'DR-Learner', 'RA-Learner', 'PW-Learner', 'U-Learner']])\n",
    "df3[['T-Learner', 'S-Learner', 'X-Learner', 'R-Learner', 'DR-Learner', 'RA-Learner', 'PW-Learner', 'U-Learner']] = np.sqrt(df3[['T-Learner', 'S-Learner', 'X-Learner', 'R-Learner', 'DR-Learner', 'RA-Learner', 'PW-Learner', 'U-Learner']])\n"
   ],
   "metadata": {
    "collapsed": false
   }
  },
  {
   "cell_type": "code",
   "execution_count": null,
   "outputs": [],
   "source": [
    "df1 = df1.melt('SampleSize', var_name='MetaLearner', value_name='RMSE')\n",
    "df2 = df2.melt('SampleSize', var_name='MetaLearner', value_name='RMSE')\n",
    "df3 = df3.melt('SampleSize', var_name='MetaLearner', value_name='RMSE')"
   ],
   "metadata": {
    "collapsed": false
   }
  },
  {
   "cell_type": "code",
   "execution_count": null,
   "outputs": [],
   "source": [
    "df1['BaseLearner'] = 'RandomForest'\n",
    "df2['BaseLearner'] = 'LinearModel'\n",
    "df3['BaseLearner'] = 'NeuralNetwork'"
   ],
   "metadata": {
    "collapsed": false
   }
  },
  {
   "cell_type": "code",
   "execution_count": null,
   "outputs": [],
   "source": [
    "df = pd.concat([df1, df2, df3], ignore_index=True)\n",
    "df = df[df.MetaLearner != 'U-Learner']"
   ],
   "metadata": {
    "collapsed": false
   }
  },
  {
   "cell_type": "code",
   "execution_count": null,
   "outputs": [],
   "source": [
    "face = sns.FacetGrid(data=df, col='BaseLearner', sharey=True)\n",
    "face.map(sns.lineplot, 'SampleSize', 'RMSE', 'MetaLearner', errorbar=None, marker='.', estimator='mean', linewidth=0.75)\n",
    "face.add_legend()\n",
    "#sns.move_legend(face, 'upper right')\n",
    "face.set(yscale='log')"
   ],
   "metadata": {
    "collapsed": false
   }
  },
  {
   "cell_type": "markdown",
   "source": [
    "STOP"
   ],
   "metadata": {
    "collapsed": false
   }
  },
  {
   "cell_type": "code",
   "execution_count": null,
   "outputs": [],
   "source": [
    "face.savefig('ABCDEF.png', dpi=1200)"
   ],
   "metadata": {
    "collapsed": false
   }
  },
  {
   "cell_type": "code",
   "execution_count": null,
   "outputs": [],
   "source": [
    "sns.set_style('whitegrid')"
   ],
   "metadata": {
    "collapsed": false
   }
  },
  {
   "cell_type": "code",
   "execution_count": null,
   "outputs": [],
   "source": [
    "import seaborn as sns\n",
    "import matplotlib.pyplot as plt\n",
    "sns.lineplot(df, x='SampleSize', y='RMSE', hue='MetaLearner', errorbar=None, marker='o', estimator='mean', linewidth=1.5)\n",
    "plt.yscale('log')"
   ],
   "metadata": {
    "collapsed": false
   }
  },
  {
   "cell_type": "code",
   "execution_count": null,
   "outputs": [],
   "source": [
    "data[0][:, 0:8]"
   ],
   "metadata": {
    "collapsed": false
   }
  },
  {
   "cell_type": "code",
   "execution_count": null,
   "outputs": [],
   "source": [
    "# open\n",
    "# LOAD JSON FILE\n",
    "file_name = \"/Users/arberimbibaj/results_experiment/results_setup_11.json\"\n",
    "f = open(file_name, 'r')\n",
    "json_str = f.read()\n",
    "data = jsonpickle.decode(json_str)"
   ],
   "metadata": {
    "collapsed": false
   }
  },
  {
   "cell_type": "code",
   "execution_count": null,
   "outputs": [],
   "source": [
    "data = process_data_plot(data)\n",
    "data"
   ],
   "metadata": {
    "collapsed": false
   }
  },
  {
   "cell_type": "code",
   "execution_count": null,
   "outputs": [],
   "source": [
    "hue_order = [\"T-Learner\", \"S-Learner\", \"X-Learner\", \"R-Leaner\", \"DR-Learner\", \"RA-Leaner\", \"PW-Leaner\",\n",
    "             \"U-Learner\"]\n",
    "col_order = [\"random forest\", \"linear models\", \"neural network\"]\n",
    "sns.set_style(\"whitegrid\")"
   ],
   "metadata": {
    "collapsed": false
   }
  },
  {
   "cell_type": "code",
   "execution_count": null,
   "outputs": [],
   "source": [
    "g = sns.FacetGrid(data, col=\"baselearner\", sharey=False,\n",
    "                  col_order=col_order)\n",
    "g.map(sns.lineplot, \"size\", \"mse\", \"metalearner\", errorbar=None, estimator=\"mean\", marker=\"o\", hue_order=hue_order)\n",
    "g.set_axis_labels(\"sample size\", \"Mean RMSE\")\n",
    "g.set_titles(col_template=\" base learner = {col_name} \")\n",
    "g.add_legend()"
   ],
   "metadata": {
    "collapsed": false
   }
  },
  {
   "cell_type": "code",
   "execution_count": null,
   "outputs": [],
   "source": [
    "# setup 6, neural network ?? why S-learner so good, but lienar models so bad\n",
    "# setup 7 so bad\n",
    "# setup 8 so bad U learner"
   ],
   "metadata": {
    "collapsed": false
   }
  },
  {
   "cell_type": "markdown",
   "source": [
    "exlcude pw and u learner"
   ],
   "metadata": {
    "collapsed": false
   }
  },
  {
   "cell_type": "code",
   "execution_count": null,
   "outputs": [],
   "source": [
    "mask = data['metalearner'].isin(['PWLearner', 'U-Learner'])\n",
    "data_exclude = data[~mask]\n",
    "hue_order_exclude = [\"T-Learner\", \"S-Learner\", \"X-Learner\", \"R-Leaner\", \"DR-Learner\", \"RA-Leaner\"]"
   ],
   "metadata": {
    "collapsed": false
   }
  },
  {
   "cell_type": "code",
   "execution_count": null,
   "outputs": [],
   "source": [
    "g = sns.FacetGrid(data_exclude, col=\"baselearner\", sharey=False,\n",
    "                  col_order=col_order)\n",
    "g.map(sns.lineplot, \"size\", \"mse\", \"metalearner\", errorbar=None, estimator=\"mean\", marker=\"o\",\n",
    "      hue_order=hue_order_exclude, linewidth=0.75)\n",
    "g.set_axis_labels(\"sample size\", \"Mean RMSE\")\n",
    "g.set_titles(col_template=\" base learner = {col_name} \")\n",
    "g.add_legend()"
   ],
   "metadata": {
    "collapsed": false
   }
  },
  {
   "cell_type": "code",
   "execution_count": null,
   "outputs": [],
   "source": [
    "g.savefig(\"LOOKHERE.png\", dpi=1200)"
   ],
   "metadata": {
    "collapsed": false
   }
  },
  {
   "cell_type": "code",
   "execution_count": null,
   "outputs": [],
   "source": [
    "# 1: ok\n",
    "# 2: ok\n",
    "# 3: ok\n",
    "# 4: ok\n",
    "# 5: ok\n",
    "# 6: ?, but in künzel paper the same outcome --> t/s learner no big difference: BUT in linear models they have!!\n",
    "# 7: ok, --> baselearner matters! --> R-RF worst but, R-LM well!\n",
    "# 8: ok, same as 7\n",
    "# 9: oke, RA seems to perform bad in unbalanced settings\n",
    "# 10: oke\n",
    "# 11: oke\n",
    "# 12: oke\n",
    "# 13: oke\n",
    "#\n",
    "\n",
    "\n",
    "\n"
   ],
   "metadata": {
    "collapsed": false
   }
  },
  {
   "cell_type": "markdown",
   "source": [
    "end"
   ],
   "metadata": {
    "collapsed": false
   }
  },
  {
   "cell_type": "code",
   "execution_count": null,
   "outputs": [],
   "source": [
    "# open\n",
    "# LOAD JSON FILE\n",
    "file_name = \"/Users/arberimbibaj/results.json\"\n",
    "f = open(file_name, 'r')\n",
    "json_str = f.read()\n",
    "results_all = jsonpickle.decode(json_str)"
   ],
   "metadata": {
    "collapsed": false
   }
  },
  {
   "cell_type": "code",
   "execution_count": null,
   "outputs": [],
   "source": [
    "results_all[0][0]"
   ],
   "metadata": {
    "collapsed": false
   }
  },
  {
   "cell_type": "code",
   "execution_count": null,
   "outputs": [],
   "source": [
    "# S-Learner best, X_learner good, T, DR, RA, also good, only PW-bad\n",
    "# almost same as one, PW also good?\n",
    "# X-learner best, S-learner worst (PW actually worst, but extreme)\n",
    "# X-learner best, DR/PW also good, rest oke (PW very bad)\n",
    "# T-learner best?, R/RA very good\n",
    "# X-learner best, but S/T/DR/RA all very good\n",
    "# S-learner best, then X-learner\n",
    "# S-learner best,\n",
    "# X-learner best, (especially for RF)\n",
    "# X-learner best,\n",
    "# T-learner best\n",
    "# S-learner best?, T/X/DR/RA all very good\n",
    "# S-learner best, X also very good\n",
    "# S-learner best, X also very good, R bad\n",
    "# X-learner best, DR-learner also very good\n",
    "# X-learner best, DR/RA good but then at siz=5000 bad?\n",
    "# DR/RA best, X also very good\n",
    "# S-learner best ??? probably because the cates are not scaled enough\n",
    "# S-learner best\n",
    "# S-learner best\n",
    "# X best, DR/RA very good\n",
    "# X best, DR/RA very good,\n",
    "# X best, but all perform a bit bad\n",
    "# T, S, X R DR all good, probably because of not scalling"
   ],
   "metadata": {
    "collapsed": false
   }
  },
  {
   "cell_type": "code",
   "execution_count": null,
   "outputs": [],
   "source": [
    "# CONCLUSIONS\n",
    "# -----------\n",
    "\n",
    "# 1: If zero cate --> S-learner is the best, X-learner also performs good\n",
    "# 2: If simple cate --> X-learner is the best, often DR/RA/R learner also perform good\n",
    "# 3: if complex cate --> T very good, somehow S-learner also good (probably to bad scalling of outcomes), DR/RA/R learner also good\n",
    "# 4: PW learner very bad mostly, U-learner also not good\n",
    "\n",
    "# Base learners\n",
    "# -------------\n",
    "# RF and Linear model seem to be more stable than Neural Network, at least with these hyperparameters.\n",
    "# All \"pseudo-outome\" metalearners very bad with Neural Network??? --> probably the classification task is bad"
   ],
   "metadata": {
    "collapsed": false
   }
  },
  {
   "cell_type": "markdown",
   "source": [
    "12 setups"
   ],
   "metadata": {
    "collapsed": false
   }
  },
  {
   "cell_type": "code",
   "execution_count": null,
   "outputs": [],
   "source": [
    "# open\n",
    "# LOAD JSON FILE\n",
    "file_name = \"/Users/arberimbibaj/results_12_setups_no_cv.json\"\n",
    "f = open(file_name, 'r')\n",
    "json_str = f.read()\n",
    "results_12 = jsonpickle.decode(json_str)"
   ],
   "metadata": {
    "collapsed": false
   }
  },
  {
   "cell_type": "code",
   "execution_count": null,
   "outputs": [],
   "source": [
    "results_12[11][0]"
   ],
   "metadata": {
    "collapsed": false
   }
  },
  {
   "cell_type": "code",
   "execution_count": null,
   "outputs": [],
   "source": [
    "# S-learner best\n",
    "# S learner best\n",
    "# X-learner best, DR/RA very good\n",
    "# X-learner best, DR/RA very good, S bad\n",
    "# R learner best\n",
    "# S-learner best--> because most Ys are near zero!!!, else, DR/RA very good and also X/T learner\n",
    "\n",
    "\n",
    "# CONCLUSION\n",
    "# looks to make sense, PW is bad\n",
    "\n"
   ],
   "metadata": {
    "collapsed": false
   }
  },
  {
   "cell_type": "code",
   "execution_count": null,
   "outputs": [],
   "source": [
    "# open\n",
    "# LOAD JSON FILE\n",
    "file_name = \"check_repro.json\"\n",
    "f = open(file_name, 'r')\n",
    "json_str = f.read()\n",
    "check = jsonpickle.decode(json_str)"
   ],
   "metadata": {
    "collapsed": false
   }
  },
  {
   "cell_type": "code",
   "execution_count": null,
   "outputs": [],
   "source": [
    "check[1][0]"
   ],
   "metadata": {
    "collapsed": false
   }
  },
  {
   "cell_type": "markdown",
   "source": [
    "with cross-fitting"
   ],
   "metadata": {
    "collapsed": false
   }
  },
  {
   "cell_type": "code",
   "execution_count": null,
   "outputs": [],
   "source": [
    "# open\n",
    "# LOAD JSON FILE\n",
    "file_name = \"/Users/arberimbibaj/results_12_setups.json\"\n",
    "f = open(file_name, 'r')\n",
    "json_str = f.read()\n",
    "results_cf = jsonpickle.decode(json_str)"
   ],
   "metadata": {
    "collapsed": false
   }
  },
  {
   "cell_type": "code",
   "execution_count": null,
   "outputs": [],
   "source": [
    "results_cf[11][2]"
   ],
   "metadata": {
    "collapsed": false
   }
  },
  {
   "cell_type": "code",
   "execution_count": null,
   "outputs": [],
   "source": [
    "# OK nice\n",
    "# much better with cross-fitting now!!"
   ],
   "metadata": {
    "collapsed": false
   }
  },
  {
   "cell_type": "markdown",
   "source": [
    "IHDP"
   ],
   "metadata": {
    "collapsed": false
   }
  },
  {
   "cell_type": "code",
   "execution_count": null,
   "outputs": [],
   "source": [
    "# open\n",
    "# LOAD JSON FILE\n",
    "file_name = \"results_ihdp.json\"\n",
    "f = open(file_name, 'r')\n",
    "json_str = f.read()\n",
    "ihdp_results = jsonpickle.decode(json_str)"
   ],
   "metadata": {
    "collapsed": false
   }
  },
  {
   "cell_type": "code",
   "execution_count": null,
   "outputs": [],
   "source": [
    "ihdp_results[2]"
   ],
   "metadata": {
    "collapsed": false
   }
  },
  {
   "cell_type": "code",
   "execution_count": null,
   "outputs": [],
   "source": [
    "# open\n",
    "# LOAD JSON FILE\n",
    "file_name = \"results_ihdp_no_cross.json\"\n",
    "f = open(file_name, 'r')\n",
    "json_str = f.read()\n",
    "ihdp_results_no_cross = jsonpickle.decode(json_str)"
   ],
   "metadata": {
    "collapsed": false
   }
  },
  {
   "cell_type": "code",
   "execution_count": null,
   "outputs": [],
   "source": [
    "ihdp_results_no_cross[2]"
   ],
   "metadata": {
    "collapsed": false
   }
  },
  {
   "cell_type": "code",
   "execution_count": null,
   "outputs": [],
   "source": [
    "# better than cross-fitting"
   ],
   "metadata": {
    "collapsed": false
   }
  },
  {
   "cell_type": "code",
   "execution_count": null,
   "outputs": [],
   "source": [
    "# open\n",
    "# LOAD JSON FILE\n",
    "file_name = \"results_ihdp_no_cross_.json\"\n",
    "f = open(file_name, 'r')\n",
    "json_str = f.read()\n",
    "ihdp_results_no_cross_ = jsonpickle.decode(json_str)"
   ],
   "metadata": {
    "collapsed": false
   }
  },
  {
   "cell_type": "code",
   "execution_count": null,
   "outputs": [],
   "source": [
    "ihdp_results_no_cross_[2]"
   ],
   "metadata": {
    "collapsed": false
   }
  },
  {
   "cell_type": "code",
   "execution_count": null,
   "outputs": [],
   "source": [
    "# open\n",
    "# LOAD JSON FILE\n",
    "file_name = \"results_ihdp_no_cross_.json\"\n",
    "f = open(file_name, 'r')\n",
    "json_str = f.read()\n",
    "ihdp_results_no_cross_ = jsonpickle.decode(json_str)"
   ],
   "metadata": {
    "collapsed": false
   }
  },
  {
   "cell_type": "code",
   "execution_count": null,
   "outputs": [],
   "source": [
    "ihdp_results_no_cross_[0]"
   ],
   "metadata": {
    "collapsed": false
   }
  },
  {
   "cell_type": "code",
   "execution_count": null,
   "outputs": [],
   "source": [
    "# open\n",
    "# LOAD JSON FILE\n",
    "file_name = \"/Users/arberimbibaj/results_ihdp_1e-0.json\"\n",
    "f = open(file_name, 'r')\n",
    "json_str = f.read()\n",
    "ihdp_results_1 = jsonpickle.decode(json_str)"
   ],
   "metadata": {
    "collapsed": false
   }
  },
  {
   "cell_type": "code",
   "execution_count": null,
   "outputs": [],
   "source": [
    "ihdp_results_1[2]"
   ],
   "metadata": {
    "collapsed": false
   }
  },
  {
   "cell_type": "code",
   "execution_count": null,
   "outputs": [],
   "source": [
    "# open\n",
    "# LOAD JSON FILE\n",
    "file_name = \"/Users/arberimbibaj/results_ihdp_1e-4.json\"\n",
    "f = open(file_name, 'r')\n",
    "json_str = f.read()\n",
    "ihdp_results_4 = jsonpickle.decode(json_str)"
   ],
   "metadata": {
    "collapsed": false
   }
  },
  {
   "cell_type": "code",
   "execution_count": null,
   "outputs": [],
   "source": [
    "ihdp_results_4[2]"
   ],
   "metadata": {
    "collapsed": false
   }
  },
  {
   "cell_type": "code",
   "execution_count": null,
   "outputs": [],
   "source": [
    "# open\n",
    "# LOAD JSON FILE\n",
    "file_name = \"/Users/arberimbibaj/results_ihdp_1e-2.json\"\n",
    "f = open(file_name, 'r')\n",
    "json_str = f.read()\n",
    "ihdp_results_2 = jsonpickle.decode(json_str)"
   ],
   "metadata": {
    "collapsed": false
   }
  },
  {
   "cell_type": "code",
   "execution_count": null,
   "outputs": [],
   "source": [
    "ihdp_results_2[2]"
   ],
   "metadata": {
    "collapsed": false
   }
  },
  {
   "cell_type": "code",
   "execution_count": null,
   "outputs": [],
   "source": [
    "# open\n",
    "# LOAD JSON FILE\n",
    "file_name = \"/Users/arberimbibaj/results_ihdp_1e-3.json\"\n",
    "f = open(file_name, 'r')\n",
    "json_str = f.read()\n",
    "ihdp_results_3 = jsonpickle.decode(json_str)"
   ],
   "metadata": {
    "collapsed": false
   }
  },
  {
   "cell_type": "code",
   "execution_count": null,
   "outputs": [],
   "source": [
    "# open\n",
    "# LOAD JSON FILE\n",
    "file_name = \"/Users/arberimbibaj/results_setup_1_old.json\"\n",
    "f = open(file_name, 'r')\n",
    "json_str = f.read()\n",
    "results_1 = jsonpickle.decode(json_str)"
   ],
   "metadata": {
    "collapsed": false
   }
  },
  {
   "cell_type": "code",
   "execution_count": null,
   "outputs": [],
   "source": [
    "rf_results = results_1[0].flatten('F')[:, np.newaxis]\n",
    "lm_results = results_1[1].flatten('F')[:, np.newaxis]\n",
    "nn_results = results_1[2].flatten('F')[:, np.newaxis]"
   ],
   "metadata": {
    "collapsed": false
   }
  },
  {
   "cell_type": "code",
   "execution_count": null,
   "outputs": [],
   "source": [
    "all_results = np.concatenate((rf_results, lm_results, nn_results))\n",
    "all_results"
   ],
   "metadata": {
    "collapsed": false
   }
  },
  {
   "cell_type": "code",
   "execution_count": null,
   "outputs": [],
   "source": [
    "metalearner_names = ['T-Learner', 'S-Learner', 'X-Learner', 'R-Leaner', 'DR-Learner', 'RA-Leaner', 'PW-Leaner',\n",
    "                     'U-Learner']"
   ],
   "metadata": {
    "collapsed": false
   }
  },
  {
   "cell_type": "code",
   "execution_count": null,
   "outputs": [],
   "source": [
    "metalearner_names = np.repeat(metalearner_names, 40)\n",
    "metalearner_names = np.tile(metalearner_names, 3)"
   ],
   "metadata": {
    "collapsed": false
   }
  },
  {
   "cell_type": "code",
   "execution_count": null,
   "outputs": [],
   "source": [
    "metalearner_names"
   ],
   "metadata": {
    "collapsed": false
   }
  },
  {
   "cell_type": "code",
   "execution_count": null,
   "outputs": [],
   "source": [
    "metas = np.array(metalearner_names)[:, np.newaxis]"
   ],
   "metadata": {
    "collapsed": false
   }
  },
  {
   "cell_type": "code",
   "execution_count": null,
   "outputs": [],
   "source": [
    "metas"
   ],
   "metadata": {
    "collapsed": false
   }
  },
  {
   "cell_type": "code",
   "execution_count": null,
   "outputs": [],
   "source": [
    "first_plot = sns.lineplot(data=data, x=\"size\", y=\"mse\", hue=\"metalearner\", estimator=\"mean\", errorbar=None, marker='o')"
   ],
   "metadata": {
    "collapsed": false
   }
  },
  {
   "cell_type": "code",
   "execution_count": null,
   "outputs": [],
   "source": [
    "hue_order = [\"T-Learner\", \"S-Learner\", \"X-Learner\", \"R-Leaner\", \"DR-Learner\", \"RA-Leaner\", \"PW-Leaner\",\n",
    "             \"U-Learner\"]\n",
    "col_order = [\"random forest\", \"linear models\", \"neural network\"]\n",
    "sns.set_style(\"whitegrid\")"
   ],
   "metadata": {
    "collapsed": false
   }
  },
  {
   "cell_type": "code",
   "execution_count": null,
   "outputs": [],
   "source": [
    "g = sns.FacetGrid(data, col=\"baselearner\", sharey=False,\n",
    "                  col_order=col_order)\n",
    "g.map(sns.lineplot, \"size\", \"mse\", \"metalearner\", errorbar=None, estimator=\"mean\", marker=\"o\", hue_order=hue_order)\n",
    "g.set_axis_labels(\"sample size\", \"Mean MSE\")\n",
    "g.set_titles(col_template=\" base learner = {col_name} \")\n",
    "g.add_legend()"
   ],
   "metadata": {
    "collapsed": false
   }
  },
  {
   "cell_type": "code",
   "execution_count": null,
   "outputs": [],
   "source": [
    "g.savefig(\"color_bright.png\", dpi=1200)"
   ],
   "metadata": {
    "collapsed": false
   }
  },
  {
   "cell_type": "code",
   "execution_count": null,
   "outputs": [],
   "source": [
    "g.savefig(\"first_setup.eps\", format='eps')  # for latex"
   ],
   "metadata": {
    "collapsed": false
   }
  },
  {
   "cell_type": "code",
   "execution_count": null,
   "outputs": [],
   "source": [],
   "metadata": {
    "collapsed": false
   }
  },
  {
   "cell_type": "code",
   "execution_count": null,
   "outputs": [],
   "source": [],
   "metadata": {
    "collapsed": false
   }
  },
  {
   "cell_type": "code",
   "execution_count": null,
   "outputs": [],
   "source": [
    "# open\n",
    "# LOAD JSON FILE\n",
    "file_name = \"/Users/arberimbibaj/Documents/Master Thesis ETH/DataSets /Generated/simulated_data_large.json\"\n",
    "f = open(file_name, 'r')\n",
    "json_str = f.read()\n",
    "large_simulation = jsonpickle.decode(json_str)"
   ],
   "metadata": {
    "collapsed": false
   }
  },
  {
   "cell_type": "code",
   "execution_count": null,
   "outputs": [],
   "source": [
    "large_simulation[17][0][3][0]"
   ],
   "metadata": {
    "collapsed": false
   }
  },
  {
   "cell_type": "code",
   "execution_count": null,
   "outputs": [],
   "source": [
    "dim1 = 24\n",
    "dim2 = 10\n",
    "dim3 = 4\n",
    "dim4 = 2\n",
    "\n",
    "empty_list = [[[[[] for _ in range(dim4)] for _ in range(dim3)] for _ in range(dim2)] for _ in range(dim1)]\n",
    "empty_list"
   ],
   "metadata": {
    "collapsed": false
   }
  },
  {
   "cell_type": "code",
   "execution_count": null,
   "outputs": [],
   "source": [
    "empty_list[20][0][0][0]"
   ],
   "metadata": {
    "collapsed": false
   }
  },
  {
   "cell_type": "code",
   "execution_count": null,
   "outputs": [],
   "source": [
    "empty_list"
   ],
   "metadata": {
    "collapsed": false
   }
  },
  {
   "cell_type": "code",
   "execution_count": null,
   "outputs": [],
   "source": [
    "data = []\n",
    "for i in range(dim1):\n",
    "    data.append([])\n",
    "\n",
    "for i in range(dim1):\n",
    "    for r in range(dim2):\n",
    "        data[i].append([])\n",
    "\n",
    "for i in range(dim1):\n",
    "    for r in range(dim2):\n",
    "        for s in range(dim3):\n",
    "            data[i][r].append([])\n",
    "\n",
    "for i in range(dim1):\n",
    "    for r in range(dim2):\n",
    "        for s in range(dim3):\n",
    "            for t in range(dim3):\n",
    "                data[i][r][s].append([])"
   ],
   "metadata": {
    "collapsed": false
   }
  },
  {
   "cell_type": "code",
   "execution_count": null,
   "outputs": [],
   "source": [
    "data[0][0][0][0] = 3"
   ],
   "metadata": {
    "collapsed": false
   }
  },
  {
   "cell_type": "code",
   "execution_count": null,
   "outputs": [],
   "source": [
    "data == empty_list"
   ],
   "metadata": {
    "collapsed": false
   }
  },
  {
   "cell_type": "code",
   "execution_count": null,
   "outputs": [],
   "source": [
    "s = [500, 1000, 200, 300]\n",
    "len(s)"
   ],
   "metadata": {
    "collapsed": false
   }
  },
  {
   "cell_type": "code",
   "execution_count": null,
   "outputs": [],
   "source": [
    "lel = [[], []]\n",
    "lel = 1, 3\n",
    "lel[1]"
   ],
   "metadata": {
    "collapsed": false
   }
  },
  {
   "cell_type": "code",
   "execution_count": null,
   "outputs": [],
   "source": [
    "sizes = [100, 1000, 200, 400]\n",
    "for s, size in enumerate(sizes):\n",
    "    print(s, \",\", size)"
   ],
   "metadata": {
    "collapsed": false
   }
  },
  {
   "cell_type": "code",
   "execution_count": null,
   "outputs": [],
   "source": [
    "import scipy\n",
    "\n",
    "scipy.__version__"
   ],
   "metadata": {
    "collapsed": false
   }
  },
  {
   "cell_type": "code",
   "execution_count": null,
   "outputs": [],
   "source": [
    "import scipy\n",
    "\n",
    "scipy.__version__"
   ],
   "metadata": {
    "collapsed": false
   }
  },
  {
   "cell_type": "code",
   "execution_count": null,
   "outputs": [],
   "source": [
    "pip\n",
    "list"
   ],
   "metadata": {
    "collapsed": false
   }
  },
  {
   "cell_type": "code",
   "execution_count": null,
   "outputs": [],
   "source": [
    "import scipy\n",
    "\n",
    "scipy.__version__"
   ],
   "metadata": {
    "collapsed": false
   }
  },
  {
   "cell_type": "code",
   "execution_count": null,
   "outputs": [],
   "source": [],
   "metadata": {
    "collapsed": false
   }
  },
  {
   "cell_type": "code",
   "execution_count": null,
   "outputs": [],
   "source": [],
   "metadata": {
    "collapsed": false
   }
  },
  {
   "cell_type": "code",
   "execution_count": null,
   "outputs": [],
   "source": [
    "# open\n",
    "# LOAD JSON FILE\n",
    "file_name = \"results_setting_1_runs_1.json\"\n",
    "f = open(file_name, 'r')\n",
    "json_str = f.read()\n",
    "res = jsonpickle.decode(json_str)"
   ],
   "metadata": {
    "collapsed": false
   }
  },
  {
   "cell_type": "code",
   "execution_count": null,
   "outputs": [],
   "source": [
    "res[1]"
   ],
   "metadata": {
    "collapsed": false
   }
  },
  {
   "cell_type": "code",
   "execution_count": null,
   "outputs": [],
   "source": [
    "# 0.317731,0.031008,0.124688,0.18466,0.254088,0.195822,0.79867,0.182264\n"
   ],
   "metadata": {
    "collapsed": false
   }
  },
  {
   "cell_type": "code",
   "execution_count": null,
   "outputs": [],
   "source": [
    "x = 3.0"
   ],
   "metadata": {
    "collapsed": false
   }
  },
  {
   "cell_type": "code",
   "execution_count": null,
   "outputs": [],
   "source": [
    "type(x)"
   ],
   "metadata": {
    "collapsed": false
   }
  },
  {
   "cell_type": "code",
   "execution_count": null,
   "outputs": [],
   "source": [
    "import configargparse"
   ],
   "metadata": {
    "collapsed": false
   }
  },
  {
   "cell_type": "code",
   "execution_count": null,
   "outputs": [],
   "source": [
    "def check(number):\n",
    "    if type(number) is not int:\n",
    "        raise configargparse.ArgumentTypeError(\"The number has to an integer\")\n",
    "    if number <= 0:\n",
    "        raise configargparse.ArgumentTypeError(\"The number has to be positive\")\n",
    "    return number"
   ],
   "metadata": {
    "collapsed": false
   }
  },
  {
   "cell_type": "code",
   "execution_count": null,
   "outputs": [],
   "source": [
    "# LARGE"
   ],
   "metadata": {
    "collapsed": false
   }
  },
  {
   "cell_type": "markdown",
   "source": [
    "compare sample sizes"
   ],
   "metadata": {
    "collapsed": false
   }
  },
  {
   "cell_type": "code",
   "execution_count": null,
   "outputs": [],
   "source": [
    "import pandas as pd"
   ],
   "metadata": {
    "collapsed": false
   }
  },
  {
   "cell_type": "code",
   "execution_count": null,
   "outputs": [],
   "source": [
    "sizes = np.tile([500, 1000, 2000, 5000], 10)\n",
    "sizes_big = np.tile([1000, 2000, 5000, 10000], 10)\n"
   ],
   "metadata": {
    "collapsed": false
   }
  },
  {
   "cell_type": "code",
   "execution_count": null,
   "outputs": [],
   "source": [
    "sizes, sizes_big"
   ],
   "metadata": {
    "collapsed": false
   }
  },
  {
   "cell_type": "code",
   "execution_count": null,
   "outputs": [],
   "source": [
    "# open\n",
    "# LOAD JSON FILE\n",
    "file_name = \"/Users/arberimbibaj/results_setup_1_large.json\"\n",
    "f = open(file_name, 'r')\n",
    "json_str = f.read()\n",
    "large = jsonpickle.decode(json_str)"
   ],
   "metadata": {
    "collapsed": false
   }
  },
  {
   "cell_type": "code",
   "execution_count": null,
   "outputs": [],
   "source": [
    "large[0]"
   ],
   "metadata": {
    "collapsed": false
   }
  },
  {
   "cell_type": "code",
   "execution_count": null,
   "outputs": [],
   "source": [
    "large_ = pd.DataFrame(large[0])\n",
    "large_.describe()"
   ],
   "metadata": {
    "collapsed": false
   }
  },
  {
   "cell_type": "code",
   "execution_count": null,
   "outputs": [],
   "source": [
    "# open\n",
    "# LOAD JSON FILE\n",
    "file_name = \"/Users/arberimbibaj/results_experiment/results_setup_1.json\"\n",
    "f = open(file_name, 'r')\n",
    "json_str = f.read()\n",
    "small = jsonpickle.decode(json_str)"
   ],
   "metadata": {
    "collapsed": false
   }
  },
  {
   "cell_type": "code",
   "execution_count": null,
   "outputs": [],
   "source": [
    "small_ = pd.DataFrame(small[0])\n",
    "small_.describe()"
   ],
   "metadata": {
    "collapsed": false
   }
  },
  {
   "cell_type": "code",
   "execution_count": null,
   "outputs": [],
   "source": [
    "np.concatenate((small[0], np.tile([100], reps=40)[:, np.newaxis]), axis=1)"
   ],
   "metadata": {
    "collapsed": false
   }
  },
  {
   "cell_type": "code",
   "execution_count": null,
   "outputs": [],
   "source": [
    "# SMALL"
   ],
   "metadata": {
    "collapsed": false
   }
  },
  {
   "cell_type": "code",
   "execution_count": null,
   "outputs": [],
   "source": [
    "lel = np.array([[2,4,5,3,1],[2,4,5,3,1]])\n",
    "lel"
   ],
   "metadata": {
    "collapsed": false
   }
  },
  {
   "cell_type": "code",
   "execution_count": null,
   "outputs": [],
   "source": [
    "size = 100"
   ],
   "metadata": {
    "collapsed": false
   }
  },
  {
   "cell_type": "code",
   "execution_count": null,
   "outputs": [],
   "source": [
    "np.concatenate((lel[0, :], np.array([100])), axis=1)"
   ],
   "metadata": {
    "collapsed": false
   }
  },
  {
   "cell_type": "code",
   "execution_count": null,
   "outputs": [],
   "source": [
    "np.array([100])[:, np.newaxis].shape"
   ],
   "metadata": {
    "collapsed": false
   }
  },
  {
   "cell_type": "code",
   "execution_count": null,
   "outputs": [],
   "source": [
    "lel[0, :].shape"
   ],
   "metadata": {
    "collapsed": false
   }
  },
  {
   "cell_type": "code",
   "execution_count": null,
   "outputs": [],
   "source": [
    "# open\n",
    "# LOAD JSON FILE\n",
    "file_name = \"results_simulated_setting1_1run(s).json\"\n",
    "f = open(file_name, 'r')\n",
    "json_str = f.read()\n",
    "with_sizes = jsonpickle.decode(json_str)"
   ],
   "metadata": {
    "collapsed": false
   }
  },
  {
   "cell_type": "code",
   "execution_count": null,
   "outputs": [],
   "source": [
    "with_sizes[2]"
   ],
   "metadata": {
    "collapsed": false
   }
  },
  {
   "cell_type": "code",
   "execution_count": null,
   "outputs": [],
   "source": [
    "x = 3\n",
    "y = 4"
   ],
   "metadata": {
    "collapsed": false
   }
  },
  {
   "cell_type": "code",
   "execution_count": null,
   "outputs": [],
   "source": [
    "f\"results_simulated_setting{x}_{y}run(s).json\""
   ],
   "metadata": {
    "collapsed": false
   }
  },
  {
   "cell_type": "code",
   "execution_count": null,
   "outputs": [],
   "source": [],
   "metadata": {
    "collapsed": false
   }
  }
 ],
 "metadata": {
  "kernelspec": {
   "display_name": "Python 3",
   "language": "python",
   "name": "python3"
  },
  "language_info": {
   "codemirror_mode": {
    "name": "ipython",
    "version": 2
   },
   "file_extension": ".py",
   "mimetype": "text/x-python",
   "name": "python",
   "nbconvert_exporter": "python",
   "pygments_lexer": "ipython2",
   "version": "2.7.6"
  }
 },
 "nbformat": 4,
 "nbformat_minor": 0
}
