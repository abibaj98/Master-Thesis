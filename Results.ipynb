{
 "cells": [
  {
   "cell_type": "code",
   "execution_count": 1,
   "metadata": {
    "collapsed": true,
    "ExecuteTime": {
     "end_time": "2023-07-30T04:50:29.050944Z",
     "start_time": "2023-07-30T04:50:29.025181Z"
    }
   },
   "outputs": [],
   "source": [
    "import numpy as np\n",
    "import jsonpickle\n",
    "import seaborn as sns\n",
    "import pandas as pd"
   ]
  },
  {
   "cell_type": "code",
   "execution_count": 2,
   "outputs": [],
   "source": [
    "# open\n",
    "# LOAD JSON FILE\n",
    "file_name = \"/Users/arberimbibaj/results.json\"\n",
    "f = open(file_name, 'r')\n",
    "json_str = f.read()\n",
    "results_all = jsonpickle.decode(json_str)"
   ],
   "metadata": {
    "collapsed": false,
    "ExecuteTime": {
     "end_time": "2023-07-30T04:50:29.499506Z",
     "start_time": "2023-07-30T04:50:29.493068Z"
    }
   }
  },
  {
   "cell_type": "code",
   "execution_count": null,
   "outputs": [],
   "source": [
    "results_all[0][0]"
   ],
   "metadata": {
    "collapsed": false
   }
  },
  {
   "cell_type": "code",
   "execution_count": null,
   "outputs": [],
   "source": [
    "# S-Learner best, X_learner good, T, DR, RA, also good, only PW-bad\n",
    "# almost same as one, PW also good?\n",
    "# X-learner best, S-learner worst (PW actually worst, but extreme)\n",
    "# X-learner best, DR/PW also good, rest oke (PW very bad)\n",
    "# T-learner best?, R/RA very good\n",
    "# X-learner best, but S/T/DR/RA all very good\n",
    "# S-learner best, then X-learner\n",
    "# S-learner best,\n",
    "# X-learner best, (especially for RF)\n",
    "# X-learner best,\n",
    "# T-learner best\n",
    "# S-learner best?, T/X/DR/RA all very good\n",
    "# S-learner best, X also very good\n",
    "# S-learner best, X also very good, R bad\n",
    "# X-learner best, DR-learner also very good\n",
    "# X-learner best, DR/RA good but then at siz=5000 bad?\n",
    "# DR/RA best, X also very good\n",
    "# S-learner best ??? probably because the cates are not scaled enough\n",
    "# S-learner best\n",
    "# S-learner best\n",
    "# X best, DR/RA very good\n",
    "# X best, DR/RA very good,\n",
    "# X best, but all perform a bit bad\n",
    "# T, S, X R DR all good, probably because of not scalling"
   ],
   "metadata": {
    "collapsed": false
   }
  },
  {
   "cell_type": "code",
   "execution_count": null,
   "outputs": [],
   "source": [
    "# CONCLUSIONS\n",
    "# -----------\n",
    "\n",
    "# 1: If zero cate --> S-learner is the best, X-learner also performs good\n",
    "# 2: If simple cate --> X-learner is the best, often DR/RA/R learner also perform good\n",
    "# 3: if complex cate --> T very good, somehow S-learner also good (probably to bad scalling of outcomes), DR/RA/R learner also good\n",
    "# 4: PW learner very bad mostly, U-learner also not good\n",
    "\n",
    "# Base learners\n",
    "# -------------\n",
    "# RF and Linear model seem to be more stable than Neural Network, at least with these hyperparameters.\n",
    "# All \"pseudo-outome\" metalearners very bad with Neural Network??? --> probably the classification task is bad"
   ],
   "metadata": {
    "collapsed": false
   }
  },
  {
   "cell_type": "code",
   "execution_count": null,
   "outputs": [],
   "source": [],
   "metadata": {
    "collapsed": false
   }
  },
  {
   "cell_type": "markdown",
   "source": [
    "12 setups"
   ],
   "metadata": {
    "collapsed": false
   }
  },
  {
   "cell_type": "code",
   "execution_count": null,
   "outputs": [],
   "source": [
    "# open\n",
    "# LOAD JSON FILE\n",
    "file_name = \"/Users/arberimbibaj/results_12_setups_no_cv.json\"\n",
    "f = open(file_name, 'r')\n",
    "json_str = f.read()\n",
    "results_12 = jsonpickle.decode(json_str)"
   ],
   "metadata": {
    "collapsed": false
   }
  },
  {
   "cell_type": "code",
   "execution_count": null,
   "outputs": [],
   "source": [
    "results_12[11][0]"
   ],
   "metadata": {
    "collapsed": false
   }
  },
  {
   "cell_type": "code",
   "execution_count": null,
   "outputs": [],
   "source": [
    "np.sqrt(50)"
   ],
   "metadata": {
    "collapsed": false
   }
  },
  {
   "cell_type": "code",
   "execution_count": null,
   "outputs": [],
   "source": [
    "results_cf[11][2]"
   ],
   "metadata": {
    "collapsed": false
   }
  },
  {
   "cell_type": "code",
   "execution_count": null,
   "outputs": [],
   "source": [
    "# S-learner best\n",
    "# S learner best\n",
    "# X-learner best, DR/RA very good\n",
    "# X-learner best, DR/RA very good, S bad\n",
    "# R learner best\n",
    "# S-learner best--> because most Ys are near zero!!!, else, DR/RA very good and also X/T learner\n",
    "\n",
    "\n",
    "# CONCLUSION\n",
    "# looks to make sense, PW is bad\n",
    "\n"
   ],
   "metadata": {
    "collapsed": false
   }
  },
  {
   "cell_type": "code",
   "execution_count": null,
   "outputs": [],
   "source": [
    "# open\n",
    "# LOAD JSON FILE\n",
    "file_name = \"check_repro.json\"\n",
    "f = open(file_name, 'r')\n",
    "json_str = f.read()\n",
    "check = jsonpickle.decode(json_str)"
   ],
   "metadata": {
    "collapsed": false
   }
  },
  {
   "cell_type": "code",
   "execution_count": null,
   "outputs": [],
   "source": [
    "check[1][0]"
   ],
   "metadata": {
    "collapsed": false
   }
  },
  {
   "cell_type": "code",
   "execution_count": null,
   "outputs": [],
   "source": [],
   "metadata": {
    "collapsed": false
   }
  },
  {
   "cell_type": "markdown",
   "source": [
    "with cross-fitting"
   ],
   "metadata": {
    "collapsed": false
   }
  },
  {
   "cell_type": "code",
   "execution_count": null,
   "outputs": [],
   "source": [
    "# open\n",
    "# LOAD JSON FILE\n",
    "file_name = \"/Users/arberimbibaj/results_12_setups.json\"\n",
    "f = open(file_name, 'r')\n",
    "json_str = f.read()\n",
    "results_cf = jsonpickle.decode(json_str)"
   ],
   "metadata": {
    "collapsed": false
   }
  },
  {
   "cell_type": "code",
   "execution_count": null,
   "outputs": [],
   "source": [
    "results_cf[11][2]"
   ],
   "metadata": {
    "collapsed": false
   }
  },
  {
   "cell_type": "code",
   "execution_count": null,
   "outputs": [],
   "source": [
    "# OK nice\n",
    "\n",
    "# much better with cross-fitting now!!"
   ],
   "metadata": {
    "collapsed": false
   }
  },
  {
   "cell_type": "markdown",
   "source": [
    "IHDP"
   ],
   "metadata": {
    "collapsed": false
   }
  },
  {
   "cell_type": "code",
   "execution_count": null,
   "outputs": [],
   "source": [
    "# open\n",
    "# LOAD JSON FILE\n",
    "file_name = \"results_ihdp.json\"\n",
    "f = open(file_name, 'r')\n",
    "json_str = f.read()\n",
    "ihdp_results = jsonpickle.decode(json_str)"
   ],
   "metadata": {
    "collapsed": false
   }
  },
  {
   "cell_type": "code",
   "execution_count": null,
   "outputs": [],
   "source": [
    "ihdp_results[0]"
   ],
   "metadata": {
    "collapsed": false
   }
  },
  {
   "cell_type": "code",
   "execution_count": null,
   "outputs": [],
   "source": [
    "# open\n",
    "# LOAD JSON FILE\n",
    "file_name = \"results_ihdp_no_cross.json\"\n",
    "f = open(file_name, 'r')\n",
    "json_str = f.read()\n",
    "ihdp_results_no_cross = jsonpickle.decode(json_str)"
   ],
   "metadata": {
    "collapsed": false
   }
  },
  {
   "cell_type": "code",
   "execution_count": null,
   "outputs": [],
   "source": [
    "ihdp_results_no_cross[2]"
   ],
   "metadata": {
    "collapsed": false
   }
  },
  {
   "cell_type": "code",
   "execution_count": null,
   "outputs": [],
   "source": [
    "# better than cross-fitting"
   ],
   "metadata": {
    "collapsed": false
   }
  },
  {
   "cell_type": "code",
   "execution_count": null,
   "outputs": [],
   "source": [
    "# open\n",
    "# LOAD JSON FILE\n",
    "file_name = \"results_ihdp_no_cross_.json\"\n",
    "f = open(file_name, 'r')\n",
    "json_str = f.read()\n",
    "ihdp_results_no_cross_ = jsonpickle.decode(json_str)"
   ],
   "metadata": {
    "collapsed": false
   }
  },
  {
   "cell_type": "code",
   "execution_count": null,
   "outputs": [],
   "source": [
    "ihdp_results_no_cross_[2]"
   ],
   "metadata": {
    "collapsed": false
   }
  },
  {
   "cell_type": "code",
   "execution_count": null,
   "outputs": [],
   "source": [
    "# open\n",
    "# LOAD JSON FILE\n",
    "file_name = \"results_ihdp_no_cross_.json\"\n",
    "f = open(file_name, 'r')\n",
    "json_str = f.read()\n",
    "ihdp_results_no_cross_ = jsonpickle.decode(json_str)"
   ],
   "metadata": {
    "collapsed": false
   }
  },
  {
   "cell_type": "code",
   "execution_count": null,
   "outputs": [],
   "source": [
    "ihdp_results_no_cross_[0]"
   ],
   "metadata": {
    "collapsed": false
   }
  },
  {
   "cell_type": "code",
   "execution_count": null,
   "outputs": [],
   "source": [
    "# open\n",
    "# LOAD JSON FILE\n",
    "file_name = \"/Users/arberimbibaj/results_ihdp_1e-0.json\"\n",
    "f = open(file_name, 'r')\n",
    "json_str = f.read()\n",
    "ihdp_results_1 = jsonpickle.decode(json_str)"
   ],
   "metadata": {
    "collapsed": false
   }
  },
  {
   "cell_type": "code",
   "execution_count": null,
   "outputs": [],
   "source": [
    "ihdp_results_1[2]"
   ],
   "metadata": {
    "collapsed": false
   }
  },
  {
   "cell_type": "code",
   "execution_count": null,
   "outputs": [],
   "source": [
    "# open\n",
    "# LOAD JSON FILE\n",
    "file_name = \"/Users/arberimbibaj/results_ihdp_1e-4.json\"\n",
    "f = open(file_name, 'r')\n",
    "json_str = f.read()\n",
    "ihdp_results_4 = jsonpickle.decode(json_str)"
   ],
   "metadata": {
    "collapsed": false
   }
  },
  {
   "cell_type": "code",
   "execution_count": null,
   "outputs": [],
   "source": [
    "ihdp_results_4[2]"
   ],
   "metadata": {
    "collapsed": false
   }
  },
  {
   "cell_type": "code",
   "execution_count": null,
   "outputs": [],
   "source": [
    "# open\n",
    "# LOAD JSON FILE\n",
    "file_name = \"/Users/arberimbibaj/results_ihdp_1e-2.json\"\n",
    "f = open(file_name, 'r')\n",
    "json_str = f.read()\n",
    "ihdp_results_2 = jsonpickle.decode(json_str)"
   ],
   "metadata": {
    "collapsed": false
   }
  },
  {
   "cell_type": "code",
   "execution_count": null,
   "outputs": [],
   "source": [
    "ihdp_results_2[2]"
   ],
   "metadata": {
    "collapsed": false
   }
  },
  {
   "cell_type": "code",
   "execution_count": null,
   "outputs": [],
   "source": [
    "# open\n",
    "# LOAD JSON FILE\n",
    "file_name = \"/Users/arberimbibaj/results_ihdp_1e-3.json\"\n",
    "f = open(file_name, 'r')\n",
    "json_str = f.read()\n",
    "ihdp_results_3 = jsonpickle.decode(json_str)"
   ],
   "metadata": {
    "collapsed": false
   }
  },
  {
   "cell_type": "code",
   "execution_count": null,
   "outputs": [],
   "source": [
    "ihdp_results_3[2]"
   ],
   "metadata": {
    "collapsed": false
   }
  },
  {
   "cell_type": "code",
   "execution_count": null,
   "outputs": [],
   "source": [
    "import keras"
   ],
   "metadata": {
    "collapsed": false
   }
  },
  {
   "cell_type": "code",
   "execution_count": null,
   "outputs": [],
   "source": [
    "keras.__version__"
   ],
   "metadata": {
    "collapsed": false
   }
  },
  {
   "cell_type": "code",
   "execution_count": null,
   "outputs": [],
   "source": [
    "import numpy"
   ],
   "metadata": {
    "collapsed": false
   }
  },
  {
   "cell_type": "code",
   "execution_count": null,
   "outputs": [],
   "source": [
    "numpy.__version__"
   ],
   "metadata": {
    "collapsed": false
   }
  },
  {
   "cell_type": "code",
   "execution_count": null,
   "outputs": [],
   "source": [
    "A = []"
   ],
   "metadata": {
    "collapsed": false
   }
  },
  {
   "cell_type": "code",
   "execution_count": null,
   "outputs": [],
   "source": [
    "A.append(0)"
   ],
   "metadata": {
    "collapsed": false
   }
  },
  {
   "cell_type": "code",
   "execution_count": null,
   "outputs": [],
   "source": [
    "A"
   ],
   "metadata": {
    "collapsed": false
   }
  },
  {
   "cell_type": "code",
   "execution_count": null,
   "outputs": [],
   "source": [
    "A = [0]"
   ],
   "metadata": {
    "collapsed": false
   }
  },
  {
   "cell_type": "code",
   "execution_count": null,
   "outputs": [],
   "source": [
    "A.append(1)"
   ],
   "metadata": {
    "collapsed": false
   }
  },
  {
   "cell_type": "code",
   "execution_count": null,
   "outputs": [],
   "source": [
    "A"
   ],
   "metadata": {
    "collapsed": false
   }
  },
  {
   "cell_type": "code",
   "execution_count": 3,
   "outputs": [],
   "source": [
    "# open\n",
    "# LOAD JSON FILE\n",
    "file_name = \"/Users/arberimbibaj/results_setup_1_old.json\"\n",
    "f = open(file_name, 'r')\n",
    "json_str = f.read()\n",
    "results_1 = jsonpickle.decode(json_str)"
   ],
   "metadata": {
    "collapsed": false,
    "ExecuteTime": {
     "end_time": "2023-07-30T04:50:45.162079Z",
     "start_time": "2023-07-30T04:50:45.150740Z"
    }
   }
  },
  {
   "cell_type": "code",
   "execution_count": 4,
   "outputs": [],
   "source": [
    "rf_results = results_1[0].flatten('F')[:, np.newaxis]\n",
    "lm_results = results_1[1].flatten('F')[:, np.newaxis]\n",
    "nn_results = results_1[2].flatten('F')[:, np.newaxis]"
   ],
   "metadata": {
    "collapsed": false,
    "ExecuteTime": {
     "end_time": "2023-07-30T04:50:45.384750Z",
     "start_time": "2023-07-30T04:50:45.375457Z"
    }
   }
  },
  {
   "cell_type": "code",
   "execution_count": 5,
   "outputs": [
    {
     "data": {
      "text/plain": "array([[1.89749264e-01],\n       [2.25685284e-01],\n       [2.10810278e-01],\n       [1.48055932e-01],\n       [3.01068246e-01],\n       [2.29847121e-01],\n       [1.75470340e-01],\n       [1.49997021e-01],\n       [2.81596694e-01],\n       [2.32666697e-01],\n       [1.61571528e-01],\n       [1.80489323e-01],\n       [2.25273702e-01],\n       [2.07042262e-01],\n       [2.00503097e-01],\n       [1.42009155e-01],\n       [2.95092003e-01],\n       [1.74074514e-01],\n       [2.11618205e-01],\n       [1.56315949e-01],\n       [3.04740179e-01],\n       [2.15044015e-01],\n       [1.65157314e-01],\n       [1.59890964e-01],\n       [2.29330172e-01],\n       [2.44749440e-01],\n       [2.11985373e-01],\n       [1.27854779e-01],\n       [2.29842349e-01],\n       [2.52590947e-01],\n       [1.80408492e-01],\n       [1.48139777e-01],\n       [3.25982018e-01],\n       [2.81621747e-01],\n       [1.64298440e-01],\n       [1.38824616e-01],\n       [2.89861327e-01],\n       [2.39769166e-01],\n       [1.92776632e-01],\n       [1.78420401e-01],\n       [7.86068909e-04],\n       [3.59250669e-03],\n       [1.84948340e-03],\n       [8.98260886e-04],\n       [6.55855704e-04],\n       [1.37610611e-03],\n       [1.09342627e-03],\n       [1.15574180e-03],\n       [7.54221510e-04],\n       [1.17050807e-03],\n       [8.25220032e-04],\n       [1.32347957e-02],\n       [5.59017499e-04],\n       [1.21104942e-03],\n       [1.73464437e-03],\n       [9.26392138e-04],\n       [1.48260513e-03],\n       [9.79725414e-04],\n       [1.53671885e-03],\n       [1.33084647e-03],\n       [1.31026412e-03],\n       [1.39138234e-03],\n       [1.16116258e-03],\n       [1.20015744e-03],\n       [7.05662833e-04],\n       [1.78300389e-03],\n       [1.85702795e-03],\n       [1.07550367e-03],\n       [1.05931175e-03],\n       [1.76866680e-03],\n       [1.10947682e-03],\n       [1.16104839e-03],\n       [1.99792718e-03],\n       [1.01729135e-03],\n       [9.42461043e-04],\n       [1.13762717e-03],\n       [1.39612705e-03],\n       [2.42345564e-03],\n       [1.34976987e-03],\n       [1.79672499e-03],\n       [6.91387332e-02],\n       [9.31411354e-02],\n       [1.00623261e-01],\n       [6.45029779e-02],\n       [1.44136549e-01],\n       [1.14740687e-01],\n       [8.86425752e-02],\n       [6.81280437e-02],\n       [1.16238679e-01],\n       [1.23811231e-01],\n       [7.00868788e-02],\n       [9.01208392e-02],\n       [1.15162808e-01],\n       [8.52982220e-02],\n       [1.03501612e-01],\n       [5.13841215e-02],\n       [1.59205446e-01],\n       [6.67442505e-02],\n       [9.19329509e-02],\n       [6.44420293e-02],\n       [2.02331480e-01],\n       [1.01479587e-01],\n       [8.41422075e-02],\n       [6.56462626e-02],\n       [1.10904723e-01],\n       [1.16624643e-01],\n       [1.09611458e-01],\n       [4.61652863e-02],\n       [1.08379045e-01],\n       [1.24487351e-01],\n       [8.97591906e-02],\n       [6.64614030e-02],\n       [1.30738497e-01],\n       [1.23799195e-01],\n       [7.03232205e-02],\n       [5.76857909e-02],\n       [1.85965133e-01],\n       [1.35756119e-01],\n       [7.39316385e-02],\n       [6.83668932e-02],\n       [3.92374175e-01],\n       [3.30421100e-01],\n       [2.89203721e-01],\n       [1.98358484e-01],\n       [4.50638779e-01],\n       [4.19244679e-01],\n       [3.39477004e-01],\n       [2.44150247e-01],\n       [5.41506866e-01],\n       [4.00499796e-01],\n       [2.56044977e-01],\n       [2.42196828e-01],\n       [3.93741853e-01],\n       [2.82043236e-01],\n       [2.98165379e-01],\n       [2.07802118e-01],\n       [4.45866845e-01],\n       [3.95083407e-01],\n       [3.01369031e-01],\n       [2.13861546e-01],\n       [4.85457814e-01],\n       [3.98548698e-01],\n       [3.02289072e-01],\n       [2.19387932e-01],\n       [4.96073412e-01],\n       [5.20311326e-01],\n       [3.17194044e-01],\n       [1.99312359e-01],\n       [4.82480337e-01],\n       [4.02982959e-01],\n       [3.12380215e-01],\n       [2.18299356e-01],\n       [5.08724235e-01],\n       [4.27700013e-01],\n       [2.76768457e-01],\n       [2.12849420e-01],\n       [5.16341656e-01],\n       [4.06504785e-01],\n       [2.99980533e-01],\n       [2.36078767e-01],\n       [1.28845476e-01],\n       [1.65870649e-01],\n       [1.63155321e-01],\n       [1.00469580e-01],\n       [2.04440607e-01],\n       [1.77783746e-01],\n       [1.46978731e-01],\n       [1.13604048e-01],\n       [2.50025645e-01],\n       [1.93110613e-01],\n       [1.21117087e-01],\n       [1.40292934e-01],\n       [1.93420820e-01],\n       [1.47374734e-01],\n       [1.56994483e-01],\n       [9.20299358e-02],\n       [2.97791638e-01],\n       [1.22440622e-01],\n       [1.73687147e-01],\n       [1.09404239e-01],\n       [2.36660679e-01],\n       [1.77475324e-01],\n       [1.45626107e-01],\n       [1.06194492e-01],\n       [1.91090443e-01],\n       [2.07927563e-01],\n       [1.61354406e-01],\n       [8.81839008e-02],\n       [1.71443606e-01],\n       [2.01814699e-01],\n       [1.39974956e-01],\n       [1.09588656e-01],\n       [2.22604222e-01],\n       [1.87271860e-01],\n       [1.12878383e-01],\n       [9.30161990e-02],\n       [2.68026074e-01],\n       [2.05868705e-01],\n       [1.40637545e-01],\n       [1.22610675e-01],\n       [1.20743991e-01],\n       [1.58771401e-01],\n       [1.56621857e-01],\n       [9.34600902e-02],\n       [1.95560342e-01],\n       [1.69341854e-01],\n       [1.39437922e-01],\n       [1.06533204e-01],\n       [2.40657720e-01],\n       [1.84034950e-01],\n       [1.13598455e-01],\n       [1.35581693e-01],\n       [1.82024930e-01],\n       [1.44136521e-01],\n       [1.49730622e-01],\n       [8.79679014e-02],\n       [2.98912201e-01],\n       [1.11246756e-01],\n       [1.68922263e-01],\n       [1.05625391e-01],\n       [2.26412066e-01],\n       [1.64223772e-01],\n       [1.39339624e-01],\n       [1.00383745e-01],\n       [1.83202069e-01],\n       [1.95344392e-01],\n       [1.58848392e-01],\n       [8.30921764e-02],\n       [1.57228673e-01],\n       [1.92070156e-01],\n       [1.33010864e-01],\n       [1.04202999e-01],\n       [2.14575736e-01],\n       [1.82242599e-01],\n       [1.04569438e-01],\n       [8.82531639e-02],\n       [2.70511289e-01],\n       [1.95969966e-01],\n       [1.39134914e-01],\n       [1.19899374e-01],\n       [1.23544855e+00],\n       [1.09946828e+00],\n       [7.26989444e-01],\n       [5.95615861e-01],\n       [1.44475413e+00],\n       [9.86479533e-01],\n       [7.35016079e-01],\n       [6.34012418e-01],\n       [1.53786895e+00],\n       [9.10641986e-01],\n       [7.77744072e-01],\n       [6.59006164e-01],\n       [8.42494843e-01],\n       [8.81990493e-01],\n       [7.61996970e-01],\n       [6.54928368e-01],\n       [1.13888048e+00],\n       [9.81275482e-01],\n       [7.80210942e-01],\n       [5.94975928e-01],\n       [1.21605007e+00],\n       [1.10512535e+00],\n       [7.26483828e-01],\n       [5.61719571e-01],\n       [1.02518994e+00],\n       [1.12074806e+00],\n       [8.27533254e-01],\n       [6.20365801e-01],\n       [9.53566333e-01],\n       [7.23634998e-01],\n       [7.94728723e-01],\n       [5.64351185e-01],\n       [1.12223216e+00],\n       [8.79987214e-01],\n       [8.24703746e-01],\n       [6.17208018e-01],\n       [1.05371883e+00],\n       [9.85418143e-01],\n       [7.53325436e-01],\n       [5.31798336e-01],\n       [4.26580839e-01],\n       [3.23633674e-01],\n       [3.05782911e-01],\n       [2.08792669e-01],\n       [4.71830603e-01],\n       [4.62375667e-01],\n       [3.76986232e-01],\n       [2.64878354e-01],\n       [6.93960694e-01],\n       [4.27882748e-01],\n       [3.00657188e-01],\n       [2.61399951e-01],\n       [4.67258809e-01],\n       [3.21765228e-01],\n       [3.14089296e-01],\n       [2.18096464e-01],\n       [4.53078566e-01],\n       [5.13921968e-01],\n       [3.52433232e-01],\n       [2.17353293e-01],\n       [4.92652205e-01],\n       [4.36571566e-01],\n       [3.01339342e-01],\n       [2.43041072e-01],\n       [5.46416757e-01],\n       [5.69374647e-01],\n       [3.51840305e-01],\n       [2.15197509e-01],\n       [5.91726519e-01],\n       [3.93118994e-01],\n       [3.45980386e-01],\n       [2.23163150e-01],\n       [5.88612685e-01],\n       [4.67271972e-01],\n       [2.84701443e-01],\n       [2.20154057e-01],\n       [7.04130186e-01],\n       [4.52077290e-01],\n       [3.04762833e-01],\n       [2.45505263e-01]])"
     },
     "execution_count": 5,
     "metadata": {},
     "output_type": "execute_result"
    }
   ],
   "source": [
    "rf_results"
   ],
   "metadata": {
    "collapsed": false,
    "ExecuteTime": {
     "end_time": "2023-07-30T04:50:45.651733Z",
     "start_time": "2023-07-30T04:50:45.646286Z"
    }
   }
  },
  {
   "cell_type": "code",
   "execution_count": 6,
   "outputs": [],
   "source": [
    "metalearner_names = ['TLearner', 'SLearner', 'XLearner', 'RLeaner', 'DRLearner', 'RALeaner', 'PWLeaner', 'ULearner']"
   ],
   "metadata": {
    "collapsed": false,
    "ExecuteTime": {
     "end_time": "2023-07-30T04:50:45.890748Z",
     "start_time": "2023-07-30T04:50:45.879579Z"
    }
   }
  },
  {
   "cell_type": "code",
   "execution_count": 7,
   "outputs": [],
   "source": [
    "metalearner_names = np.repeat(metalearner_names, 40)"
   ],
   "metadata": {
    "collapsed": false,
    "ExecuteTime": {
     "end_time": "2023-07-30T04:50:46.627007Z",
     "start_time": "2023-07-30T04:50:46.619936Z"
    }
   }
  },
  {
   "cell_type": "code",
   "execution_count": 8,
   "outputs": [],
   "source": [
    "metas = np.array(metalearner_names)[:, np.newaxis]"
   ],
   "metadata": {
    "collapsed": false,
    "ExecuteTime": {
     "end_time": "2023-07-30T04:50:46.827093Z",
     "start_time": "2023-07-30T04:50:46.817282Z"
    }
   }
  },
  {
   "cell_type": "code",
   "execution_count": 9,
   "outputs": [
    {
     "data": {
      "text/plain": "array([['TLearner'],\n       ['TLearner'],\n       ['TLearner'],\n       ['TLearner'],\n       ['TLearner'],\n       ['TLearner'],\n       ['TLearner'],\n       ['TLearner'],\n       ['TLearner'],\n       ['TLearner'],\n       ['TLearner'],\n       ['TLearner'],\n       ['TLearner'],\n       ['TLearner'],\n       ['TLearner'],\n       ['TLearner'],\n       ['TLearner'],\n       ['TLearner'],\n       ['TLearner'],\n       ['TLearner'],\n       ['TLearner'],\n       ['TLearner'],\n       ['TLearner'],\n       ['TLearner'],\n       ['TLearner'],\n       ['TLearner'],\n       ['TLearner'],\n       ['TLearner'],\n       ['TLearner'],\n       ['TLearner'],\n       ['TLearner'],\n       ['TLearner'],\n       ['TLearner'],\n       ['TLearner'],\n       ['TLearner'],\n       ['TLearner'],\n       ['TLearner'],\n       ['TLearner'],\n       ['TLearner'],\n       ['TLearner'],\n       ['SLearner'],\n       ['SLearner'],\n       ['SLearner'],\n       ['SLearner'],\n       ['SLearner'],\n       ['SLearner'],\n       ['SLearner'],\n       ['SLearner'],\n       ['SLearner'],\n       ['SLearner'],\n       ['SLearner'],\n       ['SLearner'],\n       ['SLearner'],\n       ['SLearner'],\n       ['SLearner'],\n       ['SLearner'],\n       ['SLearner'],\n       ['SLearner'],\n       ['SLearner'],\n       ['SLearner'],\n       ['SLearner'],\n       ['SLearner'],\n       ['SLearner'],\n       ['SLearner'],\n       ['SLearner'],\n       ['SLearner'],\n       ['SLearner'],\n       ['SLearner'],\n       ['SLearner'],\n       ['SLearner'],\n       ['SLearner'],\n       ['SLearner'],\n       ['SLearner'],\n       ['SLearner'],\n       ['SLearner'],\n       ['SLearner'],\n       ['SLearner'],\n       ['SLearner'],\n       ['SLearner'],\n       ['SLearner'],\n       ['XLearner'],\n       ['XLearner'],\n       ['XLearner'],\n       ['XLearner'],\n       ['XLearner'],\n       ['XLearner'],\n       ['XLearner'],\n       ['XLearner'],\n       ['XLearner'],\n       ['XLearner'],\n       ['XLearner'],\n       ['XLearner'],\n       ['XLearner'],\n       ['XLearner'],\n       ['XLearner'],\n       ['XLearner'],\n       ['XLearner'],\n       ['XLearner'],\n       ['XLearner'],\n       ['XLearner'],\n       ['XLearner'],\n       ['XLearner'],\n       ['XLearner'],\n       ['XLearner'],\n       ['XLearner'],\n       ['XLearner'],\n       ['XLearner'],\n       ['XLearner'],\n       ['XLearner'],\n       ['XLearner'],\n       ['XLearner'],\n       ['XLearner'],\n       ['XLearner'],\n       ['XLearner'],\n       ['XLearner'],\n       ['XLearner'],\n       ['XLearner'],\n       ['XLearner'],\n       ['XLearner'],\n       ['XLearner'],\n       ['RLeaner'],\n       ['RLeaner'],\n       ['RLeaner'],\n       ['RLeaner'],\n       ['RLeaner'],\n       ['RLeaner'],\n       ['RLeaner'],\n       ['RLeaner'],\n       ['RLeaner'],\n       ['RLeaner'],\n       ['RLeaner'],\n       ['RLeaner'],\n       ['RLeaner'],\n       ['RLeaner'],\n       ['RLeaner'],\n       ['RLeaner'],\n       ['RLeaner'],\n       ['RLeaner'],\n       ['RLeaner'],\n       ['RLeaner'],\n       ['RLeaner'],\n       ['RLeaner'],\n       ['RLeaner'],\n       ['RLeaner'],\n       ['RLeaner'],\n       ['RLeaner'],\n       ['RLeaner'],\n       ['RLeaner'],\n       ['RLeaner'],\n       ['RLeaner'],\n       ['RLeaner'],\n       ['RLeaner'],\n       ['RLeaner'],\n       ['RLeaner'],\n       ['RLeaner'],\n       ['RLeaner'],\n       ['RLeaner'],\n       ['RLeaner'],\n       ['RLeaner'],\n       ['RLeaner'],\n       ['DRLearner'],\n       ['DRLearner'],\n       ['DRLearner'],\n       ['DRLearner'],\n       ['DRLearner'],\n       ['DRLearner'],\n       ['DRLearner'],\n       ['DRLearner'],\n       ['DRLearner'],\n       ['DRLearner'],\n       ['DRLearner'],\n       ['DRLearner'],\n       ['DRLearner'],\n       ['DRLearner'],\n       ['DRLearner'],\n       ['DRLearner'],\n       ['DRLearner'],\n       ['DRLearner'],\n       ['DRLearner'],\n       ['DRLearner'],\n       ['DRLearner'],\n       ['DRLearner'],\n       ['DRLearner'],\n       ['DRLearner'],\n       ['DRLearner'],\n       ['DRLearner'],\n       ['DRLearner'],\n       ['DRLearner'],\n       ['DRLearner'],\n       ['DRLearner'],\n       ['DRLearner'],\n       ['DRLearner'],\n       ['DRLearner'],\n       ['DRLearner'],\n       ['DRLearner'],\n       ['DRLearner'],\n       ['DRLearner'],\n       ['DRLearner'],\n       ['DRLearner'],\n       ['DRLearner'],\n       ['RALeaner'],\n       ['RALeaner'],\n       ['RALeaner'],\n       ['RALeaner'],\n       ['RALeaner'],\n       ['RALeaner'],\n       ['RALeaner'],\n       ['RALeaner'],\n       ['RALeaner'],\n       ['RALeaner'],\n       ['RALeaner'],\n       ['RALeaner'],\n       ['RALeaner'],\n       ['RALeaner'],\n       ['RALeaner'],\n       ['RALeaner'],\n       ['RALeaner'],\n       ['RALeaner'],\n       ['RALeaner'],\n       ['RALeaner'],\n       ['RALeaner'],\n       ['RALeaner'],\n       ['RALeaner'],\n       ['RALeaner'],\n       ['RALeaner'],\n       ['RALeaner'],\n       ['RALeaner'],\n       ['RALeaner'],\n       ['RALeaner'],\n       ['RALeaner'],\n       ['RALeaner'],\n       ['RALeaner'],\n       ['RALeaner'],\n       ['RALeaner'],\n       ['RALeaner'],\n       ['RALeaner'],\n       ['RALeaner'],\n       ['RALeaner'],\n       ['RALeaner'],\n       ['RALeaner'],\n       ['PWLeaner'],\n       ['PWLeaner'],\n       ['PWLeaner'],\n       ['PWLeaner'],\n       ['PWLeaner'],\n       ['PWLeaner'],\n       ['PWLeaner'],\n       ['PWLeaner'],\n       ['PWLeaner'],\n       ['PWLeaner'],\n       ['PWLeaner'],\n       ['PWLeaner'],\n       ['PWLeaner'],\n       ['PWLeaner'],\n       ['PWLeaner'],\n       ['PWLeaner'],\n       ['PWLeaner'],\n       ['PWLeaner'],\n       ['PWLeaner'],\n       ['PWLeaner'],\n       ['PWLeaner'],\n       ['PWLeaner'],\n       ['PWLeaner'],\n       ['PWLeaner'],\n       ['PWLeaner'],\n       ['PWLeaner'],\n       ['PWLeaner'],\n       ['PWLeaner'],\n       ['PWLeaner'],\n       ['PWLeaner'],\n       ['PWLeaner'],\n       ['PWLeaner'],\n       ['PWLeaner'],\n       ['PWLeaner'],\n       ['PWLeaner'],\n       ['PWLeaner'],\n       ['PWLeaner'],\n       ['PWLeaner'],\n       ['PWLeaner'],\n       ['PWLeaner'],\n       ['ULearner'],\n       ['ULearner'],\n       ['ULearner'],\n       ['ULearner'],\n       ['ULearner'],\n       ['ULearner'],\n       ['ULearner'],\n       ['ULearner'],\n       ['ULearner'],\n       ['ULearner'],\n       ['ULearner'],\n       ['ULearner'],\n       ['ULearner'],\n       ['ULearner'],\n       ['ULearner'],\n       ['ULearner'],\n       ['ULearner'],\n       ['ULearner'],\n       ['ULearner'],\n       ['ULearner'],\n       ['ULearner'],\n       ['ULearner'],\n       ['ULearner'],\n       ['ULearner'],\n       ['ULearner'],\n       ['ULearner'],\n       ['ULearner'],\n       ['ULearner'],\n       ['ULearner'],\n       ['ULearner'],\n       ['ULearner'],\n       ['ULearner'],\n       ['ULearner'],\n       ['ULearner'],\n       ['ULearner'],\n       ['ULearner'],\n       ['ULearner'],\n       ['ULearner'],\n       ['ULearner'],\n       ['ULearner']], dtype='<U9')"
     },
     "execution_count": 9,
     "metadata": {},
     "output_type": "execute_result"
    }
   ],
   "source": [
    "metas"
   ],
   "metadata": {
    "collapsed": false,
    "ExecuteTime": {
     "end_time": "2023-07-30T04:50:47.024232Z",
     "start_time": "2023-07-30T04:50:47.015433Z"
    }
   }
  },
  {
   "cell_type": "code",
   "execution_count": 10,
   "outputs": [
    {
     "data": {
      "text/plain": "array([[ 500],\n       [1000],\n       [2000],\n       [5000],\n       [ 500],\n       [1000],\n       [2000],\n       [5000],\n       [ 500],\n       [1000],\n       [2000],\n       [5000],\n       [ 500],\n       [1000],\n       [2000],\n       [5000],\n       [ 500],\n       [1000],\n       [2000],\n       [5000],\n       [ 500],\n       [1000],\n       [2000],\n       [5000],\n       [ 500],\n       [1000],\n       [2000],\n       [5000],\n       [ 500],\n       [1000],\n       [2000],\n       [5000],\n       [ 500],\n       [1000],\n       [2000],\n       [5000],\n       [ 500],\n       [1000],\n       [2000],\n       [5000],\n       [ 500],\n       [1000],\n       [2000],\n       [5000],\n       [ 500],\n       [1000],\n       [2000],\n       [5000],\n       [ 500],\n       [1000],\n       [2000],\n       [5000],\n       [ 500],\n       [1000],\n       [2000],\n       [5000],\n       [ 500],\n       [1000],\n       [2000],\n       [5000],\n       [ 500],\n       [1000],\n       [2000],\n       [5000],\n       [ 500],\n       [1000],\n       [2000],\n       [5000],\n       [ 500],\n       [1000],\n       [2000],\n       [5000],\n       [ 500],\n       [1000],\n       [2000],\n       [5000],\n       [ 500],\n       [1000],\n       [2000],\n       [5000],\n       [ 500],\n       [1000],\n       [2000],\n       [5000],\n       [ 500],\n       [1000],\n       [2000],\n       [5000],\n       [ 500],\n       [1000],\n       [2000],\n       [5000],\n       [ 500],\n       [1000],\n       [2000],\n       [5000],\n       [ 500],\n       [1000],\n       [2000],\n       [5000],\n       [ 500],\n       [1000],\n       [2000],\n       [5000],\n       [ 500],\n       [1000],\n       [2000],\n       [5000],\n       [ 500],\n       [1000],\n       [2000],\n       [5000],\n       [ 500],\n       [1000],\n       [2000],\n       [5000],\n       [ 500],\n       [1000],\n       [2000],\n       [5000],\n       [ 500],\n       [1000],\n       [2000],\n       [5000],\n       [ 500],\n       [1000],\n       [2000],\n       [5000],\n       [ 500],\n       [1000],\n       [2000],\n       [5000],\n       [ 500],\n       [1000],\n       [2000],\n       [5000],\n       [ 500],\n       [1000],\n       [2000],\n       [5000],\n       [ 500],\n       [1000],\n       [2000],\n       [5000],\n       [ 500],\n       [1000],\n       [2000],\n       [5000],\n       [ 500],\n       [1000],\n       [2000],\n       [5000],\n       [ 500],\n       [1000],\n       [2000],\n       [5000],\n       [ 500],\n       [1000],\n       [2000],\n       [5000],\n       [ 500],\n       [1000],\n       [2000],\n       [5000],\n       [ 500],\n       [1000],\n       [2000],\n       [5000],\n       [ 500],\n       [1000],\n       [2000],\n       [5000],\n       [ 500],\n       [1000],\n       [2000],\n       [5000],\n       [ 500],\n       [1000],\n       [2000],\n       [5000],\n       [ 500],\n       [1000],\n       [2000],\n       [5000],\n       [ 500],\n       [1000],\n       [2000],\n       [5000],\n       [ 500],\n       [1000],\n       [2000],\n       [5000],\n       [ 500],\n       [1000],\n       [2000],\n       [5000],\n       [ 500],\n       [1000],\n       [2000],\n       [5000],\n       [ 500],\n       [1000],\n       [2000],\n       [5000],\n       [ 500],\n       [1000],\n       [2000],\n       [5000],\n       [ 500],\n       [1000],\n       [2000],\n       [5000],\n       [ 500],\n       [1000],\n       [2000],\n       [5000],\n       [ 500],\n       [1000],\n       [2000],\n       [5000],\n       [ 500],\n       [1000],\n       [2000],\n       [5000],\n       [ 500],\n       [1000],\n       [2000],\n       [5000],\n       [ 500],\n       [1000],\n       [2000],\n       [5000],\n       [ 500],\n       [1000],\n       [2000],\n       [5000],\n       [ 500],\n       [1000],\n       [2000],\n       [5000],\n       [ 500],\n       [1000],\n       [2000],\n       [5000],\n       [ 500],\n       [1000],\n       [2000],\n       [5000],\n       [ 500],\n       [1000],\n       [2000],\n       [5000],\n       [ 500],\n       [1000],\n       [2000],\n       [5000],\n       [ 500],\n       [1000],\n       [2000],\n       [5000],\n       [ 500],\n       [1000],\n       [2000],\n       [5000],\n       [ 500],\n       [1000],\n       [2000],\n       [5000],\n       [ 500],\n       [1000],\n       [2000],\n       [5000],\n       [ 500],\n       [1000],\n       [2000],\n       [5000],\n       [ 500],\n       [1000],\n       [2000],\n       [5000],\n       [ 500],\n       [1000],\n       [2000],\n       [5000],\n       [ 500],\n       [1000],\n       [2000],\n       [5000],\n       [ 500],\n       [1000],\n       [2000],\n       [5000],\n       [ 500],\n       [1000],\n       [2000],\n       [5000],\n       [ 500],\n       [1000],\n       [2000],\n       [5000],\n       [ 500],\n       [1000],\n       [2000],\n       [5000],\n       [ 500],\n       [1000],\n       [2000],\n       [5000],\n       [ 500],\n       [1000],\n       [2000],\n       [5000],\n       [ 500],\n       [1000],\n       [2000],\n       [5000],\n       [ 500],\n       [1000],\n       [2000],\n       [5000]])"
     },
     "execution_count": 10,
     "metadata": {},
     "output_type": "execute_result"
    }
   ],
   "source": [
    "sample_sizes = np.tile([500, 1000, 2000, 5000], 80)[:, np.newaxis]\n",
    "sample_sizes\n"
   ],
   "metadata": {
    "collapsed": false,
    "ExecuteTime": {
     "end_time": "2023-07-30T04:50:47.271302Z",
     "start_time": "2023-07-30T04:50:47.255858Z"
    }
   }
  },
  {
   "cell_type": "code",
   "execution_count": 11,
   "outputs": [
    {
     "data": {
      "text/plain": "mse     object\nsize    object\nmeta    object\ndtype: object"
     },
     "execution_count": 11,
     "metadata": {},
     "output_type": "execute_result"
    }
   ],
   "source": [
    "data = np.concatenate((nn_results, sample_sizes, metas), axis=1)\n",
    "data = pd.DataFrame(data)\n",
    "data.columns = ['mse', 'size', 'meta']\n",
    "data.dtypes"
   ],
   "metadata": {
    "collapsed": false,
    "ExecuteTime": {
     "end_time": "2023-07-30T04:50:48.288459Z",
     "start_time": "2023-07-30T04:50:48.264555Z"
    }
   }
  },
  {
   "cell_type": "code",
   "execution_count": 12,
   "outputs": [
    {
     "data": {
      "text/plain": "mse     float64\nsize      int64\nmeta     object\ndtype: object"
     },
     "execution_count": 12,
     "metadata": {},
     "output_type": "execute_result"
    }
   ],
   "source": [
    "# using dictionary to convert specific columns\n",
    "convert_dict = {'mse': float,\n",
    "                'size': int,\n",
    "                'meta': str\n",
    "                }\n",
    "\n",
    "data = data.astype(convert_dict)\n",
    "data.dtypes"
   ],
   "metadata": {
    "collapsed": false,
    "ExecuteTime": {
     "end_time": "2023-07-30T04:50:49.647209Z",
     "start_time": "2023-07-30T04:50:49.626577Z"
    }
   }
  },
  {
   "cell_type": "code",
   "execution_count": 13,
   "outputs": [
    {
     "data": {
      "text/plain": "          mse  size      meta\n0    0.166127   500  TLearner\n1    0.221963  1000  TLearner\n2    0.148526  2000  TLearner\n3    0.104599  5000  TLearner\n4    0.194138   500  TLearner\n..        ...   ...       ...\n315  0.062031  5000  ULearner\n316  0.107605   500  ULearner\n317  0.111753  1000  ULearner\n318  0.101268  2000  ULearner\n319  0.060334  5000  ULearner\n\n[320 rows x 3 columns]",
      "text/html": "<div>\n<style scoped>\n    .dataframe tbody tr th:only-of-type {\n        vertical-align: middle;\n    }\n\n    .dataframe tbody tr th {\n        vertical-align: top;\n    }\n\n    .dataframe thead th {\n        text-align: right;\n    }\n</style>\n<table border=\"1\" class=\"dataframe\">\n  <thead>\n    <tr style=\"text-align: right;\">\n      <th></th>\n      <th>mse</th>\n      <th>size</th>\n      <th>meta</th>\n    </tr>\n  </thead>\n  <tbody>\n    <tr>\n      <th>0</th>\n      <td>0.166127</td>\n      <td>500</td>\n      <td>TLearner</td>\n    </tr>\n    <tr>\n      <th>1</th>\n      <td>0.221963</td>\n      <td>1000</td>\n      <td>TLearner</td>\n    </tr>\n    <tr>\n      <th>2</th>\n      <td>0.148526</td>\n      <td>2000</td>\n      <td>TLearner</td>\n    </tr>\n    <tr>\n      <th>3</th>\n      <td>0.104599</td>\n      <td>5000</td>\n      <td>TLearner</td>\n    </tr>\n    <tr>\n      <th>4</th>\n      <td>0.194138</td>\n      <td>500</td>\n      <td>TLearner</td>\n    </tr>\n    <tr>\n      <th>...</th>\n      <td>...</td>\n      <td>...</td>\n      <td>...</td>\n    </tr>\n    <tr>\n      <th>315</th>\n      <td>0.062031</td>\n      <td>5000</td>\n      <td>ULearner</td>\n    </tr>\n    <tr>\n      <th>316</th>\n      <td>0.107605</td>\n      <td>500</td>\n      <td>ULearner</td>\n    </tr>\n    <tr>\n      <th>317</th>\n      <td>0.111753</td>\n      <td>1000</td>\n      <td>ULearner</td>\n    </tr>\n    <tr>\n      <th>318</th>\n      <td>0.101268</td>\n      <td>2000</td>\n      <td>ULearner</td>\n    </tr>\n    <tr>\n      <th>319</th>\n      <td>0.060334</td>\n      <td>5000</td>\n      <td>ULearner</td>\n    </tr>\n  </tbody>\n</table>\n<p>320 rows × 3 columns</p>\n</div>"
     },
     "execution_count": 13,
     "metadata": {},
     "output_type": "execute_result"
    }
   ],
   "source": [
    "data"
   ],
   "metadata": {
    "collapsed": false,
    "ExecuteTime": {
     "end_time": "2023-07-30T04:50:50.754144Z",
     "start_time": "2023-07-30T04:50:50.733550Z"
    }
   }
  },
  {
   "cell_type": "code",
   "execution_count": 14,
   "outputs": [],
   "source": [
    "# Convert 'meta' column to categorical data type\n",
    "data['meta'] = data['meta'].astype('category')"
   ],
   "metadata": {
    "collapsed": false,
    "ExecuteTime": {
     "end_time": "2023-07-30T04:50:51.017769Z",
     "start_time": "2023-07-30T04:50:50.999756Z"
    }
   }
  },
  {
   "cell_type": "code",
   "execution_count": 15,
   "outputs": [
    {
     "data": {
      "text/plain": "          mse  size      meta\n0    0.166127   500  TLearner\n1    0.221963  1000  TLearner\n2    0.148526  2000  TLearner\n3    0.104599  5000  TLearner\n4    0.194138   500  TLearner\n..        ...   ...       ...\n315  0.062031  5000  ULearner\n316  0.107605   500  ULearner\n317  0.111753  1000  ULearner\n318  0.101268  2000  ULearner\n319  0.060334  5000  ULearner\n\n[320 rows x 3 columns]",
      "text/html": "<div>\n<style scoped>\n    .dataframe tbody tr th:only-of-type {\n        vertical-align: middle;\n    }\n\n    .dataframe tbody tr th {\n        vertical-align: top;\n    }\n\n    .dataframe thead th {\n        text-align: right;\n    }\n</style>\n<table border=\"1\" class=\"dataframe\">\n  <thead>\n    <tr style=\"text-align: right;\">\n      <th></th>\n      <th>mse</th>\n      <th>size</th>\n      <th>meta</th>\n    </tr>\n  </thead>\n  <tbody>\n    <tr>\n      <th>0</th>\n      <td>0.166127</td>\n      <td>500</td>\n      <td>TLearner</td>\n    </tr>\n    <tr>\n      <th>1</th>\n      <td>0.221963</td>\n      <td>1000</td>\n      <td>TLearner</td>\n    </tr>\n    <tr>\n      <th>2</th>\n      <td>0.148526</td>\n      <td>2000</td>\n      <td>TLearner</td>\n    </tr>\n    <tr>\n      <th>3</th>\n      <td>0.104599</td>\n      <td>5000</td>\n      <td>TLearner</td>\n    </tr>\n    <tr>\n      <th>4</th>\n      <td>0.194138</td>\n      <td>500</td>\n      <td>TLearner</td>\n    </tr>\n    <tr>\n      <th>...</th>\n      <td>...</td>\n      <td>...</td>\n      <td>...</td>\n    </tr>\n    <tr>\n      <th>315</th>\n      <td>0.062031</td>\n      <td>5000</td>\n      <td>ULearner</td>\n    </tr>\n    <tr>\n      <th>316</th>\n      <td>0.107605</td>\n      <td>500</td>\n      <td>ULearner</td>\n    </tr>\n    <tr>\n      <th>317</th>\n      <td>0.111753</td>\n      <td>1000</td>\n      <td>ULearner</td>\n    </tr>\n    <tr>\n      <th>318</th>\n      <td>0.101268</td>\n      <td>2000</td>\n      <td>ULearner</td>\n    </tr>\n    <tr>\n      <th>319</th>\n      <td>0.060334</td>\n      <td>5000</td>\n      <td>ULearner</td>\n    </tr>\n  </tbody>\n</table>\n<p>320 rows × 3 columns</p>\n</div>"
     },
     "execution_count": 15,
     "metadata": {},
     "output_type": "execute_result"
    }
   ],
   "source": [
    "data = pd.DataFrame(data)\n",
    "data"
   ],
   "metadata": {
    "collapsed": false,
    "ExecuteTime": {
     "end_time": "2023-07-30T04:50:51.941023Z",
     "start_time": "2023-07-30T04:50:51.933973Z"
    }
   }
  },
  {
   "cell_type": "code",
   "execution_count": null,
   "outputs": [],
   "source": [
    "data.reset_index(drop=True, inplace=True)"
   ],
   "metadata": {
    "collapsed": false
   }
  },
  {
   "cell_type": "code",
   "execution_count": null,
   "outputs": [],
   "source": [
    "data"
   ],
   "metadata": {
    "collapsed": false
   }
  },
  {
   "cell_type": "code",
   "execution_count": 16,
   "outputs": [],
   "source": [
    "sns.set_style(\"whitegrid\")"
   ],
   "metadata": {
    "collapsed": false,
    "ExecuteTime": {
     "end_time": "2023-07-30T04:51:06.193265Z",
     "start_time": "2023-07-30T04:51:06.168968Z"
    }
   }
  },
  {
   "cell_type": "code",
   "execution_count": 19,
   "outputs": [
    {
     "data": {
      "text/plain": "<Figure size 640x480 with 1 Axes>",
      "image/png": "[encoded data removed]"
     },
     "metadata": {},
     "output_type": "display_data"
    }
   ],
   "source": [
    "first_plot = sns.lineplot(data=data, x=\"size\", y=\"mse\", hue=\"meta\", estimator=\"mean\", errorbar=None, marker='o')"
   ],
   "metadata": {
    "collapsed": false,
    "ExecuteTime": {
     "end_time": "2023-07-30T04:51:41.054583Z",
     "start_time": "2023-07-30T04:51:40.926183Z"
    }
   }
  },
  {
   "cell_type": "code",
   "execution_count": null,
   "outputs": [],
   "source": [
    "# save plot\n",
    "fig = first_plot.get_figure()\n",
    "fig.savefig(\"first_plot_hd_points.png\", dpi=1000)"
   ],
   "metadata": {
    "collapsed": false
   }
  },
  {
   "cell_type": "markdown",
   "source": [],
   "metadata": {
    "collapsed": false
   }
  },
  {
   "cell_type": "markdown",
   "source": [],
   "metadata": {
    "collapsed": false
   }
  },
  {
   "cell_type": "code",
   "execution_count": null,
   "outputs": [],
   "source": [
    "import matplotlib.pyplot as plt\n",
    "plt.show()"
   ],
   "metadata": {
    "collapsed": false
   }
  },
  {
   "cell_type": "code",
   "execution_count": null,
   "outputs": [],
   "source": [
    "sns.relplot(data=data, x=\"size\", y=\"mse\", hue=\"meta\", kind=\"line\" )"
   ],
   "metadata": {
    "collapsed": false
   }
  },
  {
   "cell_type": "code",
   "execution_count": null,
   "outputs": [],
   "source": [
    "fmri = sns.load_dataset(\"fmri\")\n",
    "fmri"
   ],
   "metadata": {
    "collapsed": false
   }
  },
  {
   "cell_type": "code",
   "execution_count": null,
   "outputs": [],
   "source": [
    "fmri.dtypes"
   ],
   "metadata": {
    "collapsed": false
   }
  },
  {
   "cell_type": "code",
   "execution_count": null,
   "outputs": [],
   "source": [
    "sns.lineplot(data=fmri, x=\"timepoint\", y=\"signal\", hue=\"event\")"
   ],
   "metadata": {
    "collapsed": false
   }
  },
  {
   "cell_type": "code",
   "execution_count": null,
   "outputs": [],
   "source": [
    "data = np.concatenate((results_2[0], sample_sizes), axis=1)"
   ],
   "metadata": {
    "collapsed": false
   }
  },
  {
   "cell_type": "code",
   "execution_count": null,
   "outputs": [],
   "source": [
    "data"
   ],
   "metadata": {
    "collapsed": false
   }
  },
  {
   "cell_type": "code",
   "execution_count": null,
   "outputs": [],
   "source": [
    "sns.lineplot(data=data, x=data[:, 1], y=data[:, 0], errorbar='sd')"
   ],
   "metadata": {
    "collapsed": false
   }
  },
  {
   "cell_type": "code",
   "execution_count": null,
   "outputs": [],
   "source": [
    "import seaborn as sns"
   ],
   "metadata": {
    "collapsed": false
   }
  },
  {
   "cell_type": "code",
   "execution_count": null,
   "outputs": [],
   "source": [
    "dataframe = {'mse': rf_results,\n",
    "             'samplesize': sample_sizes,\n",
    "             'metalearner': metalearner_names}"
   ],
   "metadata": {
    "collapsed": false
   }
  },
  {
   "cell_type": "code",
   "execution_count": null,
   "outputs": [],
   "source": [
    "dataframe = pd.DataFrame(dataframe)"
   ],
   "metadata": {
    "collapsed": false
   }
  },
  {
   "cell_type": "code",
   "execution_count": null,
   "outputs": [],
   "source": [
    "dataframe.dtypes"
   ],
   "metadata": {
    "collapsed": false
   }
  },
  {
   "cell_type": "code",
   "execution_count": null,
   "outputs": [],
   "source": [
    "import matplotlib as mlp"
   ],
   "metadata": {
    "collapsed": false
   }
  },
  {
   "cell_type": "code",
   "execution_count": null,
   "outputs": [],
   "source": [
    "sns.lineplot(data=data, x=data[:, 1], y=data[:, 0], errorbar='sd')"
   ],
   "metadata": {
    "collapsed": false
   }
  },
  {
   "cell_type": "code",
   "execution_count": null,
   "outputs": [],
   "source": [
    "import pandas as pd"
   ],
   "metadata": {
    "collapsed": false
   }
  },
  {
   "cell_type": "code",
   "execution_count": null,
   "outputs": [],
   "source": [
    "data = pd.DataFrame(data)"
   ],
   "metadata": {
    "collapsed": false
   }
  },
  {
   "cell_type": "code",
   "execution_count": null,
   "outputs": [],
   "source": [
    "data"
   ],
   "metadata": {
    "collapsed": false
   }
  },
  {
   "cell_type": "code",
   "execution_count": null,
   "outputs": [],
   "source": [
    "data.columns = ['mse', 'samplesize', 'metalearner']"
   ],
   "metadata": {
    "collapsed": false
   }
  },
  {
   "cell_type": "code",
   "execution_count": null,
   "outputs": [],
   "source": [
    "data.dtypes"
   ],
   "metadata": {
    "collapsed": false
   }
  },
  {
   "cell_type": "code",
   "execution_count": null,
   "outputs": [],
   "source": [
    "data.astype({'mse': 'float'}).dtypes"
   ],
   "metadata": {
    "collapsed": false
   }
  },
  {
   "cell_type": "code",
   "execution_count": null,
   "outputs": [],
   "source": [
    "data"
   ],
   "metadata": {
    "collapsed": false
   }
  },
  {
   "cell_type": "code",
   "execution_count": null,
   "outputs": [],
   "source": [
    "data.dtypes"
   ],
   "metadata": {
    "collapsed": false
   }
  },
  {
   "cell_type": "code",
   "execution_count": null,
   "outputs": [],
   "source": [
    "# using dictionary to convert specific columns\n",
    "convert_dict = {'mse': float,\n",
    "                'samplesize': float,\n",
    "                'metalearner': 'category'\n",
    "                }\n",
    "\n",
    "dataframe = dataframe.astype(convert_dict)\n",
    "print(dataframe.dtypes)"
   ],
   "metadata": {
    "collapsed": false
   }
  },
  {
   "cell_type": "markdown",
   "source": [],
   "metadata": {
    "collapsed": false
   }
  },
  {
   "cell_type": "code",
   "execution_count": null,
   "outputs": [],
   "source": [
    "sns.lineplot(data=dataframe, x='samplesize', y='mse', hue='metalearner', linestyle='dotted', errorbar='sd')"
   ],
   "metadata": {
    "collapsed": false
   }
  },
  {
   "cell_type": "code",
   "execution_count": null,
   "outputs": [],
   "source": [
    "data[:, 0]"
   ],
   "metadata": {
    "collapsed": false
   }
  }
 ],
 "metadata": {
  "kernelspec": {
   "display_name": "Python 3",
   "language": "python",
   "name": "python3"
  },
  "language_info": {
   "codemirror_mode": {
    "name": "ipython",
    "version": 2
   },
   "file_extension": ".py",
   "mimetype": "text/x-python",
   "name": "python",
   "nbconvert_exporter": "python",
   "pygments_lexer": "ipython2",
   "version": "2.7.6"
  }
 },
 "nbformat": 4,
 "nbformat_minor": 0
}
