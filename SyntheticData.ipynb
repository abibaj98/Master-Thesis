{
 "cells": [
  {
   "cell_type": "code",
   "execution_count": null,
   "metadata": {},
   "outputs": [],
   "source": [
    "# import packages\n",
    "\n",
    "import numpy as np\n",
    "from numpy import random\n",
    "from scipy import stats\n",
    "# import pandas as pd\n",
    "import copy\n",
    "import matplotlib.pyplot as plt\n",
    "\n",
    "# import r packages if needed\n",
    "\n",
    "import rpy2.robjects as robjects\n",
    "import rpy2.robjects.packages as rpackages\n",
    "\n",
    "rpackages.importr(\"clusterGeneration\")\n",
    "rpackages.importr(\"mpower\")\n",
    "rpackages.importr(\"base\")\n",
    "rpackages.importr(\"utils\")\n",
    "cluster_generation = robjects.packages.importr(\"clusterGeneration\")\n",
    "mpower = robjects.packages.importr(\"mpower\")\n",
    "base = robjects.packages.importr(\"base\")\n",
    "utils = robjects.packages.importr(\"utils\")\n",
    "\n",
    "# set seed from R\n",
    "r = robjects.r\n",
    "set_seed = r('set.seed')\n",
    "\n",
    "import pickle\n"
   ]
  },
  {
   "cell_type": "code",
   "execution_count": null,
   "outputs": [],
   "source": [
    "# todos\n",
    "# TODO 1: decide which parameters you include in specific functions (e.g. for beta confounded ex), check\n",
    "# TODO 2: CLEAN CODE !\n",
    "# TODO 3: Check if it makes sense to change betaconfoundedness ?"
   ],
   "metadata": {
    "collapsed": false
   }
  },
  {
   "cell_type": "code",
   "execution_count": null,
   "metadata": {},
   "outputs": [],
   "source": [
    " # Fully Synthetic Data Sets (Set up from Künzel et al.)\n",
    "\n",
    "# 1: Simulate the d-dimensional X.\n",
    "# 2: Create Potential Outcomes Y(1) and Y(0).\n",
    "# 3: Simulate Treatment Assignments trough W."
   ]
  },
  {
   "cell_type": "code",
   "execution_count": null,
   "metadata": {},
   "outputs": [],
   "source": [
    "# TODO: if needed take student_t distributed errors to see simulation with heavy-tailed errors\n",
    "\n",
    "# e_o = random.standard_t(df=1,size=N)\n",
    "# e_1 = random.standard_t(df=1,size=N)"
   ]
  },
  {
   "cell_type": "code",
   "execution_count": null,
   "outputs": [],
   "source": [
    "# TODO: Chaos here --> Clean"
   ],
   "metadata": {
    "collapsed": false
   }
  },
  {
   "cell_type": "code",
   "execution_count": null,
   "metadata": {},
   "outputs": [],
   "source": [
    "########################################## TODO: HOW TO INCLUDE THESE CONFOUNDED VERSIONS?"
   ]
  },
  {
   "cell_type": "code",
   "execution_count": null,
   "metadata": {},
   "outputs": [],
   "source": [
    "''''\n",
    "# SI6.1 beta confounded, no treatment effect # TODO: CHECK WHETER WHEN CONFOUNDED IT MAKES SENSE TO TAKE ALL BETAS, OR JUST LIKE HERE?\n",
    "X = random.uniform(low=0, high=1, size=(N, d))  # ACHTUNG: nöd wiederhole!\n",
    "mu_0 = 2 * X[:, 0] - 1\n",
    "mu_1 = mu_0\n",
    "tau = np.zeros(N)\n",
    "\n",
    "'''''\n"
   ]
  },
  {
   "cell_type": "code",
   "execution_count": null,
   "metadata": {},
   "outputs": [],
   "source": [
    "''''\n",
    "# SI6.2 beta confounded, simple cate (indicator)\n",
    "X = random.uniform(low=0, high=1, size=(N, d))\n",
    "mu_0 = 2 * X[:, 0] - 1\n",
    "mu_1 = mu_0 + 2 * np.int8(X[:, 1] > 0.4)\n",
    "tau = mu_1 - mu_0\n",
    "'''''"
   ]
  },
  {
   "cell_type": "code",
   "execution_count": null,
   "metadata": {},
   "outputs": [],
   "source": [
    "''''\n",
    "# SI6.3 beta confounded, simple cate (linear)\n",
    "X = random.uniform(low=0, high=1, size=(N, d))\n",
    "mu_0 = 2 * X[:, 0] - 1\n",
    "mu_1 = mu_0 + 2 * X[:, 1]\n",
    "tau = mu_1 - mu_0\n",
    "'''''"
   ]
  },
  {
   "cell_type": "code",
   "execution_count": null,
   "metadata": {},
   "outputs": [],
   "source": [
    "''''\n",
    "# SI6.4 beta confounded, simple cate (quadratic)\n",
    "X = random.uniform(low=0, high=1, size=(N, d))\n",
    "mu_0 = 2 * X[:, 0] - 1\n",
    "mu_1 = mu_0 + 2 * (X[:, 1] ** 2)\n",
    "tau = mu_1 - mu_0\n",
    "'''''"
   ]
  },
  {
   "cell_type": "code",
   "execution_count": null,
   "metadata": {},
   "outputs": [],
   "source": [
    "##################################"
   ]
  },
  {
   "cell_type": "code",
   "execution_count": null,
   "metadata": {},
   "outputs": [],
   "source": [
    "''''\n",
    "# SI7.1 beta confounded, complex cate (linear) # TODO: SAME CHECK FOR CONFOUNDED AND BETAS!\n",
    "betas = random.uniform(low=-15, high=15, size=d)\n",
    "\n",
    "mu_0 = 2 * X[:, 0] - 1\n",
    "mu_1 = mu_0 + np.matmul(X, betas)\n",
    "tau = mu_1 - mu_0\n",
    "'''''\n",
    "# TODO: CHECK WHETHER THIS SETUP MAKES SENSE"
   ]
  },
  {
   "cell_type": "code",
   "execution_count": null,
   "metadata": {},
   "outputs": [],
   "source": [
    "''''\n",
    "# SI7.2 beta confounded, complex cate (non-linear)\n",
    "mu_0 = 2 * X[:, 0] - 1\n",
    "mu_1 = mu_0 + 1 / 2 * varsigma_function(x=X[:, 0]) * varsigma_function(x=X[:, 1])\n",
    "'''''\n",
    "# TODO: CHECK WHETER THIS SETUP MAKES SENSE"
   ]
  },
  {
   "cell_type": "markdown",
   "source": [
    "# FROM SCRATCH"
   ],
   "metadata": {
    "collapsed": false
   }
  },
  {
   "cell_type": "code",
   "execution_count": null,
   "outputs": [],
   "source": [
    "# seeds for reproducibility --> NICE :-D\n",
    "set_seed(8953)\n",
    "random.seed(8953)"
   ],
   "metadata": {
    "collapsed": false
   }
  },
  {
   "cell_type": "code",
   "execution_count": null,
   "outputs": [],
   "source": [
    "# SIMULATION SETUP: \"META-PARAMETERS\"\n",
    "sample_sizes = [100, 200, 500, 1000]\n",
    "test_size = 50\n",
    "n_runs = 5\n",
    "n_setups = 28\n",
    "d = 20"
   ],
   "metadata": {
    "collapsed": false
   }
  },
  {
   "cell_type": "code",
   "execution_count": null,
   "outputs": [],
   "source": [
    "# all settings of e_x\n",
    "exs = [0.5, 0.5, 0.5, 0.5, 0.5, 0.5, 0.5,\n",
    "       0.1, 0.1, 0.1, 0.1, 0.1, 0.1, 0.1,\n",
    "       'beta_balanced', 'beta_balanced', 'beta_balanced', 'beta_balanced', 'beta_balanced', 'beta_balanced',\n",
    "       'beta_balanced',\n",
    "       'beta_unbalanced', 'beta_unbalanced', 'beta_unbalanced', 'beta_unbalanced', 'beta_unbalanced', 'beta_unbalanced',\n",
    "       'beta_unbalanced']"
   ],
   "metadata": {
    "collapsed": false
   }
  },
  {
   "cell_type": "code",
   "execution_count": null,
   "outputs": [],
   "source": [
    "# all settings of mu_0 / mu_1\n",
    "cates = ['glinear', 'plinear', 'sindcate', 'slinearcate', 'squadcate', 'clinearcate', 'cnonlincate'] * 4"
   ],
   "metadata": {
    "collapsed": false
   }
  },
  {
   "cell_type": "markdown",
   "source": [
    "Cate Settings function (unconfounded)"
   ],
   "metadata": {
    "collapsed": false
   }
  },
  {
   "cell_type": "code",
   "execution_count": null,
   "outputs": [],
   "source": [
    "def simple_indicator_cate(x_train, x_test):\n",
    "    betas = random.uniform(low=-5, high=5, size=x_train.shape[1])\n",
    "\n",
    "    # train\n",
    "    mu_0 = np.matmul(x_train, betas) + 5 * np.int8(x_train[:, 0] > 0.5)\n",
    "    mu_1 = mu_0 + 8 * np.int8(x_train[:, 1] > 0.1)  # indicator\n",
    "    tau = mu_1 - mu_0\n",
    "\n",
    "    # test\n",
    "    mu_0_test = np.matmul(x_test, betas) + 5 * np.int8(x_test[:, 0] > 0.5)\n",
    "    mu_1_test = mu_0_test + 8 * np.int8(x_test[:, 1] > 0.1)\n",
    "    tau_test = mu_1_test - mu_0_test\n",
    "\n",
    "    return mu_0, mu_1, tau, mu_0_test, mu_1_test, tau_test\n"
   ],
   "metadata": {
    "collapsed": false
   }
  },
  {
   "cell_type": "code",
   "execution_count": null,
   "outputs": [],
   "source": [
    "def simple_linear_cate(x_train, x_test):\n",
    "    betas = random.uniform(low=-5, high=5, size=x_train.shape[1])\n",
    "\n",
    "    # train\n",
    "    mu_0 = np.matmul(x_train, betas) + 5 * x_train[:, 0]\n",
    "    mu_1 = mu_0 + 8 * x_train[:, 1]\n",
    "    tau = mu_1 - mu_0\n",
    "\n",
    "    # test\n",
    "    mu_0_test = np.matmul(x_test, betas) + 5 * x_test[:, 0]\n",
    "    mu_1_test = mu_0_test + 8 * x_test[:, 1]\n",
    "    tau_test = mu_1_test - mu_0_test\n",
    "\n",
    "    return mu_0, mu_1, tau, mu_0_test, mu_1_test, tau_test"
   ],
   "metadata": {
    "collapsed": false
   }
  },
  {
   "cell_type": "code",
   "execution_count": null,
   "outputs": [],
   "source": [
    "def simple_quadratic_cate(x_train, x_test):\n",
    "    betas = random.uniform(low=-5, high=5, size=x_train.shape[1])\n",
    "\n",
    "    # train\n",
    "    mu_0 = np.matmul(x_train, betas) + 5 * (x_train[:, 0] ** 2)\n",
    "    mu_1 = mu_0 + 8 * (x_train[:, 1] ** 2)\n",
    "    tau = mu_1 - mu_0\n",
    "\n",
    "    # test\n",
    "    mu_0_test = np.matmul(x_test, betas) + 5 * (x_test[:, 0] ** 2)\n",
    "    mu_1_test = mu_0 + 8 * (x_test[:, 1] ** 2)\n",
    "    tau_test = mu_1_test - mu_0_test\n",
    "\n",
    "    return mu_0, mu_1, tau, mu_0_test, mu_1_test, tau_test"
   ],
   "metadata": {
    "collapsed": false
   }
  },
  {
   "cell_type": "code",
   "execution_count": null,
   "outputs": [],
   "source": [
    "def complex_linear_cate(x_train, x_test):\n",
    "    betas_0 = random.uniform(low=-5, high=5, size=x_train.shape[1])\n",
    "    betas_1 = random.uniform(low=-5, high=5, size=x_train.shape[1])\n",
    "\n",
    "    # train\n",
    "    mu_0 = np.matmul(x_train, betas_0)\n",
    "    mu_1 = np.matmul(x_train, betas_1)\n",
    "    tau = mu_1 - mu_0\n",
    "\n",
    "    # test\n",
    "    mu_0_test = np.matmul(x_test, betas_0)\n",
    "    mu_1_test = np.matmul(x_test, betas_1)\n",
    "    tau_test = mu_1_test - mu_0_test\n",
    "\n",
    "    return mu_0, mu_1, tau, mu_0_test, mu_1_test, tau_test"
   ],
   "metadata": {
    "collapsed": false
   }
  },
  {
   "cell_type": "code",
   "execution_count": null,
   "outputs": [],
   "source": [
    "# helper function\n",
    "def varsigma_function(x):\n",
    "    return 2 / (1 + np.exp(-12 * (x - 1 / 2)))"
   ],
   "metadata": {
    "collapsed": false
   }
  },
  {
   "cell_type": "code",
   "execution_count": null,
   "outputs": [],
   "source": [
    "def complex_nonlinear_cate(x_train, x_test):\n",
    "    # train\n",
    "    mu_0 = -1 / 2 * varsigma_function(x=x_train[:, 0]) * varsigma_function(x=x_train[:, 1])\n",
    "    mu_1 = 1 / 2 * varsigma_function(x=x_train[:, 0]) * varsigma_function(x=x_train[:, 1])\n",
    "    tau = mu_1 - mu_0\n",
    "\n",
    "    # test\n",
    "    mu_0_test = 2 * x_test[:, 0] - 1\n",
    "    mu_1_test = mu_0_test + 1 / 2 * varsigma_function(x=x_test[:, 0]) * varsigma_function(x=x_test[:, 1])\n",
    "    tau_test = mu_1_test - mu_0_test\n",
    "\n",
    "    return mu_0, mu_1, tau, mu_0_test, mu_1_test, tau_test"
   ],
   "metadata": {
    "collapsed": false
   }
  },
  {
   "cell_type": "code",
   "execution_count": null,
   "outputs": [],
   "source": [
    "def global_linear_response(x_train, x_test):\n",
    "    betas = random.uniform(low=-5, high=5, size=x_train.shape[1])\n",
    "\n",
    "    # train\n",
    "    mu_0 = np.matmul(x_train, betas)\n",
    "    mu_1 = mu_0\n",
    "    tau = np.zeros(len(x_train))\n",
    "\n",
    "    # test\n",
    "    mu_0_test = np.matmul(x_test, betas)\n",
    "    mu_1_test = mu_0_test\n",
    "    tau_test = np.zeros(len(x_test))\n",
    "\n",
    "    return mu_0, mu_1, tau, mu_0_test, mu_1_test, tau_test"
   ],
   "metadata": {
    "collapsed": false
   }
  },
  {
   "cell_type": "code",
   "execution_count": null,
   "outputs": [],
   "source": [
    "# helper function\n",
    "def piecewise_beta_helper(dimension):\n",
    "    betas = np.random.uniform(low=-5, high=5, size=dimension)\n",
    "\n",
    "    betas_l = copy.copy(betas)  # betas_lower\n",
    "    betas_l[5:dimension] = 0\n",
    "\n",
    "    betas_m = copy.copy(betas)  #betas_middle\n",
    "    betas_m[0:5] = 0\n",
    "    betas_m[10:dimension] = 0\n",
    "\n",
    "    betas_u = copy.copy(betas)  #betas_upper\n",
    "    betas_u[0:10] = 0\n",
    "    betas_u[15:dimension] = 0\n",
    "\n",
    "    return betas_l, betas_m, betas_u\n"
   ],
   "metadata": {
    "collapsed": false
   }
  },
  {
   "cell_type": "code",
   "execution_count": null,
   "outputs": [],
   "source": [
    "# helper function\n",
    "def piecewise_linear_helper(x, betas_l, betas_u, betas_m):\n",
    "    condition_l = x[:, 19] < -0.4\n",
    "    condition_u = x[:, 19] > 0.4\n",
    "\n",
    "    array = np.zeros(len(x))\n",
    "    array[condition_l] = np.matmul(x[condition_l, :], betas_l)\n",
    "    array[~condition_l & ~condition_u] = np.matmul(x[~condition_l & ~condition_u, :], betas_m)\n",
    "    array[condition_u] = np.matmul(x[condition_u, :], betas_u)\n",
    "\n",
    "    return array"
   ],
   "metadata": {
    "collapsed": false
   }
  },
  {
   "cell_type": "code",
   "execution_count": null,
   "outputs": [],
   "source": [
    "def piecewise_linear_response(x_train, x_test):\n",
    "    betas_l, betas_m, betas_u = piecewise_beta_helper(x_train.shape[1])\n",
    "\n",
    "    # train\n",
    "    mu_0 = piecewise_linear_helper(x_train, betas_l, betas_u, betas_m)\n",
    "    mu_1 = mu_0\n",
    "    tau = np.zeros(len(x_train))\n",
    "\n",
    "    # test\n",
    "    mu_0_test = piecewise_linear_helper(x_test, betas_l, betas_u, betas_m)\n",
    "    mu_1_test = mu_0_test\n",
    "    tau_test = np.zeros(len(x_test))\n",
    "\n",
    "    return mu_0, mu_1, tau, mu_0_test, mu_1_test, tau_test"
   ],
   "metadata": {
    "collapsed": false
   }
  },
  {
   "cell_type": "markdown",
   "source": [
    "Cate Settings function (confounded)\n"
   ],
   "metadata": {
    "collapsed": false
   }
  },
  {
   "cell_type": "code",
   "execution_count": null,
   "outputs": [],
   "source": [
    "def confounded_no_treatment_effect(x_train, x_test):\n",
    "    # train\n",
    "    mu_0 = 2 * x_train[:, 0] - 1\n",
    "    mu_1 = mu_0\n",
    "    tau = np.zeros(len(x_train))\n",
    "\n",
    "    # test\n",
    "    mu_0_test = 2 * x_test[:, 0] - 1\n",
    "    mu_1_test = mu_0_test\n",
    "    tau_test = np.zeros(len(x_test))\n",
    "\n",
    "    return mu_0, mu_1, tau, mu_0_test, mu_1_test, tau_test\n"
   ],
   "metadata": {
    "collapsed": false
   }
  },
  {
   "cell_type": "code",
   "execution_count": null,
   "outputs": [],
   "source": [
    "def confounded_simple_indicator_cate(x_train, x_test):\n",
    "    # train\n",
    "    mu_0 = 2 * x_train[:, 0] - 1\n",
    "    mu_1 = mu_0 + np.int8(x_train[:, 1] > 0.1)  # indicator\n",
    "    tau = mu_1 - mu_0\n",
    "\n",
    "    # test\n",
    "    mu_0_test = 2 * x_test[:, 0] - 1\n",
    "    mu_1_test = mu_0_test + np.int8(x_test[:, 1] > 0.1)  # indicator\n",
    "    tau_test = mu_1_test - mu_0_test\n",
    "\n",
    "    return mu_0, mu_1, tau, mu_0_test, mu_1_test, tau_test\n"
   ],
   "metadata": {
    "collapsed": false
   }
  },
  {
   "cell_type": "code",
   "execution_count": null,
   "outputs": [],
   "source": [
    "def confounded_simple_linear_cate(x_train, x_test):\n",
    "    # train\n",
    "    mu_0 = 2 * x_train[:, 0] - 1\n",
    "    mu_1 = mu_0 + x_train[:, 1]\n",
    "    tau = mu_1 - mu_0\n",
    "\n",
    "    # test\n",
    "    mu_0_test = 2 * x_test[:, 0] - 1\n",
    "    mu_1_test = mu_0_test + x_test[:, 1]\n",
    "    tau_test = mu_1_test - mu_0_test\n",
    "\n",
    "    return mu_0, mu_1, tau, mu_0_test, mu_1_test, tau_test"
   ],
   "metadata": {
    "collapsed": false
   }
  },
  {
   "cell_type": "code",
   "execution_count": null,
   "outputs": [],
   "source": [
    "def confounded_simple_quadratic_cate(x_train, x_test):\n",
    "    # train\n",
    "    mu_0 = 2 * x_train[:, 0] - 1\n",
    "    mu_1 = mu_0 + (x_train[:, 1] ** 2)\n",
    "    tau = mu_1 - mu_0\n",
    "\n",
    "    # test\n",
    "    mu_0_test = 2 * x_test[:, 0] - 1\n",
    "    mu_1_test = mu_0_test + (x_test[:, 1] ** 2)\n",
    "    tau_test = mu_1_test - mu_0_test\n",
    "\n",
    "    return mu_0, mu_1, tau, mu_0_test, mu_1_test, tau_test"
   ],
   "metadata": {
    "collapsed": false
   }
  },
  {
   "cell_type": "code",
   "execution_count": null,
   "outputs": [],
   "source": [
    "def confounded_complex_linear_cate(x_train, x_test):\n",
    "    betas_0 = random.uniform(low=-5, high=5, size=x_train.shape[1])\n",
    "    betas_1 = random.uniform(low=-5, high=5, size=x_train.shape[1])\n",
    "\n",
    "    # train\n",
    "    mu_0 = np.matmul(x_train, betas_0) + 5 * x_train[:, 0]\n",
    "    mu_1 = np.matmul(x_train, betas_1) + 5 * x_train[:, 0]\n",
    "    tau = mu_1 - mu_0\n",
    "\n",
    "    # test\n",
    "    mu_0_test = np.matmul(x_test, betas_0)\n",
    "    mu_1_test = np.matmul(x_test, betas_1)\n",
    "    tau_test = mu_1_test - mu_0_test\n",
    "\n",
    "    return mu_0, mu_1, tau, mu_0_test, mu_1_test, tau_test"
   ],
   "metadata": {
    "collapsed": false
   }
  },
  {
   "cell_type": "markdown",
   "source": [
    "ex functions"
   ],
   "metadata": {
    "collapsed": false
   }
  },
  {
   "cell_type": "code",
   "execution_count": null,
   "outputs": [],
   "source": [
    "# helper function\n",
    "def beta_balanced(x_train, x_test):\n",
    "    beta_dist = stats.beta(a=2, b=4)  # set beta distribution\n",
    "\n",
    "    # train\n",
    "    cdf_values = stats.norm.cdf(x_train[:, 0])\n",
    "    beta_values = beta_dist.pdf(cdf_values)  # calculate pdf values for x1\n",
    "    e_x = 1 / 4 * (1 + beta_values)\n",
    "\n",
    "    # test\n",
    "    cdf_values_test = stats.norm.cdf(x_test[:, 0])\n",
    "    beta_values_test = beta_dist.pdf(cdf_values_test)  # calculate pdf values for x1\n",
    "    e_x_test = 1 / 4 * (1 + beta_values_test)\n",
    "\n",
    "    return e_x, e_x_test\n"
   ],
   "metadata": {
    "collapsed": false
   }
  },
  {
   "cell_type": "code",
   "execution_count": null,
   "outputs": [],
   "source": [
    "def beta_unbalanced(x_train, x_test):\n",
    "    beta_dist = stats.beta(a=2, b=4)  # set beta distribution\n",
    "\n",
    "    # train\n",
    "    cdf_values = stats.norm.cdf(x_train[:, 0])\n",
    "    beta_values = beta_dist.pdf(cdf_values)  # calculate pdf values for x1\n",
    "    e_x = 1 / 40 * (1 + beta_values)\n",
    "\n",
    "    # test\n",
    "    cdf_values_test = stats.norm.cdf(x_test[:, 0])\n",
    "    beta_values_test = beta_dist.pdf(cdf_values_test)  # calculate pdf values for x1\n",
    "    e_x_test = 1 / 40 * (1 + beta_values_test)\n",
    "\n",
    "    return e_x, e_x_test"
   ],
   "metadata": {
    "collapsed": false
   }
  },
  {
   "cell_type": "markdown",
   "source": [
    "generate train/test function"
   ],
   "metadata": {
    "collapsed": false
   }
  },
  {
   "cell_type": "code",
   "execution_count": null,
   "outputs": [],
   "source": [
    "# TODO: TRIPPLE CHECK THIS FUNCTION, IT IS VERY IMPORTANT\n",
    "def generate(ex, cate, sample_size, testing_size):\n",
    "    # 1 generated x_train & x_test\n",
    "    mean = np.zeros(d)\n",
    "    cov = np.array(mpower.cvine(d=d, alpha=0.5, beta=0.5))  # TODO: set cov according to setup\n",
    "    x_train = random.multivariate_normal(mean=mean, cov=cov, size=sample_size, check_valid='warn')\n",
    "    x_test = random.multivariate_normal(mean=mean, cov=cov, size=test_size, check_valid='warn')\n",
    "\n",
    "    # 2 generate e_0 & e_0\n",
    "    # train\n",
    "    e_0 = random.normal(loc=0.0, scale=1.0, size=sample_size)\n",
    "    e_1 = random.normal(loc=0.0, scale=1.0, size=sample_size)\n",
    "\n",
    "    # test\n",
    "    e_0_test = random.normal(loc=0.0, scale=1.0, size=testing_size)\n",
    "    e_1_test = random.normal(loc=0.0, scale=1.0, size=testing_size)\n",
    "\n",
    "    # 3 compute mu_0 & mu_1 --> based on setting\n",
    "    if cate == 'glinear':  # 'global linear response' setting (no treatment effect)\n",
    "        mu_0, mu_1, tau, mu_0_test, mu_1_test, tau_test = global_linear_response(x_train, x_test)\n",
    "\n",
    "    elif cate == 'plinear':  # 'piecewise linear response' setting (no treatment effect)\n",
    "        mu_0, mu_1, tau, mu_0_test, mu_1_test, tau_test = piecewise_linear_response(x_train, x_test)\n",
    "\n",
    "    elif cate == 'sindcate':  # 'simple indicator cate' setting\n",
    "        mu_0, mu_1, tau, mu_0_test, mu_1_test, tau_test = simple_indicator_cate(x_train, x_test)\n",
    "\n",
    "    elif cate == 'slinearcate':  # 'simple linear cate' setting\n",
    "        mu_0, mu_1, tau, mu_0_test, mu_1_test, tau_test = simple_linear_cate(x_train, x_test)\n",
    "\n",
    "    elif cate == 'squadcate':  # 'simple quadratic cate' setting\n",
    "        mu_0, mu_1, tau, mu_0_test, mu_1_test, tau_test = simple_quadratic_cate(x_train, x_test)\n",
    "\n",
    "    elif cate == 'clinearcate':  # 'complex linear cate' setting\n",
    "        mu_0, mu_1, tau, mu_0_test, mu_1_test, tau_test = complex_linear_cate(x_train, x_test)\n",
    "\n",
    "    elif cate == 'cnonlincate':  # 'complex non-linear cate' setting\n",
    "        mu_0, mu_1, tau, mu_0_test, mu_1_test, tau_test = complex_nonlinear_cate(x_train, x_test)\n",
    "\n",
    "    else:\n",
    "        raise NotImplementedError\n",
    "\n",
    "    # 4 create potential outcomes Y_0 & Y_1\n",
    "    # train\n",
    "    y_0 = mu_0 + e_0\n",
    "    y_1 = mu_1 + e_1\n",
    "\n",
    "    # test\n",
    "    y_0_test = mu_0_test + e_0_test\n",
    "    y_1_test = mu_1_test + e_1_test\n",
    "\n",
    "    # 5 SET PROPENSITY SCORE E_X --> based on setting\n",
    "    if isinstance(ex, float or int):\n",
    "        e_x = ex\n",
    "        e_x_test = ex\n",
    "\n",
    "    elif ex == 'beta_balanced':\n",
    "        e_x, e_x_test = beta_balanced(x_train, x_test)\n",
    "\n",
    "    elif ex == 'beta_unbalanced':\n",
    "        e_x, e_x_test = beta_unbalanced(x_train, x_test)\n",
    "\n",
    "    else:\n",
    "        raise NotImplementedError\n",
    "\n",
    "    # 6 generate treatment assignment  W\n",
    "    w = random.binomial(size=sample_size, n=1, p=e_x)\n",
    "    w_test = random.binomial(size=testing_size, n=1, p=e_x_test)\n",
    "\n",
    "    # 7 create observed variables Y\n",
    "    y = np.multiply(w, y_1) + np.multiply(np.ones(sample_size) - w, y_0)\n",
    "    y_test = np.multiply(w_test, y_1_test) + np.multiply(np.ones(testing_size) - w_test, y_0_test)\n",
    "\n",
    "    # 8 create train & test sets\n",
    "    dataset_train = np.concatenate(\n",
    "        (np.reshape(y, (sample_size, 1)), x_train, np.reshape(w, (sample_size, 1)), np.reshape(tau, (sample_size, 1))),\n",
    "        axis=1)\n",
    "    dataset_test = np.concatenate((np.reshape(y_test, (testing_size, 1)), x_test, np.reshape(w_test, (testing_size, 1)),\n",
    "                                   np.reshape(tau_test, (testing_size, 1))), axis=1)\n",
    "\n",
    "    # 9 return both sets\n",
    "    return [dataset_train, dataset_test]\n"
   ],
   "metadata": {
    "collapsed": false
   }
  },
  {
   "cell_type": "markdown",
   "source": [
    "empty list"
   ],
   "metadata": {
    "collapsed": false
   }
  },
  {
   "cell_type": "code",
   "execution_count": null,
   "outputs": [],
   "source": [
    "# create empty list to save all datasets\n",
    "data = []\n",
    "for i in range(n_setups):\n",
    "    data.append([])\n",
    "\n",
    "for i in range(n_setups):\n",
    "    for s in range(4):\n",
    "        data[i].append([])\n",
    "\n",
    "for i in range(n_setups):\n",
    "    for s in range(4):\n",
    "        for r in range(n_runs):\n",
    "            data[i][s].append([])\n",
    "\n",
    "for i in range(n_setups):\n",
    "    for s in range(4):\n",
    "        for r in range(n_runs):\n",
    "            for t in range(2):\n",
    "                data[i][s][r].append([])"
   ],
   "metadata": {
    "collapsed": false
   }
  },
  {
   "cell_type": "markdown",
   "source": [
    "generate all"
   ],
   "metadata": {
    "collapsed": false
   }
  },
  {
   "cell_type": "code",
   "execution_count": null,
   "outputs": [],
   "source": [
    "# generate all datasets\n",
    "s = 0\n",
    "for setup in range(n_setups):\n",
    "    print(f'Generating setup {setup + 1}')\n",
    "    for size in sample_sizes:\n",
    "        for run in range(n_runs):\n",
    "            gen = generate(ex=exs[setup], cate=cates[setup], sample_size=size, testing_size=test_size)\n",
    "            data[setup][s][run][0] = gen[0]  # add train-set\n",
    "            data[setup][s][run][1] = gen[1]  # add test-set\n",
    "        s += 1  # update index for sample_sizes\n",
    "    s = 0  # reset index for sample_sizes\n",
    "print('DONE')\n",
    "# it took 43 seconds # 4.4 GB of data!"
   ],
   "metadata": {
    "collapsed": false
   }
  },
  {
   "cell_type": "code",
   "execution_count": null,
   "outputs": [],
   "source": [
    "data[0][0][0][0]  # :)"
   ],
   "metadata": {
    "collapsed": false
   }
  },
  {
   "cell_type": "code",
   "execution_count": null,
   "outputs": [],
   "source": [
    "# -1.992791, -7.838958 -> reproducibility check over :)"
   ],
   "metadata": {
    "collapsed": false
   }
  },
  {
   "cell_type": "markdown",
   "source": [
    "Just Plotting relationship"
   ],
   "metadata": {
    "collapsed": false
   }
  },
  {
   "cell_type": "code",
   "execution_count": null,
   "outputs": [],
   "source": [
    "x_points = data[22][3][0][0][:, 21]\n",
    "y_points = data[22][3][0][0][:, 0]\n",
    "plt.plot(x_points, y_points, 'o')\n",
    "plt.show()\n",
    "\n",
    "# cant see any relationship\n",
    "# probably to small confounding due too betas!"
   ],
   "metadata": {
    "collapsed": false
   }
  },
  {
   "cell_type": "markdown",
   "source": [
    "# Save data with pickle"
   ],
   "metadata": {
    "collapsed": false
   }
  },
  {
   "cell_type": "code",
   "execution_count": null,
   "outputs": [],
   "source": [
    "# save data\n",
    "file_name = \"/Users/arberimbibaj/Documents/Master Thesis ETH/DataSets /Generated/data_synthetic.pkl\"\n",
    "\n",
    "open_file = open(file_name, \"wb\")\n",
    "pickle.dump(data, open_file)\n",
    "open_file.close()"
   ],
   "metadata": {
    "collapsed": false
   }
  },
  {
   "cell_type": "code",
   "execution_count": null,
   "outputs": [],
   "source": [
    "file_name = \"/Users/arberimbibaj/Documents/Master Thesis ETH/DataSets /Generated/data_synthetic.pkl\"\n",
    "open_file = open(file_name, \"rb\")\n",
    "loaded_data = pickle.load(open_file)\n",
    "open_file.close()\n",
    "\n",
    "loaded_data[0][0][0][0]"
   ],
   "metadata": {
    "collapsed": false
   }
  },
  {
   "cell_type": "code",
   "execution_count": null,
   "outputs": [],
   "source": [
    "# TODO: CHANGE THIS BACK TO WHAT IT WAS, SO NO CRASHES CAN HAPPEN.\n",
    "# Current values:\n",
    "# NotebookApp.iopub_data_rate_limit=1000000.0 (bytes/sec)\n",
    "# NotebookApp.rate_limit_window=3.0 (secs)"
   ],
   "metadata": {
    "collapsed": false
   }
  }
 ],
 "metadata": {
  "kernelspec": {
   "display_name": "Python 3 (ipykernel)",
   "language": "python",
   "name": "python3"
  },
  "language_info": {
   "codemirror_mode": {
    "name": "ipython",
    "version": 3
   },
   "file_extension": ".py",
   "mimetype": "text/x-python",
   "name": "python",
   "nbconvert_exporter": "python",
   "pygments_lexer": "ipython3",
   "version": "3.10.9"
  }
 },
 "nbformat": 4,
 "nbformat_minor": 1
}
