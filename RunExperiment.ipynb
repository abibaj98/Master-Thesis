{
 "cells": [
  {
   "cell_type": "code",
   "execution_count": null,
   "outputs": [],
   "source": [
    "import numpy as np"
   ],
   "metadata": {
    "collapsed": false
   }
  },
  {
   "cell_type": "code",
   "execution_count": null,
   "outputs": [],
   "source": [
    "# todo: https://stackoverflow.com/questions/24168569/how-to-add-names-to-a-numpy-array-without-changing-its-dimension"
   ],
   "metadata": {
    "collapsed": false
   }
  },
  {
   "cell_type": "code",
   "execution_count": null,
   "metadata": {
    "collapsed": true
   },
   "outputs": [],
   "source": [
    "# This file runs the experiment"
   ]
  },
  {
   "cell_type": "code",
   "execution_count": null,
   "outputs": [],
   "source": [
    "n_setups = 28\n",
    "sample_sizes = {500, 1000, 2000, 5000}\n",
    "n_runs = 10\n",
    "learners = {'1', '2', '3', '4', '5', '6', '7', '8'}\n",
    "base_learners = {'A', 'B', 'C'}\n"
   ],
   "metadata": {
    "collapsed": false
   }
  },
  {
   "cell_type": "code",
   "execution_count": null,
   "outputs": [],
   "source": [
    "# What we want: For each setting and base learner --> matrix which includes the MSE, columns: Metalearners + SampleSize, rows: Run(1-10)\n",
    "# --> So we can plot the mean and 1se of the MSE for each Metalearer, each samplesize; giving the setting and baselearner\n",
    "# --> number of plots: settings*baselearner."
   ],
   "metadata": {
    "collapsed": false
   }
  },
  {
   "cell_type": "code",
   "execution_count": null,
   "outputs": [],
   "source": [
    "results = []\n",
    "\n",
    "for i in range(n_setups):\n",
    "    results.append([])\n",
    "\n",
    "for i in range(n_setups):\n",
    "    for baselearner in range(3):\n",
    "        results[i].append([])\n"
   ],
   "metadata": {
    "collapsed": false
   }
  },
  {
   "cell_type": "code",
   "execution_count": null,
   "outputs": [],
   "source": [
    "results[27][2]  # first number indicates the setup, second number indicates the base learner."
   ],
   "metadata": {
    "collapsed": false
   }
  },
  {
   "cell_type": "code",
   "execution_count": null,
   "outputs": [],
   "source": [
    "mses = []"
   ],
   "metadata": {
    "collapsed": false
   }
  },
  {
   "cell_type": "code",
   "execution_count": null,
   "outputs": [],
   "source": [
    "# helper function to get y, x, w, tau, out of data[][][][]\n",
    "def get_variables(data, setup, samplesize, run, train_test):\n",
    "    y = data[setup][samplesize][run][train_test][:, 0]\n",
    "    x = data[setup][samplesize][run][train_test][:, 1:21]\n",
    "    w = data[setup][samplesize][run][train_test][:, 21]\n",
    "    tau = data[setup][samplesize][run][train_test][:, 22]\n",
    "    return y, x, w, tau"
   ],
   "metadata": {
    "collapsed": false
   }
  },
  {
   "cell_type": "code",
   "execution_count": null,
   "outputs": [],
   "source": [
    "for i in range(n_setups):\n",
    "    for b in range(3):  # change to baselearner\n",
    "        plot_mse = np.empty(shape=(0, 8)) # 40 = runs*sample_sizes\n",
    "        for s in range(4):  # change to sample_sizes\n",
    "            size_mse = np.empty(shape=(10, 8)) # 10 = number of runs\n",
    "            for r in range(10):  # run\n",
    "                mses = np.empty(shape=(1, 8)) # reset\n",
    "                # set data TODO: make helper function to make y, x, w, tau, out of data[][][][]\n",
    "                    temp_y_train, temp_x_train, temp_w_train, temp_tau_train  = get_variables(data=data, setup=i, samplesize=s, run=r, train_test=0)\n",
    "                    temp_y_test, temp_x_test, temp_w_test, temp_tau_test  = get_variables(data=data, setup=i, samplesize=s, run=r, train_test=1)\n",
    "                for m in range(8):  # change to metalearner\n",
    "                    # train and test\n",
    "                    learner = m * base_learners # TODO: just abstract, change to metalearner with baselearner here.\n",
    "                    learner.fit(temp_x_train, temp_y_train, temp_w_train)\n",
    "                    predictions = learner.predict(temp_x_test)\n",
    "                    temp_mse = ((predictions - tau_test)**2).mean()\n",
    "                    mses[0,m] = temp_mse\n",
    "                size_mse[r,:] = mses\n",
    "            np.append(plot_mse, mses)\n",
    "        results[i][b] = plot_mse\n",
    "\n",
    "\n",
    "\n",
    "\n",
    "\n",
    "\n",
    "\n",
    "# this should make sense i guess! :)\n",
    "# TODO: TRY IT OUT TOMORROW!!!!!!, ALSO CHECK IF IT MAKES IT FASTER IF EVERYTHING IS EITHER IN NP OR IN LIST/ARRAY BASE PYTHON.\n",
    "\n",
    "\n",
    "\n"
   ],
   "metadata": {
    "collapsed": false
   }
  },
  {
   "cell_type": "markdown",
   "source": [],
   "metadata": {
    "collapsed": false
   }
  },
  {
   "cell_type": "code",
   "execution_count": null,
   "outputs": [],
   "source": [
    "one_line = np.concatenate((np.empty(shape=(1, 8)),np.array([[1000]])),axis=1)\n",
    "np.concatenate((one_line, one_line, one_line), axis=0)"
   ],
   "metadata": {
    "collapsed": false
   }
  },
  {
   "cell_type": "code",
   "execution_count": null,
   "outputs": [],
   "source": [
    "np.repeat([1000], 10)"
   ],
   "metadata": {
    "collapsed": false
   }
  },
  {
   "cell_type": "code",
   "execution_count": null,
   "outputs": [],
   "source": [
    "one_line[0,0] = 2"
   ],
   "metadata": {
    "collapsed": false
   }
  },
  {
   "cell_type": "code",
   "execution_count": null,
   "outputs": [],
   "source": [
    "one_line"
   ],
   "metadata": {
    "collapsed": false
   }
  },
  {
   "cell_type": "code",
   "execution_count": null,
   "outputs": [],
   "source": [
    "a = ..."
   ],
   "metadata": {
    "collapsed": false
   }
  },
  {
   "cell_type": "code",
   "execution_count": null,
   "outputs": [],
   "source": [
    "emp = np.empty(shape=(40, 8))"
   ],
   "metadata": {
    "collapsed": false
   }
  },
  {
   "cell_type": "code",
   "execution_count": null,
   "outputs": [],
   "source": [
    "np.append(emp, one_line[:,-9], axis=0)"
   ],
   "metadata": {
    "collapsed": false
   }
  },
  {
   "cell_type": "code",
   "execution_count": null,
   "outputs": [],
   "source": [
    "emp"
   ],
   "metadata": {
    "collapsed": false
   }
  },
  {
   "cell_type": "code",
   "execution_count": null,
   "outputs": [],
   "source": [
    "np.append(arr=, values=one_line)"
   ],
   "metadata": {
    "collapsed": false
   }
  },
  {
   "cell_type": "code",
   "execution_count": null,
   "outputs": [],
   "source": [],
   "metadata": {
    "collapsed": false
   }
  }
 ],
 "metadata": {
  "kernelspec": {
   "display_name": "Python 3",
   "language": "python",
   "name": "python3"
  },
  "language_info": {
   "codemirror_mode": {
    "name": "ipython",
    "version": 2
   },
   "file_extension": ".py",
   "mimetype": "text/x-python",
   "name": "python",
   "nbconvert_exporter": "python",
   "pygments_lexer": "ipython2",
   "version": "2.7.6"
  }
 },
 "nbformat": 4,
 "nbformat_minor": 0
}
