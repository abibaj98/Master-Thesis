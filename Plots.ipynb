{
 "cells": [
  {
   "cell_type": "code",
   "execution_count": null,
   "metadata": {
    "collapsed": true
   },
   "outputs": [],
   "source": [
    "import jsonpickle\n",
    "import pandas as pd"
   ]
  },
  {
   "cell_type": "markdown",
   "source": [
    "HELPER FUNCTIONS"
   ],
   "metadata": {
    "collapsed": false
   }
  },
  {
   "cell_type": "code",
   "execution_count": null,
   "outputs": [],
   "source": [
    "# helper function to read json file\n",
    "def open_json(name):\n",
    "    f = open(name, 'r')\n",
    "    json_str = f.read()\n",
    "    file = jsonpickle.decode(json_str)\n",
    "    return file\n"
   ],
   "metadata": {
    "collapsed": false
   }
  },
  {
   "cell_type": "code",
   "execution_count": null,
   "outputs": [],
   "source": [
    "def make_plot_ready(data_set, setting):\n",
    "    # make them dataframes\n",
    "    df1 = pd.DataFrame(data_set[0])\n",
    "    df2 = pd.DataFrame(data_set[1])\n",
    "    df3 = pd.DataFrame(data_set[2])\n",
    "    # add metalearner names\n",
    "    col_names = ['T-Learner', 'S-Learner', 'X-Learner', 'R-Learner', 'DR-Learner', 'RA-Learner', 'PW-Learner', 'U-Learner',\n",
    "             'SampleSize']\n",
    "    df1.columns = col_names\n",
    "    df2.columns = col_names\n",
    "    df3.columns = col_names\n",
    "    # wide format -> long format\n",
    "    df1 = df1.melt('SampleSize', var_name='MetaLearner', value_name='MSE')\n",
    "    df2 = df2.melt('SampleSize', var_name='MetaLearner', value_name='MSE')\n",
    "    df3 = df3.melt('SampleSize', var_name='MetaLearner', value_name='MSE')\n",
    "    # add new column indicating baselearner\n",
    "    df1['BaseLearner'] = 'RandomForest'\n",
    "    df2['BaseLearner'] = 'LinearModel'\n",
    "    df3['BaseLearner'] = 'NeuralNetwork'\n",
    "    # concatenate\n",
    "    df_1 = pd.concat([df1, df2, df3], ignore_index=True)\n",
    "    # column setting\n",
    "    df_1['Setting'] = setting\n",
    "    # using dictionary to convert specific columns\n",
    "    convert_dict = {'SampleSize': int,\n",
    "                'MetaLearner': 'category',\n",
    "                'Setting': 'category'\n",
    "                }\n",
    "    df_1 = df_1.astype(convert_dict)\n",
    "    return  df_1"
   ],
   "metadata": {
    "collapsed": false
   }
  },
  {
   "cell_type": "code",
   "execution_count": null,
   "outputs": [],
   "source": [
    "# read file\n",
    "file_name = '/Users/arberimbibaj/results_simulated_setting1_10run(s).json'\n",
    "data = open_json(file_name)"
   ],
   "metadata": {
    "collapsed": false
   }
  },
  {
   "cell_type": "markdown",
   "source": [
    "STEPS"
   ],
   "metadata": {
    "collapsed": false
   }
  },
  {
   "cell_type": "code",
   "execution_count": null,
   "outputs": [],
   "source": [
    "# make them dataframes\n",
    "df1 = pd.DataFrame(data[0])\n",
    "df2 = pd.DataFrame(data[1])\n",
    "df3 = pd.DataFrame(data[2])\n",
    "\n",
    "col_names = ['T-Learner', 'S-Learner', 'X-Learner', 'R-Learner', 'DR-Learner', 'RA-Learner', 'PW-Learner', 'U-Learner',\n",
    "             'SampleSize']\n",
    "\n",
    "df1.columns = col_names\n",
    "df2.columns = col_names\n",
    "df3.columns = col_names\n"
   ],
   "metadata": {
    "collapsed": false
   }
  },
  {
   "cell_type": "code",
   "execution_count": null,
   "outputs": [],
   "source": [
    "# MSE -> RMSE\n",
    "\"\"\"\n",
    "df1[col_names] = np.sqrt(df1[col_names])\n",
    "df2[col_names] = np.sqrt(df2[col_names])\n",
    "df3[col_names] = np.sqrt(df3[col_names])\n",
    "\"\"\""
   ],
   "metadata": {
    "collapsed": false
   }
  },
  {
   "cell_type": "code",
   "execution_count": null,
   "outputs": [],
   "source": [
    "# wide format -> long format\n",
    "df1 = df1.melt('SampleSize', var_name='MetaLearner', value_name='MSE')\n",
    "df2 = df2.melt('SampleSize', var_name='MetaLearner', value_name='MSE')\n",
    "df3 = df3.melt('SampleSize', var_name='MetaLearner', value_name='MSE')"
   ],
   "metadata": {
    "collapsed": false
   }
  },
  {
   "cell_type": "code",
   "execution_count": null,
   "outputs": [],
   "source": [
    "# add new column baselearner\n",
    "df1['BaseLearner'] = 'RandomForest'\n",
    "df2['BaseLearner'] = 'LinearModel'\n",
    "df3['BaseLearner'] = 'NeuralNetwork'"
   ],
   "metadata": {
    "collapsed": false
   }
  },
  {
   "cell_type": "code",
   "execution_count": null,
   "outputs": [],
   "source": [
    "# concatenate\n",
    "df_1 = pd.concat([df1, df2, df3], ignore_index=True)"
   ],
   "metadata": {
    "collapsed": false
   }
  },
  {
   "cell_type": "code",
   "execution_count": null,
   "outputs": [],
   "source": [
    "# column setting\n",
    "df_1['Setting'] = 1"
   ],
   "metadata": {
    "collapsed": false
   }
  },
  {
   "cell_type": "code",
   "execution_count": null,
   "outputs": [],
   "source": [
    "# using dictionary to convert specific columns\n",
    "convert_dict = {'SampleSize': int,\n",
    "                'MetaLearner': 'category',\n",
    "                'Setting': 'category'\n",
    "                }\n",
    "df_1 = df_1.astype(convert_dict)"
   ],
   "metadata": {
    "collapsed": false
   }
  },
  {
   "cell_type": "markdown",
   "source": [
    "fertig"
   ],
   "metadata": {
    "collapsed": false
   }
  },
  {
   "cell_type": "code",
   "execution_count": null,
   "outputs": [],
   "source": [
    "df_1 = make_plot_ready(data, 1)"
   ],
   "metadata": {
    "collapsed": false
   }
  },
  {
   "cell_type": "markdown",
   "source": [
    "PLOT"
   ],
   "metadata": {
    "collapsed": false
   }
  },
  {
   "cell_type": "code",
   "execution_count": null,
   "outputs": [],
   "source": [
    "import seaborn as sns"
   ],
   "metadata": {
    "collapsed": false
   }
  },
  {
   "cell_type": "code",
   "execution_count": null,
   "outputs": [],
   "source": [
    "sns.set_style('whitegrid')"
   ],
   "metadata": {
    "collapsed": false
   }
  },
  {
   "cell_type": "code",
   "execution_count": null,
   "outputs": [],
   "source": [
    "face = sns.FacetGrid(data=df_1, col='BaseLearner', sharey=True, height=4, aspect=1)\n",
    "face.map(sns.lineplot, 'SampleSize', 'MSE', 'MetaLearner', errorbar=None, marker='o', estimator='mean', linewidth=1)\n",
    "# face.add_legend()\n",
    "#sns.move_legend(face, 'upper right')\n",
    "face.set(yscale='log')"
   ],
   "metadata": {
    "collapsed": false
   }
  },
  {
   "cell_type": "code",
   "execution_count": null,
   "outputs": [],
   "source": [
    "face.savefig('setting_3.png', dpi=1200)"
   ],
   "metadata": {
    "collapsed": false
   }
  },
  {
   "cell_type": "markdown",
   "source": [
    "Plot all Setting"
   ],
   "metadata": {
    "collapsed": false
   }
  },
  {
   "cell_type": "code",
   "execution_count": null,
   "outputs": [],
   "source": [
    "# Dot it for multiple settings, then concatenate!"
   ],
   "metadata": {
    "collapsed": false
   }
  },
  {
   "cell_type": "code",
   "execution_count": null,
   "outputs": [],
   "source": [
    "# add setting column\n",
    "df_1['Setting'] = 1"
   ],
   "metadata": {
    "collapsed": false
   }
  },
  {
   "cell_type": "code",
   "execution_count": null,
   "outputs": [],
   "source": [
    "# concat all settings\n",
    "df_all = pd.concat([df_1, ...], ignore_index=True)  # NEED NEW DF_2 ..."
   ],
   "metadata": {
    "collapsed": false
   }
  },
  {
   "cell_type": "code",
   "execution_count": null,
   "outputs": [],
   "source": [
    "face = sns.FacetGrid(data=df_all, row='Setting', col='BaseLearner', sharey=True, height=3, aspect=1)\n",
    "face.map(sns.lineplot, 'SampleSize', 'MSE', 'MetaLearner', errorbar=None, marker='o', estimator='mean', linewidth=1)\n",
    "face.add_legend()\n",
    "#sns.move_legend(face, 'upper right')\n",
    "face.set(yscale='log')"
   ],
   "metadata": {
    "collapsed": false
   }
  },
  {
   "cell_type": "code",
   "execution_count": null,
   "outputs": [],
   "source": [
    "face.savefig('plot_multiple.png', dpi=1200)#%% md\n"
   ],
   "metadata": {
    "collapsed": false
   }
  },
  {
   "cell_type": "code",
   "execution_count": null,
   "outputs": [],
   "source": [
    "import seaborn as sns"
   ],
   "metadata": {
    "collapsed": false
   }
  },
  {
   "cell_type": "code",
   "execution_count": null,
   "outputs": [],
   "source": [
    "sns.set_style('whitegrid')"
   ],
   "metadata": {
    "collapsed": false
   }
  },
  {
   "cell_type": "code",
   "execution_count": null,
   "outputs": [],
   "source": [
    "face = sns.FacetGrid(data=df_1, col='BaseLearner', sharey=True, height=4, aspect=1)\n",
    "face.map(sns.lineplot, 'SampleSize', 'MSE', 'MetaLearner', errorbar=None, marker='o', estimator='mean', linewidth=1)\n",
    "# face.add_legend()\n",
    "#sns.move_legend(face, 'upper right')\n",
    "face.set(yscale='log')"
   ],
   "metadata": {
    "collapsed": false
   }
  },
  {
   "cell_type": "code",
   "execution_count": null,
   "outputs": [],
   "source": [
    "face.savefig('setting_3.png', dpi=1200)"
   ],
   "metadata": {
    "collapsed": false
   }
  },
  {
   "cell_type": "markdown",
   "source": [
    "Plot all Setting"
   ],
   "metadata": {
    "collapsed": false
   }
  },
  {
   "cell_type": "code",
   "execution_count": null,
   "outputs": [],
   "source": [
    "# Dot it for multiple settings, then concatenate!"
   ],
   "metadata": {
    "collapsed": false
   }
  },
  {
   "cell_type": "code",
   "execution_count": null,
   "outputs": [],
   "source": [
    "# add setting column\n",
    "df_1['Setting'] = 1"
   ],
   "metadata": {
    "collapsed": false
   }
  },
  {
   "cell_type": "code",
   "execution_count": null,
   "outputs": [],
   "source": [
    "# concat all settings\n",
    "df_all = pd.concat([df_1, ...], ignore_index=True)  # NEED NEW DF_2 ..."
   ],
   "metadata": {
    "collapsed": false
   }
  },
  {
   "cell_type": "code",
   "execution_count": null,
   "outputs": [],
   "source": [
    "face = sns.FacetGrid(data=df_all, row='Setting', col='BaseLearner', sharey=True, height=3, aspect=1)\n",
    "face.map(sns.lineplot, 'SampleSize', 'MSE', 'MetaLearner', errorbar=None, marker='o', estimator='mean', linewidth=1)\n",
    "face.add_legend()\n",
    "#sns.move_legend(face, 'upper right')\n",
    "face.set(yscale='log')"
   ],
   "metadata": {
    "collapsed": false
   }
  },
  {
   "cell_type": "code",
   "execution_count": null,
   "outputs": [],
   "source": [
    "face.savefig('plot_multiple.png', dpi=1200)"
   ],
   "metadata": {
    "collapsed": false
   }
  }
 ],
 "metadata": {
  "kernelspec": {
   "display_name": "Python 3",
   "language": "python",
   "name": "python3"
  },
  "language_info": {
   "codemirror_mode": {
    "name": "ipython",
    "version": 2
   },
   "file_extension": ".py",
   "mimetype": "text/x-python",
   "name": "python",
   "nbconvert_exporter": "python",
   "pygments_lexer": "ipython2",
   "version": "2.7.6"
  }
 },
 "nbformat": 4,
 "nbformat_minor": 0
}
