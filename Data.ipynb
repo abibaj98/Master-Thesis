{
 "cells": [
  {
   "cell_type": "code",
   "execution_count": 1,
   "metadata": {
    "collapsed": true,
    "ExecuteTime": {
     "end_time": "2023-05-17T15:24:49.540716700Z",
     "start_time": "2023-05-17T15:24:44.796769400Z"
    }
   },
   "outputs": [],
   "source": [
    "# import packages\n",
    "\n",
    "import numpy as np\n",
    "from numpy import random\n",
    "\n",
    "# import r packages (and functions) if needed\n",
    "\n",
    "import rpy2.robjects as robjects\n",
    "import rpy2.robjects.packages as rpackages\n",
    "#rpackages.importr(\"clusterGeneration\")\n",
    "rpackages.importr(\"mpower\")\n",
    "#cluster_generation = robjects.packages.importr(\"clusterGeneration\")\n",
    "mpower = robjects.packages.importr(\"mpower\")"
   ]
  },
  {
   "cell_type": "code",
   "execution_count": 2,
   "outputs": [],
   "source": [
    "# Fully Synthetic Data Sets (Set up from Künzel et al.)\n",
    "\n",
    "# 1: Simulate the d-dimensional X.\n",
    "# 2: Create Potential Outcomes Y(1) and Y(0).\n",
    "# 3: Simulate Treatment Assignments trough W."
   ],
   "metadata": {
    "collapsed": false,
    "ExecuteTime": {
     "end_time": "2023-05-17T15:25:10.009040800Z",
     "start_time": "2023-05-17T15:25:09.977785200Z"
    }
   }
  },
  {
   "cell_type": "code",
   "execution_count": 3,
   "outputs": [],
   "source": [
    "# 1: Simulate the d-dimensional X. #\n",
    "\n",
    "\n",
    "# Setup parameters\n",
    "d = 5 # TODO: set dimension according to setup\n",
    "N = 10 # TODO: set sample size according to setup\n",
    "\n",
    "# X Correlation matrix and mean\n",
    "mean = np.zeros(d) # TODO: set mean according to setup\n",
    "cov = np.array(mpower.cvine(d=d, alpha = 0.5, beta = 0.5)) # TODO: set cov according to setup\n",
    "\n",
    "# Simulate X\n",
    "X = random.multivariate_normal(mean=mean, cov=cov, size=N, check_valid='warn')"
   ],
   "metadata": {
    "collapsed": false,
    "ExecuteTime": {
     "end_time": "2023-05-17T15:25:14.912633100Z",
     "start_time": "2023-05-17T15:25:14.727792500Z"
    }
   }
  },
  {
   "cell_type": "code",
   "execution_count": 4,
   "outputs": [
    {
     "data": {
      "text/plain": "array([[ 0.30406862,  1.7801453 ,  0.6997692 ,  1.05736195, -1.42485726],\n       [ 0.45293072, -2.23144037, -1.01904289,  1.08417423, -0.56909043],\n       [-0.61961636,  0.81674151,  0.61843623, -0.82075735,  0.98068663],\n       [-1.16624963,  0.46885978,  0.92428784, -0.14893294,  0.61415847],\n       [-0.43907415, -0.03808029,  0.50829344,  0.07482647, -1.29855536],\n       [-1.95979695,  1.99700116,  2.03644761, -2.91456776,  0.52377819],\n       [-0.2960675 ,  0.31951868,  0.06947292, -1.56045671,  1.30700133],\n       [-0.47933482,  0.49233353,  0.33106926, -0.77413148,  1.14266221],\n       [ 0.9282673 ,  1.28447366, -0.13461971,  0.68668656, -0.38495443],\n       [ 0.72909416,  0.3158631 , -0.10476353,  1.25213071, -1.47461883]])"
     },
     "execution_count": 4,
     "metadata": {},
     "output_type": "execute_result"
    }
   ],
   "source": [
    "# Check X\n",
    "X"
   ],
   "metadata": {
    "collapsed": false,
    "ExecuteTime": {
     "end_time": "2023-05-17T15:25:17.809954800Z",
     "start_time": "2023-05-17T15:25:17.762774900Z"
    }
   }
  },
  {
   "cell_type": "code",
   "execution_count": 5,
   "outputs": [
    {
     "data": {
      "text/plain": "array([[ 1.        , -0.39501135, -0.90439808,  0.43122745,  0.1128078 ],\n       [-0.39501135,  1.        ,  0.70401778, -0.34423844, -0.23647799],\n       [-0.90439808,  0.70401778,  1.        , -0.32834201, -0.36935233],\n       [ 0.43122745, -0.34423844, -0.32834201,  1.        , -0.49208684],\n       [ 0.1128078 , -0.23647799, -0.36935233, -0.49208684,  1.        ]])"
     },
     "execution_count": 5,
     "metadata": {},
     "output_type": "execute_result"
    }
   ],
   "source": [
    "# Check cov\n",
    "cov"
   ],
   "metadata": {
    "collapsed": false,
    "ExecuteTime": {
     "end_time": "2023-05-17T15:25:21.652907700Z",
     "start_time": "2023-05-17T15:25:21.621613100Z"
    }
   }
  },
  {
   "cell_type": "code",
   "execution_count": 6,
   "outputs": [],
   "source": [
    "# 2: Create Potential Outcomes Y(1) and Y(0).\n",
    "\n",
    "# Simulate errors, FIX\n",
    "e_0 = random.normal(loc=0.0,scale=1.0,size=N)\n",
    "e_1 = random.normal(loc=0.0,scale=1.0,size=N)\n",
    "\n",
    "# Just to make it work, create betas\n",
    "beta_0 = [2,3,-3,1,4] # TODO: delete or change\n",
    "beta_1 = [1,1,0,-5,3] # TODO: delete or change\n",
    "\n",
    "# Create Response Functions\n",
    "mu_0 = np.matmul(X,beta_0) # TODO: change according to setup\n",
    "mu_1 = np.matmul(X,beta_1) # TODO: change according to setup\n",
    "\n",
    "# Creat Potential Outcomes, FIX\n",
    "Y_0 = mu_0 + e_0\n",
    "Y_1 = mu_1 + e_1"
   ],
   "metadata": {
    "collapsed": false,
    "ExecuteTime": {
     "end_time": "2023-05-17T15:25:22.649117Z",
     "start_time": "2023-05-17T15:25:22.578250100Z"
    }
   }
  },
  {
   "cell_type": "code",
   "execution_count": 7,
   "outputs": [
    {
     "data": {
      "text/plain": "array([ 1.04303442, -3.79811164,  1.72353384, -1.72133214, -8.28021499,\n       -5.24568638,  3.15895282,  4.69914253,  7.95188519, -1.37315289])"
     },
     "execution_count": 7,
     "metadata": {},
     "output_type": "execute_result"
    }
   ],
   "source": [
    "# quick check Y_0\n",
    "Y_0"
   ],
   "metadata": {
    "collapsed": false,
    "ExecuteTime": {
     "end_time": "2023-05-17T15:25:23.682211700Z",
     "start_time": "2023-05-17T15:25:23.637190900Z"
    }
   }
  },
  {
   "cell_type": "code",
   "execution_count": 8,
   "outputs": [
    {
     "data": {
      "text/plain": "array([-8.41530723, -8.7163901 ,  6.8355947 ,  2.84825891, -3.85210517,\n       17.14287102, 12.72436134,  6.34962274, -1.46360217, -9.59764604])"
     },
     "execution_count": 8,
     "metadata": {},
     "output_type": "execute_result"
    }
   ],
   "source": [
    "# Quick Check Y_1\n",
    "Y_1"
   ],
   "metadata": {
    "collapsed": false,
    "ExecuteTime": {
     "end_time": "2023-05-17T15:25:24.635095100Z",
     "start_time": "2023-05-17T15:25:24.594729800Z"
    }
   }
  },
  {
   "cell_type": "code",
   "execution_count": 9,
   "outputs": [],
   "source": [
    "# 3: Simulate Treatment Assignments trough W.\n",
    "\n",
    "# Set propensity score\n",
    "e_x = 0.5 # TODO: change from setup\n",
    "\n",
    "# Simulate Treatment Assignment, FIX\n",
    "W = random.binomial(size=N, n=1, p=e_x)\n",
    "\n",
    "# Create Observed Outcome, FIX\n",
    "ones = np.ones(N)\n",
    "Y = np.multiply(W,Y_1) + np.multiply(ones-W,Y_0)"
   ],
   "metadata": {
    "collapsed": false,
    "ExecuteTime": {
     "end_time": "2023-05-17T15:25:25.610723700Z",
     "start_time": "2023-05-17T15:25:25.572371500Z"
    }
   }
  },
  {
   "cell_type": "code",
   "execution_count": 10,
   "outputs": [
    {
     "data": {
      "text/plain": "array([ 1.04303442, -3.79811164,  1.72353384, -1.72133214, -3.85210517,\n       -5.24568638, 12.72436134,  4.69914253,  7.95188519, -1.37315289])"
     },
     "execution_count": 10,
     "metadata": {},
     "output_type": "execute_result"
    }
   ],
   "source": [
    "# check out observed outcomes\n",
    "Y"
   ],
   "metadata": {
    "collapsed": false,
    "ExecuteTime": {
     "end_time": "2023-05-17T15:25:26.743177500Z",
     "start_time": "2023-05-17T15:25:26.690093200Z"
    }
   }
  },
  {
   "cell_type": "code",
   "execution_count": null,
   "outputs": [],
   "source": [],
   "metadata": {
    "collapsed": false
   }
  }
 ],
 "metadata": {
  "kernelspec": {
   "display_name": "Python 3",
   "language": "python",
   "name": "python3"
  },
  "language_info": {
   "codemirror_mode": {
    "name": "ipython",
    "version": 2
   },
   "file_extension": ".py",
   "mimetype": "text/x-python",
   "name": "python",
   "nbconvert_exporter": "python",
   "pygments_lexer": "ipython2",
   "version": "2.7.6"
  }
 },
 "nbformat": 4,
 "nbformat_minor": 0
}
