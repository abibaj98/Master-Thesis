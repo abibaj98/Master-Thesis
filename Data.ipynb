{
 "cells": [
  {
   "cell_type": "code",
   "execution_count": 1,
   "metadata": {
    "collapsed": true,
    "ExecuteTime": {
     "end_time": "2023-05-22T14:17:47.108255300Z",
     "start_time": "2023-05-22T14:17:35.312774300Z"
    }
   },
   "outputs": [],
   "source": [
    "# import packages\n",
    "\n",
    "import numpy as np\n",
    "from numpy import random\n",
    "from scipy import stats\n",
    "import pandas as pd\n",
    "import copy\n",
    "import matplotlib.pyplot as plt\n",
    "\n",
    "# import r packages if needed\n",
    "\n",
    "import rpy2.robjects as robjects\n",
    "import rpy2.robjects.packages as rpackages\n",
    "#rpackages.importr(\"clusterGeneration\")\n",
    "#rpackages.importr(\"mpower\")\n",
    "#cluster_generation = robjects.packages.importr(\"clusterGeneration\")\n",
    "mpower = robjects.packages.importr(\"mpower\")"
   ]
  },
  {
   "cell_type": "code",
   "execution_count": null,
   "outputs": [],
   "source": [
    " # Fully Synthetic Data Sets (Set up from Künzel et al.)\n",
    "\n",
    "# 1: Simulate the d-dimensional X.\n",
    "# 2: Create Potential Outcomes Y(1) and Y(0).\n",
    "# 3: Simulate Treatment Assignments trough W."
   ],
   "metadata": {
    "collapsed": false
   }
  },
  {
   "cell_type": "code",
   "execution_count": null,
   "outputs": [],
   "source": [
    "########################################################"
   ],
   "metadata": {
    "collapsed": false
   }
  },
  {
   "cell_type": "code",
   "execution_count": 2,
   "outputs": [],
   "source": [
    "# 1: Simulate the d-dimensional X\n",
    "\n",
    "\n",
    "# Setup parameters\n",
    "d = 25 # TODO: set dimension according to setup\n",
    "N = 100 # TODO: set sample size according to setup\n",
    "\n",
    "# X Correlation matrix and mean\n",
    "mean = np.zeros(d) # TODO: set mean according to setup\n",
    "cov = np.array(mpower.cvine(d=d, alpha = 0.5, beta = 0.5)) # TODO: set cov according to setup\n",
    "\n",
    "# Simulate X\n",
    "X = random.multivariate_normal(mean=mean, cov=cov, size=N, check_valid='warn')"
   ],
   "metadata": {
    "collapsed": false,
    "ExecuteTime": {
     "end_time": "2023-05-22T14:17:52.391391900Z",
     "start_time": "2023-05-22T14:17:52.188260500Z"
    }
   }
  },
  {
   "cell_type": "code",
   "execution_count": 3,
   "outputs": [
    {
     "data": {
      "text/plain": "array([[ 1.01827568, -1.22175785,  0.3241594 , ..., -0.47820989,\n         1.32889737,  0.07892889],\n       [ 0.17651327, -0.61070957, -0.53833431, ...,  0.32523763,\n         0.23241681,  0.52655682],\n       [-0.95178956,  1.41899996, -0.2429933 , ...,  0.76789731,\n        -1.31946828, -0.17370868],\n       ...,\n       [-1.16214058,  0.20038298, -0.72689859, ...,  0.27483788,\n        -0.4332315 ,  1.00485364],\n       [ 0.8051629 , -0.71480403,  0.53794318, ...,  0.53068127,\n         1.50619844, -0.23822895],\n       [ 0.41952747, -0.49859974,  0.45651576, ..., -0.39169081,\n         0.02724371, -0.04177561]])"
     },
     "execution_count": 3,
     "metadata": {},
     "output_type": "execute_result"
    }
   ],
   "source": [
    "# Check X\n",
    "X"
   ],
   "metadata": {
    "collapsed": false,
    "ExecuteTime": {
     "end_time": "2023-05-22T14:18:01.741619700Z",
     "start_time": "2023-05-22T14:18:01.647877200Z"
    }
   }
  },
  {
   "cell_type": "code",
   "execution_count": 4,
   "outputs": [
    {
     "data": {
      "text/plain": "array([[ 1.        , -0.80481737,  0.84111349,  0.20206871, -0.30887603,\n        -0.90661775, -0.7747256 ,  0.63538993,  0.99817536, -0.41945748,\n         0.5667118 ,  0.72364865, -0.99896283, -0.29087439, -0.24272114,\n         0.99999738,  0.92928895, -0.50557078, -0.99753936, -0.17606868,\n        -0.48312046, -0.60116487, -0.50392327,  0.91071768, -0.51792225],\n       [-0.80481737,  1.        , -0.49267728,  0.26778278, -0.29869968,\n         0.76954275,  0.27949718, -0.76874208, -0.83165001,  0.87419245,\n        -0.72967   , -0.38310852,  0.77818415,  0.34443145, -0.06135306,\n        -0.80427493, -0.56397512,  0.83445689,  0.82857595,  0.32079591,\n         0.53685447,  0.94365784,  0.61420794, -0.81069051,  0.0383984 ],\n       [ 0.84111349, -0.49267728,  1.        ,  0.68660157, -0.64768999,\n        -0.90813746, -0.88306017,  0.52750813,  0.81689621, -0.088957  ,\n         0.06332486,  0.72377435, -0.85973944, -0.28572865, -0.25380399,\n         0.84168213,  0.96433976, -0.03614565, -0.82267313, -0.45375614,\n        -0.02967523, -0.18179478, -0.37856728,  0.74479927, -0.73679504],\n       [ 0.20206871,  0.26778278,  0.68660157,  1.        , -0.88191839,\n        -0.38042993, -0.65392056,  0.00287334,  0.15524434,  0.54640885,\n        -0.61934622,  0.40660408, -0.2423057 , -0.07822329, -0.23544303,\n         0.20316818,  0.540664  ,  0.6638153 , -0.16535409, -0.41115676,\n         0.53203604,  0.56463623,  0.06383895,  0.11811727, -0.71615943],\n       [-0.30887603, -0.29869968, -0.64768999, -0.88191839,  1.        ,\n         0.30806841,  0.79896255,  0.11931387, -0.26157093, -0.69286106,\n         0.40187297, -0.55067541,  0.35173852, -0.05005939,  0.4531213 ,\n        -0.30978301, -0.61867427, -0.59839221,  0.2679177 , -0.02446942,\n        -0.22304459, -0.57054657, -0.10864616, -0.15736231,  0.81342685],\n       [-0.90661775,  0.76954275, -0.90813746, -0.38042993,  0.30806841,\n         1.        ,  0.68350834, -0.74149148, -0.90441886,  0.46637326,\n        -0.27780823, -0.60021019,  0.907785  ,  0.20927175,  0.14052101,\n        -0.90657702, -0.90308674,  0.31954261,  0.91420973,  0.50068445,\n         0.28718023,  0.53556262,  0.65255547, -0.84976655,  0.60076086],\n       [-0.7747256 ,  0.27949718, -0.88306017, -0.65392056,  0.79896255,\n         0.68350834,  1.        , -0.21239352, -0.74307558, -0.19921129,\n        -0.10834058, -0.84970837,  0.80072811,  0.19212553,  0.39242008,\n        -0.77542251, -0.91908518, -0.05725928,  0.7428254 ,  0.07089406,\n         0.10685371, -0.00876323,  0.1345369 , -0.64054452,  0.76791994],\n       [ 0.63538993, -0.76874208,  0.52750813,  0.00287334,  0.11931387,\n        -0.74149148, -0.21239352,  1.        ,  0.66212441, -0.68966384,\n         0.28281533,  0.3996642 , -0.61974737, -0.28625946, -0.23822655,\n         0.63435843,  0.51608459, -0.53929513, -0.65635886, -0.44610398,\n        -0.29743057, -0.66923139, -0.7760025 ,  0.45618932, -0.1580639 ],\n       [ 0.99817536, -0.83165001,  0.81689621,  0.15524434, -0.26157093,\n        -0.90441886, -0.74307558,  0.66212441,  1.        , -0.46315826,\n         0.58903817,  0.71626226, -0.99481977, -0.2784893 , -0.24258944,\n         0.99805396,  0.91024358, -0.54157432, -0.99897898, -0.16773919,\n        -0.51647715, -0.64146869, -0.53790797,  0.90462174, -0.49260816],\n       [-0.41945748,  0.87419245, -0.088957  ,  0.54640885, -0.69286106,\n         0.46637326, -0.19921129, -0.68966384, -0.46315826,  1.        ,\n        -0.60997627, -0.0060905 ,  0.38021543,  0.2401754 , -0.26923189,\n        -0.41852572, -0.12012625,  0.83232448,  0.46100031,  0.36942651,\n         0.43605517,  0.94909949,  0.58880228, -0.49004643, -0.31626757],\n       [ 0.5667118 , -0.72967   ,  0.06332486, -0.61934622,  0.40187297,\n        -0.27780823, -0.10834058,  0.28281533,  0.58903817, -0.60997627,\n         1.        ,  0.17219029, -0.53790147, -0.32616164,  0.08610743,\n         0.56648844,  0.2534605 , -0.90467703, -0.57616013,  0.258359  ,\n        -0.67778567, -0.79918819, -0.14063947,  0.62279459,  0.26751522],\n       [ 0.72364865, -0.38310852,  0.72377435,  0.40660408, -0.55067541,\n        -0.60021019, -0.84970837,  0.3996642 ,  0.71626226, -0.0060905 ,\n         0.17219029,  1.        , -0.73789532, -0.2484627 , -0.51298088,\n         0.72349805,  0.77584521, -0.15818375, -0.70080532,  0.02117348,\n        -0.19042681, -0.16535359, -0.25888681,  0.46179721, -0.54625099],\n       [-0.99896283,  0.77818415, -0.85973944, -0.2423057 ,  0.35173852,\n         0.907785  ,  0.80072811, -0.61974737, -0.99481977,  0.38021543,\n        -0.53790147, -0.73789532,  1.        ,  0.28584697,  0.25863034,\n        -0.99900908, -0.94442544,  0.46877343,  0.9945106 ,  0.17502983,\n         0.46243516,  0.56429528,  0.48982326, -0.90467548,  0.54806956],\n       [-0.29087439,  0.34443145, -0.28572865, -0.07822329, -0.05005939,\n         0.20927175,  0.19212553, -0.28625946, -0.2784893 ,  0.2401754 ,\n        -0.32616164, -0.2484627 ,  0.28584697,  1.        , -0.16009577,\n        -0.29200615, -0.21318288,  0.46022496,  0.24725248,  0.39897526,\n        -0.40744993,  0.22750368, -0.34733262, -0.28697933, -0.38926663],\n       [-0.24272114, -0.06135306, -0.25380399, -0.23544303,  0.4531213 ,\n         0.14052101,  0.39242008, -0.23822655, -0.24258944, -0.26923189,\n         0.08610743, -0.51298088,  0.25863034, -0.16009577,  1.        ,\n        -0.24190492, -0.3293824 , -0.11906489,  0.23341873, -0.30333051,\n         0.24190738, -0.1434345 ,  0.31216456,  0.06245274,  0.44400754],\n       [ 0.99999738, -0.80427493,  0.84168213,  0.20316818, -0.30978301,\n        -0.90657702, -0.77542251,  0.63435843,  0.99805396, -0.41852572,\n         0.56648844,  0.72349805, -0.99900908, -0.29200615, -0.24190492,\n         1.        ,  0.92963316, -0.50496127, -0.99741827, -0.17674405,\n        -0.4817312 , -0.60025936, -0.50230038,  0.91120515, -0.51795513],\n       [ 0.92928895, -0.56397512,  0.96433976,  0.540664  , -0.61867427,\n        -0.90308674, -0.91908518,  0.51608459,  0.91024358, -0.12012625,\n         0.2534605 ,  0.77584521, -0.94442544, -0.21318288, -0.3293824 ,\n         0.92963316,  1.        , -0.16012861, -0.91486878, -0.24133135,\n        -0.26304315, -0.2843975 , -0.41920564,  0.81432146, -0.74903161],\n       [-0.50557078,  0.83445689, -0.03614565,  0.6638153 , -0.59839221,\n         0.31954261, -0.05725928, -0.53929513, -0.54157432,  0.83232448,\n        -0.90467703, -0.15818375,  0.46877343,  0.46022496, -0.11906489,\n        -0.50496127, -0.16012861,  1.        ,  0.5225986 , -0.00686338,\n         0.54042503,  0.91698236,  0.28756279, -0.51619426, -0.43282473],\n       [-0.99753936,  0.82857595, -0.82267313, -0.16535409,  0.2679177 ,\n         0.91420973,  0.7428254 , -0.65635886, -0.99897898,  0.46100031,\n        -0.57616013, -0.70080532,  0.9945106 ,  0.24725248,  0.23341873,\n        -0.99741827, -0.91486878,  0.5225986 ,  1.        ,  0.17680395,\n         0.52426972,  0.63749506,  0.55422926, -0.91312816,  0.5158111 ],\n       [-0.17606868,  0.32079591, -0.45375614, -0.41115676, -0.02446942,\n         0.50068445,  0.07089406, -0.44610398, -0.16773919,  0.36942651,\n         0.258359  ,  0.02117348,  0.17502983,  0.39897526, -0.30333051,\n        -0.17674405, -0.24133135, -0.00686338,  0.17680395,  1.        ,\n        -0.50415817,  0.16392671,  0.23118339, -0.30039143,  0.05448952],\n       [-0.48312046,  0.53685447, -0.02967523,  0.53203604, -0.22304459,\n         0.28718023,  0.10685371, -0.29743057, -0.51647715,  0.43605517,\n        -0.67778567, -0.19042681,  0.46243516, -0.40744993,  0.24190738,\n        -0.4817312 , -0.26304315,  0.54042503,  0.52426972, -0.50415817,\n         1.        ,  0.63770978,  0.58620568, -0.42348334,  0.18872162],\n       [-0.60116487,  0.94365784, -0.18179478,  0.56463623, -0.57054657,\n         0.53556262, -0.00876323, -0.66923139, -0.64146869,  0.94909949,\n        -0.79918819, -0.16535359,  0.56429528,  0.22750368, -0.1434345 ,\n        -0.60025936, -0.2843975 ,  0.91698236,  0.63749506,  0.16392671,\n         0.63770978,  1.        ,  0.58551738, -0.63958811, -0.19816134],\n       [-0.50392327,  0.61420794, -0.37856728,  0.06383895, -0.10864616,\n         0.65255547,  0.1345369 , -0.7760025 , -0.53790797,  0.58880228,\n        -0.14063947, -0.25888681,  0.48982326, -0.34733262,  0.31216456,\n        -0.50230038, -0.41920564,  0.28756279,  0.55422926,  0.23118339,\n         0.58620568,  0.58551738,  1.        , -0.37892046,  0.41964064],\n       [ 0.91071768, -0.81069051,  0.74479927,  0.11811727, -0.15736231,\n        -0.84976655, -0.64054452,  0.45618932,  0.90462174, -0.49004643,\n         0.62279459,  0.46179721, -0.90467548, -0.28697933,  0.06245274,\n         0.91120515,  0.81432146, -0.51619426, -0.91312816, -0.30039143,\n        -0.42348334, -0.63958811, -0.37892046,  1.        , -0.39620296],\n       [-0.51792225,  0.0383984 , -0.73679504, -0.71615943,  0.81342685,\n         0.60076086,  0.76791994, -0.1580639 , -0.49260816, -0.31626757,\n         0.26751522, -0.54625099,  0.54806956, -0.38926663,  0.44400754,\n        -0.51795513, -0.74903161, -0.43282473,  0.5158111 ,  0.05448952,\n         0.18872162, -0.19816134,  0.41964064, -0.39620296,  1.        ]])"
     },
     "execution_count": 4,
     "metadata": {},
     "output_type": "execute_result"
    }
   ],
   "source": [
    "# Check cov\n",
    "cov"
   ],
   "metadata": {
    "collapsed": false,
    "ExecuteTime": {
     "end_time": "2023-05-22T14:18:03.932289700Z",
     "start_time": "2023-05-22T14:18:02.697922Z"
    }
   }
  },
  {
   "cell_type": "code",
   "execution_count": 5,
   "outputs": [],
   "source": [
    "#######################################################"
   ],
   "metadata": {
    "collapsed": false,
    "ExecuteTime": {
     "end_time": "2023-05-22T14:18:04.969255100Z",
     "start_time": "2023-05-22T14:18:04.672388400Z"
    }
   }
  },
  {
   "cell_type": "code",
   "execution_count": 6,
   "outputs": [],
   "source": [
    "# 2: Create Potential Outcomes Y(1) and Y(0).\n",
    "\n",
    "# 2.1 Simulate errors, FIX\n",
    "e_0 = random.normal(loc=0.0,scale=1.0,size=N)\n",
    "e_1 = random.normal(loc=0.0,scale=1.0,size=N)\n",
    "\n",
    "# if needed take student_t distributed errors to see simulation with heavy-tailed errors\n",
    "\n",
    "# e_o = random.standard_t(df=1,size=N)\n",
    "# e_1 = random.standard_t(df=1,size=N)"
   ],
   "metadata": {
    "collapsed": false,
    "ExecuteTime": {
     "end_time": "2023-05-22T14:18:05.571157300Z",
     "start_time": "2023-05-22T14:18:05.508620200Z"
    }
   }
  },
  {
   "cell_type": "code",
   "execution_count": 7,
   "outputs": [],
   "source": [
    "#######################################################"
   ],
   "metadata": {
    "collapsed": false,
    "ExecuteTime": {
     "end_time": "2023-05-22T14:18:07.281591Z",
     "start_time": "2023-05-22T14:18:07.203466800Z"
    }
   }
  },
  {
   "cell_type": "code",
   "execution_count": 8,
   "outputs": [],
   "source": [
    "# 2.2 Create Response Functions"
   ],
   "metadata": {
    "collapsed": false,
    "ExecuteTime": {
     "end_time": "2023-05-22T14:18:07.877392700Z",
     "start_time": "2023-05-22T14:18:07.861783400Z"
    }
   }
  },
  {
   "cell_type": "code",
   "execution_count": 9,
   "outputs": [
    {
     "data": {
      "text/plain": "array([0., 0., 8., 0., 0., 0., 0., 0., 0., 8., 8., 8., 8., 0., 0., 0., 8.,\n       8., 0., 0., 8., 8., 0., 0., 0., 0., 0., 8., 0., 0., 8., 8., 0., 0.,\n       0., 0., 8., 8., 0., 8., 0., 0., 0., 8., 0., 8., 0., 8., 8., 8., 8.,\n       0., 0., 8., 0., 0., 8., 8., 8., 0., 8., 8., 0., 0., 0., 8., 8., 0.,\n       8., 0., 8., 8., 0., 0., 0., 0., 0., 8., 0., 0., 0., 8., 8., 0., 0.,\n       8., 0., 0., 8., 0., 8., 0., 0., 8., 8., 8., 0., 8., 0., 0.])"
     },
     "execution_count": 9,
     "metadata": {},
     "output_type": "execute_result"
    }
   ],
   "source": [
    "# SI1.1 simple cate - indicator  (no confounding)\n",
    "betas_0 = random.uniform(low=-5, high=5, size=d)\n",
    "mu_0 = np.matmul(X,betas_0) + 5*np.int8(X[:,0]>0.5)\n",
    "mu_1 = mu_0 + 8*np.int8(X[:,1]>0.1) # indicator\n",
    "tau = mu_1 - mu_0\n",
    "tau"
   ],
   "metadata": {
    "collapsed": false,
    "ExecuteTime": {
     "end_time": "2023-05-22T14:18:08.524261800Z",
     "start_time": "2023-05-22T14:18:08.414899500Z"
    }
   }
  },
  {
   "cell_type": "code",
   "execution_count": 10,
   "outputs": [
    {
     "data": {
      "text/plain": "array([ -9.77406279,  -4.88567654,  11.35199966,  -1.43449973,\n        -2.47554172,  -0.31591318,  -5.00529921,  -1.57700652,\n         0.63816396,   4.81081536,   1.05364252,   3.46261197,\n         2.31010725, -12.32262511, -10.73292155, -13.26698324,\n         2.49531211,   4.70584832,  -7.51221143,  -3.0978356 ,\n         9.71554734,   4.48750676, -15.73285737,  -9.39092841,\n         0.73886109,  -9.9318606 ,  -4.41148694,   4.34591557,\n        -2.92519444, -19.71130496,  11.65446825,   3.95011584,\n       -14.54659536,  -9.95882217,  -2.93425432,  -3.99529403,\n         2.55529109,   3.10617382,  -2.58299216,  11.87918724,\n        -3.95168885,   0.21578594,  -8.16663503,   4.72620168,\n        -4.98592348,   9.36787464,  -0.93742044,   2.04692885,\n         3.36970506,   4.78881376,   8.00894938, -13.91985192,\n        -7.21096699,  19.14289422, -14.0551952 ,  -5.96451228,\n        16.84505025,   3.34523549,   6.33592334,  -2.39611042,\n        13.67893666,   3.75232686,  -3.53562022,  -3.39724075,\n        -4.59075928,   8.32525269,  11.86970754,  -0.49732857,\n         4.10809164,  -1.10880267,  16.30847874,   6.12410087,\n        -6.617253  , -12.66429232,  -4.34299034,  -9.28649779,\n        -5.90514702,   4.31711495,  -4.47677216,  -3.39419675,\n       -16.37375395,  14.52759975,  13.2546492 , -12.90581921,\n         0.43355779,   7.82258423, -13.87702195,  -2.41231804,\n         1.94020323,  -2.70616212,   3.00428721,  -9.17838567,\n        -5.75490863,   6.18825267,   7.77710705,   7.17340146,\n        -3.41292612,   1.60306386,  -5.71843225,  -3.98879789])"
     },
     "execution_count": 10,
     "metadata": {},
     "output_type": "execute_result"
    }
   ],
   "source": [
    "# SI1.2 simple cate - linear (no confounding)\n",
    "betas_0 = random.uniform(low=-5, high=5, size=d)\n",
    "mu_0 = np.matmul(X,betas_0) + 5*X[:,0]\n",
    "mu_1 = mu_0 + 8*X[:,1] # linear\n",
    "tau = mu_1 - mu_0\n",
    "tau"
   ],
   "metadata": {
    "collapsed": false,
    "ExecuteTime": {
     "end_time": "2023-05-22T14:18:09.877209800Z",
     "start_time": "2023-05-22T14:18:09.771443700Z"
    }
   }
  },
  {
   "cell_type": "code",
   "execution_count": 11,
   "outputs": [
    {
     "data": {
      "text/plain": "array([1.19415379e+01, 2.98372941e+00, 1.61084870e+01, 2.57223684e-01,\n       7.66038349e-01, 1.24751419e-02, 3.13162752e+00, 3.10868696e-01,\n       5.09066551e-02, 2.89299305e+00, 1.38770319e-01, 1.49871021e+00,\n       6.67074438e-01, 1.89808862e+01, 1.43994506e+01, 2.20016055e+01,\n       7.78322813e-01, 2.76812605e+00, 7.05416507e+00, 1.19957317e+00,\n       1.17989825e+01, 2.51721461e+00, 3.09403501e+01, 1.10236921e+01,\n       6.82394636e-02, 1.23302319e+01, 2.43265212e+00, 2.36087277e+00,\n       1.06959532e+00, 4.85669429e+01, 1.69783288e+01, 1.95042690e+00,\n       2.64504296e+01, 1.23972674e+01, 1.07623105e+00, 1.99529680e+00,\n       8.16189070e-01, 1.20603948e+00, 8.33981060e-01, 1.76393862e+01,\n       1.95198060e+00, 5.82044668e-03, 8.33674097e+00, 2.79212279e+00,\n       3.10742912e+00, 1.09696344e+01, 1.09844634e-01, 5.23739715e-01,\n       1.41936402e+00, 2.86659215e+00, 8.01790878e+00, 2.42202847e+01,\n       6.49975561e+00, 4.58062999e+01, 2.46935640e+01, 4.44692584e+00,\n       3.54694647e+01, 1.39882506e+00, 5.01799057e+00, 7.17668143e-01,\n       2.33891635e+01, 1.75999461e+00, 1.56257630e+00, 1.44265559e+00,\n       2.63438385e+00, 8.66372903e+00, 1.76112446e+01, 3.09169628e-02,\n       2.10955211e+00, 1.53680420e-01, 3.32458098e+01, 4.68807643e+00,\n       5.47350466e+00, 2.00480375e+01, 2.35769563e+00, 1.07798802e+01,\n       4.35884517e+00, 2.32968518e+00, 2.50518612e+00, 1.44007144e+00,\n       3.35124773e+01, 2.63813943e+01, 2.19607157e+01, 2.08200212e+01,\n       2.34965446e-02, 7.64910301e+00, 2.40714673e+01, 7.27409788e-01,\n       4.70548570e-01, 9.15414177e-01, 1.12821771e+00, 1.05303454e+01,\n       4.13987167e+00, 4.78680890e+00, 7.56042425e+00, 6.43221107e+00,\n       1.45600809e+00, 3.21226717e-01, 4.08755842e+00, 1.98881358e+00])"
     },
     "execution_count": 11,
     "metadata": {},
     "output_type": "execute_result"
    }
   ],
   "source": [
    "# SI1.3 simple cate - quadratic (no confounding)\n",
    "betas_0 = random.uniform(low=-5, high=5, size=d)\n",
    "mu_0 = np.matmul(X,betas_0) + 5*(X[:,0]**2)\n",
    "mu_1 = mu_0 + 8*(X[:,1]**2) # quadratic\n",
    "tau = mu_1 - mu_0\n",
    "tau"
   ],
   "metadata": {
    "collapsed": false,
    "ExecuteTime": {
     "end_time": "2023-05-22T14:18:10.926448800Z",
     "start_time": "2023-05-22T14:18:10.863358Z"
    }
   }
  },
  {
   "cell_type": "code",
   "execution_count": 12,
   "outputs": [],
   "source": [
    "#############################################"
   ],
   "metadata": {
    "collapsed": false,
    "ExecuteTime": {
     "end_time": "2023-05-22T14:18:11.814449500Z",
     "start_time": "2023-05-22T14:18:11.736362300Z"
    }
   }
  },
  {
   "cell_type": "code",
   "execution_count": 13,
   "outputs": [],
   "source": [
    "# SI2 complex linear cate  (in Künzel it is low=1, high=30)\n",
    "betas_0 = random.uniform(low=-15, high=15, size=d)\n",
    "betas_1 = random.uniform(low=-15, high=15, size=d)\n",
    "mu_0 = np.matmul(X,betas_0)\n",
    "mu_1 = np.matmul(X,betas_1)\n",
    "tau = mu_1 - mu_0"
   ],
   "metadata": {
    "collapsed": false,
    "ExecuteTime": {
     "end_time": "2023-05-22T14:18:12.712122200Z",
     "start_time": "2023-05-22T14:18:12.649598800Z"
    }
   }
  },
  {
   "cell_type": "code",
   "execution_count": 14,
   "outputs": [],
   "source": [
    "###############################################"
   ],
   "metadata": {
    "collapsed": false,
    "ExecuteTime": {
     "end_time": "2023-05-22T14:18:13.741245500Z",
     "start_time": "2023-05-22T14:18:13.663127100Z"
    }
   }
  },
  {
   "cell_type": "code",
   "execution_count": 15,
   "outputs": [],
   "source": [
    "def varsigma_funct(x):\n",
    "    return 2/(1+np.exp(-12*(x-1/2)))"
   ],
   "metadata": {
    "collapsed": false,
    "ExecuteTime": {
     "end_time": "2023-05-22T14:18:14.242152100Z",
     "start_time": "2023-05-22T14:18:14.148405300Z"
    }
   }
  },
  {
   "cell_type": "code",
   "execution_count": 16,
   "outputs": [],
   "source": [
    "# SI3 complex non-linear\n",
    "mu_0 = -1/2*varsigma_funct(x=X[:,0])*varsigma_funct(x=X[:,1])\n",
    "mu_1 = 1/2*varsigma_funct(x=X[:,0])*varsigma_funct(x=X[:,1])\n",
    "tau = mu_1 - mu_0"
   ],
   "metadata": {
    "collapsed": false,
    "ExecuteTime": {
     "end_time": "2023-05-22T14:18:14.745299600Z",
     "start_time": "2023-05-22T14:18:14.667178700Z"
    }
   }
  },
  {
   "cell_type": "code",
   "execution_count": 17,
   "outputs": [],
   "source": [
    "#############################################"
   ],
   "metadata": {
    "collapsed": false,
    "ExecuteTime": {
     "end_time": "2023-05-22T14:18:15.440591800Z",
     "start_time": "2023-05-22T14:18:15.331218600Z"
    }
   }
  },
  {
   "cell_type": "code",
   "execution_count": 18,
   "outputs": [],
   "source": [
    "# SI4 no treatment effect (global linear response)\n",
    "betas_noT = random.uniform(low=-15, high=15, size=d)\n",
    "mu_0 = np.matmul(X,betas_noT)\n",
    "mu_1 = mu_0\n",
    "tau = np.zeros(N)"
   ],
   "metadata": {
    "collapsed": false,
    "ExecuteTime": {
     "end_time": "2023-05-22T14:18:15.969700600Z",
     "start_time": "2023-05-22T14:18:15.907193600Z"
    }
   }
  },
  {
   "cell_type": "code",
   "execution_count": 19,
   "outputs": [],
   "source": [
    "###########################################"
   ],
   "metadata": {
    "collapsed": false,
    "ExecuteTime": {
     "end_time": "2023-05-22T14:18:16.670271400Z",
     "start_time": "2023-05-22T14:18:16.607754300Z"
    }
   }
  },
  {
   "cell_type": "code",
   "execution_count": 20,
   "outputs": [],
   "source": [
    "# SI5 no treatment effect (piecewise linear response)\n",
    "betas = np.random.uniform(low=-15, high=15, size=d)\n",
    "\n",
    "betas_l = copy.copy(betas) # betas_lower\n",
    "betas_l[5:d] = 0\n",
    "\n",
    "betas_m = copy.copy(betas) #betas_middle\n",
    "betas_m[0:5] = 0\n",
    "betas_m[10:d] = 0\n",
    "\n",
    "betas_u = copy.copy(betas) #betas_upper\n",
    "betas_u[0:10] = 0\n",
    "betas_u[15:d] = 0\n",
    "\n",
    "def piecewise_linear_new(x):\n",
    "    condition_l = x[:, 19] < -0.4\n",
    "    condition_u = x[:, 19] > 0.4\n",
    "\n",
    "    array = np.zeros(N)\n",
    "    array[condition_l] = np.matmul(x[condition_l, :], betas_l)\n",
    "    array[~condition_l & ~condition_u] = np.matmul(x[~condition_l & ~condition_u, :], betas_m)\n",
    "    array[condition_u] = np.matmul(x[condition_u, :], betas_u)\n",
    "\n",
    "    return array\n",
    "\n",
    "mu_0 = piecewise_linear_new(X)\n",
    "\n",
    "mu_1 = mu_0\n",
    "\n",
    "tau = np.zeros(N)\n",
    "\n",
    "# TODO: CHECK IF RIGHT"
   ],
   "metadata": {
    "collapsed": false,
    "ExecuteTime": {
     "end_time": "2023-05-22T14:18:17.317708900Z",
     "start_time": "2023-05-22T14:18:17.239581200Z"
    }
   }
  },
  {
   "cell_type": "code",
   "execution_count": 21,
   "outputs": [],
   "source": [
    "##########################################"
   ],
   "metadata": {
    "collapsed": false,
    "ExecuteTime": {
     "end_time": "2023-05-22T14:18:17.966877500Z",
     "start_time": "2023-05-22T14:18:17.935631900Z"
    }
   }
  },
  {
   "cell_type": "code",
   "execution_count": 22,
   "outputs": [],
   "source": [
    "# SI6.1 beta confounded, no treatment effect\n",
    "X = random.uniform(low=0, high=1, size=(N,d)) # ACHTUNG: nöd wiederhole!\n",
    "mu_0 = 2*X[:,0] - 1\n",
    "mu_1 = mu_0\n",
    "tau = np.zeros(N)\n"
   ],
   "metadata": {
    "collapsed": false,
    "ExecuteTime": {
     "end_time": "2023-05-22T14:18:18.616678600Z",
     "start_time": "2023-05-22T14:18:18.538557100Z"
    }
   }
  },
  {
   "cell_type": "code",
   "execution_count": 23,
   "outputs": [
    {
     "data": {
      "text/plain": "array([2., 0., 2., 0., 2., 0., 0., 2., 0., 2., 2., 0., 2., 0., 2., 0., 2.,\n       2., 2., 2., 2., 0., 0., 0., 2., 2., 2., 0., 0., 2., 2., 2., 2., 2.,\n       0., 2., 2., 2., 2., 2., 0., 2., 0., 2., 0., 0., 2., 2., 2., 0., 2.,\n       0., 0., 0., 0., 2., 2., 2., 2., 2., 2., 2., 0., 0., 2., 2., 2., 2.,\n       2., 2., 2., 2., 2., 0., 2., 2., 2., 2., 0., 0., 0., 2., 0., 2., 0.,\n       2., 0., 0., 0., 2., 2., 2., 0., 0., 2., 0., 2., 0., 2., 0.])"
     },
     "execution_count": 23,
     "metadata": {},
     "output_type": "execute_result"
    }
   ],
   "source": [
    "# SI6.2 beta confounded, simple cate (indicator)\n",
    "X = random.uniform(low=0, high=1, size=(N,d))\n",
    "mu_0 = 2*X[:,0] - 1\n",
    "mu_1 = mu_0 + 2*np.int8(X[:,1]>0.4)\n",
    "tau = mu_1 - mu_0\n",
    "tau"
   ],
   "metadata": {
    "collapsed": false,
    "ExecuteTime": {
     "end_time": "2023-05-22T14:18:19.178349400Z",
     "start_time": "2023-05-22T14:18:19.090402500Z"
    }
   }
  },
  {
   "cell_type": "code",
   "execution_count": 24,
   "outputs": [],
   "source": [
    "# SI6.3 beta confounded, simple cate (linear)\n",
    "X = random.uniform(low=0, high=1, size=(N,d))\n",
    "mu_0 = 2*X[:,0] - 1\n",
    "mu_1 = mu_0 + 2*X[:,1]\n",
    "tau = mu_1 - mu_0\n"
   ],
   "metadata": {
    "collapsed": false,
    "ExecuteTime": {
     "end_time": "2023-05-22T14:18:20.110573600Z",
     "start_time": "2023-05-22T14:18:20.079320900Z"
    }
   }
  },
  {
   "cell_type": "code",
   "execution_count": 25,
   "outputs": [
    {
     "data": {
      "text/plain": "array([4.09973679e-02, 3.53090445e-01, 4.16683982e-01, 5.24826949e-02,\n       1.84664516e+00, 1.63266715e+00, 3.43916166e-01, 1.46779506e+00,\n       1.33990140e+00, 3.73282858e-01, 1.32710064e+00, 8.12842790e-01,\n       4.41742571e-01, 2.79418384e-01, 1.97021923e+00, 1.02698317e-02,\n       1.88257392e+00, 6.17586868e-01, 4.40760463e-02, 2.11538443e-02,\n       1.31403573e+00, 4.66949973e-02, 2.38965963e-04, 9.71044399e-01,\n       8.44512599e-01, 9.69100271e-01, 1.29447261e+00, 1.21475773e+00,\n       1.17736647e+00, 1.30474047e-01, 1.18655054e-01, 4.59300667e-01,\n       9.66593261e-02, 2.95402062e-01, 5.51977378e-03, 6.31811318e-02,\n       8.00910023e-01, 1.32024307e-01, 9.35892366e-01, 2.21613778e-03,\n       1.81048483e+00, 1.09658980e+00, 1.00133387e+00, 7.29894547e-01,\n       1.79072180e+00, 4.13883352e-01, 1.38264649e+00, 4.08498680e-01,\n       2.14162574e-01, 6.34189642e-02, 1.81950824e+00, 1.54850345e+00,\n       2.52260112e-03, 8.66131638e-01, 5.77169381e-01, 2.29696734e-01,\n       3.81011142e-02, 1.22954010e-01, 1.26184484e+00, 1.37577239e-02,\n       1.33022779e-02, 1.21610396e+00, 1.72095286e-01, 8.72853401e-02,\n       8.15156582e-01, 4.03021091e-01, 1.62609120e-02, 1.21618182e+00,\n       1.61463089e-02, 1.40619323e+00, 4.69454463e-02, 3.19509101e-01,\n       1.27963413e+00, 7.33869385e-01, 1.75719890e+00, 1.61265556e+00,\n       1.45947062e+00, 1.89846218e+00, 3.03997722e-02, 1.08468433e+00,\n       4.68457628e-01, 4.35214501e-01, 2.48774800e-03, 1.36040135e-01,\n       2.51905899e-01, 1.04773710e+00, 2.34533567e-01, 2.24622993e-01,\n       7.21924852e-03, 9.42718652e-01, 2.38572002e-01, 4.44437233e-01,\n       1.28126251e-01, 6.00861697e-01, 1.29318609e-02, 3.38524984e-01,\n       1.16042375e+00, 5.81178698e-01, 5.68060526e-01, 3.40246618e-01])"
     },
     "execution_count": 25,
     "metadata": {},
     "output_type": "execute_result"
    }
   ],
   "source": [
    "# SI6.4 beta confounded, simple cate (quadratic)\n",
    "X = random.uniform(low=0, high=1, size=(N,d))\n",
    "mu_0 = 2*X[:,0] - 1\n",
    "mu_1 = mu_0 + 2*(X[:,1]**2)\n",
    "tau = mu_1 - mu_0\n",
    "tau"
   ],
   "metadata": {
    "collapsed": false,
    "ExecuteTime": {
     "end_time": "2023-05-22T14:18:20.815415300Z",
     "start_time": "2023-05-22T14:18:20.763800400Z"
    }
   }
  },
  {
   "cell_type": "code",
   "execution_count": 26,
   "outputs": [],
   "source": [
    "##################################"
   ],
   "metadata": {
    "collapsed": false,
    "ExecuteTime": {
     "end_time": "2023-05-22T14:18:21.472049400Z",
     "start_time": "2023-05-22T14:18:21.378299300Z"
    }
   }
  },
  {
   "cell_type": "code",
   "execution_count": 27,
   "outputs": [],
   "source": [
    "# SI7.1 beta confounded, complex cate (linear)\n",
    "betas = random.uniform(low=-15, high=15, size=d)\n",
    "\n",
    "mu_0 = 2*X[:,0] - 1\n",
    "mu_1 = mu_0 + np.matmul(X,betas)\n",
    "tau = mu_1 - mu_0\n",
    "\n",
    "# TODO: CHECK WHETHER THIS SETUP MAKES SENSE"
   ],
   "metadata": {
    "collapsed": false,
    "ExecuteTime": {
     "end_time": "2023-05-22T14:18:22.045243900Z",
     "start_time": "2023-05-22T14:18:21.998370Z"
    }
   }
  },
  {
   "cell_type": "code",
   "execution_count": 28,
   "outputs": [],
   "source": [
    "# SI7.2 beta confounded, complex cate (non-linear)\n",
    "mu_0 = 2*X[:,0] - 1\n",
    "mu_1 = mu_0 + 1/2*varsigma_funct(x=X[:,0])*varsigma_funct(x=X[:,1])\n",
    "\n",
    "# TODO: CHECK WHETER THIS SETUP MAKES SENSE"
   ],
   "metadata": {
    "collapsed": false,
    "ExecuteTime": {
     "end_time": "2023-05-22T14:18:22.693112200Z",
     "start_time": "2023-05-22T14:18:22.614986300Z"
    }
   }
  },
  {
   "cell_type": "code",
   "execution_count": 29,
   "outputs": [
    {
     "data": {
      "text/plain": "<Figure size 432x288 with 1 Axes>",
      "image/png": "[encoded data removed]"
     },
     "metadata": {
      "needs_background": "light"
     },
     "output_type": "display_data"
    }
   ],
   "source": [
    "# TODO: check relationship between mu_0 & mu_1 and see whether this makes sense\n",
    "check_values_0 = 2*X[:,0] - 1\n",
    "check_values_1 = mu_0 + 1/2*varsigma_funct(x=X[:,0])*varsigma_funct(x=X[:,1])\n",
    "check_values_2 = mu_0 + np.matmul(X,betas)\n",
    "\n",
    "plt.plot(check_values_0, check_values_1, 'bo')\n",
    "plt.show()"
   ],
   "metadata": {
    "collapsed": false,
    "ExecuteTime": {
     "end_time": "2023-05-22T14:18:23.889854500Z",
     "start_time": "2023-05-22T14:18:23.172216Z"
    }
   }
  },
  {
   "cell_type": "code",
   "execution_count": 30,
   "outputs": [],
   "source": [
    "###################################\n",
    "# 2.3 Creat Potential Outcomes, FIX\n",
    "Y_0 = mu_0 + e_0\n",
    "Y_1 = mu_1 + e_1"
   ],
   "metadata": {
    "collapsed": false,
    "ExecuteTime": {
     "end_time": "2023-05-22T14:18:24.124229900Z",
     "start_time": "2023-05-22T14:18:23.874227500Z"
    }
   }
  },
  {
   "cell_type": "code",
   "execution_count": 31,
   "outputs": [
    {
     "data": {
      "text/plain": "array([-0.64255236,  0.49344831,  1.51594513, -2.49262456, -0.57006619,\n       -1.18474955,  0.78704005,  0.2399397 , -0.20207811, -1.247477  ,\n       -0.57019402, -0.50598152,  1.36109392, -0.52334538, -0.14136421,\n       -0.91194342,  0.12354454, -0.30966589,  2.04443655, -0.38527444,\n        2.62464122,  0.08319752, -0.10189279, -0.4830781 ,  0.09162702,\n        1.55536423,  0.51180559, -0.57829389, -0.20478022,  0.15600078,\n       -1.95139482, -1.73197585, -0.77838914, -1.83689964,  0.4488138 ,\n        0.22695333, -0.64308377, -0.95428453,  1.55821153,  2.1796228 ,\n        0.62881585, -0.31053621, -0.03251037, -0.71395207, -0.50801135,\n       -0.20255685, -0.25786546,  1.08164691,  0.46104455, -0.40394979,\n       -1.06321112, -1.45199947, -2.2761072 , -1.58972551, -0.60522413,\n       -1.28768122,  1.21767978, -0.58541458,  1.10109314, -0.73798476,\n       -1.07033373,  1.20262911,  0.64032646,  0.86587838,  0.55750317,\n       -0.63862764,  1.01481531, -0.48261051,  0.71838291,  1.6280729 ,\n        0.1655963 , -0.17939823,  0.89696809, -2.13437591,  0.68180771,\n       -1.02287838, -0.67715363,  1.98450216, -2.57324594, -0.33108406,\n        0.54402423,  0.60123678, -0.95475721,  0.12620721, -0.56357243,\n       -0.56293681,  0.84674746, -0.68510699, -0.58242839, -1.01474037,\n        0.90241827, -0.96270987,  0.2982977 , -1.51634582, -0.33486161,\n        0.89921455,  0.20543761, -0.20569115, -0.73579935, -0.20992547])"
     },
     "execution_count": 31,
     "metadata": {},
     "output_type": "execute_result"
    }
   ],
   "source": [
    "# quick check Y_0\n",
    "Y_0"
   ],
   "metadata": {
    "collapsed": false,
    "ExecuteTime": {
     "end_time": "2023-05-22T14:18:31.955853200Z",
     "start_time": "2023-05-22T14:18:31.857297500Z"
    }
   }
  },
  {
   "cell_type": "code",
   "execution_count": 32,
   "outputs": [
    {
     "data": {
      "text/plain": "array([-0.46834046,  3.55731467,  0.59277086, -2.19028343,  3.72710004,\n        1.36359235,  0.15769016,  0.73861465,  0.78561221, -2.54943622,\n        0.29411148, -1.06685898,  0.67078827, -0.54230235,  0.64040798,\n        0.02155924,  0.73538893,  1.64493959,  1.63320506,  0.76415955,\n        2.00908345, -2.41099976,  1.27209391, -2.11014801,  0.22924888,\n        2.26516693, -0.46965094,  0.13124552,  1.82917439,  1.32497533,\n        0.11483644, -1.02783189,  0.07125144, -0.76961546,  1.4021317 ,\n       -2.40499566, -2.04914564, -1.43823347,  3.15263161,  0.60441309,\n        1.97571102,  2.92799731,  0.05437008, -0.473967  ,  2.01598267,\n        1.8820431 , -0.44270888,  2.99582242,  0.54581499,  1.41517425,\n       -1.33340804, -0.70848335,  1.74916833, -0.47994196,  1.15667143,\n       -0.14253586,  0.09994067,  0.03134754,  3.1081801 , -1.5345154 ,\n       -2.83846155,  3.48423269, -1.36976186,  0.09739668,  1.62825821,\n        1.2335352 ,  0.430847  ,  2.58121319, -1.12156824,  2.57636804,\n        0.52822747,  1.30160341,  1.77023615, -2.45140984,  3.09112633,\n       -2.0636168 ,  1.21415281,  1.4494815 ,  0.88301903,  1.89745395,\n        1.1973323 ,  1.81884222, -0.54988284,  1.59741475, -1.14591094,\n       -1.45143469,  0.22892585,  1.13152317, -0.3907635 ,  0.66649923,\n       -0.78028798,  0.32088632,  0.62449707,  0.83390055, -1.05856876,\n        1.12044157,  1.34407726, -1.03272715,  1.27851205,  0.91366911])"
     },
     "execution_count": 32,
     "metadata": {},
     "output_type": "execute_result"
    }
   ],
   "source": [
    "# Quick Check Y_1\n",
    "Y_1"
   ],
   "metadata": {
    "collapsed": false,
    "ExecuteTime": {
     "end_time": "2023-05-22T14:18:32.896034100Z",
     "start_time": "2023-05-22T14:18:32.830843200Z"
    }
   }
  },
  {
   "cell_type": "code",
   "execution_count": 33,
   "outputs": [],
   "source": [
    "###################################\n",
    "# 3.1 Propensity score setups # TODO: change for setup\n",
    "\n",
    "# i) constant, balanced\n",
    "e_x = 0.5\n",
    "\n",
    "# ii) constant, unbalanced\n",
    "e_x = 0.01"
   ],
   "metadata": {
    "collapsed": false,
    "ExecuteTime": {
     "end_time": "2023-05-22T14:18:34.115322400Z",
     "start_time": "2023-05-22T14:18:34.084066100Z"
    }
   }
  },
  {
   "cell_type": "code",
   "execution_count": 34,
   "outputs": [],
   "source": [
    "#################################"
   ],
   "metadata": {
    "collapsed": false,
    "ExecuteTime": {
     "end_time": "2023-05-22T14:18:35.011302100Z",
     "start_time": "2023-05-22T14:18:34.964426100Z"
    }
   }
  },
  {
   "cell_type": "code",
   "execution_count": 35,
   "outputs": [
    {
     "data": {
      "text/plain": "                0\ncount  100.000000\nmean     0.504736\nstd      0.186446\nmin      0.250029\n25%      0.327038\n50%      0.499132\n75%      0.677690\nmax      0.777313",
      "text/html": "<div>\n<style scoped>\n    .dataframe tbody tr th:only-of-type {\n        vertical-align: middle;\n    }\n\n    .dataframe tbody tr th {\n        vertical-align: top;\n    }\n\n    .dataframe thead th {\n        text-align: right;\n    }\n</style>\n<table border=\"1\" class=\"dataframe\">\n  <thead>\n    <tr style=\"text-align: right;\">\n      <th></th>\n      <th>0</th>\n    </tr>\n  </thead>\n  <tbody>\n    <tr>\n      <th>count</th>\n      <td>100.000000</td>\n    </tr>\n    <tr>\n      <th>mean</th>\n      <td>0.504736</td>\n    </tr>\n    <tr>\n      <th>std</th>\n      <td>0.186446</td>\n    </tr>\n    <tr>\n      <th>min</th>\n      <td>0.250029</td>\n    </tr>\n    <tr>\n      <th>25%</th>\n      <td>0.327038</td>\n    </tr>\n    <tr>\n      <th>50%</th>\n      <td>0.499132</td>\n    </tr>\n    <tr>\n      <th>75%</th>\n      <td>0.677690</td>\n    </tr>\n    <tr>\n      <th>max</th>\n      <td>0.777313</td>\n    </tr>\n  </tbody>\n</table>\n</div>"
     },
     "execution_count": 35,
     "metadata": {},
     "output_type": "execute_result"
    }
   ],
   "source": [
    "# iii) beta confounded (balanced)\n",
    "X = random.uniform(low=0, high=1, size=(N,d))\n",
    "beta_dist = stats.beta(a=2, b=4) # set beta distribution\n",
    "beta_values = beta_dist.pdf(X[:,0]) # calculate pdf values for x1\n",
    "e_x = 1/4*(1+beta_values)\n",
    "\n",
    "pd.DataFrame(e_x).describe() # summary stats of e_x"
   ],
   "metadata": {
    "collapsed": false,
    "ExecuteTime": {
     "end_time": "2023-05-22T14:18:35.818175900Z",
     "start_time": "2023-05-22T14:18:35.724402200Z"
    }
   }
  },
  {
   "cell_type": "code",
   "execution_count": 36,
   "outputs": [
    {
     "data": {
      "text/plain": "                0\ncount  100.000000\nmean     0.500000\nstd      0.502519\nmin      0.000000\n25%      0.000000\n50%      0.500000\n75%      1.000000\nmax      1.000000",
      "text/html": "<div>\n<style scoped>\n    .dataframe tbody tr th:only-of-type {\n        vertical-align: middle;\n    }\n\n    .dataframe tbody tr th {\n        vertical-align: top;\n    }\n\n    .dataframe thead th {\n        text-align: right;\n    }\n</style>\n<table border=\"1\" class=\"dataframe\">\n  <thead>\n    <tr style=\"text-align: right;\">\n      <th></th>\n      <th>0</th>\n    </tr>\n  </thead>\n  <tbody>\n    <tr>\n      <th>count</th>\n      <td>100.000000</td>\n    </tr>\n    <tr>\n      <th>mean</th>\n      <td>0.500000</td>\n    </tr>\n    <tr>\n      <th>std</th>\n      <td>0.502519</td>\n    </tr>\n    <tr>\n      <th>min</th>\n      <td>0.000000</td>\n    </tr>\n    <tr>\n      <th>25%</th>\n      <td>0.000000</td>\n    </tr>\n    <tr>\n      <th>50%</th>\n      <td>0.500000</td>\n    </tr>\n    <tr>\n      <th>75%</th>\n      <td>1.000000</td>\n    </tr>\n    <tr>\n      <th>max</th>\n      <td>1.000000</td>\n    </tr>\n  </tbody>\n</table>\n</div>"
     },
     "execution_count": 36,
     "metadata": {},
     "output_type": "execute_result"
    }
   ],
   "source": [
    "# check if balanced\n",
    "W = random.binomial(size=N, n=1, p=e_x)\n",
    "pd.DataFrame(W).describe()"
   ],
   "metadata": {
    "collapsed": false,
    "ExecuteTime": {
     "end_time": "2023-05-22T14:18:37.351242Z",
     "start_time": "2023-05-22T14:18:37.304342400Z"
    }
   }
  },
  {
   "cell_type": "code",
   "execution_count": 37,
   "outputs": [],
   "source": [
    "#####################################"
   ],
   "metadata": {
    "collapsed": false,
    "ExecuteTime": {
     "end_time": "2023-05-22T14:18:38.308486700Z",
     "start_time": "2023-05-22T14:18:38.246077800Z"
    }
   }
  },
  {
   "cell_type": "code",
   "execution_count": 38,
   "outputs": [
    {
     "data": {
      "text/plain": "                0\ncount  100.000000\nmean     0.016810\nstd      0.014929\nmin      0.010000\n25%      0.010001\n50%      0.010106\n75%      0.015559\nmax      0.087379",
      "text/html": "<div>\n<style scoped>\n    .dataframe tbody tr th:only-of-type {\n        vertical-align: middle;\n    }\n\n    .dataframe tbody tr th {\n        vertical-align: top;\n    }\n\n    .dataframe thead th {\n        text-align: right;\n    }\n</style>\n<table border=\"1\" class=\"dataframe\">\n  <thead>\n    <tr style=\"text-align: right;\">\n      <th></th>\n      <th>0</th>\n    </tr>\n  </thead>\n  <tbody>\n    <tr>\n      <th>count</th>\n      <td>100.000000</td>\n    </tr>\n    <tr>\n      <th>mean</th>\n      <td>0.016810</td>\n    </tr>\n    <tr>\n      <th>std</th>\n      <td>0.014929</td>\n    </tr>\n    <tr>\n      <th>min</th>\n      <td>0.010000</td>\n    </tr>\n    <tr>\n      <th>25%</th>\n      <td>0.010001</td>\n    </tr>\n    <tr>\n      <th>50%</th>\n      <td>0.010106</td>\n    </tr>\n    <tr>\n      <th>75%</th>\n      <td>0.015559</td>\n    </tr>\n    <tr>\n      <th>max</th>\n      <td>0.087379</td>\n    </tr>\n  </tbody>\n</table>\n</div>"
     },
     "execution_count": 38,
     "metadata": {},
     "output_type": "execute_result"
    }
   ],
   "source": [
    "# iv) beta confounded (unbalanced)\n",
    "X = random.uniform(low=0, high=1, size=(N,d))\n",
    "beta_dist = stats.beta(a=1, b=10) # set beta distribution\n",
    "beta_values = beta_dist.pdf(X[:,0]) # calculate pdf values for x1\n",
    "e_x = 1/100*(1+beta_values)\n",
    "\n",
    "pd.DataFrame(e_x).describe() # summary stats of e_x"
   ],
   "metadata": {
    "collapsed": false,
    "ExecuteTime": {
     "end_time": "2023-05-22T14:18:38.921448300Z",
     "start_time": "2023-05-22T14:18:38.858948700Z"
    }
   }
  },
  {
   "cell_type": "code",
   "execution_count": 39,
   "outputs": [
    {
     "data": {
      "text/plain": "            0\ncount  100.00\nmean     0.01\nstd      0.10\nmin      0.00\n25%      0.00\n50%      0.00\n75%      0.00\nmax      1.00",
      "text/html": "<div>\n<style scoped>\n    .dataframe tbody tr th:only-of-type {\n        vertical-align: middle;\n    }\n\n    .dataframe tbody tr th {\n        vertical-align: top;\n    }\n\n    .dataframe thead th {\n        text-align: right;\n    }\n</style>\n<table border=\"1\" class=\"dataframe\">\n  <thead>\n    <tr style=\"text-align: right;\">\n      <th></th>\n      <th>0</th>\n    </tr>\n  </thead>\n  <tbody>\n    <tr>\n      <th>count</th>\n      <td>100.00</td>\n    </tr>\n    <tr>\n      <th>mean</th>\n      <td>0.01</td>\n    </tr>\n    <tr>\n      <th>std</th>\n      <td>0.10</td>\n    </tr>\n    <tr>\n      <th>min</th>\n      <td>0.00</td>\n    </tr>\n    <tr>\n      <th>25%</th>\n      <td>0.00</td>\n    </tr>\n    <tr>\n      <th>50%</th>\n      <td>0.00</td>\n    </tr>\n    <tr>\n      <th>75%</th>\n      <td>0.00</td>\n    </tr>\n    <tr>\n      <th>max</th>\n      <td>1.00</td>\n    </tr>\n  </tbody>\n</table>\n</div>"
     },
     "execution_count": 39,
     "metadata": {},
     "output_type": "execute_result"
    }
   ],
   "source": [
    "# check if unbalanced and how much\n",
    "W = random.binomial(size=N, n=1, p=e_x)\n",
    "pd.DataFrame(W).describe()"
   ],
   "metadata": {
    "collapsed": false,
    "ExecuteTime": {
     "end_time": "2023-05-22T14:18:39.781738600Z",
     "start_time": "2023-05-22T14:18:39.656732Z"
    }
   }
  },
  {
   "cell_type": "code",
   "execution_count": 40,
   "outputs": [],
   "source": [
    "##########################################"
   ],
   "metadata": {
    "collapsed": false,
    "ExecuteTime": {
     "end_time": "2023-05-22T14:18:40.951589600Z",
     "start_time": "2023-05-22T14:18:40.857842700Z"
    }
   }
  },
  {
   "cell_type": "code",
   "execution_count": 41,
   "outputs": [
    {
     "data": {
      "text/plain": "array([[0.22852979, 0.76456239, 0.79264084, ..., 0.99016491, 0.75101556,\n        0.88276558],\n       [0.1310484 , 0.02070483, 0.73569217, ..., 0.54200619, 0.02730717,\n        0.19505833],\n       [0.40425977, 0.82806082, 0.04877205, ..., 0.6397586 , 0.23446409,\n        0.87367905],\n       ...,\n       [0.33331228, 0.35481765, 0.37099436, ..., 0.99578922, 0.20914856,\n        0.9496869 ],\n       [0.11611723, 0.35706846, 0.85100794, ..., 0.77457048, 0.6685323 ,\n        0.99782481],\n       [0.72336763, 0.50789637, 0.48675383, ..., 0.3073113 , 0.27427361,\n        0.28646259]])"
     },
     "execution_count": 41,
     "metadata": {},
     "output_type": "execute_result"
    }
   ],
   "source": [
    "X"
   ],
   "metadata": {
    "collapsed": false,
    "ExecuteTime": {
     "end_time": "2023-05-22T14:18:41.726703800Z",
     "start_time": "2023-05-22T14:18:41.656890600Z"
    }
   }
  },
  {
   "cell_type": "code",
   "execution_count": 42,
   "outputs": [],
   "source": [
    "###################################"
   ],
   "metadata": {
    "collapsed": false,
    "ExecuteTime": {
     "end_time": "2023-05-22T14:18:42.303794200Z",
     "start_time": "2023-05-22T14:18:42.038173200Z"
    }
   }
  },
  {
   "cell_type": "code",
   "execution_count": 43,
   "outputs": [],
   "source": [
    "# 3.2 Simulate Treatment Assignments trough W\n",
    "\n",
    "# Simulate Treatment Assignment, FIX\n",
    "W = random.binomial(size=N, n=1, p=e_x)\n",
    "\n",
    "# Create Observed Outcome, FIX\n",
    "ones = np.ones(N)\n",
    "Y = np.multiply(W,Y_1) + np.multiply(ones-W,Y_0)"
   ],
   "metadata": {
    "collapsed": false,
    "ExecuteTime": {
     "end_time": "2023-05-22T14:18:43.375455900Z",
     "start_time": "2023-05-22T14:18:43.250468100Z"
    }
   }
  },
  {
   "cell_type": "code",
   "execution_count": 44,
   "outputs": [
    {
     "data": {
      "text/plain": "                0\ncount  100.000000\nmean     0.016810\nstd      0.014929\nmin      0.010000\n25%      0.010001\n50%      0.010106\n75%      0.015559\nmax      0.087379",
      "text/html": "<div>\n<style scoped>\n    .dataframe tbody tr th:only-of-type {\n        vertical-align: middle;\n    }\n\n    .dataframe tbody tr th {\n        vertical-align: top;\n    }\n\n    .dataframe thead th {\n        text-align: right;\n    }\n</style>\n<table border=\"1\" class=\"dataframe\">\n  <thead>\n    <tr style=\"text-align: right;\">\n      <th></th>\n      <th>0</th>\n    </tr>\n  </thead>\n  <tbody>\n    <tr>\n      <th>count</th>\n      <td>100.000000</td>\n    </tr>\n    <tr>\n      <th>mean</th>\n      <td>0.016810</td>\n    </tr>\n    <tr>\n      <th>std</th>\n      <td>0.014929</td>\n    </tr>\n    <tr>\n      <th>min</th>\n      <td>0.010000</td>\n    </tr>\n    <tr>\n      <th>25%</th>\n      <td>0.010001</td>\n    </tr>\n    <tr>\n      <th>50%</th>\n      <td>0.010106</td>\n    </tr>\n    <tr>\n      <th>75%</th>\n      <td>0.015559</td>\n    </tr>\n    <tr>\n      <th>max</th>\n      <td>0.087379</td>\n    </tr>\n  </tbody>\n</table>\n</div>"
     },
     "execution_count": 44,
     "metadata": {},
     "output_type": "execute_result"
    }
   ],
   "source": [
    "pd.DataFrame(e_x).describe() # summary stats of e_x"
   ],
   "metadata": {
    "collapsed": false,
    "ExecuteTime": {
     "end_time": "2023-05-22T14:18:44.428114600Z",
     "start_time": "2023-05-22T14:18:44.334364900Z"
    }
   }
  },
  {
   "cell_type": "code",
   "execution_count": 45,
   "outputs": [
    {
     "data": {
      "text/plain": "array([-0.64255236,  0.49344831,  1.51594513, -2.49262456, -0.57006619,\n       -1.18474955,  0.78704005,  0.2399397 , -0.20207811, -1.247477  ,\n       -0.57019402, -0.50598152,  1.36109392, -0.52334538, -0.14136421,\n       -0.91194342,  0.12354454, -0.30966589,  2.04443655, -0.38527444,\n        2.62464122,  0.08319752, -0.10189279, -0.4830781 ,  0.09162702,\n        1.55536423,  0.51180559, -0.57829389, -0.20478022,  0.15600078,\n       -1.95139482, -1.73197585, -0.77838914, -1.83689964,  0.4488138 ,\n        0.22695333, -0.64308377, -0.95428453,  1.55821153,  2.1796228 ,\n        0.62881585, -0.31053621, -0.03251037, -0.71395207, -0.50801135,\n       -0.20255685, -0.25786546,  1.08164691,  0.46104455, -0.40394979,\n       -1.06321112, -1.45199947, -2.2761072 , -1.58972551, -0.60522413,\n       -1.28768122,  1.21767978, -0.58541458,  1.10109314, -0.73798476,\n       -1.07033373,  3.48423269,  0.64032646,  0.86587838,  0.55750317,\n       -0.63862764,  1.01481531, -0.48261051,  0.71838291,  1.6280729 ,\n        0.1655963 , -0.17939823,  0.89696809, -2.13437591,  0.68180771,\n       -1.02287838, -0.67715363,  1.98450216, -2.57324594, -0.33108406,\n        0.54402423,  0.60123678, -0.95475721,  0.12620721, -0.56357243,\n       -0.56293681,  0.84674746, -0.68510699, -0.58242839, -1.01474037,\n        0.90241827, -0.96270987,  0.2982977 , -1.51634582, -0.33486161,\n        0.89921455,  0.20543761, -0.20569115, -0.73579935, -0.20992547])"
     },
     "execution_count": 45,
     "metadata": {},
     "output_type": "execute_result"
    }
   ],
   "source": [
    "# check out observed outcomes\n",
    "Y"
   ],
   "metadata": {
    "collapsed": false,
    "ExecuteTime": {
     "end_time": "2023-05-22T14:18:45.433907100Z",
     "start_time": "2023-05-22T14:18:45.231984400Z"
    }
   }
  },
  {
   "cell_type": "code",
   "execution_count": 46,
   "outputs": [
    {
     "data": {
      "text/plain": "                0\ncount  100.000000\nmean    -0.108631\nstd      1.088863\nmin     -2.573246\n25%     -0.692318\n50%     -0.233895\n75%      0.568437\nmax      3.484233",
      "text/html": "<div>\n<style scoped>\n    .dataframe tbody tr th:only-of-type {\n        vertical-align: middle;\n    }\n\n    .dataframe tbody tr th {\n        vertical-align: top;\n    }\n\n    .dataframe thead th {\n        text-align: right;\n    }\n</style>\n<table border=\"1\" class=\"dataframe\">\n  <thead>\n    <tr style=\"text-align: right;\">\n      <th></th>\n      <th>0</th>\n    </tr>\n  </thead>\n  <tbody>\n    <tr>\n      <th>count</th>\n      <td>100.000000</td>\n    </tr>\n    <tr>\n      <th>mean</th>\n      <td>-0.108631</td>\n    </tr>\n    <tr>\n      <th>std</th>\n      <td>1.088863</td>\n    </tr>\n    <tr>\n      <th>min</th>\n      <td>-2.573246</td>\n    </tr>\n    <tr>\n      <th>25%</th>\n      <td>-0.692318</td>\n    </tr>\n    <tr>\n      <th>50%</th>\n      <td>-0.233895</td>\n    </tr>\n    <tr>\n      <th>75%</th>\n      <td>0.568437</td>\n    </tr>\n    <tr>\n      <th>max</th>\n      <td>3.484233</td>\n    </tr>\n  </tbody>\n</table>\n</div>"
     },
     "execution_count": 46,
     "metadata": {},
     "output_type": "execute_result"
    }
   ],
   "source": [
    "pd.DataFrame(Y).describe() # summary stats of Y"
   ],
   "metadata": {
    "collapsed": false,
    "ExecuteTime": {
     "end_time": "2023-05-22T14:18:46.585069700Z",
     "start_time": "2023-05-22T14:18:46.428084700Z"
    }
   }
  },
  {
   "cell_type": "code",
   "execution_count": 47,
   "outputs": [
    {
     "data": {
      "text/plain": "array([[0.22852979, 0.76456239, 0.79264084, ..., 0.99016491, 0.75101556,\n        0.88276558],\n       [0.1310484 , 0.02070483, 0.73569217, ..., 0.54200619, 0.02730717,\n        0.19505833],\n       [0.40425977, 0.82806082, 0.04877205, ..., 0.6397586 , 0.23446409,\n        0.87367905],\n       ...,\n       [0.33331228, 0.35481765, 0.37099436, ..., 0.99578922, 0.20914856,\n        0.9496869 ],\n       [0.11611723, 0.35706846, 0.85100794, ..., 0.77457048, 0.6685323 ,\n        0.99782481],\n       [0.72336763, 0.50789637, 0.48675383, ..., 0.3073113 , 0.27427361,\n        0.28646259]])"
     },
     "execution_count": 47,
     "metadata": {},
     "output_type": "execute_result"
    }
   ],
   "source": [
    "X"
   ],
   "metadata": {
    "collapsed": false,
    "ExecuteTime": {
     "end_time": "2023-05-22T14:19:25.615437400Z",
     "start_time": "2023-05-22T14:19:25.430438600Z"
    }
   }
  },
  {
   "cell_type": "code",
   "execution_count": 48,
   "outputs": [
    {
     "data": {
      "text/plain": "array([-0.64255236,  0.49344831,  1.51594513, -2.49262456, -0.57006619,\n       -1.18474955,  0.78704005,  0.2399397 , -0.20207811, -1.247477  ,\n       -0.57019402, -0.50598152,  1.36109392, -0.52334538, -0.14136421,\n       -0.91194342,  0.12354454, -0.30966589,  2.04443655, -0.38527444,\n        2.62464122,  0.08319752, -0.10189279, -0.4830781 ,  0.09162702,\n        1.55536423,  0.51180559, -0.57829389, -0.20478022,  0.15600078,\n       -1.95139482, -1.73197585, -0.77838914, -1.83689964,  0.4488138 ,\n        0.22695333, -0.64308377, -0.95428453,  1.55821153,  2.1796228 ,\n        0.62881585, -0.31053621, -0.03251037, -0.71395207, -0.50801135,\n       -0.20255685, -0.25786546,  1.08164691,  0.46104455, -0.40394979,\n       -1.06321112, -1.45199947, -2.2761072 , -1.58972551, -0.60522413,\n       -1.28768122,  1.21767978, -0.58541458,  1.10109314, -0.73798476,\n       -1.07033373,  3.48423269,  0.64032646,  0.86587838,  0.55750317,\n       -0.63862764,  1.01481531, -0.48261051,  0.71838291,  1.6280729 ,\n        0.1655963 , -0.17939823,  0.89696809, -2.13437591,  0.68180771,\n       -1.02287838, -0.67715363,  1.98450216, -2.57324594, -0.33108406,\n        0.54402423,  0.60123678, -0.95475721,  0.12620721, -0.56357243,\n       -0.56293681,  0.84674746, -0.68510699, -0.58242839, -1.01474037,\n        0.90241827, -0.96270987,  0.2982977 , -1.51634582, -0.33486161,\n        0.89921455,  0.20543761, -0.20569115, -0.73579935, -0.20992547])"
     },
     "execution_count": 48,
     "metadata": {},
     "output_type": "execute_result"
    }
   ],
   "source": [
    "Y"
   ],
   "metadata": {
    "collapsed": false,
    "ExecuteTime": {
     "end_time": "2023-05-22T14:19:29.952641500Z",
     "start_time": "2023-05-22T14:19:29.827641900Z"
    }
   }
  },
  {
   "cell_type": "code",
   "execution_count": null,
   "outputs": [],
   "source": [],
   "metadata": {
    "collapsed": false
   }
  }
 ],
 "metadata": {
  "kernelspec": {
   "display_name": "Python 3",
   "language": "python",
   "name": "python3"
  },
  "language_info": {
   "codemirror_mode": {
    "name": "ipython",
    "version": 2
   },
   "file_extension": ".py",
   "mimetype": "text/x-python",
   "name": "python",
   "nbconvert_exporter": "python",
   "pygments_lexer": "ipython2",
   "version": "2.7.6"
  }
 },
 "nbformat": 4,
 "nbformat_minor": 0
}
