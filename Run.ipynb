{
 "cells": [
  {
   "cell_type": "code",
   "execution_count": 1,
   "metadata": {
    "collapsed": true,
    "ExecuteTime": {
     "end_time": "2023-06-30T03:32:14.775896Z",
     "start_time": "2023-06-30T03:32:12.234711Z"
    }
   },
   "outputs": [],
   "source": [
    "import numpy as np\n",
    "from MetaLearner import *"
   ]
  },
  {
   "cell_type": "code",
   "execution_count": 2,
   "outputs": [],
   "source": [
    "import pickle\n"
   ],
   "metadata": {
    "collapsed": false,
    "ExecuteTime": {
     "end_time": "2023-06-30T03:32:16.321753Z",
     "start_time": "2023-06-30T03:32:16.306270Z"
    }
   }
  },
  {
   "cell_type": "code",
   "execution_count": null,
   "outputs": [],
   "source": [
    "# todo: https://stackoverflow.com/questions/24168569/how-to-add-names-to-a-numpy-array-without-changing-its-dimension"
   ],
   "metadata": {
    "collapsed": false
   }
  },
  {
   "cell_type": "code",
   "execution_count": null,
   "outputs": [],
   "source": [
    "# This file runs the experiment"
   ],
   "metadata": {
    "collapsed": false
   }
  },
  {
   "cell_type": "code",
   "execution_count": 3,
   "outputs": [],
   "source": [
    "tf.keras.backend.set_floatx('float64')"
   ],
   "metadata": {
    "collapsed": false,
    "ExecuteTime": {
     "end_time": "2023-06-30T03:32:18.900482Z",
     "start_time": "2023-06-30T03:32:18.887453Z"
    }
   }
  },
  {
   "cell_type": "code",
   "execution_count": 4,
   "outputs": [],
   "source": [
    "file_name = \"/Users/arberimbibaj/Documents/Master Thesis ETH/DataSets /Generated/data_synthetic_500_1000.pkl\"\n",
    "open_file = open(file_name, \"rb\")\n",
    "data = pickle.load(open_file)\n",
    "open_file.close()"
   ],
   "metadata": {
    "collapsed": false,
    "ExecuteTime": {
     "end_time": "2023-06-30T03:32:20.154274Z",
     "start_time": "2023-06-30T03:32:20.140356Z"
    }
   }
  },
  {
   "cell_type": "code",
   "execution_count": 5,
   "outputs": [],
   "source": [
    "n_setups = 2\n",
    "sample_sizes = [500, 1000]\n",
    "n_runs = 2"
   ],
   "metadata": {
    "collapsed": false,
    "ExecuteTime": {
     "end_time": "2023-06-30T03:32:21.550777Z",
     "start_time": "2023-06-30T03:32:21.547450Z"
    }
   }
  },
  {
   "cell_type": "code",
   "execution_count": null,
   "outputs": [],
   "source": [
    "learners = [TLearner('rf'), SLearner('rf'), XLearner('rf'), RLearner('rf'), DRLearner('rf'), RALearner('rf'),\n",
    "            PWLearner('rf'), ULearner('rf'),\n",
    "            TLearner('lasso'), SLearner('lasso'), XLearner('lasso'), RLearner('lasso'), DRLearner('lasso'),\n",
    "            RALearner('lasso'), PWLearner('lasso'), ULearner('lasso'),\n",
    "            TLearner('nn'), SLearner('nn'), XLearner('nn'), RLearner('nn'), DRLearner('nn'), RALearner('nn'),\n",
    "            PWLearner('nn'), ULearner('nn')]"
   ],
   "metadata": {
    "collapsed": false
   }
  },
  {
   "cell_type": "code",
   "execution_count": 6,
   "outputs": [],
   "source": [
    "learners = [TLearner('nn'), SLearner('nn'), XLearner('nn'), RLearner('nn'), DRLearner('nn'), RALearner('nn'),\n",
    "            PWLearner('nn'), ULearner('nn')]"
   ],
   "metadata": {
    "collapsed": false,
    "ExecuteTime": {
     "end_time": "2023-06-30T03:32:25.719451Z",
     "start_time": "2023-06-30T03:32:23.400423Z"
    }
   }
  },
  {
   "cell_type": "code",
   "execution_count": null,
   "outputs": [],
   "source": [
    "# What we want: For each setting and base learner --> matrix which includes the MSE, columns: Metalearners + SampleSize, rows: Run(1-10)\n",
    "# --> So we can plot the mean and 1se of the MSE for each Metalearner, each samplesize; giving the setting and baselearner\n",
    "# --> number of plots: settings*baselearner."
   ],
   "metadata": {
    "collapsed": false
   }
  },
  {
   "cell_type": "code",
   "execution_count": 7,
   "outputs": [
    {
     "data": {
      "text/plain": "[[[]], [[]]]"
     },
     "execution_count": 7,
     "metadata": {},
     "output_type": "execute_result"
    }
   ],
   "source": [
    "results = []\n",
    "\n",
    "for i in range(n_setups):\n",
    "    results.append([])\n",
    "\n",
    "for i in range(n_setups):\n",
    "    for baselearner in range(1):\n",
    "        results[i].append([])\n",
    "\n",
    "results"
   ],
   "metadata": {
    "collapsed": false,
    "ExecuteTime": {
     "end_time": "2023-06-30T03:32:27.462512Z",
     "start_time": "2023-06-30T03:32:27.453493Z"
    }
   }
  },
  {
   "cell_type": "code",
   "execution_count": 8,
   "outputs": [],
   "source": [
    "dim = data[0][0][0][0].shape[1]  # dimension of x\n",
    "\n",
    "\n",
    "# helper function to get y, x, w, tau, out of data[][][][]\n",
    "def get_variables(dataset, setup, samplesize, run, train_test):\n",
    "    y = dataset[setup][samplesize][run][train_test][:, 0]\n",
    "    x = dataset[setup][samplesize][run][train_test][:, 1:(dim - 2)]\n",
    "    w = dataset[setup][samplesize][run][train_test][:, (dim - 2)]\n",
    "    tau = dataset[setup][samplesize][run][train_test][:, (dim - 1)]\n",
    "    return y, x, w, tau"
   ],
   "metadata": {
    "collapsed": false,
    "ExecuteTime": {
     "end_time": "2023-06-30T03:32:28.080778Z",
     "start_time": "2023-06-30T03:32:28.072718Z"
    }
   }
  },
  {
   "cell_type": "code",
   "execution_count": 9,
   "outputs": [
    {
     "name": "stdout",
     "output_type": "stream",
     "text": [
      "Setup: 1\n",
      "Sample Size: 1\n",
      "Run: 1\n",
      "BaseLearner 1.0\n",
      "Run: 2\n",
      "BaseLearner 1.0\n",
      "Sample Size: 2\n",
      "Run: 1\n",
      "BaseLearner 1.0\n",
      "Run: 2\n",
      "BaseLearner 1.0\n",
      "Setup: 2\n",
      "Sample Size: 1\n",
      "Run: 1\n",
      "BaseLearner 1.0\n",
      "Run: 2\n",
      "BaseLearner 1.0\n",
      "Sample Size: 2\n",
      "Run: 1\n",
      "BaseLearner 1.0\n",
      "Run: 2\n",
      "BaseLearner 1.0\n"
     ]
    }
   ],
   "source": [
    "b = 0\n",
    "m = 0\n",
    "s = 0\n",
    "\n",
    "for i in range(n_setups):\n",
    "    print(f'Setup: {i + 1}')\n",
    "    # array for all mses for one setup\n",
    "    setup_mse = np.empty(shape=(0, 24))\n",
    "    s = 0  # restart index for samplesize\n",
    "    for size in sample_sizes:\n",
    "        print(f'Sample Size: {s + 1}')\n",
    "        # array for all mses for one setup and samplesize.\n",
    "        size_mse = np.empty(shape=(0, 24))\n",
    "        for r in range(n_runs):\n",
    "            print(f'Run: {r + 1}')\n",
    "            # array for all mses in one setup, samplesize and run.\n",
    "            mses = np.empty(shape=(1, 24))\n",
    "            # get data for specific setup, samplesize and run.\n",
    "            temp_y_train, temp_x_train, temp_w_train, temp_tau_train = get_variables(dataset=data, setup=i,\n",
    "                                                                                     samplesize=s, run=r,\n",
    "                                                                                     train_test=0)\n",
    "            temp_y_test, temp_x_test, temp_w_test, temp_tau_test = get_variables(dataset=data, setup=i,\n",
    "                                                                                 samplesize=s, run=r,\n",
    "                                                                                 train_test=1)\n",
    "            # restart index for metalearner\n",
    "            m = 0\n",
    "            for l in learners:\n",
    "                if m % 8 == 0: print(f'BaseLearner {m / 8 + 1}')\n",
    "                # training and testing MetaLearner.\n",
    "                learner = l\n",
    "                learner.fit(temp_x_train, temp_y_train, temp_w_train)\n",
    "                predictions = learner.predict(temp_x_test)\n",
    "                temp_mse = ((predictions - temp_tau_test) ** 2).mean()\n",
    "                # append mse of specific metalearner to 'mses'.\n",
    "                mses[0, m] = temp_mse\n",
    "                # update index\n",
    "                m += 1\n",
    "            # append 'mses' to 'size_mse'.\n",
    "            size_mse = np.append(size_mse, mses, axis=0)\n",
    "        # append 'size_mse' to 'setup_mse'.\n",
    "        setup_mse = np.append(setup_mse, size_mse, axis=0)\n",
    "        # update index\n",
    "        s += 1\n",
    "    # append to results\n",
    "    results[i][0] = setup_mse[:, 0:8]  # random forest\n",
    "    # results[i][1] = setup_mse[:, 8:16]  # lasso\n",
    "    # results[i][2] = setup_mse[:, 16:24]  # neural network\n",
    "\n",
    "\n",
    "\n",
    "\n",
    "\n",
    "# this should make sense i guess! :)\n",
    "# TODO: CHECK IF IT MAKES IT FASTER IF EVERYTHING IS EITHER IN NP OR IN LIST/ARRAY BASE PYTHON.\n",
    "# TODO: DONE :)\n",
    "# TODO: DONE :)\n",
    "# TODO: DONE :)\n",
    "\n",
    "### IT TOOK 6M 40S FOR --> SAMPLE SIZES [200, 200], TEST SIZE = 50, 2 SETUPS, 2 RUNS LOL"
   ],
   "metadata": {
    "collapsed": false,
    "ExecuteTime": {
     "end_time": "2023-06-30T03:44:09.309098Z",
     "start_time": "2023-06-30T03:32:28.603979Z"
    }
   }
  },
  {
   "cell_type": "code",
   "execution_count": 11,
   "outputs": [
    {
     "data": {
      "text/plain": "array([[2.67277687e+00, 3.63475247e-01, 3.12427475e+00, 8.29522407e+00,\n        8.57561947e-02, 5.02381985e+00, 1.26330436e+02, 7.90024431e+00],\n       [1.99923669e+00, 1.23189997e-01, 2.45957163e+00, 4.81537927e+00,\n        1.01692183e+00, 3.97591133e+00, 8.36225756e+01, 6.47896906e+00],\n       [2.51116505e+00, 5.96882607e-01, 2.60489759e+00, 3.87527046e+00,\n        1.45011204e-01, 4.21620580e+00, 3.31473264e+01, 3.90470637e+00],\n       [3.47755183e+00, 7.83106275e-01, 3.23748028e+00, 4.98936583e+00,\n        1.18501765e-01, 6.21236167e+00, 2.06801548e+01, 4.33690620e+00]])"
     },
     "execution_count": 11,
     "metadata": {},
     "output_type": "execute_result"
    }
   ],
   "source": [
    "results[1][0]"
   ],
   "metadata": {
    "collapsed": false,
    "ExecuteTime": {
     "end_time": "2023-06-30T03:44:49.438088Z",
     "start_time": "2023-06-30T03:44:49.429591Z"
    }
   }
  },
  {
   "cell_type": "code",
   "execution_count": null,
   "outputs": [],
   "source": [
    "data[0][0][0][0]"
   ],
   "metadata": {
    "collapsed": false
   }
  },
  {
   "cell_type": "code",
   "execution_count": null,
   "outputs": [],
   "source": [
    "# 0.928021\n",
    "#\n",
    "#\n",
    "#\n"
   ],
   "metadata": {
    "collapsed": false
   }
  }
 ],
 "metadata": {
  "kernelspec": {
   "display_name": "Python 3",
   "language": "python",
   "name": "python3"
  },
  "language_info": {
   "codemirror_mode": {
    "name": "ipython",
    "version": 2
   },
   "file_extension": ".py",
   "mimetype": "text/x-python",
   "name": "python",
   "nbconvert_exporter": "python",
   "pygments_lexer": "ipython2",
   "version": "2.7.6"
  }
 },
 "nbformat": 4,
 "nbformat_minor": 0
}
