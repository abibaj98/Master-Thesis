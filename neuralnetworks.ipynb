{
 "cells": [
  {
   "cell_type": "code",
   "execution_count": 1,
   "outputs": [],
   "source": [
    "import tensorflow as tf\n",
    "from tensorflow import keras\n",
    "from tensorflow.keras import layers\n",
    "from tensorflow.keras import regularizers\n",
    "from DefaultParameters import *"
   ],
   "metadata": {
    "collapsed": false,
    "ExecuteTime": {
     "end_time": "2023-07-04T02:05:59.055255Z",
     "start_time": "2023-07-04T02:05:57.405613Z"
    }
   }
  },
  {
   "cell_type": "code",
   "execution_count": 2,
   "outputs": [],
   "source": [
    "tf.keras.backend.set_floatx('float64')"
   ],
   "metadata": {
    "collapsed": false,
    "ExecuteTime": {
     "end_time": "2023-07-04T02:05:59.710691Z",
     "start_time": "2023-07-04T02:05:59.698386Z"
    }
   }
  },
  {
   "cell_type": "code",
   "execution_count": 3,
   "outputs": [],
   "source": [
    "# seed\n",
    "tf.keras.utils.set_random_seed(8953)"
   ],
   "metadata": {
    "collapsed": false,
    "ExecuteTime": {
     "end_time": "2023-07-04T02:05:59.986125Z",
     "start_time": "2023-07-04T02:05:59.974641Z"
    }
   }
  },
  {
   "cell_type": "code",
   "execution_count": 4,
   "outputs": [],
   "source": [
    "# 3 layers with 200 units (elu activation), 2 layers with 100 units (elu activations), 1 output layer (linear\n",
    "# activation)\n",
    "model_25 = keras.Sequential([\n",
    "    keras.Input(shape=(20,)),\n",
    "    layers.Dense(units=200, activation=\"relu\", name=\"layer1\", kernel_regularizer=regularizers.L2(1e-4)),\n",
    "    layers.Dense(units=200, activation=\"relu\", name=\"layer2\", kernel_regularizer=regularizers.L2(1e-4)),\n",
    "    layers.Dense(units=200, activation=\"relu\", name=\"layer3\", kernel_regularizer=regularizers.L2(1e-4)),\n",
    "    layers.Dense(units=100, activation=\"relu\", name=\"layer4\", kernel_regularizer=regularizers.L2(1e-4)),\n",
    "    layers.Dense(units=100, activation=\"relu\", name=\"layer5\", kernel_regularizer=regularizers.L2(1e-4)),\n",
    "    layers.Dense(units=1, activation=\"linear\", name=\"layer6\", kernel_regularizer=regularizers.L2(1e-4)),\n",
    "\n",
    "], name=\"model_25\")"
   ],
   "metadata": {
    "collapsed": false,
    "ExecuteTime": {
     "end_time": "2023-07-04T02:06:00.216015Z",
     "start_time": "2023-07-04T02:06:00.180892Z"
    }
   }
  },
  {
   "cell_type": "code",
   "execution_count": 5,
   "outputs": [],
   "source": [
    "# compile the model\n",
    "model_25.compile(\n",
    "    optimizer=keras.optimizers.legacy.Adam(learning_rate=LEARNING_RATE),  # Optimizer\n",
    "    # Loss function to minimize\n",
    "    loss=keras.losses.MeanSquaredError(),\n",
    "    # List of metrics to monitor\n",
    "    metrics=[keras.metrics.MeanSquaredError()],\n",
    "    # weighted metrics\n",
    "    weighted_metrics=[]\n",
    ")"
   ],
   "metadata": {
    "collapsed": false,
    "ExecuteTime": {
     "end_time": "2023-07-04T02:06:00.453592Z",
     "start_time": "2023-07-04T02:06:00.446399Z"
    }
   }
  },
  {
   "cell_type": "code",
   "execution_count": 6,
   "outputs": [
    {
     "name": "stdout",
     "output_type": "stream",
     "text": [
      "INFO:tensorflow:Assets written to: model_25/assets\n"
     ]
    },
    {
     "name": "stderr",
     "output_type": "stream",
     "text": [
      "INFO:tensorflow:Assets written to: model_25/assets\n"
     ]
    }
   ],
   "source": [
    "# save the model\n",
    "model_25.save('model_25')"
   ],
   "metadata": {
    "collapsed": false,
    "ExecuteTime": {
     "end_time": "2023-07-04T02:06:00.974246Z",
     "start_time": "2023-07-04T02:06:00.706309Z"
    }
   }
  },
  {
   "cell_type": "code",
   "execution_count": 7,
   "outputs": [],
   "source": [
    "tf.keras.utils.set_random_seed(8953)"
   ],
   "metadata": {
    "collapsed": false,
    "ExecuteTime": {
     "end_time": "2023-07-04T02:06:00.976966Z",
     "start_time": "2023-07-04T02:06:00.975728Z"
    }
   }
  },
  {
   "cell_type": "code",
   "execution_count": 8,
   "outputs": [],
   "source": [
    "''''''' For T Learner Only '''''''\n",
    "\n",
    "# 3 layers with 200 units (elu activation), 2 layers with 100 units (elu activations), 1 output layer (linear activation)\n",
    "model_26 = keras.Sequential([\n",
    "    keras.Input(shape=(21,)),\n",
    "    layers.Dense(units=200, activation=\"relu\", name=\"layer1\", kernel_regularizer=regularizers.L2(1e-4)),\n",
    "    layers.Dense(units=200, activation=\"relu\", name=\"layer2\", kernel_regularizer=regularizers.L2(1e-4)),\n",
    "    layers.Dense(units=200, activation=\"relu\", name=\"layer3\", kernel_regularizer=regularizers.L2(1e-4)),\n",
    "    layers.Dense(units=100, activation=\"relu\", name=\"layer4\", kernel_regularizer=regularizers.L2(1e-4)),\n",
    "    layers.Dense(units=100, activation=\"relu\", name=\"layer5\", kernel_regularizer=regularizers.L2(1e-4)),\n",
    "    layers.Dense(units=1, activation=\"linear\", name=\"layer6\", kernel_regularizer=regularizers.L2(1e-4)),\n",
    "\n",
    "], name=\"model_26\")"
   ],
   "metadata": {
    "collapsed": false,
    "ExecuteTime": {
     "end_time": "2023-07-04T02:06:01.217639Z",
     "start_time": "2023-07-04T02:06:01.187847Z"
    }
   }
  },
  {
   "cell_type": "code",
   "execution_count": 9,
   "outputs": [],
   "source": [
    "# compile the model\n",
    "model_26.compile(\n",
    "    optimizer=keras.optimizers.legacy.Adam(learning_rate=LEARNING_RATE),  # Optimizer\n",
    "    # Loss function to minimize\n",
    "    loss=keras.losses.MeanSquaredError(),\n",
    "    # List of metrics to monitor\n",
    "    metrics=[keras.metrics.MeanSquaredError()],\n",
    "    # weighted metrics\n",
    "    weighted_metrics=[]\n",
    ")"
   ],
   "metadata": {
    "collapsed": false,
    "ExecuteTime": {
     "end_time": "2023-07-04T02:06:01.545761Z",
     "start_time": "2023-07-04T02:06:01.538201Z"
    }
   }
  },
  {
   "cell_type": "code",
   "execution_count": 10,
   "outputs": [
    {
     "name": "stdout",
     "output_type": "stream",
     "text": [
      "INFO:tensorflow:Assets written to: model_26/assets\n"
     ]
    },
    {
     "name": "stderr",
     "output_type": "stream",
     "text": [
      "INFO:tensorflow:Assets written to: model_26/assets\n"
     ]
    }
   ],
   "source": [
    "# save the model\n",
    "model_26.save('model_26')"
   ],
   "metadata": {
    "collapsed": false,
    "ExecuteTime": {
     "end_time": "2023-07-04T02:06:02.005632Z",
     "start_time": "2023-07-04T02:06:01.792089Z"
    }
   }
  },
  {
   "cell_type": "code",
   "execution_count": 16,
   "outputs": [],
   "source": [
    "tf.keras.utils.set_random_seed(8953)"
   ],
   "metadata": {
    "collapsed": false,
    "ExecuteTime": {
     "end_time": "2023-07-04T02:06:12.977382Z",
     "start_time": "2023-07-04T02:06:12.970010Z"
    }
   }
  },
  {
   "cell_type": "code",
   "execution_count": 17,
   "outputs": [],
   "source": [
    "''''''' For propensity score '''''''\n",
    "\n",
    "model_ex = keras.Sequential([\n",
    "    keras.Input(shape=(20,)),\n",
    "    layers.Dense(units=200, activation=\"relu\", name=\"layer1\", kernel_regularizer=regularizers.L2(1e-2)),\n",
    "    layers.Dense(units=200, activation=\"relu\", name=\"layer2\", kernel_regularizer=regularizers.L2(1e-2)),\n",
    "    layers.Dense(units=200, activation=\"relu\", name=\"layer3\", kernel_regularizer=regularizers.L2(1e-2)),\n",
    "    layers.Dense(units=100, activation=\"relu\", name=\"layer4\", kernel_regularizer=regularizers.L2(1e-2)),\n",
    "    layers.Dense(units=100, activation=\"relu\", name=\"layer5\", kernel_regularizer=regularizers.L2(1e-2)),\n",
    "    layers.Dense(units=1, activation=\"linear\", name=\"layer6\", kernel_regularizer=regularizers.L2(1e-2)),\n",
    "\n",
    "], name=\"model_ex\")"
   ],
   "metadata": {
    "collapsed": false,
    "ExecuteTime": {
     "end_time": "2023-07-04T02:06:13.228875Z",
     "start_time": "2023-07-04T02:06:13.191291Z"
    }
   }
  },
  {
   "cell_type": "code",
   "execution_count": 18,
   "outputs": [],
   "source": [
    "# compile the model\n",
    "model_ex.compile(\n",
    "    optimizer=keras.optimizers.legacy.Adam(learning_rate=LEARNING_RATE),  # Optimizer\n",
    "    # Loss function to minimize\n",
    "    loss=keras.losses.BinaryCrossentropy(from_logits=True, label_smoothing=0.1),\n",
    "    # List of metrics to monitor\n",
    "    metrics=keras.metrics.BinaryAccuracy(),\n",
    "    # weighted metrics\n",
    "    weighted_metrics=[]\n",
    ")"
   ],
   "metadata": {
    "collapsed": false,
    "ExecuteTime": {
     "end_time": "2023-07-04T02:06:13.400249Z",
     "start_time": "2023-07-04T02:06:13.393794Z"
    }
   }
  },
  {
   "cell_type": "code",
   "execution_count": 19,
   "outputs": [
    {
     "name": "stdout",
     "output_type": "stream",
     "text": [
      "INFO:tensorflow:Assets written to: model_ex/assets\n"
     ]
    },
    {
     "name": "stderr",
     "output_type": "stream",
     "text": [
      "INFO:tensorflow:Assets written to: model_ex/assets\n"
     ]
    }
   ],
   "source": [
    "# save the model\n",
    "model_ex.save('model_ex')"
   ],
   "metadata": {
    "collapsed": false,
    "ExecuteTime": {
     "end_time": "2023-07-04T02:06:13.859501Z",
     "start_time": "2023-07-04T02:06:13.653088Z"
    }
   }
  },
  {
   "cell_type": "code",
   "execution_count": 20,
   "outputs": [],
   "source": [
    "''''''' Callbacks '''''''\n",
    "callback = tf.keras.callbacks.EarlyStopping(monitor='val_loss', patience=10, start_from_epoch=100)"
   ],
   "metadata": {
    "collapsed": false,
    "ExecuteTime": {
     "end_time": "2023-07-04T02:06:13.967245Z",
     "start_time": "2023-07-04T02:06:13.965286Z"
    }
   }
  },
  {
   "cell_type": "code",
   "execution_count": null,
   "outputs": [],
   "source": [],
   "metadata": {
    "collapsed": false
   }
  }
 ],
 "metadata": {
  "kernelspec": {
   "display_name": "Python 3",
   "language": "python",
   "name": "python3"
  },
  "language_info": {
   "codemirror_mode": {
    "name": "ipython",
    "version": 2
   },
   "file_extension": ".py",
   "mimetype": "text/x-python",
   "name": "python",
   "nbconvert_exporter": "python",
   "pygments_lexer": "ipython2",
   "version": "2.7.6"
  }
 },
 "nbformat": 4,
 "nbformat_minor": 0
}
