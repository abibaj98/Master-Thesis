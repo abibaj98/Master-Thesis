{
 "cells": [
  {
   "cell_type": "code",
   "execution_count": null,
   "metadata": {
    "collapsed": true
   },
   "outputs": [],
   "source": [
    "# import packages\n",
    "import numpy as np\n",
    "import pandas as pd\n",
    "import tensorflow as tf\n",
    "from sklearn.linear_model import Lasso, LassoCV\n",
    "from sklearn.datasets import make_regression\n",
    "from sklearn.preprocessing import PolynomialFeatures\n",
    "from sklearn.ensemble import RandomForestRegressor\n"
   ]
  },
  {
   "cell_type": "code",
   "execution_count": null,
   "outputs": [],
   "source": [
    "######################################"
   ],
   "metadata": {
    "collapsed": false
   }
  },
  {
   "cell_type": "code",
   "execution_count": null,
   "outputs": [],
   "source": [
    "# toy data\n",
    "X, Y = make_regression(n_samples=1000, n_features=25, noise=10, random_state=0)"
   ],
   "metadata": {
    "collapsed": false
   }
  },
  {
   "cell_type": "code",
   "execution_count": null,
   "outputs": [],
   "source": [
    "#######################################"
   ],
   "metadata": {
    "collapsed": false
   }
  },
  {
   "cell_type": "code",
   "execution_count": null,
   "outputs": [],
   "source": [
    "# RANDOM FOREST"
   ],
   "metadata": {
    "collapsed": false
   }
  },
  {
   "cell_type": "code",
   "execution_count": null,
   "outputs": [],
   "source": [
    "# instantiate and fit\n",
    "r_forest = RandomForestRegressor(max_depth=100, random_state=0)\n",
    "r_forest.fit(X,Y)"
   ],
   "metadata": {
    "collapsed": false
   }
  },
  {
   "cell_type": "code",
   "execution_count": null,
   "outputs": [],
   "source": [
    "# predict\n",
    "r_forest.predict(X[:,])"
   ],
   "metadata": {
    "collapsed": false
   }
  },
  {
   "cell_type": "code",
   "execution_count": null,
   "outputs": [],
   "source": [
    "####################################"
   ],
   "metadata": {
    "collapsed": false
   }
  },
  {
   "cell_type": "code",
   "execution_count": null,
   "outputs": [],
   "source": [
    "# LASSO"
   ],
   "metadata": {
    "collapsed": false
   }
  },
  {
   "cell_type": "code",
   "execution_count": null,
   "outputs": [],
   "source": [
    "# instantiate lasso with 10-fold cross-validation\n",
    "lasso = LassoCV(cv=10,random_state=0) # random_state for reproducible results\n",
    "lasso_poly = LassoCV(cv=10, random_state=0)"
   ],
   "metadata": {
    "collapsed": false
   }
  },
  {
   "cell_type": "code",
   "execution_count": null,
   "outputs": [],
   "source": [
    "# fit\n",
    "lasso.fit(X,Y)"
   ],
   "metadata": {
    "collapsed": false
   }
  },
  {
   "cell_type": "code",
   "execution_count": null,
   "outputs": [],
   "source": [
    "# compute polynomial features for lasso\n",
    "poly = PolynomialFeatures(degree=2, interaction_only=False, include_bias=False)\n",
    "X_poly = poly.fit_transform(X)"
   ],
   "metadata": {
    "collapsed": false
   }
  },
  {
   "cell_type": "code",
   "execution_count": null,
   "outputs": [],
   "source": [
    "# predict values\n",
    "lasso.predict(X[:,]) # TODO: INPUT TEST SET HERE? OR APPROPRIATE DATA"
   ],
   "metadata": {
    "collapsed": false
   }
  },
  {
   "cell_type": "code",
   "execution_count": null,
   "outputs": [],
   "source": [
    "lasso_poly.fit(X_poly,Y) # here it takes 1m 25s for 25 original features with degree 3 poly transformation"
   ],
   "metadata": {
    "collapsed": false
   }
  },
  {
   "cell_type": "code",
   "execution_count": null,
   "outputs": [],
   "source": [
    "lasso_poly.predict(X_poly[:,]) # prediction is fast"
   ],
   "metadata": {
    "collapsed": false
   }
  },
  {
   "cell_type": "code",
   "execution_count": null,
   "outputs": [],
   "source": [
    "# Define the LASSO base-learner # TODO: CHANGE THIS!!!, PROBABLY MAKE A CHILDCLASS OF LASSOCV!!!\n",
    "# DONT KNOW IF NEEDED LIKE THAT!\n",
    "class Base_Lasso(LassoCV):\n",
    "    pass\n",
    "    \"\"\"\"\"   X: features.\n",
    "            Y: labels.\n",
    "            poly_degree: number of degrees for polynomial transformation.\n",
    "            poly_reg: whether to fit the model to the polynomial transformed X or not. \"\"\"\"\"\n",
    "    \"\"\"def __init__(self, x, y, poly_degree=1, poly_reg=False):\n",
    "        super().__init__(cv=10,random_state=0)\n",
    "        self.x = x\n",
    "        self.y = y\n",
    "        self.poly_degree = poly_degree\n",
    "        self.poly_reg = poly_reg\n",
    "        self.x_poly = PolynomialFeatures(degree=self.poly_degree, interaction_only=False, include_bias=False).fit_transform(self.x) # TODO: OR SEPARATE FUNCTION? \"\"\"\n",
    "\n",
    "    #def X_poly(self): # TODO: MAYBE DELETE?\n",
    "        #poly = PolynomialFeatures(degree=self.poly_degree, interaction_only=False, include_bias=False)\n",
    "        #return poly.fit_transform(self.X)\n",
    "\n",
    "    \"Comment on this function\"\n",
    "\n",
    "    \"\"\"def fit(self,cv=10,random_stat=0):\n",
    "        self.lasso = LassoCV(cv=cv, random_state=random_stat)\n",
    "        if self.poly_reg:\n",
    "            self.lasso.fit(self.x_poly, self.y)\n",
    "        else:\n",
    "            self.lasso.fit(self.x, self.y)\"\"\"\n",
    "\n",
    "\n",
    "    \"Comment on this function\"\n",
    "    #def predict(self,x):\n",
    "        #return lasso_reg.predict(x)"
   ],
   "metadata": {
    "collapsed": false
   }
  },
  {
   "cell_type": "code",
   "execution_count": null,
   "outputs": [],
   "source": [
    "lol = Base_Lasso(cv=10, random_state=0)"
   ],
   "metadata": {
    "collapsed": false
   }
  },
  {
   "cell_type": "code",
   "execution_count": null,
   "outputs": [],
   "source": [
    "lol.fit(X,Y)"
   ],
   "metadata": {
    "collapsed": false
   }
  },
  {
   "cell_type": "code",
   "execution_count": null,
   "outputs": [],
   "source": [
    "lol.predict(X[:,]) # oder so"
   ],
   "metadata": {
    "collapsed": false
   }
  },
  {
   "cell_type": "code",
   "execution_count": null,
   "outputs": [],
   "source": [
    "#####################################"
   ],
   "metadata": {
    "collapsed": false
   }
  },
  {
   "cell_type": "code",
   "execution_count": null,
   "outputs": [],
   "source": [
    "# Neural Network"
   ],
   "metadata": {
    "collapsed": false
   }
  },
  {
   "cell_type": "code",
   "execution_count": null,
   "outputs": [],
   "source": [],
   "metadata": {
    "collapsed": false
   }
  },
  {
   "cell_type": "code",
   "execution_count": null,
   "outputs": [],
   "source": [],
   "metadata": {
    "collapsed": false
   }
  }
 ],
 "metadata": {
  "kernelspec": {
   "display_name": "Python 3",
   "language": "python",
   "name": "python3"
  },
  "language_info": {
   "codemirror_mode": {
    "name": "ipython",
    "version": 2
   },
   "file_extension": ".py",
   "mimetype": "text/x-python",
   "name": "python",
   "nbconvert_exporter": "python",
   "pygments_lexer": "ipython2",
   "version": "2.7.6"
  }
 },
 "nbformat": 4,
 "nbformat_minor": 0
}
