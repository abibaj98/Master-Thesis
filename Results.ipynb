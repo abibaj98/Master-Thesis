{
 "cells": [
  {
   "cell_type": "code",
   "execution_count": 3,
   "metadata": {
    "collapsed": true,
    "ExecuteTime": {
     "end_time": "2023-08-02T01:02:53.188154Z",
     "start_time": "2023-08-02T01:02:53.177761Z"
    }
   },
   "outputs": [],
   "source": [
    "import numpy as np\n",
    "import jsonpickle\n",
    "import seaborn as sns"
   ]
  },
  {
   "cell_type": "code",
   "execution_count": null,
   "outputs": [],
   "source": [
    "# open\n",
    "# LOAD JSON FILE\n",
    "file_name = \"/Users/arberimbibaj/results.json\"\n",
    "f = open(file_name, 'r')\n",
    "json_str = f.read()\n",
    "results_all = jsonpickle.decode(json_str)"
   ],
   "metadata": {
    "collapsed": false
   }
  },
  {
   "cell_type": "code",
   "execution_count": null,
   "outputs": [],
   "source": [
    "# S-Learner best, X_learner good, T, DR, RA, also good, only PW-bad\n",
    "# almost same as one, PW also good?\n",
    "# X-learner best, S-learner worst (PW actually worst, but extreme)\n",
    "# X-learner best, DR/PW also good, rest oke (PW very bad)\n",
    "# T-learner best?, R/RA very good\n",
    "# X-learner best, but S/T/DR/RA all very good\n",
    "# S-learner best, then X-learner\n",
    "# S-learner best,\n",
    "# X-learner best, (especially for RF)\n",
    "# X-learner best,\n",
    "# T-learner best\n",
    "# S-learner best?, T/X/DR/RA all very good\n",
    "# S-learner best, X also very good\n",
    "# S-learner best, X also very good, R bad\n",
    "# X-learner best, DR-learner also very good\n",
    "# X-learner best, DR/RA good but then at siz=5000 bad?\n",
    "# DR/RA best, X also very good\n",
    "# S-learner best ??? probably because the cates are not scaled enough\n",
    "# S-learner best\n",
    "# S-learner best\n",
    "# X best, DR/RA very good\n",
    "# X best, DR/RA very good,\n",
    "# X best, but all perform a bit bad\n",
    "# T, S, X R DR all good, probably because of not scalling"
   ],
   "metadata": {
    "collapsed": false
   }
  },
  {
   "cell_type": "code",
   "execution_count": null,
   "outputs": [],
   "source": [
    "# CONCLUSIONS\n",
    "# -----------\n",
    "\n",
    "# 1: If zero cate --> S-learner is the best, X-learner also performs good\n",
    "# 2: If simple cate --> X-learner is the best, often DR/RA/R learner also perform good\n",
    "# 3: if complex cate --> T very good, somehow S-learner also good (probably to bad scalling of outcomes), DR/RA/R learner also good\n",
    "# 4: PW learner very bad mostly, U-learner also not good\n",
    "\n",
    "# Base learners\n",
    "# -------------\n",
    "# RF and Linear model seem to be more stable than Neural Network, at least with these hyperparameters.\n",
    "# All \"pseudo-outome\" metalearners very bad with Neural Network??? --> probably the classification task is bad"
   ],
   "metadata": {
    "collapsed": false
   }
  },
  {
   "cell_type": "markdown",
   "source": [
    "12 setups"
   ],
   "metadata": {
    "collapsed": false
   }
  },
  {
   "cell_type": "code",
   "execution_count": null,
   "outputs": [],
   "source": [
    "# open\n",
    "# LOAD JSON FILE\n",
    "file_name = \"/Users/arberimbibaj/results_12_setups_no_cv.json\"\n",
    "f = open(file_name, 'r')\n",
    "json_str = f.read()\n",
    "results_12 = jsonpickle.decode(json_str)"
   ],
   "metadata": {
    "collapsed": false
   }
  },
  {
   "cell_type": "code",
   "execution_count": null,
   "outputs": [],
   "source": [
    "results_12[11][0]"
   ],
   "metadata": {
    "collapsed": false
   }
  },
  {
   "cell_type": "code",
   "execution_count": null,
   "outputs": [],
   "source": [
    "# S-learner best\n",
    "# S learner best\n",
    "# X-learner best, DR/RA very good\n",
    "# X-learner best, DR/RA very good, S bad\n",
    "# R learner best\n",
    "# S-learner best--> because most Ys are near zero!!!, else, DR/RA very good and also X/T learner\n",
    "\n",
    "\n",
    "# CONCLUSION\n",
    "# looks to make sense, PW is bad\n",
    "\n"
   ],
   "metadata": {
    "collapsed": false
   }
  },
  {
   "cell_type": "code",
   "execution_count": null,
   "outputs": [],
   "source": [
    "# open\n",
    "# LOAD JSON FILE\n",
    "file_name = \"check_repro.json\"\n",
    "f = open(file_name, 'r')\n",
    "json_str = f.read()\n",
    "check = jsonpickle.decode(json_str)"
   ],
   "metadata": {
    "collapsed": false
   }
  },
  {
   "cell_type": "code",
   "execution_count": null,
   "outputs": [],
   "source": [
    "check[1][0]"
   ],
   "metadata": {
    "collapsed": false
   }
  },
  {
   "cell_type": "markdown",
   "source": [
    "with cross-fitting"
   ],
   "metadata": {
    "collapsed": false
   }
  },
  {
   "cell_type": "code",
   "execution_count": null,
   "outputs": [],
   "source": [
    "# open\n",
    "# LOAD JSON FILE\n",
    "file_name = \"/Users/arberimbibaj/results_12_setups.json\"\n",
    "f = open(file_name, 'r')\n",
    "json_str = f.read()\n",
    "results_cf = jsonpickle.decode(json_str)"
   ],
   "metadata": {
    "collapsed": false
   }
  },
  {
   "cell_type": "code",
   "execution_count": null,
   "outputs": [],
   "source": [
    "results_cf[11][2]"
   ],
   "metadata": {
    "collapsed": false
   }
  },
  {
   "cell_type": "code",
   "execution_count": null,
   "outputs": [],
   "source": [
    "# OK nice\n",
    "\n",
    "# much better with cross-fitting now!!"
   ],
   "metadata": {
    "collapsed": false
   }
  },
  {
   "cell_type": "markdown",
   "source": [
    "IHDP"
   ],
   "metadata": {
    "collapsed": false
   }
  },
  {
   "cell_type": "code",
   "execution_count": null,
   "outputs": [],
   "source": [
    "# open\n",
    "# LOAD JSON FILE\n",
    "file_name = \"results_ihdp.json\"\n",
    "f = open(file_name, 'r')\n",
    "json_str = f.read()\n",
    "ihdp_results = jsonpickle.decode(json_str)"
   ],
   "metadata": {
    "collapsed": false
   }
  },
  {
   "cell_type": "code",
   "execution_count": null,
   "outputs": [],
   "source": [
    "ihdp_results[2]"
   ],
   "metadata": {
    "collapsed": false
   }
  },
  {
   "cell_type": "code",
   "execution_count": null,
   "outputs": [],
   "source": [
    "# open\n",
    "# LOAD JSON FILE\n",
    "file_name = \"results_ihdp_no_cross.json\"\n",
    "f = open(file_name, 'r')\n",
    "json_str = f.read()\n",
    "ihdp_results_no_cross = jsonpickle.decode(json_str)"
   ],
   "metadata": {
    "collapsed": false
   }
  },
  {
   "cell_type": "code",
   "execution_count": null,
   "outputs": [],
   "source": [
    "ihdp_results_no_cross[2]"
   ],
   "metadata": {
    "collapsed": false
   }
  },
  {
   "cell_type": "code",
   "execution_count": null,
   "outputs": [],
   "source": [
    "# better than cross-fitting"
   ],
   "metadata": {
    "collapsed": false
   }
  },
  {
   "cell_type": "code",
   "execution_count": null,
   "outputs": [],
   "source": [
    "# open\n",
    "# LOAD JSON FILE\n",
    "file_name = \"results_ihdp_no_cross_.json\"\n",
    "f = open(file_name, 'r')\n",
    "json_str = f.read()\n",
    "ihdp_results_no_cross_ = jsonpickle.decode(json_str)"
   ],
   "metadata": {
    "collapsed": false
   }
  },
  {
   "cell_type": "code",
   "execution_count": null,
   "outputs": [],
   "source": [
    "ihdp_results_no_cross_[2]"
   ],
   "metadata": {
    "collapsed": false
   }
  },
  {
   "cell_type": "code",
   "execution_count": null,
   "outputs": [],
   "source": [
    "# open\n",
    "# LOAD JSON FILE\n",
    "file_name = \"results_ihdp_no_cross_.json\"\n",
    "f = open(file_name, 'r')\n",
    "json_str = f.read()\n",
    "ihdp_results_no_cross_ = jsonpickle.decode(json_str)"
   ],
   "metadata": {
    "collapsed": false
   }
  },
  {
   "cell_type": "code",
   "execution_count": null,
   "outputs": [],
   "source": [
    "ihdp_results_no_cross_[0]"
   ],
   "metadata": {
    "collapsed": false
   }
  },
  {
   "cell_type": "code",
   "execution_count": null,
   "outputs": [],
   "source": [
    "# open\n",
    "# LOAD JSON FILE\n",
    "file_name = \"/Users/arberimbibaj/results_ihdp_1e-0.json\"\n",
    "f = open(file_name, 'r')\n",
    "json_str = f.read()\n",
    "ihdp_results_1 = jsonpickle.decode(json_str)"
   ],
   "metadata": {
    "collapsed": false
   }
  },
  {
   "cell_type": "code",
   "execution_count": null,
   "outputs": [],
   "source": [
    "ihdp_results_1[2]"
   ],
   "metadata": {
    "collapsed": false
   }
  },
  {
   "cell_type": "code",
   "execution_count": null,
   "outputs": [],
   "source": [
    "# open\n",
    "# LOAD JSON FILE\n",
    "file_name = \"/Users/arberimbibaj/results_ihdp_1e-4.json\"\n",
    "f = open(file_name, 'r')\n",
    "json_str = f.read()\n",
    "ihdp_results_4 = jsonpickle.decode(json_str)"
   ],
   "metadata": {
    "collapsed": false
   }
  },
  {
   "cell_type": "code",
   "execution_count": null,
   "outputs": [],
   "source": [
    "ihdp_results_4[2]"
   ],
   "metadata": {
    "collapsed": false
   }
  },
  {
   "cell_type": "code",
   "execution_count": null,
   "outputs": [],
   "source": [
    "# open\n",
    "# LOAD JSON FILE\n",
    "file_name = \"/Users/arberimbibaj/results_ihdp_1e-2.json\"\n",
    "f = open(file_name, 'r')\n",
    "json_str = f.read()\n",
    "ihdp_results_2 = jsonpickle.decode(json_str)"
   ],
   "metadata": {
    "collapsed": false
   }
  },
  {
   "cell_type": "code",
   "execution_count": null,
   "outputs": [],
   "source": [
    "ihdp_results_2[2]"
   ],
   "metadata": {
    "collapsed": false
   }
  },
  {
   "cell_type": "code",
   "execution_count": null,
   "outputs": [],
   "source": [
    "# open\n",
    "# LOAD JSON FILE\n",
    "file_name = \"/Users/arberimbibaj/results_ihdp_1e-3.json\"\n",
    "f = open(file_name, 'r')\n",
    "json_str = f.read()\n",
    "ihdp_results_3 = jsonpickle.decode(json_str)"
   ],
   "metadata": {
    "collapsed": false
   }
  },
  {
   "cell_type": "code",
   "execution_count": null,
   "outputs": [],
   "source": [
    "ihdp_results_3[2]"
   ],
   "metadata": {
    "collapsed": false
   }
  },
  {
   "cell_type": "code",
   "execution_count": null,
   "outputs": [],
   "source": [
    "# open\n",
    "# LOAD JSON FILE\n",
    "file_name = \"/Users/arberimbibaj/results_setup_2_old.json\"\n",
    "f = open(file_name, 'r')\n",
    "json_str = f.read()\n",
    "data = jsonpickle.decode(json_str)"
   ],
   "metadata": {
    "collapsed": false
   }
  },
  {
   "cell_type": "code",
   "execution_count": null,
   "outputs": [],
   "source": [
    "metalearner_names = ['T-Learner', 'S-Learner', 'X-Learner', 'R-Leaner', 'DR-Learner', 'RA-Leaner', 'PW-Leaner',\n",
    "                     'U-Learner']\n",
    "metalearner_names = np.repeat(metalearner_names, 40)\n",
    "metalearner_names = np.tile(metalearner_names, 3)\n",
    "metalearner_names = np.array(metalearner_names)[:, np.newaxis]"
   ],
   "metadata": {
    "collapsed": false
   }
  },
  {
   "cell_type": "code",
   "execution_count": null,
   "outputs": [],
   "source": [
    "baselearner_names = [\"random forest\", \"linear models\", \"neural network\"]\n",
    "baselearner_names = np.repeat(baselearner_names, 320)\n",
    "baselearner_names = np.array(baselearner_names)[:, np.newaxis]\n",
    "baselearner_names"
   ],
   "metadata": {
    "collapsed": false
   }
  },
  {
   "cell_type": "code",
   "execution_count": null,
   "outputs": [],
   "source": [
    "sample_sizes = np.tile([500, 1000, 2000, 5000], 240)[:, np.newaxis]\n",
    "sample_sizes"
   ],
   "metadata": {
    "collapsed": false
   }
  },
  {
   "cell_type": "code",
   "execution_count": null,
   "outputs": [],
   "source": [
    "# using dictionary to convert specific columns\n",
    "convert_dict = {'mse': float,\n",
    "                'size': int,\n",
    "                'metalearner': 'category',\n",
    "                'baselearner': 'category'\n",
    "                }\n",
    "data = data.astype(convert_dict)"
   ],
   "metadata": {
    "collapsed": false
   }
  },
  {
   "cell_type": "markdown",
   "source": [
    "HERE!!!"
   ],
   "metadata": {
    "collapsed": false
   }
  },
  {
   "cell_type": "code",
   "execution_count": null,
   "outputs": [],
   "source": [
    "def process_data_plot(results):\n",
    "    # flatten and concatenate results\n",
    "    rf_results = np.sqrt(results[0].flatten('F')[:, np.newaxis])\n",
    "    lm_results = np.sqrt(results[1].flatten('F')[:, np.newaxis])\n",
    "    nn_results = np.sqrt(results[2].flatten('F')[:, np.newaxis])\n",
    "    all_results = np.concatenate((rf_results, lm_results, nn_results))\n",
    "    # add names\n",
    "    metalearner_names = ['T-Learner', 'S-Learner', 'X-Learner', 'R-Leaner', 'DR-Learner', 'RA-Leaner', 'PW-Leaner',\n",
    "                         'U-Learner']\n",
    "    metalearner_names = np.repeat(metalearner_names, 40)\n",
    "    metalearner_names = np.tile(metalearner_names, 3)\n",
    "    metalearner_names = np.array(metalearner_names)[:, np.newaxis]\n",
    "    baselearner_names = [\"random forest\", \"linear models\", \"neural network\"]\n",
    "    baselearner_names = np.repeat(baselearner_names, 320)\n",
    "    baselearner_names = np.array(baselearner_names)[:, np.newaxis]\n",
    "    # sample sizes\n",
    "    sample_sizes = np.tile([500, 1000, 2000, 5000], 240)[:, np.newaxis]\n",
    "    # concatenate all\n",
    "    data = np.concatenate((all_results, sample_sizes, metalearner_names, baselearner_names), axis=1)\n",
    "    data = pd.DataFrame(data)\n",
    "    # add column name and specify data type\n",
    "    data.columns = ['mse', 'size', 'metalearner', 'baselearner']\n",
    "    convert_dict = {'mse': float,\n",
    "                    'size': int,\n",
    "                    'metalearner': 'category',\n",
    "                    'baselearner': 'category'\n",
    "                    }\n",
    "    data = data.astype(convert_dict)\n",
    "    return data\n"
   ],
   "metadata": {
    "collapsed": false
   }
  },
  {
   "cell_type": "code",
   "execution_count": null,
   "outputs": [],
   "source": [
    "# open\n",
    "# LOAD JSON FILE\n",
    "file_name = \"/Users/arberimbibaj/results_experiment/results_setup_11.json\"\n",
    "f = open(file_name, 'r')\n",
    "json_str = f.read()\n",
    "data = jsonpickle.decode(json_str)"
   ],
   "metadata": {
    "collapsed": false
   }
  },
  {
   "cell_type": "code",
   "execution_count": null,
   "outputs": [],
   "source": [
    "data = process_data_plot(data)\n",
    "data"
   ],
   "metadata": {
    "collapsed": false
   }
  },
  {
   "cell_type": "code",
   "execution_count": null,
   "outputs": [],
   "source": [
    "hue_order = [\"T-Learner\", \"S-Learner\", \"X-Learner\", \"R-Leaner\", \"DR-Learner\", \"RA-Leaner\", \"PW-Leaner\",\n",
    "             \"U-Learner\"]\n",
    "col_order = [\"random forest\", \"linear models\", \"neural network\"]\n",
    "sns.set_style(\"whitegrid\")"
   ],
   "metadata": {
    "collapsed": false
   }
  },
  {
   "cell_type": "code",
   "execution_count": null,
   "outputs": [],
   "source": [
    "g = sns.FacetGrid(data, col=\"baselearner\", sharey=False,\n",
    "                  col_order=col_order)\n",
    "g.map(sns.lineplot, \"size\", \"mse\", \"metalearner\", errorbar=None, estimator=\"mean\", marker=\"o\", hue_order=hue_order)\n",
    "g.set_axis_labels(\"sample size\", \"Mean RMSE\")\n",
    "g.set_titles(col_template=\" base learner = {col_name} \")\n",
    "g.add_legend()"
   ],
   "metadata": {
    "collapsed": false
   }
  },
  {
   "cell_type": "code",
   "execution_count": null,
   "outputs": [],
   "source": [
    "# setup 6, neural network ?? why S-learner so good, but lienar models so bad\n",
    "# setup 7 so bad\n",
    "# setup 8 so bad U learner"
   ],
   "metadata": {
    "collapsed": false
   }
  },
  {
   "cell_type": "markdown",
   "source": [
    "exlcude pw and u learner"
   ],
   "metadata": {
    "collapsed": false
   }
  },
  {
   "cell_type": "code",
   "execution_count": null,
   "outputs": [],
   "source": [
    "mask = data['metalearner'].isin(['PWLearner', 'U-Learner'])\n",
    "data_exclude = data[~mask]\n",
    "hue_order_exclude = [\"T-Learner\", \"S-Learner\", \"X-Learner\", \"R-Leaner\", \"DR-Learner\", \"RA-Leaner\"]"
   ],
   "metadata": {
    "collapsed": false
   }
  },
  {
   "cell_type": "code",
   "execution_count": null,
   "outputs": [],
   "source": [
    "g = sns.FacetGrid(data_exclude, col=\"baselearner\", sharey=False,\n",
    "                  col_order=col_order)\n",
    "g.map(sns.lineplot, \"size\", \"mse\", \"metalearner\", errorbar=None, estimator=\"mean\", marker=\"o\",\n",
    "      hue_order=hue_order_exclude, linewidth=0.75)\n",
    "g.set_axis_labels(\"sample size\", \"Mean RMSE\")\n",
    "g.set_titles(col_template=\" base learner = {col_name} \")\n",
    "g.add_legend()"
   ],
   "metadata": {
    "collapsed": false
   }
  },
  {
   "cell_type": "code",
   "execution_count": null,
   "outputs": [],
   "source": [
    "g.savefig(\"LOOKHERE.png\", dpi=1200)"
   ],
   "metadata": {
    "collapsed": false
   }
  },
  {
   "cell_type": "code",
   "execution_count": null,
   "outputs": [],
   "source": [
    "# 1: ok\n",
    "# 2: ok\n",
    "# 3: ok\n",
    "# 4: ok\n",
    "# 5: ok\n",
    "# 6: ?, but in künzel paper the same outcome --> t/s learner no big difference: BUT in linear models they have!!\n",
    "# 7: ok, --> baselearner matters! --> R-RF worst but, R-LM well!\n",
    "# 8: ok, same as 7\n",
    "# 9: oke, RA seems to perform bad in unbalanced settings\n",
    "# 10: oke\n",
    "# 11: oke\n",
    "# 12: oke\n",
    "# 13: oke\n",
    "#\n",
    "\n",
    "\n",
    "\n"
   ],
   "metadata": {
    "collapsed": false
   }
  },
  {
   "cell_type": "markdown",
   "source": [
    "end"
   ],
   "metadata": {
    "collapsed": false
   }
  },
  {
   "cell_type": "code",
   "execution_count": null,
   "outputs": [],
   "source": [
    "# open\n",
    "# LOAD JSON FILE\n",
    "file_name = \"/Users/arberimbibaj/results.json\"\n",
    "f = open(file_name, 'r')\n",
    "json_str = f.read()\n",
    "results_all = jsonpickle.decode(json_str)"
   ],
   "metadata": {
    "collapsed": false
   }
  },
  {
   "cell_type": "code",
   "execution_count": null,
   "outputs": [],
   "source": [
    "results_all[0][0]"
   ],
   "metadata": {
    "collapsed": false
   }
  },
  {
   "cell_type": "code",
   "execution_count": null,
   "outputs": [],
   "source": [
    "# S-Learner best, X_learner good, T, DR, RA, also good, only PW-bad\n",
    "# almost same as one, PW also good?\n",
    "# X-learner best, S-learner worst (PW actually worst, but extreme)\n",
    "# X-learner best, DR/PW also good, rest oke (PW very bad)\n",
    "# T-learner best?, R/RA very good\n",
    "# X-learner best, but S/T/DR/RA all very good\n",
    "# S-learner best, then X-learner\n",
    "# S-learner best,\n",
    "# X-learner best, (especially for RF)\n",
    "# X-learner best,\n",
    "# T-learner best\n",
    "# S-learner best?, T/X/DR/RA all very good\n",
    "# S-learner best, X also very good\n",
    "# S-learner best, X also very good, R bad\n",
    "# X-learner best, DR-learner also very good\n",
    "# X-learner best, DR/RA good but then at siz=5000 bad?\n",
    "# DR/RA best, X also very good\n",
    "# S-learner best ??? probably because the cates are not scaled enough\n",
    "# S-learner best\n",
    "# S-learner best\n",
    "# X best, DR/RA very good\n",
    "# X best, DR/RA very good,\n",
    "# X best, but all perform a bit bad\n",
    "# T, S, X R DR all good, probably because of not scalling"
   ],
   "metadata": {
    "collapsed": false
   }
  },
  {
   "cell_type": "code",
   "execution_count": null,
   "outputs": [],
   "source": [
    "# CONCLUSIONS\n",
    "# -----------\n",
    "\n",
    "# 1: If zero cate --> S-learner is the best, X-learner also performs good\n",
    "# 2: If simple cate --> X-learner is the best, often DR/RA/R learner also perform good\n",
    "# 3: if complex cate --> T very good, somehow S-learner also good (probably to bad scalling of outcomes), DR/RA/R learner also good\n",
    "# 4: PW learner very bad mostly, U-learner also not good\n",
    "\n",
    "# Base learners\n",
    "# -------------\n",
    "# RF and Linear model seem to be more stable than Neural Network, at least with these hyperparameters.\n",
    "# All \"pseudo-outome\" metalearners very bad with Neural Network??? --> probably the classification task is bad"
   ],
   "metadata": {
    "collapsed": false
   }
  },
  {
   "cell_type": "markdown",
   "source": [
    "12 setups"
   ],
   "metadata": {
    "collapsed": false
   }
  },
  {
   "cell_type": "code",
   "execution_count": null,
   "outputs": [],
   "source": [
    "# open\n",
    "# LOAD JSON FILE\n",
    "file_name = \"/Users/arberimbibaj/results_12_setups_no_cv.json\"\n",
    "f = open(file_name, 'r')\n",
    "json_str = f.read()\n",
    "results_12 = jsonpickle.decode(json_str)"
   ],
   "metadata": {
    "collapsed": false
   }
  },
  {
   "cell_type": "code",
   "execution_count": null,
   "outputs": [],
   "source": [
    "results_12[11][0]"
   ],
   "metadata": {
    "collapsed": false
   }
  },
  {
   "cell_type": "code",
   "execution_count": null,
   "outputs": [],
   "source": [
    "# S-learner best\n",
    "# S learner best\n",
    "# X-learner best, DR/RA very good\n",
    "# X-learner best, DR/RA very good, S bad\n",
    "# R learner best\n",
    "# S-learner best--> because most Ys are near zero!!!, else, DR/RA very good and also X/T learner\n",
    "\n",
    "\n",
    "# CONCLUSION\n",
    "# looks to make sense, PW is bad\n",
    "\n"
   ],
   "metadata": {
    "collapsed": false
   }
  },
  {
   "cell_type": "code",
   "execution_count": null,
   "outputs": [],
   "source": [
    "# open\n",
    "# LOAD JSON FILE\n",
    "file_name = \"check_repro.json\"\n",
    "f = open(file_name, 'r')\n",
    "json_str = f.read()\n",
    "check = jsonpickle.decode(json_str)"
   ],
   "metadata": {
    "collapsed": false
   }
  },
  {
   "cell_type": "code",
   "execution_count": null,
   "outputs": [],
   "source": [
    "check[1][0]"
   ],
   "metadata": {
    "collapsed": false
   }
  },
  {
   "cell_type": "markdown",
   "source": [
    "with cross-fitting"
   ],
   "metadata": {
    "collapsed": false
   }
  },
  {
   "cell_type": "code",
   "execution_count": null,
   "outputs": [],
   "source": [
    "# open\n",
    "# LOAD JSON FILE\n",
    "file_name = \"/Users/arberimbibaj/results_12_setups.json\"\n",
    "f = open(file_name, 'r')\n",
    "json_str = f.read()\n",
    "results_cf = jsonpickle.decode(json_str)"
   ],
   "metadata": {
    "collapsed": false
   }
  },
  {
   "cell_type": "code",
   "execution_count": null,
   "outputs": [],
   "source": [
    "results_cf[11][2]"
   ],
   "metadata": {
    "collapsed": false
   }
  },
  {
   "cell_type": "code",
   "execution_count": null,
   "outputs": [],
   "source": [
    "# OK nice\n",
    "# much better with cross-fitting now!!"
   ],
   "metadata": {
    "collapsed": false
   }
  },
  {
   "cell_type": "markdown",
   "source": [
    "IHDP"
   ],
   "metadata": {
    "collapsed": false
   }
  },
  {
   "cell_type": "code",
   "execution_count": null,
   "outputs": [],
   "source": [
    "# open\n",
    "# LOAD JSON FILE\n",
    "file_name = \"results_ihdp.json\"\n",
    "f = open(file_name, 'r')\n",
    "json_str = f.read()\n",
    "ihdp_results = jsonpickle.decode(json_str)"
   ],
   "metadata": {
    "collapsed": false
   }
  },
  {
   "cell_type": "code",
   "execution_count": null,
   "outputs": [],
   "source": [
    "ihdp_results[2]"
   ],
   "metadata": {
    "collapsed": false
   }
  },
  {
   "cell_type": "code",
   "execution_count": null,
   "outputs": [],
   "source": [
    "# open\n",
    "# LOAD JSON FILE\n",
    "file_name = \"results_ihdp_no_cross.json\"\n",
    "f = open(file_name, 'r')\n",
    "json_str = f.read()\n",
    "ihdp_results_no_cross = jsonpickle.decode(json_str)"
   ],
   "metadata": {
    "collapsed": false
   }
  },
  {
   "cell_type": "code",
   "execution_count": null,
   "outputs": [],
   "source": [
    "ihdp_results_no_cross[2]"
   ],
   "metadata": {
    "collapsed": false
   }
  },
  {
   "cell_type": "code",
   "execution_count": null,
   "outputs": [],
   "source": [
    "# better than cross-fitting"
   ],
   "metadata": {
    "collapsed": false
   }
  },
  {
   "cell_type": "code",
   "execution_count": null,
   "outputs": [],
   "source": [
    "# open\n",
    "# LOAD JSON FILE\n",
    "file_name = \"results_ihdp_no_cross_.json\"\n",
    "f = open(file_name, 'r')\n",
    "json_str = f.read()\n",
    "ihdp_results_no_cross_ = jsonpickle.decode(json_str)"
   ],
   "metadata": {
    "collapsed": false
   }
  },
  {
   "cell_type": "code",
   "execution_count": null,
   "outputs": [],
   "source": [
    "ihdp_results_no_cross_[2]"
   ],
   "metadata": {
    "collapsed": false
   }
  },
  {
   "cell_type": "code",
   "execution_count": null,
   "outputs": [],
   "source": [
    "# open\n",
    "# LOAD JSON FILE\n",
    "file_name = \"results_ihdp_no_cross_.json\"\n",
    "f = open(file_name, 'r')\n",
    "json_str = f.read()\n",
    "ihdp_results_no_cross_ = jsonpickle.decode(json_str)"
   ],
   "metadata": {
    "collapsed": false
   }
  },
  {
   "cell_type": "code",
   "execution_count": null,
   "outputs": [],
   "source": [
    "ihdp_results_no_cross_[0]"
   ],
   "metadata": {
    "collapsed": false
   }
  },
  {
   "cell_type": "code",
   "execution_count": null,
   "outputs": [],
   "source": [
    "# open\n",
    "# LOAD JSON FILE\n",
    "file_name = \"/Users/arberimbibaj/results_ihdp_1e-0.json\"\n",
    "f = open(file_name, 'r')\n",
    "json_str = f.read()\n",
    "ihdp_results_1 = jsonpickle.decode(json_str)"
   ],
   "metadata": {
    "collapsed": false
   }
  },
  {
   "cell_type": "code",
   "execution_count": null,
   "outputs": [],
   "source": [
    "ihdp_results_1[2]"
   ],
   "metadata": {
    "collapsed": false
   }
  },
  {
   "cell_type": "code",
   "execution_count": null,
   "outputs": [],
   "source": [
    "# open\n",
    "# LOAD JSON FILE\n",
    "file_name = \"/Users/arberimbibaj/results_ihdp_1e-4.json\"\n",
    "f = open(file_name, 'r')\n",
    "json_str = f.read()\n",
    "ihdp_results_4 = jsonpickle.decode(json_str)"
   ],
   "metadata": {
    "collapsed": false
   }
  },
  {
   "cell_type": "code",
   "execution_count": null,
   "outputs": [],
   "source": [
    "ihdp_results_4[2]"
   ],
   "metadata": {
    "collapsed": false
   }
  },
  {
   "cell_type": "code",
   "execution_count": null,
   "outputs": [],
   "source": [
    "# open\n",
    "# LOAD JSON FILE\n",
    "file_name = \"/Users/arberimbibaj/results_ihdp_1e-2.json\"\n",
    "f = open(file_name, 'r')\n",
    "json_str = f.read()\n",
    "ihdp_results_2 = jsonpickle.decode(json_str)"
   ],
   "metadata": {
    "collapsed": false
   }
  },
  {
   "cell_type": "code",
   "execution_count": null,
   "outputs": [],
   "source": [
    "ihdp_results_2[2]"
   ],
   "metadata": {
    "collapsed": false
   }
  },
  {
   "cell_type": "code",
   "execution_count": null,
   "outputs": [],
   "source": [
    "# open\n",
    "# LOAD JSON FILE\n",
    "file_name = \"/Users/arberimbibaj/results_ihdp_1e-3.json\"\n",
    "f = open(file_name, 'r')\n",
    "json_str = f.read()\n",
    "ihdp_results_3 = jsonpickle.decode(json_str)"
   ],
   "metadata": {
    "collapsed": false
   }
  },
  {
   "cell_type": "code",
   "execution_count": null,
   "outputs": [],
   "source": [
    "# open\n",
    "# LOAD JSON FILE\n",
    "file_name = \"/Users/arberimbibaj/results_setup_1_old.json\"\n",
    "f = open(file_name, 'r')\n",
    "json_str = f.read()\n",
    "results_1 = jsonpickle.decode(json_str)"
   ],
   "metadata": {
    "collapsed": false
   }
  },
  {
   "cell_type": "code",
   "execution_count": null,
   "outputs": [],
   "source": [
    "rf_results = results_1[0].flatten('F')[:, np.newaxis]\n",
    "lm_results = results_1[1].flatten('F')[:, np.newaxis]\n",
    "nn_results = results_1[2].flatten('F')[:, np.newaxis]"
   ],
   "metadata": {
    "collapsed": false
   }
  },
  {
   "cell_type": "code",
   "execution_count": null,
   "outputs": [],
   "source": [
    "all_results = np.concatenate((rf_results, lm_results, nn_results))\n",
    "all_results"
   ],
   "metadata": {
    "collapsed": false
   }
  },
  {
   "cell_type": "code",
   "execution_count": null,
   "outputs": [],
   "source": [
    "metalearner_names = ['T-Learner', 'S-Learner', 'X-Learner', 'R-Leaner', 'DR-Learner', 'RA-Leaner', 'PW-Leaner',\n",
    "                     'U-Learner']"
   ],
   "metadata": {
    "collapsed": false
   }
  },
  {
   "cell_type": "code",
   "execution_count": null,
   "outputs": [],
   "source": [
    "metalearner_names = np.repeat(metalearner_names, 40)\n",
    "metalearner_names = np.tile(metalearner_names, 3)"
   ],
   "metadata": {
    "collapsed": false
   }
  },
  {
   "cell_type": "code",
   "execution_count": null,
   "outputs": [],
   "source": [
    "metalearner_names"
   ],
   "metadata": {
    "collapsed": false
   }
  },
  {
   "cell_type": "code",
   "execution_count": null,
   "outputs": [],
   "source": [
    "metas = np.array(metalearner_names)[:, np.newaxis]"
   ],
   "metadata": {
    "collapsed": false
   }
  },
  {
   "cell_type": "code",
   "execution_count": null,
   "outputs": [],
   "source": [
    "metas"
   ],
   "metadata": {
    "collapsed": false
   }
  },
  {
   "cell_type": "code",
   "execution_count": null,
   "outputs": [],
   "source": [
    "first_plot = sns.lineplot(data=data, x=\"size\", y=\"mse\", hue=\"metalearner\", estimator=\"mean\", errorbar=None, marker='o')"
   ],
   "metadata": {
    "collapsed": false
   }
  },
  {
   "cell_type": "code",
   "execution_count": null,
   "outputs": [],
   "source": [
    "hue_order = [\"T-Learner\", \"S-Learner\", \"X-Learner\", \"R-Leaner\", \"DR-Learner\", \"RA-Leaner\", \"PW-Leaner\",\n",
    "             \"U-Learner\"]\n",
    "col_order = [\"random forest\", \"linear models\", \"neural network\"]\n",
    "sns.set_style(\"whitegrid\")"
   ],
   "metadata": {
    "collapsed": false
   }
  },
  {
   "cell_type": "code",
   "execution_count": null,
   "outputs": [],
   "source": [
    "g = sns.FacetGrid(data, col=\"baselearner\", sharey=False,\n",
    "                  col_order=col_order)\n",
    "g.map(sns.lineplot, \"size\", \"mse\", \"metalearner\", errorbar=None, estimator=\"mean\", marker=\"o\", hue_order=hue_order)\n",
    "g.set_axis_labels(\"sample size\", \"Mean MSE\")\n",
    "g.set_titles(col_template=\" base learner = {col_name} \")\n",
    "g.add_legend()"
   ],
   "metadata": {
    "collapsed": false
   }
  },
  {
   "cell_type": "code",
   "execution_count": null,
   "outputs": [],
   "source": [
    "g.savefig(\"color_bright.png\", dpi=1200)"
   ],
   "metadata": {
    "collapsed": false
   }
  },
  {
   "cell_type": "code",
   "execution_count": null,
   "outputs": [],
   "source": [
    "g.savefig(\"first_setup.eps\", format='eps')  # for latex"
   ],
   "metadata": {
    "collapsed": false
   }
  },
  {
   "cell_type": "code",
   "execution_count": null,
   "outputs": [],
   "source": [],
   "metadata": {
    "collapsed": false
   }
  },
  {
   "cell_type": "code",
   "execution_count": null,
   "outputs": [],
   "source": [],
   "metadata": {
    "collapsed": false
   }
  },
  {
   "cell_type": "code",
   "execution_count": null,
   "outputs": [],
   "source": [
    "# open\n",
    "# LOAD JSON FILE\n",
    "file_name = \"/Users/arberimbibaj/Documents/Master Thesis ETH/DataSets /Generated/simulated_data_large.json\"\n",
    "f = open(file_name, 'r')\n",
    "json_str = f.read()\n",
    "large_simulation = jsonpickle.decode(json_str)"
   ],
   "metadata": {
    "collapsed": false
   }
  },
  {
   "cell_type": "code",
   "execution_count": null,
   "outputs": [],
   "source": [
    "large_simulation[17][0][3][0]"
   ],
   "metadata": {
    "collapsed": false
   }
  },
  {
   "cell_type": "code",
   "execution_count": null,
   "outputs": [],
   "source": [
    "dim1 = 24\n",
    "dim2 = 10\n",
    "dim3 = 4\n",
    "dim4 = 2\n",
    "\n",
    "empty_list = [[[[[] for _ in range(dim4)] for _ in range(dim3)] for _ in range(dim2)] for _ in range(dim1)]\n",
    "empty_list"
   ],
   "metadata": {
    "collapsed": false
   }
  },
  {
   "cell_type": "code",
   "execution_count": null,
   "outputs": [],
   "source": [
    "empty_list[20][0][0][0]"
   ],
   "metadata": {
    "collapsed": false
   }
  },
  {
   "cell_type": "code",
   "execution_count": null,
   "outputs": [],
   "source": [
    "empty_list"
   ],
   "metadata": {
    "collapsed": false
   }
  },
  {
   "cell_type": "code",
   "execution_count": null,
   "outputs": [],
   "source": [
    "data = []\n",
    "for i in range(dim1):\n",
    "    data.append([])\n",
    "\n",
    "for i in range(dim1):\n",
    "    for r in range(dim2):\n",
    "        data[i].append([])\n",
    "\n",
    "for i in range(dim1):\n",
    "    for r in range(dim2):\n",
    "        for s in range(dim3):\n",
    "            data[i][r].append([])\n",
    "\n",
    "for i in range(dim1):\n",
    "    for r in range(dim2):\n",
    "        for s in range(dim3):\n",
    "            for t in range(dim3):\n",
    "                data[i][r][s].append([])"
   ],
   "metadata": {
    "collapsed": false
   }
  },
  {
   "cell_type": "code",
   "execution_count": null,
   "outputs": [],
   "source": [
    "data[0][0][0][0] = 3"
   ],
   "metadata": {
    "collapsed": false
   }
  },
  {
   "cell_type": "code",
   "execution_count": null,
   "outputs": [],
   "source": [
    "data == empty_list"
   ],
   "metadata": {
    "collapsed": false
   }
  },
  {
   "cell_type": "code",
   "execution_count": null,
   "outputs": [],
   "source": [
    "s = [500, 1000, 200, 300]\n",
    "len(s)"
   ],
   "metadata": {
    "collapsed": false
   }
  },
  {
   "cell_type": "code",
   "execution_count": null,
   "outputs": [],
   "source": [
    "lel = [[], []]\n",
    "lel = 1, 3\n",
    "lel[1]"
   ],
   "metadata": {
    "collapsed": false
   }
  },
  {
   "cell_type": "code",
   "execution_count": null,
   "outputs": [],
   "source": [
    "sizes = [100, 1000, 200, 400]\n",
    "for s, size in enumerate(sizes):\n",
    "    print(s, \",\", size)"
   ],
   "metadata": {
    "collapsed": false
   }
  },
  {
   "cell_type": "code",
   "execution_count": null,
   "outputs": [],
   "source": [
    "import scipy\n",
    "\n",
    "scipy.__version__"
   ],
   "metadata": {
    "collapsed": false
   }
  },
  {
   "cell_type": "code",
   "execution_count": null,
   "outputs": [],
   "source": [
    "import scipy\n",
    "\n",
    "scipy.__version__"
   ],
   "metadata": {
    "collapsed": false
   }
  },
  {
   "cell_type": "code",
   "execution_count": null,
   "outputs": [],
   "source": [
    "pip\n",
    "list"
   ],
   "metadata": {
    "collapsed": false
   }
  },
  {
   "cell_type": "code",
   "execution_count": null,
   "outputs": [],
   "source": [
    "import scipy\n",
    "\n",
    "scipy.__version__"
   ],
   "metadata": {
    "collapsed": false
   }
  },
  {
   "cell_type": "code",
   "execution_count": null,
   "outputs": [],
   "source": [],
   "metadata": {
    "collapsed": false
   }
  },
  {
   "cell_type": "code",
   "execution_count": null,
   "outputs": [],
   "source": [],
   "metadata": {
    "collapsed": false
   }
  },
  {
   "cell_type": "code",
   "execution_count": 14,
   "outputs": [],
   "source": [
    "# open\n",
    "# LOAD JSON FILE\n",
    "file_name = \"results_setting_1_runs_1.json\"\n",
    "f = open(file_name, 'r')\n",
    "json_str = f.read()\n",
    "res = jsonpickle.decode(json_str)"
   ],
   "metadata": {
    "collapsed": false,
    "ExecuteTime": {
     "end_time": "2023-08-01T20:39:32.972903Z",
     "start_time": "2023-08-01T20:39:32.945325Z"
    }
   }
  },
  {
   "cell_type": "code",
   "execution_count": 19,
   "outputs": [
    {
     "data": {
      "text/plain": "array([[ 2.45827304,  0.16137142,  2.27082726,  0.61352291,  2.91958928,\n         2.41761605, 14.18158114,  0.61342217]])"
     },
     "execution_count": 19,
     "metadata": {},
     "output_type": "execute_result"
    }
   ],
   "source": [
    "res[1]"
   ],
   "metadata": {
    "collapsed": false,
    "ExecuteTime": {
     "end_time": "2023-08-01T20:39:53.043967Z",
     "start_time": "2023-08-01T20:39:53.036641Z"
    }
   }
  },
  {
   "cell_type": "code",
   "execution_count": null,
   "outputs": [],
   "source": [
    "# 0.317731,0.031008,0.124688,0.18466,0.254088,0.195822,0.79867,0.182264\n"
   ],
   "metadata": {
    "collapsed": false
   }
  },
  {
   "cell_type": "code",
   "execution_count": 25,
   "outputs": [],
   "source": [
    "x = 3.0"
   ],
   "metadata": {
    "collapsed": false,
    "ExecuteTime": {
     "end_time": "2023-08-01T22:44:24.592786Z",
     "start_time": "2023-08-01T22:44:24.584455Z"
    }
   }
  },
  {
   "cell_type": "code",
   "execution_count": 26,
   "outputs": [
    {
     "data": {
      "text/plain": "float"
     },
     "execution_count": 26,
     "metadata": {},
     "output_type": "execute_result"
    }
   ],
   "source": [
    "type(x)"
   ],
   "metadata": {
    "collapsed": false,
    "ExecuteTime": {
     "end_time": "2023-08-01T22:44:24.862502Z",
     "start_time": "2023-08-01T22:44:24.848228Z"
    }
   }
  },
  {
   "cell_type": "code",
   "execution_count": 31,
   "outputs": [],
   "source": [
    "import configargparse"
   ],
   "metadata": {
    "collapsed": false,
    "ExecuteTime": {
     "end_time": "2023-08-01T22:45:50.219129Z",
     "start_time": "2023-08-01T22:45:50.204849Z"
    }
   }
  },
  {
   "cell_type": "code",
   "execution_count": 32,
   "outputs": [],
   "source": [
    "def check(number):\n",
    "    if type(number) is not int:\n",
    "        raise configargparse.ArgumentTypeError(\"The number has to an integer\")\n",
    "    if number <= 0:\n",
    "        raise configargparse.ArgumentTypeError(\"The number has to be positive\")\n",
    "    return number"
   ],
   "metadata": {
    "collapsed": false,
    "ExecuteTime": {
     "end_time": "2023-08-01T22:45:50.921318Z",
     "start_time": "2023-08-01T22:45:50.912875Z"
    }
   }
  },
  {
   "cell_type": "code",
   "execution_count": null,
   "outputs": [],
   "source": [
    "# LARGE"
   ],
   "metadata": {
    "collapsed": false
   }
  },
  {
   "cell_type": "markdown",
   "source": [
    "compare sample sizes"
   ],
   "metadata": {
    "collapsed": false
   }
  },
  {
   "cell_type": "code",
   "execution_count": 43,
   "outputs": [],
   "source": [
    "import pandas as pd"
   ],
   "metadata": {
    "collapsed": false,
    "ExecuteTime": {
     "end_time": "2023-08-01T23:09:04.753257Z",
     "start_time": "2023-08-01T23:09:04.744191Z"
    }
   }
  },
  {
   "cell_type": "code",
   "execution_count": 50,
   "outputs": [],
   "source": [
    "sizes = np.tile([500, 1000, 2000, 5000], 10)\n",
    "sizes_big = np.tile([1000, 2000, 5000, 10000], 10)\n"
   ],
   "metadata": {
    "collapsed": false,
    "ExecuteTime": {
     "end_time": "2023-08-01T23:11:37.754972Z",
     "start_time": "2023-08-01T23:11:37.745450Z"
    }
   }
  },
  {
   "cell_type": "code",
   "execution_count": 52,
   "outputs": [
    {
     "data": {
      "text/plain": "(array([ 500, 1000, 2000, 5000,  500, 1000, 2000, 5000,  500, 1000, 2000,\n        5000,  500, 1000, 2000, 5000,  500, 1000, 2000, 5000,  500, 1000,\n        2000, 5000,  500, 1000, 2000, 5000,  500, 1000, 2000, 5000,  500,\n        1000, 2000, 5000,  500, 1000, 2000, 5000]),\n array([ 1000,  2000,  5000, 10000,  1000,  2000,  5000, 10000,  1000,\n         2000,  5000, 10000,  1000,  2000,  5000, 10000,  1000,  2000,\n         5000, 10000,  1000,  2000,  5000, 10000,  1000,  2000,  5000,\n        10000,  1000,  2000,  5000, 10000,  1000,  2000,  5000, 10000,\n         1000,  2000,  5000, 10000]))"
     },
     "execution_count": 52,
     "metadata": {},
     "output_type": "execute_result"
    }
   ],
   "source": [
    "sizes, sizes_big"
   ],
   "metadata": {
    "collapsed": false,
    "ExecuteTime": {
     "end_time": "2023-08-01T23:11:43.040286Z",
     "start_time": "2023-08-01T23:11:43.025832Z"
    }
   }
  },
  {
   "cell_type": "code",
   "execution_count": 60,
   "outputs": [],
   "source": [
    "# open\n",
    "# LOAD JSON FILE\n",
    "file_name = \"/Users/arberimbibaj/results_setup_1_large.json\"\n",
    "f = open(file_name, 'r')\n",
    "json_str = f.read()\n",
    "large = jsonpickle.decode(json_str)"
   ],
   "metadata": {
    "collapsed": false,
    "ExecuteTime": {
     "end_time": "2023-08-01T23:13:30.947101Z",
     "start_time": "2023-08-01T23:13:30.916962Z"
    }
   }
  },
  {
   "cell_type": "code",
   "execution_count": 65,
   "outputs": [
    {
     "data": {
      "text/plain": "array([[4.22589395e-01, 6.31128936e-04, 1.25427872e-01, 5.08952100e-01,\n        2.80774561e-01, 2.72178565e-01, 7.86113832e+00, 5.28084582e-01],\n       [3.54742681e-01, 4.16250690e-04, 1.12486278e-01, 6.47029166e-01,\n        2.61015229e-01, 2.51185802e-01, 5.58346526e+00, 8.27471562e-01],\n       [1.97886199e-01, 5.40596895e-04, 6.55942352e-02, 2.56601572e-01,\n        1.17420271e-01, 1.12276953e-01, 3.15809750e+00, 2.85931547e-01],\n       [1.41920142e-01, 4.38237045e-04, 5.18716055e-02, 1.72899215e-01,\n        8.17216522e-02, 7.68210037e-02, 2.96111677e+00, 1.85506850e-01],\n       [2.00366478e-01, 7.74687762e-04, 9.93928009e-02, 4.32715761e-01,\n        1.72631333e-01, 1.66110458e-01, 2.87825358e+00, 5.22854453e-01],\n       [1.97104797e-01, 1.10675031e-03, 7.27878633e-02, 3.26303098e-01,\n        1.37398904e-01, 1.27859504e-01, 2.31776062e+00, 3.35230304e-01],\n       [1.64466338e-01, 1.12718693e-03, 6.03636882e-02, 2.48708965e-01,\n        1.13907069e-01, 1.08912780e-01, 1.79163057e+00, 2.88842620e-01],\n       [1.16150118e-01, 5.55287778e-04, 5.26267255e-02, 1.97540463e-01,\n        9.22676807e-02, 8.87104223e-02, 1.31988733e+00, 2.19147675e-01],\n       [2.62050454e-01, 1.34688584e-03, 1.13100226e-01, 3.34430235e-01,\n        1.56470025e-01, 1.49052810e-01, 3.06225788e+00, 3.36857536e-01],\n       [2.17318114e-01, 1.07901919e-03, 7.99567143e-02, 3.08079432e-01,\n        1.34973203e-01, 1.25492794e-01, 3.74871254e+00, 4.01799906e-01],\n       [1.61402214e-01, 8.73334285e-04, 6.02979075e-02, 1.95337094e-01,\n        9.86805340e-02, 9.24668953e-02, 1.83202577e+00, 2.08458928e-01],\n       [1.23009001e-01, 8.84920129e-04, 4.13033975e-02, 1.73808491e-01,\n        7.82299524e-02, 7.32986414e-02, 1.77767470e+00, 1.87137634e-01],\n       [3.47974252e-01, 2.30746046e-03, 1.23044044e-01, 5.36758443e-01,\n        2.31201229e-01, 2.20838671e-01, 1.85668736e+00, 6.81929442e-01],\n       [3.16829298e-01, 9.06386569e-04, 1.36721672e-01, 4.13602396e-01,\n        2.28029727e-01, 2.25531990e-01, 1.68998715e+00, 5.31586910e-01],\n       [1.90376636e-01, 9.53796404e-04, 7.16766506e-02, 2.47703206e-01,\n        1.12629859e-01, 1.06235364e-01, 9.68660249e-01, 2.68029370e-01],\n       [1.65254576e-01, 9.40175001e-04, 6.31712200e-02, 1.89264006e-01,\n        1.00647077e-01, 9.79824299e-02, 8.39529829e-01, 2.06357566e-01],\n       [3.71194422e-01, 9.23074696e-04, 1.21180334e-01, 5.55458523e-01,\n        2.51651957e-01, 2.52799747e-01, 2.94768785e+00, 6.45711741e-01],\n       [2.70575208e-01, 1.18856189e-03, 1.00375469e-01, 3.77938947e-01,\n        1.91621218e-01, 1.80950528e-01, 1.99812629e+00, 4.12630592e-01],\n       [2.17671628e-01, 1.08056543e-03, 8.22920145e-02, 3.26469177e-01,\n        1.58251838e-01, 1.50375416e-01, 1.91905497e+00, 3.40540310e-01],\n       [1.37530444e-01, 6.72230258e-04, 4.58253654e-02, 1.77058950e-01,\n        8.16687458e-02, 8.01666957e-02, 1.29695088e+00, 2.09763097e-01],\n       [3.92087117e-01, 3.53430371e-03, 1.54127275e-01, 5.69144207e-01,\n        2.81052687e-01, 2.71658936e-01, 5.49701967e+00, 6.07951010e-01],\n       [3.25234129e-01, 4.21161537e-03, 1.08011219e-01, 3.81634230e-01,\n        1.96142592e-01, 1.89604300e-01, 4.67966645e+00, 3.92283208e-01],\n       [1.75073282e-01, 1.42752778e-03, 6.28223092e-02, 2.83600898e-01,\n        1.07299066e-01, 1.01098971e-01, 3.39801271e+00, 3.05791012e-01],\n       [1.70017848e-01, 1.24142108e-03, 5.58729119e-02, 1.93960874e-01,\n        1.02561288e-01, 9.74388733e-02, 4.09174789e+00, 2.02311344e-01],\n       [1.87948836e-01, 1.34871556e-03, 8.50931376e-02, 3.63738158e-01,\n        1.43810892e-01, 1.35213993e-01, 2.75354814e+00, 3.77621844e-01],\n       [2.07854041e-01, 1.19295042e-03, 8.46846738e-02, 3.41306128e-01,\n        1.44949421e-01, 1.39717936e-01, 2.27442223e+00, 3.93481443e-01],\n       [1.33743909e-01, 9.51900627e-04, 4.73342749e-02, 1.92256870e-01,\n        8.14332552e-02, 7.67118103e-02, 1.53965122e+00, 2.10301779e-01],\n       [1.29858362e-01, 1.37958235e-03, 4.73580116e-02, 1.59878046e-01,\n        9.26047462e-02, 8.79669846e-02, 1.45420999e+00, 1.66059351e-01],\n       [3.32495431e-01, 1.34664644e-03, 1.07541838e-01, 5.04101811e-01,\n        1.78052503e-01, 1.67591140e-01, 5.78513499e+00, 6.05080963e-01],\n       [3.43906974e-01, 9.52632467e-04, 1.45093655e-01, 3.95560340e-01,\n        2.18086057e-01, 2.11342721e-01, 4.68793656e+00, 4.24651708e-01],\n       [1.90366700e-01, 4.21823314e-04, 4.99929876e-02, 2.34330776e-01,\n        1.06811285e-01, 1.04178864e-01, 3.75738852e+00, 2.50939160e-01],\n       [1.70717821e-01, 6.77531892e-04, 5.49798387e-02, 1.97286855e-01,\n        9.23398338e-02, 8.66523675e-02, 2.68326504e+00, 2.23827770e-01],\n       [6.16471917e-01, 1.97645382e-03, 2.23410801e-01, 6.80393135e-01,\n        4.10570594e-01, 4.17320549e-01, 1.09509398e+01, 7.74270202e-01],\n       [3.31957292e-01, 2.40607977e-03, 1.01000843e-01, 4.62002700e-01,\n        1.74523658e-01, 1.71060898e-01, 7.23642763e+00, 4.89645802e-01],\n       [2.17062275e-01, 9.93671054e-04, 6.91036211e-02, 2.50950494e-01,\n        1.12753248e-01, 1.06012041e-01, 5.78274389e+00, 2.80847679e-01],\n       [1.73950987e-01, 7.51853020e-04, 5.07304020e-02, 2.05644926e-01,\n        8.77907118e-02, 8.34446683e-02, 4.63812884e+00, 2.16603374e-01],\n       [3.35819160e-01, 1.63580241e-03, 1.26098667e-01, 3.74083456e-01,\n        2.24475445e-01, 2.22902192e-01, 4.10737025e+00, 3.97526860e-01],\n       [2.31631260e-01, 8.20535471e-04, 8.72961077e-02, 3.42827376e-01,\n        1.74493638e-01, 1.66950951e-01, 3.45750583e+00, 3.81501042e-01],\n       [1.82284108e-01, 1.11902565e-03, 7.80201120e-02, 2.52530673e-01,\n        1.26282998e-01, 1.21829350e-01, 2.27648374e+00, 2.55914313e-01],\n       [1.63865599e-01, 1.15549786e-03, 4.73481943e-02, 1.88823782e-01,\n        9.15011987e-02, 8.79675508e-02, 2.60389156e+00, 1.86731416e-01]])"
     },
     "execution_count": 65,
     "metadata": {},
     "output_type": "execute_result"
    }
   ],
   "source": [
    "large[0]"
   ],
   "metadata": {
    "collapsed": false,
    "ExecuteTime": {
     "end_time": "2023-08-01T23:13:45.355740Z",
     "start_time": "2023-08-01T23:13:45.325012Z"
    }
   }
  },
  {
   "cell_type": "code",
   "execution_count": 72,
   "outputs": [
    {
     "data": {
      "text/plain": "               0          1          2          3          4          5  \\\ncount  40.000000  40.000000  40.000000  40.000000  40.000000  40.000000   \nmean    0.239719   0.001207   0.086635   0.330018   0.155718   0.150148   \nstd     0.104356   0.000766   0.038129   0.140897   0.072758   0.073283   \nmin     0.116150   0.000416   0.041303   0.159878   0.078230   0.073299   \n25%     0.168827   0.000809   0.055650   0.197477   0.100155   0.096196   \n50%     0.199126   0.001036   0.078988   0.317191   0.136186   0.126676   \n75%     0.326915   0.001347   0.109130   0.400071   0.192752   0.183114   \nmax     0.616472   0.004212   0.223411   0.680393   0.410571   0.417321   \n\n               6          7  \ncount  40.000000  40.000000  \nmean    3.386605   0.369180  \nstd     2.087418   0.172720  \nmin     0.839530   0.166059  \n25%     1.850522   0.218512  \n50%     2.912971   0.336044  \n75%     4.240060   0.440900  \nmax    10.950940   0.827472  ",
      "text/html": "<div>\n<style scoped>\n    .dataframe tbody tr th:only-of-type {\n        vertical-align: middle;\n    }\n\n    .dataframe tbody tr th {\n        vertical-align: top;\n    }\n\n    .dataframe thead th {\n        text-align: right;\n    }\n</style>\n<table border=\"1\" class=\"dataframe\">\n  <thead>\n    <tr style=\"text-align: right;\">\n      <th></th>\n      <th>0</th>\n      <th>1</th>\n      <th>2</th>\n      <th>3</th>\n      <th>4</th>\n      <th>5</th>\n      <th>6</th>\n      <th>7</th>\n    </tr>\n  </thead>\n  <tbody>\n    <tr>\n      <th>count</th>\n      <td>40.000000</td>\n      <td>40.000000</td>\n      <td>40.000000</td>\n      <td>40.000000</td>\n      <td>40.000000</td>\n      <td>40.000000</td>\n      <td>40.000000</td>\n      <td>40.000000</td>\n    </tr>\n    <tr>\n      <th>mean</th>\n      <td>0.239719</td>\n      <td>0.001207</td>\n      <td>0.086635</td>\n      <td>0.330018</td>\n      <td>0.155718</td>\n      <td>0.150148</td>\n      <td>3.386605</td>\n      <td>0.369180</td>\n    </tr>\n    <tr>\n      <th>std</th>\n      <td>0.104356</td>\n      <td>0.000766</td>\n      <td>0.038129</td>\n      <td>0.140897</td>\n      <td>0.072758</td>\n      <td>0.073283</td>\n      <td>2.087418</td>\n      <td>0.172720</td>\n    </tr>\n    <tr>\n      <th>min</th>\n      <td>0.116150</td>\n      <td>0.000416</td>\n      <td>0.041303</td>\n      <td>0.159878</td>\n      <td>0.078230</td>\n      <td>0.073299</td>\n      <td>0.839530</td>\n      <td>0.166059</td>\n    </tr>\n    <tr>\n      <th>25%</th>\n      <td>0.168827</td>\n      <td>0.000809</td>\n      <td>0.055650</td>\n      <td>0.197477</td>\n      <td>0.100155</td>\n      <td>0.096196</td>\n      <td>1.850522</td>\n      <td>0.218512</td>\n    </tr>\n    <tr>\n      <th>50%</th>\n      <td>0.199126</td>\n      <td>0.001036</td>\n      <td>0.078988</td>\n      <td>0.317191</td>\n      <td>0.136186</td>\n      <td>0.126676</td>\n      <td>2.912971</td>\n      <td>0.336044</td>\n    </tr>\n    <tr>\n      <th>75%</th>\n      <td>0.326915</td>\n      <td>0.001347</td>\n      <td>0.109130</td>\n      <td>0.400071</td>\n      <td>0.192752</td>\n      <td>0.183114</td>\n      <td>4.240060</td>\n      <td>0.440900</td>\n    </tr>\n    <tr>\n      <th>max</th>\n      <td>0.616472</td>\n      <td>0.004212</td>\n      <td>0.223411</td>\n      <td>0.680393</td>\n      <td>0.410571</td>\n      <td>0.417321</td>\n      <td>10.950940</td>\n      <td>0.827472</td>\n    </tr>\n  </tbody>\n</table>\n</div>"
     },
     "execution_count": 72,
     "metadata": {},
     "output_type": "execute_result"
    }
   ],
   "source": [
    "large_ = pd.DataFrame(large[0])\n",
    "large_.describe()"
   ],
   "metadata": {
    "collapsed": false,
    "ExecuteTime": {
     "end_time": "2023-08-01T23:16:44.475630Z",
     "start_time": "2023-08-01T23:16:44.462737Z"
    }
   }
  },
  {
   "cell_type": "code",
   "execution_count": 21,
   "outputs": [],
   "source": [
    "# open\n",
    "# LOAD JSON FILE\n",
    "file_name = \"/Users/arberimbibaj/results_experiment/results_setup_1.json\"\n",
    "f = open(file_name, 'r')\n",
    "json_str = f.read()\n",
    "small = jsonpickle.decode(json_str)"
   ],
   "metadata": {
    "collapsed": false,
    "ExecuteTime": {
     "end_time": "2023-08-02T01:07:55.711775Z",
     "start_time": "2023-08-02T01:07:55.696279Z"
    }
   }
  },
  {
   "cell_type": "code",
   "execution_count": 22,
   "outputs": [
    {
     "data": {
      "text/plain": "               0          1          2          3          4          5  \\\ncount  40.000000  40.000000  40.000000  40.000000  40.000000  40.000000   \nmean    0.298261   0.001499   0.102183   0.440094   0.199617   0.191154   \nstd     0.117970   0.000969   0.036046   0.186114   0.089511   0.087244   \nmin     0.164589   0.000416   0.063595   0.216792   0.108433   0.104222   \n25%     0.205064   0.000920   0.073833   0.295140   0.134761   0.129494   \n50%     0.272573   0.001299   0.091551   0.409765   0.168387   0.164617   \n75%     0.386644   0.001793   0.119672   0.527218   0.235353   0.219130   \nmax     0.661787   0.004861   0.220363   1.000114   0.476754   0.450104   \n\n               6          7  \ncount  40.000000  40.000000  \nmean    4.409676   0.491970  \nstd     2.131921   0.220583  \nmin     0.898780   0.225723  \n25%     3.098204   0.323095  \n50%     4.146450   0.448019  \n75%     5.370927   0.566968  \nmax    10.245620   1.152708  ",
      "text/html": "<div>\n<style scoped>\n    .dataframe tbody tr th:only-of-type {\n        vertical-align: middle;\n    }\n\n    .dataframe tbody tr th {\n        vertical-align: top;\n    }\n\n    .dataframe thead th {\n        text-align: right;\n    }\n</style>\n<table border=\"1\" class=\"dataframe\">\n  <thead>\n    <tr style=\"text-align: right;\">\n      <th></th>\n      <th>0</th>\n      <th>1</th>\n      <th>2</th>\n      <th>3</th>\n      <th>4</th>\n      <th>5</th>\n      <th>6</th>\n      <th>7</th>\n    </tr>\n  </thead>\n  <tbody>\n    <tr>\n      <th>count</th>\n      <td>40.000000</td>\n      <td>40.000000</td>\n      <td>40.000000</td>\n      <td>40.000000</td>\n      <td>40.000000</td>\n      <td>40.000000</td>\n      <td>40.000000</td>\n      <td>40.000000</td>\n    </tr>\n    <tr>\n      <th>mean</th>\n      <td>0.298261</td>\n      <td>0.001499</td>\n      <td>0.102183</td>\n      <td>0.440094</td>\n      <td>0.199617</td>\n      <td>0.191154</td>\n      <td>4.409676</td>\n      <td>0.491970</td>\n    </tr>\n    <tr>\n      <th>std</th>\n      <td>0.117970</td>\n      <td>0.000969</td>\n      <td>0.036046</td>\n      <td>0.186114</td>\n      <td>0.089511</td>\n      <td>0.087244</td>\n      <td>2.131921</td>\n      <td>0.220583</td>\n    </tr>\n    <tr>\n      <th>min</th>\n      <td>0.164589</td>\n      <td>0.000416</td>\n      <td>0.063595</td>\n      <td>0.216792</td>\n      <td>0.108433</td>\n      <td>0.104222</td>\n      <td>0.898780</td>\n      <td>0.225723</td>\n    </tr>\n    <tr>\n      <th>25%</th>\n      <td>0.205064</td>\n      <td>0.000920</td>\n      <td>0.073833</td>\n      <td>0.295140</td>\n      <td>0.134761</td>\n      <td>0.129494</td>\n      <td>3.098204</td>\n      <td>0.323095</td>\n    </tr>\n    <tr>\n      <th>50%</th>\n      <td>0.272573</td>\n      <td>0.001299</td>\n      <td>0.091551</td>\n      <td>0.409765</td>\n      <td>0.168387</td>\n      <td>0.164617</td>\n      <td>4.146450</td>\n      <td>0.448019</td>\n    </tr>\n    <tr>\n      <th>75%</th>\n      <td>0.386644</td>\n      <td>0.001793</td>\n      <td>0.119672</td>\n      <td>0.527218</td>\n      <td>0.235353</td>\n      <td>0.219130</td>\n      <td>5.370927</td>\n      <td>0.566968</td>\n    </tr>\n    <tr>\n      <th>max</th>\n      <td>0.661787</td>\n      <td>0.004861</td>\n      <td>0.220363</td>\n      <td>1.000114</td>\n      <td>0.476754</td>\n      <td>0.450104</td>\n      <td>10.245620</td>\n      <td>1.152708</td>\n    </tr>\n  </tbody>\n</table>\n</div>"
     },
     "execution_count": 22,
     "metadata": {},
     "output_type": "execute_result"
    }
   ],
   "source": [
    "small_ = pd.DataFrame(small[0])\n",
    "small_.describe()"
   ],
   "metadata": {
    "collapsed": false,
    "ExecuteTime": {
     "end_time": "2023-08-02T01:07:56.152910Z",
     "start_time": "2023-08-02T01:07:56.142753Z"
    }
   }
  },
  {
   "cell_type": "code",
   "execution_count": 39,
   "outputs": [
    {
     "data": {
      "text/plain": "array([[6.13583108e-01, 5.54602297e-04, 1.82868607e-01, 1.00011383e+00,\n        4.76754053e-01, 4.50104438e-01, 6.67434047e+00, 1.15270770e+00,\n        1.00000000e+02],\n       [3.85600669e-01, 4.16048480e-04, 1.31930708e-01, 4.38974988e-01,\n        2.25667604e-01, 2.10073665e-01, 4.62321334e+00, 5.41324898e-01,\n        1.00000000e+02],\n       [4.22244842e-01, 4.83003359e-04, 1.17908786e-01, 4.30848594e-01,\n        2.12756775e-01, 2.01435301e-01, 4.46106534e+00, 5.58289852e-01,\n        1.00000000e+02],\n       [2.71518018e-01, 6.75513951e-04, 8.45354460e-02, 2.87783588e-01,\n        1.56723154e-01, 1.49079769e-01, 3.90306137e+00, 3.01149892e-01,\n        1.00000000e+02],\n       [3.89773790e-01, 1.08691918e-03, 1.25594871e-01, 5.93368111e-01,\n        2.90643601e-01, 2.96395635e-01, 2.73435094e+00, 5.87191767e-01,\n        1.00000000e+02],\n       [3.01891890e-01, 4.56830797e-03, 1.30438913e-01, 4.61834215e-01,\n        2.47180049e-01, 2.40001284e-01, 3.03369236e+00, 5.56489551e-01,\n        1.00000000e+02],\n       [1.98660288e-01, 1.41513871e-03, 7.34595565e-02, 3.12761410e-01,\n        1.24443856e-01, 1.14855303e-01, 1.83733220e+00, 3.53360144e-01,\n        1.00000000e+02],\n       [1.64588994e-01, 8.67280284e-04, 6.56150412e-02, 2.71390564e-01,\n        1.18279819e-01, 1.09645966e-01, 1.40187275e+00, 2.67836657e-01,\n        1.00000000e+02],\n       [2.96319483e-01, 6.86303512e-04, 6.99924799e-02, 5.18557547e-01,\n        1.63522902e-01, 1.47498964e-01, 5.72313170e+00, 5.50848635e-01,\n        1.00000000e+02],\n       [3.64777077e-01, 1.30809929e-03, 9.93279338e-02, 3.91521603e-01,\n        2.15685885e-01, 2.14150002e-01, 5.25352559e+00, 3.77942056e-01,\n        1.00000000e+02],\n       [2.49807700e-01, 1.26462531e-03, 9.67478127e-02, 2.97592139e-01,\n        1.70417623e-01, 1.63572843e-01, 4.09578833e+00, 2.91111050e-01,\n        1.00000000e+02],\n       [1.66279371e-01, 2.24716975e-03, 6.93092352e-02, 2.25862078e-01,\n        1.11867393e-01, 1.11326102e-01, 3.79580556e+00, 2.50836607e-01,\n        1.00000000e+02],\n       [2.73627805e-01, 5.03208894e-04, 1.04112232e-01, 5.15152801e-01,\n        1.56877584e-01, 1.41269347e-01, 4.19711156e+00, 5.60227364e-01,\n        1.00000000e+02],\n       [3.02266420e-01, 2.00062082e-03, 9.51329604e-02, 4.26059204e-01,\n        2.05903244e-01, 1.96441804e-01, 3.44248094e+00, 5.09610373e-01,\n        1.00000000e+02],\n       [2.35653959e-01, 1.52151149e-03, 7.96237012e-02, 3.02605736e-01,\n        1.66356902e-01, 1.65660300e-01, 3.11970805e+00, 3.56151205e-01,\n        1.00000000e+02],\n       [1.99415472e-01, 1.84155137e-03, 6.61513982e-02, 2.53434550e-01,\n        1.21694606e-01, 1.16737154e-01, 2.57664274e+00, 2.55973535e-01,\n        1.00000000e+02],\n       [2.63626990e-01, 9.37919698e-04, 1.11290181e-01, 4.08859027e-01,\n        1.80076118e-01, 1.67719859e-01, 4.71625553e+00, 4.08198605e-01,\n        1.00000000e+02],\n       [2.09225162e-01, 1.07064685e-03, 8.84097020e-02, 3.99925380e-01,\n        1.46325383e-01, 1.35224120e-01, 4.83945549e+00, 4.59583416e-01,\n        1.00000000e+02],\n       [2.06946925e-01, 1.75983843e-03, 9.21686515e-02, 2.59572749e-01,\n        1.53350577e-01, 1.50516051e-01, 3.20924933e+00, 2.66603466e-01,\n        1.00000000e+02],\n       [1.65174725e-01, 1.28931593e-03, 6.81493664e-02, 2.18190823e-01,\n        1.11653488e-01, 1.06486030e-01, 2.68013440e+00, 2.25723464e-01,\n        1.00000000e+02],\n       [3.91160937e-01, 1.86439447e-03, 1.22825613e-01, 5.14465338e-01,\n        2.31410178e-01, 2.11057978e-01, 7.62037542e+00, 5.12265296e-01,\n        1.00000000e+02],\n       [4.43868104e-01, 2.20592727e-03, 1.63771925e-01, 6.15877062e-01,\n        3.39327904e-01, 3.36424249e-01, 7.04581572e+00, 6.62712181e-01,\n        1.00000000e+02],\n       [2.96008134e-01, 3.07492297e-03, 1.00857019e-01, 4.10670124e-01,\n        1.80500179e-01, 1.72969535e-01, 8.43275890e+00, 4.36454291e-01,\n        1.00000000e+02],\n       [1.85721270e-01, 9.69002574e-04, 6.81332596e-02, 3.08385252e-01,\n        1.24861485e-01, 1.19726200e-01, 4.58243775e+00, 3.43454939e-01,\n        1.00000000e+02],\n       [4.20098931e-01, 1.38687274e-03, 1.18620524e-01, 7.07011351e-01,\n        3.05200398e-01, 3.01124724e-01, 7.93781651e+00, 9.49572885e-01,\n        1.00000000e+02],\n       [2.65548816e-01, 1.94603511e-03, 8.12298692e-02, 4.23832518e-01,\n        1.91323471e-01, 1.96689971e-01, 6.04659163e+00, 5.19312484e-01,\n        1.00000000e+02],\n       [2.09097320e-01, 1.45852013e-03, 8.90097338e-02, 3.03318677e-01,\n        1.42239613e-01, 1.34985847e-01, 3.49576402e+00, 3.28338941e-01,\n        1.00000000e+02],\n       [1.68912091e-01, 1.58488328e-03, 6.42279762e-02, 2.16791664e-01,\n        1.08433007e-01, 1.04222230e-01, 3.47724014e+00, 2.38812751e-01,\n        1.00000000e+02],\n       [3.89992285e-01, 1.02703863e-03, 1.70870421e-01, 6.94152215e-01,\n        3.38351468e-01, 3.31132065e-01, 1.73357269e+00, 7.28031568e-01,\n        1.00000000e+02],\n       [3.23088127e-01, 1.04202013e-03, 1.44948008e-01, 5.53201339e-01,\n        2.48131091e-01, 2.34071033e-01, 1.24577854e+00, 7.44899121e-01,\n        1.00000000e+02],\n       [1.83834757e-01, 5.87785665e-04, 8.39086549e-02, 3.15064472e-01,\n        1.31139257e-01, 1.26227337e-01, 1.25092340e+00, 3.24300882e-01,\n        1.00000000e+02],\n       [1.82987121e-01, 8.32511094e-04, 7.72304110e-02, 2.86510869e-01,\n        1.35967621e-01, 1.30582629e-01, 8.98779837e-01, 3.19478612e-01,\n        1.00000000e+02],\n       [6.61787027e-01, 1.77625304e-03, 2.20363074e-01, 9.04827258e-01,\n        4.57996281e-01, 4.42779627e-01, 5.10111005e+00, 9.16919185e-01,\n        1.00000000e+02],\n       [4.25625937e-01, 4.86059666e-03, 1.32338838e-01, 6.29959556e-01,\n        2.94559725e-01, 2.83029572e-01, 5.18734113e+00, 8.23305668e-01,\n        1.00000000e+02],\n       [2.89587385e-01, 1.07993951e-03, 9.09340598e-02, 4.64669711e-01,\n        1.50189744e-01, 1.40119530e-01, 4.96280883e+00, 5.46208500e-01,\n        1.00000000e+02],\n       [2.23852446e-01, 7.96771915e-04, 6.35951323e-02, 2.74681450e-01,\n        1.40935058e-01, 1.35135718e-01, 3.38742271e+00, 3.26828040e-01,\n        1.00000000e+02],\n       [4.46407145e-01, 1.07065645e-03, 8.93444315e-02, 5.87762105e-01,\n        1.93797560e-01, 1.78634422e-01, 1.02456195e+01, 6.66903843e-01,\n        1.00000000e+02],\n       [3.10198881e-01, 2.92657653e-03, 1.07419738e-01, 7.25753319e-01,\n        2.68249870e-01, 2.45555520e-01, 6.96707903e+00, 7.69919900e-01,\n        1.00000000e+02],\n       [2.43988427e-01, 1.49982074e-03, 7.09499008e-02, 3.81067819e-01,\n        1.29831640e-01, 1.23396667e-01, 6.58322908e+00, 4.01373940e-01,\n        1.00000000e+02],\n       [1.87704559e-01, 1.46773327e-03, 7.39574633e-02, 2.71362545e-01,\n        1.16050797e-01, 1.10105516e-01, 3.86636763e+00, 2.88549041e-01,\n        1.00000000e+02]])"
     },
     "execution_count": 39,
     "metadata": {},
     "output_type": "execute_result"
    }
   ],
   "source": [
    "np.concatenate((small[0], np.tile([100], reps=40)[:, np.newaxis]), axis=1)"
   ],
   "metadata": {
    "collapsed": false,
    "ExecuteTime": {
     "end_time": "2023-08-02T01:10:46.044873Z",
     "start_time": "2023-08-02T01:10:46.035656Z"
    }
   }
  },
  {
   "cell_type": "code",
   "execution_count": 40,
   "outputs": [],
   "source": [
    "# SMALL"
   ],
   "metadata": {
    "collapsed": false,
    "ExecuteTime": {
     "end_time": "2023-08-01T23:07:41.455594Z",
     "start_time": "2023-08-01T23:07:41.429601Z"
    }
   }
  },
  {
   "cell_type": "code",
   "execution_count": 5,
   "outputs": [
    {
     "data": {
      "text/plain": "array([[2, 4, 5, 3, 1],\n       [2, 4, 5, 3, 1]])"
     },
     "execution_count": 5,
     "metadata": {},
     "output_type": "execute_result"
    }
   ],
   "source": [
    "lel = np.array([[2,4,5,3,1],[2,4,5,3,1]])\n",
    "lel"
   ],
   "metadata": {
    "collapsed": false,
    "ExecuteTime": {
     "end_time": "2023-08-02T01:03:13.978854Z",
     "start_time": "2023-08-02T01:03:13.956677Z"
    }
   }
  },
  {
   "cell_type": "code",
   "execution_count": 6,
   "outputs": [],
   "source": [
    "size = 100"
   ],
   "metadata": {
    "collapsed": false,
    "ExecuteTime": {
     "end_time": "2023-08-02T01:03:28.042627Z",
     "start_time": "2023-08-02T01:03:27.995510Z"
    }
   }
  },
  {
   "cell_type": "code",
   "execution_count": 14,
   "outputs": [
    {
     "ename": "AxisError",
     "evalue": "axis 1 is out of bounds for array of dimension 1",
     "output_type": "error",
     "traceback": [
      "\u001B[0;31m---------------------------------------------------------------------------\u001B[0m",
      "\u001B[0;31mAxisError\u001B[0m                                 Traceback (most recent call last)",
      "Cell \u001B[0;32mIn[14], line 1\u001B[0m\n\u001B[0;32m----> 1\u001B[0m \u001B[43mnp\u001B[49m\u001B[38;5;241;43m.\u001B[39;49m\u001B[43mconcatenate\u001B[49m\u001B[43m(\u001B[49m\u001B[43m(\u001B[49m\u001B[43mlel\u001B[49m\u001B[43m[\u001B[49m\u001B[38;5;241;43m0\u001B[39;49m\u001B[43m,\u001B[49m\u001B[43m \u001B[49m\u001B[43m:\u001B[49m\u001B[43m]\u001B[49m\u001B[43m,\u001B[49m\u001B[43m \u001B[49m\u001B[43mnp\u001B[49m\u001B[38;5;241;43m.\u001B[39;49m\u001B[43marray\u001B[49m\u001B[43m(\u001B[49m\u001B[43m[\u001B[49m\u001B[38;5;241;43m100\u001B[39;49m\u001B[43m]\u001B[49m\u001B[43m)\u001B[49m\u001B[43m)\u001B[49m\u001B[43m,\u001B[49m\u001B[43m \u001B[49m\u001B[43maxis\u001B[49m\u001B[38;5;241;43m=\u001B[39;49m\u001B[38;5;241;43m1\u001B[39;49m\u001B[43m)\u001B[49m\n",
      "File \u001B[0;32m<__array_function__ internals>:180\u001B[0m, in \u001B[0;36mconcatenate\u001B[0;34m(*args, **kwargs)\u001B[0m\n",
      "\u001B[0;31mAxisError\u001B[0m: axis 1 is out of bounds for array of dimension 1"
     ]
    }
   ],
   "source": [
    "np.concatenate((lel[0, :], np.array([100])), axis=1)"
   ],
   "metadata": {
    "collapsed": false,
    "ExecuteTime": {
     "end_time": "2023-08-02T01:05:26.420945Z",
     "start_time": "2023-08-02T01:05:26.413093Z"
    }
   }
  },
  {
   "cell_type": "code",
   "execution_count": 19,
   "outputs": [
    {
     "data": {
      "text/plain": "(1, 1)"
     },
     "execution_count": 19,
     "metadata": {},
     "output_type": "execute_result"
    }
   ],
   "source": [
    "np.array([100])[:, np.newaxis].shape"
   ],
   "metadata": {
    "collapsed": false,
    "ExecuteTime": {
     "end_time": "2023-08-02T01:06:37.216445Z",
     "start_time": "2023-08-02T01:06:37.201858Z"
    }
   }
  },
  {
   "cell_type": "code",
   "execution_count": 20,
   "outputs": [
    {
     "data": {
      "text/plain": "(5,)"
     },
     "execution_count": 20,
     "metadata": {},
     "output_type": "execute_result"
    }
   ],
   "source": [
    "lel[0, :].shape"
   ],
   "metadata": {
    "collapsed": false,
    "ExecuteTime": {
     "end_time": "2023-08-02T01:06:46.593074Z",
     "start_time": "2023-08-02T01:06:46.557791Z"
    }
   }
  },
  {
   "cell_type": "code",
   "execution_count": 40,
   "outputs": [],
   "source": [
    "# open\n",
    "# LOAD JSON FILE\n",
    "file_name = \"results_simulated_setting1_1run(s).json\"\n",
    "f = open(file_name, 'r')\n",
    "json_str = f.read()\n",
    "with_sizes = jsonpickle.decode(json_str)"
   ],
   "metadata": {
    "collapsed": false,
    "ExecuteTime": {
     "end_time": "2023-08-02T01:21:25.815394Z",
     "start_time": "2023-08-02T01:21:25.784192Z"
    }
   }
  },
  {
   "cell_type": "code",
   "execution_count": 43,
   "outputs": [
    {
     "data": {
      "text/plain": "array([[1.27533510e+00, 3.17329919e-02, 1.05796466e+00, 1.38017194e+00,\n        1.13561290e+00, 1.77285295e+00, 5.76785698e+00, 2.61190515e+00,\n        5.00000000e+01],\n       [7.32655238e-01, 1.02838449e-01, 6.03403846e-01, 1.10197551e+00,\n        5.07274411e-01, 7.62102739e-01, 4.47366445e+00, 1.21643906e+01,\n        1.00000000e+02],\n       [8.44374992e-01, 8.49113345e-03, 7.02883533e-01, 7.92215750e-01,\n        9.93697603e-01, 1.02193699e+00, 6.71089467e+00, 4.96652678e+00,\n        2.00000000e+02]])"
     },
     "execution_count": 43,
     "metadata": {},
     "output_type": "execute_result"
    }
   ],
   "source": [
    "with_sizes[2]"
   ],
   "metadata": {
    "collapsed": false,
    "ExecuteTime": {
     "end_time": "2023-08-02T01:21:42.009170Z",
     "start_time": "2023-08-02T01:21:41.999156Z"
    }
   }
  }
 ],
 "metadata": {
  "kernelspec": {
   "display_name": "Python 3",
   "language": "python",
   "name": "python3"
  },
  "language_info": {
   "codemirror_mode": {
    "name": "ipython",
    "version": 2
   },
   "file_extension": ".py",
   "mimetype": "text/x-python",
   "name": "python",
   "nbconvert_exporter": "python",
   "pygments_lexer": "ipython2",
   "version": "2.7.6"
  }
 },
 "nbformat": 4,
 "nbformat_minor": 0
}
