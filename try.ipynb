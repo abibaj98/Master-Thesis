{
 "cells": [
  {
   "cell_type": "code",
   "execution_count": 16,
   "outputs": [
    {
     "data": {
      "text/plain": "array([[0.61369386, 0.08354892, 0.58938069, ..., 0.81958122, 0.14306726,\n        0.71899902],\n       [0.94482668, 0.65343841, 0.26234572, ..., 0.62185733, 0.78818786,\n        0.21034116],\n       [0.69389205, 0.47378654, 0.89966069, ..., 0.46198304, 0.28976076,\n        0.06063857],\n       ...,\n       [0.42917833, 0.84910995, 0.38047632, ..., 0.15181142, 0.62156104,\n        0.09193815],\n       [0.05276337, 0.31210915, 0.92997643, ..., 0.0167727 , 0.30304912,\n        0.31030275],\n       [0.8463322 , 0.41837009, 0.60964907, ..., 0.25303421, 0.14439907,\n        0.75660583]])"
     },
     "execution_count": 16,
     "metadata": {},
     "output_type": "execute_result"
    }
   ],
   "source": [
    "import numpy as np\n",
    "\n",
    "a = np.random.rand(100,20)\n",
    "a"
   ],
   "metadata": {
    "collapsed": false,
    "ExecuteTime": {
     "end_time": "2023-07-13T18:59:14.946630Z",
     "start_time": "2023-07-13T18:59:14.939608Z"
    }
   }
  },
  {
   "cell_type": "code",
   "execution_count": null,
   "outputs": [],
   "source": [
    "# https://www.tomstesco.com/euler-hpc-cluster/ --> HOW TO RUN ON CLUSTER!!"
   ],
   "metadata": {
    "collapsed": false
   }
  },
  {
   "cell_type": "code",
   "execution_count": 17,
   "outputs": [],
   "source": [
    "np.savetxt(\"try.csv\", a, delimiter=',')"
   ],
   "metadata": {
    "collapsed": false,
    "ExecuteTime": {
     "end_time": "2023-07-13T18:59:38.085864Z",
     "start_time": "2023-07-13T18:59:38.075668Z"
    }
   }
  },
  {
   "cell_type": "code",
   "execution_count": 19,
   "outputs": [
    {
     "data": {
      "text/plain": "array([[0.61369386, 0.08354892, 0.58938069, ..., 0.81958122, 0.14306726,\n        0.71899902],\n       [0.94482668, 0.65343841, 0.26234572, ..., 0.62185733, 0.78818786,\n        0.21034116],\n       [0.69389205, 0.47378654, 0.89966069, ..., 0.46198304, 0.28976076,\n        0.06063857],\n       ...,\n       [0.42917833, 0.84910995, 0.38047632, ..., 0.15181142, 0.62156104,\n        0.09193815],\n       [0.05276337, 0.31210915, 0.92997643, ..., 0.0167727 , 0.30304912,\n        0.31030275],\n       [0.8463322 , 0.41837009, 0.60964907, ..., 0.25303421, 0.14439907,\n        0.75660583]])"
     },
     "execution_count": 19,
     "metadata": {},
     "output_type": "execute_result"
    }
   ],
   "source": [
    "b = np.loadtxt(\"try.csv\", delimiter=',')\n",
    "b"
   ],
   "metadata": {
    "collapsed": false,
    "ExecuteTime": {
     "end_time": "2023-07-13T19:00:02.217290Z",
     "start_time": "2023-07-13T19:00:02.208525Z"
    }
   }
  },
  {
   "cell_type": "code",
   "execution_count": 20,
   "outputs": [
    {
     "data": {
      "text/plain": "array([[ True,  True,  True, ...,  True,  True,  True],\n       [ True,  True,  True, ...,  True,  True,  True],\n       [ True,  True,  True, ...,  True,  True,  True],\n       ...,\n       [ True,  True,  True, ...,  True,  True,  True],\n       [ True,  True,  True, ...,  True,  True,  True],\n       [ True,  True,  True, ...,  True,  True,  True]])"
     },
     "execution_count": 20,
     "metadata": {},
     "output_type": "execute_result"
    }
   ],
   "source": [
    "a == b"
   ],
   "metadata": {
    "collapsed": false,
    "ExecuteTime": {
     "end_time": "2023-07-13T19:00:06.031769Z",
     "start_time": "2023-07-13T19:00:06.026541Z"
    }
   }
  },
  {
   "cell_type": "code",
   "execution_count": 21,
   "outputs": [
    {
     "data": {
      "text/plain": "True"
     },
     "execution_count": 21,
     "metadata": {},
     "output_type": "execute_result"
    }
   ],
   "source": [
    "np.array_equal(a, b)"
   ],
   "metadata": {
    "collapsed": false,
    "ExecuteTime": {
     "end_time": "2023-07-13T19:00:40.775385Z",
     "start_time": "2023-07-13T19:00:40.763740Z"
    }
   }
  },
  {
   "cell_type": "code",
   "execution_count": 23,
   "outputs": [],
   "source": [
    "import pickle"
   ],
   "metadata": {
    "collapsed": false,
    "ExecuteTime": {
     "end_time": "2023-07-13T19:10:38.081946Z",
     "start_time": "2023-07-13T19:10:38.078549Z"
    }
   }
  },
  {
   "cell_type": "code",
   "execution_count": 24,
   "outputs": [],
   "source": [
    "file_name = \"/Users/arberimbibaj/Documents/Master Thesis ETH/DataSets /Generated/data_synthetic.pkl\"\n",
    "open_file = open(file_name, \"rb\")\n",
    "data = pickle.load(open_file)\n",
    "open_file.close()"
   ],
   "metadata": {
    "collapsed": false,
    "ExecuteTime": {
     "end_time": "2023-07-13T19:10:38.577471Z",
     "start_time": "2023-07-13T19:10:38.554517Z"
    }
   }
  },
  {
   "cell_type": "code",
   "execution_count": 47,
   "outputs": [
    {
     "data": {
      "text/plain": "array([[-9.40191676e+00, -3.09807076e+00,  1.95281073e+00, ...,\n        -2.11360664e+00,  0.00000000e+00,  0.00000000e+00],\n       [-1.12325776e+00,  4.84823869e-01,  4.85246889e-01, ...,\n         5.60131822e-01,  0.00000000e+00,  4.14461471e-01],\n       [ 1.00145978e+00,  9.53999288e-01,  2.08223387e+00, ...,\n         1.57723647e+00,  0.00000000e+00,  1.99142701e+00],\n       ...,\n       [-3.56914230e-01,  7.65487969e-02, -1.13239270e+00, ...,\n         2.64481656e-02,  0.00000000e+00,  3.83920673e-11],\n       [-4.88461922e+00, -1.50630822e+00,  2.10757262e-01, ...,\n        -1.00177510e+00,  0.00000000e+00,  2.11031193e-12],\n       [-3.75432969e+00, -1.12508111e+00,  2.82869238e-01, ...,\n        -9.01363700e-01,  0.00000000e+00,  4.67016648e-10]])"
     },
     "execution_count": 47,
     "metadata": {},
     "output_type": "execute_result"
    }
   ],
   "source": [
    "data[27][3][4][1]"
   ],
   "metadata": {
    "collapsed": false,
    "ExecuteTime": {
     "end_time": "2023-07-13T19:12:27.369664Z",
     "start_time": "2023-07-13T19:12:27.366972Z"
    }
   }
  },
  {
   "cell_type": "code",
   "execution_count": null,
   "outputs": [],
   "source": [],
   "metadata": {
    "collapsed": false
   }
  }
 ],
 "metadata": {
  "kernelspec": {
   "display_name": "Python 3",
   "language": "python",
   "name": "python3"
  },
  "language_info": {
   "codemirror_mode": {
    "name": "ipython",
    "version": 2
   },
   "file_extension": ".py",
   "mimetype": "text/x-python",
   "name": "python",
   "nbconvert_exporter": "python",
   "pygments_lexer": "ipython2",
   "version": "2.7.6"
  }
 },
 "nbformat": 4,
 "nbformat_minor": 0
}
