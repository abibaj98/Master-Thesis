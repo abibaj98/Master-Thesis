{
 "cells": [
  {
   "cell_type": "code",
   "execution_count": 1,
   "metadata": {
    "collapsed": true,
    "ExecuteTime": {
     "end_time": "2023-07-31T00:01:45.738494Z",
     "start_time": "2023-07-31T00:01:45.709374Z"
    }
   },
   "outputs": [],
   "source": [
    "import numpy as np\n",
    "import jsonpickle\n",
    "import seaborn as sns\n",
    "import pandas as pd"
   ]
  },
  {
   "cell_type": "code",
   "execution_count": null,
   "outputs": [],
   "source": [
    "# open\n",
    "# LOAD JSON FILE\n",
    "file_name = \"/Users/arberimbibaj/results.json\"\n",
    "f = open(file_name, 'r')\n",
    "json_str = f.read()\n",
    "results_all = jsonpickle.decode(json_str)"
   ],
   "metadata": {
    "collapsed": false
   }
  },
  {
   "cell_type": "code",
   "execution_count": null,
   "outputs": [],
   "source": [
    "results_all[0][0]"
   ],
   "metadata": {
    "collapsed": false
   }
  },
  {
   "cell_type": "code",
   "execution_count": null,
   "outputs": [],
   "source": [
    "# S-Learner best, X_learner good, T, DR, RA, also good, only PW-bad\n",
    "# almost same as one, PW also good?\n",
    "# X-learner best, S-learner worst (PW actually worst, but extreme)\n",
    "# X-learner best, DR/PW also good, rest oke (PW very bad)\n",
    "# T-learner best?, R/RA very good\n",
    "# X-learner best, but S/T/DR/RA all very good\n",
    "# S-learner best, then X-learner\n",
    "# S-learner best,\n",
    "# X-learner best, (especially for RF)\n",
    "# X-learner best,\n",
    "# T-learner best\n",
    "# S-learner best?, T/X/DR/RA all very good\n",
    "# S-learner best, X also very good\n",
    "# S-learner best, X also very good, R bad\n",
    "# X-learner best, DR-learner also very good\n",
    "# X-learner best, DR/RA good but then at siz=5000 bad?\n",
    "# DR/RA best, X also very good\n",
    "# S-learner best ??? probably because the cates are not scaled enough\n",
    "# S-learner best\n",
    "# S-learner best\n",
    "# X best, DR/RA very good\n",
    "# X best, DR/RA very good,\n",
    "# X best, but all perform a bit bad\n",
    "# T, S, X R DR all good, probably because of not scalling"
   ],
   "metadata": {
    "collapsed": false
   }
  },
  {
   "cell_type": "code",
   "execution_count": null,
   "outputs": [],
   "source": [
    "# CONCLUSIONS\n",
    "# -----------\n",
    "\n",
    "# 1: If zero cate --> S-learner is the best, X-learner also performs good\n",
    "# 2: If simple cate --> X-learner is the best, often DR/RA/R learner also perform good\n",
    "# 3: if complex cate --> T very good, somehow S-learner also good (probably to bad scalling of outcomes), DR/RA/R learner also good\n",
    "# 4: PW learner very bad mostly, U-learner also not good\n",
    "\n",
    "# Base learners\n",
    "# -------------\n",
    "# RF and Linear model seem to be more stable than Neural Network, at least with these hyperparameters.\n",
    "# All \"pseudo-outome\" metalearners very bad with Neural Network??? --> probably the classification task is bad"
   ],
   "metadata": {
    "collapsed": false
   }
  },
  {
   "cell_type": "code",
   "execution_count": null,
   "outputs": [],
   "source": [],
   "metadata": {
    "collapsed": false
   }
  },
  {
   "cell_type": "markdown",
   "source": [
    "12 setups"
   ],
   "metadata": {
    "collapsed": false
   }
  },
  {
   "cell_type": "code",
   "execution_count": null,
   "outputs": [],
   "source": [
    "# open\n",
    "# LOAD JSON FILE\n",
    "file_name = \"/Users/arberimbibaj/results_12_setups_no_cv.json\"\n",
    "f = open(file_name, 'r')\n",
    "json_str = f.read()\n",
    "results_12 = jsonpickle.decode(json_str)"
   ],
   "metadata": {
    "collapsed": false
   }
  },
  {
   "cell_type": "code",
   "execution_count": null,
   "outputs": [],
   "source": [
    "results_12[11][0]"
   ],
   "metadata": {
    "collapsed": false
   }
  },
  {
   "cell_type": "code",
   "execution_count": null,
   "outputs": [],
   "source": [
    "# S-learner best\n",
    "# S learner best\n",
    "# X-learner best, DR/RA very good\n",
    "# X-learner best, DR/RA very good, S bad\n",
    "# R learner best\n",
    "# S-learner best--> because most Ys are near zero!!!, else, DR/RA very good and also X/T learner\n",
    "\n",
    "\n",
    "# CONCLUSION\n",
    "# looks to make sense, PW is bad\n",
    "\n"
   ],
   "metadata": {
    "collapsed": false
   }
  },
  {
   "cell_type": "code",
   "execution_count": null,
   "outputs": [],
   "source": [
    "# open\n",
    "# LOAD JSON FILE\n",
    "file_name = \"check_repro.json\"\n",
    "f = open(file_name, 'r')\n",
    "json_str = f.read()\n",
    "check = jsonpickle.decode(json_str)"
   ],
   "metadata": {
    "collapsed": false
   }
  },
  {
   "cell_type": "code",
   "execution_count": null,
   "outputs": [],
   "source": [
    "check[1][0]"
   ],
   "metadata": {
    "collapsed": false
   }
  },
  {
   "cell_type": "markdown",
   "source": [
    "with cross-fitting"
   ],
   "metadata": {
    "collapsed": false
   }
  },
  {
   "cell_type": "code",
   "execution_count": null,
   "outputs": [],
   "source": [
    "# open\n",
    "# LOAD JSON FILE\n",
    "file_name = \"/Users/arberimbibaj/results_12_setups.json\"\n",
    "f = open(file_name, 'r')\n",
    "json_str = f.read()\n",
    "results_cf = jsonpickle.decode(json_str)"
   ],
   "metadata": {
    "collapsed": false
   }
  },
  {
   "cell_type": "code",
   "execution_count": null,
   "outputs": [],
   "source": [
    "results_cf[11][2]"
   ],
   "metadata": {
    "collapsed": false
   }
  },
  {
   "cell_type": "code",
   "execution_count": null,
   "outputs": [],
   "source": [
    "# OK nice\n",
    "\n",
    "# much better with cross-fitting now!!"
   ],
   "metadata": {
    "collapsed": false
   }
  },
  {
   "cell_type": "markdown",
   "source": [
    "IHDP"
   ],
   "metadata": {
    "collapsed": false
   }
  },
  {
   "cell_type": "code",
   "execution_count": null,
   "outputs": [],
   "source": [
    "# open\n",
    "# LOAD JSON FILE\n",
    "file_name = \"results_ihdp.json\"\n",
    "f = open(file_name, 'r')\n",
    "json_str = f.read()\n",
    "ihdp_results = jsonpickle.decode(json_str)"
   ],
   "metadata": {
    "collapsed": false
   }
  },
  {
   "cell_type": "code",
   "execution_count": null,
   "outputs": [],
   "source": [
    "ihdp_results[2]"
   ],
   "metadata": {
    "collapsed": false
   }
  },
  {
   "cell_type": "code",
   "execution_count": null,
   "outputs": [],
   "source": [
    "# open\n",
    "# LOAD JSON FILE\n",
    "file_name = \"results_ihdp_no_cross.json\"\n",
    "f = open(file_name, 'r')\n",
    "json_str = f.read()\n",
    "ihdp_results_no_cross = jsonpickle.decode(json_str)"
   ],
   "metadata": {
    "collapsed": false
   }
  },
  {
   "cell_type": "code",
   "execution_count": null,
   "outputs": [],
   "source": [
    "ihdp_results_no_cross[2]"
   ],
   "metadata": {
    "collapsed": false
   }
  },
  {
   "cell_type": "code",
   "execution_count": null,
   "outputs": [],
   "source": [
    "# better than cross-fitting"
   ],
   "metadata": {
    "collapsed": false
   }
  },
  {
   "cell_type": "code",
   "execution_count": null,
   "outputs": [],
   "source": [
    "# open\n",
    "# LOAD JSON FILE\n",
    "file_name = \"results_ihdp_no_cross_.json\"\n",
    "f = open(file_name, 'r')\n",
    "json_str = f.read()\n",
    "ihdp_results_no_cross_ = jsonpickle.decode(json_str)"
   ],
   "metadata": {
    "collapsed": false
   }
  },
  {
   "cell_type": "code",
   "execution_count": null,
   "outputs": [],
   "source": [
    "ihdp_results_no_cross_[2]"
   ],
   "metadata": {
    "collapsed": false
   }
  },
  {
   "cell_type": "code",
   "execution_count": null,
   "outputs": [],
   "source": [
    "# open\n",
    "# LOAD JSON FILE\n",
    "file_name = \"results_ihdp_no_cross_.json\"\n",
    "f = open(file_name, 'r')\n",
    "json_str = f.read()\n",
    "ihdp_results_no_cross_ = jsonpickle.decode(json_str)"
   ],
   "metadata": {
    "collapsed": false
   }
  },
  {
   "cell_type": "code",
   "execution_count": null,
   "outputs": [],
   "source": [
    "ihdp_results_no_cross_[0]"
   ],
   "metadata": {
    "collapsed": false
   }
  },
  {
   "cell_type": "code",
   "execution_count": null,
   "outputs": [],
   "source": [
    "# open\n",
    "# LOAD JSON FILE\n",
    "file_name = \"/Users/arberimbibaj/results_ihdp_1e-0.json\"\n",
    "f = open(file_name, 'r')\n",
    "json_str = f.read()\n",
    "ihdp_results_1 = jsonpickle.decode(json_str)"
   ],
   "metadata": {
    "collapsed": false
   }
  },
  {
   "cell_type": "code",
   "execution_count": null,
   "outputs": [],
   "source": [
    "ihdp_results_1[2]"
   ],
   "metadata": {
    "collapsed": false
   }
  },
  {
   "cell_type": "code",
   "execution_count": null,
   "outputs": [],
   "source": [
    "# open\n",
    "# LOAD JSON FILE\n",
    "file_name = \"/Users/arberimbibaj/results_ihdp_1e-4.json\"\n",
    "f = open(file_name, 'r')\n",
    "json_str = f.read()\n",
    "ihdp_results_4 = jsonpickle.decode(json_str)"
   ],
   "metadata": {
    "collapsed": false
   }
  },
  {
   "cell_type": "code",
   "execution_count": null,
   "outputs": [],
   "source": [
    "ihdp_results_4[2]"
   ],
   "metadata": {
    "collapsed": false
   }
  },
  {
   "cell_type": "code",
   "execution_count": null,
   "outputs": [],
   "source": [
    "# open\n",
    "# LOAD JSON FILE\n",
    "file_name = \"/Users/arberimbibaj/results_ihdp_1e-2.json\"\n",
    "f = open(file_name, 'r')\n",
    "json_str = f.read()\n",
    "ihdp_results_2 = jsonpickle.decode(json_str)"
   ],
   "metadata": {
    "collapsed": false
   }
  },
  {
   "cell_type": "code",
   "execution_count": null,
   "outputs": [],
   "source": [
    "ihdp_results_2[2]"
   ],
   "metadata": {
    "collapsed": false
   }
  },
  {
   "cell_type": "code",
   "execution_count": null,
   "outputs": [],
   "source": [
    "# open\n",
    "# LOAD JSON FILE\n",
    "file_name = \"/Users/arberimbibaj/results_ihdp_1e-3.json\"\n",
    "f = open(file_name, 'r')\n",
    "json_str = f.read()\n",
    "ihdp_results_3 = jsonpickle.decode(json_str)"
   ],
   "metadata": {
    "collapsed": false
   }
  },
  {
   "cell_type": "code",
   "execution_count": null,
   "outputs": [],
   "source": [
    "ihdp_results_3[2]"
   ],
   "metadata": {
    "collapsed": false
   }
  },
  {
   "cell_type": "code",
   "execution_count": 3,
   "outputs": [],
   "source": [
    "# open\n",
    "# LOAD JSON FILE\n",
    "file_name = \"/Users/arberimbibaj/results_setup_2_old.json\"\n",
    "f = open(file_name, 'r')\n",
    "json_str = f.read()\n",
    "data = jsonpickle.decode(json_str)"
   ],
   "metadata": {
    "collapsed": false,
    "ExecuteTime": {
     "end_time": "2023-07-31T00:01:53.109989Z",
     "start_time": "2023-07-31T00:01:53.069206Z"
    }
   }
  },
  {
   "cell_type": "code",
   "execution_count": null,
   "outputs": [],
   "source": [
    "metalearner_names = ['T-Learner', 'S-Learner', 'X-Learner', 'R-Leaner', 'DR-Learner', 'RA-Leaner', 'PW-Leaner',\n",
    "                     'U-Learner']\n",
    "metalearner_names = np.repeat(metalearner_names, 40)\n",
    "metalearner_names = np.tile(metalearner_names, 3)\n",
    "metalearner_names = np.array(metalearner_names)[:, np.newaxis]"
   ],
   "metadata": {
    "collapsed": false
   }
  },
  {
   "cell_type": "code",
   "execution_count": null,
   "outputs": [],
   "source": [
    "baselearner_names = [\"random forest\", \"linear models\", \"neural network\"]\n",
    "baselearner_names = np.repeat(baselearner_names, 320)\n",
    "baselearner_names = np.array(baselearner_names)[:, np.newaxis]\n",
    "baselearner_names"
   ],
   "metadata": {
    "collapsed": false
   }
  },
  {
   "cell_type": "code",
   "execution_count": null,
   "outputs": [],
   "source": [
    "sample_sizes = np.tile([500, 1000, 2000, 5000], 240)[:, np.newaxis]\n",
    "sample_sizes"
   ],
   "metadata": {
    "collapsed": false
   }
  },
  {
   "cell_type": "code",
   "execution_count": null,
   "outputs": [],
   "source": [
    "# using dictionary to convert specific columns\n",
    "convert_dict = {'mse': float,\n",
    "                'size': int,\n",
    "                'metalearner': 'category',\n",
    "                'baselearner': 'category'\n",
    "                }\n",
    "data = data.astype(convert_dict)"
   ],
   "metadata": {
    "collapsed": false
   }
  },
  {
   "cell_type": "code",
   "execution_count": 2,
   "outputs": [],
   "source": [
    "def process_data_plot(results):\n",
    "    # flatten and concatenate results\n",
    "    rf_results = results[0].flatten('F')[:, np.newaxis]\n",
    "    lm_results = results[1].flatten('F')[:, np.newaxis]\n",
    "    nn_results = results[2].flatten('F')[:, np.newaxis]\n",
    "    all_results = np.concatenate((rf_results, lm_results, nn_results))\n",
    "    # add names\n",
    "    metalearner_names = ['T-Learner', 'S-Learner', 'X-Learner', 'R-Leaner', 'DR-Learner', 'RA-Leaner', 'PW-Leaner',\n",
    "                         'U-Learner']\n",
    "    metalearner_names = np.repeat(metalearner_names, 40)\n",
    "    metalearner_names = np.tile(metalearner_names, 3)\n",
    "    metalearner_names = np.array(metalearner_names)[:, np.newaxis]\n",
    "    baselearner_names = [\"random forest\", \"linear models\", \"neural network\"]\n",
    "    baselearner_names = np.repeat(baselearner_names, 320)\n",
    "    baselearner_names = np.array(baselearner_names)[:, np.newaxis]\n",
    "    # sample sizes\n",
    "    sample_sizes = np.tile([500, 1000, 2000, 5000], 240)[:, np.newaxis]\n",
    "    # concatenate all\n",
    "    data = np.concatenate((all_results, sample_sizes, metalearner_names, baselearner_names), axis=1)\n",
    "    data = pd.DataFrame(data)\n",
    "    # add column name and specify data type\n",
    "    data.columns = ['mse', 'size', 'metalearner', 'baselearner']\n",
    "    convert_dict = {'mse': float,\n",
    "                    'size': int,\n",
    "                    'metalearner': 'category',\n",
    "                    'baselearner': 'category'\n",
    "                    }\n",
    "    data = data.astype(convert_dict)\n",
    "    return data\n"
   ],
   "metadata": {
    "collapsed": false,
    "ExecuteTime": {
     "end_time": "2023-07-31T00:01:49.021954Z",
     "start_time": "2023-07-31T00:01:48.989477Z"
    }
   }
  },
  {
   "cell_type": "code",
   "execution_count": 4,
   "outputs": [
    {
     "data": {
      "text/plain": "          mse  size metalearner     baselearner\n0    0.282195   500   T-Learner   random forest\n1    0.283615  1000   T-Learner   random forest\n2    0.154845  2000   T-Learner   random forest\n3    0.143210  5000   T-Learner   random forest\n4    0.471339   500   T-Learner   random forest\n..        ...   ...         ...             ...\n955  0.074031  5000   U-Learner  neural network\n956  0.103448   500   U-Learner  neural network\n957  0.102701  1000   U-Learner  neural network\n958  0.109714  2000   U-Learner  neural network\n959  0.056437  5000   U-Learner  neural network\n\n[960 rows x 4 columns]",
      "text/html": "<div>\n<style scoped>\n    .dataframe tbody tr th:only-of-type {\n        vertical-align: middle;\n    }\n\n    .dataframe tbody tr th {\n        vertical-align: top;\n    }\n\n    .dataframe thead th {\n        text-align: right;\n    }\n</style>\n<table border=\"1\" class=\"dataframe\">\n  <thead>\n    <tr style=\"text-align: right;\">\n      <th></th>\n      <th>mse</th>\n      <th>size</th>\n      <th>metalearner</th>\n      <th>baselearner</th>\n    </tr>\n  </thead>\n  <tbody>\n    <tr>\n      <th>0</th>\n      <td>0.282195</td>\n      <td>500</td>\n      <td>T-Learner</td>\n      <td>random forest</td>\n    </tr>\n    <tr>\n      <th>1</th>\n      <td>0.283615</td>\n      <td>1000</td>\n      <td>T-Learner</td>\n      <td>random forest</td>\n    </tr>\n    <tr>\n      <th>2</th>\n      <td>0.154845</td>\n      <td>2000</td>\n      <td>T-Learner</td>\n      <td>random forest</td>\n    </tr>\n    <tr>\n      <th>3</th>\n      <td>0.143210</td>\n      <td>5000</td>\n      <td>T-Learner</td>\n      <td>random forest</td>\n    </tr>\n    <tr>\n      <th>4</th>\n      <td>0.471339</td>\n      <td>500</td>\n      <td>T-Learner</td>\n      <td>random forest</td>\n    </tr>\n    <tr>\n      <th>...</th>\n      <td>...</td>\n      <td>...</td>\n      <td>...</td>\n      <td>...</td>\n    </tr>\n    <tr>\n      <th>955</th>\n      <td>0.074031</td>\n      <td>5000</td>\n      <td>U-Learner</td>\n      <td>neural network</td>\n    </tr>\n    <tr>\n      <th>956</th>\n      <td>0.103448</td>\n      <td>500</td>\n      <td>U-Learner</td>\n      <td>neural network</td>\n    </tr>\n    <tr>\n      <th>957</th>\n      <td>0.102701</td>\n      <td>1000</td>\n      <td>U-Learner</td>\n      <td>neural network</td>\n    </tr>\n    <tr>\n      <th>958</th>\n      <td>0.109714</td>\n      <td>2000</td>\n      <td>U-Learner</td>\n      <td>neural network</td>\n    </tr>\n    <tr>\n      <th>959</th>\n      <td>0.056437</td>\n      <td>5000</td>\n      <td>U-Learner</td>\n      <td>neural network</td>\n    </tr>\n  </tbody>\n</table>\n<p>960 rows × 4 columns</p>\n</div>"
     },
     "execution_count": 4,
     "metadata": {},
     "output_type": "execute_result"
    }
   ],
   "source": [
    "data = process_data_plot(data)\n",
    "data"
   ],
   "metadata": {
    "collapsed": false,
    "ExecuteTime": {
     "end_time": "2023-07-31T00:01:56.047142Z",
     "start_time": "2023-07-31T00:01:56.015519Z"
    }
   }
  },
  {
   "cell_type": "code",
   "execution_count": null,
   "outputs": [],
   "source": [
    "# open\n",
    "# LOAD JSON FILE\n",
    "file_name = \"/Users/arberimbibaj/results.json\"\n",
    "f = open(file_name, 'r')\n",
    "json_str = f.read()\n",
    "results_all = jsonpickle.decode(json_str)"
   ],
   "metadata": {
    "collapsed": false
   }
  },
  {
   "cell_type": "code",
   "execution_count": null,
   "outputs": [],
   "source": [
    "results_all[0][0]"
   ],
   "metadata": {
    "collapsed": false
   }
  },
  {
   "cell_type": "code",
   "execution_count": null,
   "outputs": [],
   "source": [
    "# S-Learner best, X_learner good, T, DR, RA, also good, only PW-bad\n",
    "# almost same as one, PW also good?\n",
    "# X-learner best, S-learner worst (PW actually worst, but extreme)\n",
    "# X-learner best, DR/PW also good, rest oke (PW very bad)\n",
    "# T-learner best?, R/RA very good\n",
    "# X-learner best, but S/T/DR/RA all very good\n",
    "# S-learner best, then X-learner\n",
    "# S-learner best,\n",
    "# X-learner best, (especially for RF)\n",
    "# X-learner best,\n",
    "# T-learner best\n",
    "# S-learner best?, T/X/DR/RA all very good\n",
    "# S-learner best, X also very good\n",
    "# S-learner best, X also very good, R bad\n",
    "# X-learner best, DR-learner also very good\n",
    "# X-learner best, DR/RA good but then at siz=5000 bad?\n",
    "# DR/RA best, X also very good\n",
    "# S-learner best ??? probably because the cates are not scaled enough\n",
    "# S-learner best\n",
    "# S-learner best\n",
    "# X best, DR/RA very good\n",
    "# X best, DR/RA very good,\n",
    "# X best, but all perform a bit bad\n",
    "# T, S, X R DR all good, probably because of not scalling"
   ],
   "metadata": {
    "collapsed": false
   }
  },
  {
   "cell_type": "code",
   "execution_count": null,
   "outputs": [],
   "source": [
    "# CONCLUSIONS\n",
    "# -----------\n",
    "\n",
    "# 1: If zero cate --> S-learner is the best, X-learner also performs good\n",
    "# 2: If simple cate --> X-learner is the best, often DR/RA/R learner also perform good\n",
    "# 3: if complex cate --> T very good, somehow S-learner also good (probably to bad scalling of outcomes), DR/RA/R learner also good\n",
    "# 4: PW learner very bad mostly, U-learner also not good\n",
    "\n",
    "# Base learners\n",
    "# -------------\n",
    "# RF and Linear model seem to be more stable than Neural Network, at least with these hyperparameters.\n",
    "# All \"pseudo-outome\" metalearners very bad with Neural Network??? --> probably the classification task is bad"
   ],
   "metadata": {
    "collapsed": false
   }
  },
  {
   "cell_type": "markdown",
   "source": [
    "12 setups"
   ],
   "metadata": {
    "collapsed": false
   }
  },
  {
   "cell_type": "code",
   "execution_count": null,
   "outputs": [],
   "source": [
    "# open\n",
    "# LOAD JSON FILE\n",
    "file_name = \"/Users/arberimbibaj/results_12_setups_no_cv.json\"\n",
    "f = open(file_name, 'r')\n",
    "json_str = f.read()\n",
    "results_12 = jsonpickle.decode(json_str)"
   ],
   "metadata": {
    "collapsed": false
   }
  },
  {
   "cell_type": "code",
   "execution_count": null,
   "outputs": [],
   "source": [
    "results_12[11][0]"
   ],
   "metadata": {
    "collapsed": false
   }
  },
  {
   "cell_type": "code",
   "execution_count": null,
   "outputs": [],
   "source": [
    "# S-learner best\n",
    "# S learner best\n",
    "# X-learner best, DR/RA very good\n",
    "# X-learner best, DR/RA very good, S bad\n",
    "# R learner best\n",
    "# S-learner best--> because most Ys are near zero!!!, else, DR/RA very good and also X/T learner\n",
    "\n",
    "\n",
    "# CONCLUSION\n",
    "# looks to make sense, PW is bad\n",
    "\n"
   ],
   "metadata": {
    "collapsed": false
   }
  },
  {
   "cell_type": "code",
   "execution_count": null,
   "outputs": [],
   "source": [
    "# open\n",
    "# LOAD JSON FILE\n",
    "file_name = \"check_repro.json\"\n",
    "f = open(file_name, 'r')\n",
    "json_str = f.read()\n",
    "check = jsonpickle.decode(json_str)"
   ],
   "metadata": {
    "collapsed": false
   }
  },
  {
   "cell_type": "code",
   "execution_count": null,
   "outputs": [],
   "source": [
    "check[1][0]"
   ],
   "metadata": {
    "collapsed": false
   }
  },
  {
   "cell_type": "markdown",
   "source": [
    "with cross-fitting"
   ],
   "metadata": {
    "collapsed": false
   }
  },
  {
   "cell_type": "code",
   "execution_count": null,
   "outputs": [],
   "source": [
    "# open\n",
    "# LOAD JSON FILE\n",
    "file_name = \"/Users/arberimbibaj/results_12_setups.json\"\n",
    "f = open(file_name, 'r')\n",
    "json_str = f.read()\n",
    "results_cf = jsonpickle.decode(json_str)"
   ],
   "metadata": {
    "collapsed": false
   }
  },
  {
   "cell_type": "code",
   "execution_count": null,
   "outputs": [],
   "source": [
    "results_cf[11][2]"
   ],
   "metadata": {
    "collapsed": false
   }
  },
  {
   "cell_type": "code",
   "execution_count": null,
   "outputs": [],
   "source": [
    "# OK nice\n",
    "# much better with cross-fitting now!!"
   ],
   "metadata": {
    "collapsed": false
   }
  },
  {
   "cell_type": "markdown",
   "source": [
    "IHDP"
   ],
   "metadata": {
    "collapsed": false
   }
  },
  {
   "cell_type": "code",
   "execution_count": null,
   "outputs": [],
   "source": [
    "# open\n",
    "# LOAD JSON FILE\n",
    "file_name = \"results_ihdp.json\"\n",
    "f = open(file_name, 'r')\n",
    "json_str = f.read()\n",
    "ihdp_results = jsonpickle.decode(json_str)"
   ],
   "metadata": {
    "collapsed": false
   }
  },
  {
   "cell_type": "code",
   "execution_count": null,
   "outputs": [],
   "source": [
    "ihdp_results[2]"
   ],
   "metadata": {
    "collapsed": false
   }
  },
  {
   "cell_type": "code",
   "execution_count": null,
   "outputs": [],
   "source": [
    "# open\n",
    "# LOAD JSON FILE\n",
    "file_name = \"results_ihdp_no_cross.json\"\n",
    "f = open(file_name, 'r')\n",
    "json_str = f.read()\n",
    "ihdp_results_no_cross = jsonpickle.decode(json_str)"
   ],
   "metadata": {
    "collapsed": false
   }
  },
  {
   "cell_type": "code",
   "execution_count": null,
   "outputs": [],
   "source": [
    "ihdp_results_no_cross[2]"
   ],
   "metadata": {
    "collapsed": false
   }
  },
  {
   "cell_type": "code",
   "execution_count": null,
   "outputs": [],
   "source": [
    "# better than cross-fitting"
   ],
   "metadata": {
    "collapsed": false
   }
  },
  {
   "cell_type": "code",
   "execution_count": null,
   "outputs": [],
   "source": [
    "# open\n",
    "# LOAD JSON FILE\n",
    "file_name = \"results_ihdp_no_cross_.json\"\n",
    "f = open(file_name, 'r')\n",
    "json_str = f.read()\n",
    "ihdp_results_no_cross_ = jsonpickle.decode(json_str)"
   ],
   "metadata": {
    "collapsed": false
   }
  },
  {
   "cell_type": "code",
   "execution_count": null,
   "outputs": [],
   "source": [
    "ihdp_results_no_cross_[2]"
   ],
   "metadata": {
    "collapsed": false
   }
  },
  {
   "cell_type": "code",
   "execution_count": null,
   "outputs": [],
   "source": [
    "# open\n",
    "# LOAD JSON FILE\n",
    "file_name = \"results_ihdp_no_cross_.json\"\n",
    "f = open(file_name, 'r')\n",
    "json_str = f.read()\n",
    "ihdp_results_no_cross_ = jsonpickle.decode(json_str)"
   ],
   "metadata": {
    "collapsed": false
   }
  },
  {
   "cell_type": "code",
   "execution_count": null,
   "outputs": [],
   "source": [
    "ihdp_results_no_cross_[0]"
   ],
   "metadata": {
    "collapsed": false
   }
  },
  {
   "cell_type": "code",
   "execution_count": null,
   "outputs": [],
   "source": [
    "# open\n",
    "# LOAD JSON FILE\n",
    "file_name = \"/Users/arberimbibaj/results_ihdp_1e-0.json\"\n",
    "f = open(file_name, 'r')\n",
    "json_str = f.read()\n",
    "ihdp_results_1 = jsonpickle.decode(json_str)"
   ],
   "metadata": {
    "collapsed": false
   }
  },
  {
   "cell_type": "code",
   "execution_count": null,
   "outputs": [],
   "source": [
    "ihdp_results_1[2]"
   ],
   "metadata": {
    "collapsed": false
   }
  },
  {
   "cell_type": "code",
   "execution_count": null,
   "outputs": [],
   "source": [
    "# open\n",
    "# LOAD JSON FILE\n",
    "file_name = \"/Users/arberimbibaj/results_ihdp_1e-4.json\"\n",
    "f = open(file_name, 'r')\n",
    "json_str = f.read()\n",
    "ihdp_results_4 = jsonpickle.decode(json_str)"
   ],
   "metadata": {
    "collapsed": false
   }
  },
  {
   "cell_type": "code",
   "execution_count": null,
   "outputs": [],
   "source": [
    "ihdp_results_4[2]"
   ],
   "metadata": {
    "collapsed": false
   }
  },
  {
   "cell_type": "code",
   "execution_count": null,
   "outputs": [],
   "source": [
    "# open\n",
    "# LOAD JSON FILE\n",
    "file_name = \"/Users/arberimbibaj/results_ihdp_1e-2.json\"\n",
    "f = open(file_name, 'r')\n",
    "json_str = f.read()\n",
    "ihdp_results_2 = jsonpickle.decode(json_str)"
   ],
   "metadata": {
    "collapsed": false
   }
  },
  {
   "cell_type": "code",
   "execution_count": null,
   "outputs": [],
   "source": [
    "ihdp_results_2[2]"
   ],
   "metadata": {
    "collapsed": false
   }
  },
  {
   "cell_type": "code",
   "execution_count": null,
   "outputs": [],
   "source": [
    "# open\n",
    "# LOAD JSON FILE\n",
    "file_name = \"/Users/arberimbibaj/results_ihdp_1e-3.json\"\n",
    "f = open(file_name, 'r')\n",
    "json_str = f.read()\n",
    "ihdp_results_3 = jsonpickle.decode(json_str)"
   ],
   "metadata": {
    "collapsed": false
   }
  },
  {
   "cell_type": "code",
   "execution_count": null,
   "outputs": [],
   "source": [
    "# open\n",
    "# LOAD JSON FILE\n",
    "file_name = \"/Users/arberimbibaj/results_setup_1_old.json\"\n",
    "f = open(file_name, 'r')\n",
    "json_str = f.read()\n",
    "results_1 = jsonpickle.decode(json_str)"
   ],
   "metadata": {
    "collapsed": false
   }
  },
  {
   "cell_type": "code",
   "execution_count": null,
   "outputs": [],
   "source": [
    "rf_results = results_1[0].flatten('F')[:, np.newaxis]\n",
    "lm_results = results_1[1].flatten('F')[:, np.newaxis]\n",
    "nn_results = results_1[2].flatten('F')[:, np.newaxis]"
   ],
   "metadata": {
    "collapsed": false
   }
  },
  {
   "cell_type": "code",
   "execution_count": null,
   "outputs": [],
   "source": [
    "all_results = np.concatenate((rf_results, lm_results, nn_results))\n",
    "all_results"
   ],
   "metadata": {
    "collapsed": false
   }
  },
  {
   "cell_type": "code",
   "execution_count": null,
   "outputs": [],
   "source": [
    "metalearner_names = ['T-Learner', 'S-Learner', 'X-Learner', 'R-Leaner', 'DR-Learner', 'RA-Leaner', 'PW-Leaner',\n",
    "                     'U-Learner']"
   ],
   "metadata": {
    "collapsed": false
   }
  },
  {
   "cell_type": "code",
   "execution_count": null,
   "outputs": [],
   "source": [
    "metalearner_names = np.repeat(metalearner_names, 40)\n",
    "metalearner_names = np.tile(metalearner_names, 3)"
   ],
   "metadata": {
    "collapsed": false
   }
  },
  {
   "cell_type": "code",
   "execution_count": null,
   "outputs": [],
   "source": [
    "metalearner_names"
   ],
   "metadata": {
    "collapsed": false
   }
  },
  {
   "cell_type": "code",
   "execution_count": null,
   "outputs": [],
   "source": [
    "metas = np.array(metalearner_names)[:, np.newaxis]"
   ],
   "metadata": {
    "collapsed": false
   }
  },
  {
   "cell_type": "code",
   "execution_count": null,
   "outputs": [],
   "source": [
    "metas"
   ],
   "metadata": {
    "collapsed": false
   }
  },
  {
   "cell_type": "code",
   "execution_count": 13,
   "outputs": [
    {
     "data": {
      "text/plain": "<Figure size 640x480 with 1 Axes>",
      "image/png": "[encoded data removed]"
     },
     "metadata": {},
     "output_type": "display_data"
    }
   ],
   "source": [
    "first_plot = sns.lineplot(data=data, x=\"size\", y=\"mse\", hue=\"metalearner\", estimator=\"mean\", errorbar=None, marker='o')"
   ],
   "metadata": {
    "collapsed": false,
    "ExecuteTime": {
     "end_time": "2023-07-31T00:04:03.860797Z",
     "start_time": "2023-07-31T00:04:03.742247Z"
    }
   }
  },
  {
   "cell_type": "code",
   "execution_count": 43,
   "outputs": [],
   "source": [
    "hue_order = [\"T-Learner\", \"S-Learner\", \"X-Learner\", \"R-Leaner\", \"DR-Learner\", \"RA-Leaner\", \"PW-Leaner\",\n",
    "             \"U-Learner\"]\n",
    "col_order = [\"random forest\", \"linear models\", \"neural network\"]\n",
    "sns.set_style(\"whitegrid\")"
   ],
   "metadata": {
    "collapsed": false,
    "ExecuteTime": {
     "end_time": "2023-07-31T00:19:26.724531Z",
     "start_time": "2023-07-31T00:19:26.709315Z"
    }
   }
  },
  {
   "cell_type": "code",
   "execution_count": 44,
   "outputs": [
    {
     "data": {
      "text/plain": "<seaborn.axisgrid.FacetGrid at 0x2ca140970>"
     },
     "execution_count": 44,
     "metadata": {},
     "output_type": "execute_result"
    },
    {
     "data": {
      "text/plain": "<Figure size 1022.75x300 with 3 Axes>",
      "image/png": "[encoded data removed]"
     },
     "metadata": {},
     "output_type": "display_data"
    }
   ],
   "source": [
    "g = sns.FacetGrid(data, col=\"baselearner\", sharey=False,\n",
    "                  col_order=col_order)\n",
    "g.map(sns.lineplot, \"size\", \"mse\", \"metalearner\", errorbar=None, estimator=\"mean\", marker=\"o\", hue_order=hue_order)\n",
    "g.set_axis_labels(\"sample size\", \"Mean MSE\")\n",
    "g.set_titles(col_template=\" base learner = {col_name} \")\n",
    "g.add_legend()"
   ],
   "metadata": {
    "collapsed": false,
    "ExecuteTime": {
     "end_time": "2023-07-31T00:19:28.457579Z",
     "start_time": "2023-07-31T00:19:27.963796Z"
    }
   }
  },
  {
   "cell_type": "code",
   "execution_count": 32,
   "outputs": [],
   "source": [
    "g.savefig(\"color_bright.png\", dpi=1200)"
   ],
   "metadata": {
    "collapsed": false,
    "ExecuteTime": {
     "end_time": "2023-07-31T00:14:31.412032Z",
     "start_time": "2023-07-31T00:14:29.941387Z"
    }
   }
  },
  {
   "cell_type": "code",
   "execution_count": null,
   "outputs": [],
   "source": [
    "g.savefig(\"first_setup.eps\", format='eps')  # for latex"
   ],
   "metadata": {
    "collapsed": false
   }
  }
 ],
 "metadata": {
  "kernelspec": {
   "display_name": "Python 3",
   "language": "python",
   "name": "python3"
  },
  "language_info": {
   "codemirror_mode": {
    "name": "ipython",
    "version": 2
   },
   "file_extension": ".py",
   "mimetype": "text/x-python",
   "name": "python",
   "nbconvert_exporter": "python",
   "pygments_lexer": "ipython2",
   "version": "2.7.6"
  }
 },
 "nbformat": 4,
 "nbformat_minor": 0
}
