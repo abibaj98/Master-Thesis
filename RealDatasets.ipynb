{
 "cells": [
  {
   "cell_type": "code",
   "execution_count": null,
   "metadata": {
    "collapsed": true
   },
   "outputs": [],
   "source": [
    "# import packages\n",
    "\n",
    "import numpy as np\n",
    "from numpy import random\n",
    "from numpy import load\n",
    "\n",
    "from scipy import stats\n",
    "import pandas as pd\n",
    "import copy\n",
    "import matplotlib.pyplot as plt\n",
    "\n"
   ]
  },
  {
   "cell_type": "markdown",
   "source": [
    "# IHDP Dataset (from Fredjo.com)"
   ],
   "metadata": {
    "collapsed": false
   }
  },
  {
   "cell_type": "code",
   "execution_count": null,
   "outputs": [],
   "source": [
    "# IHDP-100 (train), IHDP-100 (test) are 100 realizations of the IHDP dataset as used in Shalit, J, Sontag, ICML, 2017.\n",
    "\n",
    "\n",
    "# Variables in the .npz x, t, yf, ycf, mu0, mu1 are:\n",
    "# covariates, treatment, factual outcome, counterfactual outcome, and noiseless potential outcomes respectively.\n",
    "ihdp_realisations = 100"
   ],
   "metadata": {
    "collapsed": false
   }
  },
  {
   "cell_type": "code",
   "execution_count": null,
   "outputs": [],
   "source": [
    "# 100 realisations of IHDP train set (672 units)\n",
    "ihdp_train = load('/Users/arberimbibaj/Downloads/ihdp_npci_1-100.train.npz')\n",
    "files_train = ihdp_train.files\n",
    "files_train"
   ],
   "metadata": {
    "collapsed": false
   }
  },
  {
   "cell_type": "code",
   "execution_count": null,
   "outputs": [],
   "source": [
    "# 100 realisations of IHDP test set (72 units)\n",
    "ihdp_test = load('/Users/arberimbibaj/Downloads/ihdp_npci_1-100.test.npz')\n",
    "files_test = ihdp_test.files\n",
    "files_test"
   ],
   "metadata": {
    "collapsed": false
   }
  },
  {
   "cell_type": "code",
   "execution_count": null,
   "outputs": [],
   "source": [
    "# for example\n",
    "ihdp_train['ate'] # 4 is the ATE (Average Treatment Effect)"
   ],
   "metadata": {
    "collapsed": false
   }
  },
  {
   "cell_type": "code",
   "execution_count": null,
   "outputs": [],
   "source": [
    "ihdp_train['mu1'] # 672 * 100 matrix,"
   ],
   "metadata": {
    "collapsed": false
   }
  },
  {
   "cell_type": "code",
   "execution_count": null,
   "outputs": [],
   "source": [
    "ihdp_train['mu0'] # 672 * 100 matrix"
   ],
   "metadata": {
    "collapsed": false
   }
  },
  {
   "cell_type": "code",
   "execution_count": null,
   "outputs": [],
   "source": [
    "75 + 672"
   ],
   "metadata": {
    "collapsed": false
   }
  },
  {
   "cell_type": "code",
   "execution_count": null,
   "outputs": [],
   "source": [
    "ihdp_test['mu0']"
   ],
   "metadata": {
    "collapsed": false
   }
  },
  {
   "cell_type": "code",
   "execution_count": null,
   "outputs": [],
   "source": [
    "ihdp_train['yadd'] # it is a 0, TODO: what does that mean ???"
   ],
   "metadata": {
    "collapsed": false
   }
  },
  {
   "cell_type": "code",
   "execution_count": null,
   "outputs": [],
   "source": [
    "ihdp_train['yf'] # 672 * 100, y_factuals"
   ],
   "metadata": {
    "collapsed": false
   }
  },
  {
   "cell_type": "code",
   "execution_count": null,
   "outputs": [],
   "source": [
    "ihdp_train['ycf']"
   ],
   "metadata": {
    "collapsed": false
   }
  },
  {
   "cell_type": "code",
   "execution_count": null,
   "outputs": [],
   "source": [
    "ihdp_train['t'] # 672 * 100, treatment assigment"
   ],
   "metadata": {
    "collapsed": false
   }
  },
  {
   "cell_type": "code",
   "execution_count": null,
   "outputs": [],
   "source": [
    "ihdp_train['ymul'] # it is = 1, TODO: what does that mean ???"
   ],
   "metadata": {
    "collapsed": false
   }
  },
  {
   "cell_type": "code",
   "execution_count": null,
   "outputs": [],
   "source": [
    "ihdp_train['x'][:,0][:,0] # X1 for all units, 100 realisations"
   ],
   "metadata": {
    "collapsed": false
   }
  },
  {
   "cell_type": "code",
   "execution_count": null,
   "outputs": [],
   "source": [
    "# cate per realisation\n",
    "ihdp_train['mu1'] - ihdp_train['mu0']"
   ],
   "metadata": {
    "collapsed": false
   }
  },
  {
   "cell_type": "code",
   "execution_count": null,
   "outputs": [],
   "source": [
    "len(ihdp_train['x']) # 672 units (observations) in train set"
   ],
   "metadata": {
    "collapsed": false
   }
  },
  {
   "cell_type": "code",
   "execution_count": null,
   "outputs": [],
   "source": [
    "ihdp_train['x'][671,24] # 25 rows --> the 25 features"
   ],
   "metadata": {
    "collapsed": false
   }
  },
  {
   "cell_type": "code",
   "execution_count": null,
   "outputs": [],
   "source": [
    "ihdp_train['x'][0]"
   ],
   "metadata": {
    "collapsed": false
   }
  },
  {
   "cell_type": "markdown",
   "source": [
    "make it the same as synthetic data"
   ],
   "metadata": {
    "collapsed": false
   }
  },
  {
   "cell_type": "code",
   "execution_count": null,
   "outputs": [],
   "source": [
    "# This will be all the \"datasets\", i.e. all simulation setups * simulation runs\n",
    "ihdp_train_processed = []\n",
    "ihdp_train_x = []\n",
    "for i in range(ihdp_realisations):\n",
    "    ihdp_train_processed.append([])\n",
    "    ihdp_train_x.append([])"
   ],
   "metadata": {
    "collapsed": false
   }
  },
  {
   "cell_type": "code",
   "execution_count": null,
   "outputs": [],
   "source": [
    "# y_factual, x, treatment, tau\n",
    "ihdp_train_tau = ihdp_train['mu1'] - ihdp_train['mu0']\n",
    "ihdp_train_tau"
   ],
   "metadata": {
    "collapsed": false
   }
  },
  {
   "cell_type": "code",
   "execution_count": null,
   "outputs": [],
   "source": [
    "# pre-process x --> make it a list, each entry beeing one realisation, containing all features\n",
    "for i in range(ihdp_realisations):\n",
    "    realisation = np.zeros(shape=(672,25))\n",
    "    for n in range(672):\n",
    "        realisation[n,:] = ihdp_train['x'][n][:,i][:,np.newaxis].T\n",
    "    ihdp_train_x[i] = realisation"
   ],
   "metadata": {
    "collapsed": false
   }
  },
  {
   "cell_type": "code",
   "execution_count": null,
   "outputs": [],
   "source": [
    "# concatenate [y, x, t, tau]\n",
    "for i in range(ihdp_realisations):\n",
    "    temporary_set = np.concatenate((np.expand_dims(ihdp_train['yf'][:, i], axis=1)\n",
    ", ihdp_train_x[i], np.expand_dims(ihdp_train['t'][:,i], axis=1), np.expand_dims(ihdp_train_tau[:,i], axis=1)), axis=1)\n",
    "    ihdp_train_processed[i] = temporary_set\n",
    "\n",
    "ihdp_train_processed"
   ],
   "metadata": {
    "collapsed": false
   }
  },
  {
   "cell_type": "code",
   "execution_count": null,
   "outputs": [],
   "source": [
    "# save the proscessed training data\n",
    "np.save('/Users/arberimbibaj/Documents/Master Thesis ETH/DataSets /IHDP',ihdp_train_processed)"
   ],
   "metadata": {
    "collapsed": false
   }
  },
  {
   "cell_type": "code",
   "execution_count": null,
   "outputs": [],
   "source": [
    "# load check\n",
    "train = load('/Users/arberimbibaj/Documents/Master Thesis ETH/DataSets /IHDP/ihdp_train_processed.npy')\n",
    "train[0]"
   ],
   "metadata": {
    "collapsed": false
   }
  },
  {
   "cell_type": "code",
   "execution_count": null,
   "outputs": [],
   "source": [
    "np.corrcoef(np.transpose(train[0]))"
   ],
   "metadata": {
    "collapsed": false
   }
  },
  {
   "cell_type": "code",
   "execution_count": null,
   "outputs": [],
   "source": [
    "train[2]"
   ],
   "metadata": {
    "collapsed": false
   }
  },
  {
   "cell_type": "markdown",
   "source": [
    "# same with test set"
   ],
   "metadata": {
    "collapsed": false
   }
  },
  {
   "cell_type": "code",
   "execution_count": null,
   "outputs": [],
   "source": [
    "# This will be all the \"datasets\", i.e. all simulation setups * simulation runs\n",
    "ihdp_test_processed = []\n",
    "ihdp_test_x = []\n",
    "for i in range(ihdp_realisations):\n",
    "    ihdp_test_processed.append([])\n",
    "    ihdp_test_x.append([])"
   ],
   "metadata": {
    "collapsed": false
   }
  },
  {
   "cell_type": "code",
   "execution_count": null,
   "outputs": [],
   "source": [
    "# y_factual, x, treatment, tau\n",
    "ihdp_test_tau = ihdp_test['mu1'] - ihdp_test['mu0']\n",
    "ihdp_test_tau"
   ],
   "metadata": {
    "collapsed": false
   }
  },
  {
   "cell_type": "code",
   "execution_count": null,
   "outputs": [],
   "source": [
    "# pre-process x --> make it a list, each entry beeing one realisation, containing all features\n",
    "for i in range(ihdp_realisations):\n",
    "    realisation = np.zeros(shape=(75,25))\n",
    "    for n in range(75):\n",
    "        realisation[n,:] = ihdp_test['x'][n][:,i][:,np.newaxis].T\n",
    "    ihdp_test_x[i] = realisation"
   ],
   "metadata": {
    "collapsed": false
   }
  },
  {
   "cell_type": "code",
   "execution_count": null,
   "outputs": [],
   "source": [
    "# concatenate [y, x, t, tau]\n",
    "for i in range(ihdp_realisations):\n",
    "    temporary_set = np.concatenate((np.expand_dims(ihdp_test['yf'][:, i], axis=1)\n",
    ", ihdp_test_x[i], np.expand_dims(ihdp_test['t'][:,i], axis=1), np.expand_dims(ihdp_test_tau[:,i], axis=1)), axis=1)\n",
    "    ihdp_test_processed[i] = temporary_set\n",
    "\n",
    "ihdp_test_processed[0]"
   ],
   "metadata": {
    "collapsed": false
   }
  },
  {
   "cell_type": "code",
   "execution_count": null,
   "outputs": [],
   "source": [
    "# save the processed testing data\n",
    "np.save('/Users/arberimbibaj/Documents/Master Thesis ETH/DataSets /IHDP/ihdp_test_processed',ihdp_test_processed)"
   ],
   "metadata": {
    "collapsed": false
   }
  },
  {
   "cell_type": "code",
   "execution_count": null,
   "outputs": [],
   "source": [
    "# load check\n",
    "test = load('/Users/arberimbibaj/Documents/Master Thesis ETH/DataSets /IHDP/ihdp_test_processed.npy')\n",
    "pd.DataFrame(test[0][:,27]).describe() # the taus are very differently distributed over the realisations"
   ],
   "metadata": {
    "collapsed": false
   }
  },
  {
   "cell_type": "code",
   "execution_count": null,
   "outputs": [],
   "source": [
    "test[0]"
   ],
   "metadata": {
    "collapsed": false
   }
  }
 ],
 "metadata": {
  "kernelspec": {
   "display_name": "Python 3",
   "language": "python",
   "name": "python3"
  },
  "language_info": {
   "codemirror_mode": {
    "name": "ipython",
    "version": 2
   },
   "file_extension": ".py",
   "mimetype": "text/x-python",
   "name": "python",
   "nbconvert_exporter": "python",
   "pygments_lexer": "ipython2",
   "version": "2.7.6"
  }
 },
 "nbformat": 4,
 "nbformat_minor": 0
}
